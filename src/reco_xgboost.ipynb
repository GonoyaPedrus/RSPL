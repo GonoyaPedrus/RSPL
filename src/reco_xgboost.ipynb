{
 "nbformat": 4,
 "nbformat_minor": 0,
 "metadata": {
  "colab": {
   "provenance": []
  },
  "kernelspec": {
   "name": "python3",
   "display_name": "Python 3"
  },
  "language_info": {
   "name": "python"
  }
 },
 "cells": [
  {
   "cell_type": "markdown",
   "source": [
    "xgboost total points"
   ],
   "metadata": {
    "id": "j87v9vHHalBS"
   }
  },
  {
   "cell_type": "code",
   "execution_count": 1,
   "metadata": {
    "id": "TwfZcjyNafnt"
   },
   "outputs": [],
   "source": [
    "import pandas as pd\n",
    "from sklearn.model_selection import train_test_split\n",
    "import xgboost as xgb\n",
    "from sklearn.metrics import mean_squared_error\n",
    "from sklearn.metrics import r2_score\n",
    "from sklearn.model_selection import cross_val_score\n",
    "from sklearn.metrics import mean_absolute_error"
   ]
  },
  {
   "cell_type": "code",
   "source": [
    "data = pd.read_csv(\"cleaned_merged_seasons.csv\")"
   ],
   "metadata": {
    "colab": {
     "base_uri": "https://localhost:8080/"
    },
    "id": "_6Gkt76bcCIm",
    "outputId": "b0f92e85-0ae9-46b9-e596-94aa0d4ca47d"
   },
   "execution_count": 2,
   "outputs": [
    {
     "output_type": "stream",
     "name": "stderr",
     "text": [
      "<ipython-input-2-ce1e41c9b2f4>:1: DtypeWarning: Columns (3) have mixed types. Specify dtype option on import or set low_memory=False.\n",
      "  data = pd.read_csv(\"cleaned_merged_seasons.csv\")\n"
     ]
    }
   ]
  },
  {
   "cell_type": "code",
   "source": [
    "print(data.head())"
   ],
   "metadata": {
    "colab": {
     "base_uri": "https://localhost:8080/"
    },
    "id": "sCj6PZrmdAXP",
    "outputId": "a2ef29be-bb1e-448f-e6c3-9b4993b85620"
   },
   "execution_count": 3,
   "outputs": [
    {
     "output_type": "stream",
     "name": "stdout",
     "text": [
      "  season_x                name position team_x  assists  bonus  bps  \\\n",
      "0  2016-17     Aaron Cresswell      DEF    NaN        0      0    0   \n",
      "1  2016-17        Aaron Lennon      MID    NaN        0      0    6   \n",
      "2  2016-17        Aaron Ramsey      MID    NaN        0      0    5   \n",
      "3  2016-17  Abdoulaye Doucouré      MID    NaN        0      0    0   \n",
      "4  2016-17        Adam Forshaw      MID    NaN        0      0    3   \n",
      "\n",
      "   clean_sheets  creativity  element  ...  team_h_score  threat  total_points  \\\n",
      "0             0         0.0      454  ...           2.0     0.0             0   \n",
      "1             0         0.3      142  ...           1.0     0.0             1   \n",
      "2             0         4.9       16  ...           3.0    23.0             2   \n",
      "3             0         0.0      482  ...           1.0     0.0             0   \n",
      "4             0         1.3      286  ...           1.0     0.0             1   \n",
      "\n",
      "   transfers_balance  transfers_in transfers_out  value  was_home  \\\n",
      "0                  0             0             0     55     False   \n",
      "1                  0             0             0     60      True   \n",
      "2                  0             0             0     80      True   \n",
      "3                  0             0             0     50     False   \n",
      "4                  0             0             0     45      True   \n",
      "\n",
      "  yellow_cards  GW  \n",
      "0            0   1  \n",
      "1            0   1  \n",
      "2            0   1  \n",
      "3            0   1  \n",
      "4            1   1  \n",
      "\n",
      "[5 rows x 37 columns]\n"
     ]
    }
   ]
  },
  {
   "cell_type": "code",
   "source": [
    "# valeurs manquantes\n",
    "data = data.dropna(subset=['team_x'])\n",
    "\n",
    "# Normalise\n",
    "features_to_normalize = [\"creativity\", \"ict_index\", \"influence\", \"threat\"]\n",
    "data[features_to_normalize] = data[features_to_normalize].apply(lambda x: (x - x.min()) / (x.max() - x.min()))\n",
    "\n",
    "# Encode\n",
    "data_encoded = pd.get_dummies(data, columns=[\"season_x\", \"position\", \"team_x\", \"kickoff_time\", \"opp_team_name\"], drop_first=True)\n",
    "\n",
    "# data type int\n",
    "data_encoded['was_home'] = data_encoded['was_home'].astype(int)\n",
    "\n",
    "# Retirer la colonne \"name\"\n",
    "player_names = data_encoded['name'].reset_index(drop=True)\n",
    "data_encoded = data_encoded.drop('name', axis=1)"
   ],
   "metadata": {
    "colab": {
     "base_uri": "https://localhost:8080/"
    },
    "id": "sGZmcyTieSLr",
    "outputId": "0eeacd9f-42fc-4732-f0c3-c2a90dc1d944"
   },
   "execution_count": 4,
   "outputs": [
    {
     "output_type": "stream",
     "name": "stderr",
     "text": [
      "<ipython-input-4-d8dac73b6c8b>:6: SettingWithCopyWarning: \n",
      "A value is trying to be set on a copy of a slice from a DataFrame.\n",
      "Try using .loc[row_indexer,col_indexer] = value instead\n",
      "\n",
      "See the caveats in the documentation: https://pandas.pydata.org/pandas-docs/stable/user_guide/indexing.html#returning-a-view-versus-a-copy\n",
      "  data[features_to_normalize] = data[features_to_normalize].apply(lambda x: (x - x.min()) / (x.max() - x.min()))\n"
     ]
    }
   ]
  },
  {
   "cell_type": "code",
   "source": [
    "print(player_names)"
   ],
   "metadata": {
    "colab": {
     "base_uri": "https://localhost:8080/"
    },
    "id": "nTLUOONdeYt1",
    "outputId": "1f641866-90dc-484c-d38f-c7a813640254"
   },
   "execution_count": 5,
   "outputs": [
    {
     "output_type": "stream",
     "name": "stdout",
     "text": [
      "0                  Aaron Connolly\n",
      "1                 Aaron Cresswell\n",
      "2                      Aaron Mooy\n",
      "3                  Aaron Ramsdale\n",
      "4              Abdoulaye Doucouré\n",
      "                   ...           \n",
      "76312                Oliver Skipp\n",
      "76313              Ryan Sessegnon\n",
      "76314                Ashley Young\n",
      "76315    Jeremy Sarmiento Morante\n",
      "76316              Philip Billing\n",
      "Name: name, Length: 76317, dtype: object\n"
     ]
    }
   ]
  },
  {
   "cell_type": "code",
   "source": [
    "# features (X) et cible (y)\n",
    "X = data_encoded.copy()\n",
    "\n",
    "# Ajouter les colonnes 'team_x' et 'position' à X\n",
    "columns_to_add = ['team_x', 'position']\n",
    "if all(col in data_encoded.columns for col in columns_to_add):\n",
    "    X[columns_to_add] = data_encoded[columns_to_add]\n",
    "\n",
    "# Supprimer la colonne 'total_points' de X\n",
    "X = X.drop('total_points', axis=1)\n",
    "\n",
    "# Cible (y)\n",
    "y = data_encoded['total_points']"
   ],
   "metadata": {
    "id": "pzm8x_yXemfT"
   },
   "execution_count": 6,
   "outputs": []
  },
  {
   "cell_type": "code",
   "source": [
    "X_train, X_test, y_train, y_test, player_names_train, player_names_test = train_test_split(X, y, player_names, test_size=0.2, random_state=42)\n"
   ],
   "metadata": {
    "id": "6h3C0LNserVb"
   },
   "execution_count": 7,
   "outputs": []
  },
  {
   "cell_type": "code",
   "source": [
    "import xgboost as xgb\n",
    "from xgboost import XGBRegressor\n",
    "from sklearn.model_selection import cross_val_score\n",
    "import numpy as np\n",
    "\n",
    "# Définir les paramètres du modèle XGBoost\n",
    "params = {\n",
    "    'objective': 'reg:squarederror',\n",
    "    'max_depth': 3,\n",
    "    'learning_rate': 0.1,\n",
    "    'n_estimators': 100,\n",
    "    'subsample': 0.8,\n",
    "    'colsample_bytree': 0.8,\n",
    "    'eval_metric': 'rmse'\n",
    "}\n",
    "\n",
    "# Créer un modèle XGBoost compatible avec scikit-learn\n",
    "xgb_model = XGBRegressor(**params)\n",
    "\n",
    "# Utiliser cross_val_score pour effectuer une validation croisée\n",
    "cv_scores = cross_val_score(xgb_model, X_train, y_train, cv=5, scoring='neg_mean_squared_error')\n",
    "\n",
    "# Convertir les scores en MSE positif (puisque scikit-learn renvoie le négatif de MSE)\n",
    "cv_scores = -cv_scores\n",
    "\n",
    "# Afficher les résultats de la validation croisée\n",
    "print(\"Cross-validated MSE scores:\", cv_scores)\n",
    "print(\"Mean MSE:\", np.mean(cv_scores))\n"
   ],
   "metadata": {
    "colab": {
     "base_uri": "https://localhost:8080/"
    },
    "id": "SInymRt9euDp",
    "outputId": "5ce7bdfb-a85d-45f7-ec75-f9a6ba915884"
   },
   "execution_count": 13,
   "outputs": [
    {
     "output_type": "stream",
     "name": "stdout",
     "text": [
      "Cross-validated MSE scores: [0.10744126 0.12599157 0.11981205 0.10873473 0.11639207]\n",
      "Mean MSE: 0.11567433737002156\n"
     ]
    }
   ]
  },
  {
   "cell_type": "code",
   "source": [
    "# Convertir les données en format XGBoost DMatrix\n",
    "dtrain = xgb.DMatrix(X_train, label=y_train)\n",
    "dtest = xgb.DMatrix(X_test, label=y_test)\n",
    "\n",
    "# Définir les paramètres du modèle XGBoost\n",
    "params = {\n",
    "    'objective': 'reg:squarederror',  # Regression task\n",
    "    'max_depth': 3,                    # Profondeur maximale de l'arbre\n",
    "    'learning_rate': 0.1,              # Taux d'apprentissage\n",
    "    'n_estimators': 100,               # Nombre d'arbres à construire\n",
    "    'subsample': 0.8,                  # Sous-échantillonnage des lignes\n",
    "    'colsample_bytree': 0.8,           # Sous-échantillonnage des colonnes\n",
    "    'eval_metric': 'rmse'              # Métrique d'évaluation (Root Mean Squared Error)\n",
    "}\n",
    "\n",
    "# Entraîner le modèle XGBoost\n",
    "model = xgb.train(params, dtrain, num_boost_round=1000, evals=[(dtest, 'test')], early_stopping_rounds=50, verbose_eval=False)\n",
    "\n",
    "# Faire des prédictions sur l'ensemble de test\n",
    "y_pred = model.predict(dtest)\n",
    "\n",
    "# Évaluer les performances du modèle\n",
    "mse = mean_squared_error(y_test, y_pred)\n",
    "mae = mean_absolute_error(y_test, y_pred)\n",
    "r2 = r2_score(y_test, y_pred)\n",
    "\n",
    "print(f\"Mean Squared Error: {mse}\")\n",
    "print(f\"Mean Absolute Error: {mae}\")\n",
    "print(f\"R-squared: {r2}\")\n"
   ],
   "metadata": {
    "colab": {
     "base_uri": "https://localhost:8080/"
    },
    "id": "kT_8SLseli2m",
    "outputId": "733b58cc-b37f-4c26-eae0-bfb47b9587d6"
   },
   "execution_count": 14,
   "outputs": [
    {
     "output_type": "stream",
     "name": "stderr",
     "text": [
      "/usr/local/lib/python3.10/dist-packages/xgboost/core.py:160: UserWarning: [13:06:53] WARNING: /workspace/src/learner.cc:742: \n",
      "Parameters: { \"n_estimators\" } are not used.\n",
      "\n",
      "  warnings.warn(smsg, UserWarning)\n"
     ]
    },
    {
     "output_type": "stream",
     "name": "stdout",
     "text": [
      "Mean Squared Error: 0.012750229131956182\n",
      "Mean Absolute Error: 0.039426968431273086\n",
      "R-squared: 0.9978401455923648\n"
     ]
    }
   ]
  },
  {
   "cell_type": "code",
   "source": [
    "player_names_test = player_names_test.reset_index(drop=True)\n",
    "\n",
    "results_df = pd.DataFrame({'Name': player_names_test, 'Predicted_Total_Points': y_pred})\n",
    "\n",
    "print(results_df)"
   ],
   "metadata": {
    "colab": {
     "base_uri": "https://localhost:8080/"
    },
    "id": "pjnyzhitf6Q-",
    "outputId": "04159717-b78a-4d36-b9c3-0b3cc8cdd548"
   },
   "execution_count": 15,
   "outputs": [
    {
     "output_type": "stream",
     "name": "stdout",
     "text": [
      "                    Name  Predicted_Total_Points\n",
      "0           Daniel James                1.011807\n",
      "1           Nicolas Pépé                2.046713\n",
      "2             Sam Waller                0.000013\n",
      "3             Bernd Leno                0.000662\n",
      "4       Ezri Konsa Ngoyo                6.020627\n",
      "...                  ...                     ...\n",
      "15259  Aaron Wan-Bissaka               -0.000852\n",
      "15260       Divock Origi               -0.000398\n",
      "15261   Joseph Whitworth                0.000013\n",
      "15262       Alex Mighten                0.002789\n",
      "15263  Christian Pulisic                4.917779\n",
      "\n",
      "[15264 rows x 2 columns]\n"
     ]
    }
   ]
  }
 ]
}
