{
 "cells": [
  {
   "cell_type": "markdown",
   "metadata": {},
   "source": [
    "# Système de recommandation Pierre"
   ]
  },
  {
   "cell_type": "code",
   "execution_count": 1,
   "metadata": {},
   "outputs": [
    {
     "name": "stdout",
     "output_type": "stream",
     "text": [
      "Collecting pulp==1.6.8\n",
      "  Downloading https://files.pythonhosted.org/packages/b5/87/71293d89377341551f2f331d259c0b7e7324b60ce37c597d0a42f0ebc18d/PuLP-1.6.8.tar.gz (13.5MB)\n",
      "Collecting pyparsing>=2.0.1 (from pulp==1.6.8)\n",
      "  Using cached https://files.pythonhosted.org/packages/39/92/8486ede85fcc088f1b3dba4ce92dd29d126fd96b0008ea213167940a2475/pyparsing-3.1.1-py3-none-any.whl\n",
      "Building wheels for collected packages: pulp\n",
      "  Building wheel for pulp (setup.py): started\n",
      "  Building wheel for pulp (setup.py): finished with status 'done'\n",
      "  Stored in directory: C:\\Users\\bourd\\AppData\\Local\\pip\\Cache\\wheels\\cd\\1a\\23\\d1947610005912274e128267c5ed1bcc1fe6dece9f2d4d1c84\n",
      "Successfully built pulp\n",
      "Installing collected packages: pyparsing, pulp\n",
      "Successfully installed pulp-1.6.8 pyparsing-3.1.1\n"
     ]
    }
   ],
   "source": [
    "!pip install -Iv pulp==1.6.8 --quiet"
   ]
  },
  {
   "cell_type": "code",
   "execution_count": 3,
   "metadata": {},
   "outputs": [
    {
     "name": "stdout",
     "output_type": "stream",
     "text": [
      "Collecting xgboost\n",
      "  Downloading https://files.pythonhosted.org/packages/24/14/d9ecb9fa86727f51bfb35f1c2b0428ebc6cd5ffde24c5e2dc583d3575a6f/xgboost-1.6.2-py3-none-win_amd64.whl (125.4MB)\n",
      "Requirement already satisfied: scipy in c:\\users\\bourd\\anaconda3\\lib\\site-packages (from xgboost) (1.2.1)\n",
      "Requirement already satisfied: numpy in c:\\users\\bourd\\anaconda3\\lib\\site-packages (from xgboost) (1.21.6)\n",
      "Installing collected packages: xgboost\n",
      "Successfully installed xgboost-1.6.2\n"
     ]
    }
   ],
   "source": [
    "!pip install xgboost"
   ]
  },
  {
   "cell_type": "code",
   "execution_count": 5,
   "metadata": {},
   "outputs": [
    {
     "name": "stdout",
     "output_type": "stream",
     "text": [
      "Collecting unidecode\n",
      "  Downloading https://files.pythonhosted.org/packages/e4/63/7685ef40c65aba621ccd2524a24181bf11f0535ab1fdba47e40738eacff6/Unidecode-1.3.7-py3-none-any.whl (235kB)\n",
      "Installing collected packages: unidecode\n",
      "Successfully installed unidecode-1.3.7\n"
     ]
    }
   ],
   "source": [
    "!pip install unidecode"
   ]
  },
  {
   "cell_type": "code",
   "execution_count": 6,
   "metadata": {},
   "outputs": [],
   "source": [
    "import pandas as pd\n",
    "import numpy as np\n",
    "\n",
    "from sklearn.model_selection import train_test_split, GridSearchCV, RandomizedSearchCV, cross_val_score\n",
    "from sklearn.preprocessing import StandardScaler\n",
    "from sklearn.linear_model import LinearRegression, RidgeCV, LassoCV, ElasticNetCV\n",
    "from sklearn.metrics import mean_squared_error, make_scorer, r2_score\n",
    "from sklearn.ensemble import RandomForestRegressor\n",
    "from sklearn.tree import DecisionTreeRegressor\n",
    "\n",
    "import xgboost as xgb\n",
    "\n",
    "import matplotlib.pyplot as plt\n",
    "import seaborn as sns\n",
    "\n",
    "import os\n",
    "\n",
    "import time\n",
    "\n",
    "import scipy.stats as stats\n",
    "\n",
    "import pulp\n",
    "\n",
    "import unidecode"
   ]
  },
  {
   "cell_type": "code",
   "execution_count": 11,
   "metadata": {},
   "outputs": [],
   "source": [
    "## Read data\n",
    "\n",
    "# Players df contains the summary of player performance from each season\n",
    "# Each row represents one player\n",
    "\n",
    "## GWs df contains the information of each player for each gameweek\n",
    "## Each row represents a player's performance for a gameweek\n",
    "\n",
    "folderpath = '../data/input/fantasypremierleague/'\n",
    "\n",
    "players_1617_df = pd.read_csv(folderpath+'players_raw_1617.csv', encoding='latin')\n",
    "players_1718_df = pd.read_csv(folderpath+'players_raw_1718.csv', encoding='latin')\n",
    "players_1819_df = pd.read_csv(folderpath+'players_raw_1819.csv', encoding='latin')\n",
    "players_1920_df = pd.read_csv(folderpath+'players_raw_1920.csv', encoding='latin')\n",
    "players_2021_df = pd.read_csv(folderpath+'players_raw_2021.csv', encoding='latin')\n",
    "players_2122_df = pd.read_csv(folderpath+'players_raw_2122.csv', encoding='latin')\n",
    "players_2223_df = pd.read_csv(folderpath+'players_raw_2223.csv', encoding='latin')\n",
    "\n",
    "gws_1617_df = pd.read_csv(folderpath+'merged_gw_1617.csv', encoding='latin')\n",
    "gws_1718_df = pd.read_csv(folderpath+'merged_gw_1718.csv',encoding='latin')\n",
    "gws_1819_df = pd.read_csv(folderpath+'merged_gw_1819.csv',encoding='latin')\n",
    "gws_1920_df = pd.read_csv(folderpath+'merged_gw_1920.csv',engine='python', encoding='latin')\n",
    "gws_1617_df = pd.read_csv(folderpath+'merged_gw_2021.csv', encoding='latin')\n",
    "gws_1718_df = pd.read_csv(folderpath+'merged_gw_2122.csv',encoding='latin')\n",
    "gws_1819_df = pd.read_csv(folderpath+'merged_gw_2223.csv',encoding='latin')\n",
    "\n",
    "team_codes_df = pd.read_csv('../data/teams.csv')\n"
   ]
  },
  {
   "cell_type": "code",
   "execution_count": null,
   "metadata": {},
   "outputs": [],
   "source": [
    "# Clean the headers to be used later\n",
    "team_codes_df.columns.values[2:] = team_codes_df.columns[2:].str.replace('team_', '')"
   ]
  }
 ],
 "metadata": {
  "kernelspec": {
   "display_name": "Python 3",
   "language": "python",
   "name": "python3"
  },
  "language_info": {
   "codemirror_mode": {
    "name": "ipython",
    "version": 3
   },
   "file_extension": ".py",
   "mimetype": "text/x-python",
   "name": "python",
   "nbconvert_exporter": "python",
   "pygments_lexer": "ipython3",
   "version": "3.7.3"
  }
 },
 "nbformat": 4,
 "nbformat_minor": 2
}
