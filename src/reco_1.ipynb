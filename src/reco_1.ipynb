{
 "cells": [
  {
   "cell_type": "code",
   "execution_count": 1,
   "id": "initial_id",
   "metadata": {
    "ExecuteTime": {
     "end_time": "2023-11-17T13:47:25.922115Z",
     "start_time": "2023-11-17T13:45:02.296446Z"
    },
    "collapsed": true
   },
   "outputs": [],
   "source": [
    "import pandas as pd\n",
    "from sklearn.metrics.pairwise import cosine_similarity\n",
    "from sklearn.feature_extraction.text import TfidfVectorizer"
   ]
  },
  {
   "cell_type": "code",
   "execution_count": 2,
   "id": "da28bb73b3f8602",
   "metadata": {
    "ExecuteTime": {
     "end_time": "2023-11-17T13:47:25.965461Z",
     "start_time": "2023-11-17T13:47:25.963428Z"
    },
    "collapsed": false
   },
   "outputs": [],
   "source": [
    "data = pd.read_csv('../data/2021-22/cleaned_players.csv')\n",
    "\n",
    "df = pd.DataFrame(data)"
   ]
  },
  {
   "cell_type": "code",
   "execution_count": 3,
   "id": "1b8d42fbfa1c2a72",
   "metadata": {
    "ExecuteTime": {
     "end_time": "2023-11-17T13:47:39.264278Z",
     "start_time": "2023-11-17T13:47:39.247707Z"
    },
    "collapsed": false
   },
   "outputs": [
    {
     "name": "stdout",
     "output_type": "stream",
     "text": [
      "Index(['first_name', 'second_name', 'goals_scored', 'assists', 'total_points',\n",
      "       'minutes', 'goals_conceded', 'creativity', 'influence', 'threat',\n",
      "       'bonus', 'bps', 'ict_index', 'clean_sheets', 'red_cards',\n",
      "       'yellow_cards', 'selected_by_percent', 'now_cost', 'element_type'],\n",
      "      dtype='object')\n"
     ]
    }
   ],
   "source": [
    "print(df.columns)"
   ]
  },
  {
   "cell_type": "code",
   "execution_count": 5,
   "id": "6c65d53ada938943",
   "metadata": {
    "ExecuteTime": {
     "end_time": "2023-11-17T13:56:26.102573Z",
     "start_time": "2023-11-17T13:56:26.069488Z"
    },
    "collapsed": false
   },
   "outputs": [],
   "source": [
    "# Combinez certaines caractéristiques en une seule chaîne de texte\n",
    "# Combine all columns into a single 'Caracteristiques' column\n",
    "df['Caracteristiques'] = (\n",
    "    df['goals_scored'].astype(str) + ' ' +\n",
    "    df['assists'].astype(str) + 'b ' +\n",
    "    df['total_points'].astype(str) + 'p ' +\n",
    "    df['minutes'].astype(str) + 'cj ' +\n",
    "    df['goals_conceded'].astype(str) + 'gc ' +\n",
    "    df['creativity'].astype(str) + 'cr ' +\n",
    "    df['influence'].astype(str) + 'inf ' +\n",
    "    df['threat'].astype(str) + 'th ' +\n",
    "    df['bonus'].astype(str) + 'bns ' +\n",
    "    df['bps'].astype(str) + 'bps ' +\n",
    "    df['ict_index'].astype(str) + 'ict ' +\n",
    "    df['clean_sheets'].astype(str) + 'cs ' +\n",
    "    df['red_cards'].astype(str) + 'rc ' +\n",
    "    df['yellow_cards'].astype(str) + 'yc ' +\n",
    "    df['selected_by_percent'].astype(str) + 'sbp ' +\n",
    "    df['now_cost'].astype(str) + 'nc ' +\n",
    "    df['element_type'].astype(str) + 'et'\n",
    ")"
   ]
  },
  {
   "cell_type": "code",
   "execution_count": 6,
   "id": "60b8d24681319ae4",
   "metadata": {
    "ExecuteTime": {
     "end_time": "2023-11-17T13:56:40.763768Z",
     "start_time": "2023-11-17T13:56:40.714705Z"
    },
    "collapsed": false
   },
   "outputs": [],
   "source": [
    "# Utilisez TF-IDF pour créer une matrice de caractéristiques\n",
    "tfidf_vectorizer = TfidfVectorizer()\n",
    "tfidf_matrix = tfidf_vectorizer.fit_transform(df['Caracteristiques'])"
   ]
  },
  {
   "cell_type": "code",
   "execution_count": 7,
   "id": "6e107e4db106704e",
   "metadata": {
    "ExecuteTime": {
     "end_time": "2023-11-17T13:56:48.909181Z",
     "start_time": "2023-11-17T13:56:48.851511Z"
    },
    "collapsed": false
   },
   "outputs": [],
   "source": [
    "# Calcul de la similarité cosinus entre les joueurs\n",
    "cosine_sim = cosine_similarity(tfidf_matrix, tfidf_matrix)"
   ]
  },
  {
   "cell_type": "code",
   "execution_count": 8,
   "id": "e44fa200a008ba25",
   "metadata": {
    "ExecuteTime": {
     "end_time": "2023-11-17T13:59:40.396323Z",
     "start_time": "2023-11-17T13:59:40.369993Z"
    },
    "collapsed": false
   },
   "outputs": [
    {
     "name": "stdout",
     "output_type": "stream",
     "text": [
      "[[1.         0.19298389 0.1172453  ... 0.13581157 0.20052823 0.01685944]\n",
      " [0.19298389 1.         0.53105125 ... 0.77038262 0.64019309 0.04812575]\n",
      " [0.1172453  0.53105125 1.         ... 0.593655   0.66611643 0.06577815]\n",
      " ...\n",
      " [0.13581157 0.77038262 0.593655   ... 1.         0.79001227 0.08356677]\n",
      " [0.20052823 0.64019309 0.66611643 ... 0.79001227 1.         0.11027664]\n",
      " [0.01685944 0.04812575 0.06577815 ... 0.08356677 0.11027664 1.        ]]\n"
     ]
    }
   ],
   "source": [
    "# Display the cosine similarity matrix\n",
    "print(cosine_sim)"
   ]
  },
  {
   "cell_type": "code",
   "execution_count": 41,
   "metadata": {},
   "outputs": [],
   "source": [
    "#access to player and team data\n",
    "team_player = pd.read_csv('../data/2021-22/fbref_overview.csv')\n",
    "real_name_to_field_name = pd.read_csv('../data/2021-22/id_dict.csv')"
   ]
  },
  {
   "cell_type": "code",
   "execution_count": 28,
   "metadata": {},
   "outputs": [],
   "source": [
    "#team for testing\n",
    "dict_team_player = {\"Allan\":\"Everton\",\n",
    "                    \"André Gomes\":\"Chelsea\",\n",
    "                    \"Andros Townsend\":\"Leicester City\",\n",
    "                    \"Anthony Gordon\":\"Crystal Palace\",\n",
    "                    \"Asmir Begović\":\"West Ham\",\n",
    "                    \"Ben Godfrey\":\"Everton\",\n",
    "                    \"Bernard\":\"Newcastle Utd\",\n",
    "                    \"Cenk Tosun\":\"Everton\",\n",
    "                    \"Davy Klaassen\":\"Brighton\",\n",
    "                    \"Demarai Gray\":\"Manchester City\",\n",
    "}"
   ]
  },
  {
   "cell_type": "code",
   "execution_count": 51,
   "metadata": {},
   "outputs": [],
   "source": [
    "def filtered_player_by_club(similar_player_indices,dict_team_player):\n",
    "    #filtrer les joueurs dans similar_players pour enlver ceux ou le club apparairait dans le dict 3 fois \n",
    "    new_similar_players_indices = []\n",
    "    for x in similar_player_indices : \n",
    "        player_name = df.loc[x, 'first_name'] + ' ' + df.loc[x, 'second_name']\n",
    "        try : \n",
    "            team = team_player.loc[team_player['player'] == player_name][\"squad\"].values[0]\n",
    "        except :\n",
    "            try:\n",
    "                new_name = real_name_to_field_name.loc[real_name_to_field_name[' FPL_Name'] == player_name][\" Understat_Name\"].values[0]\n",
    "                team = team_player.loc[team_player['player'] == new_name][\"squad\"].values[0]\n",
    "            except:\n",
    "                print(\"player not found\", player_name)\n",
    "                pass\n",
    "        if sum(1 for t in dict_team_player.values() if t == team) < 3 or player_name not in dict_team_player.keys():\n",
    "            new_similar_players_indices.append(x)\n",
    "        else:\n",
    "            pass\n",
    "    return new_similar_players_indices"
   ]
  },
  {
   "cell_type": "code",
   "execution_count": 40,
   "metadata": {},
   "outputs": [
    {
     "data": {
      "text/html": [
       "<div>\n",
       "<style scoped>\n",
       "    .dataframe tbody tr th:only-of-type {\n",
       "        vertical-align: middle;\n",
       "    }\n",
       "\n",
       "    .dataframe tbody tr th {\n",
       "        vertical-align: top;\n",
       "    }\n",
       "\n",
       "    .dataframe thead th {\n",
       "        text-align: right;\n",
       "    }\n",
       "</style>\n",
       "<table border=\"1\" class=\"dataframe\">\n",
       "  <thead>\n",
       "    <tr style=\"text-align: right;\">\n",
       "      <th></th>\n",
       "      <th>pens_made</th>\n",
       "      <th>age</th>\n",
       "      <th>minutes_90s</th>\n",
       "      <th>pens_att</th>\n",
       "      <th>goals_pens</th>\n",
       "      <th>player</th>\n",
       "      <th>assists</th>\n",
       "      <th>xg</th>\n",
       "      <th>position</th>\n",
       "      <th>npxg_per90</th>\n",
       "      <th>...</th>\n",
       "      <th>cards_red</th>\n",
       "      <th>goals_assists_pens_per90</th>\n",
       "      <th>xg_per90</th>\n",
       "      <th>goals_per90</th>\n",
       "      <th>games_starts</th>\n",
       "      <th>goals_assists_per90</th>\n",
       "      <th>xg_xa_per90</th>\n",
       "      <th>goals</th>\n",
       "      <th>xa_per90</th>\n",
       "      <th>goals_pens_per90</th>\n",
       "    </tr>\n",
       "  </thead>\n",
       "  <tbody>\n",
       "  </tbody>\n",
       "</table>\n",
       "<p>0 rows × 30 columns</p>\n",
       "</div>"
      ],
      "text/plain": [
       "Empty DataFrame\n",
       "Columns: [pens_made, age, minutes_90s, pens_att, goals_pens, player, assists, xg, position, npxg_per90, squad, birth_year, xa, npxg, games, npxg_xa, cards_yellow, minutes, npxg_xa_per90, assists_per90, cards_red, goals_assists_pens_per90, xg_per90, goals_per90, games_starts, goals_assists_per90, xg_xa_per90, goals, xa_per90, goals_pens_per90]\n",
       "Index: []\n",
       "\n",
       "[0 rows x 30 columns]"
      ]
     },
     "execution_count": 40,
     "metadata": {},
     "output_type": "execute_result"
    }
   ],
   "source": [
    "team_player.loc[team_player['player'] == \"Kayky da Silva Chagas\"]"
   ]
  },
  {
   "cell_type": "code",
   "execution_count": 52,
   "id": "d9d9dc09670246e9",
   "metadata": {
    "ExecuteTime": {
     "end_time": "2023-11-17T14:31:51.547002Z",
     "start_time": "2023-11-17T14:31:51.516246Z"
    },
    "collapsed": false
   },
   "outputs": [],
   "source": [
    "def get_recommendations(player,dict_team_player, cosine_similarities, df, num_recommendations=5):\n",
    "    name_parts = player.split()\n",
    "    \n",
    "    # Assuming you want to match both first_name and second_name\n",
    "    first_name_match = df['first_name'] == name_parts[0]\n",
    "    second_name_match = df['second_name'] == name_parts[1]\n",
    "\n",
    "    # Retrieve the index of the row where both first and second names match\n",
    "    player_index = df.index[(first_name_match) & (second_name_match)][0]\n",
    "    print(df.iloc[player_index])\n",
    "    # Get the element_type of the target player\n",
    "    target_position = df.loc[player_index, 'element_type']\n",
    "\n",
    "    # Calculate cosine similarities for the target player\n",
    "    similar_players = list(enumerate(cosine_similarities[player_index]))\n",
    "    \n",
    "    # Sort the players by similarity in descending order\n",
    "    similar_players = sorted(similar_players, key=lambda x: x[1], reverse=True)\n",
    "    \n",
    "    # Exclude the target player itself\n",
    "    similar_players = similar_players[1:]\n",
    "    \n",
    "    # Filter similar players based on the same position (element_type)\n",
    "    similar_player_indices = [x[0] for x in similar_players if df.loc[x[0], 'element_type'] == target_position]\n",
    "    similar_player_indices = filtered_player_by_club(similar_player_indices,dict_team_player)\n",
    "    # Take only the top num_recommendations recommendations\n",
    "    similar_player_indices = similar_player_indices[:num_recommendations]\n",
    "    \n",
    "    # Return the DataFrame with recommended players\n",
    "    return df.iloc[similar_player_indices]\n"
   ]
  },
  {
   "cell_type": "code",
   "execution_count": 53,
   "id": "22a11b87ae2f95c3",
   "metadata": {
    "ExecuteTime": {
     "end_time": "2023-11-17T14:31:53.037598Z",
     "start_time": "2023-11-17T14:31:53.026204Z"
    },
    "collapsed": false
   },
   "outputs": [
    {
     "name": "stdout",
     "output_type": "stream",
     "text": [
      "first_name                                                       Folarin\n",
      "second_name                                                      Balogun\n",
      "goals_scored                                                           0\n",
      "assists                                                                0\n",
      "total_points                                                           2\n",
      "minutes                                                               69\n",
      "goals_conceded                                                         1\n",
      "creativity                                                           3.7\n",
      "influence                                                            4.2\n",
      "threat                                                              17.0\n",
      "bonus                                                                  0\n",
      "bps                                                                    2\n",
      "ict_index                                                            1.9\n",
      "clean_sheets                                                           0\n",
      "red_cards                                                              0\n",
      "yellow_cards                                                           0\n",
      "selected_by_percent                                                  0.2\n",
      "now_cost                                                              47\n",
      "element_type                                                         FWD\n",
      "Caracteristiques       0 0b 2p 69cj 1gc 3.7cr 4.2inf 17.0th 0bns 2bps...\n",
      "Name: 28, dtype: object\n",
      "player not found Mika Biereth\n",
      "player not found Andi Zeqiri\n",
      "player not found Shaqai Forde\n",
      "player not found Joseph McGlynn\n",
      "player not found Nathan Broadhead\n",
      "player not found Thomas Dickson-Peters\n",
      "player not found Daniel N'Lundulu\n",
      "player not found Tiago Çukur\n",
      "player not found Michael Obafemi\n",
      "player not found Adedapo Awokoya-Mebude\n",
      "player not found Jack Grieves\n",
      "player not found Abu Kamara\n",
      "player not found Florin Andone\n",
      "player not found Patrick Cutrone\n",
      "player not found Robert Street\n",
      "player not found Stipe Perica\n",
      "player not found Isaac Success Ajayi\n",
      "player not found Halil Dervişoğlu\n",
      "player not found Jordan Hugill\n",
      "player not found Lewis Richardson\n",
      "player not found Andre Gray\n",
      "player not found Mbwana Ally Samatta\n",
      "player not found Michy Batshuayi\n",
      "player not found Olivier Giroud\n",
      "player not found Tammy Abraham\n",
      "player not found Joshua Sargent\n",
      "player not found Fabio Silva\n",
      "player not found Odsonne Edouard\n",
      "player not found Hee-Chan Hwang\n",
      "player not found Juan Camilo Hernández Suárez\n",
      "player not found Matej Vydra\n",
      "    first_name    second_name  goals_scored  assists  total_points  minutes  \\\n",
      "439       Liam          Delap             0        0             1        8   \n",
      "620       Troy         Deeney             0        0             2       23   \n",
      "119     Nathan  Young-Coombes             0        0             1        3   \n",
      "293      Lewis         Dobbin             0        0             2       30   \n",
      "159       Evan       Ferguson             0        0             1       22   \n",
      "\n",
      "     goals_conceded  creativity  influence  threat  bonus  bps  ict_index  \\\n",
      "439               0         0.0        0.0     2.0      0    2        0.1   \n",
      "620               1        10.6        2.2    14.0      0    5        2.7   \n",
      "119               0         0.0        0.0     0.0      0    2        0.0   \n",
      "293               1         0.9        2.4     4.0      0    6        0.8   \n",
      "159               1         4.8        2.0     2.0      0    4        0.9   \n",
      "\n",
      "     clean_sheets  red_cards  yellow_cards  selected_by_percent  now_cost  \\\n",
      "439             0          0             0                  0.2        45   \n",
      "620             0          0             0                  0.3        54   \n",
      "119             0          0             0                  1.1        45   \n",
      "293             0          0             1                  0.9        45   \n",
      "159             0          0             0                  0.4        45   \n",
      "\n",
      "    element_type                                   Caracteristiques  \n",
      "439          FWD  0 0b 1p 8cj 0gc 0.0cr 0.0inf 2.0th 0bns 2bps 0...  \n",
      "620          FWD  0 0b 2p 23cj 1gc 10.6cr 2.2inf 14.0th 0bns 5bp...  \n",
      "119          FWD  0 0b 1p 3cj 0gc 0.0cr 0.0inf 0.0th 0bns 2bps 0...  \n",
      "293          FWD  0 0b 2p 30cj 1gc 0.9cr 2.4inf 4.0th 0bns 6bps ...  \n",
      "159          FWD  0 0b 1p 22cj 1gc 4.8cr 2.0inf 2.0th 0bns 4bps ...  \n"
     ]
    }
   ],
   "source": [
    "\n",
    "player_name = \"Folarin Balogun\"\n",
    "recommendations = get_recommendations(player_name,dict_team_player, cosine_sim, df)\n",
    "print(recommendations)\n"
   ]
  },
  {
   "cell_type": "code",
   "execution_count": 15,
   "id": "6eaac734ac6e9c91",
   "metadata": {
    "ExecuteTime": {
     "end_time": "2023-11-17T14:44:12.582678Z",
     "start_time": "2023-11-17T14:44:12.533377Z"
    },
    "collapsed": false
   },
   "outputs": [
    {
     "ename": "IndexError",
     "evalue": "invalid index to scalar variable.",
     "output_type": "error",
     "traceback": [
      "\u001b[1;31m---------------------------------------------------------------------------\u001b[0m",
      "\u001b[1;31mIndexError\u001b[0m                                Traceback (most recent call last)",
      "\u001b[1;32mc:\\Users\\victo\\OneDrive\\Documents\\COURS INGE 3\\final_project\\RSPL\\src\\reco_1.ipynb Cell 10\u001b[0m line \u001b[0;36m3\n\u001b[0;32m      <a href='vscode-notebook-cell:/c%3A/Users/victo/OneDrive/Documents/COURS%20INGE%203/final_project/RSPL/src/reco_1.ipynb#X16sZmlsZQ%3D%3D?line=0'>1</a>\u001b[0m \u001b[39m# Example of usage\u001b[39;00m\n\u001b[0;32m      <a href='vscode-notebook-cell:/c%3A/Users/victo/OneDrive/Documents/COURS%20INGE%203/final_project/RSPL/src/reco_1.ipynb#X16sZmlsZQ%3D%3D?line=1'>2</a>\u001b[0m user_choice \u001b[39m=\u001b[39m \u001b[39m'\u001b[39m\u001b[39mMax\tAarons\u001b[39m\u001b[39m'\u001b[39m\n\u001b[1;32m----> <a href='vscode-notebook-cell:/c%3A/Users/victo/OneDrive/Documents/COURS%20INGE%203/final_project/RSPL/src/reco_1.ipynb#X16sZmlsZQ%3D%3D?line=2'>3</a>\u001b[0m recommendations \u001b[39m=\u001b[39m get_recommendations(user_choice, cosine_sim, df, num_recommendations\u001b[39m=\u001b[39;49m\u001b[39m5\u001b[39;49m)\n\u001b[0;32m      <a href='vscode-notebook-cell:/c%3A/Users/victo/OneDrive/Documents/COURS%20INGE%203/final_project/RSPL/src/reco_1.ipynb#X16sZmlsZQ%3D%3D?line=4'>5</a>\u001b[0m \u001b[39m# Print the top 5 recommendations\u001b[39;00m\n\u001b[0;32m      <a href='vscode-notebook-cell:/c%3A/Users/victo/OneDrive/Documents/COURS%20INGE%203/final_project/RSPL/src/reco_1.ipynb#X16sZmlsZQ%3D%3D?line=5'>6</a>\u001b[0m \u001b[39mprint\u001b[39m(\u001b[39mf\u001b[39m\u001b[39m\"\u001b[39m\u001b[39mTop 5 Recommendations for \u001b[39m\u001b[39m{\u001b[39;00muser_choice\u001b[39m}\u001b[39;00m\u001b[39m:\u001b[39m\u001b[39m\"\u001b[39m)\n",
      "\u001b[1;32mc:\\Users\\victo\\OneDrive\\Documents\\COURS INGE 3\\final_project\\RSPL\\src\\reco_1.ipynb Cell 10\u001b[0m line \u001b[0;36m1\n\u001b[0;32m      <a href='vscode-notebook-cell:/c%3A/Users/victo/OneDrive/Documents/COURS%20INGE%203/final_project/RSPL/src/reco_1.ipynb#X16sZmlsZQ%3D%3D?line=7'>8</a>\u001b[0m \u001b[39m# Retrieve the index of the row where both first and second names match\u001b[39;00m\n\u001b[0;32m      <a href='vscode-notebook-cell:/c%3A/Users/victo/OneDrive/Documents/COURS%20INGE%203/final_project/RSPL/src/reco_1.ipynb#X16sZmlsZQ%3D%3D?line=8'>9</a>\u001b[0m player_index \u001b[39m=\u001b[39m df\u001b[39m.\u001b[39mindex[(first_name_match) \u001b[39m&\u001b[39m (second_name_match)][\u001b[39m0\u001b[39m]\n\u001b[1;32m---> <a href='vscode-notebook-cell:/c%3A/Users/victo/OneDrive/Documents/COURS%20INGE%203/final_project/RSPL/src/reco_1.ipynb#X16sZmlsZQ%3D%3D?line=9'>10</a>\u001b[0m \u001b[39mprint\u001b[39m(df\u001b[39m.\u001b[39miloc[player_index[\u001b[39m0\u001b[39;49m]])\n\u001b[0;32m     <a href='vscode-notebook-cell:/c%3A/Users/victo/OneDrive/Documents/COURS%20INGE%203/final_project/RSPL/src/reco_1.ipynb#X16sZmlsZQ%3D%3D?line=10'>11</a>\u001b[0m \u001b[39m# Get the element_type of the target player\u001b[39;00m\n\u001b[0;32m     <a href='vscode-notebook-cell:/c%3A/Users/victo/OneDrive/Documents/COURS%20INGE%203/final_project/RSPL/src/reco_1.ipynb#X16sZmlsZQ%3D%3D?line=11'>12</a>\u001b[0m target_position \u001b[39m=\u001b[39m df\u001b[39m.\u001b[39mloc[player_index, \u001b[39m'\u001b[39m\u001b[39melement_type\u001b[39m\u001b[39m'\u001b[39m]\n",
      "\u001b[1;31mIndexError\u001b[0m: invalid index to scalar variable."
     ]
    }
   ],
   "source": [
    "\n",
    "# Example of usage\n",
    "user_choice = 'Max\tAarons'\n",
    "recommendations = get_recommendations(user_choice, cosine_sim, df, num_recommendations=5)\n",
    "\n",
    "# Print the top 5 recommendations\n",
    "print(f\"Top 5 Recommendations for {user_choice}:\")\n",
    "print(recommendations)\n",
    "\n"
   ]
  },
  {
   "cell_type": "code",
   "execution_count": null,
   "id": "4eaf020d8e5e9da1",
   "metadata": {
    "collapsed": false
   },
   "outputs": [],
   "source": []
  }
 ],
 "metadata": {
  "kernelspec": {
   "display_name": "Python 3",
   "language": "python",
   "name": "python3"
  },
  "language_info": {
   "codemirror_mode": {
    "name": "ipython",
    "version": 3
   },
   "file_extension": ".py",
   "mimetype": "text/x-python",
   "name": "python",
   "nbconvert_exporter": "python",
   "pygments_lexer": "ipython3",
   "version": "3.10.11"
  }
 },
 "nbformat": 4,
 "nbformat_minor": 5
}
