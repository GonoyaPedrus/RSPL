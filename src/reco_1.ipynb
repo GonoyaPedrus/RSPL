{
 "cells": [
  {
   "cell_type": "code",
   "execution_count": 10,
   "id": "initial_id",
   "metadata": {
    "collapsed": true,
    "ExecuteTime": {
     "end_time": "2023-11-17T13:47:25.922115Z",
     "start_time": "2023-11-17T13:45:02.296446Z"
    }
   },
   "outputs": [
    {
     "name": "stdout",
     "output_type": "stream",
     "text": [
      "test\n"
     ]
    }
   ],
   "source": [
    "import pandas as pd\n",
    "from sklearn.metrics.pairwise import cosine_similarity\n",
    "from sklearn.feature_extraction.text import TfidfVectorizer"
   ]
  },
  {
   "cell_type": "code",
   "execution_count": 11,
   "outputs": [],
   "source": [
    "data = pd.read_csv('../data/2023-24/cleaned_players.csv')\n",
    "\n",
    "df = pd.DataFrame(data)"
   ],
   "metadata": {
    "collapsed": false,
    "ExecuteTime": {
     "end_time": "2023-11-17T13:47:25.965461Z",
     "start_time": "2023-11-17T13:47:25.963428Z"
    }
   },
   "id": "da28bb73b3f8602"
  },
  {
   "cell_type": "code",
   "execution_count": 12,
   "outputs": [
    {
     "name": "stdout",
     "output_type": "stream",
     "text": [
      "Index(['first_name', 'second_name', 'goals_scored', 'assists', 'total_points',\n",
      "       'minutes', 'goals_conceded', 'creativity', 'influence', 'threat',\n",
      "       'bonus', 'bps', 'ict_index', 'clean_sheets', 'red_cards',\n",
      "       'yellow_cards', 'selected_by_percent', 'now_cost', 'element_type'],\n",
      "      dtype='object')\n"
     ]
    }
   ],
   "source": [
    "print(df.columns)"
   ],
   "metadata": {
    "collapsed": false,
    "ExecuteTime": {
     "end_time": "2023-11-17T13:47:39.264278Z",
     "start_time": "2023-11-17T13:47:39.247707Z"
    }
   },
   "id": "1b8d42fbfa1c2a72"
  },
  {
   "cell_type": "code",
   "execution_count": 13,
   "outputs": [],
   "source": [
    "# Combinez certaines caractéristiques en une seule chaîne de texte\n",
    "# Combine all columns into a single 'Caracteristiques' column\n",
    "df['Caracteristiques'] = (\n",
    "    df['goals_scored'].astype(str) + ' ' +\n",
    "    df['assists'].astype(str) + 'b ' +\n",
    "    df['total_points'].astype(str) + 'p ' +\n",
    "    df['minutes'].astype(str) + 'cj ' +\n",
    "    df['goals_conceded'].astype(str) + 'gc ' +\n",
    "    df['creativity'].astype(str) + 'cr ' +\n",
    "    df['influence'].astype(str) + 'inf ' +\n",
    "    df['threat'].astype(str) + 'th ' +\n",
    "    df['bonus'].astype(str) + 'bns ' +\n",
    "    df['bps'].astype(str) + 'bps ' +\n",
    "    df['ict_index'].astype(str) + 'ict ' +\n",
    "    df['clean_sheets'].astype(str) + 'cs ' +\n",
    "    df['red_cards'].astype(str) + 'rc ' +\n",
    "    df['yellow_cards'].astype(str) + 'yc ' +\n",
    "    df['selected_by_percent'].astype(str) + 'sbp ' +\n",
    "    df['now_cost'].astype(str) + 'nc ' +\n",
    "    df['element_type'].astype(str) + 'et'\n",
    ")"
   ],
   "metadata": {
    "collapsed": false,
    "ExecuteTime": {
     "end_time": "2023-11-17T13:56:26.102573Z",
     "start_time": "2023-11-17T13:56:26.069488Z"
    }
   },
   "id": "6c65d53ada938943"
  },
  {
   "cell_type": "code",
   "execution_count": 14,
   "outputs": [],
   "source": [
    "# Utilisez TF-IDF pour créer une matrice de caractéristiques\n",
    "tfidf_vectorizer = TfidfVectorizer()\n",
    "tfidf_matrix = tfidf_vectorizer.fit_transform(df['Caracteristiques'])"
   ],
   "metadata": {
    "collapsed": false,
    "ExecuteTime": {
     "end_time": "2023-11-17T13:56:40.763768Z",
     "start_time": "2023-11-17T13:56:40.714705Z"
    }
   },
   "id": "60b8d24681319ae4"
  },
  {
   "cell_type": "code",
   "execution_count": 15,
   "outputs": [],
   "source": [
    "# Calcul de la similarité cosinus entre les joueurs\n",
    "cosine_sim = cosine_similarity(tfidf_matrix, tfidf_matrix)"
   ],
   "metadata": {
    "collapsed": false,
    "ExecuteTime": {
     "end_time": "2023-11-17T13:56:48.909181Z",
     "start_time": "2023-11-17T13:56:48.851511Z"
    }
   },
   "id": "6e107e4db106704e"
  },
  {
   "cell_type": "code",
   "execution_count": 16,
   "outputs": [
    {
     "name": "stdout",
     "output_type": "stream",
     "text": [
      "[[1.         0.51363111 0.20633454 ... 0.5765664  0.71901553 0.04825981]\n",
      " [0.51363111 1.         0.10761826 ... 0.54656044 0.5351279  0.04574825]\n",
      " [0.20633454 0.10761826 1.         ... 0.1567325  0.18358668 0.14489915]\n",
      " ...\n",
      " [0.5765664  0.54656044 0.1567325  ... 1.         0.6006972  0.10967889]\n",
      " [0.71901553 0.5351279  0.18358668 ... 0.6006972  1.         0.05027961]\n",
      " [0.04825981 0.04574825 0.14489915 ... 0.10967889 0.05027961 1.        ]]\n"
     ]
    }
   ],
   "source": [
    "# Display the cosine similarity matrix\n",
    "print(cosine_sim)"
   ],
   "metadata": {
    "collapsed": false,
    "ExecuteTime": {
     "end_time": "2023-11-17T13:59:40.396323Z",
     "start_time": "2023-11-17T13:59:40.369993Z"
    }
   },
   "id": "e44fa200a008ba25"
  },
  {
   "cell_type": "code",
   "execution_count": 7,
   "outputs": [],
   "source": [],
   "metadata": {
    "collapsed": false,
    "ExecuteTime": {
     "end_time": "2023-11-17T13:59:53.082087Z",
     "start_time": "2023-11-17T13:59:53.051525Z"
    }
   },
   "id": "f3c2db3ca646787e"
  },
  {
   "cell_type": "code",
   "execution_count": 17,
   "outputs": [],
   "source": [
    "# Fonction pour obtenir des recommandations\n",
    "def get_recommendations(player, cosine_similarities, df):\n",
    "    name_parts = player.split()\n",
    "     # Assuming you want to match both first_name and second_name\n",
    "    first_name_match = df['first_name'] == name_parts[0]\n",
    "    second_name_match = df['second_name'] == name_parts[1]\n",
    "\n",
    "    # Retrieve the index of the row where both first and second names match\n",
    "    player_index = df.index[(first_name_match) & (second_name_match)]\n",
    "    print(player_index[0]) \n",
    "     \n",
    "    similar_players = list(enumerate(cosine_similarities[player_index[0]]))\n",
    "    similar_players = sorted(similar_players, key=lambda x: x[1], reverse=True)\n",
    "    similar_players = similar_players[1:4]  # Exclude the player itself\n",
    "    similar_player_indices = [x[0] for x in similar_players]\n",
    "    print(similar_player_indices)\n",
    "    return df.iloc[similar_player_indices]"
   ],
   "metadata": {
    "collapsed": false,
    "ExecuteTime": {
     "end_time": "2023-11-17T14:16:20.673313Z",
     "start_time": "2023-11-17T14:16:20.650774Z"
    }
   },
   "id": "b6ec47479c30a30d"
  },
  {
   "cell_type": "code",
   "execution_count": null,
   "outputs": [],
   "source": [],
   "metadata": {
    "collapsed": false
   },
   "id": "6e5a7ed66da9a1d6"
  },
  {
   "cell_type": "code",
   "execution_count": 18,
   "outputs": [
    {
     "name": "stdout",
     "output_type": "stream",
     "text": [
      "0\n",
      "[423, 649, 714]\n",
      "    first_name      second_name  goals_scored  assists  total_points  minutes  \\\n",
      "423      Louie           Watson             0        0             0        0   \n",
      "649     Tanguy  Ndombélé Alvaro             0        0             0        0   \n",
      "714      Bruno    Cavaco Jordão             0        0             0        0   \n",
      "\n",
      "     goals_conceded  creativity  influence  threat  bonus  bps  ict_index  \\\n",
      "423               0         0.0        0.0     0.0      0    0        0.0   \n",
      "649               0         0.0        0.0     0.0      0    0        0.0   \n",
      "714               0         0.0        0.0     0.0      0    0        0.0   \n",
      "\n",
      "     clean_sheets  red_cards  yellow_cards  selected_by_percent  now_cost  \\\n",
      "423             0          0             0                  0.2        44   \n",
      "649             0          0             0                  0.2        44   \n",
      "714             0          0             0                  0.2        44   \n",
      "\n",
      "    element_type                                   Caracteristiques  \n",
      "423          MID  0 0b 0p 0cj 0gc 0.0cr 0.0inf 0.0th 0bns 0bps 0...  \n",
      "649          MID  0 0b 0p 0cj 0gc 0.0cr 0.0inf 0.0th 0bns 0bps 0...  \n",
      "714          MID  0 0b 0p 0cj 0gc 0.0cr 0.0inf 0.0th 0bns 0bps 0...  \n"
     ]
    }
   ],
   "source": [
    "# Exemple d'utilisation\n",
    "user_choice = 'Folarin Balogun'\n",
    "recommendations = get_recommendations(user_choice, cosine_sim, df)\n",
    "#print(f\"Recommandations pour {user_choice}: {', '.join(recommendations)}\")\n",
    "print(recommendations)"
   ],
   "metadata": {
    "collapsed": false,
    "ExecuteTime": {
     "end_time": "2023-11-17T14:17:23.545928Z",
     "start_time": "2023-11-17T14:17:23.521230Z"
    }
   },
   "id": "ff7917c4a1cb234c"
  },
  {
   "cell_type": "code",
   "execution_count": 19,
   "outputs": [],
   "source": [
    "def get_recommendations(player, cosine_similarities, df, num_recommendations=5):\n",
    "    name_parts = player.split()\n",
    "    \n",
    "    # Assuming you want to match both first_name and second_name\n",
    "    first_name_match = df['first_name'] == name_parts[0]\n",
    "    second_name_match = df['second_name'] == name_parts[1]\n",
    "\n",
    "    # Retrieve the index of the row where both first and second names match\n",
    "    player_index = df.index[(first_name_match) & (second_name_match)][0]\n",
    "\n",
    "    # Get the element_type of the target player\n",
    "    target_position = df.loc[player_index, 'element_type']\n",
    "\n",
    "    # Calculate cosine similarities for the target player\n",
    "    similar_players = list(enumerate(cosine_similarities[player_index]))\n",
    "    \n",
    "    # Sort the players by similarity in descending order\n",
    "    similar_players = sorted(similar_players, key=lambda x: x[1], reverse=True)\n",
    "    \n",
    "    # Exclude the target player itself\n",
    "    similar_players = similar_players[1:]\n",
    "\n",
    "    # Filter similar players based on the same position (element_type)\n",
    "    similar_player_indices = [x[0] for x in similar_players if df.loc[x[0], 'element_type'] == target_position]\n",
    "    \n",
    "    # Take only the top num_recommendations recommendations\n",
    "    similar_player_indices = similar_player_indices[:num_recommendations]\n",
    "    \n",
    "    # Return the DataFrame with recommended players\n",
    "    return df.iloc[similar_player_indices]\n"
   ],
   "metadata": {
    "collapsed": false,
    "ExecuteTime": {
     "end_time": "2023-11-17T14:31:51.547002Z",
     "start_time": "2023-11-17T14:31:51.516246Z"
    }
   },
   "id": "d9d9dc09670246e9"
  },
  {
   "cell_type": "code",
   "execution_count": 20,
   "outputs": [
    {
     "name": "stdout",
     "output_type": "stream",
     "text": [
      "    first_name second_name  goals_scored  assists  total_points  minutes  \\\n",
      "581        Sam    Surridge             0        0             0        0   \n",
      "667       Dane    Scarlett             0        0             0        0   \n",
      "561   Emmanuel      Dennis             0        0             0        0   \n",
      "583      Hwang       Ui-jo             0        0             0        0   \n",
      "496      Shola   Shoretire             0        0             0        0   \n",
      "\n",
      "     goals_conceded  creativity  influence  threat  bonus  bps  ict_index  \\\n",
      "581               0         0.0        0.0     0.0      0    0        0.0   \n",
      "667               0         0.0        0.0     0.0      0    0        0.0   \n",
      "561               0         0.0        0.0     0.0      0    0        0.0   \n",
      "583               0         0.0        0.0     0.0      0    0        0.0   \n",
      "496               0         0.0        0.0     0.0      0    0        0.0   \n",
      "\n",
      "     clean_sheets  red_cards  yellow_cards  selected_by_percent  now_cost  \\\n",
      "581             0          0             0                  0.2        45   \n",
      "667             0          0             0                  0.2        45   \n",
      "561             0          0             0                  0.2        48   \n",
      "583             0          0             0                  0.4        44   \n",
      "496             0          0             0                  0.3        44   \n",
      "\n",
      "    element_type                                   Caracteristiques  \n",
      "581          FWD  0 0b 0p 0cj 0gc 0.0cr 0.0inf 0.0th 0bns 0bps 0...  \n",
      "667          FWD  0 0b 0p 0cj 0gc 0.0cr 0.0inf 0.0th 0bns 0bps 0...  \n",
      "561          FWD  0 0b 0p 0cj 0gc 0.0cr 0.0inf 0.0th 0bns 0bps 0...  \n",
      "583          FWD  0 0b 0p 0cj 0gc 0.0cr 0.0inf 0.0th 0bns 0bps 0...  \n",
      "496          FWD  0 0b 0p 0cj 0gc 0.0cr 0.0inf 0.0th 0bns 0bps 0...  \n"
     ]
    }
   ],
   "source": [
    "\n",
    "player_name = \"Folarin Balogun\"\n",
    "recommendations = get_recommendations(player_name, cosine_sim, df)\n",
    "print(recommendations)\n"
   ],
   "metadata": {
    "collapsed": false,
    "ExecuteTime": {
     "end_time": "2023-11-17T14:31:53.037598Z",
     "start_time": "2023-11-17T14:31:53.026204Z"
    }
   },
   "id": "22a11b87ae2f95c3"
  },
  {
   "cell_type": "code",
   "execution_count": 22,
   "outputs": [
    {
     "name": "stdout",
     "output_type": "stream",
     "text": [
      "Top 5 Recommendations for Max\tAarons:\n",
      "    first_name      second_name  goals_scored  assists  total_points  minutes  \\\n",
      "94       Milos           Kerkez             0        0            13      853   \n",
      "484     Victor         Lindelöf             0        1            20      673   \n",
      "114       Rico            Henry             0        1            13      401   \n",
      "449      Rúben  Gato Alves Dias             0        0            27      735   \n",
      "107     Nathan          Collins             1        1            39      909   \n",
      "\n",
      "     goals_conceded  creativity  influence  threat  bonus  bps  ict_index  \\\n",
      "94               24        64.9      118.4    20.0      0   87       20.3   \n",
      "484               9        85.3       99.2    16.0      0  120       20.1   \n",
      "114               5        67.9       72.8    17.0      0   74       15.7   \n",
      "449               6        45.0      142.8    69.0      1  137       25.8   \n",
      "107              12        36.8      242.6    93.0      3  205       37.4   \n",
      "\n",
      "     clean_sheets  red_cards  yellow_cards  selected_by_percent  now_cost  \\\n",
      "94              1          0             1                  0.2        44   \n",
      "484             1          0             1                  0.3        45   \n",
      "114             1          0             1                  1.2        44   \n",
      "449             3          0             0                  7.5        55   \n",
      "107             3          0             2                  0.7        45   \n",
      "\n",
      "    element_type                                   Caracteristiques  \n",
      "94           DEF  0 0b 13p 853cj 24gc 64.9cr 118.4inf 20.0th 0bn...  \n",
      "484          DEF  0 1b 20p 673cj 9gc 85.3cr 99.2inf 16.0th 0bns ...  \n",
      "114          DEF  0 1b 13p 401cj 5gc 67.9cr 72.8inf 17.0th 0bns ...  \n",
      "449          DEF  0 0b 27p 735cj 6gc 45.0cr 142.8inf 69.0th 1bns...  \n",
      "107          DEF  1 1b 39p 909cj 12gc 36.8cr 242.6inf 93.0th 3bn...  \n"
     ]
    }
   ],
   "source": [
    "\n",
    "# Example of usage\n",
    "user_choice = 'Max\tAarons'\n",
    "recommendations = get_recommendations(user_choice, cosine_sim, df, num_recommendations=5)\n",
    "\n",
    "# Print the top 5 recommendations\n",
    "print(f\"Top 5 Recommendations for {user_choice}:\")\n",
    "print(recommendations)\n",
    "\n"
   ],
   "metadata": {
    "collapsed": false,
    "ExecuteTime": {
     "end_time": "2023-11-17T14:44:12.582678Z",
     "start_time": "2023-11-17T14:44:12.533377Z"
    }
   },
   "id": "6eaac734ac6e9c91"
  },
  {
   "cell_type": "code",
   "execution_count": null,
   "outputs": [],
   "source": [],
   "metadata": {
    "collapsed": false
   },
   "id": "4eaf020d8e5e9da1"
  }
 ],
 "metadata": {
  "kernelspec": {
   "display_name": "Python 3",
   "language": "python",
   "name": "python3"
  },
  "language_info": {
   "codemirror_mode": {
    "name": "ipython",
    "version": 2
   },
   "file_extension": ".py",
   "mimetype": "text/x-python",
   "name": "python",
   "nbconvert_exporter": "python",
   "pygments_lexer": "ipython2",
   "version": "2.7.6"
  }
 },
 "nbformat": 4,
 "nbformat_minor": 5
}
