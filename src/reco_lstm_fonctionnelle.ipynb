{
 "nbformat": 4,
 "nbformat_minor": 0,
 "metadata": {
  "colab": {
   "provenance": []
  },
  "kernelspec": {
   "name": "python3",
   "display_name": "Python 3"
  },
  "language_info": {
   "name": "python"
  }
 },
 "cells": [
  {
   "cell_type": "code",
   "execution_count": 15,
   "metadata": {
    "id": "TwfZcjyNafnt"
   },
   "outputs": [],
   "source": [
    "import pandas as pd\n",
    "import numpy as np\n",
    "from sklearn.model_selection import train_test_split\n",
    "from sklearn.preprocessing import MinMaxScaler\n",
    "from keras.models import Sequential\n",
    "from keras.layers import LSTM, Dense\n",
    "from sklearn.metrics import mean_squared_error, mean_absolute_error, r2_score\n"
   ]
  },
  {
   "cell_type": "code",
   "source": [
    "data = pd.read_csv(\"cleaned_merged_seasons.csv\")"
   ],
   "metadata": {
    "colab": {
     "base_uri": "https://localhost:8080/"
    },
    "id": "_6Gkt76bcCIm",
    "outputId": "6a8125c9-862c-4bca-fe5e-8bfcac4c996d"
   },
   "execution_count": 16,
   "outputs": [
    {
     "output_type": "stream",
     "name": "stderr",
     "text": [
      "<ipython-input-16-ce1e41c9b2f4>:1: DtypeWarning: Columns (3) have mixed types. Specify dtype option on import or set low_memory=False.\n",
      "  data = pd.read_csv(\"cleaned_merged_seasons.csv\")\n"
     ]
    }
   ]
  },
  {
   "cell_type": "code",
   "source": [
    "# valeurs manquantes\n",
    "data = data.dropna(subset=['team_x'])\n",
    "\n",
    "# Normaliser les caractéristiques\n",
    "features_to_normalize = [\"creativity\", \"ict_index\", \"influence\", \"threat\"]\n",
    "scaler = MinMaxScaler()\n",
    "data[features_to_normalize] = scaler.fit_transform(data[features_to_normalize])\n",
    "\n",
    "# Encode\n",
    "data_encoded = pd.get_dummies(data, columns=[\"season_x\", \"position\", \"team_x\", \"kickoff_time\", \"opp_team_name\"], drop_first=True)\n",
    "\n",
    "# data type int\n",
    "data_encoded['was_home'] = data_encoded['was_home'].astype(int)\n",
    "\n",
    "# Retirer la colonne \"name\"\n",
    "player_names = data_encoded['name'].reset_index(drop=True)\n",
    "data_encoded = data_encoded.drop('name', axis=1)"
   ],
   "metadata": {
    "id": "sGZmcyTieSLr"
   },
   "execution_count": 17,
   "outputs": []
  },
  {
   "cell_type": "code",
   "source": [
    "print(player_names)"
   ],
   "metadata": {
    "colab": {
     "base_uri": "https://localhost:8080/"
    },
    "id": "nTLUOONdeYt1",
    "outputId": "6288e95b-e00e-4e13-df91-e750604d4ef5"
   },
   "execution_count": 18,
   "outputs": [
    {
     "output_type": "stream",
     "name": "stdout",
     "text": [
      "0                  Aaron Connolly\n",
      "1                 Aaron Cresswell\n",
      "2                      Aaron Mooy\n",
      "3                  Aaron Ramsdale\n",
      "4              Abdoulaye Doucouré\n",
      "                   ...           \n",
      "76312                Oliver Skipp\n",
      "76313              Ryan Sessegnon\n",
      "76314                Ashley Young\n",
      "76315    Jeremy Sarmiento Morante\n",
      "76316              Philip Billing\n",
      "Name: name, Length: 76317, dtype: object\n"
     ]
    }
   ]
  },
  {
   "cell_type": "code",
   "source": [
    "# Séparation des données en entrée (X) et sortie (y)\n",
    "X = data_encoded.drop('total_points', axis=1)\n",
    "y = data_encoded['total_points']\n",
    "\n",
    "# Séparation des données en ensembles d'entraînement et de test\n",
    "X_train, X_test, y_train, y_test, player_names_train, player_names_test = train_test_split(\n",
    "    X, y, player_names, test_size=0.2, random_state=42\n",
    ")\n",
    "\n",
    "# Redimensionnement des données pour être utilisées dans un modèle LSTM\n",
    "X_train = np.reshape(X_train.values, (X_train.shape[0], 1, X_train.shape[1]))\n",
    "X_test = np.reshape(X_test.values, (X_test.shape[0], 1, X_test.shape[1]))\n"
   ],
   "metadata": {
    "id": "pzm8x_yXemfT"
   },
   "execution_count": 19,
   "outputs": []
  },
  {
   "cell_type": "code",
   "source": [
    "# Création du modèle LSTM\n",
    "model = Sequential()\n",
    "model.add(LSTM(50, input_shape=(X_train.shape[1], X_train.shape[2])))\n",
    "model.add(Dense(1))\n",
    "model.compile(optimizer='adam', loss='mse')"
   ],
   "metadata": {
    "id": "6h3C0LNserVb"
   },
   "execution_count": 20,
   "outputs": []
  },
  {
   "cell_type": "code",
   "source": [
    "model.fit(X_train, y_train, epochs=50, batch_size=32, validation_data=(X_test, y_test))"
   ],
   "metadata": {
    "colab": {
     "base_uri": "https://localhost:8080/"
    },
    "id": "SInymRt9euDp",
    "outputId": "2c6ed1ab-4810-466b-d53d-4fe2a3b1699c"
   },
   "execution_count": 21,
   "outputs": [
    {
     "output_type": "stream",
     "name": "stdout",
     "text": [
      "Epoch 1/50\n",
      "1908/1908 [==============================] - 21s 9ms/step - loss: 5.4913 - val_loss: 5.4969\n",
      "Epoch 2/50\n",
      "1908/1908 [==============================] - 14s 7ms/step - loss: 5.2206 - val_loss: 5.1681\n",
      "Epoch 3/50\n",
      "1908/1908 [==============================] - 14s 7ms/step - loss: 5.0977 - val_loss: 5.1236\n",
      "Epoch 4/50\n",
      "1908/1908 [==============================] - 13s 7ms/step - loss: 5.1497 - val_loss: 5.1482\n",
      "Epoch 5/50\n",
      "1908/1908 [==============================] - 13s 7ms/step - loss: 5.0556 - val_loss: 5.0471\n",
      "Epoch 6/50\n",
      "1908/1908 [==============================] - 13s 7ms/step - loss: 5.1770 - val_loss: 5.4861\n",
      "Epoch 7/50\n",
      "1908/1908 [==============================] - 15s 8ms/step - loss: 5.2872 - val_loss: 5.2086\n",
      "Epoch 8/50\n",
      "1908/1908 [==============================] - 14s 7ms/step - loss: 5.3944 - val_loss: 5.5124\n",
      "Epoch 9/50\n",
      "1908/1908 [==============================] - 14s 7ms/step - loss: 5.4568 - val_loss: 5.1292\n",
      "Epoch 10/50\n",
      "1908/1908 [==============================] - 14s 7ms/step - loss: 5.1887 - val_loss: 5.3790\n",
      "Epoch 11/50\n",
      "1908/1908 [==============================] - 14s 7ms/step - loss: 5.2702 - val_loss: 5.1292\n",
      "Epoch 12/50\n",
      "1908/1908 [==============================] - 14s 7ms/step - loss: 5.1686 - val_loss: 5.2844\n",
      "Epoch 13/50\n",
      "1908/1908 [==============================] - 14s 7ms/step - loss: 5.5394 - val_loss: 5.4182\n",
      "Epoch 14/50\n",
      "1908/1908 [==============================] - 14s 7ms/step - loss: 5.2035 - val_loss: 5.2171\n",
      "Epoch 15/50\n",
      "1908/1908 [==============================] - 14s 7ms/step - loss: 5.4133 - val_loss: 5.6816\n",
      "Epoch 16/50\n",
      "1908/1908 [==============================] - 14s 8ms/step - loss: 5.7011 - val_loss: 5.7219\n",
      "Epoch 17/50\n",
      "1908/1908 [==============================] - 14s 7ms/step - loss: 5.7260 - val_loss: 5.8236\n",
      "Epoch 18/50\n",
      "1908/1908 [==============================] - 15s 8ms/step - loss: 5.8321 - val_loss: 5.8535\n",
      "Epoch 19/50\n",
      "1908/1908 [==============================] - 14s 7ms/step - loss: 5.6319 - val_loss: 5.0495\n",
      "Epoch 20/50\n",
      "1908/1908 [==============================] - 14s 7ms/step - loss: 5.2297 - val_loss: 5.2613\n",
      "Epoch 21/50\n",
      "1908/1908 [==============================] - 14s 7ms/step - loss: 5.1760 - val_loss: 5.0581\n",
      "Epoch 22/50\n",
      "1908/1908 [==============================] - 14s 7ms/step - loss: 5.1076 - val_loss: 5.1832\n",
      "Epoch 23/50\n",
      "1908/1908 [==============================] - 13s 7ms/step - loss: 5.1012 - val_loss: 5.3046\n",
      "Epoch 24/50\n",
      "1908/1908 [==============================] - 14s 7ms/step - loss: 5.2837 - val_loss: 5.2686\n",
      "Epoch 25/50\n",
      "1908/1908 [==============================] - 14s 7ms/step - loss: 5.2587 - val_loss: 5.3320\n",
      "Epoch 26/50\n",
      "1908/1908 [==============================] - 16s 8ms/step - loss: 5.2235 - val_loss: 5.0858\n",
      "Epoch 27/50\n",
      "1908/1908 [==============================] - 14s 7ms/step - loss: 4.9770 - val_loss: 4.8344\n",
      "Epoch 28/50\n",
      "1908/1908 [==============================] - 14s 7ms/step - loss: 4.9728 - val_loss: 5.0770\n",
      "Epoch 29/50\n",
      "1908/1908 [==============================] - 15s 8ms/step - loss: 5.5328 - val_loss: 5.5025\n",
      "Epoch 30/50\n",
      "1908/1908 [==============================] - 14s 7ms/step - loss: 5.5963 - val_loss: 5.6430\n",
      "Epoch 31/50\n",
      "1908/1908 [==============================] - 14s 7ms/step - loss: 5.6187 - val_loss: 5.3041\n",
      "Epoch 32/50\n",
      "1908/1908 [==============================] - 15s 8ms/step - loss: 5.3684 - val_loss: 5.5113\n",
      "Epoch 33/50\n",
      "1908/1908 [==============================] - 15s 8ms/step - loss: 5.4900 - val_loss: 5.2529\n",
      "Epoch 34/50\n",
      "1908/1908 [==============================] - 14s 8ms/step - loss: 5.5263 - val_loss: 5.7865\n",
      "Epoch 35/50\n",
      "1908/1908 [==============================] - 15s 8ms/step - loss: 5.6489 - val_loss: 5.6554\n",
      "Epoch 36/50\n",
      "1908/1908 [==============================] - 16s 8ms/step - loss: 5.7391 - val_loss: 5.8409\n",
      "Epoch 37/50\n",
      "1908/1908 [==============================] - 15s 8ms/step - loss: 5.8253 - val_loss: 5.8423\n",
      "Epoch 38/50\n",
      "1908/1908 [==============================] - 14s 7ms/step - loss: 5.7236 - val_loss: 5.4520\n",
      "Epoch 39/50\n",
      "1908/1908 [==============================] - 14s 8ms/step - loss: 5.5574 - val_loss: 5.4957\n",
      "Epoch 40/50\n",
      "1908/1908 [==============================] - 14s 7ms/step - loss: 5.7102 - val_loss: 5.8979\n",
      "Epoch 41/50\n",
      "1908/1908 [==============================] - 14s 7ms/step - loss: 5.8719 - val_loss: 5.8968\n",
      "Epoch 42/50\n",
      "1908/1908 [==============================] - 14s 7ms/step - loss: 5.8725 - val_loss: 5.8950\n",
      "Epoch 43/50\n",
      "1908/1908 [==============================] - 14s 7ms/step - loss: 5.8627 - val_loss: 5.8922\n",
      "Epoch 44/50\n",
      "1908/1908 [==============================] - 14s 7ms/step - loss: 5.7240 - val_loss: 5.5513\n",
      "Epoch 45/50\n",
      "1908/1908 [==============================] - 14s 7ms/step - loss: 5.7449 - val_loss: 5.6107\n",
      "Epoch 46/50\n",
      "1908/1908 [==============================] - 14s 7ms/step - loss: 5.7283 - val_loss: 5.8908\n",
      "Epoch 47/50\n",
      "1908/1908 [==============================] - 14s 7ms/step - loss: 5.8569 - val_loss: 5.8898\n",
      "Epoch 48/50\n",
      "1908/1908 [==============================] - 14s 7ms/step - loss: 5.7373 - val_loss: 5.7958\n",
      "Epoch 49/50\n",
      "1908/1908 [==============================] - 13s 7ms/step - loss: 5.4240 - val_loss: 5.3362\n",
      "Epoch 50/50\n",
      "1908/1908 [==============================] - 15s 8ms/step - loss: 5.2349 - val_loss: 5.2356\n"
     ]
    },
    {
     "output_type": "execute_result",
     "data": {
      "text/plain": [
       "<keras.src.callbacks.History at 0x7f188c6c3400>"
      ]
     },
     "metadata": {},
     "execution_count": 21
    }
   ]
  },
  {
   "cell_type": "code",
   "source": [
    "# Prédictions sur l'ensemble de test\n",
    "y_pred = model.predict(X_test)"
   ],
   "metadata": {
    "colab": {
     "base_uri": "https://localhost:8080/"
    },
    "id": "dnnZjSafQ9lP",
    "outputId": "0bf4e0c6-69a6-4b63-9faa-7e23d66efd1e"
   },
   "execution_count": 24,
   "outputs": [
    {
     "output_type": "stream",
     "name": "stdout",
     "text": [
      "477/477 [==============================] - 1s 2ms/step\n"
     ]
    }
   ]
  },
  {
   "cell_type": "code",
   "execution_count": 26,
   "outputs": [
    {
     "output_type": "stream",
     "name": "stdout",
     "text": [
      "                    Name  Predicted_Total_Points\n",
      "0           Daniel James                2.064900\n",
      "1           Nicolas Pépé                2.064900\n",
      "2             Sam Waller                0.466208\n",
      "3             Bernd Leno                2.064900\n",
      "4       Ezri Konsa Ngoyo                2.064900\n",
      "...                  ...                     ...\n",
      "15259  Aaron Wan-Bissaka                2.064900\n",
      "15260       Divock Origi                2.064900\n",
      "15261   Joseph Whitworth                0.466208\n",
      "15262       Alex Mighten                0.466208\n",
      "15263  Christian Pulisic                2.064900\n",
      "\n",
      "[15264 rows x 2 columns]\n"
     ]
    }
   ],
   "source": [
    "player_names_test = player_names_test.reset_index(drop=True)\n",
    "\n",
    "# Assurez-vous que y_pred est un tableau 1D\n",
    "y_pred_1d = y_pred.flatten()\n",
    "\n",
    "# Créez le DataFrame avec les colonnes unidimensionnelles\n",
    "results_df = pd.DataFrame({'Name': player_names_test, 'Predicted_Total_Points': y_pred_1d})\n",
    "\n",
    "print(results_df)"
   ],
   "metadata": {
    "colab": {
     "base_uri": "https://localhost:8080/"
    },
    "id": "Twkf8exJ_bW5",
    "outputId": "ab6a032f-8c0f-453e-a0c5-25816d965b90"
   }
  },
  {
   "cell_type": "code",
   "source": [
    "# Prédictions sur l'ensemble de test\n",
    "y_pred = model.predict(X_test)\n",
    "\n",
    "# Évaluation du modèle\n",
    "mse = mean_squared_error(y_test, y_pred)\n",
    "mae = mean_absolute_error(y_test, y_pred)\n",
    "r2 = r2_score(y_test, y_pred)\n",
    "\n",
    "print(f\"Mean Squared Error: {mse}\")\n",
    "print(f\"Mean Absolute Error: {mae}\")\n",
    "print(f\"R^2 Score: {r2}\")"
   ],
   "metadata": {
    "colab": {
     "base_uri": "https://localhost:8080/"
    },
    "id": "kT_8SLseli2m",
    "outputId": "12c596fc-47da-4d2d-9781-7b46e6644722"
   },
   "execution_count": 23,
   "outputs": [
    {
     "output_type": "stream",
     "name": "stdout",
     "text": [
      "477/477 [==============================] - 1s 2ms/step\n",
      "Mean Squared Error: 5.23560792457459\n",
      "Mean Absolute Error: 1.3619685606011804\n",
      "R^2 Score: 0.11310214620377357\n"
     ]
    }
   ]
  }
 ]
}
