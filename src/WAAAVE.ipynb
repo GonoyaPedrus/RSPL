{
  "nbformat": 4,
  "nbformat_minor": 0,
  "metadata": {
    "colab": {
      "provenance": []
    },
    "kernelspec": {
      "name": "python3",
      "display_name": "Python 3"
    },
    "language_info": {
      "name": "python"
    }
  },
  "cells": [
    {
      "cell_type": "code",
      "source": [
        "import pandas as pd\n",
        "from sklearn.model_selection import GridSearchCV\n",
        "from sklearn.model_selection import train_test_split\n",
        "from sklearn.preprocessing import StandardScaler\n",
        "from sklearn.linear_model import LinearRegression\n",
        "from sklearn.model_selection import cross_val_score\n",
        "from sklearn.experimental import enable_hist_gradient_boosting  # noqa\n",
        "from sklearn.ensemble import HistGradientBoostingRegressor\n",
        "from sklearn.metrics import mean_squared_error, r2_score, mean_absolute_error\n",
        "from tensorflow.keras.models import Sequential\n",
        "from tensorflow.keras.layers import Dense, Dropout\n",
        "from tensorflow.keras.callbacks import EarlyStopping\n",
        "import matplotlib.pyplot as plt\n",
        "import tensorflow as tf\n",
        "import numpy as np\n",
        "import random\n",
        "import glob"
      ],
      "metadata": {
        "id": "9lDk2lSK7tmm"
      },
      "execution_count": 13,
      "outputs": []
    },
    {
      "cell_type": "code",
      "execution_count": 164,
      "metadata": {
        "colab": {
          "base_uri": "https://localhost:8080/"
        },
        "id": "ya-ozkwHyZjw",
        "outputId": "ad38cfd2-0f21-424b-dfbb-c0950bf4ab5b"
      },
      "outputs": [
        {
          "output_type": "stream",
          "name": "stdout",
          "text": [
            "Lecture réussie avec l'encodage utf-8.\n",
            "Lecture réussie avec l'encodage utf-8.\n",
            "Lecture réussie avec l'encodage utf-8.\n",
            "Lecture réussie avec l'encodage utf-8.\n",
            "Lecture réussie avec l'encodage utf-8.\n",
            "Lecture réussie avec l'encodage utf-8.\n",
            "Lecture réussie avec l'encodage utf-8.\n",
            "Échec de la lecture avec l'encodage utf-8. Essayer un autre encodage.\n",
            "Lecture réussie avec l'encodage ISO-8859-1.\n",
            "   goals_scored  assists  total_points  minutes  goals_conceded  creativity  \\\n",
            "0             0        0             0        0               0         0.0   \n",
            "1             0        0             0        0               0         0.0   \n",
            "2             0        1             4        1               0         0.5   \n",
            "3             1        3            21      236               2        63.6   \n",
            "4             0        0            40     1104              12        56.7   \n",
            "\n",
            "   influence  threat  bonus  bps  ict_index  clean_sheets  red_cards  \\\n",
            "0        0.0     0.0      0    0        0.0             0          0   \n",
            "1        0.0     0.0      0    0        0.0             0          0   \n",
            "2        1.8     2.0      0   12        0.4             0          0   \n",
            "3       79.4    77.0      0   62       21.9             1          1   \n",
            "4      202.8    69.0      2  210       32.9             4          0   \n",
            "\n",
            "   yellow_cards  selected_by_percent  now_cost element_type        source  \\\n",
            "0             0                  0.2      44.0          FWD  players23-24   \n",
            "1             0                  0.4      39.0          DEF  players23-24   \n",
            "2             0                  0.1      44.0          MID  players23-24   \n",
            "3             0                  0.1      54.0          MID  players23-24   \n",
            "4             1                 15.4      49.0          DEF  players23-24   \n",
            "\n",
            "                           name  \n",
            "0               Folarin Balogun  \n",
            "1           Cédric Alves Soares  \n",
            "2                Mohamed Elneny  \n",
            "3         Fábio Ferreira Vieira  \n",
            "4  Gabriel dos Santos Magalhães  \n"
          ]
        }
      ],
      "source": [
        "# Chemin vers les fichiers CSV\n",
        "chemin = '/content/players/*.csv'\n",
        "\n",
        "# Liste des noms de fichiers\n",
        "fichiers = glob.glob(chemin)\n",
        "\n",
        "# Initialisation d'une liste pour stocker les DataFrames de chaque fichier\n",
        "dfs = []\n",
        "# Liste des encodages à essayer\n",
        "encodings_to_try = [ 'utf-8','ISO-8859-1']\n",
        "\n",
        "# Charger et concaténer les fichiers\n",
        "for fichier in fichiers:\n",
        "    df = None\n",
        "    # Essayer différents encodages jusqu'à ce que la lecture réussisse\n",
        "    for encoding in encodings_to_try:\n",
        "        try:\n",
        "            df = pd.read_csv(fichier, encoding=encoding)\n",
        "            print(f\"Lecture réussie avec l'encodage {encoding}.\")\n",
        "            break  # Sortir de la boucle si la lecture réussit avec un encodage\n",
        "        except UnicodeDecodeError:\n",
        "            print(f\"Échec de la lecture avec l'encodage {encoding}. Essayer un autre encodage.\")\n",
        "\n",
        "    if df is not None:\n",
        "        # Ajouter une colonne 'source' pour identifier la provenance de chaque fichier\n",
        "        nom_fichier = fichier.split('/')[-1]\n",
        "        saison = nom_fichier.split('.')[0].split('-')\n",
        "        df['source'] = f\"{saison[0]}-{saison[1]}\"\n",
        "        # Concaténer 'first_name' et 'second_name' en une seule colonne 'name'\n",
        "        df['name'] = df['first_name'] + ' ' + df['second_name']\n",
        "        # Supprimer les colonnes 'first_name' et 'second_name'\n",
        "        df = df.drop(columns=['first_name', 'second_name'])\n",
        "        # Ajouter le DataFrame à la liste\n",
        "        dfs.append(df)\n",
        "    else:\n",
        "        print(\"Échec de la lecture du fichier:\", fichier)\n",
        "\n",
        "\n",
        "# Concaténer tous les DataFrames en un seul\n",
        "data = pd.concat(dfs, ignore_index=True)\n",
        "\n",
        "\n",
        "\n",
        "# Maintenant vous pouvez faire du traitement de données sur le DataFrame 'data'\n",
        "# Par exemple, afficher les premières lignes\n",
        "print(data.head())\n"
      ]
    },
    {
      "cell_type": "code",
      "source": [
        "# Ingénierie des caractéristiques\n",
        "selected_features = ['goals_scored','assists','goals_conceded','creativity','influence','threat','bonus','clean_sheets','red_cards','yellow_cards','now_cost']\n",
        "X = data[selected_features]\n",
        "y = data['total_points']"
      ],
      "metadata": {
        "id": "Lhaz1aMB8bns"
      },
      "execution_count": 186,
      "outputs": []
    },
    {
      "cell_type": "code",
      "source": [
        "# Division des données en ensembles d'entraînement et de test\n",
        "X_train, X_test, y_train, y_test = train_test_split(X, y, test_size=0.2, random_state=42)"
      ],
      "metadata": {
        "id": "rzqCFCb3-az1"
      },
      "execution_count": 187,
      "outputs": []
    },
    {
      "cell_type": "code",
      "source": [
        "# Sélectionner uniquement les colonnes numériques\n",
        "numeric_columns = X_train.select_dtypes(include=['number']).columns"
      ],
      "metadata": {
        "id": "Nigvh0aE-d49"
      },
      "execution_count": 188,
      "outputs": []
    },
    {
      "cell_type": "code",
      "source": [
        "# Vérification des valeurs manquantes dans les données d'entraînement\n",
        "print(\"Valeurs manquantes dans y_train:\", np.isnan(y_train).sum())\n",
        "\n",
        "# Vérification des valeurs manquantes dans les données de test\n",
        "print(\"Valeurs manquantes dans y_test:\", np.isnan(y_test).sum())\n"
      ],
      "metadata": {
        "colab": {
          "base_uri": "https://localhost:8080/"
        },
        "id": "E7sC2ek8Asvy",
        "outputId": "81db74ec-e7c8-41fb-fa43-f9abed52c0c0"
      },
      "execution_count": 189,
      "outputs": [
        {
          "output_type": "stream",
          "name": "stdout",
          "text": [
            "Valeurs manquantes dans y_train: 0\n",
            "Valeurs manquantes dans y_test: 0\n"
          ]
        }
      ]
    },
    {
      "cell_type": "code",
      "source": [
        "# Définir les hyperparamètres à optimiser\n",
        "param_grid = {\n",
        "    'learning_rate': [0.01, 0.1, 0.2],\n",
        "    'max_iter': [100, 200, 300],\n",
        "    'max_depth': [3, 5, 7],\n",
        "    'min_samples_leaf': [1, 2, 4],\n",
        "    'l2_regularization': [0.0, 0.1, 0.2]\n",
        "}\n"
      ],
      "metadata": {
        "id": "qX75IG1RF8YX"
      },
      "execution_count": 190,
      "outputs": []
    },
    {
      "cell_type": "code",
      "source": [
        "# Create the HistGradientBoostingRegressor model\n",
        "model = HistGradientBoostingRegressor()"
      ],
      "metadata": {
        "id": "n-gjKsF1-dwq"
      },
      "execution_count": 65,
      "outputs": []
    },
    {
      "cell_type": "code",
      "source": [
        "# Train the model\n",
        "model.fit(X_train, y_train)\n"
      ],
      "metadata": {
        "colab": {
          "base_uri": "https://localhost:8080/",
          "height": 75
        },
        "id": "KDlgQNGIB-jO",
        "outputId": "e03fbdea-6af8-4042-e5b4-55f8e46c6bea"
      },
      "execution_count": 66,
      "outputs": [
        {
          "output_type": "execute_result",
          "data": {
            "text/plain": [
              "HistGradientBoostingRegressor()"
            ],
            "text/html": [
              "<style>#sk-container-id-4 {color: black;background-color: white;}#sk-container-id-4 pre{padding: 0;}#sk-container-id-4 div.sk-toggleable {background-color: white;}#sk-container-id-4 label.sk-toggleable__label {cursor: pointer;display: block;width: 100%;margin-bottom: 0;padding: 0.3em;box-sizing: border-box;text-align: center;}#sk-container-id-4 label.sk-toggleable__label-arrow:before {content: \"▸\";float: left;margin-right: 0.25em;color: #696969;}#sk-container-id-4 label.sk-toggleable__label-arrow:hover:before {color: black;}#sk-container-id-4 div.sk-estimator:hover label.sk-toggleable__label-arrow:before {color: black;}#sk-container-id-4 div.sk-toggleable__content {max-height: 0;max-width: 0;overflow: hidden;text-align: left;background-color: #f0f8ff;}#sk-container-id-4 div.sk-toggleable__content pre {margin: 0.2em;color: black;border-radius: 0.25em;background-color: #f0f8ff;}#sk-container-id-4 input.sk-toggleable__control:checked~div.sk-toggleable__content {max-height: 200px;max-width: 100%;overflow: auto;}#sk-container-id-4 input.sk-toggleable__control:checked~label.sk-toggleable__label-arrow:before {content: \"▾\";}#sk-container-id-4 div.sk-estimator input.sk-toggleable__control:checked~label.sk-toggleable__label {background-color: #d4ebff;}#sk-container-id-4 div.sk-label input.sk-toggleable__control:checked~label.sk-toggleable__label {background-color: #d4ebff;}#sk-container-id-4 input.sk-hidden--visually {border: 0;clip: rect(1px 1px 1px 1px);clip: rect(1px, 1px, 1px, 1px);height: 1px;margin: -1px;overflow: hidden;padding: 0;position: absolute;width: 1px;}#sk-container-id-4 div.sk-estimator {font-family: monospace;background-color: #f0f8ff;border: 1px dotted black;border-radius: 0.25em;box-sizing: border-box;margin-bottom: 0.5em;}#sk-container-id-4 div.sk-estimator:hover {background-color: #d4ebff;}#sk-container-id-4 div.sk-parallel-item::after {content: \"\";width: 100%;border-bottom: 1px solid gray;flex-grow: 1;}#sk-container-id-4 div.sk-label:hover label.sk-toggleable__label {background-color: #d4ebff;}#sk-container-id-4 div.sk-serial::before {content: \"\";position: absolute;border-left: 1px solid gray;box-sizing: border-box;top: 0;bottom: 0;left: 50%;z-index: 0;}#sk-container-id-4 div.sk-serial {display: flex;flex-direction: column;align-items: center;background-color: white;padding-right: 0.2em;padding-left: 0.2em;position: relative;}#sk-container-id-4 div.sk-item {position: relative;z-index: 1;}#sk-container-id-4 div.sk-parallel {display: flex;align-items: stretch;justify-content: center;background-color: white;position: relative;}#sk-container-id-4 div.sk-item::before, #sk-container-id-4 div.sk-parallel-item::before {content: \"\";position: absolute;border-left: 1px solid gray;box-sizing: border-box;top: 0;bottom: 0;left: 50%;z-index: -1;}#sk-container-id-4 div.sk-parallel-item {display: flex;flex-direction: column;z-index: 1;position: relative;background-color: white;}#sk-container-id-4 div.sk-parallel-item:first-child::after {align-self: flex-end;width: 50%;}#sk-container-id-4 div.sk-parallel-item:last-child::after {align-self: flex-start;width: 50%;}#sk-container-id-4 div.sk-parallel-item:only-child::after {width: 0;}#sk-container-id-4 div.sk-dashed-wrapped {border: 1px dashed gray;margin: 0 0.4em 0.5em 0.4em;box-sizing: border-box;padding-bottom: 0.4em;background-color: white;}#sk-container-id-4 div.sk-label label {font-family: monospace;font-weight: bold;display: inline-block;line-height: 1.2em;}#sk-container-id-4 div.sk-label-container {text-align: center;}#sk-container-id-4 div.sk-container {/* jupyter's `normalize.less` sets `[hidden] { display: none; }` but bootstrap.min.css set `[hidden] { display: none !important; }` so we also need the `!important` here to be able to override the default hidden behavior on the sphinx rendered scikit-learn.org. See: https://github.com/scikit-learn/scikit-learn/issues/21755 */display: inline-block !important;position: relative;}#sk-container-id-4 div.sk-text-repr-fallback {display: none;}</style><div id=\"sk-container-id-4\" class=\"sk-top-container\"><div class=\"sk-text-repr-fallback\"><pre>HistGradientBoostingRegressor()</pre><b>In a Jupyter environment, please rerun this cell to show the HTML representation or trust the notebook. <br />On GitHub, the HTML representation is unable to render, please try loading this page with nbviewer.org.</b></div><div class=\"sk-container\" hidden><div class=\"sk-item\"><div class=\"sk-estimator sk-toggleable\"><input class=\"sk-toggleable__control sk-hidden--visually\" id=\"sk-estimator-id-6\" type=\"checkbox\" checked><label for=\"sk-estimator-id-6\" class=\"sk-toggleable__label sk-toggleable__label-arrow\">HistGradientBoostingRegressor</label><div class=\"sk-toggleable__content\"><pre>HistGradientBoostingRegressor()</pre></div></div></div></div></div>"
            ]
          },
          "metadata": {},
          "execution_count": 66
        }
      ]
    },
    {
      "cell_type": "code",
      "source": [
        "# Predict on the test set\n",
        "y_pred = model.predict(X_test)"
      ],
      "metadata": {
        "id": "GtYDYvQN-diS"
      },
      "execution_count": 67,
      "outputs": []
    },
    {
      "cell_type": "code",
      "source": [
        "# Créer l'objet GridSearchCV\n",
        "grid_search = GridSearchCV(estimator=model, param_grid=param_grid, cv=5, scoring='neg_mean_squared_error', n_jobs=-1)\n"
      ],
      "metadata": {
        "id": "1ist4q3_GCGh"
      },
      "execution_count": 11,
      "outputs": []
    },
    {
      "cell_type": "markdown",
      "source": [
        "Evaluation des performances du modèle"
      ],
      "metadata": {
        "id": "DEiebdcqpouJ"
      }
    },
    {
      "cell_type": "code",
      "source": [
        "# Effectuer la validation croisée\n",
        "scores = cross_val_score(model, X, y, cv=5, scoring='neg_mean_squared_error')\n"
      ],
      "metadata": {
        "id": "D7OABscDEi4N"
      },
      "execution_count": 14,
      "outputs": []
    },
    {
      "cell_type": "code",
      "source": [
        "# Exécuter la recherche par grille sur les données\n",
        "grid_search.fit(X, y)"
      ],
      "metadata": {
        "colab": {
          "base_uri": "https://localhost:8080/",
          "height": 119
        },
        "id": "XP3oZXw4GTdN",
        "outputId": "b363915b-0aa9-46e6-920d-3de2635605a9"
      },
      "execution_count": 15,
      "outputs": [
        {
          "output_type": "execute_result",
          "data": {
            "text/plain": [
              "GridSearchCV(cv=5, estimator=HistGradientBoostingRegressor(), n_jobs=-1,\n",
              "             param_grid={'l2_regularization': [0.0, 0.1, 0.2],\n",
              "                         'learning_rate': [0.01, 0.1, 0.2],\n",
              "                         'max_depth': [3, 5, 7], 'max_iter': [100, 200, 300],\n",
              "                         'min_samples_leaf': [1, 2, 4]},\n",
              "             scoring='neg_mean_squared_error')"
            ],
            "text/html": [
              "<style>#sk-container-id-2 {color: black;background-color: white;}#sk-container-id-2 pre{padding: 0;}#sk-container-id-2 div.sk-toggleable {background-color: white;}#sk-container-id-2 label.sk-toggleable__label {cursor: pointer;display: block;width: 100%;margin-bottom: 0;padding: 0.3em;box-sizing: border-box;text-align: center;}#sk-container-id-2 label.sk-toggleable__label-arrow:before {content: \"▸\";float: left;margin-right: 0.25em;color: #696969;}#sk-container-id-2 label.sk-toggleable__label-arrow:hover:before {color: black;}#sk-container-id-2 div.sk-estimator:hover label.sk-toggleable__label-arrow:before {color: black;}#sk-container-id-2 div.sk-toggleable__content {max-height: 0;max-width: 0;overflow: hidden;text-align: left;background-color: #f0f8ff;}#sk-container-id-2 div.sk-toggleable__content pre {margin: 0.2em;color: black;border-radius: 0.25em;background-color: #f0f8ff;}#sk-container-id-2 input.sk-toggleable__control:checked~div.sk-toggleable__content {max-height: 200px;max-width: 100%;overflow: auto;}#sk-container-id-2 input.sk-toggleable__control:checked~label.sk-toggleable__label-arrow:before {content: \"▾\";}#sk-container-id-2 div.sk-estimator input.sk-toggleable__control:checked~label.sk-toggleable__label {background-color: #d4ebff;}#sk-container-id-2 div.sk-label input.sk-toggleable__control:checked~label.sk-toggleable__label {background-color: #d4ebff;}#sk-container-id-2 input.sk-hidden--visually {border: 0;clip: rect(1px 1px 1px 1px);clip: rect(1px, 1px, 1px, 1px);height: 1px;margin: -1px;overflow: hidden;padding: 0;position: absolute;width: 1px;}#sk-container-id-2 div.sk-estimator {font-family: monospace;background-color: #f0f8ff;border: 1px dotted black;border-radius: 0.25em;box-sizing: border-box;margin-bottom: 0.5em;}#sk-container-id-2 div.sk-estimator:hover {background-color: #d4ebff;}#sk-container-id-2 div.sk-parallel-item::after {content: \"\";width: 100%;border-bottom: 1px solid gray;flex-grow: 1;}#sk-container-id-2 div.sk-label:hover label.sk-toggleable__label {background-color: #d4ebff;}#sk-container-id-2 div.sk-serial::before {content: \"\";position: absolute;border-left: 1px solid gray;box-sizing: border-box;top: 0;bottom: 0;left: 50%;z-index: 0;}#sk-container-id-2 div.sk-serial {display: flex;flex-direction: column;align-items: center;background-color: white;padding-right: 0.2em;padding-left: 0.2em;position: relative;}#sk-container-id-2 div.sk-item {position: relative;z-index: 1;}#sk-container-id-2 div.sk-parallel {display: flex;align-items: stretch;justify-content: center;background-color: white;position: relative;}#sk-container-id-2 div.sk-item::before, #sk-container-id-2 div.sk-parallel-item::before {content: \"\";position: absolute;border-left: 1px solid gray;box-sizing: border-box;top: 0;bottom: 0;left: 50%;z-index: -1;}#sk-container-id-2 div.sk-parallel-item {display: flex;flex-direction: column;z-index: 1;position: relative;background-color: white;}#sk-container-id-2 div.sk-parallel-item:first-child::after {align-self: flex-end;width: 50%;}#sk-container-id-2 div.sk-parallel-item:last-child::after {align-self: flex-start;width: 50%;}#sk-container-id-2 div.sk-parallel-item:only-child::after {width: 0;}#sk-container-id-2 div.sk-dashed-wrapped {border: 1px dashed gray;margin: 0 0.4em 0.5em 0.4em;box-sizing: border-box;padding-bottom: 0.4em;background-color: white;}#sk-container-id-2 div.sk-label label {font-family: monospace;font-weight: bold;display: inline-block;line-height: 1.2em;}#sk-container-id-2 div.sk-label-container {text-align: center;}#sk-container-id-2 div.sk-container {/* jupyter's `normalize.less` sets `[hidden] { display: none; }` but bootstrap.min.css set `[hidden] { display: none !important; }` so we also need the `!important` here to be able to override the default hidden behavior on the sphinx rendered scikit-learn.org. See: https://github.com/scikit-learn/scikit-learn/issues/21755 */display: inline-block !important;position: relative;}#sk-container-id-2 div.sk-text-repr-fallback {display: none;}</style><div id=\"sk-container-id-2\" class=\"sk-top-container\"><div class=\"sk-text-repr-fallback\"><pre>GridSearchCV(cv=5, estimator=HistGradientBoostingRegressor(), n_jobs=-1,\n",
              "             param_grid={&#x27;l2_regularization&#x27;: [0.0, 0.1, 0.2],\n",
              "                         &#x27;learning_rate&#x27;: [0.01, 0.1, 0.2],\n",
              "                         &#x27;max_depth&#x27;: [3, 5, 7], &#x27;max_iter&#x27;: [100, 200, 300],\n",
              "                         &#x27;min_samples_leaf&#x27;: [1, 2, 4]},\n",
              "             scoring=&#x27;neg_mean_squared_error&#x27;)</pre><b>In a Jupyter environment, please rerun this cell to show the HTML representation or trust the notebook. <br />On GitHub, the HTML representation is unable to render, please try loading this page with nbviewer.org.</b></div><div class=\"sk-container\" hidden><div class=\"sk-item sk-dashed-wrapped\"><div class=\"sk-label-container\"><div class=\"sk-label sk-toggleable\"><input class=\"sk-toggleable__control sk-hidden--visually\" id=\"sk-estimator-id-2\" type=\"checkbox\" ><label for=\"sk-estimator-id-2\" class=\"sk-toggleable__label sk-toggleable__label-arrow\">GridSearchCV</label><div class=\"sk-toggleable__content\"><pre>GridSearchCV(cv=5, estimator=HistGradientBoostingRegressor(), n_jobs=-1,\n",
              "             param_grid={&#x27;l2_regularization&#x27;: [0.0, 0.1, 0.2],\n",
              "                         &#x27;learning_rate&#x27;: [0.01, 0.1, 0.2],\n",
              "                         &#x27;max_depth&#x27;: [3, 5, 7], &#x27;max_iter&#x27;: [100, 200, 300],\n",
              "                         &#x27;min_samples_leaf&#x27;: [1, 2, 4]},\n",
              "             scoring=&#x27;neg_mean_squared_error&#x27;)</pre></div></div></div><div class=\"sk-parallel\"><div class=\"sk-parallel-item\"><div class=\"sk-item\"><div class=\"sk-label-container\"><div class=\"sk-label sk-toggleable\"><input class=\"sk-toggleable__control sk-hidden--visually\" id=\"sk-estimator-id-3\" type=\"checkbox\" ><label for=\"sk-estimator-id-3\" class=\"sk-toggleable__label sk-toggleable__label-arrow\">estimator: HistGradientBoostingRegressor</label><div class=\"sk-toggleable__content\"><pre>HistGradientBoostingRegressor()</pre></div></div></div><div class=\"sk-serial\"><div class=\"sk-item\"><div class=\"sk-estimator sk-toggleable\"><input class=\"sk-toggleable__control sk-hidden--visually\" id=\"sk-estimator-id-4\" type=\"checkbox\" ><label for=\"sk-estimator-id-4\" class=\"sk-toggleable__label sk-toggleable__label-arrow\">HistGradientBoostingRegressor</label><div class=\"sk-toggleable__content\"><pre>HistGradientBoostingRegressor()</pre></div></div></div></div></div></div></div></div></div></div>"
            ]
          },
          "metadata": {},
          "execution_count": 15
        }
      ]
    },
    {
      "cell_type": "code",
      "source": [
        "# Calcul des métriques d'évaluation\n",
        "mse = mean_squared_error(y_test, y_pred)\n",
        "r2 = r2_score(y_test, y_pred)\n",
        "mae = mean_absolute_error(y_test, y_pred)\n",
        "# Calculer la moyenne des scores de MSE\n",
        "avg_mse = -scores.mean()"
      ],
      "metadata": {
        "id": "dcR5d7-EppXz",
        "ExecuteTime": {
          "end_time": "2024-03-06T16:02:56.406847Z",
          "start_time": "2024-03-06T16:02:56.386219Z"
        }
      },
      "execution_count": 68,
      "outputs": []
    },
    {
      "cell_type": "code",
      "source": [
        "# Afficher les meilleurs paramètres et la meilleure MSE\n",
        "print(\"Meilleurs paramètres:\", grid_search.best_params_)\n",
        "print(\"Meilleure MSE:\", -grid_search.best_score_)"
      ],
      "metadata": {
        "colab": {
          "base_uri": "https://localhost:8080/"
        },
        "id": "CupwNLz-GWRI",
        "outputId": "54eacec5-4a8f-408c-db2d-80e833945a4a"
      },
      "execution_count": 69,
      "outputs": [
        {
          "output_type": "stream",
          "name": "stdout",
          "text": [
            "Meilleurs paramètres: {'l2_regularization': 0.2, 'learning_rate': 0.1, 'max_depth': 5, 'max_iter': 300, 'min_samples_leaf': 1}\n",
            "Meilleure MSE: 33.61651634316287\n"
          ]
        }
      ]
    },
    {
      "cell_type": "code",
      "source": [
        "print(\"Mean Squared Error:\", mse)\n",
        "print(\"R-squared:\", r2)\n",
        "print(\"Mean Absolute Error:\", mae)\n",
        "\n",
        "# Afficher le score moyen de MSE\n",
        "print(\"Moyenne des scores de MSE:\", avg_mse)"
      ],
      "metadata": {
        "colab": {
          "base_uri": "https://localhost:8080/"
        },
        "id": "ITLl__hgpzyN",
        "outputId": "0d7869d4-1d44-4633-cb8b-3f0894e7aeab",
        "ExecuteTime": {
          "end_time": "2024-03-06T16:02:56.436389Z",
          "start_time": "2024-03-06T16:02:56.411504Z"
        }
      },
      "execution_count": 70,
      "outputs": [
        {
          "output_type": "stream",
          "name": "stdout",
          "text": [
            "Mean Squared Error: 37.39831031513151\n",
            "R-squared: 0.9843335717720226\n",
            "Mean Absolute Error: 3.7683396209859032\n",
            "Moyenne des scores de MSE: 35.83683566762546\n"
          ]
        }
      ]
    },
    {
      "cell_type": "code",
      "source": [
        "# Tracer les valeurs réelles par rapport aux valeurs prédites\n",
        "plt.figure(figsize=(10, 6))\n",
        "plt.scatter(y_test, y_pred, color='blue', label='Valeurs prédites vs réelles')\n",
        "plt.plot([y_test.min(), y_test.max()], [y_test.min(), y_test.max()], color='red', linestyle='--', label='Ligne de référence')\n",
        "plt.xlabel('Valeurs réelles')\n",
        "plt.ylabel('Valeurs prédites')\n",
        "plt.title('Comparaison des valeurs prédites aux valeurs réelles')\n",
        "plt.legend()\n",
        "plt.show()"
      ],
      "metadata": {
        "colab": {
          "base_uri": "https://localhost:8080/",
          "height": 565
        },
        "id": "mDkRepp1qLU0",
        "outputId": "85848409-3a64-4508-ed75-59921ce51759",
        "ExecuteTime": {
          "end_time": "2024-03-06T16:02:57.371799Z",
          "start_time": "2024-03-06T16:02:56.433446Z"
        }
      },
      "execution_count": 71,
      "outputs": [
        {
          "output_type": "display_data",
          "data": {
            "text/plain": [
              "<Figure size 1000x600 with 1 Axes>"
            ],
            "image/png": "[encoded data removed]"
          },
          "metadata": {}
        }
      ]
    },
    {
      "cell_type": "code",
      "source": [
        "# Créer un nouveau modèle avec les paramètres optimisés\n",
        "optimal_model = HistGradientBoostingRegressor(\n",
        "    l2_regularization=0.0,\n",
        "    learning_rate=0.1,\n",
        "    max_depth=5,\n",
        "    max_iter=300,\n",
        "    min_samples_leaf=2\n",
        ")\n"
      ],
      "metadata": {
        "id": "7BJUhX-sKEqt"
      },
      "execution_count": 191,
      "outputs": []
    },
    {
      "cell_type": "code",
      "source": [
        "# Entraîner le nouveau modèle avec les données d'entraînement\n",
        "optimal_model.fit(X_train, y_train)"
      ],
      "metadata": {
        "colab": {
          "base_uri": "https://localhost:8080/",
          "height": 75
        },
        "id": "v0IzyHE1KEjL",
        "outputId": "d2a801c6-2c2f-434c-feb8-376c56d62a5c"
      },
      "execution_count": 192,
      "outputs": [
        {
          "output_type": "execute_result",
          "data": {
            "text/plain": [
              "HistGradientBoostingRegressor(max_depth=5, max_iter=300, min_samples_leaf=2)"
            ],
            "text/html": [
              "<style>#sk-container-id-6 {color: black;background-color: white;}#sk-container-id-6 pre{padding: 0;}#sk-container-id-6 div.sk-toggleable {background-color: white;}#sk-container-id-6 label.sk-toggleable__label {cursor: pointer;display: block;width: 100%;margin-bottom: 0;padding: 0.3em;box-sizing: border-box;text-align: center;}#sk-container-id-6 label.sk-toggleable__label-arrow:before {content: \"▸\";float: left;margin-right: 0.25em;color: #696969;}#sk-container-id-6 label.sk-toggleable__label-arrow:hover:before {color: black;}#sk-container-id-6 div.sk-estimator:hover label.sk-toggleable__label-arrow:before {color: black;}#sk-container-id-6 div.sk-toggleable__content {max-height: 0;max-width: 0;overflow: hidden;text-align: left;background-color: #f0f8ff;}#sk-container-id-6 div.sk-toggleable__content pre {margin: 0.2em;color: black;border-radius: 0.25em;background-color: #f0f8ff;}#sk-container-id-6 input.sk-toggleable__control:checked~div.sk-toggleable__content {max-height: 200px;max-width: 100%;overflow: auto;}#sk-container-id-6 input.sk-toggleable__control:checked~label.sk-toggleable__label-arrow:before {content: \"▾\";}#sk-container-id-6 div.sk-estimator input.sk-toggleable__control:checked~label.sk-toggleable__label {background-color: #d4ebff;}#sk-container-id-6 div.sk-label input.sk-toggleable__control:checked~label.sk-toggleable__label {background-color: #d4ebff;}#sk-container-id-6 input.sk-hidden--visually {border: 0;clip: rect(1px 1px 1px 1px);clip: rect(1px, 1px, 1px, 1px);height: 1px;margin: -1px;overflow: hidden;padding: 0;position: absolute;width: 1px;}#sk-container-id-6 div.sk-estimator {font-family: monospace;background-color: #f0f8ff;border: 1px dotted black;border-radius: 0.25em;box-sizing: border-box;margin-bottom: 0.5em;}#sk-container-id-6 div.sk-estimator:hover {background-color: #d4ebff;}#sk-container-id-6 div.sk-parallel-item::after {content: \"\";width: 100%;border-bottom: 1px solid gray;flex-grow: 1;}#sk-container-id-6 div.sk-label:hover label.sk-toggleable__label {background-color: #d4ebff;}#sk-container-id-6 div.sk-serial::before {content: \"\";position: absolute;border-left: 1px solid gray;box-sizing: border-box;top: 0;bottom: 0;left: 50%;z-index: 0;}#sk-container-id-6 div.sk-serial {display: flex;flex-direction: column;align-items: center;background-color: white;padding-right: 0.2em;padding-left: 0.2em;position: relative;}#sk-container-id-6 div.sk-item {position: relative;z-index: 1;}#sk-container-id-6 div.sk-parallel {display: flex;align-items: stretch;justify-content: center;background-color: white;position: relative;}#sk-container-id-6 div.sk-item::before, #sk-container-id-6 div.sk-parallel-item::before {content: \"\";position: absolute;border-left: 1px solid gray;box-sizing: border-box;top: 0;bottom: 0;left: 50%;z-index: -1;}#sk-container-id-6 div.sk-parallel-item {display: flex;flex-direction: column;z-index: 1;position: relative;background-color: white;}#sk-container-id-6 div.sk-parallel-item:first-child::after {align-self: flex-end;width: 50%;}#sk-container-id-6 div.sk-parallel-item:last-child::after {align-self: flex-start;width: 50%;}#sk-container-id-6 div.sk-parallel-item:only-child::after {width: 0;}#sk-container-id-6 div.sk-dashed-wrapped {border: 1px dashed gray;margin: 0 0.4em 0.5em 0.4em;box-sizing: border-box;padding-bottom: 0.4em;background-color: white;}#sk-container-id-6 div.sk-label label {font-family: monospace;font-weight: bold;display: inline-block;line-height: 1.2em;}#sk-container-id-6 div.sk-label-container {text-align: center;}#sk-container-id-6 div.sk-container {/* jupyter's `normalize.less` sets `[hidden] { display: none; }` but bootstrap.min.css set `[hidden] { display: none !important; }` so we also need the `!important` here to be able to override the default hidden behavior on the sphinx rendered scikit-learn.org. See: https://github.com/scikit-learn/scikit-learn/issues/21755 */display: inline-block !important;position: relative;}#sk-container-id-6 div.sk-text-repr-fallback {display: none;}</style><div id=\"sk-container-id-6\" class=\"sk-top-container\"><div class=\"sk-text-repr-fallback\"><pre>HistGradientBoostingRegressor(max_depth=5, max_iter=300, min_samples_leaf=2)</pre><b>In a Jupyter environment, please rerun this cell to show the HTML representation or trust the notebook. <br />On GitHub, the HTML representation is unable to render, please try loading this page with nbviewer.org.</b></div><div class=\"sk-container\" hidden><div class=\"sk-item\"><div class=\"sk-estimator sk-toggleable\"><input class=\"sk-toggleable__control sk-hidden--visually\" id=\"sk-estimator-id-8\" type=\"checkbox\" checked><label for=\"sk-estimator-id-8\" class=\"sk-toggleable__label sk-toggleable__label-arrow\">HistGradientBoostingRegressor</label><div class=\"sk-toggleable__content\"><pre>HistGradientBoostingRegressor(max_depth=5, max_iter=300, min_samples_leaf=2)</pre></div></div></div></div></div>"
            ]
          },
          "metadata": {},
          "execution_count": 192
        }
      ]
    },
    {
      "cell_type": "code",
      "source": [
        "# Prédire sur les données de test\n",
        "y_pred_optimal = optimal_model.predict(X_test)"
      ],
      "metadata": {
        "id": "4YfJ0AC_KEZz"
      },
      "execution_count": 193,
      "outputs": []
    },
    {
      "cell_type": "code",
      "source": [
        "# Évaluer les performances du nouveau modèle sur les données de test\n",
        "mse_optimal = mean_squared_error(y_test, y_pred_optimal)\n",
        "r2_optimal = r2_score(y_test, y_pred_optimal)\n",
        "mae_optimal = mean_absolute_error(y_test, y_pred_optimal)"
      ],
      "metadata": {
        "id": "Xj97KnGoKKyp"
      },
      "execution_count": 194,
      "outputs": []
    },
    {
      "cell_type": "code",
      "source": [
        "# Afficher les performances du nouveau modèle\n",
        "print(\"Performances du modèle avec les paramètres optimisés :\")\n",
        "print(\"MSE:\", mse_optimal)\n",
        "print(\"R-squared:\", r2_optimal)\n",
        "print(\"MAE:\", mae_optimal)"
      ],
      "metadata": {
        "colab": {
          "base_uri": "https://localhost:8080/"
        },
        "id": "6z4xUL2dKKov",
        "outputId": "c5fcc7b2-608a-4320-ba98-c57ab73b16dd"
      },
      "execution_count": 195,
      "outputs": [
        {
          "output_type": "stream",
          "name": "stdout",
          "text": [
            "Performances du modèle avec les paramètres optimisés :\n",
            "MSE: 40.32655493266768\n",
            "R-squared: 0.98310690848836\n",
            "MAE: 3.808415065634732\n"
          ]
        }
      ]
    },
    {
      "cell_type": "code",
      "source": [
        "# Tracer les valeurs réelles par rapport aux valeurs prédites\n",
        "plt.figure(figsize=(10, 6))\n",
        "plt.scatter(y_test, y_pred_optimal, color='blue', label='Valeurs prédites vs réelles')\n",
        "plt.plot([y_test.min(), y_test.max()], [y_test.min(), y_test.max()], color='red', linestyle='--', label='Ligne de référence')\n",
        "plt.xlabel('Valeurs réelles')\n",
        "plt.ylabel('Valeurs prédites')\n",
        "plt.title('Comparaison des valeurs prédites aux valeurs réelles')\n",
        "plt.legend()\n",
        "plt.show()"
      ],
      "metadata": {
        "colab": {
          "base_uri": "https://localhost:8080/",
          "height": 565
        },
        "id": "HgXABTeg-qFO",
        "outputId": "b611dc6f-e96b-4133-dc53-13e2c4135400"
      },
      "execution_count": 196,
      "outputs": [
        {
          "output_type": "display_data",
          "data": {
            "text/plain": [
              "<Figure size 1000x600 with 1 Axes>"
            ],
            "image/png": "[encoded data removed]"
          },
          "metadata": {}
        }
      ]
    },
    {
      "cell_type": "code",
      "source": [
        "print(data.tail())"
      ],
      "metadata": {
        "colab": {
          "base_uri": "https://localhost:8080/"
        },
        "id": "rTiCqpeB8JAA",
        "outputId": "51c1442b-871f-4979-9af9-d8ca328edac4"
      },
      "execution_count": 198,
      "outputs": [
        {
          "output_type": "stream",
          "name": "stdout",
          "text": [
            "      goals_scored  assists  total_points  minutes  goals_conceded  \\\n",
            "5601             0        0             0        0               0   \n",
            "5602             0        0             1        3               0   \n",
            "5603             0        0             0        0               0   \n",
            "5604             0        0             0        0               0   \n",
            "5605             0        0             0        0               0   \n",
            "\n",
            "      creativity  influence  threat  bonus  bps  ict_index  clean_sheets  \\\n",
            "5601         0.0        0.0     0.0      0    0        0.0             0   \n",
            "5602         3.8        0.8     0.0      0    2        0.5             0   \n",
            "5603         0.0        0.0     0.0      0    0        0.0             0   \n",
            "5604         0.0        0.0     0.0      0    0        0.0             0   \n",
            "5605         0.0        0.0     0.0      0    0        0.0             0   \n",
            "\n",
            "      red_cards  yellow_cards  selected_by_percent  now_cost element_type  \\\n",
            "5601          0             0                  0.0       NaN          NaN   \n",
            "5602          0             0                  0.0       NaN          NaN   \n",
            "5603          0             0                  0.0       NaN          NaN   \n",
            "5604          0             0                  0.0       NaN          NaN   \n",
            "5605          0             0                  0.0       NaN          NaN   \n",
            "\n",
            "            source             name  \n",
            "5601  players16-17     Sam Surridge  \n",
            "5602  players16-17      Angel Gomes  \n",
            "5603  players16-17    Kieran O'Hara  \n",
            "5604  players16-17  Gerhard Tremmel  \n",
            "5605  players16-17   Rene Gilmartin  \n"
          ]
        }
      ]
    },
    {
      "cell_type": "code",
      "source": [
        "def predict_player_performance(model, player_name, data):\n",
        "    # Filtrer les données pour obtenir les caractéristiques du joueur spécifié\n",
        "    player_data = data[data['name'] == player_name]\n",
        "\n",
        "    # Sélectionner uniquement les caractéristiques utilisées lors de l'entraînement\n",
        "    selected_features = ['goals_scored','assists','goals_conceded','creativity','influence','threat','bonus','clean_sheets','red_cards','yellow_cards','now_cost']\n",
        "\n",
        "\n",
        "    player_data = player_data[selected_features]\n",
        "\n",
        "    # Effectuer la prédiction\n",
        "    predicted_performance = optimal_model.predict(player_data)\n",
        "\n",
        "    # Calculer la moyenne des performances prédites\n",
        "    average_performance = np.mean(predicted_performance)\n",
        "\n",
        "    return average_performance"
      ],
      "metadata": {
        "id": "d7g_RO80RoyF"
      },
      "execution_count": 199,
      "outputs": []
    },
    {
      "cell_type": "code",
      "source": [
        "# Nom du joueur à prédire\n",
        "player_name = 'Erling Haaland'\n",
        "\n",
        "# Prédiction des performances du joueur\n",
        "predicted_performance = predict_player_performance(optimal_model, player_name, team_data)\n",
        "\n",
        "print(\"Performances prédites (total_points) pour le joueur: \",player_name, predicted_performance)\n"
      ],
      "metadata": {
        "colab": {
          "base_uri": "https://localhost:8080/"
        },
        "id": "GQ_iUhVi-qCE",
        "outputId": "1038bbef-daf2-4e35-fbd8-c1f574e12b74"
      },
      "execution_count": 214,
      "outputs": [
        {
          "output_type": "stream",
          "name": "stdout",
          "text": [
            "Performances prédites (total_points) pour le joueur:  Erling Haaland 4.990455629675643\n"
          ]
        }
      ]
    },
    {
      "cell_type": "code",
      "source": [
        "# Sélectionner les informations pour le joueur spécifié\n",
        "player_info = data[data['name'] == player_name]\n",
        "\n",
        "# Vérifier si le joueur spécifié est présent dans les données\n",
        "if not player_info.empty:\n",
        "    # Extraire les informations nécessaires\n",
        "    now_cost = player_info['now_cost'].values[0]\n",
        "    total_points = player_info['total_points'].values[0]\n",
        "    position = player_info['element_type'].values[0]  # Assurez-vous que 'element_type' contient les informations sur le poste du joueur\n",
        "\n",
        "    # Afficher les informations\n",
        "    print(\"Nom du joueur:\", player_name)\n",
        "    print(\"Prix actuel:\", now_cost)\n",
        "    print(\"Total de points actuel:\", total_points)\n",
        "    print(\"Poste:\", position)\n",
        "else:\n",
        "    print(\"Le joueur spécifié n'a pas été trouvé dans les données.\")\n"
      ],
      "metadata": {
        "id": "pITncp_ESN4A",
        "colab": {
          "base_uri": "https://localhost:8080/"
        },
        "outputId": "2edeb555-6187-4113-c7b6-7c56abe37423"
      },
      "execution_count": 201,
      "outputs": [
        {
          "output_type": "stream",
          "name": "stdout",
          "text": [
            "Nom du joueur: Erling Haaland\n",
            "Prix actuel: 140.0\n",
            "Total de points actuel: 112\n",
            "Poste: FWD\n"
          ]
        }
      ]
    },
    {
      "cell_type": "markdown",
      "source": [
        "prediction pour les joeurus de la saison en cours"
      ],
      "metadata": {
        "id": "4si914XFna7j"
      }
    },
    {
      "cell_type": "code",
      "source": [
        "team_data = pd.read_csv('/content/gw27.csv')\n",
        "team_data = team_data.rename(columns={'value': 'now_cost'})\n",
        "\n",
        "print(team_data.head())\n",
        "print(len(team_data))"
      ],
      "metadata": {
        "colab": {
          "base_uri": "https://localhost:8080/"
        },
        "id": "jv6GNSPHyQl7",
        "outputId": "4c9a5ae6-7ddf-477e-837b-982514ffb1d7"
      },
      "execution_count": 202,
      "outputs": [
        {
          "output_type": "stream",
          "name": "stdout",
          "text": [
            "               name position           team   xP  assists  bonus  bps  \\\n",
            "0       Femi Seriki      DEF  Sheffield Utd  0.0        0      0    0   \n",
            "1     Josh Brooking      DEF        Chelsea  0.0        0      0    0   \n",
            "2       Radek Vítek       GK        Man Utd  0.0        0      0    0   \n",
            "3  Jack Hinshelwood      MID       Brighton  0.0        0      0    0   \n",
            "4      Jadon Sancho      MID        Man Utd  0.0        0      0    0   \n",
            "\n",
            "   clean_sheets  creativity  element  ...  team_a_score  team_h_score  threat  \\\n",
            "0             0         0.0      653  ...             6             0     0.0   \n",
            "1             0         0.0      723  ...             2             2     0.0   \n",
            "2             0         0.0      669  ...             1             3     0.0   \n",
            "3             0         0.0      621  ...             0             3     0.0   \n",
            "4             0         0.0      397  ...             1             3     0.0   \n",
            "\n",
            "   total_points  transfers_balance  transfers_in  transfers_out  now_cost  \\\n",
            "0             0               -138             0            138        39   \n",
            "1             0                  7            60             53        40   \n",
            "2             0                -42             0             42        40   \n",
            "3             0              -1503            32           1535        45   \n",
            "4             0                -93             0             93        67   \n",
            "\n",
            "   was_home yellow_cards  \n",
            "0      True            0  \n",
            "1     False            0  \n",
            "2     False            0  \n",
            "3     False            0  \n",
            "4     False            0  \n",
            "\n",
            "[5 rows x 40 columns]\n",
            "832\n"
          ]
        }
      ]
    },
    {
      "cell_type": "code",
      "source": [
        "\n",
        "# Créer une liste pour stocker les prédictions de performances pour tous les joueurs de la saison 23-24\n",
        "all_predictions = []\n",
        "\n",
        "# Itérer sur chaque joueur dans le DataFrame de la saison 23-24\n",
        "for player_name in team_data['name']:\n",
        "    # Prédiction des performances du joueur avec le modèle entraîné\n",
        "    predicted_performance = predict_player_performance(optimal_model, player_name, team_data)\n",
        "\n",
        "    # Ajouter le nom du joueur et ses prédictions à la liste\n",
        "    all_predictions.append((player_name, predicted_performance))\n",
        "\n",
        "# Afficher les prédictions pour tous les joueurs de la saison 23-24\n",
        "for player_name, predicted_performance in all_predictions:\n",
        "    print(\"Performances prédites (total_points) pour le joueur:\", player_name, \":\", predicted_performance)\n"
      ],
      "metadata": {
        "colab": {
          "base_uri": "https://localhost:8080/"
        },
        "id": "PlvJiOqimh-b",
        "outputId": "da813b19-11d1-493f-85db-46a1148ba15d"
      },
      "execution_count": 204,
      "outputs": [
        {
          "output_type": "stream",
          "name": "stdout",
          "text": [
            "Performances prédites (total_points) pour le joueur: Femi Seriki : 0.008913491896805082\n",
            "Performances prédites (total_points) pour le joueur: Josh Brooking : 0.008913491896805082\n",
            "Performances prédites (total_points) pour le joueur: Radek Vítek : 0.008913491896805082\n",
            "Performances prédites (total_points) pour le joueur: Jack Hinshelwood : 0.10754178274003064\n",
            "Performances prédites (total_points) pour le joueur: Jadon Sancho : -0.11846580224248894\n",
            "Performances prédites (total_points) pour le joueur: Divock Origi : 5.240079697041862\n",
            "Performances prédites (total_points) pour le joueur: Sam Curtis : 0.008913491896805082\n",
            "Performances prédites (total_points) pour le joueur: Rhys Norrington-Davies : 0.008913491896805082\n",
            "Performances prédites (total_points) pour le joueur: Vitaly Janelt : 2.807197133774309\n",
            "Performances prédites (total_points) pour le joueur: Ionuț Radu : 0.062391761384509754\n",
            "Performances prédites (total_points) pour le joueur: Andre Brooks : 1.4833789815486196\n",
            "Performances prédites (total_points) pour le joueur: Jack Grealish : -0.04868646009968384\n",
            "Performances prédites (total_points) pour le joueur: Emil Krafth : 0.10754178274003064\n",
            "Performances prédites (total_points) pour le joueur: Boubacar Traoré : 1.211389698336334\n",
            "Performances prédites (total_points) pour le joueur: Denis Franchi : 0.008913491896805082\n",
            "Performances prédites (total_points) pour le joueur: James Shea : 0.062391761384509754\n",
            "Performances prédites (total_points) pour le joueur: Curtis Jones : 0.14242485688982653\n",
            "Performances prédites (total_points) pour le joueur: Myles Lewis-Skelly : 0.10754178274003064\n",
            "Performances prédites (total_points) pour le joueur: Devan Tanton : 0.008913491896805082\n",
            "Performances prédites (total_points) pour le joueur: Reece James : 0.14242485688982653\n",
            "Performances prédites (total_points) pour le joueur: Brandon Austin : 0.008913491896805082\n",
            "Performances prédites (total_points) pour le joueur: Anssumane Fati Vieira : 3.081325583005515\n",
            "Performances prédites (total_points) pour le joueur: Robin Olsen : 0.008913491896805082\n",
            "Performances prédites (total_points) pour le joueur: Fabian Mrozek : 0.008913491896805082\n",
            "Performances prédites (total_points) pour le joueur: Joe Gardner : 0.10754178274003064\n",
            "Performances prédites (total_points) pour le joueur: Ben Osborn : 2.2734453966651804\n",
            "Performances prédites (total_points) pour le joueur: Amad Diallo : 0.10754178274003064\n",
            "Performances prédites (total_points) pour le joueur: Anthony Elanga : 2.3596317611917934\n",
            "Performances prédites (total_points) pour le joueur: Kaelan Casey : 0.008913491896805082\n",
            "Performances prédites (total_points) pour le joueur: Oliver Norwood : 2.047604921174709\n",
            "Performances prédites (total_points) pour le joueur: Harry Toffolo : 3.2284095148583662\n",
            "Performances prédites (total_points) pour le joueur: Bernardo Veiga de Carvalho e Silva : 10.43535947834884\n",
            "Performances prédites (total_points) pour le joueur: Charlie Taylor : 3.021662033854101\n",
            "Performances prédites (total_points) pour le joueur: Adam Wharton : 3.2811670614091732\n",
            "Performances prédites (total_points) pour le joueur: Ivan Toney : 3.441938233396854\n",
            "Performances prédites (total_points) pour le joueur: Ji-Soo Kim : 0.008913491896805082\n",
            "Performances prédites (total_points) pour le joueur: Nuno Varela Tavares : 0.008913491896805082\n",
            "Performances prédites (total_points) pour le joueur: Alex Murphy : 0.008913491896805082\n",
            "Performances prédites (total_points) pour le joueur: Eddie Nketiah : 0.14242485688982653\n",
            "Performances prédites (total_points) pour le joueur: Benoît Badiashile : 0.10754178274003064\n",
            "Performances prédites (total_points) pour le joueur: Emile Smith Rowe : 0.14242485688982653\n",
            "Performances prédites (total_points) pour le joueur: Jarell Quansah : 0.008913491896805082\n",
            "Performances prédites (total_points) pour le joueur: Ben Chilwell : 3.2810508915123218\n",
            "Performances prédites (total_points) pour le joueur: Philippe Coutinho Correia : 0.3663152840337478\n",
            "Performances prédites (total_points) pour le joueur: Tim Iroegbunam : 1.212849506740764\n",
            "Performances prédites (total_points) pour le joueur: Andy Lonergan : 0.008913491896805082\n",
            "Performances prédites (total_points) pour le joueur: Carlos Baleba : 3.5297542009494243\n",
            "Performances prédites (total_points) pour le joueur: Pablo Sarabia : 7.590686533416173\n",
            "Performances prédites (total_points) pour le joueur: Kieffer Moore : 0.14242485688982653\n",
            "Performances prédites (total_points) pour le joueur: Wayne Hennessey : 0.008913491896805082\n",
            "Performances prédites (total_points) pour le joueur: Remi Matthews : 0.008913491896805082\n",
            "Performances prédites (total_points) pour le joueur: Ibrahima Konaté : 9.693339704885627\n",
            "Performances prédites (total_points) pour le joueur: Joelinton Cássio Apolinário de Lira : 0.3663152840337478\n",
            "Performances prédites (total_points) pour le joueur: Travis Hernes : 0.10754178274003064\n",
            "Performances prédites (total_points) pour le joueur: Marcus Tavernier : 5.723847551550842\n",
            "Performances prédites (total_points) pour le joueur: Matthew Cox : 0.008913491896805082\n",
            "Performances prédites (total_points) pour le joueur: Manuel Akanji : 0.14242485688982653\n",
            "Performances prédites (total_points) pour le joueur: Matheus França de Oliveira : 1.8802028623084006\n",
            "Performances prédites (total_points) pour le joueur: Justin Hubner : 0.008913491896805082\n",
            "Performances prédites (total_points) pour le joueur: Lucas Tolentino Coelho de Lima : 3.8718800900543475\n",
            "Performances prédites (total_points) pour le joueur: Rasmus Højlund : 0.07235980429768188\n",
            "Performances prédites (total_points) pour le joueur: Luca Koleosho : 0.14242485688982653\n",
            "Performances prédites (total_points) pour le joueur: Rayan Aït-Nouri : 3.7861875579114885\n",
            "Performances prédites (total_points) pour le joueur: Calum Chambers : 0.008913491896805082\n",
            "Performances prédites (total_points) pour le joueur: Ben Davies : 0.062391761384509754\n",
            "Performances prédites (total_points) pour le joueur: Emerson Palmieri dos Santos : 3.2816319852934894\n",
            "Performances prédites (total_points) pour le joueur: Luis Díaz : 5.164448849081806\n",
            "Performances prédites (total_points) pour le joueur: Lawrence Vigouroux : 0.008913491896805082\n",
            "Performances prédites (total_points) pour le joueur: Jakub Moder : 1.171614158834741\n",
            "Performances prédites (total_points) pour le joueur: Tommi O'Reilly : 0.10754178274003064\n",
            "Performances prédites (total_points) pour le joueur: Dara Costelloe : 0.10754178274003064\n",
            "Performances prédites (total_points) pour le joueur: Ashley Phillips : 0.008913491896805082\n",
            "Performances prédites (total_points) pour le joueur: John Stones : 3.538324869598515\n",
            "Performances prédites (total_points) pour le joueur: Idrissa Gueye : 0.14242485688982653\n",
            "Performances prédites (total_points) pour le joueur: Harry Wilson : 17.872552776435\n",
            "Performances prédites (total_points) pour le joueur: Marcus Bettinelli : 0.008913491896805082\n",
            "Performances prédites (total_points) pour le joueur: Malcolm Ebiowei : 0.10754178274003064\n",
            "Performances prédites (total_points) pour le joueur: Benjamin White : 11.946962421908045\n",
            "Performances prédites (total_points) pour le joueur: Leigh Kavanagh : 0.008913491896805082\n",
            "Performances prédites (total_points) pour le joueur: Teden Mengi : 2.647336086778607\n",
            "Performances prédites (total_points) pour le joueur: Ezri Konsa Ngoyo : 2.265547532854832\n",
            "Performances prédites (total_points) pour le joueur: Luis Sinisterra : 0.20328602319573702\n",
            "Performances prédites (total_points) pour le joueur: Thomas Partey : 1.6805462091717718\n",
            "Performances prédites (total_points) pour le joueur: Jayden Luker : 0.10754178274003064\n",
            "Performances prédites (total_points) pour le joueur: Jamal Lewis : 0.008913491896805082\n",
            "Performances prédites (total_points) pour le joueur: Leon Bailey : 10.596716923406976\n",
            "Performances prédites (total_points) pour le joueur: Jonny Evans : 2.20829447980187\n",
            "Performances prédites (total_points) pour le joueur: Ethan Horvath : 0.062391761384509754\n",
            "Performances prédites (total_points) pour le joueur: Valentín Barco : 0.008913491896805082\n",
            "Performances prédites (total_points) pour le joueur: Luke Plange : 0.10754178274003064\n",
            "Performances prédites (total_points) pour le joueur: Luke Shaw : 0.14242485688982653\n",
            "Performances prédites (total_points) pour le joueur: Oliver Scarles : 0.008913491896805082\n",
            "Performances prédites (total_points) pour le joueur: Mario Lemina : 3.3928686740034344\n",
            "Performances prédites (total_points) pour le joueur: Andi Zeqiri : 0.10754178274003064\n",
            "Performances prédites (total_points) pour le joueur: James Tarkowski : 3.3596127991991764\n",
            "Performances prédites (total_points) pour le joueur: Kristoffer Ajer : 2.4979681283239388\n",
            "Performances prédites (total_points) pour le joueur: Brennan Johnson : 9.759333713765713\n",
            "Performances prédites (total_points) pour le joueur: Jake O'Brien : 0.008913491896805082\n",
            "Performances prédites (total_points) pour le joueur: Eddie Beach : 0.008913491896805082\n",
            "Performances prédites (total_points) pour le joueur: James Sweet : 0.008913491896805082\n",
            "Performances prédites (total_points) pour le joueur: Ryan Sessegnon : 0.10754178274003064\n",
            "Performances prédites (total_points) pour le joueur: Justin Kluivert : 9.927285132585054\n",
            "Performances prédites (total_points) pour le joueur: Viljami Sinisalo : 0.008913491896805082\n",
            "Performances prédites (total_points) pour le joueur: Pierre-Emile Højbjerg : 1.3194245953259498\n",
            "Performances prédites (total_points) pour le joueur: Lesley Ugochukwu : 0.10754178274003064\n",
            "Performances prédites (total_points) pour le joueur: Jadan Raymond : 0.10754178274003064\n",
            "Performances prédites (total_points) pour le joueur: Arnaut Danjuma Groeneveld : 0.14242485688982653\n",
            "Performances prédites (total_points) pour le joueur: Callum Hudson-Odoi : 4.352852304706817\n",
            "Performances prédites (total_points) pour le joueur: Kieran Tierney : 0.10754178274003064\n",
            "Performances prédites (total_points) pour le joueur: Tim Ream : 0.10754178274003064\n",
            "Performances prédites (total_points) pour le joueur: Phil Foden : 20.268991800601484\n",
            "Performances prédites (total_points) pour le joueur: Christian Eriksen : 0.3663152840337478\n",
            "Performances prédites (total_points) pour le joueur: Fábio Silva : 0.14242485688982653\n",
            "Performances prédites (total_points) pour le joueur: Ivo Grbic : 2.376700221261597\n",
            "Performances prédites (total_points) pour le joueur: Alfie Whiteman : 0.008913491896805082\n",
            "Performances prédites (total_points) pour le joueur: James Tomkins : 0.008913491896805082\n",
            "Performances prédites (total_points) pour le joueur: William Osula : 0.7406719890070289\n",
            "Performances prédites (total_points) pour le joueur: Ollie Watkins : 16.245274676082083\n",
            "Performances prédites (total_points) pour le joueur: Gabriel dos Santos Magalhães : 6.191136848564704\n",
            "Performances prédites (total_points) pour le joueur: Takehiro Tomiyasu : 0.10754178274003064\n",
            "Performances prédites (total_points) pour le joueur: Harrison Reed : 6.821403710567773\n",
            "Performances prédites (total_points) pour le joueur: Manor Solomon : 0.14242485688982653\n",
            "Performances prédites (total_points) pour le joueur: Marcus Oliveira Alencar : 0.10754178274003064\n",
            "Performances prédites (total_points) pour le joueur: Eric Bailly : 0.008913491896805082\n",
            "Performances prédites (total_points) pour le joueur: Hakim Ziyech : 0.11351706175792649\n",
            "Performances prédites (total_points) pour le joueur: Gianluca Scamacca : 0.024971816689474173\n",
            "Performances prédites (total_points) pour le joueur: Wilson Odobert : 6.780985740874092\n",
            "Performances prédites (total_points) pour le joueur: Jili Buyabu : 0.008913491896805082\n",
            "Performances prédites (total_points) pour le joueur: Benicio Baker-Boaitey : 0.10754178274003064\n",
            "Performances prédites (total_points) pour le joueur: Christian Nørgaard : 3.2560081704989665\n",
            "Performances prédites (total_points) pour le joueur: Sean Longstaff : 6.084161210898375\n",
            "Performances prédites (total_points) pour le joueur: Pelly Ruddock Mpanzu : 1.2080661684195821\n",
            "Performances prédites (total_points) pour le joueur: Danny Ings : 0.3663152840337478\n",
            "Performances prédites (total_points) pour le joueur: Donny van de Beek : 0.14242485688982653\n",
            "Performances prédites (total_points) pour le joueur: Giulian Biancone : 0.008913491896805082\n",
            "Performances prédites (total_points) pour le joueur: Albert Sambi Lokonga : 0.14242485688982653\n",
            "Performances prédites (total_points) pour le joueur: Luke McNally : 0.008913491896805082\n",
            "Performances prédites (total_points) pour le joueur: Kaoru Mitoma : -0.11846580224248894\n",
            "Performances prédites (total_points) pour le joueur: Abdul Rahman Baba : 0.008913491896805082\n",
            "Performances prédites (total_points) pour le joueur: Dango Ouattara : 0.9817514280930445\n",
            "Performances prédites (total_points) pour le joueur: Daniel Jebbison : 0.14242485688982653\n",
            "Performances prédites (total_points) pour le joueur: Simon Adingra : 3.9612999125572803\n",
            "Performances prédites (total_points) pour le joueur: Scott Twine : 0.14242485688982653\n",
            "Performances prédites (total_points) pour le joueur: Daiki Hashioka : 1.3568906638827716\n",
            "Performances prédites (total_points) pour le joueur: Murillo Santiago Costa dos Santos : 2.439949293173956\n",
            "Performances prédites (total_points) pour le joueur: Owen Hesketh : 0.10754178274003064\n",
            "Performances prédites (total_points) pour le joueur: Sergio Gómez : 0.008913491896805082\n",
            "Performances prédites (total_points) pour le joueur: Wataru Endo : 2.141641807904224\n",
            "Performances prédites (total_points) pour le joueur: Danilo dos Santos de Oliveira : 2.194993128483767\n",
            "Performances prédites (total_points) pour le joueur: David Raya Martin : 4.85186294150952\n",
            "Performances prédites (total_points) pour le joueur: Jacob Murphy : 6.138609957649427\n",
            "Performances prédites (total_points) pour le joueur: Reuell Walters : 0.008913491896805082\n",
            "Performances prédites (total_points) pour le joueur: Thomas Kaminski : 3.7352268120593415\n",
            "Performances prédites (total_points) pour le joueur: Amadou Diallo : 0.10754178274003064\n",
            "Performances prédites (total_points) pour le joueur: Jean-Philippe Mateta : 3.1997379316160757\n",
            "Performances prédites (total_points) pour le joueur: Dovydas Sasnauskas : 0.008913491896805082\n",
            "Performances prédites (total_points) pour le joueur: Ben Pearson : 0.10754178274003064\n",
            "Performances prédites (total_points) pour le joueur: Bailey Peacock-Farrell : 0.008913491896805082\n",
            "Performances prédites (total_points) pour le joueur: Felipe Augusto de Almeida Monteiro : -0.1661674217286653\n",
            "Performances prédites (total_points) pour le joueur: William Saliba : 6.528166555845027\n",
            "Performances prédites (total_points) pour le joueur: Michael Obafemi : 0.14242485688982653\n",
            "Performances prédites (total_points) pour le joueur: Ben Godfrey : 3.569305533876088\n",
            "Performances prédites (total_points) pour le joueur: Franco Umeh-Chibueze : 0.10754178274003064\n",
            "Performances prédites (total_points) pour le joueur: Victor da Silva : 2.104365583102752\n",
            "Performances prédites (total_points) pour le joueur: André Tavares Gomes : 3.320722559339542\n",
            "Performances prédites (total_points) pour le joueur: Destiny Udogie : 3.596764201656257\n",
            "Performances prédites (total_points) pour le joueur: Ryan Trevitt : 0.10754178274003064\n",
            "Performances prédites (total_points) pour le joueur: Dion Pereira : 0.10754178274003064\n",
            "Performances prédites (total_points) pour le joueur: Tayo Adaramola : 0.008913491896805082\n",
            "Performances prédites (total_points) pour le joueur: Connor Roberts : 0.062391761384509754\n",
            "Performances prédites (total_points) pour le joueur: Douglas Luiz Soares de Paulo : 5.571024667957794\n",
            "Performances prédites (total_points) pour le joueur: Mark Flekken : 2.280226957172579\n",
            "Performances prédites (total_points) pour le joueur: Martin Dubravka : 5.667890540139453\n",
            "Performances prédites (total_points) pour le joueur: James McConnell : 0.10754178274003064\n",
            "Performances prédites (total_points) pour le joueur: Stefan Bajcetic : 0.14242485688982653\n",
            "Performances prédites (total_points) pour le joueur: Andreas Hoelgebaum Pereira : 4.904567619704371\n",
            "Performances prédites (total_points) pour le joueur: Joseph Johnson : 0.008913491896805082\n",
            "Performances prédites (total_points) pour le joueur: Toby Collyer : 0.10754178274003064\n",
            "Performances prédites (total_points) pour le joueur: Marc Cucurella Saseta : 0.14242485688982653\n",
            "Performances prédites (total_points) pour le joueur: João Palhinha Gonçalves : 0.14242485688982653\n",
            "Performances prédites (total_points) pour le joueur: Bryan Gil Salvatierra : 0.14242485688982653\n",
            "Performances prédites (total_points) pour le joueur: Jimi Tauriainen : 0.10754178274003064\n",
            "Performances prédites (total_points) pour le joueur: Neco Williams : 3.1626572806377142\n",
            "Performances prédites (total_points) pour le joueur: Harrison Ashby : 0.008913491896805082\n",
            "Performances prédites (total_points) pour le joueur: Billy Gilmour : 0.14242485688982653\n",
            "Performances prédites (total_points) pour le joueur: John Egan : 0.062391761384509754\n",
            "Performances prédites (total_points) pour le joueur: Mikkel Damsgaard : 0.14242485688982653\n",
            "Performances prédites (total_points) pour le joueur: Angelo Ogbonna : 0.062391761384509754\n",
            "Performances prédites (total_points) pour le joueur: Chris Basham : 0.008913491896805082\n",
            "Performances prédites (total_points) pour le joueur: Son Heung-min : 8.130815212324343\n",
            "Performances prédites (total_points) pour le joueur: Joe Gomez : 6.456736633931769\n",
            "Performances prédites (total_points) pour le joueur: Darren Randolph : 0.008913491896805082\n",
            "Performances prédites (total_points) pour le joueur: Ben Johnson : 0.10754178274003064\n",
            "Performances prédites (total_points) pour le joueur: Pedro Porro : 0.3663152840337478\n",
            "Performances prédites (total_points) pour le joueur: Manuel Benson Hedilazio : 2.278553139860618\n",
            "Performances prédites (total_points) pour le joueur: Levi Colwill : 3.238171042277685\n",
            "Performances prédites (total_points) pour le joueur: Jonathan Panzo : 0.008913491896805082\n",
            "Performances prédites (total_points) pour le joueur: Pablo Fornals Malla : 0.14242485688982653\n",
            "Performances prédites (total_points) pour le joueur: Elijah Adebayo : 0.14242485688982653\n",
            "Performances prédites (total_points) pour le joueur: Rico Henry : 0.062391761384509754\n",
            "Performances prédites (total_points) pour le joueur: Owen Beck : 0.10754178274003064\n",
            "Performances prédites (total_points) pour le joueur: Bobby Clark : 3.3131294863661704\n",
            "Performances prédites (total_points) pour le joueur: Flynn Downes : 0.14242485688982653\n",
            "Performances prédites (total_points) pour le joueur: Max Kinsey : 0.008913491896805082\n",
            "Performances prédites (total_points) pour le joueur: Ben Greenwood : 0.008913491896805082\n",
            "Performances prédites (total_points) pour le joueur: Alfie Dorrington : 0.008913491896805082\n",
            "Performances prédites (total_points) pour le joueur: Joe Willock : 6.255505611275696\n",
            "Performances prédites (total_points) pour le joueur: Javier Manquillo Gaitán : 0.008913491896805082\n",
            "Performances prédites (total_points) pour le joueur: Kobbie Mainoo : 3.154677550482824\n",
            "Performances prédites (total_points) pour le joueur: Dominic Calvert-Lewin : 3.7105718436255755\n",
            "Performances prédites (total_points) pour le joueur: Tommy Doyle : 3.6144515576718774\n",
            "Performances prédites (total_points) pour le joueur: Halil Dervişoğlu : 0.10754178274003064\n",
            "Performances prédites (total_points) pour le joueur: Gabriel Osho : 0.10754178274003064\n",
            "Performances prédites (total_points) pour le joueur: João Pedro Junqueira de Jesus : 0.14242485688982653\n",
            "Performances prédites (total_points) pour le joueur: Vincent Angelini : 0.008913491896805082\n",
            "Performances prédites (total_points) pour le joueur: Kurt Zouma : 7.719218449643697\n",
            "Performances prédites (total_points) pour le joueur: Omar Richards : 0.10754178274003064\n",
            "Performances prédites (total_points) pour le joueur: Mark O’Mahony : 0.10754178274003064\n",
            "Performances prédites (total_points) pour le joueur: Iliman Ndiaye : 0.20328602319573702\n",
            "Performances prédites (total_points) pour le joueur: Elliot Thorpe : 0.10754178274003064\n",
            "Performances prédites (total_points) pour le joueur: Shea Charles : 0.10754178274003064\n",
            "Performances prédites (total_points) pour le joueur: Joe Rodon : 0.008913491896805082\n",
            "Performances prédites (total_points) pour le joueur: Habeeb Ogunneye : 0.008913491896805082\n",
            "Performances prédites (total_points) pour le joueur: Neal Maupay : 1.0485255377766638\n",
            "Performances prédites (total_points) pour le joueur: Jordan Ayew : 5.081464162936667\n",
            "Performances prédites (total_points) pour le joueur: Divin Mubama : 0.062391761384509754\n",
            "Performances prédites (total_points) pour le joueur: Nathaniel Phillips : 0.008913491896805082\n",
            "Performances prédites (total_points) pour le joueur: Dominik Szoboszlai : 1.5372667732504495\n",
            "Performances prédites (total_points) pour le joueur: Ryan Oné : 0.10754178274003064\n",
            "Performances prédites (total_points) pour le joueur: Kristian Sekularac : 0.10754178274003064\n",
            "Performances prédites (total_points) pour le joueur: Jordan Clark : 4.606544844256193\n",
            "Performances prédites (total_points) pour le joueur: Elijah Campbell : 0.008913491896805082\n",
            "Performances prédites (total_points) pour le joueur: Mason Mount : 0.045007190421920036\n",
            "Performances prédites (total_points) pour le joueur: Ellery Balcombe : 0.008913491896805082\n",
            "Performances prédites (total_points) pour le joueur: David Brooks : 0.14242485688982653\n",
            "Performances prédites (total_points) pour le joueur: Pascal Groß : 1.5748451615702597\n",
            "Performances prédites (total_points) pour le joueur: John McGinn : 4.654641952400365\n",
            "Performances prédites (total_points) pour le joueur: Treymaurice Nyoni : 0.10754178274003064\n",
            "Performances prédites (total_points) pour le joueur: Tanguy Ndombélé Alvaro : 0.10754178274003064\n",
            "Performances prédites (total_points) pour le joueur: Ben Parkinson : 0.10754178274003064\n",
            "Performances prédites (total_points) pour le joueur: Jairo Riedewald : 0.062391761384509754\n",
            "Performances prédites (total_points) pour le joueur: Yoane Wissa : 7.911654467022936\n",
            "Performances prédites (total_points) pour le joueur: Reiss Nelson : 0.14242485688982653\n",
            "Performances prédites (total_points) pour le joueur: Ibrahim Sangaré : 0.14242485688982653\n",
            "Performances prédites (total_points) pour le joueur: Facundo Pellistri Rebollo : 0.062391761384509754\n",
            "Performances prédites (total_points) pour le joueur: James Hill : 0.008913491896805082\n",
            "Performances prédites (total_points) pour le joueur: Bruno Cavaco Jordão : 0.062391761384509754\n",
            "Performances prédites (total_points) pour le joueur: Kjell Scherpen : 0.008913491896805082\n",
            "Performances prédites (total_points) pour le joueur: Máximo Perrone : 0.10754178274003064\n",
            "Performances prédites (total_points) pour le joueur: Aleksandar Mitrović : -0.04858440437298956\n",
            "Performances prédites (total_points) pour le joueur: Kevin Schade : 0.14242485688982653\n",
            "Performances prédites (total_points) pour le joueur: Moussa Niakhaté : 0.10754178274003064\n",
            "Performances prédites (total_points) pour le joueur: Paul Dummett : 0.008913491896805082\n",
            "Performances prédites (total_points) pour le joueur: Rodrigo Duarte Ribeiro : 0.10754178274003064\n",
            "Performances prédites (total_points) pour le joueur: Sven Botman : 5.6038992880704495\n",
            "Performances prédites (total_points) pour le joueur: Issa Diop : 0.10754178274003064\n",
            "Performances prédites (total_points) pour le joueur: Aaron Ramsdale : 0.10754178274003064\n",
            "Performances prédites (total_points) pour le joueur: Tosin Adarabioyo : 5.727486652789928\n",
            "Performances prédites (total_points) pour le joueur: Trent Alexander-Arnold : -0.37665131867938595\n",
            "Performances prédites (total_points) pour le joueur: Anass Zaroury : 0.14242485688982653\n",
            "Performances prédites (total_points) pour le joueur: Pervis Estupiñán : 7.731074166469054\n",
            "Performances prédites (total_points) pour le joueur: Enso González : 0.14242485688982653\n",
            "Performances prédites (total_points) pour le joueur: Chiedozie Ogbene : 3.719918831200434\n",
            "Performances prédites (total_points) pour le joueur: Romain Faivre : 0.14242485688982653\n",
            "Performances prédites (total_points) pour le joueur: Harvey Elliott : 6.277391351755779\n",
            "Performances prédites (total_points) pour le joueur: Jack Robinson : 2.906631283275375\n",
            "Performances prédites (total_points) pour le joueur: Detlef Esapa Osong : 0.10754178274003064\n",
            "Performances prédites (total_points) pour le joueur: Gabriel Martinelli Silva : 14.867572569301956\n",
            "Performances prédites (total_points) pour le joueur: Wout Weghorst : 0.20328602319573702\n",
            "Performances prédites (total_points) pour le joueur: Jhon Durán : 0.14242485688982653\n",
            "Performances prédites (total_points) pour le joueur: Oscar Bobb : 0.10754178274003064\n",
            "Performances prédites (total_points) pour le joueur: Michail Antonio : 1.4032532902338744\n",
            "Performances prédites (total_points) pour le joueur: Jamie Donley : 0.10754178274003064\n",
            "Performances prédites (total_points) pour le joueur: Malang Sarr : 0.062391761384509754\n",
            "Performances prédites (total_points) pour le joueur: Ângelo Gabriel Borges Damaceno : 0.14242485688982653\n",
            "Performances prédites (total_points) pour le joueur: Micky van de Ven : 2.710132977651894\n",
            "Performances prédites (total_points) pour le joueur: Adama Traoré : 6.379031980932662\n",
            "Performances prédites (total_points) pour le joueur: Shola Shoretire : 0.10754178274003064\n",
            "Performances prédites (total_points) pour le joueur: Ademola Ola-Adebomi : 0.10754178274003064\n",
            "Performances prédites (total_points) pour le joueur: Lisandro Martínez : 0.14242485688982653\n",
            "Performances prédites (total_points) pour le joueur: Alex Mighten : 0.10754178274003064\n",
            "Performances prédites (total_points) pour le joueur: Bryan Mbeumo : 0.045007190421920036\n",
            "Performances prédites (total_points) pour le joueur: Nicolas Pépé : 0.14242485688982653\n",
            "Performances prédites (total_points) pour le joueur: Mauro Bandeira : 0.10754178274003064\n",
            "Performances prédites (total_points) pour le joueur: Alexis Mac Allister : 11.977606729916682\n",
            "Performances prédites (total_points) pour le joueur: David Ozoh : 0.10754178274003064\n",
            "Performances prédites (total_points) pour le joueur: Sydie Peck : 0.10754178274003064\n",
            "Performances prédites (total_points) pour le joueur: Omari Kellyman : 0.10754178274003064\n",
            "Performances prédites (total_points) pour le joueur: Youri Tielemans : 3.9671636929313254\n",
            "Performances prédites (total_points) pour le joueur: Remo Freuler : 0.14242485688982653\n",
            "Performances prédites (total_points) pour le joueur: Illia Zabarnyi : 5.871646717199566\n",
            "Performances prédites (total_points) pour le joueur: Karl Hein : 0.008913491896805082\n",
            "Performances prédites (total_points) pour le joueur: Aaron Connolly : 0.10754178274003064\n",
            "Performances prédites (total_points) pour le joueur: Dean Henderson : 0.10754178274003064\n",
            "Performances prédites (total_points) pour le joueur: Jay Rodriguez : 0.7767135726635815\n",
            "Performances prédites (total_points) pour le joueur: Marcos Senesi : 1.8644570310413344\n",
            "Performances prédites (total_points) pour le joueur: Granit Xhaka : 0.024971816689474173\n",
            "Performances prédites (total_points) pour le joueur: James Trafford : 2.0029695336258846\n",
            "Performances prédites (total_points) pour le joueur: Dan Burn : 8.018248151400044\n",
            "Performances prédites (total_points) pour le joueur: Saïd Benrahma : 0.3663152840337478\n",
            "Performances prédites (total_points) pour le joueur: Brandon Aguilera Zamora : 0.10754178274003064\n",
            "Performances prédites (total_points) pour le joueur: Dominic Sadi : 0.10754178274003064\n",
            "Performances prédites (total_points) pour le joueur: Tyler Onyango : 0.10754178274003064\n",
            "Performances prédites (total_points) pour le joueur: Mahamadou Susoho : 0.10754178274003064\n",
            "Performances prédites (total_points) pour le joueur: Joe Taylor : 0.10754178274003064\n",
            "Performances prédites (total_points) pour le joueur: Gustavo Hamer : 1.818884027994147\n",
            "Performances prédites (total_points) pour le joueur: Karl Darlow : 0.008913491896805082\n",
            "Performances prédites (total_points) pour le joueur: Saman Ghoddos : 0.10754178274003064\n",
            "Performances prédites (total_points) pour le joueur: Joachim Andersen : 2.462390622036201\n",
            "Performances prédites (total_points) pour le joueur: Alfie Gilchrist : 0.008913491896805082\n",
            "Performances prédites (total_points) pour le joueur: Allan Campbell : 0.14242485688982653\n",
            "Performances prédites (total_points) pour le joueur: Carlos Mendes Gomes : 0.10754178274003064\n",
            "Performances prédites (total_points) pour le joueur: Pedro Lomba Neto : 3.4386689187750274\n",
            "Performances prédites (total_points) pour le joueur: Luc De Fougerolles : 0.008913491896805082\n",
            "Performances prédites (total_points) pour le joueur: Dane Scarlett : 0.10754178274003064\n",
            "Performances prédites (total_points) pour le joueur: Lucas Digne : 5.952199014533567\n",
            "Performances prédites (total_points) pour le joueur: Enzo Fernández : 6.690167625942264\n",
            "Performances prédites (total_points) pour le joueur: Ben Brereton : 0.14242485688982653\n",
            "Performances prédites (total_points) pour le joueur: Matt Targett : 0.062391761384509754\n",
            "Performances prédites (total_points) pour le joueur: Demarai Gray : 0.14242485688982653\n",
            "Performances prédites (total_points) pour le joueur: Matthew Whittingham : 0.10754178274003064\n",
            "Performances prédites (total_points) pour le joueur: Stefan Ortega Moreno : 0.008913491896805082\n",
            "Performances prédites (total_points) pour le joueur: Sam Johnstone : 2.883423460138031\n",
            "Performances prédites (total_points) pour le joueur: Zack Nelson : 0.10754178274003064\n",
            "Performances prédites (total_points) pour le joueur: Yerson Mosquera : 0.008913491896805082\n",
            "Performances prédites (total_points) pour le joueur: Emiliano Buendía Stati : 0.3663152840337478\n",
            "Performances prédites (total_points) pour le joueur: Alexandre Moreno Lopera : 2.555027682080904\n",
            "Performances prédites (total_points) pour le joueur: Japhet Tanganga : 0.008913491896805082\n",
            "Performances prédites (total_points) pour le joueur: Marvelous Nakamba : 0.10754178274003064\n",
            "Performances prédites (total_points) pour le joueur: Nathan Collins : 2.406000997050942\n",
            "Performances prédites (total_points) pour le joueur: Leandro Trossard : 0.8965122819002265\n",
            "Performances prédites (total_points) pour le joueur: Antony Matheus dos Santos : 0.987226674785746\n",
            "Performances prédites (total_points) pour le joueur: Trevoh Chalobah : 3.2627990720683244\n",
            "Performances prédites (total_points) pour le joueur: Luke Cundle : 0.10754178274003064\n",
            "Performances prédites (total_points) pour le joueur: Lukasz Fabianski : 0.062391761384509754\n",
            "Performances prédites (total_points) pour le joueur: Ethan Nwaneri : 0.10754178274003064\n",
            "Performances prédites (total_points) pour le joueur: Callum Marshall : 0.10754178274003064\n",
            "Performances prédites (total_points) pour le joueur: Tino Livramento : 5.64945290403281\n",
            "Performances prédites (total_points) pour le joueur: Fodé Ballo-Touré : 0.10754178274003064\n",
            "Performances prédites (total_points) pour le joueur: Aymeric Laporte : 0.14242485688982653\n",
            "Performances prédites (total_points) pour le joueur: Tyler Adams : 0.14242485688982653\n",
            "Performances prédites (total_points) pour le joueur: Kieran Trippier : 1.4978028512167965\n",
            "Performances prédites (total_points) pour le joueur: Jamie McDonnell : 0.10754178274003064\n",
            "Performances prédites (total_points) pour le joueur: Richarlison de Andrade : 0.07235980429768188\n",
            "Performances prédites (total_points) pour le joueur: Norberto Bercique Gomes Betuncal : 9.442221236117291\n",
            "Performances prédites (total_points) pour le joueur: John McAtee : 0.10754178274003064\n",
            "Performances prédites (total_points) pour le joueur: Jayden Bogle : 2.539873478337611\n",
            "Performances prédites (total_points) pour le joueur: Jason Steele : 2.400766099177145\n",
            "Performances prédites (total_points) pour le joueur: Nick Pope : 0.14242485688982653\n",
            "Performances prédites (total_points) pour le joueur: Kai Havertz : 21.43643634505001\n",
            "Performances prédites (total_points) pour le joueur: Wesley Moraes Ferreira da Silva : 0.14242485688982653\n",
            "Performances prédites (total_points) pour le joueur: Vladimír Coufal : 3.3655313203867863\n",
            "Performances prédites (total_points) pour le joueur: Marcus Rashford : 6.546302124025934\n",
            "Performances prédites (total_points) pour le joueur: Lewis O'Brien : 0.14242485688982653\n",
            "Performances prédites (total_points) pour le joueur: Evan Ferguson : 4.264946285622005\n",
            "Performances prédites (total_points) pour le joueur: Tom McGill : 0.008913491896805082\n",
            "Performances prédites (total_points) pour le joueur: Yves Bissouma : 3.194396374657342\n",
            "Performances prédites (total_points) pour le joueur: João Victor Gomes da Silva : 0.14242485688982653\n",
            "Performances prédites (total_points) pour le joueur: Abdoulaye Doucouré : 4.797132822394204\n",
            "Performances prédites (total_points) pour le joueur: Enes Ünal : 1.064871205068265\n",
            "Performances prédites (total_points) pour le joueur: Ederson Santana de Moraes : 1.31811415821042\n",
            "Performances prédites (total_points) pour le joueur: Morgan Rogers : 4.300994364516916\n",
            "Performances prédites (total_points) pour le joueur: Virgil van Dijk : 6.12990093929156\n",
            "Performances prédites (total_points) pour le joueur: Willy Boly : 0.10754178274003064\n",
            "Performances prédites (total_points) pour le joueur: Mohammed Kudus : 10.26581998183093\n",
            "Performances prédites (total_points) pour le joueur: Scott McTominay : 2.8546859922073384\n",
            "Performances prédites (total_points) pour le joueur: Andrew Omobamidele : 3.8043709163150115\n",
            "Performances prédites (total_points) pour le joueur: Billy Blacker : 0.10754178274003064\n",
            "Performances prédites (total_points) pour le joueur: Kaine Kesler-Hayden : 0.008913491896805082\n",
            "Performances prédites (total_points) pour le joueur: Rico Lewis : 0.062391761384509754\n",
            "Performances prédites (total_points) pour le joueur: Alejandro Garnacho : 2.598107871596557\n",
            "Performances prédites (total_points) pour le joueur: Jean-Ricner Bellegarde : 4.282375398519925\n",
            "Performances prédites (total_points) pour le joueur: Jean-Philippe Gbamin : 0.10754178274003064\n",
            "Performances prédites (total_points) pour le joueur: Ollie Harrison : 0.10754178274003064\n",
            "Performances prédites (total_points) pour le joueur: Lewis Dobbin : 1.2637922023423522\n",
            "Performances prédites (total_points) pour le joueur: Jenson Metcalfe : 0.10754178274003064\n",
            "Performances prédites (total_points) pour le joueur: Riyad Mahrez : -0.04858440437298956\n",
            "Performances prédites (total_points) pour le joueur: Matija Šarkić : 0.008913491896805082\n",
            "Performances prédites (total_points) pour le joueur: Auston Trusty : 1.7927873934624359\n",
            "Performances prédites (total_points) pour le joueur: Anthony Gordon : 12.941150082429589\n",
            "Performances prédites (total_points) pour le joueur: Emmanuel Dennis : 0.14242485688982653\n",
            "Performances prédites (total_points) pour le joueur: Nathaniel Clyne : 0.062391761384509754\n",
            "Performances prédites (total_points) pour le joueur: Thiago Alcántara do Nascimento : 0.14242485688982653\n",
            "Performances prédites (total_points) pour le joueur: Oliver Arblaster : 1.7623604138050182\n",
            "Performances prédites (total_points) pour le joueur: Ethan Brierley : 0.10754178274003064\n",
            "Performances prédites (total_points) pour le joueur: Timo Werner : 17.30971795575249\n",
            "Performances prédites (total_points) pour le joueur: Ryan Giles : 0.062391761384509754\n",
            "Performances prédites (total_points) pour le joueur: Admiral Muskwe : 0.10754178274003064\n",
            "Performances prédites (total_points) pour le joueur: Edson Álvarez Velázquez : 13.581958691458395\n",
            "Performances prédites (total_points) pour le joueur: Jakub Kiwior : 9.881460468454904\n",
            "Performances prédites (total_points) pour le joueur: Lloyd Kelly : 0.10754178274003064\n",
            "Performances prédites (total_points) pour le joueur: Vitalii Mykolenko : 4.8986327114398645\n",
            "Performances prédites (total_points) pour le joueur: Aidan Francis-Clarke : 0.008913491896805082\n",
            "Performances prédites (total_points) pour le joueur: Emerson Leite de Souza Junior : 3.390105662413572\n",
            "Performances prédites (total_points) pour le joueur: Joël Veltman : 4.091997129452825\n",
            "Performances prédites (total_points) pour le joueur: Miguel Almirón Rejala : 2.2967103456993585\n",
            "Performances prédites (total_points) pour le joueur: Bobby Thomas : 0.008913491896805082\n",
            "Performances prédites (total_points) pour le joueur: Yago de Santiago Alonso : 0.10754178274003064\n",
            "Performances prédites (total_points) pour le joueur: Charlie Goode : 0.008913491896805082\n",
            "Performances prédites (total_points) pour le joueur: Luke Chambers : 0.008913491896805082\n",
            "Performances prédites (total_points) pour le joueur: Alejo Véliz : 0.11351706175792649\n",
            "Performances prédites (total_points) pour le joueur: Kepa Arrizabalaga : 0.14242485688982653\n",
            "Performances prédites (total_points) pour le joueur: Mark Travers : 0.008913491896805082\n",
            "Performances prédites (total_points) pour le joueur: Leo Castledine : 0.10754178274003064\n",
            "Performances prédites (total_points) pour le joueur: Tawanda Chirewa : 2.9864780856994386\n",
            "Performances prédites (total_points) pour le joueur: Sam Proctor : 0.008913491896805082\n",
            "Performances prédites (total_points) pour le joueur: Guglielmo Vicario : 1.2572529919045097\n",
            "Performances prédites (total_points) pour le joueur: Isaac Hayden : 0.10754178274003064\n",
            "Performances prédites (total_points) pour le joueur: Mike Trésor : 0.14242485688982653\n",
            "Performances prédites (total_points) pour le joueur: Jamaal Lascelles : 0.008913491896805082\n",
            "Performances prédites (total_points) pour le joueur: Andrew Robertson : 5.58149905001226\n",
            "Performances prédites (total_points) pour le joueur: Giovani Lo Celso : 1.4549008095701836\n",
            "Performances prédites (total_points) pour le joueur: Jeffrey Schlupp : 0.14242485688982653\n",
            "Performances prédites (total_points) pour le joueur: Alex Iwobi : 6.454020284035258\n",
            "Performances prédites (total_points) pour le joueur: Cody Gakpo : 4.19884364382104\n",
            "Performances prédites (total_points) pour le joueur: Nicolas Jackson : 7.91913768761005\n",
            "Performances prédites (total_points) pour le joueur: Nikola Vlašić : 0.10754178274003064\n",
            "Performances prédites (total_points) pour le joueur: Adam Lallana : 4.413079705532285\n",
            "Performances prédites (total_points) pour le joueur: Hugo Bueno López : 2.2764608956963315\n",
            "Performances prédites (total_points) pour le joueur: Alphonse Areola : 9.89227325471538\n",
            "Performances prédites (total_points) pour le joueur: Alisson Ramses Becker : 0.3663152840337478\n",
            "Performances prédites (total_points) pour le joueur: Pape Matar Sarr : 1.4445904943852872\n",
            "Performances prédites (total_points) pour le joueur: Aribim Pepple : 0.10754178274003064\n",
            "Performances prédites (total_points) pour le joueur: Matt Doherty : 0.062391761384509754\n",
            "Performances prédites (total_points) pour le joueur: Gonçalo Manuel Ganchinho Guedes : 0.11351706175792649\n",
            "Performances prédites (total_points) pour le joueur: Ellis Simms : 0.10754178274003064\n",
            "Performances prédites (total_points) pour le joueur: Jonathan Castro Otto : 0.062391761384509754\n",
            "Performances prédites (total_points) pour le joueur: Taiwo Awoniyi : 2.1365325267598174\n",
            "Performances prédites (total_points) pour le joueur: Mads Roerslev Rasmussen : 17.174851220532645\n",
            "Performances prédites (total_points) pour le joueur: Calvin Bassey : 5.657548065638341\n",
            "Performances prédites (total_points) pour le joueur: James Ward-Prowse : 8.592781544008204\n",
            "Performances prédites (total_points) pour le joueur: Konstantinos Tsimikas : 2.944416633219436\n",
            "Performances prédites (total_points) pour le joueur: Mahmoud Dahoud : 0.14242485688982653\n",
            "Performances prédites (total_points) pour le joueur: Ian Maatsen : 0.14242485688982653\n",
            "Performances prédites (total_points) pour le joueur: Ryan Gravenberch : 0.14242485688982653\n",
            "Performances prédites (total_points) pour le joueur: Sofyan Amrabat : 0.8295265025978873\n",
            "Performances prédites (total_points) pour le joueur: Max Lowe : 0.062391761384509754\n",
            "Performances prédites (total_points) pour le joueur: Joe Whitworth : 0.008913491896805082\n",
            "Performances prédites (total_points) pour le joueur: Thomas Cannon : 0.10754178274003064\n",
            "Performances prédites (total_points) pour le joueur: Hannibal Mejbri : 0.062391761384509754\n",
            "Performances prédites (total_points) pour le joueur: Boubacar Kamara : 0.14242485688982653\n",
            "Performances prédites (total_points) pour le joueur: Andrey Nascimento dos Santos : 0.062391761384509754\n",
            "Performances prédites (total_points) pour le joueur: Loris Karius : 0.008913491896805082\n",
            "Performances prédites (total_points) pour le joueur: Joshua Duffus : 0.10754178274003064\n",
            "Performances prédites (total_points) pour le joueur: Bart Verbruggen : 0.10754178274003064\n",
            "Performances prédites (total_points) pour le joueur: Tahith Chong : 7.203400079495056\n",
            "Performances prédites (total_points) pour le joueur: Morgan Sanson : 0.10754178274003064\n",
            "Performances prédites (total_points) pour le joueur: Bernd Leno : 8.748518170953794\n",
            "Performances prédites (total_points) pour le joueur: Josh Dasilva : 0.14242485688982653\n",
            "Performances prédites (total_points) pour le joueur: Josh Bowler : 0.10754178274003064\n",
            "Performances prédites (total_points) pour le joueur: Bashir Humphreys : 0.008913491896805082\n",
            "Performances prédites (total_points) pour le joueur: Oleksandr Zinchenko : 0.14242485688982653\n",
            "Performances prédites (total_points) pour le joueur: Tyrese Francois : 0.10754178274003064\n",
            "Performances prédites (total_points) pour le joueur: Callum Wilson : -0.37665131867938595\n",
            "Performances prédites (total_points) pour le joueur: Allan Saint-Maximin : 0.024971816689474173\n",
            "Performances prédites (total_points) pour le joueur: Lewis Orford : 0.10754178274003064\n",
            "Performances prédites (total_points) pour le joueur: Han-Noah Massengo : 0.14242485688982653\n",
            "Performances prédites (total_points) pour le joueur: Zeki Amdouni : 2.0364398106357844\n",
            "Performances prédites (total_points) pour le joueur: Steven Alzate : 0.10754178274003064\n",
            "Performances prédites (total_points) pour le joueur: Jóhann Berg Gudmundsson : 1.8194199675619822\n",
            "Performances prédites (total_points) pour le joueur: Tim Krul : 0.10754178274003064\n",
            "Performances prédites (total_points) pour le joueur: Keinan Davis : 0.14242485688982653\n",
            "Performances prédites (total_points) pour le joueur: Bruno Borges Fernandes : 8.620412257000865\n",
            "Performances prédites (total_points) pour le joueur: Hamed Traorè : 0.14242485688982653\n",
            "Performances prédites (total_points) pour le joueur: Jeremy Sarmiento Morante : 0.10754178274003064\n",
            "Performances prédites (total_points) pour le joueur: Issa Kaboré : 1.6787829030794938\n",
            "Performances prédites (total_points) pour le joueur: Sam Surridge : 0.10754178274003064\n",
            "Performances prédites (total_points) pour le joueur: Reece Burke : 6.359102126528466\n",
            "Performances prédites (total_points) pour le joueur: Jesurun Rak-Sakyi : 0.10754178274003064\n",
            "Performances prédites (total_points) pour le joueur: Clément Lenglet : 2.879930744434739\n",
            "Performances prédites (total_points) pour le joueur: Gabriel Fernando de Jesus : 2.1486202604154023\n",
            "Performances prédites (total_points) pour le joueur: Hannes Delcroix : 0.008913491896805082\n",
            "Performances prédites (total_points) pour le joueur: Dara O'Shea : 3.43263705584289\n",
            "Performances prédites (total_points) pour le joueur: Eric Dier : 0.062391761384509754\n",
            "Performances prédites (total_points) pour le joueur: Kaide Gordon : 0.10754178274003064\n",
            "Performances prédites (total_points) pour le joueur: Joel Ward : 2.3869892897763254\n",
            "Performances prédites (total_points) pour le joueur: Harvey Barnes : 1.5138796482159864\n",
            "Performances prédites (total_points) pour le joueur: Cesare Casadei : 0.10754178274003064\n",
            "Performances prédites (total_points) pour le joueur: Mateo Kovačić : 0.14242485688982653\n",
            "Performances prédites (total_points) pour le joueur: Jayden Danns : 0.8053395198991585\n",
            "Performances prédites (total_points) pour le joueur: Ashley Young : 0.10754178274003064\n",
            "Performances prédites (total_points) pour le joueur: Aaron Cresswell : 0.062391761384509754\n",
            "Performances prédites (total_points) pour le joueur: Sergio Reguilón : 6.641758294897238\n",
            "Performances prédites (total_points) pour le joueur: Morgan Gibbs-White : 3.929852390382887\n",
            "Performances prédites (total_points) pour le joueur: Raphaël Varane : 2.567085672723935\n",
            "Performances prédites (total_points) pour le joueur: Igor Julio dos Santos de Paulo : 0.062391761384509754\n",
            "Performances prédites (total_points) pour le joueur: Brandon Williams : 0.008913491896805082\n",
            "Performances prédites (total_points) pour le joueur: Hugo Lloris : 0.14242485688982653\n",
            "Performances prédites (total_points) pour le joueur: Fabian Schär : 11.84459458068919\n",
            "Performances prédites (total_points) pour le joueur: Orel Mangala : 0.14242485688982653\n",
            "Performances prédites (total_points) pour le joueur: Noha Lemina : 0.14242485688982653\n",
            "Performances prédites (total_points) pour le joueur: Frederico Rodrigues de Paula Santos : 0.14242485688982653\n",
            "Performances prédites (total_points) pour le joueur: Joe Gauci : 0.008913491896805082\n",
            "Performances prédites (total_points) pour le joueur: Marek Rodák : 0.008913491896805082\n",
            "Performances prédites (total_points) pour le joueur: Shandon Baptiste : 0.062391761384509754\n",
            "Performances prédites (total_points) pour le joueur: Michał Karbownik : 0.008913491896805082\n",
            "Performances prédites (total_points) pour le joueur: Mason Burstow : 0.10754178274003064\n",
            "Performances prédites (total_points) pour le joueur: André Onana : 4.0280243016663055\n",
            "Performances prédites (total_points) pour le joueur: Julián Álvarez : 5.7600400214705365\n",
            "Performances prédites (total_points) pour le joueur: Maxwel Cornet : 0.14242485688982653\n",
            "Performances prédites (total_points) pour le joueur: Terence Kongolo : 0.008913491896805082\n",
            "Performances prédites (total_points) pour le joueur: Caoimhin Kelleher : 8.643380181477688\n",
            "Performances prédites (total_points) pour le joueur: Ivan Neves Abreu Cavaleiro : 0.14242485688982653\n",
            "Performances prédites (total_points) pour le joueur: Chris Mepham : 5.678790748997442\n",
            "Performances prédites (total_points) pour le joueur: Facundo Buonanotte : 1.1717825136582725\n",
            "Performances prédites (total_points) pour le joueur: Samuel Bastien : 0.14242485688982653\n",
            "Performances prédites (total_points) pour le joueur: John Fleck : 0.14242485688982653\n",
            "Performances prédites (total_points) pour le joueur: Rodrigo Muniz Carvalho : 15.014291052636047\n",
            "Performances prédites (total_points) pour le joueur: Arijanet Muric : 0.062391761384509754\n",
            "Performances prédites (total_points) pour le joueur: Josh Cullen : 4.856174099084308\n",
            "Performances prédites (total_points) pour le joueur: Ishé Samuels-Smith : 0.008913491896805082\n",
            "Performances prédites (total_points) pour le joueur: Thomas Strakosha : 0.008913491896805082\n",
            "Performances prédites (total_points) pour le joueur: Fábio Ferreira Vieira : 1.7641430773905058\n",
            "Performances prédites (total_points) pour le joueur: Michael Ndiweni : 0.10754178274003064\n",
            "Performances prédites (total_points) pour le joueur: Cheick Doucouré : 0.14242485688982653\n",
            "Performances prédites (total_points) pour le joueur: Joe Hodge : 0.10754178274003064\n",
            "Performances prédites (total_points) pour le joueur: Omari Forson : 1.5877854577366033\n",
            "Performances prédites (total_points) pour le joueur: Joel Matip : 0.14242485688982653\n",
            "Performances prédites (total_points) pour le joueur: Callum Scanlon : 0.008913491896805082\n",
            "Performances prédites (total_points) pour le joueur: Davinson Sánchez : 0.10754178274003064\n",
            "Performances prédites (total_points) pour le joueur: Craig Dawson : 3.7774996364054068\n",
            "Performances prédites (total_points) pour le joueur: Toti António Gomes : 4.067061207047461\n",
            "Performances prédites (total_points) pour le joueur: Nayef Aguerd : 0.10754178274003064\n",
            "Performances prédites (total_points) pour le joueur: Diogo Dalot Teixeira : 3.5725412179554845\n",
            "Performances prédites (total_points) pour le joueur: Amadou Onana : 5.914630122606291\n",
            "Performances prédites (total_points) pour le joueur: Adrián San Miguel del Castillo : 0.008913491896805082\n",
            "Performances prédites (total_points) pour le joueur: Youssef Ramalho Chermiti : 1.34613532210021\n",
            "Performances prédites (total_points) pour le joueur: Bukayo Saka : 7.909091277542653\n",
            "Performances prédites (total_points) pour le joueur: Ben Mee : 0.14242485688982653\n",
            "Performances prédites (total_points) pour le joueur: Joe Worrall : 0.062391761384509754\n",
            "Performances prédites (total_points) pour le joueur: Diego Carlos Santos Silva : 0.10754178274003064\n",
            "Performances prédites (total_points) pour le joueur: Lewis Cook : 14.060359980630201\n",
            "Performances prédites (total_points) pour le joueur: Bendegúz Bolla : 0.008913491896805082\n",
            "Performances prédites (total_points) pour le joueur: Malo Gusto : 7.831564476526912\n",
            "Performances prédites (total_points) pour le joueur: Amari'i Bell : 0.008913491896805082\n",
            "Performances prédites (total_points) pour le joueur: Dele Alli : 0.14242485688982653\n",
            "Performances prédites (total_points) pour le joueur: Noni Madueke : 0.14242485688982653\n",
            "Performances prédites (total_points) pour le joueur: Milos Kerkez : 6.274530759003846\n",
            "Performances prédites (total_points) pour le joueur: Luke Berry : 0.14242485688982653\n",
            "Performances prédites (total_points) pour le joueur: Kortney Hause : 0.008913491896805082\n",
            "Performances prédites (total_points) pour le joueur: Will Hughes : 2.270232466810321\n",
            "Performances prédites (total_points) pour le joueur: Alexander Isak : 12.219598110956873\n",
            "Performances prédites (total_points) pour le joueur: John-Kymani Gordon : 0.10754178274003064\n",
            "Performances prédites (total_points) pour le joueur: Cheikhou Kouyaté : 0.14242485688982653\n",
            "Performances prédites (total_points) pour le joueur: Cédric Alves Soares : 1.4728831785723313\n",
            "Performances prédites (total_points) pour le joueur: Pierre-Emerick Aubameyang : -0.11846580224248894\n",
            "Performances prédites (total_points) pour le joueur: Garang Kuol : 0.10754178274003064\n",
            "Performances prédites (total_points) pour le joueur: Tom Davies : 1.3320909744575624\n",
            "Performances prédites (total_points) pour le joueur: Antwoine Hackford : 0.10754178274003064\n",
            "Performances prédites (total_points) pour le joueur: Charles Sagoe : 0.10754178274003064\n",
            "Performances prédites (total_points) pour le joueur: Ethan Pinnock : 0.14242485688982653\n",
            "Performances prédites (total_points) pour le joueur: Jay Stansfield : 0.10754178274003064\n",
            "Performances prédites (total_points) pour le joueur: Matz Sels : 1.2001934381475443\n",
            "Performances prédites (total_points) pour le joueur: Ryan Yates : 2.282910195369694\n",
            "Performances prédites (total_points) pour le joueur: Nicolò Zaniolo : 0.19532891712969944\n",
            "Performances prédites (total_points) pour le joueur: Frank Onyeka : 5.96164421870559\n",
            "Performances prédites (total_points) pour le joueur: Naouirou Ahamada : 0.062391761384509754\n",
            "Performances prédites (total_points) pour le joueur: Philip Billing : 1.064871205068265\n",
            "Performances prédites (total_points) pour le joueur: Gabriel Słonina : 0.008913491896805082\n",
            "Performances prédites (total_points) pour le joueur: Marc Guéhi : 0.062391761384509754\n",
            "Performances prédites (total_points) pour le joueur: Seamus Coleman : 0.10754178274003064\n",
            "Performances prédites (total_points) pour le joueur: Diogo Teixeira da Silva : -0.37665131867938595\n",
            "Performances prédites (total_points) pour le joueur: Matthew Dibley-Dias : 0.10754178274003064\n",
            "Performances prédites (total_points) pour le joueur: James McAtee : 1.4566437877311464\n",
            "Performances prédites (total_points) pour le joueur: Valintino Adedokun : 0.008913491896805082\n",
            "Performances prédites (total_points) pour le joueur: Erling Haaland : 4.990455629675643\n",
            "Performances prédites (total_points) pour le joueur: Jack Cork : 0.14242485688982653\n",
            "Performances prédites (total_points) pour le joueur: Anthony Martial : -0.11846580224248894\n",
            "Performances prédites (total_points) pour le joueur: Danny Welbeck : 0.3663152840337478\n",
            "Performances prédites (total_points) pour le joueur: Carlos Vinícius Alves Morais : 0.10754178274003064\n",
            "Performances prédites (total_points) pour le joueur: Olu Aina : 0.10754178274003064\n",
            "Performances prédites (total_points) pour le joueur: Conor Bradley : 8.4525607500051\n",
            "Performances prédites (total_points) pour le joueur: Rodrigo Hernandez : 13.725721288319209\n",
            "Performances prédites (total_points) pour le joueur: Daniel Muñoz : 2.777018894278248\n",
            "Performances prédites (total_points) pour le joueur: Victor Lindelöf : 2.4053310682792346\n",
            "Performances prédites (total_points) pour le joueur: Kevin De Bruyne : 6.338134857078626\n",
            "Performances prédites (total_points) pour le joueur: George Shelvey : 0.008913491896805082\n",
            "Performances prédites (total_points) pour le joueur: Lucas Bergström : 0.008913491896805082\n",
            "Performances prédites (total_points) pour le joueur: Yasin Ayari : 0.10754178274003064\n",
            "Performances prédites (total_points) pour le joueur: Lewis Miley : 1.6480189020766454\n",
            "Performances prédites (total_points) pour le joueur: Roméo Lavia : 0.14242485688982653\n",
            "Performances prédites (total_points) pour le joueur: Fred Onyedinma : 0.14242485688982653\n",
            "Performances prédites (total_points) pour le joueur: Gustavo Henrique Furtado Scarpa : 0.10754178274003064\n",
            "Performances prédites (total_points) pour le joueur: Aaron Hickey : 0.10754178274003064\n",
            "Performances prédites (total_points) pour le joueur: Mads Bidstrup : 0.10754178274003064\n",
            "Performances prédites (total_points) pour le joueur: Solly March : 0.024971816689474173\n",
            "Performances prédites (total_points) pour le joueur: David Datro Fofana : 6.6675548216992295\n",
            "Performances prédites (total_points) pour le joueur: Declan Rice : 12.800762475619873\n",
            "Performances prédites (total_points) pour le joueur: Joe Hugill : 0.10754178274003064\n",
            "Performances prédites (total_points) pour le joueur: Kacper Kozłowski : 0.10754178274003064\n",
            "Performances prédites (total_points) pour le joueur: Joe Rothwell : 0.14242485688982653\n",
            "Performances prédites (total_points) pour le joueur: Vini de Souza Costa : 2.693140209960016\n",
            "Performances prédites (total_points) pour le joueur: Ben Doak : 0.062391761384509754\n",
            "Performances prédites (total_points) pour le joueur: Sander Berge : 3.543490945643905\n",
            "Performances prédites (total_points) pour le joueur: Fabio Henrique Tavares : 0.14242485688982653\n",
            "Performances prédites (total_points) pour le joueur: Louie Marsh : 0.10754178274003064\n",
            "Performances prédites (total_points) pour le joueur: Willy Kambwala : 0.7030412656932709\n",
            "Performances prédites (total_points) pour le joueur: Oliver McBurnie : 2.150757775284839\n",
            "Performances prédites (total_points) pour le joueur: Mathias Jensen : 1.49092319600156\n",
            "Performances prédites (total_points) pour le joueur: Matt Macey : 0.008913491896805082\n",
            "Performances prédites (total_points) pour le joueur: Wesley Fofana : 0.10754178274003064\n",
            "Performances prédites (total_points) pour le joueur: Ryan Fredericks : 0.062391761384509754\n",
            "Performances prédites (total_points) pour le joueur: Max Kilman : 2.729794097583414\n",
            "Performances prédites (total_points) pour le joueur: Nathan Aké : 3.452269230477036\n",
            "Performances prédites (total_points) pour le joueur: Benjamin Fredrick : 0.008913491896805082\n",
            "Performances prédites (total_points) pour le joueur: Lewis Hall : 0.062391761384509754\n",
            "Performances prédites (total_points) pour le joueur: Deivid Washington de Souza Eugênio : 0.10754178274003064\n",
            "Performances prédites (total_points) pour le joueur: Elliot Anderson : 0.062391761384509754\n",
            "Performances prédites (total_points) pour le joueur: Oliwier Zych : 0.008913491896805082\n",
            "Performances prédites (total_points) pour le joueur: Mykhailo Mudryk : 1.039949900832189\n",
            "Performances prédites (total_points) pour le joueur: Radu Dragusin : 0.062391761384509754\n",
            "Performances prédites (total_points) pour le joueur: Siriki Dembélé : 0.10754178274003064\n",
            "Performances prédites (total_points) pour le joueur: Dejan Kulusevski : 5.367282949345653\n",
            "Performances prédites (total_points) pour le joueur: Daniel Castelo Podence : 0.14242485688982653\n",
            "Performances prédites (total_points) pour le joueur: Conor Gallagher : 6.116680263474523\n",
            "Performances prédites (total_points) pour le joueur: Maxime Esteve : 3.3487921619597762\n",
            "Performances prédites (total_points) pour le joueur: Eberechi Eze : 10.200526497466845\n",
            "Performances prédites (total_points) pour le joueur: Jonjo Shelvey : 0.14242485688982653\n",
            "Performances prédites (total_points) pour le joueur: Thilo Kehrer : 0.062391761384509754\n",
            "Performances prédites (total_points) pour le joueur: Ty Barnett : 0.10754178274003064\n",
            "Performances prédites (total_points) pour le joueur: Mackenzie Hunt : 0.10754178274003064\n",
            "Performances prédites (total_points) pour le joueur: Ameen Al-Dakhil : 0.008913491896805082\n",
            "Performances prédites (total_points) pour le joueur: Hwang Ui-jo : 0.10754178274003064\n",
            "Performances prédites (total_points) pour le joueur: Julio Enciso : 3.136725837552374\n",
            "Performances prédites (total_points) pour le joueur: Steven Benda : 0.008913491896805082\n",
            "Performances prédites (total_points) pour le joueur: Norberto Murara Neto : 8.762126412865113\n",
            "Performances prédites (total_points) pour le joueur: Jérémy Doku : 3.5335334201482085\n",
            "Performances prédites (total_points) pour le joueur: Richie Laryea : 0.10754178274003064\n",
            "Performances prédites (total_points) pour le joueur: Joshua King : 0.10754178274003064\n",
            "Performances prédites (total_points) pour le joueur: Antonee Robinson : 5.512141727666829\n",
            "Performances prédites (total_points) pour le joueur: Raúl Jiménez : 0.14242485688982653\n",
            "Performances prédites (total_points) pour le joueur: Louie Watson : 0.10754178274003064\n",
            "Performances prédites (total_points) pour le joueur: Hwang Hee-chan : 0.3663152840337478\n",
            "Performances prédites (total_points) pour le joueur: Willian Borges da Silva : 1.3194245953259498\n",
            "Performances prédites (total_points) pour le joueur: Rhian Brewster : 0.14242485688982653\n",
            "Performances prédites (total_points) pour le joueur: Tom Lockyer : 0.062391761384509754\n",
            "Performances prédites (total_points) pour le joueur: Jordan Pickford : 1.958838445054753\n",
            "Performances prédites (total_points) pour le joueur: Michael Olakigbe : 0.10754178274003064\n",
            "Performances prédites (total_points) pour le joueur: Anis Slimane : 0.14242485688982653\n",
            "Performances prédites (total_points) pour le joueur: Bruno Guimarães Rodriguez Moura : 8.056685144138667\n",
            "Performances prédites (total_points) pour le joueur: Ryan Fraser : 0.14242485688982653\n",
            "Performances prédites (total_points) pour le joueur: Anthony Knockaert : 0.10754178274003064\n",
            "Performances prédites (total_points) pour le joueur: Harry Maguire : 0.062391761384509754\n",
            "Performances prédites (total_points) pour le joueur: Matheus Santos Carneiro Da Cunha : 0.3663152840337478\n",
            "Performances prédites (total_points) pour le joueur: Rhys Bennett : 0.008913491896805082\n",
            "Performances prédites (total_points) pour le joueur: Francisco Jorge Tomás Oliveira : 0.10754178274003064\n",
            "Performances prédites (total_points) pour le joueur: Ki-Jana Hoever : 0.008913491896805082\n",
            "Performances prédites (total_points) pour le joueur: Jacob Bruun Larsen : 3.333911541583109\n",
            "Performances prédites (total_points) pour le joueur: Loïc Mbe Soh : 0.008913491896805082\n",
            "Performances prédites (total_points) pour le joueur: Moussa Diaby : 4.356005897995472\n",
            "Performances prédites (total_points) pour le joueur: Alfie Doughty : 9.93852925491899\n",
            "Performances prédites (total_points) pour le joueur: James Wright : 0.008913491896805082\n",
            "Performances prédites (total_points) pour le joueur: João Cancelo : 0.3663152840337478\n",
            "Performances prédites (total_points) pour le joueur: Pau Torres : 0.14242485688982653\n",
            "Performances prédites (total_points) pour le joueur: Santiago Bueno : 0.10754178274003064\n",
            "Performances prédites (total_points) pour le joueur: Mohamed Elneny : 0.10754178274003064\n",
            "Performances prédites (total_points) pour le joueur: Jarrad Branthwaite : 2.125663178493749\n",
            "Performances prédites (total_points) pour le joueur: Kaden Rodney : 0.10754178274003064\n",
            "Performances prédites (total_points) pour le joueur: Martin Ødegaard : 16.061623319958247\n",
            "Performances prédites (total_points) pour le joueur: Matheus Luiz Nunes : 0.14242485688982653\n",
            "Performances prédites (total_points) pour le joueur: Luke Harris : 0.10754178274003064\n",
            "Performances prédites (total_points) pour le joueur: Tom King : 0.008913491896805082\n",
            "Performances prédites (total_points) pour le joueur: Rúben Gato Alves Dias : 3.1610048094260095\n",
            "Performances prédites (total_points) pour le joueur: Dan Potts : 0.008913491896805082\n",
            "Performances prédites (total_points) pour le joueur: Djed Spence : 0.008913491896805082\n",
            "Performances prédites (total_points) pour le joueur: Luke Thomas : 0.008913491896805082\n",
            "Performances prédites (total_points) pour le joueur: Cameron Archer : 0.062391761384509754\n",
            "Performances prédites (total_points) pour le joueur: Emiliano Martínez Romero : 2.337286510929544\n",
            "Performances prédites (total_points) pour le joueur: Bobby De Cordova-Reid : 4.649971227944361\n",
            "Performances prédites (total_points) pour le joueur: Tomáš Souček : 10.11603030030915\n",
            "Performances prédites (total_points) pour le joueur: Ross Barkley : 4.065829387421593\n",
            "Performances prédites (total_points) pour le joueur: Gonzalo Montiel : 0.10754178274003064\n",
            "Performances prédites (total_points) pour le joueur: Giovanni Reyna : 0.14242485688982653\n",
            "Performances prédites (total_points) pour le joueur: Joško Gvardiol : 0.14242485688982653\n",
            "Performances prédites (total_points) pour le joueur: Cole Palmer : 10.536350401808638\n",
            "Performances prédites (total_points) pour le joueur: Ivan Perišić : 0.14242485688982653\n",
            "Performances prédites (total_points) pour le joueur: Jordan Amissah : 0.008913491896805082\n",
            "Performances prédites (total_points) pour le joueur: Carlos Henrique Casimiro : 4.1155127824756015\n",
            "Performances prédites (total_points) pour le joueur: Tom Heaton : 0.008913491896805082\n",
            "Performances prédites (total_points) pour le joueur: Jacob Wright : 0.10754178274003064\n",
            "Performances prédites (total_points) pour le joueur: Sepp van den Berg : 0.008913491896805082\n",
            "Performances prédites (total_points) pour le joueur: Anel Ahmedhodžić : 2.021372661968055\n",
            "Performances prédites (total_points) pour le joueur: Max Aarons : 0.10754178274003064\n",
            "Performances prédites (total_points) pour le joueur: Josh Powell : 0.008913491896805082\n",
            "Performances prédites (total_points) pour le joueur: Cristian Romero : 10.775400514380078\n",
            "Performances prédites (total_points) pour le joueur: Daniel Bentley : 1.5167938529532792\n",
            "Performances prédites (total_points) pour le joueur: Axel Piesold : 0.10754178274003064\n",
            "Performances prédites (total_points) pour le joueur: Ethan Ampadu : 0.008913491896805082\n",
            "Performances prédites (total_points) pour le joueur: Jan Paul van Hecke : 4.719462450349578\n",
            "Performances prédites (total_points) pour le joueur: Yasser Larouci : 0.062391761384509754\n",
            "Performances prédites (total_points) pour le joueur: Carney Chukwuemeka : 0.062391761384509754\n",
            "Performances prédites (total_points) pour le joueur: Carlton Morris : 14.21288599129094\n",
            "Performances prédites (total_points) pour le joueur: Odysseas Vlachodimos : 0.10754178274003064\n",
            "Performances prédites (total_points) pour le joueur: Ben Jackson : 0.008913491896805082\n",
            "Performances prédites (total_points) pour le joueur: George Earthy : 0.10754178274003064\n",
            "Performances prédites (total_points) pour le joueur: Adam Davies : 0.008913491896805082\n",
            "Performances prédites (total_points) pour le joueur: Myles Peart-Harris : 0.10754178274003064\n",
            "Performances prédites (total_points) pour le joueur: Tyrick Mitchell : 3.709235587596614\n",
            "Performances prédites (total_points) pour le joueur: James Maddison : 7.271494962504903\n",
            "Performances prédites (total_points) pour le joueur: Cauley Woodrow : 0.062391761384509754\n",
            "Performances prédites (total_points) pour le joueur: Mohamed Salah : 0.1620182280365506\n",
            "Performances prédites (total_points) pour le joueur: Harry Kane : 0.1620182280365506\n",
            "Performances prédites (total_points) pour le joueur: Zack Steffen : 0.008913491896805082\n",
            "Performances prédites (total_points) pour le joueur: Antoine Semenyo : 11.400466906649175\n",
            "Performances prédites (total_points) pour le joueur: Bradley Ibrahim : 0.10754178274003064\n",
            "Performances prédites (total_points) pour le joueur: Altay Bayindir : 0.008913491896805082\n",
            "Performances prédites (total_points) pour le joueur: Christian Pulisic : 0.20328602319573702\n",
            "Performances prédites (total_points) pour le joueur: Adam Webster : 4.361760716156743\n",
            "Performances prédites (total_points) pour le joueur: Darwin Núñez Ribeiro : 6.972606440154154\n",
            "Performances prédites (total_points) pour le joueur: Axel Disasi : 11.134632049235707\n",
            "Performances prédites (total_points) pour le joueur: Enock Agyei : 0.062391761384509754\n",
            "Performances prédites (total_points) pour le joueur: Folarin Balogun : 0.10754178274003064\n",
            "Performances prédites (total_points) pour le joueur: Tyrone Mings : 0.04502755782808796\n",
            "Performances prédites (total_points) pour le joueur: Nicolás Domínguez : 6.753223989293422\n",
            "Performances prédites (total_points) pour le joueur: Conor Coventry : 0.062391761384509754\n",
            "Performances prédites (total_points) pour le joueur: Ismaila Coulibaly : 0.10754178274003064\n",
            "Performances prédites (total_points) pour le joueur: Josh Brownhill : 0.14242485688982653\n",
            "Performances prédites (total_points) pour le joueur: Fraser Forster : 0.008913491896805082\n",
            "Performances prédites (total_points) pour le joueur: Jefferson Lerma Solís : 2.934852807938355\n",
            "Performances prédites (total_points) pour le joueur: Luke Freeman : 0.14242485688982653\n",
            "Performances prédites (total_points) pour le joueur: Lewis Dunk : 3.501670560833402\n",
            "Performances prédites (total_points) pour le joueur: César Azpilicueta : 0.10754178274003064\n",
            "Performances prédites (total_points) pour le joueur: Marcelo de Araújo Pitaluga Filho : 0.008913491896805082\n",
            "Performances prédites (total_points) pour le joueur: Lorenz Assignon : 4.4263704486455255\n",
            "Performances prédites (total_points) pour le joueur: Steve Cook : 0.10754178274003064\n",
            "Performances prédites (total_points) pour le joueur: Hjalmar Ekdal : 0.008913491896805082\n",
            "Performances prédites (total_points) pour le joueur: Alex Telles : 0.10754178274003064\n",
            "Performances prédites (total_points) pour le joueur: Luca Barrington : 0.10754178274003064\n",
            "Performances prédites (total_points) pour le joueur: José Malheiro de Sá : 1.428891448363363\n",
            "Performances prédites (total_points) pour le joueur: João Neves Virgínia : 0.008913491896805082\n",
            "Performances prédites (total_points) pour le joueur: Saša Lukić : 5.95674057773114\n",
            "Performances prédites (total_points) pour le joueur: Emiliano Marcondes : 0.062391761384509754\n",
            "Performances prédites (total_points) pour le joueur: Joe White : 0.10754178274003064\n",
            "Performances prédites (total_points) pour le joueur: Jacob Ramsey : 2.461324946736545\n",
            "Performances prédites (total_points) pour le joueur: Sandro Tonali : 0.14242485688982653\n",
            "Performances prédites (total_points) pour le joueur: Micah Hamilton : 0.10754178274003064\n",
            "Performances prédites (total_points) pour le joueur: Nathan Fraser : 2.195845240150413\n",
            "Performances prédites (total_points) pour le joueur: Keane Lewis-Potter : 0.14242485688982653\n",
            "Performances prédites (total_points) pour le joueur: Dwight McNeil : 6.782713151140986\n",
            "Performances prédites (total_points) pour le joueur: Cameron Peupion : 0.10754178274003064\n",
            "Performances prédites (total_points) pour le joueur: Moisés Caicedo Corozo : 3.659604357474661\n",
            "Performances prédites (total_points) pour le joueur: Jorge Luiz Frello Filho : 5.427850009485316\n",
            "Performances prédites (total_points) pour le joueur: Kenny Tete : 0.10754178274003064\n",
            "Performances prédites (total_points) pour le joueur: Harvey Griffiths : 0.10754178274003064\n",
            "Performances prédites (total_points) pour le joueur: Darko Churlinov : 0.10754178274003064\n",
            "Performances prédites (total_points) pour le joueur: Jack Harrison : 2.859701409556068\n",
            "Performances prédites (total_points) pour le joueur: Jack Walton : 0.008913491896805082\n",
            "Performances prédites (total_points) pour le joueur: Timothy Castagne : 6.103395813274401\n",
            "Performances prédites (total_points) pour le joueur: Adam Smith : 5.420387654543199\n",
            "Performances prédites (total_points) pour le joueur: CJ Egan-Riley : 0.008913491896805082\n",
            "Performances prédites (total_points) pour le joueur: Romelu Lukaku Bolingoli : 0.045007190421920036\n",
            "Performances prédites (total_points) pour le joueur: James Garner : 8.572285501482142\n",
            "Performances prédites (total_points) pour le joueur: Thiago Emiliano da Silva : 0.14242485688982653\n",
            "Performances prédites (total_points) pour le joueur: Rob Holding : 0.062391761384509754\n",
            "Performances prédites (total_points) pour le joueur: Aaron Wan-Bissaka : 0.10754178274003064\n",
            "Performances prédites (total_points) pour le joueur: Deniz Undav : 0.20328602319573702\n",
            "Performances prédites (total_points) pour le joueur: Álvaro Fernández Carreras : 0.008913491896805082\n",
            "Performances prédites (total_points) pour le joueur: Bertrand Traoré : 0.14242485688982653\n",
            "Performances prédites (total_points) pour le joueur: Nathan Patterson : 0.062391761384509754\n",
            "Performances prédites (total_points) pour le joueur: Christopher Nkunku : -0.04868646009968384\n",
            "Performances prédites (total_points) pour le joueur: Serge Aurier : 0.10754178274003064\n",
            "Performances prédites (total_points) pour le joueur: Tom Cairney : 1.5016500481422526\n",
            "Performances prédites (total_points) pour le joueur: Harry Arter : 0.062391761384509754\n",
            "Performances prédites (total_points) pour le joueur: Alex Matos : 0.10754178274003064\n",
            "Performances prédites (total_points) pour le joueur: Mohamed Dräger : 0.008913491896805082\n",
            "Performances prédites (total_points) pour le joueur: Rúnar Alex Rúnarsson : 0.008913491896805082\n",
            "Performances prédites (total_points) pour le joueur: Scott Carson : 0.008913491896805082\n",
            "Performances prédites (total_points) pour le joueur: Bénie Traoré : 0.14242485688982653\n",
            "Performances prédites (total_points) pour le joueur: Jurriën Timber : 0.14242485688982653\n",
            "Performances prédites (total_points) pour le joueur: Jordan Beyer : 0.008913491896805082\n",
            "Performances prédites (total_points) pour le joueur: Wes Foderingham : 0.10754178274003064\n",
            "Performances prédites (total_points) pour le joueur: Lewis Koumas : 0.10754178274003064\n",
            "Performances prédites (total_points) pour le joueur: Konstantinos Mavropanos : 2.9138790405577533\n",
            "Performances prédites (total_points) pour le joueur: Diego Manuel Jadon da Silva Moreira : 0.10754178274003064\n",
            "Performances prédites (total_points) pour le joueur: Odsonne Edouard : 1.6337151499452864\n",
            "Performances prédites (total_points) pour le joueur: Jamal Lowe : 0.14242485688982653\n",
            "Performances prédites (total_points) pour le joueur: Owen Dodgson : 0.008913491896805082\n",
            "Performances prédites (total_points) pour le joueur: Matt Ritchie : 0.062391761384509754\n",
            "Performances prédites (total_points) pour le joueur: Lyle Foster : 0.14242485688982653\n",
            "Performances prédites (total_points) pour le joueur: Aaron Ramsey : 0.14242485688982653\n",
            "Performances prédites (total_points) pour le joueur: James Milner : 0.14242485688982653\n",
            "Performances prédites (total_points) pour le joueur: Nathan Redmond : 0.14242485688982653\n",
            "Performances prédites (total_points) pour le joueur: Mathias Jorgensen : 3.1023046682475504\n",
            "Performances prédites (total_points) pour le joueur: Michael Olise : 0.3663152840337478\n",
            "Performances prédites (total_points) pour le joueur: Oliver Skipp : 0.10754178274003064\n",
            "Performances prédites (total_points) pour le joueur: Leander Dendoncker : 0.14242485688982653\n",
            "Performances prédites (total_points) pour le joueur: Scott McKenna : 0.10754178274003064\n",
            "Performances prédites (total_points) pour le joueur: Michael Keane : 0.062391761384509754\n",
            "Performances prédites (total_points) pour le joueur: Sasa Kalajdzic : 0.14242485688982653\n",
            "Performances prédites (total_points) pour le joueur: Jarrod Bowen : 4.298782341384252\n",
            "Performances prédites (total_points) pour le joueur: Matt Turner : 0.008913491896805082\n",
            "Performances prédites (total_points) pour le joueur: Raheem Sterling : 2.656692798477515\n",
            "Performances prédites (total_points) pour le joueur: Kell Watts : 0.008913491896805082\n",
            "Performances prédites (total_points) pour le joueur: Mads Juel Andersen : 0.008913491896805082\n",
            "Performances prédites (total_points) pour le joueur: Sergi Canós Tenés : 0.14242485688982653\n",
            "Performances prédites (total_points) pour le joueur: Ryan Christie : 1.7805199985342044\n",
            "Performances prédites (total_points) pour le joueur: Yegor Yarmoliuk : 1.2099625375629663\n",
            "Performances prédites (total_points) pour le joueur: Robert Sánchez : 0.10754178274003064\n",
            "Performances prédites (total_points) pour le joueur: Gavin Kilkenny : 0.062391761384509754\n",
            "Performances prédites (total_points) pour le joueur: Armando Broja : 1.064871205068265\n",
            "Performances prédites (total_points) pour le joueur: Dominic Solanke : 6.621377504627928\n",
            "Performances prédites (total_points) pour le joueur: Chris Wood : 0.14242485688982653\n",
            "Performances prédites (total_points) pour le joueur: Alex Scott : 1.08547874924039\n",
            "Performances prédites (total_points) pour le joueur: Jaden Philogene-Bidace : 0.10754178274003064\n",
            "Performances prédites (total_points) pour le joueur: Filip Marschall : 0.008913491896805082\n",
            "Performances prédites (total_points) pour le joueur: Kalvin Phillips : 1.2699090604977281\n",
            "Performances prédites (total_points) pour le joueur: Rodrigo Bentancur : 2.0676124161835725\n",
            "Performances prédites (total_points) pour le joueur: Matty Cash : 2.4836680949800325\n",
            "Performances prédites (total_points) pour le joueur: Mason Holgate : 0.008913491896805082\n",
            "Performances prédites (total_points) pour le joueur: Glen Rea : 0.10754178274003064\n",
            "Performances prédites (total_points) pour le joueur: Jaidon Anthony : 0.14242485688982653\n",
            "Performances prédites (total_points) pour le joueur: Tariq Lamptey : 1.8024493230902499\n",
            "Performances prédites (total_points) pour le joueur: Joseph Anang : 0.008913491896805082\n",
            "Performances prédites (total_points) pour le joueur: George Baldock : 1.773978396410253\n",
            "Performances prédites (total_points) pour le joueur: Jeff Hendrick : 0.10754178274003064\n",
            "Performances prédites (total_points) pour le joueur: Mark Gillespie : 0.008913491896805082\n",
            "Performances prédites (total_points) pour le joueur: Ronnie Stutter : 0.10754178274003064\n",
            "Performances prédites (total_points) pour le joueur: Nélson Cabral Semedo : 4.83935236153124\n",
            "Performances prédites (total_points) pour le joueur: Wesley Okoduwa : 0.008913491896805082\n",
            "Performances prédites (total_points) pour le joueur: Kevin Mbabu : 0.008913491896805082\n",
            "Performances prédites (total_points) pour le joueur: Tyrell Malacia : 0.062391761384509754\n",
            "Performances prédites (total_points) pour le joueur: Hákon Valdimarsson : 0.008913491896805082\n",
            "Performances prédites (total_points) pour le joueur: Đorđe Petrović : 2.0029695336258846\n",
            "Performances prédites (total_points) pour le joueur: Andros Townsend : 1.2815969215765373\n",
            "Performances prédites (total_points) pour le joueur: Chris Richards : 1.9336057237038167\n",
            "Performances prédites (total_points) pour le joueur: Jordan Henderson : 0.14242485688982653\n",
            "Performances prédites (total_points) pour le joueur: Daniel Gore : 0.10754178274003064\n",
            "Performances prédites (total_points) pour le joueur: Kyle Walker : 4.21807929637862\n",
            "Performances prédites (total_points) pour le joueur: Jacob Brown : 0.14242485688982653\n",
            "Performances prédites (total_points) pour le joueur: Vicente Guaita : 0.10754178274003064\n",
            "Performances prédites (total_points) pour le joueur: Braian Ojeda Rodríguez : 0.10754178274003064\n",
            "Performances prédites (total_points) pour le joueur: Mads Bech Sørensen : 0.008913491896805082\n"
          ]
        }
      ]
    },
    {
      "cell_type": "code",
      "source": [
        "print(len(all_predictions))"
      ],
      "metadata": {
        "colab": {
          "base_uri": "https://localhost:8080/"
        },
        "id": "aIJ4o3AWn512",
        "outputId": "119c2e60-3251-46ba-efdc-689818c87ac5"
      },
      "execution_count": 205,
      "outputs": [
        {
          "output_type": "stream",
          "name": "stdout",
          "text": [
            "832\n"
          ]
        }
      ]
    },
    {
      "cell_type": "code",
      "source": [
        "# Créer un dictionnaire à partir de la liste de toutes les prédictions\n",
        "predicted_performances_dict = {player_name: predicted_performance for player_name, predicted_performance in all_predictions}\n"
      ],
      "metadata": {
        "id": "1nL-8sU9tdRX"
      },
      "execution_count": 206,
      "outputs": []
    },
    {
      "cell_type": "markdown",
      "source": [
        "Création d'une equipe"
      ],
      "metadata": {
        "id": "QBcSP6nrpzln"
      }
    },
    {
      "cell_type": "code",
      "source": [
        "def create_team(predicted_performances, data, budget=100, max_players_per_team=3):\n",
        "    team = []\n",
        "    remaining_budget = budget\n",
        "    positions_quota = {'GK': 2, 'DEF': 5, 'MID': 5, 'FWD': 3}\n",
        "    positions_count = {'GK': 0, 'DEF': 0, 'MID': 0, 'FWD': 0}\n",
        "\n",
        "    # Tri des joueurs prédits par performances décroissantes en fonction de la performance divisée par le coût\n",
        "    sorted_players = sorted(predicted_performances.items(), key=lambda x: x[1] / data[data['name'] == x[0]]['now_cost'].values[0], reverse=True)\n",
        "\n",
        "    # Sélection des joueurs pour l'équipe en respectant les contraintes\n",
        "    for player_name, predicted_performance in sorted_players:\n",
        "        # Vérifier si l'équipe a déjà atteint le nombre maximum de joueurs\n",
        "        if len(team) >= 15:\n",
        "            break\n",
        "\n",
        "        # Vérifier si le joueur est présent dans les données\n",
        "        player_data = data[data['name'] == player_name]\n",
        "        if not player_data.empty:\n",
        "            player_cost = player_data['now_cost'].values[0]\n",
        "            player_position = player_data['position'].values[0]  # Supposons que 'element_type' contient les informations sur le poste du joueur\n",
        "            player_team = player_data['team'].values[0]  # Supposons que 'team' contient les informations sur l'équipe du joueur\n",
        "\n",
        "            # Vérification des contraintes de budget et de nombre maximum de joueurs par équipe\n",
        "            if player_cost <= remaining_budget and team.count(player_team) < max_players_per_team:\n",
        "                if positions_count[player_position] < positions_quota[player_position]:\n",
        "                    team.append({\n",
        "                        'name': player_name,\n",
        "                        'position': player_position,\n",
        "                        'team': player_team,\n",
        "                        'cost': player_cost,\n",
        "                        'predicted_performance': predicted_performance\n",
        "                    })\n",
        "                    remaining_budget -= player_cost\n",
        "                    positions_count[player_position] += 1\n",
        "\n",
        "    return team\n"
      ],
      "metadata": {
        "id": "VppjiciLpzTE"
      },
      "execution_count": 209,
      "outputs": []
    },
    {
      "cell_type": "code",
      "source": [
        "# Créer une équipe en utilisant les performances prédites\n",
        "team = create_team(predicted_performances_dict, team_data, budget=1000, max_players_per_team=3)"
      ],
      "metadata": {
        "id": "TuNXuVX1tlcC"
      },
      "execution_count": 210,
      "outputs": []
    },
    {
      "cell_type": "code",
      "source": [
        "# Afficher l'équipe sélectionnée\n",
        "print(\"Équipe sélectionnée:\")\n",
        "for player in team:\n",
        "    print(f\"Nom: {player['name']}, Poste: {player['position']}, Équipe: {player['team']}, Coût: {player['cost']}, Performance Prédite: {player['predicted_performance']}\")\n"
      ],
      "metadata": {
        "colab": {
          "base_uri": "https://localhost:8080/"
        },
        "id": "kCnvJDajoFsL",
        "outputId": "57c5635e-d730-42e4-b367-bf900af37c4d"
      },
      "execution_count": 211,
      "outputs": [
        {
          "output_type": "stream",
          "name": "stdout",
          "text": [
            "Équipe sélectionnée:\n",
            "Nom: Mads Roerslev Rasmussen, Poste: DEF, Équipe: Brentford, Coût: 44, Performance Prédite: 17.174851220532645\n",
            "Nom: Harry Wilson, Poste: MID, Équipe: Fulham, Coût: 53, Performance Prédite: 17.872552776435\n",
            "Nom: Rodrigo Muniz Carvalho, Poste: FWD, Équipe: Fulham, Coût: 45, Performance Prédite: 15.014291052636047\n",
            "Nom: Kai Havertz, Poste: MID, Équipe: Arsenal, Coût: 71, Performance Prédite: 21.43643634505001\n",
            "Nom: Lewis Cook, Poste: MID, Équipe: Bournemouth, Coût: 50, Performance Prédite: 14.060359980630201\n",
            "Nom: Carlton Morris, Poste: FWD, Équipe: Luton, Coût: 51, Performance Prédite: 14.21288599129094\n",
            "Nom: Timo Werner, Poste: FWD, Équipe: Spurs, Coût: 63, Performance Prédite: 17.30971795575249\n",
            "Nom: Edson Álvarez Velázquez, Poste: MID, Équipe: West Ham, Coût: 50, Performance Prédite: 13.581958691458395\n",
            "Nom: Phil Foden, Poste: MID, Équipe: Man City, Coût: 81, Performance Prédite: 20.268991800601484\n",
            "Nom: Alphonse Areola, Poste: GK, Équipe: West Ham, Coût: 42, Performance Prédite: 9.89227325471538\n",
            "Nom: Caoimhin Kelleher, Poste: GK, Équipe: Liverpool, Coût: 37, Performance Prédite: 8.643380181477688\n",
            "Nom: Jakub Kiwior, Poste: DEF, Équipe: Arsenal, Coût: 43, Performance Prédite: 9.881460468454904\n",
            "Nom: Axel Disasi, Poste: DEF, Équipe: Chelsea, Coût: 49, Performance Prédite: 11.134632049235707\n",
            "Nom: Cristian Romero, Poste: DEF, Équipe: Spurs, Coût: 49, Performance Prédite: 10.775400514380078\n",
            "Nom: Fabian Schär, Poste: DEF, Équipe: Newcastle, Coût: 54, Performance Prédite: 11.84459458068919\n"
          ]
        }
      ]
    },
    {
      "cell_type": "code",
      "source": [
        "# Calcul du prix total de l'équipe recommandée\n",
        "total_cost = sum(player['cost'] for player in team)\n",
        "total_team_points = sum(player['predicted_performance'] for player in team)\n",
        "print(\"Le cout total de l'equipe est de:\", total_cost, \"k£\")\n",
        "print(\"Le nombre de point total de l'equipe est de:\", total_team_points)"
      ],
      "metadata": {
        "colab": {
          "base_uri": "https://localhost:8080/"
        },
        "id": "LvUNcfStDHNP",
        "outputId": "b738661e-7861-496c-c2ec-f8fb44695e29"
      },
      "execution_count": 215,
      "outputs": [
        {
          "output_type": "stream",
          "name": "stdout",
          "text": [
            "Le cout total de l'equipe est de: 782 k£\n",
            "Le nombre de point total de l'equipe est de: 213.10378686334013\n"
          ]
        }
      ]
    },
    {
      "cell_type": "code",
      "source": [
        "\n",
        "# Affichage de la composition de l'équipe recommandée\n",
        "print(\"Composition de l'équipe recommandée:\")\n",
        "for player in team:\n",
        "    print(\"Joueur:\", player['name'])\n",
        "    print(\"Poste:\", player['position'])\n",
        "    print(\"Équipe:\", player['team'])\n",
        "    print(\"Prix:\", player['cost'], 'k£')\n",
        "    print(\"Score prédit:\", player['predicted_performance'])\n",
        "    print()"
      ],
      "metadata": {
        "colab": {
          "base_uri": "https://localhost:8080/"
        },
        "id": "Np0y0altsbki",
        "outputId": "c30d6ac1-504d-47b7-a039-aeb891359149"
      },
      "execution_count": 216,
      "outputs": [
        {
          "output_type": "stream",
          "name": "stdout",
          "text": [
            "Composition de l'équipe recommandée:\n",
            "Joueur: Mads Roerslev Rasmussen\n",
            "Poste: DEF\n",
            "Équipe: Brentford\n",
            "Prix: 44 k£\n",
            "Score prédit: 17.174851220532645\n",
            "\n",
            "Joueur: Harry Wilson\n",
            "Poste: MID\n",
            "Équipe: Fulham\n",
            "Prix: 53 k£\n",
            "Score prédit: 17.872552776435\n",
            "\n",
            "Joueur: Rodrigo Muniz Carvalho\n",
            "Poste: FWD\n",
            "Équipe: Fulham\n",
            "Prix: 45 k£\n",
            "Score prédit: 15.014291052636047\n",
            "\n",
            "Joueur: Kai Havertz\n",
            "Poste: MID\n",
            "Équipe: Arsenal\n",
            "Prix: 71 k£\n",
            "Score prédit: 21.43643634505001\n",
            "\n",
            "Joueur: Lewis Cook\n",
            "Poste: MID\n",
            "Équipe: Bournemouth\n",
            "Prix: 50 k£\n",
            "Score prédit: 14.060359980630201\n",
            "\n",
            "Joueur: Carlton Morris\n",
            "Poste: FWD\n",
            "Équipe: Luton\n",
            "Prix: 51 k£\n",
            "Score prédit: 14.21288599129094\n",
            "\n",
            "Joueur: Timo Werner\n",
            "Poste: FWD\n",
            "Équipe: Spurs\n",
            "Prix: 63 k£\n",
            "Score prédit: 17.30971795575249\n",
            "\n",
            "Joueur: Edson Álvarez Velázquez\n",
            "Poste: MID\n",
            "Équipe: West Ham\n",
            "Prix: 50 k£\n",
            "Score prédit: 13.581958691458395\n",
            "\n",
            "Joueur: Phil Foden\n",
            "Poste: MID\n",
            "Équipe: Man City\n",
            "Prix: 81 k£\n",
            "Score prédit: 20.268991800601484\n",
            "\n",
            "Joueur: Alphonse Areola\n",
            "Poste: GK\n",
            "Équipe: West Ham\n",
            "Prix: 42 k£\n",
            "Score prédit: 9.89227325471538\n",
            "\n",
            "Joueur: Caoimhin Kelleher\n",
            "Poste: GK\n",
            "Équipe: Liverpool\n",
            "Prix: 37 k£\n",
            "Score prédit: 8.643380181477688\n",
            "\n",
            "Joueur: Jakub Kiwior\n",
            "Poste: DEF\n",
            "Équipe: Arsenal\n",
            "Prix: 43 k£\n",
            "Score prédit: 9.881460468454904\n",
            "\n",
            "Joueur: Axel Disasi\n",
            "Poste: DEF\n",
            "Équipe: Chelsea\n",
            "Prix: 49 k£\n",
            "Score prédit: 11.134632049235707\n",
            "\n",
            "Joueur: Cristian Romero\n",
            "Poste: DEF\n",
            "Équipe: Spurs\n",
            "Prix: 49 k£\n",
            "Score prédit: 10.775400514380078\n",
            "\n",
            "Joueur: Fabian Schär\n",
            "Poste: DEF\n",
            "Équipe: Newcastle\n",
            "Prix: 54 k£\n",
            "Score prédit: 11.84459458068919\n",
            "\n"
          ]
        }
      ]
    },
    {
      "cell_type": "code",
      "source": [],
      "metadata": {
        "id": "02K4rfzUBsJM"
      },
      "execution_count": null,
      "outputs": []
    }
  ]
}