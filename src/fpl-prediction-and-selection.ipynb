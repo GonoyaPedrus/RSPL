{
 "cells": [
  {
   "cell_type": "markdown",
   "metadata": {},
   "source": [
    "# FPL Team Selection and Weekly prediction\n",
    "\n",
    "Recently I've been getting back into soccer Fantasy Premier League (FPL) again after trying it many years ago. The last I played it, I abandoned it mid-season as it was too much to keep with with - team news, player injuries, who's playing well and who's not, who's playing who... There are just too many moving parts and I had more important things to do (e.g. play FIFA).\n",
    "\n",
    "The new season has just started and I thought - why not offload all this thinking to an ML model to predict the player points each week, and also come up with an algorithm to determine which transfer(s) I should make each week? This notebook is the result of that.\n",
    "\n",
    "Unfortunately I couldn't get the model up in time before the start of the season. Either way, I will be using the 19/20 season to test/validate my model, and apply it to the current season thus far (starting from GW 5).\n",
    "\n",
    "\n",
    "## Acknowledgements\n",
    "\n",
    "- I obtained the data from `vaastav` at https://github.com/vaastav/Fantasy-Premier-League, which is a really rich source of well-organized player and gameweek data, dating back to the 15/17 season.\n",
    "- The team IDs were inconsistent across seasons, which is a pain, but fortunately `solpaul` has a nice file here that tracks the changes across seasons:  https://github.com/solpaul/fpl-prediction/blob/master/data/teams.csv\n",
    "- In terms of modeling, I drew inspiration from the following sources:\n",
    "    - https://medium.com/@sol.paul/how-to-win-at-fantasy-premier-league-using-data-part-1-forecasting-with-deep-learning-bf121f38643a#http://www.philipkalinda.com/ds9.html\n",
    "    - http://www.philipkalinda.com/ds9.html"
   ]
  },
  {
   "attachments": {
    "image.png": {
     "image/png": "[encoded data removed]"
    }
   },
   "cell_type": "markdown",
   "metadata": {},
   "source": [
    "## Brief Intro\n",
    "\n",
    "The Fantasty Premier League (FPL) is a fantasy football (soccer) league in which you score points based on a player's real-life performance on the football pitch. In the current instantiation of the FPL (19/20):\n",
    "\n",
    "- \n",
    "\n",
    "![image.png](attachment:image.png)"
   ]
  },
  {
   "cell_type": "code",
   "execution_count": 1,
   "metadata": {
    "_cell_guid": "79c7e3d0-c299-4dcb-8224-4455121ee9b0",
    "_uuid": "d629ff2d2480ee46fbb7e2d37f6b5fab8052498a"
   },
   "outputs": [
    {
     "name": "stdout",
     "output_type": "stream",
     "text": [
      "Collecting pulp==1.6.8\n",
      "Collecting pyparsing>=2.0.1 (from pulp==1.6.8)\n",
      "  Using cached https://files.pythonhosted.org/packages/39/92/8486ede85fcc088f1b3dba4ce92dd29d126fd96b0008ea213167940a2475/pyparsing-3.1.1-py3-none-any.whl\n",
      "Installing collected packages: pyparsing, pulp\n",
      "Successfully installed pulp-1.6.8 pyparsing-3.1.1\n"
     ]
    }
   ],
   "source": [
    "!pip install -Iv pulp==1.6.8 --quiet"
   ]
  },
  {
   "cell_type": "code",
   "execution_count": 257,
   "metadata": {},
   "outputs": [],
   "source": [
    "import pandas as pd\n",
    "import numpy as np\n",
    "\n",
    "from sklearn.model_selection import train_test_split, GridSearchCV, RandomizedSearchCV, cross_val_score\n",
    "from sklearn.preprocessing import StandardScaler\n",
    "from sklearn.linear_model import LinearRegression, RidgeCV, LassoCV, ElasticNetCV\n",
    "from sklearn.metrics import mean_squared_error, make_scorer, r2_score\n",
    "from sklearn.ensemble import RandomForestRegressor\n",
    "from sklearn.tree import DecisionTreeRegressor\n",
    "\n",
    "import xgboost as xgb\n",
    "\n",
    "import matplotlib.pyplot as plt\n",
    "import seaborn as sns\n",
    "\n",
    "import os\n",
    "\n",
    "import time\n",
    "\n",
    "import scipy.stats as stats\n",
    "\n",
    "import pulp\n",
    "\n",
    "import unidecode"
   ]
  },
  {
   "cell_type": "code",
   "execution_count": 260,
   "metadata": {},
   "outputs": [],
   "source": [
    "## Read data\n",
    "\n",
    "# Players df contains the summary of player performance from each season\n",
    "# Each row represents one player\n",
    "\n",
    "## GWs df contains the information of each player for each gameweek\n",
    "## Each row represents a player's performance for a gameweek\n",
    "\n",
    "folderpath = '../data/input/fantasypremierleague/'\n",
    "\n",
    "players_1617_df = pd.read_csv(folderpath+'players_raw_1617.csv', encoding='latin')\n",
    "players_1718_df = pd.read_csv(folderpath+'players_raw_1718.csv', encoding='latin')\n",
    "players_1819_df = pd.read_csv(folderpath+'players_raw_1819.csv', encoding='latin')\n",
    "players_1920_df = pd.read_csv(folderpath+'players_raw_1920.csv', encoding='latin')\n",
    "players_2021_df = pd.read_csv(folderpath+'players_raw_2021.csv', encoding='latin')\n",
    "players_2122_df = pd.read_csv(folderpath+'players_raw_2122.csv', encoding='latin')\n",
    "players_2223_df = pd.read_csv(folderpath+'players_raw_2223.csv', encoding='latin')\n",
    "\n",
    "gws_1617_df = pd.read_csv(folderpath+'merged_gw_1617.csv', encoding='latin')\n",
    "gws_1718_df = pd.read_csv(folderpath+'merged_gw_1718.csv',encoding='latin')\n",
    "gws_1819_df = pd.read_csv(folderpath+'merged_gw_1819.csv',encoding='latin')\n",
    "gws_1920_df = pd.read_csv(folderpath+'merged_gw_1920.csv',engine='python', encoding='latin')\n",
    "gws_2021_df = pd.read_csv(folderpath+'merged_gw_2021.csv', encoding='latin')\n",
    "gws_2122_df = pd.read_csv(folderpath+'merged_gw_2122.csv',encoding='latin', on_bad_lines='skip')\n",
    "gws_2223_df = pd.read_csv(folderpath+'merged_gw_2223.csv',encoding='latin')\n",
    "\n",
    "team_codes_df = pd.read_csv('../data/teams.csv')\n"
   ]
  },
  {
   "cell_type": "code",
   "execution_count": 261,
   "metadata": {},
   "outputs": [],
   "source": [
    "# Clean the headers to be used later\n",
    "team_codes_df.columns.values[2:] = team_codes_df.columns[2:].str.replace('team_', '')"
   ]
  },
  {
   "cell_type": "markdown",
   "metadata": {},
   "source": [
    "## Clean and process dataframes\n",
    "\n",
    "\n",
    "For both types of dataframes, I want to add:\n",
    "- Player position\n",
    "- Full name (since the names are inconsistent across seasons and between dataframes)\n",
    "\n",
    "\n",
    "\n",
    "Also, it turns out that there are 2 Danny Wards in the 18/19 season. I am still thinking of a good way to represent both. But, since the are both fringe players in that season (total of 0 points between them), I will remove them for now (sorry!)\n",
    "\n",
    "\n"
   ]
  },
  {
   "cell_type": "code",
   "execution_count": 262,
   "metadata": {},
   "outputs": [],
   "source": [
    "# remove Danny Wards from 18/19 season\n",
    "players_1819_df = players_1819_df[((players_1819_df.first_name == \"Danny\") & (players_1819_df.second_name==\"Ward\"))==False]\n",
    "gws_1819_df = gws_1819_df[gws_1819_df.name.str.contains(\"Danny_Ward\")==False]"
   ]
  },
  {
   "cell_type": "code",
   "execution_count": 263,
   "metadata": {},
   "outputs": [],
   "source": [
    "player_df_list = [players_1617_df, players_1718_df, players_1819_df, players_1920_df, players_2021_df, players_2122_df, players_2223_df]\n",
    "gw_df_list = [gws_1617_df, gws_1718_df, gws_1819_df, gws_1920_df, gws_2021_df, gws_2122_df, gws_2223_df]"
   ]
  },
  {
   "cell_type": "code",
   "execution_count": 264,
   "metadata": {},
   "outputs": [],
   "source": [
    "# append season and season index to dfs\n",
    "\n",
    "seasons = ['1617', '1718', '1819', '1920', '2021', '2122', '2223']\n",
    "season_nums = list(range(len(seasons)))\n",
    "\n",
    "for i in range(len(seasons)):\n",
    "    \n",
    "    player_df_list[i]['season'] = seasons[i]\n",
    "    gw_df_list[i]['season'] = seasons[i]\n",
    "    \n",
    "    player_df_list[i]['season_num'] = season_nums[i]\n",
    "    gw_df_list[i]['season_num'] = season_nums[i]"
   ]
  },
  {
   "cell_type": "code",
   "execution_count": 265,
   "metadata": {},
   "outputs": [],
   "source": [
    "# combine dataframes from all seasons into one\n",
    "\n",
    "players_df = pd.concat(player_df_list)\n",
    "gws_df = pd.concat(gw_df_list)\n",
    "\n",
    "players_df.reset_index(inplace=True)\n",
    "gws_df.reset_index(inplace=True)"
   ]
  },
  {
   "cell_type": "code",
   "execution_count": 282,
   "metadata": {},
   "outputs": [],
   "source": [
    "def get_full_name_playerdf(first_name, second_name):\n",
    "    full_name = first_name +'_' + second_name\n",
    "    full_name = full_name.replace(\" \", \"_\")\n",
    "    full_name = full_name.replace(\"-\", \"_\")\n",
    "    full_name = unidecode.unidecode(full_name)\n",
    "       \n",
    "    return full_name"
   ]
  },
  {
   "cell_type": "code",
   "execution_count": 267,
   "metadata": {},
   "outputs": [
    {
     "name": "stderr",
     "output_type": "stream",
     "text": [
      "C:\\Users\\bourd\\Anaconda3\\lib\\site-packages\\ipykernel_launcher.py:15: FutureWarning: The default value of regex will change from True to False in a future version.\n",
      "  from ipykernel import kernelapp as app\n",
      "C:\\Users\\bourd\\Anaconda3\\lib\\site-packages\\ipykernel_launcher.py:16: FutureWarning: The default value of regex will change from True to False in a future version.\n",
      "  app.launch_new_instance()\n"
     ]
    }
   ],
   "source": [
    "# Translate player positions into string for easier readability\n",
    "\n",
    "positions_dict = {\n",
    "    1: 'Keeper',\n",
    "    2: 'Defender',\n",
    "    3: 'Midfielder',\n",
    "    4: 'Forward'   \n",
    "}\n",
    "\n",
    "players_df['full_name'] = players_df.apply(lambda x: get_full_name_playerdf(x.first_name, x.second_name), axis=1).str.lower()\n",
    "players_df['position'] = players_df.element_type.map(positions_dict)\n",
    "players_df['starting_cost'] = players_df.now_cost - players_df.cost_change_start_fall\n",
    "players_df['cost_bin'] = players_df.now_cost.apply(lambda x: np.floor(x/10))\n",
    "\n",
    "gws_df['full_name'] = gws_df.name.str.replace('_\\d+','')\n",
    "gws_df['full_name'] = gws_df['full_name'].str.replace(\" \", \"_\").str.replace(\"-\", \"_\").str.replace('_\\d+','')\n",
    "gws_df['full_name'] = gws_df['full_name'].apply(lambda x: unidecode.unidecode(x))\n",
    "gws_df['full_name'] = gws_df['full_name'].str.lower()"
   ]
  },
  {
   "cell_type": "code",
   "execution_count": 268,
   "metadata": {},
   "outputs": [],
   "source": [
    "    \n",
    "def clean_gw_df(player_df, gw_df, team_codes_df):\n",
    "    \n",
    "    # Returns a df with player position, player's team name, and opponent's team name\n",
    "    \n",
    "    pdf = player_df.copy()[['full_name', 'season', 'position', 'player_team_name']]\n",
    "    gdf = gw_df.copy()\n",
    "    \n",
    "    gdf = gdf.merge(pdf, on=['full_name', 'season'], how='left')\n",
    "    \n",
    "    \n",
    "    dfs = []\n",
    "    for s, group in gdf.groupby('season'):\n",
    "\n",
    "        temp_code_df = team_codes_df[['team', s]]\n",
    "        temp_code_df = temp_code_df.dropna()\n",
    "        \n",
    "        group = group[['opponent_team']]\n",
    "        group['opponent_team_name'] = group.opponent_team.map(temp_code_df.set_index(s).team)\n",
    "        dfs.append(group[['opponent_team_name']])\n",
    "        \n",
    "    out_df = pd.concat(dfs, axis=0)\n",
    "    out_df = pd.concat([gdf, out_df], axis=1)\n",
    "\n",
    "    return out_df\n",
    "\n"
   ]
  },
  {
   "cell_type": "code",
   "execution_count": 269,
   "metadata": {},
   "outputs": [
    {
     "name": "stderr",
     "output_type": "stream",
     "text": [
      "C:\\Users\\bourd\\Anaconda3\\lib\\site-packages\\ipykernel_launcher.py:18: SettingWithCopyWarning: \n",
      "A value is trying to be set on a copy of a slice from a DataFrame.\n",
      "Try using .loc[row_indexer,col_indexer] = value instead\n",
      "\n",
      "See the caveats in the documentation: https://pandas.pydata.org/pandas-docs/stable/user_guide/indexing.html#returning-a-view-versus-a-copy\n"
     ]
    }
   ],
   "source": [
    "gws_df.opponent_team = gws_df.opponent_team.astype(float)\n",
    "players_df['player_team_name'] = players_df.team_code.map(team_codes_df.set_index('team_code').team)\n",
    "gws_df = clean_gw_df(players_df, gws_df, team_codes_df)"
   ]
  },
  {
   "cell_type": "markdown",
   "metadata": {},
   "source": [
    "# Approach\n",
    "\n",
    "To get the initial team, I will rely on a simple method of picking the players with the most points based on last season.\n",
    "\n",
    "A brief recap on the current the FPL rules:\n",
    "\n",
    "1. A team must have 15 players\n",
    "2. A team must have:\n",
    "   - 2 Goalkeepers\n",
    "   - 5 Defenders\n",
    "   - 5 Midfielders\n",
    "   - 3 Forwards\n",
    "3. The total value of the initial squad must not exceed 100 million\n",
    "4. There can only be a maximum of 3 players from a single team\n",
    "5. Only the starting 11 will gain points for the FPL team\n",
    "6. A captain's score is doubled. \n",
    "7. Each gameweek, one free transfer is allowed. Each additional transfer will cost 4 points (not money!) \n",
    "\n",
    "Due to the complexity of the FPL mechanism, I have chosen to focus only on the above rules for now. There are also other rules that I plan on incorporating into my model:\n",
    "\n",
    "8. If a player in the starting 11 is unavailable (due to injury or suspension etc.), they will be substituted by the first player on the bench.\n",
    "9. If the captain is unavailable, the vice-captain's score is doubled instead.\n",
    "10. If the free transfer each week is not used, it can be carried over to the next Gameweek (for a maximum of 2 free transfers for a given Gameweek).\n",
    "11. There are a number of wildcards that can boost the points obtained in a Gameweek\n",
    "\n",
    "\n",
    "I will first use a linear programming approach to optimize the initial team. Then, I will build a regression model to forecast the predicted points for each player for each Gameweek, and use a heuristic-based algorithm to determine the best transfer (if any) to make for each Gameweek.\n"
   ]
  },
  {
   "cell_type": "markdown",
   "metadata": {},
   "source": [
    "## Picking the initial team of 15 players\n",
    "\n",
    "I decided to go with the simple approach of using the performance of players in the previous season (18/19) as the basis of selection into the team. Using linear programming, I will optimize for the maximum number of points scored in the 18/19 season, with the following constraints:\n",
    "\n",
    "- Total budget of 1000 \n",
    "- 1 keeper\n",
    "- 4 defenders\n",
    "- 4 midfielders\n",
    "- 2 forwards\n",
    "- not more than 3 players from the same team\n",
    "\n",
    "Since benched players do not contribute to Gameweek points, I will first pick the 4 cheapest players (1 from each position) in order to maximize the amount of money I can use for the starting 11. To do this, I simply\n",
    "\n",
    "Since I am using the 19/20 season as the test set, I will use the 18/19 season to pick my initial team."
   ]
  },
  {
   "cell_type": "markdown",
   "metadata": {},
   "source": [
    "First, let's get the players who are available in the current season. This is necessary because some players would have been relegated/promoted after the previous season, and also because players would have been transferred between clubs (of different leagues)."
   ]
  },
  {
   "cell_type": "code",
   "execution_count": 283,
   "metadata": {},
   "outputs": [],
   "source": [
    "def make_available_players_df(this_season_player_df, last_season_player_df):\n",
    "    \n",
    "    \n",
    "    last_season_player_df = last_season_player_df[last_season_player_df.minutes > 0]\n",
    "    last_season_player_df = last_season_player_df[['full_name', \"total_points\"]]\n",
    "    last_season_player_df.rename(columns={'total_points': \"total_points_last_season\"},\n",
    "                                inplace=True)\n",
    "    \n",
    "    available_players_df = pd.merge(this_season_player_df,\n",
    "                                    last_season_player_df,\n",
    "                                   on='full_name', how='left')\n",
    "    \n",
    "    available_players_df.total_points_last_season = available_players_df.groupby(['position', 'cost_bin', 'team_code']).total_points_last_season.transform(lambda x: x.fillna(x.mean()))\n",
    "    \n",
    "    return available_players_df"
   ]
  },
  {
   "cell_type": "code",
   "execution_count": 284,
   "metadata": {},
   "outputs": [],
   "source": [
    "current_season_player_df = players_df[players_df.season=='2223'] \n",
    "previous_season_player_df = players_df[players_df.season=='2122'] \n",
    "\n",
    "available_players_df = make_available_players_df(current_season_player_df, previous_season_player_df)\n"
   ]
  },
  {
   "cell_type": "code",
   "execution_count": 285,
   "metadata": {},
   "outputs": [],
   "source": [
    "def get_cheapest_players(player_df):\n",
    "    \n",
    "    cheapest_player_names = []\n",
    "    total_cost = 0\n",
    "    \n",
    "    # for each position, sort the players by cost (in ascending order)\n",
    "    # then, get the player with the most number of points\n",
    "    \n",
    "    for position, group in player_df.groupby('position'):\n",
    "        cheapest_players =  group[(group.starting_cost == group.starting_cost.min())]\n",
    "        top_cheapest_player = cheapest_players[cheapest_players.total_points == cheapest_players.total_points.max()]\n",
    "        \n",
    "        cheapest_player_name = top_cheapest_player.full_name.values[0]\n",
    "        \n",
    "        cheapest_player_names += [cheapest_player_name]\n",
    "        total_cost += top_cheapest_player.starting_cost.values[0]\n",
    "        \n",
    "        print(position, \": \", cheapest_player_name )\n",
    "        \n",
    "    return cheapest_player_names, total_cost"
   ]
  },
  {
   "cell_type": "code",
   "execution_count": 286,
   "metadata": {},
   "outputs": [
    {
     "name": "stdout",
     "output_type": "stream",
     "text": [
      "Defender :  daniel_amartey\n",
      "Forward :  sam_greenwood\n",
      "Keeper :  stefan_ortega_moreno\n",
      "Midfielder :  leon_bailey\n",
      "140\n"
     ]
    }
   ],
   "source": [
    "bench_players, bench_cost = get_cheapest_players(available_players_df)\n",
    "print(bench_cost)"
   ]
  },
  {
   "cell_type": "markdown",
   "metadata": {},
   "source": [
    "### Optimizing for starting 11\n",
    "\n",
    "Now that I have my bench players, I'll go ahead and optimize for the starting 11. Again, here I am using the actual results of the previous season. The reasoning here is that, at least for the first Gameweek, the players who are most likely to perform well are the players who have performed well in the last season (in the absence of other information). Of course, one can also try to predict the total number of points a player will score in the current season, but in the absence of any information about the current season, I am doubtful that the prediction will be meaningful or fare better than this simple heuristic. This is something that I am planning to look into soon!\n",
    "\n",
    "First, a bunch of helper functions to make life easier:"
   ]
  },
  {
   "cell_type": "code",
   "execution_count": 287,
   "metadata": {},
   "outputs": [],
   "source": [
    "def make_decision_variables(player_df):\n",
    "    return [pulp.LpVariable(i, cat=\"Binary\") for i in player_df.full_name]"
   ]
  },
  {
   "cell_type": "code",
   "execution_count": 288,
   "metadata": {},
   "outputs": [],
   "source": [
    "def make_optimization_function(player_df, decision_variables):\n",
    "    op_func = \"\"\n",
    "\n",
    "    for i, player in enumerate(decision_variables):\n",
    "        op_func += player_df.total_points_last_season[i]*player\n",
    "        \n",
    "    return op_func"
   ]
  },
  {
   "cell_type": "code",
   "execution_count": 289,
   "metadata": {},
   "outputs": [],
   "source": [
    "def make_cash_constraint(player_df, decision_variables, available_cash):\n",
    "    total_paid = \"\"\n",
    "    for rownum, row in player_df.iterrows():\n",
    "        for i, player in enumerate(decision_variables):\n",
    "            if rownum == i:\n",
    "                formula = row['starting_cost']*player\n",
    "                total_paid += formula\n",
    "\n",
    "    return (total_paid <= available_cash)"
   ]
  },
  {
   "cell_type": "code",
   "execution_count": 290,
   "metadata": {},
   "outputs": [],
   "source": [
    "def make_player_constraint(position, n, decision_variables, player_df):\n",
    "    \n",
    "    total_n = \"\"\n",
    "    \n",
    "    player_positions = player_df.position\n",
    "    \n",
    "    for i, player in enumerate(decision_variables):\n",
    "        if player_positions[i] == position:\n",
    "            total_n += 1*player\n",
    "            \n",
    "    return(total_n == n)"
   ]
  },
  {
   "cell_type": "code",
   "execution_count": 291,
   "metadata": {},
   "outputs": [],
   "source": [
    "def add_team_constraint(prob, player_df, decision_variables):\n",
    "\n",
    "    for team, group in player_df.groupby('team_code'):\n",
    "        team_total = ''\n",
    "        \n",
    "        for player in decision_variables:\n",
    "            if player.name in group.full_name.values:\n",
    "                formula = 1*player\n",
    "                team_total += formula\n",
    "                \n",
    "        prob += (team_total <= 3)"
   ]
  },
  {
   "cell_type": "code",
   "execution_count": 292,
   "metadata": {
    "scrolled": false
   },
   "outputs": [],
   "source": [
    "available_cash = 1000 - bench_cost\n",
    "\n",
    "prob = pulp.LpProblem('InitialTeam', pulp.LpMaximize)\n",
    "\n",
    "decision_variables = make_decision_variables(available_players_df)\n",
    "prob += make_optimization_function(available_players_df, decision_variables)\n",
    "prob += make_cash_constraint(available_players_df, decision_variables, available_cash)\n",
    "prob += make_player_constraint(\"Keeper\", 1, decision_variables, available_players_df) \n",
    "prob += make_player_constraint(\"Defender\", 4, decision_variables, available_players_df) \n",
    "prob += make_player_constraint(\"Midfielder\", 4, decision_variables, available_players_df) \n",
    "prob += make_player_constraint(\"Forward\", 2, decision_variables, available_players_df)\n",
    "\n",
    "add_team_constraint(prob, available_players_df, decision_variables)"
   ]
  },
  {
   "cell_type": "code",
   "execution_count": 293,
   "metadata": {},
   "outputs": [
    {
     "ename": "PulpError",
     "evalue": "Repeated variable names in Lp format\n[('ben_davies', 2)]",
     "output_type": "error",
     "traceback": [
      "\u001b[1;31m---------------------------------------------------------------------------\u001b[0m",
      "\u001b[1;31mPulpError\u001b[0m                                 Traceback (most recent call last)",
      "\u001b[1;32m<ipython-input-293-1a8970953232>\u001b[0m in \u001b[0;36m<module>\u001b[1;34m\u001b[0m\n\u001b[0;32m      1\u001b[0m \u001b[1;31m## Solve\u001b[0m\u001b[1;33m\u001b[0m\u001b[1;33m\u001b[0m\u001b[1;33m\u001b[0m\u001b[0m\n\u001b[0;32m      2\u001b[0m \u001b[1;33m\u001b[0m\u001b[0m\n\u001b[1;32m----> 3\u001b[1;33m \u001b[0mprob\u001b[0m\u001b[1;33m.\u001b[0m\u001b[0mwriteLP\u001b[0m\u001b[1;33m(\u001b[0m\u001b[1;34m'InitialTeam.lp'\u001b[0m\u001b[1;33m)\u001b[0m\u001b[1;33m\u001b[0m\u001b[1;33m\u001b[0m\u001b[0m\n\u001b[0m\u001b[0;32m      4\u001b[0m \u001b[0moptimization_result\u001b[0m \u001b[1;33m=\u001b[0m \u001b[0mprob\u001b[0m\u001b[1;33m.\u001b[0m\u001b[0msolve\u001b[0m\u001b[1;33m(\u001b[0m\u001b[1;33m)\u001b[0m\u001b[1;33m\u001b[0m\u001b[1;33m\u001b[0m\u001b[0m\n",
      "\u001b[1;32m~\\Anaconda3\\lib\\site-packages\\pulp\\pulp.py\u001b[0m in \u001b[0;36mwriteLP\u001b[1;34m(self, filename, writeSOS, mip)\u001b[0m\n\u001b[0;32m   1550\u001b[0m         \u001b[1;32mif\u001b[0m \u001b[0mrepeated_names\u001b[0m\u001b[1;33m:\u001b[0m\u001b[1;33m\u001b[0m\u001b[1;33m\u001b[0m\u001b[0m\n\u001b[0;32m   1551\u001b[0m             raise PulpError('Repeated variable names in Lp format\\n'\n\u001b[1;32m-> 1552\u001b[1;33m                                 + str(repeated_names))\n\u001b[0m\u001b[0;32m   1553\u001b[0m         \u001b[1;31m# Bounds on non-\"positive\" variables\u001b[0m\u001b[1;33m\u001b[0m\u001b[1;33m\u001b[0m\u001b[1;33m\u001b[0m\u001b[0m\n\u001b[0;32m   1554\u001b[0m         \u001b[1;31m# Note: XPRESS and CPLEX do not interpret integer variables without\u001b[0m\u001b[1;33m\u001b[0m\u001b[1;33m\u001b[0m\u001b[1;33m\u001b[0m\u001b[0m\n",
      "\u001b[1;31mPulpError\u001b[0m: Repeated variable names in Lp format\n[('ben_davies', 2)]"
     ]
    }
   ],
   "source": [
    "## Solve\n",
    "\n",
    "prob.writeLP('InitialTeam.lp')\n",
    "optimization_result = prob.solve()"
   ]
  },
  {
   "cell_type": "code",
   "execution_count": 24,
   "metadata": {},
   "outputs": [],
   "source": [
    "## Get initial team\n",
    "\n",
    "def get_initial_team(prob, player_df):\n",
    "    \n",
    "    variable_names = [v.name for v in prob.variables()]\n",
    "    variable_values = [v.varValue for v in prob.variables()]\n",
    "\n",
    "    initial_team = pd.merge(pd.DataFrame({'full_name': variable_names,\n",
    "                  'selected': variable_values}),\n",
    "                                       player_df, on=\"full_name\")\n",
    "    \n",
    "    initial_team = initial_team[initial_team.selected==1.0] \n",
    "    \n",
    "    return initial_team\n",
    "\n",
    "    "
   ]
  },
  {
   "cell_type": "code",
   "execution_count": 25,
   "metadata": {},
   "outputs": [
    {
     "data": {
      "text/html": [
       "<div>\n",
       "<style scoped>\n",
       "    .dataframe tbody tr th:only-of-type {\n",
       "        vertical-align: middle;\n",
       "    }\n",
       "\n",
       "    .dataframe tbody tr th {\n",
       "        vertical-align: top;\n",
       "    }\n",
       "\n",
       "    .dataframe thead th {\n",
       "        text-align: right;\n",
       "    }\n",
       "</style>\n",
       "<table border=\"1\" class=\"dataframe\">\n",
       "  <thead>\n",
       "    <tr style=\"text-align: right;\">\n",
       "      <th></th>\n",
       "      <th>full_name</th>\n",
       "      <th>position</th>\n",
       "      <th>starting_cost</th>\n",
       "      <th>player_team_name</th>\n",
       "    </tr>\n",
       "  </thead>\n",
       "  <tbody>\n",
       "    <tr>\n",
       "      <th>43</th>\n",
       "      <td>andrew_robertson</td>\n",
       "      <td>Defender</td>\n",
       "      <td>70</td>\n",
       "      <td>Liverpool</td>\n",
       "    </tr>\n",
       "    <tr>\n",
       "      <th>69</th>\n",
       "      <td>aymeric_laporte</td>\n",
       "      <td>Defender</td>\n",
       "      <td>61</td>\n",
       "      <td>Manchester City</td>\n",
       "    </tr>\n",
       "    <tr>\n",
       "      <th>107</th>\n",
       "      <td>callum_wilson</td>\n",
       "      <td>Forward</td>\n",
       "      <td>68</td>\n",
       "      <td>Bournemouth</td>\n",
       "    </tr>\n",
       "    <tr>\n",
       "      <th>163</th>\n",
       "      <td>david_luiz_moreira_marinho</td>\n",
       "      <td>Defender</td>\n",
       "      <td>54</td>\n",
       "      <td>Arsenal</td>\n",
       "    </tr>\n",
       "    <tr>\n",
       "      <th>243</th>\n",
       "      <td>gylfi_sigurdsson</td>\n",
       "      <td>Midfielder</td>\n",
       "      <td>66</td>\n",
       "      <td>Everton</td>\n",
       "    </tr>\n",
       "    <tr>\n",
       "      <th>343</th>\n",
       "      <td>jordan_pickford</td>\n",
       "      <td>Keeper</td>\n",
       "      <td>49</td>\n",
       "      <td>Everton</td>\n",
       "    </tr>\n",
       "    <tr>\n",
       "      <th>474</th>\n",
       "      <td>mohamed_salah</td>\n",
       "      <td>Midfielder</td>\n",
       "      <td>125</td>\n",
       "      <td>Liverpool</td>\n",
       "    </tr>\n",
       "    <tr>\n",
       "      <th>535</th>\n",
       "      <td>pierre_emerick_aubameyang</td>\n",
       "      <td>Forward</td>\n",
       "      <td>108</td>\n",
       "      <td>Arsenal</td>\n",
       "    </tr>\n",
       "    <tr>\n",
       "      <th>540</th>\n",
       "      <td>raheem_sterling</td>\n",
       "      <td>Midfielder</td>\n",
       "      <td>120</td>\n",
       "      <td>Manchester City</td>\n",
       "    </tr>\n",
       "    <tr>\n",
       "      <th>572</th>\n",
       "      <td>ryan_fraser</td>\n",
       "      <td>Midfielder</td>\n",
       "      <td>61</td>\n",
       "      <td>Bournemouth</td>\n",
       "    </tr>\n",
       "    <tr>\n",
       "      <th>644</th>\n",
       "      <td>virgil_van_dijk</td>\n",
       "      <td>Defender</td>\n",
       "      <td>65</td>\n",
       "      <td>Liverpool</td>\n",
       "    </tr>\n",
       "  </tbody>\n",
       "</table>\n",
       "</div>"
      ],
      "text/plain": [
       "                      full_name    position  starting_cost player_team_name\n",
       "43             andrew_robertson    Defender             70        Liverpool\n",
       "69              aymeric_laporte    Defender             61  Manchester City\n",
       "107               callum_wilson     Forward             68      Bournemouth\n",
       "163  david_luiz_moreira_marinho    Defender             54          Arsenal\n",
       "243            gylfi_sigurdsson  Midfielder             66          Everton\n",
       "343             jordan_pickford      Keeper             49          Everton\n",
       "474               mohamed_salah  Midfielder            125        Liverpool\n",
       "535   pierre_emerick_aubameyang     Forward            108          Arsenal\n",
       "540             raheem_sterling  Midfielder            120  Manchester City\n",
       "572                 ryan_fraser  Midfielder             61      Bournemouth\n",
       "644             virgil_van_dijk    Defender             65        Liverpool"
      ]
     },
     "execution_count": 25,
     "metadata": {},
     "output_type": "execute_result"
    }
   ],
   "source": [
    "initial_team_df = get_initial_team(prob, available_players_df)\n",
    "initial_team_df[['full_name', \"position\", \"starting_cost\", \"player_team_name\"]]"
   ]
  },
  {
   "cell_type": "code",
   "execution_count": 26,
   "metadata": {},
   "outputs": [],
   "source": [
    "## Sanity check\n",
    "\n",
    "def sanity_check(team_df):\n",
    "    print('Sanity check for starting 11: ')\n",
    "    print('*'*88) \n",
    "    \n",
    "    print('Number of players in each position: ')\n",
    "    for pos, group in team_df.groupby('position'):\n",
    "        print(pos, ': ', len(group), sep='')\n",
    "        \n",
    "    \n",
    "    print('*'*88)   \n",
    "    print('Number of players from each team: ')\n",
    "    print(team_df.groupby('player_team_name').position.count())\n",
    "    \n",
    "    print('*'*88)    \n",
    "    print('Total cost:', team_df.starting_cost.sum())\n",
    "    \n"
   ]
  },
  {
   "cell_type": "code",
   "execution_count": 27,
   "metadata": {},
   "outputs": [
    {
     "name": "stdout",
     "output_type": "stream",
     "text": [
      "Sanity check for starting 11: \n",
      "****************************************************************************************\n",
      "Number of players in each position: \n",
      "Defender: 4\n",
      "Forward: 2\n",
      "Keeper: 1\n",
      "Midfielder: 4\n",
      "****************************************************************************************\n",
      "Number of players from each team: \n",
      "player_team_name\n",
      "Arsenal            2\n",
      "Bournemouth        2\n",
      "Everton            2\n",
      "Liverpool          3\n",
      "Manchester City    2\n",
      "Name: position, dtype: int64\n",
      "****************************************************************************************\n",
      "Total cost: 847\n"
     ]
    }
   ],
   "source": [
    "sanity_check(initial_team_df)"
   ]
  },
  {
   "cell_type": "markdown",
   "metadata": {},
   "source": [
    "## Performance of initial team\n",
    "\n",
    "Right off the bat, how does this team fare in the 19/20 season?\n",
    "\n",
    "Note: I selected the highest scoring player in the 18/19 season as the captain for the 19/20 season"
   ]
  },
  {
   "cell_type": "code",
   "execution_count": 28,
   "metadata": {},
   "outputs": [],
   "source": [
    "captain = get_initial_team(prob, previous_season_player_df).sort_values(\"total_points\", ascending=False).head(1).full_name.values[0]"
   ]
  },
  {
   "cell_type": "code",
   "execution_count": 29,
   "metadata": {},
   "outputs": [
    {
     "name": "stdout",
     "output_type": "stream",
     "text": [
      "Total points for 19/20 season: 1792\n"
     ]
    }
   ],
   "source": [
    "captain = get_initial_team(prob, previous_season_player_df).sort_values(\"total_points\", ascending=False).head(1).full_name.values[0]\n",
    "\n",
    "total_points = current_season_player_df[current_season_player_df.full_name.isin(initial_team_df.full_name)].total_points.sum()\n",
    "total_points += current_season_player_df[current_season_player_df.full_name==captain].total_points\n",
    "\n",
    "print(\"Total points for 19/20 season:\", total_points.values[0])"
   ]
  },
  {
   "cell_type": "markdown",
   "metadata": {},
   "source": [
    "How does this compare to the rest of the FPL managers? Unfortunately there is no data available on historic FPL manager ranking, but with some Googling I managed to find someone with the exact same score of 1792 in the 19/20 season (https://fantasy.premierleague.com/entry/299659/history)\n",
    "\n",
    "This manager ranked 4375672. According to https://www.premierleague.com/news/1252542, there were 7.6 million managers last season. This translates to a final standing of the top 57.57% of managers. Not bad, but not great either.\n",
    "\n",
    "This initial score was calculated based on a strategy of \"set it and forget it\" - once the initial team was selected, the captain was selected as well, and I just left it to run for the whole season. No wildcards were played, no transfers were made, and no substitutions were made (so, in some weeks, a player could have had 0 points because they were not playing - but, I have yet to check if this is true for this team).\n",
    "\n",
    "Next, I will take a look at how we can improve this score by making weekly transfers!"
   ]
  },
  {
   "cell_type": "markdown",
   "metadata": {},
   "source": [
    "# Modeling\n",
    "\n",
    "## Approach:\n",
    "\n",
    "- Use each player's performance in previous Gameweeks to predict total points for this Gameweek.\n",
    "- Use team and opponent performance in previous Gameweeks as well\n",
    "\n",
    "This will be done by creating lagged versions of selected features such as cumulative goals scored/conceded by the player's team as well as their opponent. Each player's contribution will also be taken into account by creating the corresponding lagged features at the player level, as well by incorporating what FPL clas the \"ICT\" variables - intensity, creativty, and threat - which related to a player's performance on the pitch that did not directly relate to goals (but relate to creating goal-scoring opportunities and build-up play)\n",
    "\n",
    "\n",
    "- Use previous Gameweek's performance to predict total points for next gameweek\n",
    "- Calculate a rolling average\n",
    "- Also use previous season's total points as a predictor, as the predictions for the earlier gameweeks might be extremely noisy. This is important as we don't want star players to be transfered out just because they had a bad start\n",
    "- For players without data from past seasons, replace with average of players in the same position and similar cost (rounded to nearest 10m)\n",
    "\n",
    "- Only include players who had played (i.e. minutes > 0) to reduce noise"
   ]
  },
  {
   "cell_type": "markdown",
   "metadata": {},
   "source": [
    "Again, some helper functions to make life easier:"
   ]
  },
  {
   "cell_type": "code",
   "execution_count": 30,
   "metadata": {},
   "outputs": [],
   "source": [
    "def get_team_points(was_home, h_score, a_score):\n",
    "    \n",
    "    if h_score == a_score:\n",
    "        return 1\n",
    "    \n",
    "    if h_score > a_score:\n",
    "        if was_home:\n",
    "            return 3\n",
    "        else: \n",
    "            return 0\n",
    "    \n",
    "    if h_score < a_score:\n",
    "        if was_home:\n",
    "            return 0\n",
    "        else: \n",
    "            return 3"
   ]
  },
  {
   "cell_type": "code",
   "execution_count": 31,
   "metadata": {},
   "outputs": [],
   "source": [
    "def get_opponent_points(team_points):\n",
    "    if team_points == 1:\n",
    "        return 1\n",
    "    \n",
    "    if team_points == 3:\n",
    "        return 0\n",
    "    \n",
    "    if team_points == 0:\n",
    "        return 3"
   ]
  },
  {
   "cell_type": "code",
   "execution_count": 32,
   "metadata": {},
   "outputs": [],
   "source": [
    "gws_df['team_points']= gws_df.apply(lambda x: get_team_points(x.was_home, x.team_h_score, x.team_a_score), axis=1)\n",
    "gws_df['opponent_points'] = gws_df.team_points.apply(lambda x: get_opponent_points(x))"
   ]
  },
  {
   "cell_type": "code",
   "execution_count": 33,
   "metadata": {},
   "outputs": [],
   "source": [
    "def player_lag_features(gw_df, features, lags):\n",
    "    \n",
    "    out_df = gw_df.copy()\n",
    "    lagged_features = []\n",
    "    \n",
    "    for feature in features:\n",
    "            \n",
    "        for lag in lags:\n",
    "            \n",
    "            lagged_feature = 'last_' + str(lag) + '_' + feature\n",
    "            \n",
    "            if lag == 'all':\n",
    "                out_df[lagged_feature] = out_df.sort_values('round').groupby(['season', 'full_name'])[feature]\\\n",
    "            .apply(lambda x: x.cumsum() - x)\n",
    "                \n",
    "            else:\n",
    "\n",
    "                out_df[lagged_feature] = out_df.sort_values('round').groupby(['season', 'full_name'])[feature]\\\n",
    "                .apply(lambda x: x.rolling(min_periods=1, window=lag+1).sum() - x)\n",
    "\n",
    "            lagged_features.append(lagged_feature)\n",
    "    \n",
    "    return out_df, lagged_features"
   ]
  },
  {
   "cell_type": "code",
   "execution_count": 34,
   "metadata": {},
   "outputs": [],
   "source": [
    "def team_lag_features(gw_df, features, lags):\n",
    "    out_df = gw_df.copy()\n",
    "    lagged_features = []\n",
    "    \n",
    "    for feature in features:\n",
    "\n",
    "        ## Create a df for each feature\n",
    "        ## Then, self-join so that the opponent info for that feature is included\n",
    "        ## Then, create lagged features and join the columns to the feature df\n",
    "        ## Do the same for the opponent feature\n",
    "        ## Exit loop, merge with the original df\n",
    "        \n",
    "        feature_name = feature + '_team'\n",
    "        opponent_feature_name = feature_name + '_opponent'\n",
    "        \n",
    "  \n",
    "        feature_team = out_df.groupby(['player_team_name', 'season', 'round', 'kickoff_time', 'opponent_team_name'])\\\n",
    "                        [feature].max().rename(feature_name).reset_index()\n",
    "        \n",
    "        # self join to get opponent info\n",
    "        \n",
    "        feature_team = feature_team.merge(feature_team,\n",
    "                          left_on=['player_team_name', 'season', 'round', 'kickoff_time', 'opponent_team_name'],\n",
    "                          right_on=['opponent_team_name', 'season', 'round', 'kickoff_time', 'player_team_name'],\n",
    "                          how='left',\n",
    "                          suffixes=('', '_opponent'))\n",
    "            \n",
    "        \n",
    "\n",
    "        \n",
    "        for lag in lags:\n",
    "            lagged_feature_name = 'last_' + str(lag) + '_' + feature_name\n",
    "            lagged_opponent_feature_name = 'opponent_last_' + str(lag) + '_' + feature\n",
    "            \n",
    "\n",
    "            if lag == 'all':\n",
    "                \n",
    "                feature_team[lagged_feature_name] = feature_team.sort_values('round').groupby('player_team_name')[feature_name]\\\n",
    "                                                .apply(lambda x: x.cumsum() - x)\n",
    "            \n",
    "                feature_team[lagged_opponent_feature_name] = feature_team.groupby('player_team_name')[opponent_feature_name]\\\n",
    "                                                .apply(lambda x: x.cumsum() - x)\n",
    "            else:\n",
    "                    \n",
    "                       \n",
    "                feature_team[lagged_feature_name] = feature_team.sort_values('round').groupby('player_team_name')[feature_name]\\\n",
    "                                                    .apply(lambda x: x.rolling(min_periods=1,\n",
    "                                                                              window=lag+1).sum()-x)\n",
    "\n",
    "                feature_team[lagged_opponent_feature_name] = feature_team.groupby('player_team_name')[opponent_feature_name]\\\n",
    "                                                    .apply(lambda x: x.rolling(min_periods=1,\n",
    "                                                                              window=lag+1).sum()-x)\n",
    "\n",
    "            lagged_features.extend([lagged_feature_name, lagged_opponent_feature_name])\n",
    "            \n",
    "        out_df = out_df.merge(feature_team,\n",
    "                             on=['player_team_name', 'season', 'round', 'kickoff_time', 'opponent_team_name'],\n",
    "                             how='left')\n",
    "        \n",
    "        \n",
    "        return out_df, lagged_features"
   ]
  },
  {
   "cell_type": "code",
   "execution_count": 35,
   "metadata": {},
   "outputs": [],
   "source": [
    "player_features_to_lag = [\n",
    "    'assists',\n",
    "     'bonus',\n",
    "     'bps',\n",
    "     'creativity',\n",
    "     'clean_sheets',\n",
    "     'goals_conceded',\n",
    "     'goals_scored',\n",
    "     'ict_index',\n",
    "     'influence',\n",
    "     'minutes',\n",
    "     'threat']\n",
    "\n",
    "team_features_to_lag = ['goals_conceded', 'goals_scored', 'team_points', 'opponent_points']"
   ]
  },
  {
   "cell_type": "code",
   "execution_count": 36,
   "metadata": {},
   "outputs": [],
   "source": [
    "lagged_gw_df_players, lagged_player_features = player_lag_features(gws_df, player_features_to_lag, ['all', 1, 3, 5])"
   ]
  },
  {
   "cell_type": "code",
   "execution_count": 37,
   "metadata": {},
   "outputs": [],
   "source": [
    "lagged_gw_df, lagged_team_features = team_lag_features(lagged_gw_df_players, team_features_to_lag, ['all', 1, 3, 5])"
   ]
  },
  {
   "cell_type": "code",
   "execution_count": 38,
   "metadata": {},
   "outputs": [],
   "source": [
    "relevant_features = ['position', 'was_home', 'minutes', 'value', 'round', 'season_num'] + \\\n",
    "    lagged_player_features + \\\n",
    "    lagged_team_features "
   ]
  },
  {
   "cell_type": "markdown",
   "metadata": {},
   "source": [
    "# Modelling\n",
    "\n"
   ]
  },
  {
   "cell_type": "code",
   "execution_count": 39,
   "metadata": {},
   "outputs": [],
   "source": [
    "def make_dummies(df, numerical_features, categorical_features):\n",
    "    \n",
    "  \n",
    "    X_num = df[numerical_features]\n",
    "    X_cat = df[categorical_features]\n",
    "    \n",
    "    X_cat = X_cat.astype(str)\n",
    "    X_cat = pd.get_dummies(X_cat)\n",
    "    \n",
    "    # Join categorical and numerical features\n",
    "    X = pd.concat([X_num, X_cat], axis=1)\n",
    "    \n",
    "    return X"
   ]
  },
  {
   "cell_type": "code",
   "execution_count": 40,
   "metadata": {},
   "outputs": [],
   "source": [
    "categorical_features = ['was_home', 'position']\n",
    "numerical_features = numerical_features = list(set(relevant_features) - set(categorical_features))"
   ]
  },
  {
   "cell_type": "code",
   "execution_count": 41,
   "metadata": {},
   "outputs": [],
   "source": [
    "train_df = lagged_gw_df[(lagged_gw_df.season!='1920')]\n",
    "test_df = lagged_gw_df[(lagged_gw_df.season=='1920') ]\n",
    "\n"
   ]
  },
  {
   "cell_type": "code",
   "execution_count": 42,
   "metadata": {},
   "outputs": [],
   "source": [
    "# XGBoost handles NA values, but the other scikit learn methods (that I've chosen) do not\n",
    "\n",
    "lagged_gw_df_no_na = lagged_gw_df.dropna(subset=relevant_features + ['total_points', 'season'])\n",
    "train_df_no_na = lagged_gw_df_no_na[lagged_gw_df_no_na.season!='1920']\n",
    "test_df_no_na = lagged_gw_df_no_na[lagged_gw_df_no_na.season=='1920']"
   ]
  },
  {
   "cell_type": "code",
   "execution_count": 43,
   "metadata": {},
   "outputs": [],
   "source": [
    "X_train = make_dummies(train_df[relevant_features], numerical_features, categorical_features)\n",
    "y_train = train_df.total_points\n",
    "\n",
    "X_train_no_na = make_dummies(train_df_no_na[relevant_features], numerical_features, categorical_features)\n",
    "y_train_no_na = train_df_no_na.total_points"
   ]
  },
  {
   "cell_type": "code",
   "execution_count": 44,
   "metadata": {},
   "outputs": [],
   "source": [
    "X_test = make_dummies(test_df, numerical_features, categorical_features)\n",
    "y_test = test_df.total_points\n",
    "\n",
    "X_test_no_na = make_dummies(test_df_no_na, numerical_features, categorical_features)\n",
    "y_test_no_na = test_df_no_na.total_points"
   ]
  },
  {
   "cell_type": "markdown",
   "metadata": {},
   "source": [
    "# Regression models\n",
    "\n",
    "For a start, I have chosen to look at:\n",
    "\n",
    "- Linear regression and its variants, Lasso and Ridge\n",
    "- XGBoost\n",
    "- A simple baseline model of using group means\n",
    "\n",
    "For the XGBoost regressor, I will first do a randomized search to tune the hyperparameters. One risk of this approach is that time and resources will be wasted on tuning the hyperparameters if it turns out that a much simpler model that doesn't require hyperparameter tuning (e.g. linear regression) performs much better than XGBoost. But, given that XGBoost has known to almost always outperform most other models, it is at least worth a shot.\n",
    "\n",
    "Then, all models will be compared and the top 2 (with the highest cross-validation score - here I use RMSE) will be used to make predictions to be fed into the algorithm to select potential transfers for each gameweek.\n",
    "\n",
    "A brief explanation on the starting values I have selected for the tuning of the hyperparameters:\n",
    "\n",
    "`max_depth`: larger values makes the model (1) more complex, (2) more likely to overfit, and (3) take longer to train. Here, I used a range from 3-6 (the default). I am wary of overfitting since the nature of the data can change dramatically across seasons (e.g. due to player transfers, improvement/decline of play abilities, state of the club etc.). \n",
    "\n",
    "`min_child_weight`: Similar to `max_depth`, I want to reduce the complexity/variance in the model. Here, larger values will reduce the likelihood of overfitting. I decided to use a range from 6-10\n",
    "\n",
    "`learning_rate`: The default here is 0.3. I decided to try 5 values: 1/10 of the default, 1/5 of the default, 1.5x the default, and 2x the default.\n",
    "\n",
    "`subsample` and `colsample_by_tree`: The default here is 1, but since I want to reduce overfitting, I decided to use a range from 0.8 - 0.9. \n",
    "\n"
   ]
  },
  {
   "cell_type": "code",
   "execution_count": 45,
   "metadata": {},
   "outputs": [],
   "source": [
    "params = {\n",
    "         'max_depth': list(range(3,7)),  \n",
    "    'min_child_weight': list(range(10,51)),\n",
    "    'learning_rate':  [0.03, 0.15, 0.3, 0.45, 0.6],\n",
    "    'subsample': stats.uniform(0.8, 0.1),\n",
    "    'colsample_bytree': [0.8, 0.1]}\n",
    "\n",
    "xgb_reg = xgb.XGBRegressor(objective='reg:squarederror')\n",
    "xgb_reg.fit(X_train, y_train)\n",
    "\n",
    "\n",
    "\n",
    "xgb_cv = RandomizedSearchCV(xgb_reg, params, cv=3, scoring='neg_root_mean_squared_error',\n",
    "                            random_state=999)\n"
   ]
  },
  {
   "cell_type": "code",
   "execution_count": 46,
   "metadata": {},
   "outputs": [
    {
     "data": {
      "text/plain": [
       "XGBRegressor(base_score=None, booster=None, colsample_bylevel=None,\n",
       "             colsample_bynode=None, colsample_bytree=0.8, gamma=None,\n",
       "             gpu_id=None, importance_type='gain', interaction_constraints=None,\n",
       "             learning_rate=0.03, max_delta_step=None, max_depth=6,\n",
       "             min_child_weight=37, missing=nan, monotone_constraints=None,\n",
       "             n_estimators=100, n_jobs=None, num_parallel_tree=None,\n",
       "             random_state=None, reg_alpha=None, reg_lambda=None,\n",
       "             scale_pos_weight=None, subsample=0.8412357788312058,\n",
       "             tree_method=None, validate_parameters=None, verbosity=None)"
      ]
     },
     "execution_count": 46,
     "metadata": {},
     "output_type": "execute_result"
    }
   ],
   "source": [
    "xgb_cv.fit(X_train, y_train)\n",
    "xgb_best = xgb.XGBRegressor(objective='reg:squarederror')\n",
    "xgb_best.set_params(**xgb_cv.best_params_)\n"
   ]
  },
  {
   "cell_type": "code",
   "execution_count": 47,
   "metadata": {},
   "outputs": [],
   "source": [
    "# Initialize the models. I am doing it this way as predictions are easy to calculate so I will not be storing them until I need them\n",
    "\n",
    "\n",
    "seed = 999\n",
    "models = []\n",
    "models.append(('LinReg', LinearRegression()))\n",
    "models.append(('LassoReg', LassoCV()))\n",
    "models.append(('RidgeReg', RidgeCV()))\n"
   ]
  },
  {
   "cell_type": "code",
   "execution_count": 48,
   "metadata": {},
   "outputs": [],
   "source": [
    "def get_cv_scores(models, X, y, k=5, seed=999):\n",
    "    \n",
    "    # inspired by the excellent tutorial by Jason Brownlee:\n",
    "    # https://machinelearningmastery.com/compare-machine-learning-algorithms-python-scikit-learn/\n",
    "    \n",
    "    names = []\n",
    "    results = []\n",
    "    print(\"Cross val scores:\")\n",
    "    \n",
    "    for name, m in models:\n",
    "        cv_results = -cross_val_score(m, X, y, cv=k, scoring='neg_root_mean_squared_error')\n",
    "        results.append(cv_results)\n",
    "        names.append(name)\n",
    "        \n",
    "        print(\"%s: %f (%f)\" % (name, cv_results.mean(), cv_results.std() ))\n",
    "        print(\"\")\n",
    "        print(\"*\"*88)\n",
    "        print(\"\")\n",
    "        \n",
    "    return names, results\n"
   ]
  },
  {
   "cell_type": "code",
   "execution_count": 49,
   "metadata": {},
   "outputs": [
    {
     "name": "stdout",
     "output_type": "stream",
     "text": [
      "Cross val scores:\n",
      "LinReg: 1.899590 (0.048375)\n",
      "\n",
      "****************************************************************************************\n",
      "\n",
      "LassoReg: 1.904346 (0.050299)\n",
      "\n",
      "****************************************************************************************\n",
      "\n",
      "RidgeReg: 1.899542 (0.048351)\n",
      "\n",
      "****************************************************************************************\n",
      "\n"
     ]
    }
   ],
   "source": [
    "model_names, model_results = get_cv_scores(models, X_train_no_na, y_train_no_na)"
   ]
  },
  {
   "cell_type": "code",
   "execution_count": 50,
   "metadata": {},
   "outputs": [
    {
     "name": "stdout",
     "output_type": "stream",
     "text": [
      "Cross val scores:\n",
      "XGB: 1.855922 (0.049368)\n",
      "\n",
      "****************************************************************************************\n",
      "\n"
     ]
    }
   ],
   "source": [
    "xgb_cv_scores = get_cv_scores([(\"XGB\", xgb_best)], X_train, y_train)"
   ]
  },
  {
   "cell_type": "code",
   "execution_count": 51,
   "metadata": {},
   "outputs": [],
   "source": [
    "model_names += xgb_cv_scores[0]\n",
    "model_results += xgb_cv_scores[1]"
   ]
  },
  {
   "cell_type": "code",
   "execution_count": 52,
   "metadata": {},
   "outputs": [],
   "source": [
    "def compare_model_scores(model_names, model_results):\n",
    "    \n",
    "    fig = plt.figure()\n",
    "    fig.suptitle('Model comparison')\n",
    "    ax = fig.add_subplot(111)\n",
    "    plt.boxplot(model_results)\n",
    "    ax.set_xticklabels(model_names)\n",
    "    plt.show()"
   ]
  },
  {
   "cell_type": "code",
   "execution_count": 53,
   "metadata": {},
   "outputs": [
    {
     "data": {
      "image/png": "[encoded data removed]",
      "text/plain": [
       "<Figure size 432x288 with 1 Axes>"
      ]
     },
     "metadata": {
      "needs_background": "light"
     },
     "output_type": "display_data"
    }
   ],
   "source": [
    "compare_model_scores(model_names, model_results)"
   ]
  },
  {
   "cell_type": "markdown",
   "metadata": {},
   "source": [
    "It looks like XGBoost is the winner here in terms of average RMSE. The other regression models appear to be more or less the same, so I will go with the simple Linear Regression model as the other choice for comparing the transfer selection algorithm."
   ]
  },
  {
   "cell_type": "markdown",
   "metadata": {},
   "source": [
    "# Transfer selection\n",
    "\n",
    "Next, I came up with a heuristic-based algorithm that will decide which transfer, if any, to make for each Gameweek:\n",
    "\n",
    "- For each player position, find the player in the current team with the lowest predicted points. Here, I excluded the Keeper since the variance in points (and thus the potential benefit from a transfer) from Keepers is not very high compared to the other positions.\n",
    "- From the pool of players not in the current team, get all players that (1) have predicted points that are higher than this player, and (2) a cost that is lower than the cost of this player and the current available money\n",
    "- From this pool of players, a potential player will be selected. \n",
    "- Among the 3 potential players selected (1 from each position), the player with the highest predicted point difference, compared against the player that they will replace, will be selected as the final player to be transferred in. \n",
    "- The constraint of not more than 3 players from the same team will also be checked.\n",
    "- There could be cases where all the players from the current team have the highest predicted points for their respective positions. In that case, no transfers will be made."
   ]
  },
  {
   "cell_type": "code",
   "execution_count": 54,
   "metadata": {},
   "outputs": [],
   "source": [
    "def make_predicted_table(y_test, y_pred, gw_df):\n",
    "    results_df = pd.DataFrame(list(zip(y_test.tolist(), y_pred.tolist())),\n",
    "                             columns=[\"actual\", \"predicted\"])\n",
    "    \n",
    "    \n",
    "    results_df.reset_index(drop=True, inplace=True)\n",
    "    gw_df.reset_index(inplace=True)\n",
    "    pred_df = pd.concat([gw_df, results_df], axis=1)\n",
    "    \n",
    "    return pred_df"
   ]
  },
  {
   "cell_type": "code",
   "execution_count": 55,
   "metadata": {},
   "outputs": [],
   "source": [
    "def get_suggested_transfer(predicted_df, team_list, current_money):\n",
    "    \n",
    "    predicted_diff = 0\n",
    "    money_change = 0\n",
    "    suggested_in = ''\n",
    "    suggested_out = ''\n",
    "    team_df = predicted_df[(predicted_df.full_name.isin(team_list))]\n",
    "    \n",
    "  \n",
    "    teams_dict = {}\n",
    "    for i, row in team_df.iterrows():\n",
    "        if row.player_team_name not in teams_dict:\n",
    "            teams_dict[row.player_team_name] = [row.full_name]\n",
    "        else:\n",
    "            teams_dict[row.player_team_name].append(row.full_name)\n",
    "            \n",
    "            \n",
    "    for position in [\"Defender\", \"Midfielder\", \"Forward\"]:\n",
    "        \n",
    "        # don't bother about keepers, variance in scores is not that great\n",
    "        # so, save the free transfer for other positions\n",
    "       \n",
    "        \n",
    "        \n",
    "        player_df = predicted_df[predicted_df.position==position].sort_values('predicted', ascending=False).reset_index()\n",
    "\n",
    "        \n",
    "        lowest_pos = 0\n",
    "        player_names = team_df[team_df.position==position].full_name.values\n",
    "        \n",
    "        # loop through the players for this position, and get the rank (row number) of the player with the lowest predicted score\n",
    "        for p in player_names:\n",
    "            player_pos = player_df[player_df.full_name==p].index[0]\n",
    "            if player_pos > lowest_pos:\n",
    "                lowest_pos = player_pos\n",
    "                potential_out = p\n",
    "                potential_out_cost = team_df[team_df.full_name==p].value.values[0]\n",
    "                potential_out_team = team_df[team_df.full_name==p].player_team_name.values[0]\n",
    "                \n",
    "            elif len(player_names) <= 1:\n",
    "                potential_out_cost = 0\n",
    "                potential_out_team = 'none'\n",
    "                potential_out = 'none'\n",
    "                \n",
    "        # get all players above this player\n",
    "        potential_players = player_df[:lowest_pos]\n",
    "        \n",
    "        \n",
    "        # only keep players that we can afford\n",
    "        potential_players = potential_players[potential_players.value <= potential_out_cost + current_money]\n",
    "        \n",
    "        # only keep players who played (need a better way of doing this)\n",
    "        potential_players = potential_players[potential_players.minutes > 0]\n",
    "\n",
    "        # get the prediction difference for each suggested player\n",
    "        # select the one with the highest difference as the suggested transfer (compare across positons)\n",
    "        \n",
    "        potential_out_predicted = team_df[team_df.full_name==p].predicted.values[0]\n",
    "        \n",
    "        for i, row in potential_players.iterrows():\n",
    "                \n",
    "            # skip if it is a player we already have\n",
    "            if row.full_name in team_list:\n",
    "                continue\n",
    "\n",
    "\n",
    "\n",
    "            # if there are no other players of the same team, it's ok to consider this player\n",
    "            # if not, check whether there are 3 players of the same team already\n",
    "            if row.player_team_name not in teams_dict:\n",
    "                pass\n",
    "            else:\n",
    "                if len(teams_dict[row.player_team_name]) == 3:\n",
    "                    # if there are already 3 players of the same team,\n",
    "                    # can't take another player of the same team\n",
    "                    # unless the suggested_out is the same team as suggested_in (direct swap)\n",
    "                   \n",
    "                    if row.player_team_name == potential_out_team:\n",
    "                        pass\n",
    "                    else:\n",
    "                        continue\n",
    "                else:\n",
    "                    pass\n",
    "                \n",
    "            \n",
    "            # check for difference in predictions\n",
    "            if row.predicted - potential_out_predicted > predicted_diff:\n",
    "                predicted_diff = row.predicted - potential_out_predicted\n",
    "                suggested_in = row.full_name\n",
    "                suggested_out = potential_out\n",
    "                \n",
    "                # calculate change in money\n",
    "                money_change = potential_out_cost - row.value\n",
    "                \n",
    "    return suggested_in, suggested_out, money_change"
   ]
  },
  {
   "cell_type": "code",
   "execution_count": 56,
   "metadata": {},
   "outputs": [],
   "source": [
    "def get_score(team_list, gw_df):\n",
    "    \n",
    "    gw_score = gw_df[gw_df.full_name.isin(team_list)].actual.sum() \\\n",
    "        + gw_df[(gw_df.full_name.isin(team_list)) & (gw_df.position!='Keeper')].sort_values(\"predicted\", ascending=False).head(1).actual.values[0]\n",
    "        \n",
    "    \n",
    "    return gw_score"
   ]
  },
  {
   "cell_type": "code",
   "execution_count": 57,
   "metadata": {},
   "outputs": [],
   "source": [
    "def get_performance(team_list, starting_money, gw_list,\n",
    "                   prediction_df):\n",
    "    \n",
    "    current_money = starting_money\n",
    "    total_score = 0\n",
    "    \n",
    "    \n",
    "    in_list = []\n",
    "    out_list = []\n",
    "    score_list = []\n",
    "    unplayed_list = []\n",
    "    \n",
    "    \n",
    "    for gw in gw_list:\n",
    "\n",
    "        gw_df = prediction_df[prediction_df.GW==gw]\n",
    "        money_change = 0\n",
    "        suggested_in = ''\n",
    "        suggested_out = ''\n",
    "        if gw > 1:\n",
    "            \n",
    "\n",
    "            suggested_in, suggested_out, money_change = get_suggested_transfer(gw_df, team_list, current_money)\n",
    "        \n",
    "            current_money += money_change\n",
    "\n",
    "            team_list.append(suggested_in)\n",
    "            team_list.remove(suggested_out)\n",
    "            \n",
    "        \n",
    "\n",
    "        ## Calculate scores\n",
    "        \n",
    "        gw_score = get_score(team_list, gw_df)\n",
    "\n",
    "        \n",
    "        out_list.append(suggested_out)\n",
    "        in_list.append(suggested_in)\n",
    "        score_list.append(gw_score)\n",
    "        \n",
    "        total_score += gw_score\n",
    "        \n",
    "    out_df = pd.DataFrame({'GW': gw_list,\n",
    "                          'player_in': in_list,\n",
    "                          'player_out': out_list,\n",
    "                          'total_score': score_list})\n",
    "    \n",
    "    print(total_score)\n",
    "    \n",
    "    return(out_df)"
   ]
  },
  {
   "cell_type": "code",
   "execution_count": 58,
   "metadata": {},
   "outputs": [],
   "source": [
    "## Get predictions for the two best models, Linear Regression and XGBoost\n",
    "\n",
    "lin_reg = LinearRegression()\n",
    "lin_reg.fit(X_train_no_na, y_train_no_na)\n",
    "linreg_predictions = lin_reg.predict(X_test_no_na)\n",
    "\n",
    "\n",
    "xgb_best.fit(X_train, y_train)\n",
    "xgb_predictions = xgb_best.predict(X_test)"
   ]
  },
  {
   "cell_type": "code",
   "execution_count": 59,
   "metadata": {},
   "outputs": [],
   "source": [
    "predicted_df_lin_reg = make_predicted_table(y_test_no_na, linreg_predictions, test_df_no_na[relevant_features + ['full_name', 'GW', 'player_team_name', 'total_points']] )\n",
    "predicted_df_xgb = make_predicted_table(y_test, xgb_predictions, test_df[relevant_features + ['full_name', 'GW', 'player_team_name', 'total_points']] )"
   ]
  },
  {
   "cell_type": "markdown",
   "metadata": {},
   "source": [
    "# Model comparison\n",
    "\n",
    "First, a reminder of the total points that would have been obtained without any transfers:"
   ]
  },
  {
   "cell_type": "code",
   "execution_count": 60,
   "metadata": {},
   "outputs": [
    {
     "name": "stdout",
     "output_type": "stream",
     "text": [
      "Total points for 19/20 season: 1792\n"
     ]
    }
   ],
   "source": [
    "captain = get_initial_team(prob, previous_season_player_df).sort_values(\"total_points\", ascending=False).head(1).full_name.values[0]\n",
    "\n",
    "total_points = current_season_player_df[current_season_player_df.full_name.isin(initial_team_df.full_name)].total_points.sum()\n",
    "total_points += current_season_player_df[current_season_player_df.full_name==captain].total_points\n",
    "\n",
    "print(\"Total points for 19/20 season:\", total_points.values[0])"
   ]
  },
  {
   "cell_type": "code",
   "execution_count": 61,
   "metadata": {},
   "outputs": [
    {
     "name": "stdout",
     "output_type": "stream",
     "text": [
      "2041\n"
     ]
    }
   ],
   "source": [
    "## Linear regression\n",
    "\n",
    "my_team = list(initial_team_df.full_name)\n",
    "gameweeks = (test_df.GW).unique()\n",
    "starting_money = 1000 - bench_cost - initial_team_df.starting_cost.sum()\n",
    "\n",
    "lin_reg_perf = get_performance(my_team, starting_money, gameweeks,\n",
    "                   predicted_df_lin_reg)"
   ]
  },
  {
   "cell_type": "markdown",
   "metadata": {},
   "source": [
    "The linear regression model gives a end-of-season score of 2041. Linear regression shows a huge improvement of about 250 points! This corresponds to a ranking of 1457242 (https://fantasy.premierleague.com/entry/222484/history/), or about the top 19% of all managers. Great improvement from 57% just with a simple linear regression model! \n",
    "\n",
    "What about XGBoost?"
   ]
  },
  {
   "cell_type": "code",
   "execution_count": 62,
   "metadata": {},
   "outputs": [
    {
     "name": "stdout",
     "output_type": "stream",
     "text": [
      "2278\n"
     ]
    }
   ],
   "source": [
    "## XGBoost\n",
    "\n",
    "\n",
    "my_team = list(initial_team_df.full_name)\n",
    "gameweeks = (test_df.GW).unique()\n",
    "starting_money = 1000 - bench_cost - initial_team_df.starting_cost.sum()\n",
    "\n",
    "xgb_cv_perf = get_performance(my_team, starting_money, gameweeks,\n",
    "                   predicted_df_xgb)"
   ]
  },
  {
   "cell_type": "markdown",
   "metadata": {},
   "source": [
    "The XGBoost model gives a end-of-season score of 2219. A more modest, but still substantial, improvement over the linear regression model. This corresponds to a ranking of 79192, or about top 1% of all managers (https://fantasy.premierleague.com/entry/104879/history). XGBoost allowed the team to climb more than 15% ranking points compared to linear regression! Furthermore, I was able to achieve a top 1% ranking! \n"
   ]
  },
  {
   "cell_type": "code",
   "execution_count": 64,
   "metadata": {},
   "outputs": [
    {
     "data": {
      "text/html": [
       "<div>\n",
       "<style scoped>\n",
       "    .dataframe tbody tr th:only-of-type {\n",
       "        vertical-align: middle;\n",
       "    }\n",
       "\n",
       "    .dataframe tbody tr th {\n",
       "        vertical-align: top;\n",
       "    }\n",
       "\n",
       "    .dataframe thead th {\n",
       "        text-align: right;\n",
       "    }\n",
       "</style>\n",
       "<table border=\"1\" class=\"dataframe\">\n",
       "  <thead>\n",
       "    <tr style=\"text-align: right;\">\n",
       "      <th></th>\n",
       "      <th>GW</th>\n",
       "      <th>player_in</th>\n",
       "      <th>player_out</th>\n",
       "      <th>total_score</th>\n",
       "    </tr>\n",
       "  </thead>\n",
       "  <tbody>\n",
       "    <tr>\n",
       "      <th>0</th>\n",
       "      <td>1.0</td>\n",
       "      <td></td>\n",
       "      <td></td>\n",
       "      <td>90</td>\n",
       "    </tr>\n",
       "    <tr>\n",
       "      <th>1</th>\n",
       "      <td>2.0</td>\n",
       "      <td>bernardo_mota_veiga_de_carvalho_e_silva</td>\n",
       "      <td>ryan_fraser</td>\n",
       "      <td>40</td>\n",
       "    </tr>\n",
       "    <tr>\n",
       "      <th>2</th>\n",
       "      <td>3.0</td>\n",
       "      <td></td>\n",
       "      <td></td>\n",
       "      <td>59</td>\n",
       "    </tr>\n",
       "    <tr>\n",
       "      <th>3</th>\n",
       "      <td>4.0</td>\n",
       "      <td></td>\n",
       "      <td></td>\n",
       "      <td>53</td>\n",
       "    </tr>\n",
       "    <tr>\n",
       "      <th>4</th>\n",
       "      <td>5.0</td>\n",
       "      <td></td>\n",
       "      <td></td>\n",
       "      <td>62</td>\n",
       "    </tr>\n",
       "    <tr>\n",
       "      <th>5</th>\n",
       "      <td>6.0</td>\n",
       "      <td>riyad_mahrez</td>\n",
       "      <td>raheem_sterling</td>\n",
       "      <td>70</td>\n",
       "    </tr>\n",
       "    <tr>\n",
       "      <th>6</th>\n",
       "      <td>7.0</td>\n",
       "      <td>harry_kane</td>\n",
       "      <td>callum_wilson</td>\n",
       "      <td>55</td>\n",
       "    </tr>\n",
       "    <tr>\n",
       "      <th>7</th>\n",
       "      <td>8.0</td>\n",
       "      <td>felipe_anderson_pereira_gomes</td>\n",
       "      <td>gylfi_sigurdsson</td>\n",
       "      <td>33</td>\n",
       "    </tr>\n",
       "    <tr>\n",
       "      <th>8</th>\n",
       "      <td>9.0</td>\n",
       "      <td>bamidele_alli</td>\n",
       "      <td>riyad_mahrez</td>\n",
       "      <td>40</td>\n",
       "    </tr>\n",
       "    <tr>\n",
       "      <th>9</th>\n",
       "      <td>10.0</td>\n",
       "      <td>alexandre_lacazette</td>\n",
       "      <td>harry_kane</td>\n",
       "      <td>41</td>\n",
       "    </tr>\n",
       "    <tr>\n",
       "      <th>10</th>\n",
       "      <td>11.0</td>\n",
       "      <td>kevin_de_bruyne</td>\n",
       "      <td>felipe_anderson_pereira_gomes</td>\n",
       "      <td>43</td>\n",
       "    </tr>\n",
       "    <tr>\n",
       "      <th>11</th>\n",
       "      <td>12.0</td>\n",
       "      <td>marcus_rashford</td>\n",
       "      <td>alexandre_lacazette</td>\n",
       "      <td>48</td>\n",
       "    </tr>\n",
       "    <tr>\n",
       "      <th>12</th>\n",
       "      <td>13.0</td>\n",
       "      <td>riyad_mahrez</td>\n",
       "      <td>bernardo_mota_veiga_de_carvalho_e_silva</td>\n",
       "      <td>56</td>\n",
       "    </tr>\n",
       "    <tr>\n",
       "      <th>13</th>\n",
       "      <td>14.0</td>\n",
       "      <td>mesut_ozil</td>\n",
       "      <td>riyad_mahrez</td>\n",
       "      <td>79</td>\n",
       "    </tr>\n",
       "    <tr>\n",
       "      <th>14</th>\n",
       "      <td>15.0</td>\n",
       "      <td>sadio_mane</td>\n",
       "      <td>mohamed_salah</td>\n",
       "      <td>64</td>\n",
       "    </tr>\n",
       "    <tr>\n",
       "      <th>15</th>\n",
       "      <td>16.0</td>\n",
       "      <td>kyle_walker</td>\n",
       "      <td>aymeric_laporte</td>\n",
       "      <td>49</td>\n",
       "    </tr>\n",
       "    <tr>\n",
       "      <th>16</th>\n",
       "      <td>17.0</td>\n",
       "      <td>cesar_azpilicueta</td>\n",
       "      <td>david_luiz_moreira_marinho</td>\n",
       "      <td>59</td>\n",
       "    </tr>\n",
       "    <tr>\n",
       "      <th>17</th>\n",
       "      <td>18.0</td>\n",
       "      <td>riyad_mahrez</td>\n",
       "      <td>mesut_ozil</td>\n",
       "      <td>35</td>\n",
       "    </tr>\n",
       "    <tr>\n",
       "      <th>18</th>\n",
       "      <td>19.0</td>\n",
       "      <td>richarlison_de_andrade</td>\n",
       "      <td>riyad_mahrez</td>\n",
       "      <td>62</td>\n",
       "    </tr>\n",
       "    <tr>\n",
       "      <th>19</th>\n",
       "      <td>20.0</td>\n",
       "      <td>alexandre_lacazette</td>\n",
       "      <td>marcus_rashford</td>\n",
       "      <td>80</td>\n",
       "    </tr>\n",
       "    <tr>\n",
       "      <th>20</th>\n",
       "      <td>21.0</td>\n",
       "      <td>riyad_mahrez</td>\n",
       "      <td>richarlison_de_andrade</td>\n",
       "      <td>58</td>\n",
       "    </tr>\n",
       "    <tr>\n",
       "      <th>21</th>\n",
       "      <td>22.0</td>\n",
       "      <td>jamie_vardy</td>\n",
       "      <td>alexandre_lacazette</td>\n",
       "      <td>74</td>\n",
       "    </tr>\n",
       "    <tr>\n",
       "      <th>22</th>\n",
       "      <td>23.0</td>\n",
       "      <td>alexandre_lacazette</td>\n",
       "      <td>pierre_emerick_aubameyang</td>\n",
       "      <td>39</td>\n",
       "    </tr>\n",
       "    <tr>\n",
       "      <th>23</th>\n",
       "      <td>24.0</td>\n",
       "      <td>heung_min_son</td>\n",
       "      <td>sadio_mane</td>\n",
       "      <td>65</td>\n",
       "    </tr>\n",
       "    <tr>\n",
       "      <th>24</th>\n",
       "      <td>25.0</td>\n",
       "      <td>mohamed_salah</td>\n",
       "      <td>bamidele_alli</td>\n",
       "      <td>62</td>\n",
       "    </tr>\n",
       "    <tr>\n",
       "      <th>25</th>\n",
       "      <td>26.0</td>\n",
       "      <td>diogo_jota</td>\n",
       "      <td>alexandre_lacazette</td>\n",
       "      <td>73</td>\n",
       "    </tr>\n",
       "    <tr>\n",
       "      <th>26</th>\n",
       "      <td>27.0</td>\n",
       "      <td></td>\n",
       "      <td></td>\n",
       "      <td>57</td>\n",
       "    </tr>\n",
       "    <tr>\n",
       "      <th>27</th>\n",
       "      <td>28.0</td>\n",
       "      <td>bamidele_alli</td>\n",
       "      <td>heung_min_son</td>\n",
       "      <td>36</td>\n",
       "    </tr>\n",
       "    <tr>\n",
       "      <th>28</th>\n",
       "      <td>29.0</td>\n",
       "      <td>anthony_martial</td>\n",
       "      <td>kevin_de_bruyne</td>\n",
       "      <td>61</td>\n",
       "    </tr>\n",
       "    <tr>\n",
       "      <th>29</th>\n",
       "      <td>39.0</td>\n",
       "      <td>raheem_sterling</td>\n",
       "      <td>mohamed_salah</td>\n",
       "      <td>79</td>\n",
       "    </tr>\n",
       "    <tr>\n",
       "      <th>30</th>\n",
       "      <td>40.0</td>\n",
       "      <td>sadio_mane</td>\n",
       "      <td>bamidele_alli</td>\n",
       "      <td>78</td>\n",
       "    </tr>\n",
       "    <tr>\n",
       "      <th>31</th>\n",
       "      <td>41.0</td>\n",
       "      <td>kevin_de_bruyne</td>\n",
       "      <td>riyad_mahrez</td>\n",
       "      <td>61</td>\n",
       "    </tr>\n",
       "    <tr>\n",
       "      <th>32</th>\n",
       "      <td>42.0</td>\n",
       "      <td>raul_jimenez</td>\n",
       "      <td>diogo_jota</td>\n",
       "      <td>82</td>\n",
       "    </tr>\n",
       "    <tr>\n",
       "      <th>33</th>\n",
       "      <td>43.0</td>\n",
       "      <td>mohamed_salah</td>\n",
       "      <td>sadio_mane</td>\n",
       "      <td>71</td>\n",
       "    </tr>\n",
       "    <tr>\n",
       "      <th>34</th>\n",
       "      <td>44.0</td>\n",
       "      <td>marcus_rashford</td>\n",
       "      <td>jamie_vardy</td>\n",
       "      <td>76</td>\n",
       "    </tr>\n",
       "    <tr>\n",
       "      <th>35</th>\n",
       "      <td>45.0</td>\n",
       "      <td>nicolas_pepe</td>\n",
       "      <td>kevin_de_bruyne</td>\n",
       "      <td>55</td>\n",
       "    </tr>\n",
       "    <tr>\n",
       "      <th>36</th>\n",
       "      <td>46.0</td>\n",
       "      <td>heung_min_son</td>\n",
       "      <td>nicolas_pepe</td>\n",
       "      <td>67</td>\n",
       "    </tr>\n",
       "    <tr>\n",
       "      <th>37</th>\n",
       "      <td>47.0</td>\n",
       "      <td>gabriel_fernando_de_jesus</td>\n",
       "      <td>raul_jimenez</td>\n",
       "      <td>66</td>\n",
       "    </tr>\n",
       "  </tbody>\n",
       "</table>\n",
       "</div>"
      ],
      "text/plain": [
       "      GW                                player_in  \\\n",
       "0    1.0                                            \n",
       "1    2.0  bernardo_mota_veiga_de_carvalho_e_silva   \n",
       "2    3.0                                            \n",
       "3    4.0                                            \n",
       "4    5.0                                            \n",
       "5    6.0                             riyad_mahrez   \n",
       "6    7.0                               harry_kane   \n",
       "7    8.0            felipe_anderson_pereira_gomes   \n",
       "8    9.0                            bamidele_alli   \n",
       "9   10.0                      alexandre_lacazette   \n",
       "10  11.0                          kevin_de_bruyne   \n",
       "11  12.0                          marcus_rashford   \n",
       "12  13.0                             riyad_mahrez   \n",
       "13  14.0                               mesut_ozil   \n",
       "14  15.0                               sadio_mane   \n",
       "15  16.0                              kyle_walker   \n",
       "16  17.0                        cesar_azpilicueta   \n",
       "17  18.0                             riyad_mahrez   \n",
       "18  19.0                   richarlison_de_andrade   \n",
       "19  20.0                      alexandre_lacazette   \n",
       "20  21.0                             riyad_mahrez   \n",
       "21  22.0                              jamie_vardy   \n",
       "22  23.0                      alexandre_lacazette   \n",
       "23  24.0                            heung_min_son   \n",
       "24  25.0                            mohamed_salah   \n",
       "25  26.0                               diogo_jota   \n",
       "26  27.0                                            \n",
       "27  28.0                            bamidele_alli   \n",
       "28  29.0                          anthony_martial   \n",
       "29  39.0                          raheem_sterling   \n",
       "30  40.0                               sadio_mane   \n",
       "31  41.0                          kevin_de_bruyne   \n",
       "32  42.0                             raul_jimenez   \n",
       "33  43.0                            mohamed_salah   \n",
       "34  44.0                          marcus_rashford   \n",
       "35  45.0                             nicolas_pepe   \n",
       "36  46.0                            heung_min_son   \n",
       "37  47.0                gabriel_fernando_de_jesus   \n",
       "\n",
       "                                 player_out  total_score  \n",
       "0                                                     90  \n",
       "1                               ryan_fraser           40  \n",
       "2                                                     59  \n",
       "3                                                     53  \n",
       "4                                                     62  \n",
       "5                           raheem_sterling           70  \n",
       "6                             callum_wilson           55  \n",
       "7                          gylfi_sigurdsson           33  \n",
       "8                              riyad_mahrez           40  \n",
       "9                                harry_kane           41  \n",
       "10            felipe_anderson_pereira_gomes           43  \n",
       "11                      alexandre_lacazette           48  \n",
       "12  bernardo_mota_veiga_de_carvalho_e_silva           56  \n",
       "13                             riyad_mahrez           79  \n",
       "14                            mohamed_salah           64  \n",
       "15                          aymeric_laporte           49  \n",
       "16               david_luiz_moreira_marinho           59  \n",
       "17                               mesut_ozil           35  \n",
       "18                             riyad_mahrez           62  \n",
       "19                          marcus_rashford           80  \n",
       "20                   richarlison_de_andrade           58  \n",
       "21                      alexandre_lacazette           74  \n",
       "22                pierre_emerick_aubameyang           39  \n",
       "23                               sadio_mane           65  \n",
       "24                            bamidele_alli           62  \n",
       "25                      alexandre_lacazette           73  \n",
       "26                                                    57  \n",
       "27                            heung_min_son           36  \n",
       "28                          kevin_de_bruyne           61  \n",
       "29                            mohamed_salah           79  \n",
       "30                            bamidele_alli           78  \n",
       "31                             riyad_mahrez           61  \n",
       "32                               diogo_jota           82  \n",
       "33                               sadio_mane           71  \n",
       "34                              jamie_vardy           76  \n",
       "35                          kevin_de_bruyne           55  \n",
       "36                             nicolas_pepe           67  \n",
       "37                             raul_jimenez           66  "
      ]
     },
     "execution_count": 64,
     "metadata": {},
     "output_type": "execute_result"
    }
   ],
   "source": [
    "xgb_cv_perf"
   ]
  },
  {
   "cell_type": "markdown",
   "metadata": {},
   "source": [
    "## Statistical analysis\n",
    "\n",
    "The total points obtained by the two different models definitely different, but is this difference greater than what would be expected by random chance alone? For example, suppose that the XGBoost regressor resulted in 1 more point that the linear regression model. This difference would likely be due to chance, and we might be better off just using the simpler model.\n",
    "\n",
    "Here, I conducted a paired-samples t-test to determine whether the better performance of the XGBoost model was due to chance:"
   ]
  },
  {
   "cell_type": "code",
   "execution_count": 63,
   "metadata": {},
   "outputs": [
    {
     "data": {
      "text/plain": [
       "Ttest_relResult(statistic=2.747528199595008, pvalue=0.009223559959750473)"
      ]
     },
     "execution_count": 63,
     "metadata": {},
     "output_type": "execute_result"
    }
   ],
   "source": [
    "stats.ttest_rel(xgb_cv_perf.total_score, lin_reg_perf.total_score)"
   ]
  },
  {
   "cell_type": "markdown",
   "metadata": {},
   "source": [
    "Since p = .009, the null hypothesis of \"no difference in the predicted points between the linear regression and XGBoost model\" is rejected (at alpha = .05). Thus, I am confident that there is a meaningful difference between the two models, and that the XGBoost provides better predicted points for the 19/20 FPL season."
   ]
  },
  {
   "cell_type": "markdown",
   "metadata": {},
   "source": [
    "# Final thoughts\n",
    "\n",
    "As Box once said, \"All models are wrong, but some are useful\". As with all models, we cannot achieve 100% accuracy (ignoring edge cases e.g. a system where the data is deterministic - input of X always gives Y). Models can and do sometimes go wrong, and it would be important to have a human in the loop to determine whether the suggested transfer makes sense or not. For example, the model sometimes makes questionable transfers, such as bringing in Dele Alli for Heung Min Son (Gameweek 28) Nicholas Pepe for Kevin de Bruyne (Gameweek 45). For someone who has been following the 19/20 season, these would raise eyebrows given the excellent form that the \"transferred out\" players were in.  \n",
    "\n",
    "Either way, the final model seems to perform well in the 19/20 season. I am excited to test this out in the 20/21 season, and hopefully make it to the top 1% as predicted!"
   ]
  },
  {
   "cell_type": "markdown",
   "metadata": {},
   "source": [
    "# To-do:\n",
    "\n",
    "- Add more data sources, e.g. FIFA/Football Manager ratings, bookmaker odds etc.\n",
    "- Add wildcard strategy\n",
    "- Improve initial team selection\n",
    "- Take into account injuries and other reasons for not being able to play (i.e. minutes == 0)\n",
    "- For non-XGBoost regression, impute NA values\n",
    "- Stacked regressors\n",
    "- Re-train the model each Gameweek (and/or use Bayesian methods instead)\n",
    "- Incorporate better strategies/heuristics for making transfers. For example, having a set of MVPs that will not be transferred out (see https://twitter.com/EricDFreeman/status/1154771281490993153)\n",
    "- Move this to github and modularize stuff"
   ]
  },
  {
   "cell_type": "code",
   "execution_count": null,
   "metadata": {},
   "outputs": [],
   "source": []
  }
 ],
 "metadata": {
  "kernelspec": {
   "display_name": "Python 3",
   "language": "python",
   "name": "python3"
  },
  "language_info": {
   "codemirror_mode": {
    "name": "ipython",
    "version": 3
   },
   "file_extension": ".py",
   "mimetype": "text/x-python",
   "name": "python",
   "nbconvert_exporter": "python",
   "pygments_lexer": "ipython3",
   "version": "3.7.3"
  }
 },
 "nbformat": 4,
 "nbformat_minor": 4
}
