{
 "nbformat": 4,
 "nbformat_minor": 0,
 "metadata": {
  "colab": {
   "provenance": []
  },
  "kernelspec": {
   "name": "python3",
   "display_name": "Python 3"
  },
  "language_info": {
   "name": "python"
  }
 },
 "cells": [
  {
   "cell_type": "markdown",
   "source": [
    "xgboost total points by Pierre"
   ],
   "metadata": {
    "id": "j87v9vHHalBS"
   }
  },
  {
   "cell_type": "code",
   "execution_count": 17,
   "metadata": {
    "id": "TwfZcjyNafnt"
   },
   "outputs": [],
   "source": [
    "import pandas as pd\n",
    "import numpy as np\n",
    "from sklearn.model_selection import train_test_split\n",
    "from sklearn.preprocessing import MinMaxScaler\n",
    "from keras.models import Sequential\n",
    "from keras.layers import LSTM, Dense\n",
    "from sklearn.metrics import mean_squared_error, mean_absolute_error, r2_score\n"
   ]
  },
  {
   "cell_type": "code",
   "source": [
    "data = pd.read_csv(\"cleaned_merged_seasons.csv\")"
   ],
   "metadata": {
    "colab": {
     "base_uri": "https://localhost:8080/"
    },
    "id": "_6Gkt76bcCIm",
    "outputId": "ead30fca-ee77-47c3-a086-55c27eac32da"
   },
   "execution_count": 18,
   "outputs": [
    {
     "output_type": "stream",
     "name": "stderr",
     "text": [
      "<ipython-input-18-ce1e41c9b2f4>:1: DtypeWarning: Columns (3) have mixed types. Specify dtype option on import or set low_memory=False.\n",
      "  data = pd.read_csv(\"cleaned_merged_seasons.csv\")\n"
     ]
    }
   ]
  },
  {
   "cell_type": "code",
   "source": [
    "# valeurs manquantes\n",
    "data = data.dropna(subset=['team_x'])\n",
    "\n",
    "# Normaliser les caractéristiques\n",
    "features_to_normalize = [\"creativity\", \"ict_index\", \"influence\", \"threat\"]\n",
    "scaler = MinMaxScaler()\n",
    "data[features_to_normalize] = scaler.fit_transform(data[features_to_normalize])\n",
    "\n",
    "# Encode\n",
    "data_encoded = pd.get_dummies(data, columns=[\"season_x\", \"position\", \"team_x\", \"kickoff_time\", \"opp_team_name\"], drop_first=True)\n",
    "\n",
    "# data type int\n",
    "data_encoded['was_home'] = data_encoded['was_home'].astype(int)\n",
    "\n",
    "# Retirer la colonne \"name\"\n",
    "player_names = data_encoded['name'].reset_index(drop=True)\n",
    "data_encoded = data_encoded.drop('name', axis=1)"
   ],
   "metadata": {
    "colab": {
     "base_uri": "https://localhost:8080/"
    },
    "id": "sGZmcyTieSLr",
    "outputId": "d058b5ca-bb3e-42ba-cf4a-1aa7ab6a37c5"
   },
   "execution_count": 19,
   "outputs": [
    {
     "output_type": "stream",
     "name": "stderr",
     "text": [
      "<ipython-input-19-b453d90800f5>:7: SettingWithCopyWarning: \n",
      "A value is trying to be set on a copy of a slice from a DataFrame.\n",
      "Try using .loc[row_indexer,col_indexer] = value instead\n",
      "\n",
      "See the caveats in the documentation: https://pandas.pydata.org/pandas-docs/stable/user_guide/indexing.html#returning-a-view-versus-a-copy\n",
      "  data[features_to_normalize] = scaler.fit_transform(data[features_to_normalize])\n"
     ]
    }
   ]
  },
  {
   "cell_type": "code",
   "source": [
    "print(player_names)"
   ],
   "metadata": {
    "colab": {
     "base_uri": "https://localhost:8080/"
    },
    "id": "nTLUOONdeYt1",
    "outputId": "40f91715-469f-438b-a9c6-c2ac7106224a"
   },
   "execution_count": 20,
   "outputs": [
    {
     "output_type": "stream",
     "name": "stdout",
     "text": [
      "0                  Aaron Connolly\n",
      "1                 Aaron Cresswell\n",
      "2                      Aaron Mooy\n",
      "3                  Aaron Ramsdale\n",
      "4              Abdoulaye Doucouré\n",
      "                   ...           \n",
      "76312                Oliver Skipp\n",
      "76313              Ryan Sessegnon\n",
      "76314                Ashley Young\n",
      "76315    Jeremy Sarmiento Morante\n",
      "76316              Philip Billing\n",
      "Name: name, Length: 76317, dtype: object\n"
     ]
    }
   ]
  },
  {
   "cell_type": "code",
   "source": [
    "# Séparation des données en entrée (X) et sortie (y)\n",
    "X = data_encoded.drop('total_points', axis=1)\n",
    "y = data_encoded['total_points']\n",
    "\n",
    "# Séparation des données en ensembles d'entraînement et de test\n",
    "X_train, X_test, y_train, y_test, player_names_train, player_names_test = train_test_split(\n",
    "    X, y, player_names, test_size=0.2, random_state=42\n",
    ")\n",
    "\n",
    "# Redimensionnement des données pour être utilisées dans un modèle LSTM\n",
    "X_train = np.reshape(X_train.values, (X_train.shape[0], 1, X_train.shape[1]))\n",
    "X_test = np.reshape(X_test.values, (X_test.shape[0], 1, X_test.shape[1]))\n"
   ],
   "metadata": {
    "id": "pzm8x_yXemfT"
   },
   "execution_count": 21,
   "outputs": []
  },
  {
   "cell_type": "code",
   "source": [
    "# Création du modèle LSTM\n",
    "model = Sequential()\n",
    "model.add(LSTM(50, input_shape=(X_train.shape[1], X_train.shape[2])))\n",
    "model.add(Dense(1))\n",
    "model.compile(optimizer='adam', loss='mse')"
   ],
   "metadata": {
    "id": "6h3C0LNserVb"
   },
   "execution_count": 22,
   "outputs": []
  },
  {
   "cell_type": "code",
   "source": [
    "model.fit(X_train, y_train, epochs=50, batch_size=32, validation_data=(X_test, y_test))"
   ],
   "metadata": {
    "colab": {
     "base_uri": "https://localhost:8080/"
    },
    "id": "SInymRt9euDp",
    "outputId": "2e85e6e0-603a-47c3-8711-eef2e738c946"
   },
   "execution_count": 23,
   "outputs": [
    {
     "output_type": "stream",
     "name": "stdout",
     "text": [
      "Epoch 1/50\n",
      "1908/1908 [==============================] - 15s 7ms/step - loss: 5.5083 - val_loss: 5.3532\n",
      "Epoch 2/50\n",
      "1908/1908 [==============================] - 13s 7ms/step - loss: 5.2582 - val_loss: 5.3159\n",
      "Epoch 3/50\n",
      "1908/1908 [==============================] - 12s 6ms/step - loss: 5.1956 - val_loss: 5.4176\n",
      "Epoch 4/50\n",
      "1908/1908 [==============================] - 12s 6ms/step - loss: 5.1853 - val_loss: 5.0107\n",
      "Epoch 5/50\n",
      "1908/1908 [==============================] - 12s 6ms/step - loss: 5.2332 - val_loss: 5.2822\n",
      "Epoch 6/50\n",
      "1908/1908 [==============================] - 13s 7ms/step - loss: 5.2136 - val_loss: 5.2180\n",
      "Epoch 7/50\n",
      "1908/1908 [==============================] - 12s 7ms/step - loss: 5.2080 - val_loss: 5.4589\n",
      "Epoch 8/50\n",
      "1908/1908 [==============================] - 15s 8ms/step - loss: 5.4791 - val_loss: 5.5180\n",
      "Epoch 9/50\n",
      "1908/1908 [==============================] - 12s 7ms/step - loss: 5.2247 - val_loss: 5.2728\n",
      "Epoch 10/50\n",
      "1908/1908 [==============================] - 12s 7ms/step - loss: 5.1435 - val_loss: 5.3858\n",
      "Epoch 11/50\n",
      "1908/1908 [==============================] - 12s 6ms/step - loss: 5.4226 - val_loss: 5.2854\n",
      "Epoch 12/50\n",
      "1908/1908 [==============================] - 16s 9ms/step - loss: 5.3161 - val_loss: 5.2699\n",
      "Epoch 13/50\n",
      "1908/1908 [==============================] - 13s 7ms/step - loss: 5.2454 - val_loss: 5.8226\n",
      "Epoch 14/50\n",
      "1908/1908 [==============================] - 13s 7ms/step - loss: 5.4425 - val_loss: 5.1752\n",
      "Epoch 15/50\n",
      "1908/1908 [==============================] - 12s 6ms/step - loss: 5.2237 - val_loss: 5.1634\n",
      "Epoch 16/50\n",
      "1908/1908 [==============================] - 12s 6ms/step - loss: 5.2287 - val_loss: 5.2728\n",
      "Epoch 17/50\n",
      "1908/1908 [==============================] - 12s 6ms/step - loss: 5.2007 - val_loss: 5.2839\n",
      "Epoch 18/50\n",
      "1908/1908 [==============================] - 13s 7ms/step - loss: 5.2361 - val_loss: 5.2482\n",
      "Epoch 19/50\n",
      "1908/1908 [==============================] - 13s 7ms/step - loss: 5.2177 - val_loss: 5.2495\n",
      "Epoch 20/50\n",
      "1908/1908 [==============================] - 15s 8ms/step - loss: 5.1691 - val_loss: 5.2155\n",
      "Epoch 21/50\n",
      "1908/1908 [==============================] - 15s 8ms/step - loss: 5.1750 - val_loss: 5.2766\n",
      "Epoch 22/50\n",
      "1908/1908 [==============================] - 13s 7ms/step - loss: 5.2175 - val_loss: 5.2430\n",
      "Epoch 23/50\n",
      "1908/1908 [==============================] - 12s 6ms/step - loss: 5.1287 - val_loss: 5.1970\n",
      "Epoch 24/50\n",
      "1908/1908 [==============================] - 13s 7ms/step - loss: 5.1187 - val_loss: 5.0851\n",
      "Epoch 25/50\n",
      "1908/1908 [==============================] - 13s 7ms/step - loss: 5.0504 - val_loss: 4.9732\n",
      "Epoch 26/50\n",
      "1908/1908 [==============================] - 12s 6ms/step - loss: 5.0054 - val_loss: 5.0010\n",
      "Epoch 27/50\n",
      "1908/1908 [==============================] - 13s 7ms/step - loss: 5.0252 - val_loss: 5.0782\n",
      "Epoch 28/50\n",
      "1908/1908 [==============================] - 13s 7ms/step - loss: 5.0545 - val_loss: 5.2590\n",
      "Epoch 29/50\n",
      "1908/1908 [==============================] - 12s 6ms/step - loss: 4.9773 - val_loss: 4.9884\n",
      "Epoch 30/50\n",
      "1908/1908 [==============================] - 12s 7ms/step - loss: 5.2649 - val_loss: 5.4013\n",
      "Epoch 31/50\n",
      "1908/1908 [==============================] - 12s 6ms/step - loss: 5.2908 - val_loss: 5.2244\n",
      "Epoch 32/50\n",
      "1908/1908 [==============================] - 13s 7ms/step - loss: 5.0950 - val_loss: 5.2095\n",
      "Epoch 33/50\n",
      "1908/1908 [==============================] - 13s 7ms/step - loss: 5.0888 - val_loss: 5.3703\n",
      "Epoch 34/50\n",
      "1908/1908 [==============================] - 13s 7ms/step - loss: 5.0000 - val_loss: 5.0735\n",
      "Epoch 35/50\n",
      "1908/1908 [==============================] - 13s 7ms/step - loss: 5.0025 - val_loss: 5.1915\n",
      "Epoch 36/50\n",
      "1908/1908 [==============================] - 12s 6ms/step - loss: 4.9938 - val_loss: 5.3011\n",
      "Epoch 37/50\n",
      "1908/1908 [==============================] - 11s 6ms/step - loss: 5.2398 - val_loss: 4.9864\n",
      "Epoch 38/50\n",
      "1908/1908 [==============================] - 12s 6ms/step - loss: 5.0646 - val_loss: 5.1624\n",
      "Epoch 39/50\n",
      "1908/1908 [==============================] - 12s 6ms/step - loss: 5.0394 - val_loss: 5.1230\n",
      "Epoch 40/50\n",
      "1908/1908 [==============================] - 12s 7ms/step - loss: 5.0175 - val_loss: 5.0681\n",
      "Epoch 41/50\n",
      "1908/1908 [==============================] - 12s 6ms/step - loss: 4.9023 - val_loss: 4.7349\n",
      "Epoch 42/50\n",
      "1908/1908 [==============================] - 12s 6ms/step - loss: 4.9063 - val_loss: 5.0661\n",
      "Epoch 43/50\n",
      "1908/1908 [==============================] - 12s 7ms/step - loss: 4.9961 - val_loss: 4.8011\n",
      "Epoch 44/50\n",
      "1908/1908 [==============================] - 12s 6ms/step - loss: 5.2191 - val_loss: 5.4288\n",
      "Epoch 45/50\n",
      "1908/1908 [==============================] - 12s 7ms/step - loss: 4.9924 - val_loss: 5.0659\n",
      "Epoch 46/50\n",
      "1908/1908 [==============================] - 12s 6ms/step - loss: 5.1118 - val_loss: 5.1827\n",
      "Epoch 47/50\n",
      "1908/1908 [==============================] - 11s 6ms/step - loss: 5.0339 - val_loss: 5.0142\n",
      "Epoch 48/50\n",
      "1908/1908 [==============================] - 16s 9ms/step - loss: 5.0643 - val_loss: 5.0416\n",
      "Epoch 49/50\n",
      "1908/1908 [==============================] - 11s 6ms/step - loss: 4.9996 - val_loss: 4.9605\n",
      "Epoch 50/50\n",
      "1908/1908 [==============================] - 13s 7ms/step - loss: 5.0874 - val_loss: 5.6236\n"
     ]
    },
    {
     "output_type": "execute_result",
     "data": {
      "text/plain": [
       "<keras.src.callbacks.History at 0x783aa3ecd0f0>"
      ]
     },
     "metadata": {},
     "execution_count": 23
    }
   ]
  },
  {
   "cell_type": "code",
   "source": [
    "# Prédictions sur l'ensemble de test\n",
    "y_pred = model.predict(X_test)\n",
    "\n",
    "# Évaluation du modèle\n",
    "mse = mean_squared_error(y_test, y_pred)\n",
    "mae = mean_absolute_error(y_test, y_pred)\n",
    "r2 = r2_score(y_test, y_pred)\n",
    "\n",
    "print(f\"Mean Squared Error: {mse}\")\n",
    "print(f\"Mean Absolute Error: {mae}\")\n",
    "print(f\"R^2 Score: {r2}\")"
   ],
   "metadata": {
    "colab": {
     "base_uri": "https://localhost:8080/"
    },
    "id": "kT_8SLseli2m",
    "outputId": "ef381780-a852-4293-b7a5-239b567a979e"
   },
   "execution_count": 24,
   "outputs": [
    {
     "output_type": "stream",
     "name": "stdout",
     "text": [
      "477/477 [==============================] - 2s 3ms/step\n",
      "Mean Squared Error: 5.623644994583888\n",
      "Mean Absolute Error: 1.531584656697774\n",
      "R^2 Score: 0.04736971368733667\n"
     ]
    }
   ]
  }
 ]
}
