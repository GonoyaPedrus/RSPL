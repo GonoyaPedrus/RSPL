{
 "nbformat": 4,
 "nbformat_minor": 0,
 "metadata": {
  "colab": {
   "provenance": []
  },
  "kernelspec": {
   "name": "python3",
   "display_name": "Python 3"
  },
  "language_info": {
   "name": "python"
  }
 },
 "cells": [
  {
   "cell_type": "markdown",
   "source": [
    "xgboost total points by Pierre"
   ],
   "metadata": {
    "id": "j87v9vHHalBS"
   }
  },
  {
   "cell_type": "code",
   "execution_count": 2,
   "metadata": {
    "id": "TwfZcjyNafnt"
   },
   "outputs": [
    {
     "ename": "ModuleNotFoundError",
     "evalue": "No module named 'pandas'",
     "output_type": "error",
     "traceback": [
      "\u001B[0;31m---------------------------------------------------------------------------\u001B[0m",
      "\u001B[0;31mModuleNotFoundError\u001B[0m                       Traceback (most recent call last)",
      "Cell \u001B[0;32mIn[2], line 1\u001B[0m\n\u001B[0;32m----> 1\u001B[0m \u001B[38;5;28;01mimport\u001B[39;00m \u001B[38;5;21;01mpandas\u001B[39;00m \u001B[38;5;28;01mas\u001B[39;00m \u001B[38;5;21;01mpd\u001B[39;00m\n\u001B[1;32m      2\u001B[0m \u001B[38;5;28;01mimport\u001B[39;00m \u001B[38;5;21;01mnumpy\u001B[39;00m \u001B[38;5;28;01mas\u001B[39;00m \u001B[38;5;21;01mnp\u001B[39;00m\n\u001B[1;32m      3\u001B[0m \u001B[38;5;28;01mfrom\u001B[39;00m \u001B[38;5;21;01msklearn\u001B[39;00m\u001B[38;5;21;01m.\u001B[39;00m\u001B[38;5;21;01mmodel_selection\u001B[39;00m \u001B[38;5;28;01mimport\u001B[39;00m train_test_split\n",
      "\u001B[0;31mModuleNotFoundError\u001B[0m: No module named 'pandas'"
     ]
    }
   ],
   "source": [
    "import pandas as pd\n",
    "import numpy as np\n",
    "from sklearn.model_selection import train_test_split\n",
    "from sklearn.preprocessing import MinMaxScaler\n",
    "from keras.models import Sequential\n",
    "from keras.layers import LSTM, Dense\n",
    "from sklearn.metrics import mean_squared_error, mean_absolute_error, r2_score\n"
   ]
  },
  {
   "cell_type": "code",
   "source": [
    "data = pd.read_csv(\"cleaned_merged_seasons.csv\")"
   ],
   "metadata": {
    "colab": {
     "base_uri": "https://localhost:8080/"
    },
    "id": "_6Gkt76bcCIm",
    "outputId": "ead30fca-ee77-47c3-a086-55c27eac32da"
   },
   "execution_count": null,
   "outputs": []
  },
  {
   "cell_type": "code",
   "source": [
    "# valeurs manquantes\n",
    "data = data.dropna(subset=['team_x'])\n",
    "\n",
    "# Normaliser les caractéristiques\n",
    "features_to_normalize = [\"creativity\", \"ict_index\", \"influence\", \"threat\"]\n",
    "scaler = MinMaxScaler()\n",
    "data[features_to_normalize] = scaler.fit_transform(data[features_to_normalize])\n",
    "\n",
    "# Encode\n",
    "data_encoded = pd.get_dummies(data, columns=[\"season_x\", \"position\", \"team_x\", \"kickoff_time\", \"opp_team_name\"], drop_first=True)\n",
    "\n",
    "# data type int\n",
    "data_encoded['was_home'] = data_encoded['was_home'].astype(int)\n",
    "\n",
    "# Retirer la colonne \"name\"\n",
    "player_names = data_encoded['name'].reset_index(drop=True)\n",
    "data_encoded = data_encoded.drop('name', axis=1)"
   ],
   "metadata": {
    "colab": {
     "base_uri": "https://localhost:8080/"
    },
    "id": "sGZmcyTieSLr",
    "outputId": "d058b5ca-bb3e-42ba-cf4a-1aa7ab6a37c5"
   },
   "execution_count": null,
   "outputs": []
  },
  {
   "cell_type": "code",
   "source": [
    "print(player_names)"
   ],
   "metadata": {
    "colab": {
     "base_uri": "https://localhost:8080/"
    },
    "id": "nTLUOONdeYt1",
    "outputId": "40f91715-469f-438b-a9c6-c2ac7106224a"
   },
   "execution_count": null,
   "outputs": []
  },
  {
   "cell_type": "code",
   "source": [
    "# Séparation des données en entrée (X) et sortie (y)\n",
    "X = data_encoded.drop('total_points', axis=1)\n",
    "y = data_encoded['total_points']\n",
    "\n",
    "# Séparation des données en ensembles d'entraînement et de test\n",
    "X_train, X_test, y_train, y_test, player_names_train, player_names_test = train_test_split(\n",
    "    X, y, player_names, test_size=0.2, random_state=42\n",
    ")\n",
    "\n",
    "# Redimensionnement des données pour être utilisées dans un modèle LSTM\n",
    "X_train = np.reshape(X_train.values, (X_train.shape[0], 1, X_train.shape[1]))\n",
    "X_test = np.reshape(X_test.values, (X_test.shape[0], 1, X_test.shape[1]))\n"
   ],
   "metadata": {
    "id": "pzm8x_yXemfT"
   },
   "execution_count": null,
   "outputs": []
  },
  {
   "cell_type": "code",
   "source": [
    "# Création du modèle LSTM\n",
    "model = Sequential()\n",
    "model.add(LSTM(50, input_shape=(X_train.shape[1], X_train.shape[2])))\n",
    "model.add(Dense(1))\n",
    "model.compile(optimizer='adam', loss='mse')"
   ],
   "metadata": {
    "id": "6h3C0LNserVb"
   },
   "execution_count": null,
   "outputs": []
  },
  {
   "cell_type": "code",
   "source": [
    "model.fit(X_train, y_train, epochs=50, batch_size=32, validation_data=(X_test, y_test))"
   ],
   "metadata": {
    "colab": {
     "base_uri": "https://localhost:8080/"
    },
    "id": "SInymRt9euDp",
    "outputId": "2e85e6e0-603a-47c3-8711-eef2e738c946"
   },
   "execution_count": null,
   "outputs": []
  },
  {
   "cell_type": "code",
   "execution_count": null,
   "outputs": [],
   "source": [
    "player_names_test = player_names_test.reset_index(drop=True)\n",
    "\n",
    "results_df = pd.DataFrame({'Name': player_names_test, 'Predicted_Total_Points': predictions})\n",
    "\n",
    "print(results_df)"
   ],
   "metadata": {
    "collapsed": false
   }
  },
  {
   "cell_type": "code",
   "source": [
    "# Prédictions sur l'ensemble de test\n",
    "y_pred = model.predict(X_test)\n",
    "\n",
    "# Évaluation du modèle\n",
    "mse = mean_squared_error(y_test, y_pred)\n",
    "mae = mean_absolute_error(y_test, y_pred)\n",
    "r2 = r2_score(y_test, y_pred)\n",
    "\n",
    "print(f\"Mean Squared Error: {mse}\")\n",
    "print(f\"Mean Absolute Error: {mae}\")\n",
    "print(f\"R^2 Score: {r2}\")"
   ],
   "metadata": {
    "colab": {
     "base_uri": "https://localhost:8080/"
    },
    "id": "kT_8SLseli2m",
    "outputId": "ef381780-a852-4293-b7a5-239b567a979e"
   },
   "execution_count": null,
   "outputs": []
  }
 ]
}
