{
 "cells": [
  {
   "cell_type": "markdown",
   "source": [
    "# Modèle CNN prédiction de points à la fin de la saison"
   ],
   "metadata": {
    "collapsed": false
   }
  },
  {
   "cell_type": "code",
   "execution_count": 2,
   "outputs": [],
   "source": [
    "import pandas as pd\n",
    "from sklearn.model_selection import train_test_split\n",
    "from sklearn.metrics import mean_squared_error\n",
    "from sklearn.metrics import r2_score\n",
    "from sklearn.model_selection import cross_val_score\n",
    "from sklearn.metrics import mean_absolute_error"
   ],
   "metadata": {
    "collapsed": false
   }
  },
  {
   "cell_type": "code",
   "execution_count": 53,
   "outputs": [
    {
     "name": "stdout",
     "output_type": "stream",
     "text": [
      "D:\\Moi\\Travail\\ESME\\INGE3\\SEMESTRE 9\\UE5 Projet\\RSPL\\src\n",
      "D:\\Moi\\Travail\\ESME\\INGE3\\SEMESTRE 9\\UE5 Projet\\RSPL\\src\n"
     ]
    },
    {
     "name": "stderr",
     "output_type": "stream",
     "text": [
      "C:\\Users\\bourd\\AppData\\Local\\Temp\\ipykernel_8844\\1080581989.py:8: DtypeWarning: Columns (3) have mixed types. Specify dtype option on import or set low_memory=False.\n",
      "  data = pd.read_csv(\"../data/cleaned_merged_seasons.csv\")\n"
     ]
    }
   ],
   "source": [
    "#print le dossier où se trouve le fichier\n",
    "import os\n",
    "print(os.getcwd())\n",
    "\n",
    "os.chdir(\"D:\\\\Moi\\\\Travail\\\\ESME\\\\INGE3\\\\SEMESTRE 9\\\\UE5 Projet\\\\RSPL\\\\src\\\\\")\n",
    "print(os.getcwd())\n",
    "\n",
    "data = pd.read_csv(\"../data/cleaned_merged_seasons.csv\")\n",
    "\n"
   ],
   "metadata": {
    "collapsed": false
   }
  },
  {
   "cell_type": "code",
   "execution_count": 54,
   "outputs": [
    {
     "name": "stdout",
     "output_type": "stream",
     "text": [
      "  season_x                name position team_x  assists  bonus  bps  \\\n",
      "0  2016-17     Aaron Cresswell      DEF    NaN        0      0    0   \n",
      "1  2016-17        Aaron Lennon      MID    NaN        0      0    6   \n",
      "2  2016-17        Aaron Ramsey      MID    NaN        0      0    5   \n",
      "3  2016-17  Abdoulaye Doucouré      MID    NaN        0      0    0   \n",
      "4  2016-17        Adam Forshaw      MID    NaN        0      0    3   \n",
      "\n",
      "   clean_sheets  creativity  element  ...  team_h_score  threat  total_points  \\\n",
      "0             0         0.0      454  ...           2.0     0.0             0   \n",
      "1             0         0.3      142  ...           1.0     0.0             1   \n",
      "2             0         4.9       16  ...           3.0    23.0             2   \n",
      "3             0         0.0      482  ...           1.0     0.0             0   \n",
      "4             0         1.3      286  ...           1.0     0.0             1   \n",
      "\n",
      "   transfers_balance  transfers_in transfers_out  value  was_home  \\\n",
      "0                  0             0             0     55     False   \n",
      "1                  0             0             0     60      True   \n",
      "2                  0             0             0     80      True   \n",
      "3                  0             0             0     50     False   \n",
      "4                  0             0             0     45      True   \n",
      "\n",
      "  yellow_cards  GW  \n",
      "0            0   1  \n",
      "1            0   1  \n",
      "2            0   1  \n",
      "3            0   1  \n",
      "4            1   1  \n",
      "\n",
      "[5 rows x 37 columns]\n"
     ]
    }
   ],
   "source": [
    "print(data.head())\n"
   ],
   "metadata": {
    "collapsed": false
   }
  },
  {
   "cell_type": "code",
   "execution_count": 55,
   "outputs": [],
   "source": [
    "# valeurs manquantes\n",
    "data = data.dropna(subset=['team_x'])\n",
    "\n",
    "# Normalise\n",
    "features_to_normalize = [\"creativity\", \"ict_index\", \"influence\", \"threat\"]\n",
    "data[features_to_normalize] = data[features_to_normalize].apply(lambda x: (x - x.min()) / (x.max() - x.min()))\n",
    "\n",
    "# Encode\n",
    "data_encoded = pd.get_dummies(data, columns=[\"season_x\", \"position\", \"team_x\", \"kickoff_time\", \"opp_team_name\"], drop_first=True)\n",
    "\n",
    "# data type int\n",
    "data_encoded['was_home'] = data_encoded['was_home'].astype(int)\n",
    "\n",
    "# Retirer la colonne \"name\"\n",
    "player_names = data_encoded['name'].reset_index(drop=True)\n",
    "data_encoded = data_encoded.drop('name', axis=1)"
   ],
   "metadata": {
    "collapsed": false
   }
  },
  {
   "cell_type": "code",
   "execution_count": 56,
   "outputs": [
    {
     "name": "stdout",
     "output_type": "stream",
     "text": [
      "0                  Aaron Connolly\n",
      "1                 Aaron Cresswell\n",
      "2                      Aaron Mooy\n",
      "3                  Aaron Ramsdale\n",
      "4              Abdoulaye Doucouré\n",
      "                   ...           \n",
      "76312                Oliver Skipp\n",
      "76313              Ryan Sessegnon\n",
      "76314                Ashley Young\n",
      "76315    Jeremy Sarmiento Morante\n",
      "76316              Philip Billing\n",
      "Name: name, Length: 76317, dtype: object\n"
     ]
    }
   ],
   "source": [
    "print(player_names)"
   ],
   "metadata": {
    "collapsed": false
   }
  },
  {
   "cell_type": "code",
   "execution_count": 57,
   "outputs": [],
   "source": [
    "# features (X) et cible (y)\n",
    "X = data_encoded.copy()\n",
    "\n",
    "# Ajouter les colonnes 'team_x' et 'position' à X\n",
    "columns_to_add = ['team_x', 'position']\n",
    "if all(col in data_encoded.columns for col in columns_to_add):\n",
    "    X[columns_to_add] = data_encoded[columns_to_add]\n",
    "\n",
    "# Supprimer la colonne 'total_points' de X\n",
    "X = X.drop('total_points', axis=1)\n",
    "\n",
    "# Cible (y)\n",
    "y = data_encoded['total_points']"
   ],
   "metadata": {
    "collapsed": false
   }
  },
  {
   "cell_type": "code",
   "execution_count": 58,
   "outputs": [],
   "source": [
    "X_train, X_test, y_train, y_test, player_names_train, player_names_test = train_test_split(X, y, player_names, test_size=0.2, random_state=42)"
   ],
   "metadata": {
    "collapsed": false
   }
  },
  {
   "cell_type": "code",
   "execution_count": 59,
   "outputs": [],
   "source": [
    "from sklearn.preprocessing import StandardScaler\n",
    "import tensorflow as tf\n",
    "from tensorflow.keras import layers, models"
   ],
   "metadata": {
    "collapsed": false
   }
  },
  {
   "cell_type": "code",
   "execution_count": 60,
   "outputs": [],
   "source": [
    "# Redimensionner les données pour les modèles CNN (ajuster la forme en fonction de vos besoins)\n",
    "X_train = X_train.values.reshape(X_train.shape[0], X_train.shape[1], 1)\n",
    "X_test = X_test.values.reshape(X_test.shape[0], X_test.shape[1], 1)"
   ],
   "metadata": {
    "collapsed": false
   }
  },
  {
   "cell_type": "code",
   "execution_count": 61,
   "outputs": [],
   "source": [
    "# Créer le modèle CNN\n",
    "model = models.Sequential()\n",
    "model.add(layers.Conv1D(32, 3, activation='relu', input_shape=(X_train.shape[1], 1)))\n",
    "model.add(layers.MaxPooling1D(2))\n",
    "model.add(layers.Flatten())\n",
    "model.add(layers.Dense(64, activation='relu'))\n",
    "model.add(layers.Dense(1, activation='linear'))"
   ],
   "metadata": {
    "collapsed": false
   }
  },
  {
   "cell_type": "code",
   "execution_count": 62,
   "outputs": [
    {
     "name": "stdout",
     "output_type": "stream",
     "text": [
      "Epoch 1/10\n",
      "1527/1527 [==============================] - 48s 31ms/step - loss: 1626388.2500 - mae: 157.3848 - val_loss: 24069.5508 - val_mae: 29.9702\n",
      "Epoch 2/10\n",
      "1527/1527 [==============================] - 47s 31ms/step - loss: 55763.8086 - mae: 32.1979 - val_loss: 1986727.7500 - val_mae: 472.0025\n",
      "Epoch 3/10\n",
      "1527/1527 [==============================] - 45s 30ms/step - loss: 5643.5312 - mae: 2.1777 - val_loss: 7.3918 - val_mae: 1.2608\n",
      "Epoch 4/10\n",
      "1527/1527 [==============================] - 45s 30ms/step - loss: 7.3441 - mae: 1.2594 - val_loss: 7.3082 - val_mae: 1.2677\n",
      "Epoch 5/10\n",
      "1527/1527 [==============================] - 44s 29ms/step - loss: 7.2238 - mae: 1.2693 - val_loss: 7.1425 - val_mae: 1.2819\n",
      "Epoch 6/10\n",
      "1527/1527 [==============================] - 44s 29ms/step - loss: 7.0000 - mae: 1.2899 - val_loss: 6.8518 - val_mae: 1.3082\n",
      "Epoch 7/10\n",
      "1527/1527 [==============================] - 43s 28ms/step - loss: 6.6458 - mae: 1.3151 - val_loss: 6.4107 - val_mae: 1.3259\n",
      "Epoch 8/10\n",
      "1527/1527 [==============================] - 40s 26ms/step - loss: 6.1617 - mae: 1.3331 - val_loss: 5.9592 - val_mae: 1.3714\n",
      "Epoch 9/10\n",
      "1527/1527 [==============================] - 42s 27ms/step - loss: 5.8078 - mae: 1.3985 - val_loss: 5.6884 - val_mae: 1.4426\n",
      "Epoch 10/10\n",
      "1527/1527 [==============================] - 43s 28ms/step - loss: 5.5857 - mae: 1.4567 - val_loss: 5.6365 - val_mae: 1.5433\n",
      "477/477 [==============================] - 3s 6ms/step\n"
     ]
    }
   ],
   "source": [
    "\n",
    "# Compiler le modèle\n",
    "model.compile(optimizer='adam', loss='mean_squared_error', metrics=['mae'])\n",
    "\n",
    "# Entraîner le modèle\n",
    "model.fit(X_train, y_train, epochs=10, batch_size=32, validation_split=0.2)\n",
    "\n",
    "# Faire des prédictions\n",
    "y_pred = model.predict(X_test)\n"
   ],
   "metadata": {
    "collapsed": false
   }
  },
  {
   "cell_type": "code",
   "execution_count": 63,
   "outputs": [
    {
     "name": "stdout",
     "output_type": "stream",
     "text": [
      "Mean Squared Error: 5.67501203115329\n",
      "Mean Absolute Error: 1.5574145391817737\n",
      "R2 Score: 0.03866827630975134\n"
     ]
    }
   ],
   "source": [
    "\n",
    "# Évaluer les performances du modèle\n",
    "mse = mean_squared_error(y_test, y_pred)\n",
    "mae = mean_absolute_error(y_test, y_pred)\n",
    "r2 = r2_score(y_test, y_pred)\n",
    "\n",
    "print(f'Mean Squared Error: {mse}')\n",
    "print(f'Mean Absolute Error: {mae}')\n",
    "print(f'R2 Score: {r2}')"
   ],
   "metadata": {
    "collapsed": false
   }
  }
 ],
 "metadata": {
  "kernelspec": {
   "display_name": "Python 3",
   "language": "python",
   "name": "python3"
  },
  "language_info": {
   "codemirror_mode": {
    "name": "ipython",
    "version": 2
   },
   "file_extension": ".py",
   "mimetype": "text/x-python",
   "name": "python",
   "nbconvert_exporter": "python",
   "pygments_lexer": "ipython2",
   "version": "2.7.6"
  }
 },
 "nbformat": 4,
 "nbformat_minor": 0
}
