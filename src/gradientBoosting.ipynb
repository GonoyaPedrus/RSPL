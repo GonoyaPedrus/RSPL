{
 "cells": [
  {
   "cell_type": "code",
   "execution_count": 425,
   "id": "initial_id",
   "metadata": {
    "collapsed": true,
    "ExecuteTime": {
     "end_time": "2024-02-28T09:55:53.173229Z",
     "start_time": "2024-02-28T09:55:53.117942Z"
    }
   },
   "outputs": [],
   "source": [
    "import pandas as pd\n",
    "from sklearn.model_selection import train_test_split\n",
    "import xgboost as xgb\n",
    "from sklearn.metrics import mean_squared_error"
   ]
  },
  {
   "cell_type": "code",
   "execution_count": 426,
   "outputs": [],
   "source": [
    "# Chargement et prétraitement des données\n",
    "def load_and_preprocess_data(file_path):\n",
    "    original_data = pd.read_csv(file_path, low_memory=False)\n",
    "    data = original_data.copy()\n",
    "    data.drop_duplicates(inplace=True)\n",
    "    data.dropna(inplace=True)\n",
    "    return data"
   ],
   "metadata": {
    "collapsed": false,
    "ExecuteTime": {
     "end_time": "2024-02-28T09:55:53.668940Z",
     "start_time": "2024-02-28T09:55:53.616543Z"
    }
   },
   "id": "26f3979eb0ebb78d"
  },
  {
   "cell_type": "code",
   "execution_count": 451,
   "outputs": [],
   "source": [
    "# Ingénierie des caractéristiques\n",
    "def feature_engineering(data):\n",
    "    selected_features = ['name', 'position', 'team_x', 'value', 'goals_scored', 'assists', 'clean_sheets','total_points', 'yellow_cards', 'red_cards', 'total_points']\n",
    "    data = data[selected_features].copy()\n",
    "    data['total_cards'] = data['yellow_cards'] + data['red_cards']\n",
    "    return data"
   ],
   "metadata": {
    "collapsed": false,
    "ExecuteTime": {
     "end_time": "2024-02-28T09:59:13.694122Z",
     "start_time": "2024-02-28T09:59:13.607411Z"
    }
   },
   "id": "26604545a9853c59"
  },
  {
   "cell_type": "code",
   "execution_count": 452,
   "outputs": [],
   "source": [
    "# Division des données en ensembles d'entraînement et de test\n",
    "def split_data(data):\n",
    "    X = data.drop(columns=['goals_scored', 'assists', 'total_points'])\n",
    "    y = data[['goals_scored', 'assists', 'total_points']]\n",
    "    X_encoded = pd.get_dummies(X)\n",
    "    X_train, X_test, y_train, y_test = train_test_split(X_encoded, y, test_size=0.2, random_state=42)\n",
    "    dtrain = xgb.DMatrix(data=X_train, label=y_train, enable_categorical=True)\n",
    "    dtest = xgb.DMatrix(data=X_test, label=y_test, enable_categorical=True)\n",
    "    return dtrain, dtest, y_test"
   ],
   "metadata": {
    "collapsed": false,
    "ExecuteTime": {
     "end_time": "2024-02-28T09:59:14.862932Z",
     "start_time": "2024-02-28T09:59:14.831422Z"
    }
   },
   "id": "dc45fd40bb7c8e70"
  },
  {
   "cell_type": "code",
   "execution_count": 453,
   "outputs": [],
   "source": [
    "# Entraînement du modèle \n",
    "def train_XGBoost(dtrain):\n",
    "    params = {'objective': 'reg:squarederror'}\n",
    "    model = xgb.train(params, dtrain)\n",
    "    return model"
   ],
   "metadata": {
    "collapsed": false,
    "ExecuteTime": {
     "end_time": "2024-02-28T09:59:15.891229Z",
     "start_time": "2024-02-28T09:59:15.855483Z"
    }
   },
   "id": "7d243332cd95814c"
  },
  {
   "cell_type": "code",
   "execution_count": 454,
   "outputs": [],
   "source": [
    "# Prédiction des performances des joueurs pour l'ensemble de test\n",
    "def predict_player_performance(model, player_features, budget):\n",
    "    player_features_array = player_features.values.reshape(1, -1)\n",
    "    dmatrix = xgb.DMatrix(player_features_array)\n",
    "    predicted_performance = model.predict(dmatrix)\n",
    "    total_cost = 0  # Adapter cette logique en fonction de votre nouvelle approche\n",
    "    if total_cost > budget:\n",
    "        return \"Le joueur sélectionné dépasse le budget.\"\n",
    "    else:\n",
    "        return predicted_performance"
   ],
   "metadata": {
    "collapsed": false,
    "ExecuteTime": {
     "end_time": "2024-02-28T09:59:16.698777Z",
     "start_time": "2024-02-28T09:59:16.634182Z"
    }
   },
   "id": "bdba87963c050885"
  },
  {
   "cell_type": "code",
   "execution_count": 455,
   "outputs": [],
   "source": [
    "# Recommander les meilleurs joueurs disponibles en respectant les contraintes\n",
    "def recommend_players(model, data, budget, team_constraints, captain=True):\n",
    "    available_players = data[(data['value'] <= budget) & (data.groupby('team_x')['name'].transform('count') <= team_constraints)]\n",
    "    predicted_performances = model.predict(available_players.drop(columns=['goals_scored', 'assists']))\n",
    "    available_players['predicted_goals'] = predicted_performances[:, 0]\n",
    "    available_players['predicted_assists'] = predicted_performances[:, 1]\n",
    "    available_players['total_predicted_points'] = 2 * available_players['predicted_goals'] + available_players['predicted_assists']\n",
    "    sorted_players = available_players.sort_values(by='total_predicted_points', ascending=False)\n",
    "    captain_player = sorted_players.iloc[0]\n",
    "    vice_captain_player = sorted_players.iloc[1]\n",
    "    return sorted_players, captain_player, vice_captain_player"
   ],
   "metadata": {
    "collapsed": false,
    "ExecuteTime": {
     "end_time": "2024-02-28T09:59:18.358007Z",
     "start_time": "2024-02-28T09:59:18.139062Z"
    }
   },
   "id": "2290a9a7973c4df3"
  },
  {
   "cell_type": "code",
   "execution_count": 456,
   "outputs": [],
   "source": [
    "# Fonction pour effectuer un transfert tout en respectant les contraintes\n",
    "def make_transfer(current_team, new_player, budget, team_constraints):\n",
    "    if new_player['value'] <= budget and current_team.groupby('team_x')['name'].transform('count').max() < team_constraints:\n",
    "        updated_team = current_team.append(new_player)\n",
    "        updated_budget = budget - new_player['value']\n",
    "        return updated_team, updated_budget\n",
    "    else:\n",
    "        return current_team, budget"
   ],
   "metadata": {
    "collapsed": false,
    "ExecuteTime": {
     "end_time": "2024-02-28T09:59:19.066997Z",
     "start_time": "2024-02-28T09:59:19.013346Z"
    }
   },
   "id": "8f65835e6a1b7c3"
  },
  {
   "cell_type": "code",
   "execution_count": 457,
   "outputs": [],
   "source": [
    "# Fonction pour effectuer des transferts hebdomadaires\n",
    "def weekly_transfers(current_team, budget, team_constraints, transfer_player, new_player):\n",
    "    updated_team, updated_budget = make_transfer(current_team, new_player, budget, team_constraints)\n",
    "    return updated_team, updated_budget"
   ],
   "metadata": {
    "collapsed": false,
    "ExecuteTime": {
     "end_time": "2024-02-28T09:59:20.081014Z",
     "start_time": "2024-02-28T09:59:20.036834Z"
    }
   },
   "id": "fe798595d7c3df36"
  },
  {
   "cell_type": "code",
   "execution_count": 458,
   "outputs": [],
   "source": [
    "# Fonction pour évaluer l'algorithme en utilisant des métriques\n",
    "def evaluate_algorithm(predictions, actual):\n",
    "    correct_predictions = predictions == actual\n",
    "    accuracy = correct_predictions.mean()\n",
    "    return accuracy"
   ],
   "metadata": {
    "collapsed": false,
    "ExecuteTime": {
     "end_time": "2024-02-28T09:59:21.313859Z",
     "start_time": "2024-02-28T09:59:21.238255Z"
    }
   },
   "id": "529cc786abe2557f"
  },
  {
   "cell_type": "code",
   "execution_count": 459,
   "outputs": [],
   "source": [
    "# Chemin vers le fichier CSV\n",
    "file_path = \"/Users/melusinecaillard/RSPL/data/cleaned_merged_seasons.csv\"\n",
    "\n",
    "# Chargement et prétraitement des données\n",
    "data = load_and_preprocess_data(file_path)\n",
    "data['name'] = data['name'].astype('category')\n",
    "data['position'] = data['position'].astype('category')\n",
    "data['team_x'] = data['team_x'].astype('category')\n",
    "data = feature_engineering(data)"
   ],
   "metadata": {
    "collapsed": false,
    "ExecuteTime": {
     "end_time": "2024-02-28T09:59:24.530168Z",
     "start_time": "2024-02-28T09:59:22.178545Z"
    }
   },
   "id": "6d477691f494ac96"
  },
  {
   "cell_type": "code",
   "execution_count": 460,
   "outputs": [
    {
     "name": "stdout",
     "output_type": "stream",
     "text": [
      "                     name position         team_x  value  goals_scored  \\\n",
      "19852      Aaron Connolly      FWD       Brighton     55             0   \n",
      "19853     Aaron Cresswell      DEF       West Ham     50             0   \n",
      "19854          Aaron Mooy      MID       Brighton     50             0   \n",
      "19855      Aaron Ramsdale       GK  Sheffield Utd     50             0   \n",
      "19856  Abdoulaye Doucouré      MID        Everton     55             0   \n",
      "\n",
      "       assists  clean_sheets  total_points  yellow_cards  red_cards  \\\n",
      "19852        0             0             1             0          0   \n",
      "19853        0             0             1             0          0   \n",
      "19854        0             0             0             0          0   \n",
      "19855        0             0             1             0          0   \n",
      "19856        0             1             3             0          0   \n",
      "\n",
      "       total_points  total_cards  \n",
      "19852             1            0  \n",
      "19853             1            0  \n",
      "19854             0            0  \n",
      "19855             1            0  \n",
      "19856             3            0  \n"
     ]
    }
   ],
   "source": [
    "print(data.head())"
   ],
   "metadata": {
    "collapsed": false,
    "ExecuteTime": {
     "end_time": "2024-02-28T09:59:26.063695Z",
     "start_time": "2024-02-28T09:59:26.019761Z"
    }
   },
   "id": "b8f441c05f3ea477"
  },
  {
   "cell_type": "code",
   "execution_count": 461,
   "outputs": [
    {
     "name": "stdout",
     "output_type": "stream",
     "text": [
      "name            category\n",
      "position        category\n",
      "team_x          category\n",
      "value              int64\n",
      "goals_scored       int64\n",
      "assists            int64\n",
      "clean_sheets       int64\n",
      "total_points       int64\n",
      "yellow_cards       int64\n",
      "red_cards          int64\n",
      "total_points       int64\n",
      "total_cards        int64\n",
      "dtype: object\n"
     ]
    }
   ],
   "source": [
    "print(data.dtypes)"
   ],
   "metadata": {
    "collapsed": false,
    "ExecuteTime": {
     "end_time": "2024-02-28T09:59:35.246643Z",
     "start_time": "2024-02-28T09:59:35.200986Z"
    }
   },
   "id": "547db8baea00eaf"
  },
  {
   "cell_type": "code",
   "execution_count": 462,
   "outputs": [
    {
     "name": "stdout",
     "output_type": "stream",
     "text": [
      "<class 'pandas.core.frame.DataFrame'>\n",
      "Index: 76317 entries, 19852 to 96168\n",
      "Data columns (total 12 columns):\n",
      " #   Column        Non-Null Count  Dtype   \n",
      "---  ------        --------------  -----   \n",
      " 0   name          76317 non-null  category\n",
      " 1   position      76317 non-null  category\n",
      " 2   team_x        76317 non-null  category\n",
      " 3   value         76317 non-null  int64   \n",
      " 4   goals_scored  76317 non-null  int64   \n",
      " 5   assists       76317 non-null  int64   \n",
      " 6   clean_sheets  76317 non-null  int64   \n",
      " 7   total_points  76317 non-null  int64   \n",
      " 8   yellow_cards  76317 non-null  int64   \n",
      " 9   red_cards     76317 non-null  int64   \n",
      " 10  total_points  76317 non-null  int64   \n",
      " 11  total_cards   76317 non-null  int64   \n",
      "dtypes: category(3), int64(9)\n",
      "memory usage: 6.2 MB\n",
      "None\n"
     ]
    }
   ],
   "source": [
    "print(data.info())"
   ],
   "metadata": {
    "collapsed": false,
    "ExecuteTime": {
     "end_time": "2024-02-28T09:59:36.971730Z",
     "start_time": "2024-02-28T09:59:36.935334Z"
    }
   },
   "id": "e381f83f1def129f"
  },
  {
   "cell_type": "code",
   "execution_count": 463,
   "outputs": [],
   "source": [
    "# Division des données en ensembles d'entraînement et de test\n",
    "X_train, X_test, y_test = split_data(data)"
   ],
   "metadata": {
    "collapsed": false,
    "ExecuteTime": {
     "end_time": "2024-02-28T10:00:01.478841Z",
     "start_time": "2024-02-28T09:59:38.343513Z"
    }
   },
   "id": "38b95a744c3d2d04"
  },
  {
   "cell_type": "code",
   "execution_count": 464,
   "outputs": [],
   "source": [
    "# Entraînement du modèle de régression XGBoost\n",
    "model = train_XGBoost(X_train)"
   ],
   "metadata": {
    "collapsed": false,
    "ExecuteTime": {
     "end_time": "2024-02-28T10:00:19.385201Z",
     "start_time": "2024-02-28T10:00:10.936268Z"
    }
   },
   "id": "37754376233ff1bf"
  },
  {
   "cell_type": "code",
   "execution_count": 465,
   "outputs": [],
   "source": [
    "# Prédiction des performances des joueurs pour l'ensemble de test\n",
    "y_pred = model.predict(X_test)"
   ],
   "metadata": {
    "collapsed": false,
    "ExecuteTime": {
     "end_time": "2024-02-28T10:00:21.764955Z",
     "start_time": "2024-02-28T10:00:21.666071Z"
    }
   },
   "id": "5340d5aedb6c0d53"
  },
  {
   "cell_type": "code",
   "execution_count": 466,
   "outputs": [
    {
     "name": "stdout",
     "output_type": "stream",
     "text": [
      "Mean Squared Error: 1.6439157448406119\n"
     ]
    }
   ],
   "source": [
    "# Évaluation de la performance du modèle\n",
    "mse = mean_squared_error(y_test, y_pred)\n",
    "print(\"Mean Squared Error:\", mse)"
   ],
   "metadata": {
    "collapsed": false,
    "ExecuteTime": {
     "end_time": "2024-02-28T10:00:24.883690Z",
     "start_time": "2024-02-28T10:00:24.862133Z"
    }
   },
   "id": "e2c34ac074d68feb"
  },
  {
   "cell_type": "code",
   "execution_count": 467,
   "outputs": [
    {
     "name": "stdout",
     "output_type": "stream",
     "text": [
      "<xgboost.core.DMatrix object at 0x12d393810>\n"
     ]
    }
   ],
   "source": [
    "print(player_features_example)"
   ],
   "metadata": {
    "collapsed": false,
    "ExecuteTime": {
     "end_time": "2024-02-28T10:00:26.650386Z",
     "start_time": "2024-02-28T10:00:26.624087Z"
    }
   },
   "id": "7de18d830b62cc8b"
  },
  {
   "cell_type": "code",
   "execution_count": 468,
   "outputs": [
    {
     "name": "stdout",
     "output_type": "stream",
     "text": [
      "Unexpected exception formatting exception. Falling back to standard exception\n"
     ]
    },
    {
     "name": "stderr",
     "output_type": "stream",
     "text": [
      "Traceback (most recent call last):\n",
      "  File \"/Users/melusinecaillard/RSPL/venv/lib/python3.11/site-packages/IPython/core/interactiveshell.py\", line 3548, in run_code\n",
      "    exec(code_obj, self.user_global_ns, self.user_ns)\n",
      "  File \"/var/folders/75/4vn9ylqs28df9mqtqpgtm9p40000gn/T/ipykernel_8266/2822279563.py\", line 5, in <module>\n",
      "    predicted_performance_example = model.predict(player_features_example)\n",
      "                                    ^^^^^^^^^^^^^^^^^^^^^^^^^^^^^^^^^^^^^^\n",
      "  File \"/Users/melusinecaillard/RSPL/venv/lib/python3.11/site-packages/xgboost/core.py\", line 2271, in predict\n",
      "    fn = data.feature_names\n",
      "  File \"/Users/melusinecaillard/RSPL/venv/lib/python3.11/site-packages/xgboost/core.py\", line 2969, in _validate_features\n",
      "ValueError: feature_names mismatch: ['value', 'clean_sheets', 'yellow_cards', 'red_cards', 'total_cards', 'name_Aaron Connolly', 'name_Aaron Cresswell', 'name_Aaron Hickey', 'name_Aaron Lennon', 'name_Aaron Mooy', 'name_Aaron Ramsdale', 'name_Aaron Ramsey', 'name_Aaron Wan-Bissaka', 'name_Abdoulaye Doucouré', 'name_Aboubakar Kamara', 'name_Abu Kamara', 'name_Adam Armstrong', 'name_Adam Forshaw', 'name_Adam Idah', 'name_Adam Lallana', 'name_Adam Masina', 'name_Adam Smith', 'name_Adam Webster', 'name_Adama Traoré', 'name_Adama Traoré Diarra', 'name_Adedapo Awokoya-Mebude', 'name_Ademipo Odubeko', 'name_Ademola Lookman', 'name_Adrian Blake', 'name_Adrien Silva', 'name_Adrián Bernabé', 'name_Adrián San Miguel del Castillo', 'name_Ahmed El Mohamady', 'name_Ahmed El-Sayed Hegazy', 'name_Ainsley Maitland-Niles', 'name_Ajibola Alese', 'name_Albert Sambi Lokonga', 'name_Albian Ajeti', 'name_Alejandro Garnacho', 'name_Alejandro Garnacho Ferreyra', 'name_Aleksandar Mitrović', 'name_Alex Iwobi', 'name_Alex Kirk', 'name_Alex Kral', 'name_Alex McCarthy', 'name_Alex Mighten', 'name_Alex Nicolao Telles', 'name_Alex Oxlade-Chamberlain', 'name_Alex Robertson', 'name_Alex Smithies', 'name_Alex Telles', 'name_Alexander Isak', 'name_Alexandre Jankewitz', 'name_Alexandre Lacazette', 'name_Alexandre Moreno Lopera', 'name_Alexis Mac Allister', 'name_Alfie Devine', 'name_Alfie Gilchrist', 'name_Alfie Mawson', 'name_Alireza Jahanbakhsh', 'name_Alisson Ramses Becker', 'name_Allan Marques Loureiro', 'name_Allan Saint-Maximin', 'name_Allan Tchaptchet', 'name_Alphonse Areola', 'name_Amad Diallo', 'name_Amadou Onana', 'name_Amario Cozier-Duberry', 'name_Andi Zeqiri', 'name_Andre Gray', 'name_Andreas Christensen', 'name_Andreas Hoelgebaum Pereira', 'name_Andreas Pereira', 'name_Andreas Söndergaard', 'name_Andrew Moran', 'name_Andrew Omobamidele', 'name_Andrew Robertson', 'name_Andrey Nascimento dos Santos', 'name_Andriy Yarmolenko', 'name_Andros Townsend', 'name_André Ayew', 'name_André Filipe Tavares Gomes', 'name_André Tavares Gomes', 'name_André-Frank Zambo Anguissa', 'name_Andy Carroll', 'name_Andy Lonergan', 'name_Angelo Ogbonna', 'name_Angus Gunn', 'name_Anthony Driscoll-Glennon', 'name_Anthony Elanga', 'name_Anthony Gordon', 'name_Anthony Knockaert', 'name_Anthony Mancini', 'name_Anthony Martial', 'name_Antoine Semenyo', 'name_Antonee Robinson', 'name_Antonio Rüdiger', 'name_Antony Matheus dos Santos', 'name_Antwoine Hackford', 'name_Anwar El Ghazi', 'name_Archie Gray', 'name_Armando Broja', 'name_Armel Bella-Kotchap', 'name_Armstrong Oko-Flex', 'name_Arnaut Danjuma', 'name_Arthur Henrique Ramos de Oliveira Melo', 'name_Arthur Masuaku', 'name_Arthur Okonkwo', 'name_Ashley Barnes', 'name_Ashley Fletcher', 'name_Ashley Westwood', 'name_Ashley Young', 'name_Asmir Begović', 'name_Axel Tuanzebe', 'name_Aymeric Laporte', 'name_Ayotomiwa Dele-Bashiru', 'name_Ayoze Pérez', 'name_Bailey Peacock-Farrell', 'name_Bali Mumba', 'name_Bamidele Alli', 'name_Barry Douglas', 'name_Bashir Humphreys', 'name_Ben Chilwell', 'name_Ben Davies', 'name_Ben Doak', 'name_Ben Foster', 'name_Ben Gibson', 'name_Ben Godfrey', 'name_Ben Greenwood', 'name_Ben Johnson', 'name_Ben Knight', 'name_Ben Mee', 'name_Ben Nelson', 'name_Ben Osborn', 'name_Ben Pearson', 'name_Ben White', 'name_Ben Wilmot', 'name_Ben Woodburn', 'name_Benjamin Chilwell', 'name_Benjamin Chrisene', 'name_Benjamin Mendy', 'name_Benjamin White', 'name_Benoît Badiashile', 'name_Bernard Anício Caldeira Duarte', 'name_Bernardo Fernandes Da Silva Junior', 'name_Bernardo Fernandes da Silva Junior', 'name_Bernardo Mota Veiga de Carvalho e Silva', 'name_Bernardo Veiga de Carvalho e Silva', 'name_Bernd Leno', 'name_Bertrand Traoré', 'name_Billy Gilmour', 'name_Billy Koumetio', 'name_Billy Sharp', 'name_Bjorn Engels', 'name_Björn Engels', 'name_Bobby Clark', 'name_Bobby De Cordova-Reid', 'name_Bobby Decordova-Reid', 'name_Bobby Thomas', 'name_Boubacar Kamara', 'name_Boubacar Traoré', 'name_Boubakary Soumaré', 'name_Braian Ojeda Rodríguez', 'name_Brandon Austin', 'name_Brandon Pierrick', 'name_Brandon Williams', 'name_Branislav Ivanovic', 'name_Brenden Aaronson', 'name_Brennan Johnson', 'name_Brice Samba', 'name_Bruno André Cavaco Jordao', 'name_Bruno André Cavaco Jordão', 'name_Bruno Borges Fernandes', 'name_Bruno Guimarães Rodriguez Moura', 'name_Bruno Miguel Borges Fernandes', 'name_Bryan Gil Salvatierra', 'name_Bryan Mbeumo', 'name_Bukayo Saka', 'name_Caleb Taylor', 'name_Caleb Watts', 'name_Callum Hudson-Odoi', 'name_Callum Robinson', 'name_Callum Wilson', 'name_Calum Chambers', 'name_Calvin Ramsay', 'name_Cameron Archer', 'name_Cameron Carter-Vickers', 'name_Cameron Peupion', 'name_Cameron Plain', 'name_Caoimhin Kelleher', 'name_Carlos Alcaraz', 'name_Carlos Henrique Casimiro', 'name_Carlos Ribeiro Dias', 'name_Carlos Vinicius Alves Morais', 'name_Carlos Vinícius Alves Morais', 'name_Carney Chukwuemeka', 'name_Cedric Kipre', 'name_Cengiz Ünder', 'name_Cenk Tosun', 'name_Charlie Austin', 'name_Charlie Cresswell', 'name_Charlie Goode', 'name_Charlie Patino', 'name_Charlie Robinson', 'name_Charlie Savage', 'name_Charlie Taylor', 'name_Charlie Whitaker', 'name_Che Adams', 'name_Cheick Doucouré', 'name_Cheikh Diaby', 'name_Cheikhou Kouyaté', 'name_Chem Campbell', 'name_Chris Basham', 'name_Chris Mepham', 'name_Chris Richards', 'name_Chris Smalling', 'name_Chris Wood', 'name_Christian Atsu', 'name_Christian Benteke', 'name_Christian Eriksen', 'name_Christian Fuchs', 'name_Christian Kabasele', 'name_Christian Marques', 'name_Christian Nørgaard', 'name_Christian Pulisic', 'name_Christian Saydee', 'name_Christian Walton', 'name_Christoph Zimmermann', 'name_Christos Tzolis', 'name_Ciaran Clark', 'name_Cieran Slicker', 'name_Claudio Bravo', 'name_Claudio Gomes', 'name_Clément Lenglet', 'name_Cody Drameh', 'name_Cody Gakpo', 'name_Cole Palmer', 'name_Connor Roberts', 'name_Connor Ronan', 'name_Connor Wickham', 'name_Conor Bradley', 'name_Conor Coady', 'name_Conor Coventry', 'name_Conor Gallagher', 'name_Conor Hourihane', 'name_Conor Townsend', 'name_Conrad Egan-Riley', 'name_Craig Cathcart', 'name_Craig Dawson', 'name_Cristian Romero', 'name_Cristiano Ronaldo dos Santos Aveiro', 'name_Crysencio Summerville', 'name_Curtis Jones', 'name_Cyrus Christie', 'name_Cédric Alves Soares', 'name_Cédric Soares', 'name_César Azpilicueta', 'name_Dale Stephens', 'name_Dale Taylor', 'name_Dan Burn', 'name_Dan Gosling', 'name_Dane Scarlett', 'name_Dango Ouattara', 'name_Daniel Adu-Adjei', 'name_Daniel Amartey', 'name_Daniel Bachmann', 'name_Daniel Bentley', 'name_Daniel Castelo Podence', 'name_Daniel Ceballos Fernández', 'name_Daniel Chesters', 'name_Daniel Iversen', 'name_Daniel James', 'name_Daniel Jebbison', 'name_Daniel Langley', \"name_Daniel N'Lundulu\", 'name_Danilo dos Santos de Oliveira', 'name_Danny Ings', 'name_Danny Rose', 'name_Danny Ward', 'name_Danny Welbeck', 'name_Dara Costelloe', \"name_Dara O'Shea\", 'name_Darko Gyabi', 'name_Darnell Furlong', 'name_Darren Randolph', 'name_Darwin Núñez Ribeiro', 'name_David Brooks', 'name_David Button', 'name_David Datro Fofana', 'name_David De Gea Quintana', 'name_David Luiz Moreira Marinho', 'name_David Martin', 'name_David McGoldrick', 'name_David Ozoh', 'name_David Raya Martin', 'name_David de Gea', 'name_Davinson Sánchez', 'name_Davy Pröpper', 'name_DeAndre Yedlin', 'name_Dean Henderson', 'name_Declan Rice', 'name_Dejan Kulusevski', 'name_Dele Alli', 'name_Demarai Gray', 'name_Denis Odoi', 'name_Denis Zakaria', 'name_Deniz Undav', 'name_Dennis Praet', 'name_Dexter Lembikisa', 'name_Diego Carlos Santos Silva', 'name_Diego Da Silva Costa', 'name_Diego Llorente', 'name_Dilan Markanday', 'name_Dimitris Giannoulis', 'name_Diogo Dalot Teixeira', 'name_Diogo Jota', 'name_Diogo Pinheiro Monteiro', 'name_Diogo Teixeira da Silva', 'name_Dion Sanderson', 'name_Divin Mubama', 'name_Divock Origi', 'name_Djed Spence', 'name_Domingos Quina', 'name_Dominic Ballard', 'name_Dominic Calvert-Lewin', 'name_Dominic Sadi', 'name_Dominic Solanke', 'name_Dominic Thompson', 'name_Donny van de Beek', 'name_Douglas Luiz Soares de Paulo', 'name_Duje Caleta-Car', 'name_Dwight Gayle', 'name_Dwight McNeil', 'name_Dynel Simeu', 'name_Eberechi Eze', 'name_Ed Turns', 'name_Eddie Nketiah', 'name_Ederson Santana de Moraes', 'name_Edinson Cavani', 'name_Edo Kayembe', 'name_Edouard Mendy', 'name_Edward Nketiah', 'name_Eldin Jakupovic', 'name_Elia Caprile', 'name_Ellery Balcombe', 'name_Elliot Anderson', 'name_Ellis Simms', 'name_Emerson Aparecido Leite de Souza Junior', 'name_Emerson Leite de Souza Junior', 'name_Emerson Palmieri dos Santos', 'name_Emil Krafth', 'name_Emile Smith Rowe', 'name_Emiliano Buendía Stati', 'name_Emiliano Marcondes', 'name_Emiliano Martínez', 'name_Emiliano Martínez Romero', 'name_Emmanuel Dennis', 'name_Enda Stevens', 'name_Enock Mwepu', 'name_Enzo Fernández', 'name_Eric Bailly', 'name_Eric Dier', 'name_Eric Garcia', 'name_Erik Lamela', 'name_Erik Pieters', 'name_Erling Haaland', 'name_Ethan Ampadu', 'name_Ethan Nwaneri', 'name_Ethan Pinnock', 'name_Ethan Wady', 'name_Euan Pollock', 'name_Evan Ferguson', 'name_Ezgjan Alioski', 'name_Ezri Konsa Ngoyo', 'name_Fabian Delph', 'name_Fabian Schär', 'name_Fabio Carvalho', 'name_Fabio Henrique Tavares', 'name_Fabio Silva', 'name_Fabián Balbuena', 'name_Fabricio Agosto Ramírez', 'name_Facundo Buonanotte', 'name_Facundo Pellistri', 'name_Facundo Pellistri Rebollo', 'name_Faustino Anjorin', 'name_Federico Fernández', 'name_Felipe Anderson Pereira Gomes', 'name_Felipe Augusto de Almeida Monteiro', 'name_Felix Nmecha', 'name_Femi Seriki', 'name_Fernando Luiz Rosa', 'name_Fernando Marçal', 'name_Ferran Torres', 'name_Fikayo Tomori', 'name_Filip Benkovic', 'name_Filip Krovinovic', 'name_Filip Marschall', 'name_Fin Stevens', 'name_Finley Stevens', 'name_Florian Lejeune', 'name_Florin Andone', 'name_Flynn Downes', 'name_Folarin Balogun', 'name_Francisco Casilla Cortés', 'name_Francisco Femenía Far', 'name_Francisco Jorge Tomás Oliveira', 'name_Francisco Machado Mota de Castro Trincão', 'name_Francisco Sierralta', 'name_Frank Onyeka', 'name_Frankie Maguire', 'name_Fraser Forster', 'name_Freddie Woodman', 'name_Frederico Rodrigues de Paula Santos', 'name_Frederik Alves', 'name_Frédéric Guilbert', 'name_Fábio Ferreira Vieira', 'name_Fábio Freitas Gouveia Carvalho', 'name_Gabriel Fernando de Jesus', 'name_Gabriel Magalhães', 'name_Gabriel Martinelli Silva', 'name_Gabriel Teodoro Martinelli Silva', 'name_Gabriel dos Santos Magalhães', 'name_Gaetano Berardi', 'name_Garang Kuol', 'name_Gareth Bale', 'name_Gary Cahill', 'name_Gavin Bazunu', 'name_Gedson Carvalho Fernandes', 'name_George Abbott', 'name_George Baldock', 'name_George Shelvey', 'name_George Wickens', 'name_Georginio Rutter', 'name_Georginio Wijnaldum', 'name_Gianluca Scamacca', 'name_Giovani Lo Celso', 'name_Giulian Biancone', 'name_Glenn Murray', 'name_Gonçalo Manuel Ganchinho Guedes', 'name_Grady Diangana', 'name_Granit Xhaka', 'name_Grant Hanley', 'name_Gustavo Henrique Furtado Scarpa', 'name_Gylfi Sigurdsson', 'name_Hakim Ziyech', 'name_Hal Robson-Kanu', 'name_Halil Dervişoğlu', 'name_Hamed Traorè', 'name_Hamza Choudhury', 'name_Hannibal Mejbri', 'name_Harrison Ashby', 'name_Harrison Reed', 'name_Harry Arter', 'name_Harry Boyes', 'name_Harry Kane', 'name_Harry Lewis', 'name_Harry Maguire', 'name_Harry Souttar', 'name_Harry Toffolo', 'name_Harry Tyrer', 'name_Harry Wilson', 'name_Harry Winks', 'name_Harvey Barnes', 'name_Harvey Davies', 'name_Harvey Elliott', 'name_Harvey Griffiths', 'name_Harvey Vale', 'name_Harvey White', 'name_Hassane Kamara', 'name_Haydon Roberts', 'name_Hee-Chan Hwang', 'name_Henri Lansbury', 'name_Heung-Min Son', 'name_Hugo Bueno', 'name_Hugo Bueno López', 'name_Hugo Lloris', 'name_Hwang Hee-chan', 'name_Héctor Bellerín', 'name_Héctor Junior Firpo Adames', 'name_Hélder Wander Sousa de Azevedo e Costa', 'name_Ian Carlo Poveda-Ocampo', 'name_Ibrahima Diallo', 'name_Ibrahima Konaté', 'name_Idrissa Gueye', 'name_Iliman Ndiaye', 'name_Ilkay Gündogan', 'name_Illan Meslier', 'name_Illia Zabarnyi', 'name_Imari Samuels', 'name_Imrân Louza', 'name_Indiana Vassilev', 'name_Isaac Hayden', 'name_Isaac Price', 'name_Isaac Success Ajayi', 'name_Ishé Samuels-Smith', 'name_Islam Slimani', 'name_Ismaila Sarr', 'name_Issa Diop', 'name_Ivan Neves Abreu Cavaleiro', 'name_Ivan Perišić', 'name_Ivan Ricardo Neves Abreu Cavaleiro', 'name_Ivan Toney', 'name_Jack Butland', 'name_Jack Colback', 'name_Jack Cork', 'name_Jack Grealish', 'name_Jack Grieves', 'name_Jack Harrison', 'name_Jack Hinshelwood', 'name_Jack Jenkins', \"name_Jack O'Connell\", 'name_Jack Robinson', 'name_Jack Stacey', 'name_Jack Stephens', 'name_Jack Wells-Morrison', 'name_Jack Wilshere', 'name_Jackson Smith', 'name_Jacob Murphy', 'name_Jacob Ramsey', 'name_Jacob Sørensen', 'name_Jaden Philogene-Bidace', 'name_Jadon Sancho', 'name_Jaidon Anthony', 'name_Jairo Riedewald', 'name_Jake Cain', 'name_Jake Livermore', 'name_Jake Vokins', 'name_Jakub Kiwior', 'name_Jakub Moder', 'name_Jakub Ojrzynski', 'name_Jamaal Lascelles', 'name_Jamal Baptiste', 'name_Jamal Lewis', 'name_Jamal Lowe', 'name_James Bree', 'name_James Furlong', 'name_James Garner', 'name_James Hill', 'name_James Justin', 'name_James Maddison', 'name_James McArthur', 'name_James McAtee', 'name_James McCarthy', 'name_James Milner', 'name_James Morris', 'name_James Rodríguez', 'name_James Storer', 'name_James Tarkowski', 'name_James Tomkins', 'name_James Trafford', 'name_James Ward-Prowse', 'name_James Wright', 'name_Jamie Bowden', 'name_Jamie Shackleton', 'name_Jamie Vardy', 'name_Jan Bednarek', 'name_Jan Paul van Hecke', 'name_Jan Zamburek', 'name_Jannik Vestergaard', 'name_Japhet Tanganga', 'name_Jarell Quansah', 'name_Jarosław Jach', 'name_Jarrad Branthwaite', 'name_Jarrod Bowen', 'name_Jason Steele', 'name_Javier Manquillo', 'name_Javier Manquillo Gaitán', 'name_Jay Rodriguez', 'name_Jay Stansfield', 'name_Jay-Roy Grot', 'name_Jayden Bogle', 'name_Jayson Molumby', 'name_Jean Michaël Seri', 'name_Jean-Philippe Gbamin', 'name_Jean-Philippe Mateta', 'name_Jed Steer', 'name_Jeff Hendrick', 'name_Jefferson Lerma Solís', 'name_Jeffrey Schlupp', 'name_Jensen Weir', 'name_Jeremiah Chilokoa-Mullen', 'name_Jeremy Ngakia', 'name_Jeremy Sarmiento', 'name_Jeremy Sarmiento Morante', 'name_Jesse Lingard', 'name_Jesurun Rak-Sakyi', 'name_Jhon Durán', 'name_Jimmy Dunne', 'name_Jimmy Morgan', 'name_Joachim Andersen', 'name_Joe Ayodele-Aribo', 'name_Joe Bryan', 'name_Joe Gelhardt', 'name_Joe Hart', 'name_Joe Lolley', 'name_Joe Rodon', 'name_Joe Rothwell', 'name_Joe White', 'name_Joe Willock', 'name_Joe Wormleighton', 'name_Joe Worrall', 'name_Joel Matip', 'name_Joel Mumbongo', 'name_Joel Robles', 'name_Joel Ward', 'name_Joelinton Cássio Apolinário de Lira', 'name_Johann Berg Gudmundsson', 'name_John Egan', 'name_John Fleck', 'name_John Lundstram', 'name_John McGinn', 'name_John Ruddy', 'name_John Stones', 'name_John-Kymani Gordon', 'name_Jon McCracken', 'name_Jonas Lössl', 'name_Jonathan Castro Otto', 'name_Jonathan Leko', 'name_Jonathan Panzo', 'name_Jonathan Rowe', 'name_Jonathan Tomkinson', 'name_Jonjo Shelvey', 'name_Jonjoe Kenny', 'name_Jonny Evans', 'name_Jordan Ayew', 'name_Jordan Henderson', 'name_Jordan Hugill', 'name_Jordan Pickford', 'name_Jordan Smith', 'name_Jordan Stevens', 'name_Jordan Zemura', 'name_Jorge Luiz Frello Filho', 'name_Joseph Anang', 'name_Joseph Gomez', 'name_Joseph Hodge', 'name_Joseph Hungbo', 'name_Joseph McGlynn', 'name_Joseph Whitworth', 'name_Joseph Willock', 'name_Josh Benson', 'name_Josh Brownhill', 'name_Josh Dasilva', 'name_Josh Feeney', 'name_Josh Maja', 'name_Josh Martin', 'name_Josh Onomah', 'name_Josh Sims', 'name_Josh Wilson-Esbrand', 'name_Joshua King', 'name_Joshua Sargent', 'name_Joshua Wilson-Esbrand', 'name_José Diogo Dalot Teixeira', 'name_José Ignacio Peleteiro Romallo', 'name_José Izquierdo', 'name_José Malheiro de Sá', 'name_João Cancelo', 'name_João Filipe Iria Santos Moutinho', 'name_João Félix Sequeira', 'name_João Palhinha Gonçalves', 'name_João Pedro Cavaco Cancelo', 'name_João Pedro Junqueira de Jesus', 'name_João Victor Gomes da Silva', 'name_João Virgínia', 'name_Joël Veltman', 'name_Juan Camilo Hernández Suárez', 'name_Juan Foyth', 'name_Juan Larios López', 'name_Juan Mata', 'name_Julian Jeanvier', 'name_Julio Enciso', 'name_Julián Álvarez', 'name_Junior Firpo Adames', 'name_Junior Stanislas', 'name_Juraj Kucka', 'name_Jürgen Locadia', 'name_Kacper Kozłowski', 'name_Kadan Young', 'name_Kaden Rodney', 'name_Kaelan Casey', 'name_Kai Havertz', 'name_Kaide Gordon', 'name_Kaine Hayden', 'name_Kaine Kesler Hayden', 'name_Kalidou Koulibaly', 'name_Kalvin Phillips', 'name_Kamaldeen Sulemana', 'name_Kamari Doyle', 'name_Kamil Conteh', 'name_Kamil Grosicki', 'name_Kamil Miazek', 'name_Kaoru Mitoma', 'name_Karl Darlow', 'name_Karl Hein', 'name_Karlan Grant', 'name_Karlo Ziger', 'name_Kasey McAteer', 'name_Kasper Schmeichel', 'name_Kayky da Silva Chagas', 'name_Kayne Ramsay', 'name_Kean Bryan', 'name_Keane Lewis-Potter', 'name_Keinan Davis', 'name_Kelechi Iheanacho', 'name_Kelland Watts', 'name_Ken Sema', 'name_Kenneth Zohore', 'name_Kenny McLean', 'name_Kenny Tete', 'name_Kepa Arrizabalaga', 'name_Kevin De Bruyne', 'name_Kevin Long', 'name_Kevin Mbabu', 'name_Kevin McDonald', 'name_Kevin Schade', 'name_Keylor Navas', 'name_Kgaogelo Chauke', 'name_Ki-Jana Hoever', 'name_Kieffer Moore', 'name_Kieran Dowell', 'name_Kieran Gibbs', 'name_Kieran Tierney', 'name_Kieran Trippier', 'name_Kiernan Dewsbury-Hall', 'name_Killian Phillips', 'name_Kjell Scherpen', 'name_Kobbie Mainoo', 'name_Kofi Balmer', 'name_Konstantinos Mavropanos', 'name_Konstantinos Tsimikas', 'name_Kortney Hause', 'name_Kris Moore', 'name_Kristian Sekularac', 'name_Kristoffer Ajer', 'name_Kristoffer Klaesson', 'name_Krisztián Hegyi', 'name_Kurt Zouma', 'name_Kwadwo Baah', 'name_Kyle Bartley', 'name_Kyle Edwards', 'name_Kyle John', 'name_Kyle Walker', 'name_Kyle Walker-Peters', 'name_Kyron Gordon', 'name_Lamare Bogarde', 'name_Layvin Kurzawa', 'name_Leander Dendoncker', 'name_Leandro Trossard', 'name_Lee Grant', 'name_Lee Peltier', 'name_Leif Davis', 'name_Leighton Clarkson', 'name_Leo Fuhr Hjelde', 'name_Leon Bailey', 'name_Leonardo Campana', 'name_Levi Colwill', 'name_Lewis Bate', 'name_Lewis Brunt', 'name_Lewis Cook', 'name_Lewis Dobbin', 'name_Lewis Dunk', 'name_Lewis Hall', 'name_Lewis Miley', \"name_Lewis O'Brien\", 'name_Lewis Payne', 'name_Lewis Richards', 'name_Lewis Richardson', 'name_Lewis Warrington', 'name_Liam Cooper', 'name_Liam Delap', 'name_Liam Gibbs', 'name_Liam Hughes', 'name_Liam McCarron', 'name_Lino Sousa', 'name_Lisandro Martínez', 'name_Lloyd Kelly', 'name_Loris Karius', 'name_Louie Moulden', 'name_Loïc Badé', 'name_Loïc Mbe Soh', 'name_Lucas De Bolle', 'name_Lucas Digne', 'name_Lucas Rodrigues Moura da Silva', 'name_Lucas Tolentino Coelho de Lima', 'name_Lucas Torreira', 'name_Lucas Torreira di Pascua', 'name_Ludwig Augustinsson', 'name_Luis Díaz', 'name_Luis Sinisterra Lucumí', 'name_Luka Milivojevic', 'name_Lukas Rupp', 'name_Lukasz Fabianski', 'name_Luke Ayling', 'name_Luke Chambers', 'name_Luke Cundle', 'name_Luke Freeman', 'name_Luke Harris', 'name_Luke Mbete', 'name_Luke Mbete-Tabu', 'name_Luke Plange', 'name_Luke Shaw', 'name_Luke Thomas', 'name_Lyanco Evangelista Silveira Neves Vojnovic', 'name_Lyanco Silveira Neves Vojnovic', 'name_Lyle Taylor', 'name_Lys Mousset', 'name_Léo Bonatini', 'name_Mace Goodridge', 'name_Mads Bech Sørensen', 'name_Mads Bidstrup', 'name_Mads Roerslev Rasmussen', 'name_Mahmoud Ahmed Ibrahim Hassan', 'name_Malang Sarr', 'name_Malcolm Ebiowei', 'name_Mamadou Sakho', 'name_Manor Solomon', 'name_Manuel Akanji', 'name_Manuel Lanzini', 'name_Marc Albrighton', 'name_Marc Cucurella', 'name_Marc Cucurella Saseta', 'name_Marc Guéhi', 'name_Marc Jurado Gomez', 'name_Marc Leonard', 'name_Marc Navarro', 'name_Marc Roca Junqué', 'name_Marcel Lavinier', 'name_Marcel Sabitzer', 'name_Marcelo Flores', 'name_Marcelo de Araújo Pitaluga Filho', 'name_Marco Stiepermann', 'name_Marcos Alonso', 'name_Marcos Rojo', 'name_Marcos Senesi', 'name_Marcus Bettinelli', 'name_Marcus Forss', 'name_Marcus Oliveira Alencar', 'name_Marcus Rashford', 'name_Marcus Tavernier', 'name_Marek Rodák', 'name_Mario Lemina', 'name_Mark Gillespie', 'name_Mark Noble', 'name_Mark Travers', 'name_Martial Godo', 'name_Martin Dubravka', 'name_Martin Kelly', 'name_Martin Ødegaard', 'name_Martín Montoya', 'name_Marvelous Nakamba', 'name_Mason Greenwood', 'name_Mason Holgate', 'name_Mason Mount', 'name_Matej Kovár', 'name_Matej Vydra', 'name_Mateo Joseph Fernández', 'name_Mateo Kovacic', 'name_Mateus Cardoso Lemos Martins', 'name_Mateusz Bogusz', 'name_Mateusz Klich', 'name_Mateusz Lis', 'name_Matheus Luiz Nunes', 'name_Matheus Pereira', 'name_Matheus Santos Carneiro Da Cunha', 'name_Mathew Ryan', 'name_Mathias Jensen', 'name_Mathias Jorgensen', 'name_Mathias Normann', 'name_Matija Sarkic', 'name_Matija Šarkić', 'name_Matt Clarke', 'name_Matt Doherty', 'name_Matt Macey', 'name_Matt Phillips', 'name_Matt Ritchie', 'name_Matt Targett', 'name_Matt Turner', 'name_Matteo Guendouzi', 'name_Matthew Cash', 'name_Matthew Clarke', 'name_Matthew Cox', 'name_Matthew Craig', 'name_Matthew Dibley-Dias', 'name_Matthew Longstaff', 'name_Matthew Lowton', 'name_Matthew Pollock', 'name_Matthew Smith', 'name_Matty Cash', 'name_Matty James', 'name_Mattéo Guendouzi', 'name_Matías Viña', 'name_Mauro Bandeira', 'name_Max Aarons', 'name_Max Kilman', 'name_Max Kinsey-Wellings', 'name_Max Lowe', 'name_Max Meyer', 'name_Max Sanders', 'name_Max Thompson', 'name_Maxime Le Marchand', 'name_Maximilian Wöber', 'name_Maxwel Cornet', 'name_Maxwell Haygarth', 'name_Mazeed Ogungbo', 'name_Mbaye Diagne', 'name_Mbwana Ally Samatta', 'name_Mbwana Samatta', 'name_Meritan Shabani', 'name_Mesut Özil', 'name_Michael Dacosta Gonzalez', 'name_Michael Hector', 'name_Michael Keane', 'name_Michael McGovern', 'name_Michael Obafemi', 'name_Michael Olakigbe', 'name_Michael Olise', 'name_Michael Verrips', 'name_Michail Antonio', 'name_Michal Karbownik', 'name_Michy Batshuayi', 'name_Miguel Almirón', 'name_Miguel Almirón Rejala', 'name_Miguel Azeez', 'name_Mika Biereth', 'name_Mikkel Damsgaard', 'name_Milot Rashica', 'name_Mislav Orsic', 'name_Mohamed Dräger', 'name_Mohamed Elneny', 'name_Mohamed Elyounoussi', 'name_Mohamed Naser El Sayed Elneny', 'name_Mohamed Salah', 'name_Mohammed Salisu', 'name_Moise Kean', 'name_Moisés Caicedo', 'name_Moisés Caicedo Corozo', 'name_Morgan Gibbs-White', 'name_Morgan Sanson', 'name_Moussa Djenepo', 'name_Moussa Niakhaté', 'name_Moussa Sissoko', 'name_Mykhailo Mudryk', 'name_Myles Peart-Harris', 'name_Máximo Perrone', \"name_N'Golo Kanté\", 'name_Naby Keita', 'name_Nampalys Mendy', 'name_Naouirou Ahamada', 'name_Nathan Aké', 'name_Nathan Bishop', 'name_Nathan Broadhead', 'name_Nathan Butler-Oyedeji', 'name_Nathan Collins', 'name_Nathan Ferguson', 'name_Nathan Fraser', 'name_Nathan Patterson', 'name_Nathan Redmond', 'name_Nathan Tella', 'name_Nathan Trott', 'name_Nathan Young-Coombes', 'name_Nathaniel Chalobah', 'name_Nathaniel Clyne', 'name_Nathaniel Phillips', 'name_Nayef Aguerd', 'name_Neal Maupay', 'name_Neco Williams', 'name_Neeskens Kebano', 'name_Neil Taylor', 'name_Nemanja Matic', 'name_Niall Huggins', 'name_Nick Pope', \"name_Nico O'Reilly\", 'name_Nicolas Nkoulou', 'name_Nicolas Pépé', 'name_Nicolás Otamendi', 'name_Niels Nkounkou', 'name_Nigel Lonwijk', 'name_Nikola Vlasic', 'name_Nile John', 'name_Nohan Kenneh', 'name_Noni Madueke', 'name_Norberto Murara Neto', 'name_Nuno Varela Tavares', 'name_Nélson Cabral Semedo', 'name_Odeluga Offiah', 'name_Odion Ighalo', 'name_Odsonne Edouard', 'name_Oghenekaro Peter Etebo', 'name_Okay Yokuslu', 'name_Ola Aina', 'name_Oleksandr Zinchenko', 'name_Oliver Burke', 'name_Oliver Casey', 'name_Oliver Hammond', 'name_Oliver McBurnie', 'name_Oliver Norwood', 'name_Oliver Skipp', 'name_Olivier Giroud', 'name_Oliwier Zych', 'name_Ollie Watkins', 'name_Oluwasemilogo Adesewo Ibidapo Ajayi', 'name_Omar Richards', 'name_Omari Hutchinson', 'name_Onel Hernández', 'name_Orel Mangala', 'name_Oriol Romeu Vidal', 'name_Oskar Buur', 'name_Owen Beck', 'name_Owen Bevan', 'name_Owen Dodgson', 'name_Owen Goodman', 'name_Owen Otasowie', 'name_Ozan Kabak', 'name_Ozan Tufan', 'name_Pablo Fornals', 'name_Pablo Fornals Malla', 'name_Pablo Hernández Domínguez', 'name_Pablo Marí', 'name_Pablo Marí Villar', 'name_Pablo Sarabia', 'name_Pape Matar Sarr', 'name_Paris Maghoma', 'name_Pascal Groß', 'name_Pascal Struijk', 'name_Patrick Bamford', 'name_Patrick Cutrone', 'name_Patrick van Aanholt', 'name_Patrik Gunnarsson', 'name_Patson Daka', 'name_Paul Dummett', 'name_Paul Onuachu', 'name_Paul Pogba', 'name_Paulo Gazzaniga', 'name_Paulo Gazzaniga Farias', 'name_Pedro Lomba Neto', 'name_Pedro Porro', 'name_Pelenda Joshua Dasilva', 'name_Percy Tau', 'name_Pervis Estupiñán', 'name_Phil Bardsley', 'name_Phil Foden', 'name_Phil Jagielka', 'name_Phil Jones', 'name_Philip Billing', 'name_Philip Zinckernagel', 'name_Philippe Coutinho Correia', 'name_Pierluigi Gollini', 'name_Pierre Ekwah', 'name_Pierre Lees-Melou', 'name_Pierre-Emerick Aubameyang', 'name_Pierre-Emile Højbjerg', 'name_Pontus Jansson', 'name_Przemyslaw Placheta', 'name_Raheem Sterling', 'name_Raphael Dias Belloli', 'name_Raphaël Varane', 'name_Rasmus Kristensen', 'name_Rayan Ait Nouri', 'name_Rayan Aït-Nouri', 'name_Raúl Jiménez', 'name_Reda Khadra', 'name_Reece Hannam', 'name_Reece James', 'name_Reece Welch', 'name_Reiss Nelson', 'name_Rekeem Harper', 'name_Remi Matthews', 'name_Remo Freuler', 'name_Renan Augusto Lodi dos Santos', 'name_Reuell Walters', 'name_Rhian Brewster', 'name_Rhys Bennett', 'name_Rhys Williams', 'name_Ricardo Barbosa Pereira', 'name_Ricardo Domingos Barbosa Pereira', 'name_Richard Nartey', 'name_Richarlison de Andrade', 'name_Richie Laryea', 'name_Rico Henry', 'name_Rico Lewis', 'name_Riyad Mahrez', 'name_Rob Holding', 'name_Robbie Brady', 'name_Robert Elliot', 'name_Robert Kenedy Nunes do Nascimento', 'name_Robert Snodgrass', 'name_Robert Street', 'name_Robert Sánchez', 'name_Roberto Firmino', 'name_Roberto Jimenez Gago', 'name_Robin Koch', 'name_Robin Olsen', 'name_Rodrigo Bentancur', 'name_Rodrigo Hernandez', 'name_Rodrigo Moreno', 'name_Rodrigo Muniz Carvalho', 'name_Rolando Aarons', 'name_Romain Perraud', 'name_Romain Saïss', 'name_Romaine Mundle', 'name_Romaine Sawyers', 'name_Romelu Lukaku', 'name_Romeo Lavia', 'name_Roméo Lavia', 'name_Ross Barkley', 'name_Ruben Loftus-Cheek', 'name_Rui Pedro dos Santos Patrício', 'name_Ryan Alebiosu', 'name_Ryan Astley', 'name_Ryan Bennett', 'name_Ryan Bertrand', 'name_Ryan Christie', 'name_Ryan Finnigan', 'name_Ryan Fraser', 'name_Ryan Fredericks', 'name_Ryan Giles', 'name_Ryan Inniss', 'name_Ryan Sessegnon', 'name_Ryan Trevitt', 'name_Ryan Yates', 'name_Rúben Diogo da Silva Neves', 'name_Rúben Gato Alves Dias', 'name_Rúben Gonçalo Silva Nascimento Vinagre', 'name_Rúben Nascimento Vinagre', 'name_Rúben Santos Gato Alves Dias', 'name_Rúben da Silva Neves', 'name_Rúnar Alex Rúnarsson', 'name_Sadio Mané', \"name_Salah-Eddine Oulad M'hand\", 'name_Salomón Rondón', 'name_Sam Byram', 'name_Sam Field', 'name_Sam Greenwood', 'name_Sam Johnstone', 'name_Sam Surridge', 'name_Sam Waller', 'name_Sam Woods', 'name_Saman Ghoddos', 'name_Samir Caetano de Souza Santos', 'name_Sammy Braybrooke', 'name_Samuel Amo-Ameyaw', 'name_Samuel Edozie', 'name_Samuel Kalu', 'name_Sander Berge', 'name_Sasa Kalajdzic', 'name_Sasa Lukic', 'name_Saïd Benrahma', 'name_Saúl Ñíguez', 'name_Scott Banks', 'name_Scott Carson', 'name_Scott Dann', 'name_Scott McKenna', 'name_Scott McTominay', 'name_Sead Kolasinac', 'name_Seamus Coleman', 'name_Sean Longstaff', 'name_Sean McAllister', 'name_Sebastian Revan', 'name_Sepp van den Berg', 'name_Serge Aurier', 'name_Sergi Canós', 'name_Sergi Canós Tenés', 'name_Sergio Agüero', 'name_Sergio Gómez', 'name_Sergio Reguilón', 'name_Sergio Romero', 'name_Shandon Baptiste', 'name_Shane Duffy', 'name_Shane Flynn', 'name_Shane Long', 'name_Shaqai Forde', 'name_Shea Charles', 'name_Shkodran Mustafi', 'name_Shola Shoretire', 'name_Sidnei Tavares', 'name_Sil Swinkels', 'name_Simon Moore', 'name_Siriki Dembélé', 'name_Sofiane Boufal', 'name_Sokratis Papastathopoulos', 'name_Solly March', 'name_Solomon March', 'name_Son Heung-min', 'name_Sonny Perkins', 'name_Stanley Mills', 'name_Stefan Bajcetic', 'name_Stefan Johansen', 'name_Stefan Ortega Moreno', 'name_Stefan Parkes', 'name_Stephen Henderson', 'name_Steve Cook', 'name_Steven Alzate', 'name_Steven Bergwijn', 'name_Stipe Perica', 'name_Stuart Armstrong', 'name_Stuart Dallas', 'name_Stuart McKinstry', 'name_Sven Botman', 'name_Sylvester Jasper', 'name_Sébastien Haller', 'name_Sékou Mara', 'name_Tahith Chong', 'name_Taiwo Awoniyi', 'name_Takehiro Tomiyasu', 'name_Takumi Minamino', 'name_Tammy Abraham', 'name_Tanguy Ndombele', 'name_Tariq Lamptey', 'name_Tariqe Fosu-Henry', 'name_Tawanda Maswanhise', 'name_Taylor Gardner-Hickman', 'name_Taylor Harwood-Bellis', 'name_Taylor Perry', 'name_Taylor Richards', 'name_Tayo Adaramola', 'name_Teddy Jenks', 'name_Teden Mengi', 'name_Teemu Pukki', 'name_Terence Kongolo', 'name_Terry Ablade', 'name_Thakgalo Leshabela', 'name_Thanawat Suengchitthawon', 'name_Theo Corbeanu', 'name_Theo Walcott', 'name_Thiago Alcántara do Nascimento', 'name_Thiago Emiliano da Silva', 'name_Thiago Thiago', 'name_Thierry Small', 'name_Thilo Kehrer', 'name_Thomas Cannon', 'name_Thomas Dickson-Peters', 'name_Thomas McGill', 'name_Thomas Partey', 'name_Thomas Strakosha', 'name_Tiago Çukur', 'name_Tim Iroegbunam', 'name_Tim Krul', 'name_Tim Ream', 'name_Timo Werner', 'name_Timothy Castagne', 'name_Timothy Fosu-Mensah', 'name_Tino Livramento', 'name_Tobi Omole', 'name_Toby Alderweireld', 'name_Toby King', 'name_Todd Cantwell', 'name_Tom Cairney', 'name_Tom Cleverley', 'name_Tom Davies', 'name_Tom Heaton', 'name_Tom McGill', 'name_Tomas Soucek', \"name_Tommi O'Reilly\", 'name_Tommy Doyle', 'name_Tony Springett', 'name_Tosin Adarabioyo', 'name_Toti António Gomes', 'name_Travis Patterson', 'name_Trent Alexander-Arnold', 'name_Trevoh Chalobah', 'name_Tristan Crama', 'name_Troy Deeney', 'name_Troy Parrott', 'name_Tyler Adams', 'name_Tyler Dibling', 'name_Tyler Morton', 'name_Tyler Onyango', 'name_Tyler Roberts', 'name_Tyrell Malacia', 'name_Tyrese Francois', 'name_Tyrick Mitchell', 'name_Tyrone Mings', 'name_Valentino Livramento', 'name_Vicente Guaita', 'name_Victor Kristiansen', 'name_Victor Lindelöf', 'name_Viljami Sinisalo', 'name_Vincent Angelini', 'name_Virgil van Dijk', 'name_Vitalii Mykolenko', 'name_Vitaly Janelt', 'name_Vitor Ferreira', 'name_Vladimir Coufal', 'name_Vontae Daley-Campbell', 'name_Wanya Marçal-Madivadua', 'name_Wayne Hennessey', 'name_Wes Foderingham', 'name_Wes Morgan', 'name_Wesley Fofana', 'name_Wesley Moraes', 'name_Weston McKennie', 'name_Wilfred Ndidi', 'name_Wilfried Gnonto', 'name_Wilfried Zaha', 'name_Will Dennis', 'name_Will Ferry', 'name_Will Hughes', 'name_Will Norris', 'name_Will Smallbone', 'name_William Fish', 'name_William Osula', 'name_William Saliba', 'name_William Smallbone', 'name_William Troost-Ekong', 'name_Willian Borges Da Silva', 'name_Willian Borges da Silva', 'name_Willian José Da Silva', 'name_Willy Boly', 'name_Willy Caballero', 'name_Winston Reid', 'name_Wout Faes', 'name_Wout Weghorst', 'name_Xande Nascimento da Costa Silva', 'name_Xherdan Shaqiri', 'name_Yago de Santiago Alonso', 'name_Yan Valery', 'name_Yasin Ayari', 'name_Yegor Yarmolyuk', 'name_Yerry Mina', 'name_Yerson Mosquera Valdelamar', 'name_Yoane Wissa', 'name_Yoshinori Muto', 'name_Youri Tielemans', 'name_Yves Bissouma', 'name_Zach Awe', 'name_Zack Steffen', 'name_Zak Brunt', 'name_Zak Swanson', 'name_Zeze Steven Sessegnon', 'name_Zidane Iqbal', 'name_Álvaro Fernández', 'name_Çaglar Söyüncü', 'name_Ørjan Nyland', 'position_DEF', 'position_FWD', 'position_GK', 'position_GKP', 'position_MID', 'team_x_Arsenal', 'team_x_Aston Villa', 'team_x_Bournemouth', 'team_x_Brentford', 'team_x_Brighton', 'team_x_Burnley', 'team_x_Chelsea', 'team_x_Crystal Palace', 'team_x_Everton', 'team_x_Fulham', 'team_x_Leeds', 'team_x_Leicester', 'team_x_Liverpool', 'team_x_Man City', 'team_x_Man Utd', 'team_x_Newcastle', 'team_x_Norwich', \"team_x_Nott'm Forest\", 'team_x_Sheffield Utd', 'team_x_Southampton', 'team_x_Spurs', 'team_x_Watford', 'team_x_West Brom', 'team_x_West Ham', 'team_x_Wolves'] ['clean_sheets', 'yellow_cards', 'red_cards', 'total_cards', 'name_Aaron Connolly', 'name_Aaron Cresswell', 'name_Aaron Hickey', 'name_Aaron Lennon', 'name_Aaron Mooy', 'name_Aaron Ramsdale', 'name_Aaron Ramsey', 'name_Aaron Wan-Bissaka', 'name_Abdoulaye Doucouré', 'name_Aboubakar Kamara', 'name_Abu Kamara', 'name_Adam Armstrong', 'name_Adam Forshaw', 'name_Adam Idah', 'name_Adam Lallana', 'name_Adam Masina', 'name_Adam Smith', 'name_Adam Webster', 'name_Adama Traoré', 'name_Adama Traoré Diarra', 'name_Adedapo Awokoya-Mebude', 'name_Ademipo Odubeko', 'name_Ademola Lookman', 'name_Adrian Blake', 'name_Adrien Silva', 'name_Adrián Bernabé', 'name_Adrián San Miguel del Castillo', 'name_Ahmed El Mohamady', 'name_Ahmed El-Sayed Hegazy', 'name_Ainsley Maitland-Niles', 'name_Ajibola Alese', 'name_Albert Sambi Lokonga', 'name_Albian Ajeti', 'name_Alejandro Garnacho', 'name_Alejandro Garnacho Ferreyra', 'name_Aleksandar Mitrović', 'name_Alex Iwobi', 'name_Alex Kirk', 'name_Alex Kral', 'name_Alex McCarthy', 'name_Alex Mighten', 'name_Alex Nicolao Telles', 'name_Alex Oxlade-Chamberlain', 'name_Alex Robertson', 'name_Alex Smithies', 'name_Alex Telles', 'name_Alexander Isak', 'name_Alexandre Jankewitz', 'name_Alexandre Lacazette', 'name_Alexandre Moreno Lopera', 'name_Alexis Mac Allister', 'name_Alfie Devine', 'name_Alfie Gilchrist', 'name_Alfie Mawson', 'name_Alireza Jahanbakhsh', 'name_Alisson Ramses Becker', 'name_Allan Marques Loureiro', 'name_Allan Saint-Maximin', 'name_Allan Tchaptchet', 'name_Alphonse Areola', 'name_Amad Diallo', 'name_Amadou Onana', 'name_Amario Cozier-Duberry', 'name_Andi Zeqiri', 'name_Andre Gray', 'name_Andreas Christensen', 'name_Andreas Hoelgebaum Pereira', 'name_Andreas Pereira', 'name_Andreas Söndergaard', 'name_Andrew Moran', 'name_Andrew Omobamidele', 'name_Andrew Robertson', 'name_Andrey Nascimento dos Santos', 'name_Andriy Yarmolenko', 'name_Andros Townsend', 'name_André Ayew', 'name_André Filipe Tavares Gomes', 'name_André Tavares Gomes', 'name_André-Frank Zambo Anguissa', 'name_Andy Carroll', 'name_Andy Lonergan', 'name_Angelo Ogbonna', 'name_Angus Gunn', 'name_Anthony Driscoll-Glennon', 'name_Anthony Elanga', 'name_Anthony Gordon', 'name_Anthony Knockaert', 'name_Anthony Mancini', 'name_Anthony Martial', 'name_Antoine Semenyo', 'name_Antonee Robinson', 'name_Antonio Rüdiger', 'name_Antony Matheus dos Santos', 'name_Antwoine Hackford', 'name_Anwar El Ghazi', 'name_Archie Gray', 'name_Armando Broja', 'name_Armel Bella-Kotchap', 'name_Armstrong Oko-Flex', 'name_Arnaut Danjuma', 'name_Arthur Henrique Ramos de Oliveira Melo', 'name_Arthur Masuaku', 'name_Arthur Okonkwo', 'name_Ashley Barnes', 'name_Ashley Fletcher', 'name_Ashley Westwood', 'name_Ashley Young', 'name_Asmir Begović', 'name_Axel Tuanzebe', 'name_Aymeric Laporte', 'name_Ayotomiwa Dele-Bashiru', 'name_Ayoze Pérez', 'name_Bailey Peacock-Farrell', 'name_Bali Mumba', 'name_Bamidele Alli', 'name_Barry Douglas', 'name_Bashir Humphreys', 'name_Ben Chilwell', 'name_Ben Davies', 'name_Ben Doak', 'name_Ben Foster', 'name_Ben Gibson', 'name_Ben Godfrey', 'name_Ben Greenwood', 'name_Ben Johnson', 'name_Ben Knight', 'name_Ben Mee', 'name_Ben Nelson', 'name_Ben Osborn', 'name_Ben Pearson', 'name_Ben White', 'name_Ben Wilmot', 'name_Ben Woodburn', 'name_Benjamin Chilwell', 'name_Benjamin Chrisene', 'name_Benjamin Mendy', 'name_Benjamin White', 'name_Benoît Badiashile', 'name_Bernard Anício Caldeira Duarte', 'name_Bernardo Fernandes Da Silva Junior', 'name_Bernardo Fernandes da Silva Junior', 'name_Bernardo Mota Veiga de Carvalho e Silva', 'name_Bernardo Veiga de Carvalho e Silva', 'name_Bernd Leno', 'name_Bertrand Traoré', 'name_Billy Gilmour', 'name_Billy Koumetio', 'name_Billy Sharp', 'name_Bjorn Engels', 'name_Björn Engels', 'name_Bobby Clark', 'name_Bobby De Cordova-Reid', 'name_Bobby Decordova-Reid', 'name_Bobby Thomas', 'name_Boubacar Kamara', 'name_Boubacar Traoré', 'name_Boubakary Soumaré', 'name_Braian Ojeda Rodríguez', 'name_Brandon Austin', 'name_Brandon Pierrick', 'name_Brandon Williams', 'name_Branislav Ivanovic', 'name_Brenden Aaronson', 'name_Brennan Johnson', 'name_Brice Samba', 'name_Bruno André Cavaco Jordao', 'name_Bruno André Cavaco Jordão', 'name_Bruno Borges Fernandes', 'name_Bruno Guimarães Rodriguez Moura', 'name_Bruno Miguel Borges Fernandes', 'name_Bryan Gil Salvatierra', 'name_Bryan Mbeumo', 'name_Bukayo Saka', 'name_Caleb Taylor', 'name_Caleb Watts', 'name_Callum Hudson-Odoi', 'name_Callum Robinson', 'name_Callum Wilson', 'name_Calum Chambers', 'name_Calvin Ramsay', 'name_Cameron Archer', 'name_Cameron Carter-Vickers', 'name_Cameron Peupion', 'name_Cameron Plain', 'name_Caoimhin Kelleher', 'name_Carlos Alcaraz', 'name_Carlos Henrique Casimiro', 'name_Carlos Ribeiro Dias', 'name_Carlos Vinicius Alves Morais', 'name_Carlos Vinícius Alves Morais', 'name_Carney Chukwuemeka', 'name_Cedric Kipre', 'name_Cengiz Ünder', 'name_Cenk Tosun', 'name_Charlie Austin', 'name_Charlie Cresswell', 'name_Charlie Goode', 'name_Charlie Patino', 'name_Charlie Robinson', 'name_Charlie Savage', 'name_Charlie Taylor', 'name_Charlie Whitaker', 'name_Che Adams', 'name_Cheick Doucouré', 'name_Cheikh Diaby', 'name_Cheikhou Kouyaté', 'name_Chem Campbell', 'name_Chris Basham', 'name_Chris Mepham', 'name_Chris Richards', 'name_Chris Smalling', 'name_Chris Wood', 'name_Christian Atsu', 'name_Christian Benteke', 'name_Christian Eriksen', 'name_Christian Fuchs', 'name_Christian Kabasele', 'name_Christian Marques', 'name_Christian Nørgaard', 'name_Christian Pulisic', 'name_Christian Saydee', 'name_Christian Walton', 'name_Christoph Zimmermann', 'name_Christos Tzolis', 'name_Ciaran Clark', 'name_Cieran Slicker', 'name_Claudio Bravo', 'name_Claudio Gomes', 'name_Clément Lenglet', 'name_Cody Drameh', 'name_Cody Gakpo', 'name_Cole Palmer', 'name_Connor Roberts', 'name_Connor Ronan', 'name_Connor Wickham', 'name_Conor Bradley', 'name_Conor Coady', 'name_Conor Coventry', 'name_Conor Gallagher', 'name_Conor Hourihane', 'name_Conor Townsend', 'name_Conrad Egan-Riley', 'name_Craig Cathcart', 'name_Craig Dawson', 'name_Cristian Romero', 'name_Cristiano Ronaldo dos Santos Aveiro', 'name_Crysencio Summerville', 'name_Curtis Jones', 'name_Cyrus Christie', 'name_Cédric Alves Soares', 'name_Cédric Soares', 'name_César Azpilicueta', 'name_Dale Stephens', 'name_Dale Taylor', 'name_Dan Burn', 'name_Dan Gosling', 'name_Dane Scarlett', 'name_Dango Ouattara', 'name_Daniel Adu-Adjei', 'name_Daniel Amartey', 'name_Daniel Bachmann', 'name_Daniel Bentley', 'name_Daniel Castelo Podence', 'name_Daniel Ceballos Fernández', 'name_Daniel Chesters', 'name_Daniel Iversen', 'name_Daniel James', 'name_Daniel Jebbison', 'name_Daniel Langley', \"name_Daniel N'Lundulu\", 'name_Danilo dos Santos de Oliveira', 'name_Danny Ings', 'name_Danny Rose', 'name_Danny Ward', 'name_Danny Welbeck', 'name_Dara Costelloe', \"name_Dara O'Shea\", 'name_Darko Gyabi', 'name_Darnell Furlong', 'name_Darren Randolph', 'name_Darwin Núñez Ribeiro', 'name_David Brooks', 'name_David Button', 'name_David Datro Fofana', 'name_David De Gea Quintana', 'name_David Luiz Moreira Marinho', 'name_David Martin', 'name_David McGoldrick', 'name_David Ozoh', 'name_David Raya Martin', 'name_David de Gea', 'name_Davinson Sánchez', 'name_Davy Pröpper', 'name_DeAndre Yedlin', 'name_Dean Henderson', 'name_Declan Rice', 'name_Dejan Kulusevski', 'name_Dele Alli', 'name_Demarai Gray', 'name_Denis Odoi', 'name_Denis Zakaria', 'name_Deniz Undav', 'name_Dennis Praet', 'name_Dexter Lembikisa', 'name_Diego Carlos Santos Silva', 'name_Diego Da Silva Costa', 'name_Diego Llorente', 'name_Dilan Markanday', 'name_Dimitris Giannoulis', 'name_Diogo Dalot Teixeira', 'name_Diogo Jota', 'name_Diogo Pinheiro Monteiro', 'name_Diogo Teixeira da Silva', 'name_Dion Sanderson', 'name_Divin Mubama', 'name_Divock Origi', 'name_Djed Spence', 'name_Domingos Quina', 'name_Dominic Ballard', 'name_Dominic Calvert-Lewin', 'name_Dominic Sadi', 'name_Dominic Solanke', 'name_Dominic Thompson', 'name_Donny van de Beek', 'name_Douglas Luiz Soares de Paulo', 'name_Duje Caleta-Car', 'name_Dwight Gayle', 'name_Dwight McNeil', 'name_Dynel Simeu', 'name_Eberechi Eze', 'name_Ed Turns', 'name_Eddie Nketiah', 'name_Ederson Santana de Moraes', 'name_Edinson Cavani', 'name_Edo Kayembe', 'name_Edouard Mendy', 'name_Edward Nketiah', 'name_Eldin Jakupovic', 'name_Elia Caprile', 'name_Ellery Balcombe', 'name_Elliot Anderson', 'name_Ellis Simms', 'name_Emerson Aparecido Leite de Souza Junior', 'name_Emerson Leite de Souza Junior', 'name_Emerson Palmieri dos Santos', 'name_Emil Krafth', 'name_Emile Smith Rowe', 'name_Emiliano Buendía Stati', 'name_Emiliano Marcondes', 'name_Emiliano Martínez', 'name_Emiliano Martínez Romero', 'name_Emmanuel Dennis', 'name_Enda Stevens', 'name_Enock Mwepu', 'name_Enzo Fernández', 'name_Eric Bailly', 'name_Eric Dier', 'name_Eric Garcia', 'name_Erik Lamela', 'name_Erik Pieters', 'name_Erling Haaland', 'name_Ethan Ampadu', 'name_Ethan Nwaneri', 'name_Ethan Pinnock', 'name_Ethan Wady', 'name_Euan Pollock', 'name_Evan Ferguson', 'name_Ezgjan Alioski', 'name_Ezri Konsa Ngoyo', 'name_Fabian Delph', 'name_Fabian Schär', 'name_Fabio Carvalho', 'name_Fabio Henrique Tavares', 'name_Fabio Silva', 'name_Fabián Balbuena', 'name_Fabricio Agosto Ramírez', 'name_Facundo Buonanotte', 'name_Facundo Pellistri', 'name_Facundo Pellistri Rebollo', 'name_Faustino Anjorin', 'name_Federico Fernández', 'name_Felipe Anderson Pereira Gomes', 'name_Felipe Augusto de Almeida Monteiro', 'name_Felix Nmecha', 'name_Femi Seriki', 'name_Fernando Luiz Rosa', 'name_Fernando Marçal', 'name_Ferran Torres', 'name_Fikayo Tomori', 'name_Filip Benkovic', 'name_Filip Krovinovic', 'name_Filip Marschall', 'name_Fin Stevens', 'name_Finley Stevens', 'name_Florian Lejeune', 'name_Florin Andone', 'name_Flynn Downes', 'name_Folarin Balogun', 'name_Francisco Casilla Cortés', 'name_Francisco Femenía Far', 'name_Francisco Jorge Tomás Oliveira', 'name_Francisco Machado Mota de Castro Trincão', 'name_Francisco Sierralta', 'name_Frank Onyeka', 'name_Frankie Maguire', 'name_Fraser Forster', 'name_Freddie Woodman', 'name_Frederico Rodrigues de Paula Santos', 'name_Frederik Alves', 'name_Frédéric Guilbert', 'name_Fábio Ferreira Vieira', 'name_Fábio Freitas Gouveia Carvalho', 'name_Gabriel Fernando de Jesus', 'name_Gabriel Magalhães', 'name_Gabriel Martinelli Silva', 'name_Gabriel Teodoro Martinelli Silva', 'name_Gabriel dos Santos Magalhães', 'name_Gaetano Berardi', 'name_Garang Kuol', 'name_Gareth Bale', 'name_Gary Cahill', 'name_Gavin Bazunu', 'name_Gedson Carvalho Fernandes', 'name_George Abbott', 'name_George Baldock', 'name_George Shelvey', 'name_George Wickens', 'name_Georginio Rutter', 'name_Georginio Wijnaldum', 'name_Gianluca Scamacca', 'name_Giovani Lo Celso', 'name_Giulian Biancone', 'name_Glenn Murray', 'name_Gonçalo Manuel Ganchinho Guedes', 'name_Grady Diangana', 'name_Granit Xhaka', 'name_Grant Hanley', 'name_Gustavo Henrique Furtado Scarpa', 'name_Gylfi Sigurdsson', 'name_Hakim Ziyech', 'name_Hal Robson-Kanu', 'name_Halil Dervişoğlu', 'name_Hamed Traorè', 'name_Hamza Choudhury', 'name_Hannibal Mejbri', 'name_Harrison Ashby', 'name_Harrison Reed', 'name_Harry Arter', 'name_Harry Boyes', 'name_Harry Kane', 'name_Harry Lewis', 'name_Harry Maguire', 'name_Harry Souttar', 'name_Harry Toffolo', 'name_Harry Tyrer', 'name_Harry Wilson', 'name_Harry Winks', 'name_Harvey Barnes', 'name_Harvey Davies', 'name_Harvey Elliott', 'name_Harvey Griffiths', 'name_Harvey Vale', 'name_Harvey White', 'name_Hassane Kamara', 'name_Haydon Roberts', 'name_Hee-Chan Hwang', 'name_Henri Lansbury', 'name_Heung-Min Son', 'name_Hugo Bueno', 'name_Hugo Bueno López', 'name_Hugo Lloris', 'name_Hwang Hee-chan', 'name_Héctor Bellerín', 'name_Héctor Junior Firpo Adames', 'name_Hélder Wander Sousa de Azevedo e Costa', 'name_Ian Carlo Poveda-Ocampo', 'name_Ibrahima Diallo', 'name_Ibrahima Konaté', 'name_Idrissa Gueye', 'name_Iliman Ndiaye', 'name_Ilkay Gündogan', 'name_Illan Meslier', 'name_Illia Zabarnyi', 'name_Imari Samuels', 'name_Imrân Louza', 'name_Indiana Vassilev', 'name_Isaac Hayden', 'name_Isaac Price', 'name_Isaac Success Ajayi', 'name_Ishé Samuels-Smith', 'name_Islam Slimani', 'name_Ismaila Sarr', 'name_Issa Diop', 'name_Ivan Neves Abreu Cavaleiro', 'name_Ivan Perišić', 'name_Ivan Ricardo Neves Abreu Cavaleiro', 'name_Ivan Toney', 'name_Jack Butland', 'name_Jack Colback', 'name_Jack Cork', 'name_Jack Grealish', 'name_Jack Grieves', 'name_Jack Harrison', 'name_Jack Hinshelwood', 'name_Jack Jenkins', \"name_Jack O'Connell\", 'name_Jack Robinson', 'name_Jack Stacey', 'name_Jack Stephens', 'name_Jack Wells-Morrison', 'name_Jack Wilshere', 'name_Jackson Smith', 'name_Jacob Murphy', 'name_Jacob Ramsey', 'name_Jacob Sørensen', 'name_Jaden Philogene-Bidace', 'name_Jadon Sancho', 'name_Jaidon Anthony', 'name_Jairo Riedewald', 'name_Jake Cain', 'name_Jake Livermore', 'name_Jake Vokins', 'name_Jakub Kiwior', 'name_Jakub Moder', 'name_Jakub Ojrzynski', 'name_Jamaal Lascelles', 'name_Jamal Baptiste', 'name_Jamal Lewis', 'name_Jamal Lowe', 'name_James Bree', 'name_James Furlong', 'name_James Garner', 'name_James Hill', 'name_James Justin', 'name_James Maddison', 'name_James McArthur', 'name_James McAtee', 'name_James McCarthy', 'name_James Milner', 'name_James Morris', 'name_James Rodríguez', 'name_James Storer', 'name_James Tarkowski', 'name_James Tomkins', 'name_James Trafford', 'name_James Ward-Prowse', 'name_James Wright', 'name_Jamie Bowden', 'name_Jamie Shackleton', 'name_Jamie Vardy', 'name_Jan Bednarek', 'name_Jan Paul van Hecke', 'name_Jan Zamburek', 'name_Jannik Vestergaard', 'name_Japhet Tanganga', 'name_Jarell Quansah', 'name_Jarosław Jach', 'name_Jarrad Branthwaite', 'name_Jarrod Bowen', 'name_Jason Steele', 'name_Javier Manquillo', 'name_Javier Manquillo Gaitán', 'name_Jay Rodriguez', 'name_Jay Stansfield', 'name_Jay-Roy Grot', 'name_Jayden Bogle', 'name_Jayson Molumby', 'name_Jean Michaël Seri', 'name_Jean-Philippe Gbamin', 'name_Jean-Philippe Mateta', 'name_Jed Steer', 'name_Jeff Hendrick', 'name_Jefferson Lerma Solís', 'name_Jeffrey Schlupp', 'name_Jensen Weir', 'name_Jeremiah Chilokoa-Mullen', 'name_Jeremy Ngakia', 'name_Jeremy Sarmiento', 'name_Jeremy Sarmiento Morante', 'name_Jesse Lingard', 'name_Jesurun Rak-Sakyi', 'name_Jhon Durán', 'name_Jimmy Dunne', 'name_Jimmy Morgan', 'name_Joachim Andersen', 'name_Joe Ayodele-Aribo', 'name_Joe Bryan', 'name_Joe Gelhardt', 'name_Joe Hart', 'name_Joe Lolley', 'name_Joe Rodon', 'name_Joe Rothwell', 'name_Joe White', 'name_Joe Willock', 'name_Joe Wormleighton', 'name_Joe Worrall', 'name_Joel Matip', 'name_Joel Mumbongo', 'name_Joel Robles', 'name_Joel Ward', 'name_Joelinton Cássio Apolinário de Lira', 'name_Johann Berg Gudmundsson', 'name_John Egan', 'name_John Fleck', 'name_John Lundstram', 'name_John McGinn', 'name_John Ruddy', 'name_John Stones', 'name_John-Kymani Gordon', 'name_Jon McCracken', 'name_Jonas Lössl', 'name_Jonathan Castro Otto', 'name_Jonathan Leko', 'name_Jonathan Panzo', 'name_Jonathan Rowe', 'name_Jonathan Tomkinson', 'name_Jonjo Shelvey', 'name_Jonjoe Kenny', 'name_Jonny Evans', 'name_Jordan Ayew', 'name_Jordan Henderson', 'name_Jordan Hugill', 'name_Jordan Pickford', 'name_Jordan Smith', 'name_Jordan Stevens', 'name_Jordan Zemura', 'name_Jorge Luiz Frello Filho', 'name_Joseph Anang', 'name_Joseph Gomez', 'name_Joseph Hodge', 'name_Joseph Hungbo', 'name_Joseph McGlynn', 'name_Joseph Whitworth', 'name_Joseph Willock', 'name_Josh Benson', 'name_Josh Brownhill', 'name_Josh Dasilva', 'name_Josh Feeney', 'name_Josh Maja', 'name_Josh Martin', 'name_Josh Onomah', 'name_Josh Sims', 'name_Josh Wilson-Esbrand', 'name_Joshua King', 'name_Joshua Sargent', 'name_Joshua Wilson-Esbrand', 'name_José Diogo Dalot Teixeira', 'name_José Ignacio Peleteiro Romallo', 'name_José Izquierdo', 'name_José Malheiro de Sá', 'name_João Cancelo', 'name_João Filipe Iria Santos Moutinho', 'name_João Félix Sequeira', 'name_João Palhinha Gonçalves', 'name_João Pedro Cavaco Cancelo', 'name_João Pedro Junqueira de Jesus', 'name_João Victor Gomes da Silva', 'name_João Virgínia', 'name_Joël Veltman', 'name_Juan Camilo Hernández Suárez', 'name_Juan Foyth', 'name_Juan Larios López', 'name_Juan Mata', 'name_Julian Jeanvier', 'name_Julio Enciso', 'name_Julián Álvarez', 'name_Junior Firpo Adames', 'name_Junior Stanislas', 'name_Juraj Kucka', 'name_Jürgen Locadia', 'name_Kacper Kozłowski', 'name_Kadan Young', 'name_Kaden Rodney', 'name_Kaelan Casey', 'name_Kai Havertz', 'name_Kaide Gordon', 'name_Kaine Hayden', 'name_Kaine Kesler Hayden', 'name_Kalidou Koulibaly', 'name_Kalvin Phillips', 'name_Kamaldeen Sulemana', 'name_Kamari Doyle', 'name_Kamil Conteh', 'name_Kamil Grosicki', 'name_Kamil Miazek', 'name_Kaoru Mitoma', 'name_Karl Darlow', 'name_Karl Hein', 'name_Karlan Grant', 'name_Karlo Ziger', 'name_Kasey McAteer', 'name_Kasper Schmeichel', 'name_Kayky da Silva Chagas', 'name_Kayne Ramsay', 'name_Kean Bryan', 'name_Keane Lewis-Potter', 'name_Keinan Davis', 'name_Kelechi Iheanacho', 'name_Kelland Watts', 'name_Ken Sema', 'name_Kenneth Zohore', 'name_Kenny McLean', 'name_Kenny Tete', 'name_Kepa Arrizabalaga', 'name_Kevin De Bruyne', 'name_Kevin Long', 'name_Kevin Mbabu', 'name_Kevin McDonald', 'name_Kevin Schade', 'name_Keylor Navas', 'name_Kgaogelo Chauke', 'name_Ki-Jana Hoever', 'name_Kieffer Moore', 'name_Kieran Dowell', 'name_Kieran Gibbs', 'name_Kieran Tierney', 'name_Kieran Trippier', 'name_Kiernan Dewsbury-Hall', 'name_Killian Phillips', 'name_Kjell Scherpen', 'name_Kobbie Mainoo', 'name_Kofi Balmer', 'name_Konstantinos Mavropanos', 'name_Konstantinos Tsimikas', 'name_Kortney Hause', 'name_Kris Moore', 'name_Kristian Sekularac', 'name_Kristoffer Ajer', 'name_Kristoffer Klaesson', 'name_Krisztián Hegyi', 'name_Kurt Zouma', 'name_Kwadwo Baah', 'name_Kyle Bartley', 'name_Kyle Edwards', 'name_Kyle John', 'name_Kyle Walker', 'name_Kyle Walker-Peters', 'name_Kyron Gordon', 'name_Lamare Bogarde', 'name_Layvin Kurzawa', 'name_Leander Dendoncker', 'name_Leandro Trossard', 'name_Lee Grant', 'name_Lee Peltier', 'name_Leif Davis', 'name_Leighton Clarkson', 'name_Leo Fuhr Hjelde', 'name_Leon Bailey', 'name_Leonardo Campana', 'name_Levi Colwill', 'name_Lewis Bate', 'name_Lewis Brunt', 'name_Lewis Cook', 'name_Lewis Dobbin', 'name_Lewis Dunk', 'name_Lewis Hall', 'name_Lewis Miley', \"name_Lewis O'Brien\", 'name_Lewis Payne', 'name_Lewis Richards', 'name_Lewis Richardson', 'name_Lewis Warrington', 'name_Liam Cooper', 'name_Liam Delap', 'name_Liam Gibbs', 'name_Liam Hughes', 'name_Liam McCarron', 'name_Lino Sousa', 'name_Lisandro Martínez', 'name_Lloyd Kelly', 'name_Loris Karius', 'name_Louie Moulden', 'name_Loïc Badé', 'name_Loïc Mbe Soh', 'name_Lucas De Bolle', 'name_Lucas Digne', 'name_Lucas Rodrigues Moura da Silva', 'name_Lucas Tolentino Coelho de Lima', 'name_Lucas Torreira', 'name_Lucas Torreira di Pascua', 'name_Ludwig Augustinsson', 'name_Luis Díaz', 'name_Luis Sinisterra Lucumí', 'name_Luka Milivojevic', 'name_Lukas Rupp', 'name_Lukasz Fabianski', 'name_Luke Ayling', 'name_Luke Chambers', 'name_Luke Cundle', 'name_Luke Freeman', 'name_Luke Harris', 'name_Luke Mbete', 'name_Luke Mbete-Tabu', 'name_Luke Plange', 'name_Luke Shaw', 'name_Luke Thomas', 'name_Lyanco Evangelista Silveira Neves Vojnovic', 'name_Lyanco Silveira Neves Vojnovic', 'name_Lyle Taylor', 'name_Lys Mousset', 'name_Léo Bonatini', 'name_Mace Goodridge', 'name_Mads Bech Sørensen', 'name_Mads Bidstrup', 'name_Mads Roerslev Rasmussen', 'name_Mahmoud Ahmed Ibrahim Hassan', 'name_Malang Sarr', 'name_Malcolm Ebiowei', 'name_Mamadou Sakho', 'name_Manor Solomon', 'name_Manuel Akanji', 'name_Manuel Lanzini', 'name_Marc Albrighton', 'name_Marc Cucurella', 'name_Marc Cucurella Saseta', 'name_Marc Guéhi', 'name_Marc Jurado Gomez', 'name_Marc Leonard', 'name_Marc Navarro', 'name_Marc Roca Junqué', 'name_Marcel Lavinier', 'name_Marcel Sabitzer', 'name_Marcelo Flores', 'name_Marcelo de Araújo Pitaluga Filho', 'name_Marco Stiepermann', 'name_Marcos Alonso', 'name_Marcos Rojo', 'name_Marcos Senesi', 'name_Marcus Bettinelli', 'name_Marcus Forss', 'name_Marcus Oliveira Alencar', 'name_Marcus Rashford', 'name_Marcus Tavernier', 'name_Marek Rodák', 'name_Mario Lemina', 'name_Mark Gillespie', 'name_Mark Noble', 'name_Mark Travers', 'name_Martial Godo', 'name_Martin Dubravka', 'name_Martin Kelly', 'name_Martin Ødegaard', 'name_Martín Montoya', 'name_Marvelous Nakamba', 'name_Mason Greenwood', 'name_Mason Holgate', 'name_Mason Mount', 'name_Matej Kovár', 'name_Matej Vydra', 'name_Mateo Joseph Fernández', 'name_Mateo Kovacic', 'name_Mateus Cardoso Lemos Martins', 'name_Mateusz Bogusz', 'name_Mateusz Klich', 'name_Mateusz Lis', 'name_Matheus Luiz Nunes', 'name_Matheus Pereira', 'name_Matheus Santos Carneiro Da Cunha', 'name_Mathew Ryan', 'name_Mathias Jensen', 'name_Mathias Jorgensen', 'name_Mathias Normann', 'name_Matija Sarkic', 'name_Matija Šarkić', 'name_Matt Clarke', 'name_Matt Doherty', 'name_Matt Macey', 'name_Matt Phillips', 'name_Matt Ritchie', 'name_Matt Targett', 'name_Matt Turner', 'name_Matteo Guendouzi', 'name_Matthew Cash', 'name_Matthew Clarke', 'name_Matthew Cox', 'name_Matthew Craig', 'name_Matthew Dibley-Dias', 'name_Matthew Longstaff', 'name_Matthew Lowton', 'name_Matthew Pollock', 'name_Matthew Smith', 'name_Matty Cash', 'name_Matty James', 'name_Mattéo Guendouzi', 'name_Matías Viña', 'name_Mauro Bandeira', 'name_Max Aarons', 'name_Max Kilman', 'name_Max Kinsey-Wellings', 'name_Max Lowe', 'name_Max Meyer', 'name_Max Sanders', 'name_Max Thompson', 'name_Maxime Le Marchand', 'name_Maximilian Wöber', 'name_Maxwel Cornet', 'name_Maxwell Haygarth', 'name_Mazeed Ogungbo', 'name_Mbaye Diagne', 'name_Mbwana Ally Samatta', 'name_Mbwana Samatta', 'name_Meritan Shabani', 'name_Mesut Özil', 'name_Michael Dacosta Gonzalez', 'name_Michael Hector', 'name_Michael Keane', 'name_Michael McGovern', 'name_Michael Obafemi', 'name_Michael Olakigbe', 'name_Michael Olise', 'name_Michael Verrips', 'name_Michail Antonio', 'name_Michal Karbownik', 'name_Michy Batshuayi', 'name_Miguel Almirón', 'name_Miguel Almirón Rejala', 'name_Miguel Azeez', 'name_Mika Biereth', 'name_Mikkel Damsgaard', 'name_Milot Rashica', 'name_Mislav Orsic', 'name_Mohamed Dräger', 'name_Mohamed Elneny', 'name_Mohamed Elyounoussi', 'name_Mohamed Naser El Sayed Elneny', 'name_Mohamed Salah', 'name_Mohammed Salisu', 'name_Moise Kean', 'name_Moisés Caicedo', 'name_Moisés Caicedo Corozo', 'name_Morgan Gibbs-White', 'name_Morgan Sanson', 'name_Moussa Djenepo', 'name_Moussa Niakhaté', 'name_Moussa Sissoko', 'name_Mykhailo Mudryk', 'name_Myles Peart-Harris', 'name_Máximo Perrone', \"name_N'Golo Kanté\", 'name_Naby Keita', 'name_Nampalys Mendy', 'name_Naouirou Ahamada', 'name_Nathan Aké', 'name_Nathan Bishop', 'name_Nathan Broadhead', 'name_Nathan Butler-Oyedeji', 'name_Nathan Collins', 'name_Nathan Ferguson', 'name_Nathan Fraser', 'name_Nathan Patterson', 'name_Nathan Redmond', 'name_Nathan Tella', 'name_Nathan Trott', 'name_Nathan Young-Coombes', 'name_Nathaniel Chalobah', 'name_Nathaniel Clyne', 'name_Nathaniel Phillips', 'name_Nayef Aguerd', 'name_Neal Maupay', 'name_Neco Williams', 'name_Neeskens Kebano', 'name_Neil Taylor', 'name_Nemanja Matic', 'name_Niall Huggins', 'name_Nick Pope', \"name_Nico O'Reilly\", 'name_Nicolas Nkoulou', 'name_Nicolas Pépé', 'name_Nicolás Otamendi', 'name_Niels Nkounkou', 'name_Nigel Lonwijk', 'name_Nikola Vlasic', 'name_Nile John', 'name_Nohan Kenneh', 'name_Noni Madueke', 'name_Norberto Murara Neto', 'name_Nuno Varela Tavares', 'name_Nélson Cabral Semedo', 'name_Odeluga Offiah', 'name_Odion Ighalo', 'name_Odsonne Edouard', 'name_Oghenekaro Peter Etebo', 'name_Okay Yokuslu', 'name_Ola Aina', 'name_Oleksandr Zinchenko', 'name_Oliver Burke', 'name_Oliver Casey', 'name_Oliver Hammond', 'name_Oliver McBurnie', 'name_Oliver Norwood', 'name_Oliver Skipp', 'name_Olivier Giroud', 'name_Oliwier Zych', 'name_Ollie Watkins', 'name_Oluwasemilogo Adesewo Ibidapo Ajayi', 'name_Omar Richards', 'name_Omari Hutchinson', 'name_Onel Hernández', 'name_Orel Mangala', 'name_Oriol Romeu Vidal', 'name_Oskar Buur', 'name_Owen Beck', 'name_Owen Bevan', 'name_Owen Dodgson', 'name_Owen Goodman', 'name_Owen Otasowie', 'name_Ozan Kabak', 'name_Ozan Tufan', 'name_Pablo Fornals', 'name_Pablo Fornals Malla', 'name_Pablo Hernández Domínguez', 'name_Pablo Marí', 'name_Pablo Marí Villar', 'name_Pablo Sarabia', 'name_Pape Matar Sarr', 'name_Paris Maghoma', 'name_Pascal Groß', 'name_Pascal Struijk', 'name_Patrick Bamford', 'name_Patrick Cutrone', 'name_Patrick van Aanholt', 'name_Patrik Gunnarsson', 'name_Patson Daka', 'name_Paul Dummett', 'name_Paul Onuachu', 'name_Paul Pogba', 'name_Paulo Gazzaniga', 'name_Paulo Gazzaniga Farias', 'name_Pedro Lomba Neto', 'name_Pedro Porro', 'name_Pelenda Joshua Dasilva', 'name_Percy Tau', 'name_Pervis Estupiñán', 'name_Phil Bardsley', 'name_Phil Foden', 'name_Phil Jagielka', 'name_Phil Jones', 'name_Philip Billing', 'name_Philip Zinckernagel', 'name_Philippe Coutinho Correia', 'name_Pierluigi Gollini', 'name_Pierre Ekwah', 'name_Pierre Lees-Melou', 'name_Pierre-Emerick Aubameyang', 'name_Pierre-Emile Højbjerg', 'name_Pontus Jansson', 'name_Przemyslaw Placheta', 'name_Raheem Sterling', 'name_Raphael Dias Belloli', 'name_Raphaël Varane', 'name_Rasmus Kristensen', 'name_Rayan Ait Nouri', 'name_Rayan Aït-Nouri', 'name_Raúl Jiménez', 'name_Reda Khadra', 'name_Reece Hannam', 'name_Reece James', 'name_Reece Welch', 'name_Reiss Nelson', 'name_Rekeem Harper', 'name_Remi Matthews', 'name_Remo Freuler', 'name_Renan Augusto Lodi dos Santos', 'name_Reuell Walters', 'name_Rhian Brewster', 'name_Rhys Bennett', 'name_Rhys Williams', 'name_Ricardo Barbosa Pereira', 'name_Ricardo Domingos Barbosa Pereira', 'name_Richard Nartey', 'name_Richarlison de Andrade', 'name_Richie Laryea', 'name_Rico Henry', 'name_Rico Lewis', 'name_Riyad Mahrez', 'name_Rob Holding', 'name_Robbie Brady', 'name_Robert Elliot', 'name_Robert Kenedy Nunes do Nascimento', 'name_Robert Snodgrass', 'name_Robert Street', 'name_Robert Sánchez', 'name_Roberto Firmino', 'name_Roberto Jimenez Gago', 'name_Robin Koch', 'name_Robin Olsen', 'name_Rodrigo Bentancur', 'name_Rodrigo Hernandez', 'name_Rodrigo Moreno', 'name_Rodrigo Muniz Carvalho', 'name_Rolando Aarons', 'name_Romain Perraud', 'name_Romain Saïss', 'name_Romaine Mundle', 'name_Romaine Sawyers', 'name_Romelu Lukaku', 'name_Romeo Lavia', 'name_Roméo Lavia', 'name_Ross Barkley', 'name_Ruben Loftus-Cheek', 'name_Rui Pedro dos Santos Patrício', 'name_Ryan Alebiosu', 'name_Ryan Astley', 'name_Ryan Bennett', 'name_Ryan Bertrand', 'name_Ryan Christie', 'name_Ryan Finnigan', 'name_Ryan Fraser', 'name_Ryan Fredericks', 'name_Ryan Giles', 'name_Ryan Inniss', 'name_Ryan Sessegnon', 'name_Ryan Trevitt', 'name_Ryan Yates', 'name_Rúben Diogo da Silva Neves', 'name_Rúben Gato Alves Dias', 'name_Rúben Gonçalo Silva Nascimento Vinagre', 'name_Rúben Nascimento Vinagre', 'name_Rúben Santos Gato Alves Dias', 'name_Rúben da Silva Neves', 'name_Rúnar Alex Rúnarsson', 'name_Sadio Mané', \"name_Salah-Eddine Oulad M'hand\", 'name_Salomón Rondón', 'name_Sam Byram', 'name_Sam Field', 'name_Sam Greenwood', 'name_Sam Johnstone', 'name_Sam Surridge', 'name_Sam Waller', 'name_Sam Woods', 'name_Saman Ghoddos', 'name_Samir Caetano de Souza Santos', 'name_Sammy Braybrooke', 'name_Samuel Amo-Ameyaw', 'name_Samuel Edozie', 'name_Samuel Kalu', 'name_Sander Berge', 'name_Sasa Kalajdzic', 'name_Sasa Lukic', 'name_Saïd Benrahma', 'name_Saúl Ñíguez', 'name_Scott Banks', 'name_Scott Carson', 'name_Scott Dann', 'name_Scott McKenna', 'name_Scott McTominay', 'name_Sead Kolasinac', 'name_Seamus Coleman', 'name_Sean Longstaff', 'name_Sean McAllister', 'name_Sebastian Revan', 'name_Sepp van den Berg', 'name_Serge Aurier', 'name_Sergi Canós', 'name_Sergi Canós Tenés', 'name_Sergio Agüero', 'name_Sergio Gómez', 'name_Sergio Reguilón', 'name_Sergio Romero', 'name_Shandon Baptiste', 'name_Shane Duffy', 'name_Shane Flynn', 'name_Shane Long', 'name_Shaqai Forde', 'name_Shea Charles', 'name_Shkodran Mustafi', 'name_Shola Shoretire', 'name_Sidnei Tavares', 'name_Sil Swinkels', 'name_Simon Moore', 'name_Siriki Dembélé', 'name_Sofiane Boufal', 'name_Sokratis Papastathopoulos', 'name_Solly March', 'name_Solomon March', 'name_Son Heung-min', 'name_Sonny Perkins', 'name_Stanley Mills', 'name_Stefan Bajcetic', 'name_Stefan Johansen', 'name_Stefan Ortega Moreno', 'name_Stefan Parkes', 'name_Stephen Henderson', 'name_Steve Cook', 'name_Steven Alzate', 'name_Steven Bergwijn', 'name_Stipe Perica', 'name_Stuart Armstrong', 'name_Stuart Dallas', 'name_Stuart McKinstry', 'name_Sven Botman', 'name_Sylvester Jasper', 'name_Sébastien Haller', 'name_Sékou Mara', 'name_Tahith Chong', 'name_Taiwo Awoniyi', 'name_Takehiro Tomiyasu', 'name_Takumi Minamino', 'name_Tammy Abraham', 'name_Tanguy Ndombele', 'name_Tariq Lamptey', 'name_Tariqe Fosu-Henry', 'name_Tawanda Maswanhise', 'name_Taylor Gardner-Hickman', 'name_Taylor Harwood-Bellis', 'name_Taylor Perry', 'name_Taylor Richards', 'name_Tayo Adaramola', 'name_Teddy Jenks', 'name_Teden Mengi', 'name_Teemu Pukki', 'name_Terence Kongolo', 'name_Terry Ablade', 'name_Thakgalo Leshabela', 'name_Thanawat Suengchitthawon', 'name_Theo Corbeanu', 'name_Theo Walcott', 'name_Thiago Alcántara do Nascimento', 'name_Thiago Emiliano da Silva', 'name_Thiago Thiago', 'name_Thierry Small', 'name_Thilo Kehrer', 'name_Thomas Cannon', 'name_Thomas Dickson-Peters', 'name_Thomas McGill', 'name_Thomas Partey', 'name_Thomas Strakosha', 'name_Tiago Çukur', 'name_Tim Iroegbunam', 'name_Tim Krul', 'name_Tim Ream', 'name_Timo Werner', 'name_Timothy Castagne', 'name_Timothy Fosu-Mensah', 'name_Tino Livramento', 'name_Tobi Omole', 'name_Toby Alderweireld', 'name_Toby King', 'name_Todd Cantwell', 'name_Tom Cairney', 'name_Tom Cleverley', 'name_Tom Davies', 'name_Tom Heaton', 'name_Tom McGill', 'name_Tomas Soucek', \"name_Tommi O'Reilly\", 'name_Tommy Doyle', 'name_Tony Springett', 'name_Tosin Adarabioyo', 'name_Toti António Gomes', 'name_Travis Patterson', 'name_Trent Alexander-Arnold', 'name_Trevoh Chalobah', 'name_Tristan Crama', 'name_Troy Deeney', 'name_Troy Parrott', 'name_Tyler Adams', 'name_Tyler Dibling', 'name_Tyler Morton', 'name_Tyler Onyango', 'name_Tyler Roberts', 'name_Tyrell Malacia', 'name_Tyrese Francois', 'name_Tyrick Mitchell', 'name_Tyrone Mings', 'name_Valentino Livramento', 'name_Vicente Guaita', 'name_Victor Kristiansen', 'name_Victor Lindelöf', 'name_Viljami Sinisalo', 'name_Vincent Angelini', 'name_Virgil van Dijk', 'name_Vitalii Mykolenko', 'name_Vitaly Janelt', 'name_Vitor Ferreira', 'name_Vladimir Coufal', 'name_Vontae Daley-Campbell', 'name_Wanya Marçal-Madivadua', 'name_Wayne Hennessey', 'name_Wes Foderingham', 'name_Wes Morgan', 'name_Wesley Fofana', 'name_Wesley Moraes', 'name_Weston McKennie', 'name_Wilfred Ndidi', 'name_Wilfried Gnonto', 'name_Wilfried Zaha', 'name_Will Dennis', 'name_Will Ferry', 'name_Will Hughes', 'name_Will Norris', 'name_Will Smallbone', 'name_William Fish', 'name_William Osula', 'name_William Saliba', 'name_William Smallbone', 'name_William Troost-Ekong', 'name_Willian Borges Da Silva', 'name_Willian Borges da Silva', 'name_Willian José Da Silva', 'name_Willy Boly', 'name_Willy Caballero', 'name_Winston Reid', 'name_Wout Faes', 'name_Wout Weghorst', 'name_Xande Nascimento da Costa Silva', 'name_Xherdan Shaqiri', 'name_Yago de Santiago Alonso', 'name_Yan Valery', 'name_Yasin Ayari', 'name_Yegor Yarmolyuk', 'name_Yerry Mina', 'name_Yerson Mosquera Valdelamar', 'name_Yoane Wissa', 'name_Yoshinori Muto', 'name_Youri Tielemans', 'name_Yves Bissouma', 'name_Zach Awe', 'name_Zack Steffen', 'name_Zak Brunt', 'name_Zak Swanson', 'name_Zeze Steven Sessegnon', 'name_Zidane Iqbal', 'name_Álvaro Fernández', 'name_Çaglar Söyüncü', 'name_Ørjan Nyland', 'position_DEF', 'position_FWD', 'position_GK', 'position_GKP', 'position_MID', 'team_x_Arsenal', 'team_x_Aston Villa', 'team_x_Bournemouth', 'team_x_Brentford', 'team_x_Brighton', 'team_x_Burnley', 'team_x_Chelsea', 'team_x_Crystal Palace', 'team_x_Everton', 'team_x_Fulham', 'team_x_Leeds', 'team_x_Leicester', 'team_x_Liverpool', 'team_x_Man City', 'team_x_Man Utd', 'team_x_Newcastle', 'team_x_Norwich', \"team_x_Nott'm Forest\", 'team_x_Sheffield Utd', 'team_x_Southampton', 'team_x_Spurs', 'team_x_Watford', 'team_x_West Brom', 'team_x_West Ham', 'team_x_Wolves']\n",
      "expected value in input data\n",
      "\n",
      "During handling of the above exception, another exception occurred:\n",
      "\n",
      "Traceback (most recent call last):\n",
      "  File \"/Users/melusinecaillard/RSPL/venv/lib/python3.11/site-packages/IPython/core/interactiveshell.py\", line 2142, in showtraceback\n",
      "    stb = self.InteractiveTB.structured_traceback(\n",
      "          ^^^^^^^^^^^^^^^^^^^^^^^^^^^^^^^^^^^^^^^^\n",
      "  File \"/Users/melusinecaillard/RSPL/venv/lib/python3.11/site-packages/IPython/core/ultratb.py\", line 1435, in structured_traceback\n",
      "    return FormattedTB.structured_traceback(\n",
      "           ^^^^^^^^^^^^^^^^^^^^^^^^^^^^^^^^^\n",
      "  File \"/Users/melusinecaillard/RSPL/venv/lib/python3.11/site-packages/IPython/core/ultratb.py\", line 1326, in structured_traceback\n",
      "    return VerboseTB.structured_traceback(\n",
      "           ^^^^^^^^^^^^^^^^^^^^^^^^^^^^^^^\n",
      "  File \"/Users/melusinecaillard/RSPL/venv/lib/python3.11/site-packages/IPython/core/ultratb.py\", line 1173, in structured_traceback\n",
      "    formatted_exception = self.format_exception_as_a_whole(etype, evalue, etb, number_of_lines_of_context,\n",
      "                          ^^^^^^^^^^^^^^^^^^^^^^^^^^^^^^^^^^^^^^^^^^^^^^^^^^^^^^^^^^^^^^^^^^^^^^^^^^^^^^^^\n",
      "  File \"/Users/melusinecaillard/RSPL/venv/lib/python3.11/site-packages/IPython/core/ultratb.py\", line 1088, in format_exception_as_a_whole\n",
      "    frames.append(self.format_record(record))\n",
      "                  ^^^^^^^^^^^^^^^^^^^^^^^^^^\n",
      "  File \"/Users/melusinecaillard/RSPL/venv/lib/python3.11/site-packages/IPython/core/ultratb.py\", line 970, in format_record\n",
      "    frame_info.lines, Colors, self.has_colors, lvals\n",
      "    ^^^^^^^^^^^^^^^^\n",
      "  File \"/Users/melusinecaillard/RSPL/venv/lib/python3.11/site-packages/IPython/core/ultratb.py\", line 792, in lines\n",
      "    return self._sd.lines\n",
      "           ^^^^^^^^^^^^^^\n",
      "  File \"/Users/melusinecaillard/RSPL/venv/lib/python3.11/site-packages/stack_data/utils.py\", line 145, in cached_property_wrapper\n",
      "    value = obj.__dict__[self.func.__name__] = self.func(obj)\n",
      "                                               ^^^^^^^^^^^^^^\n",
      "  File \"/Users/melusinecaillard/RSPL/venv/lib/python3.11/site-packages/stack_data/core.py\", line 734, in lines\n",
      "    pieces = self.included_pieces\n",
      "             ^^^^^^^^^^^^^^^^^^^^\n",
      "  File \"/Users/melusinecaillard/RSPL/venv/lib/python3.11/site-packages/stack_data/utils.py\", line 145, in cached_property_wrapper\n",
      "    value = obj.__dict__[self.func.__name__] = self.func(obj)\n",
      "                                               ^^^^^^^^^^^^^^\n",
      "  File \"/Users/melusinecaillard/RSPL/venv/lib/python3.11/site-packages/stack_data/core.py\", line 681, in included_pieces\n",
      "    pos = scope_pieces.index(self.executing_piece)\n",
      "                             ^^^^^^^^^^^^^^^^^^^^\n",
      "  File \"/Users/melusinecaillard/RSPL/venv/lib/python3.11/site-packages/stack_data/utils.py\", line 145, in cached_property_wrapper\n",
      "    value = obj.__dict__[self.func.__name__] = self.func(obj)\n",
      "                                               ^^^^^^^^^^^^^^\n",
      "  File \"/Users/melusinecaillard/RSPL/venv/lib/python3.11/site-packages/stack_data/core.py\", line 660, in executing_piece\n",
      "    return only(\n",
      "           ^^^^^\n",
      "  File \"/Users/melusinecaillard/RSPL/venv/lib/python3.11/site-packages/executing/executing.py\", line 116, in only\n",
      "    raise NotOneValueFound('Expected one value, found 0')\n",
      "executing.executing.NotOneValueFound: Expected one value, found 0\n"
     ]
    }
   ],
   "source": [
    "# Exemple de joueur à prédire\n",
    "player_features_example = dtest\n",
    "\n",
    "# Prédiction des performances du joueur\n",
    "predicted_performance_example = model.predict(player_features_example)\n",
    "\n",
    "print(\"Prédiction de performances du joueur:\", predicted_performance_example)\n"
   ],
   "metadata": {
    "collapsed": false,
    "ExecuteTime": {
     "end_time": "2024-02-28T10:00:27.926398Z",
     "start_time": "2024-02-28T10:00:27.816567Z"
    }
   },
   "id": "d7f8dfc4b642921c"
  },
  {
   "cell_type": "code",
   "execution_count": 469,
   "outputs": [
    {
     "name": "stdout",
     "output_type": "stream",
     "text": [
      "Performances prédites du joueur: [0.0313129  0.03253323]\n"
     ]
    }
   ],
   "source": [
    "# Index du joueur dont vous voulez obtenir les performances prédites\n",
    "index_joueur = 0\n",
    "\n",
    "# Performances prédites du joueur spécifique\n",
    "performances_joueur = predicted_performance_example[index_joueur]\n",
    "\n",
    "print(\"Performances prédites du joueur:\", performances_joueur)\n"
   ],
   "metadata": {
    "collapsed": false,
    "ExecuteTime": {
     "end_time": "2024-02-28T10:00:31.198942Z",
     "start_time": "2024-02-28T10:00:31.157956Z"
    }
   },
   "id": "9317dd6a1f1bf9e4"
  },
  {
   "cell_type": "code",
   "execution_count": 470,
   "outputs": [
    {
     "ename": "ValueError",
     "evalue": "not enough values to unpack (expected 4, got 3)",
     "output_type": "error",
     "traceback": [
      "\u001B[0;31m---------------------------------------------------------------------------\u001B[0m",
      "\u001B[0;31mValueError\u001B[0m                                Traceback (most recent call last)",
      "Cell \u001B[0;32mIn[470], line 5\u001B[0m\n\u001B[1;32m      2\u001B[0m data_df \u001B[38;5;241m=\u001B[39m load_and_preprocess_data(file_path)\n\u001B[1;32m      4\u001B[0m \u001B[38;5;66;03m# Division des données en ensembles d'entraînement et de test\u001B[39;00m\n\u001B[0;32m----> 5\u001B[0m X_train, X_test, y_train, y_test \u001B[38;5;241m=\u001B[39m split_data(data_df)\n\u001B[1;32m      7\u001B[0m \u001B[38;5;66;03m# Récupérer le nom des joueurs dans les données de test\u001B[39;00m\n\u001B[1;32m      8\u001B[0m player_names \u001B[38;5;241m=\u001B[39m X_test[\u001B[38;5;124m'\u001B[39m\u001B[38;5;124mname\u001B[39m\u001B[38;5;124m'\u001B[39m]\n",
      "\u001B[0;31mValueError\u001B[0m: not enough values to unpack (expected 4, got 3)"
     ]
    }
   ],
   "source": [
    "# Convertir les données d'origine en DataFrame pandas\n",
    "data_df = load_and_preprocess_data(file_path)\n",
    "\n",
    "# Division des données en ensembles d'entraînement et de test\n",
    "X_train, X_test, y_train, y_test = split_data(data_df)\n",
    "\n",
    "# Récupérer le nom des joueurs dans les données de test\n",
    "player_names = X_test['name']\n",
    "\n",
    "# Recherche de l'index du joueur dont vous voulez obtenir les performances prédites\n",
    "nom_joueur = \"Olivier Giroud\"\n",
    "index_joueur = player_names[player_names == nom_joueur].index\n",
    "\n",
    "if len(index_joueur) == 0:\n",
    "    print(\"Le joueur spécifié n'a pas été trouvé dans les données de test.\")\n",
    "else:\n",
    "    index_joueur = index_joueur[0]\n",
    "\n",
    "    # Performances prédites du joueur spécifié\n",
    "    performances_joueur = predicted_performance_example[index_joueur]\n",
    "\n",
    "    print(\"Nom du joueur:\", nom_joueur)\n",
    "    print(\"Performances prédites du joueur:\", performances_joueur)\n"
   ],
   "metadata": {
    "collapsed": false,
    "ExecuteTime": {
     "end_time": "2024-02-28T10:01:10.114863Z",
     "start_time": "2024-02-28T10:00:34.484760Z"
    }
   },
   "id": "c45254593c926347"
  },
  {
   "cell_type": "code",
   "execution_count": 471,
   "outputs": [
    {
     "name": "stderr",
     "output_type": "stream",
     "text": [
      "/var/folders/75/4vn9ylqs28df9mqtqpgtm9p40000gn/T/ipykernel_8266/2348053998.py:3: FutureWarning: The default of observed=False is deprecated and will be changed to True in a future version of pandas. Pass observed=False to retain current behavior or observed=True to adopt the future default and silence this warning.\n",
      "  available_players = data[(data['value'] <= budget) & (data.groupby('team_x')['name'].transform('count') <= team_constraints)]\n"
     ]
    },
    {
     "ename": "TypeError",
     "evalue": "('Expecting data to be a DMatrix object, got: ', <class 'pandas.core.frame.DataFrame'>)",
     "output_type": "error",
     "traceback": [
      "\u001B[0;31m---------------------------------------------------------------------------\u001B[0m",
      "\u001B[0;31mTypeError\u001B[0m                                 Traceback (most recent call last)",
      "Cell \u001B[0;32mIn[471], line 4\u001B[0m\n\u001B[1;32m      2\u001B[0m budget \u001B[38;5;241m=\u001B[39m \u001B[38;5;241m100\u001B[39m\n\u001B[1;32m      3\u001B[0m team_constraints \u001B[38;5;241m=\u001B[39m \u001B[38;5;241m3\u001B[39m\n\u001B[0;32m----> 4\u001B[0m recommended_players, captain_player, vice_captain_player \u001B[38;5;241m=\u001B[39m \u001B[43mrecommend_players\u001B[49m\u001B[43m(\u001B[49m\u001B[43mmodel\u001B[49m\u001B[43m,\u001B[49m\u001B[43m \u001B[49m\u001B[43mdata\u001B[49m\u001B[43m,\u001B[49m\u001B[43m \u001B[49m\u001B[43mbudget\u001B[49m\u001B[43m,\u001B[49m\u001B[43m \u001B[49m\u001B[43mteam_constraints\u001B[49m\u001B[43m)\u001B[49m\n\u001B[1;32m      5\u001B[0m \u001B[38;5;28mprint\u001B[39m(\u001B[38;5;124m\"\u001B[39m\u001B[38;5;124mRecommandations de joueurs:\u001B[39m\u001B[38;5;124m\"\u001B[39m)\n\u001B[1;32m      6\u001B[0m \u001B[38;5;28mprint\u001B[39m(recommended_players\u001B[38;5;241m.\u001B[39mhead())\n",
      "Cell \u001B[0;32mIn[455], line 4\u001B[0m, in \u001B[0;36mrecommend_players\u001B[0;34m(model, data, budget, team_constraints, captain)\u001B[0m\n\u001B[1;32m      2\u001B[0m \u001B[38;5;28;01mdef\u001B[39;00m \u001B[38;5;21mrecommend_players\u001B[39m(model, data, budget, team_constraints, captain\u001B[38;5;241m=\u001B[39m\u001B[38;5;28;01mTrue\u001B[39;00m):\n\u001B[1;32m      3\u001B[0m     available_players \u001B[38;5;241m=\u001B[39m data[(data[\u001B[38;5;124m'\u001B[39m\u001B[38;5;124mvalue\u001B[39m\u001B[38;5;124m'\u001B[39m] \u001B[38;5;241m<\u001B[39m\u001B[38;5;241m=\u001B[39m budget) \u001B[38;5;241m&\u001B[39m (data\u001B[38;5;241m.\u001B[39mgroupby(\u001B[38;5;124m'\u001B[39m\u001B[38;5;124mteam_x\u001B[39m\u001B[38;5;124m'\u001B[39m)[\u001B[38;5;124m'\u001B[39m\u001B[38;5;124mname\u001B[39m\u001B[38;5;124m'\u001B[39m]\u001B[38;5;241m.\u001B[39mtransform(\u001B[38;5;124m'\u001B[39m\u001B[38;5;124mcount\u001B[39m\u001B[38;5;124m'\u001B[39m) \u001B[38;5;241m<\u001B[39m\u001B[38;5;241m=\u001B[39m team_constraints)]\n\u001B[0;32m----> 4\u001B[0m     predicted_performances \u001B[38;5;241m=\u001B[39m \u001B[43mmodel\u001B[49m\u001B[38;5;241;43m.\u001B[39;49m\u001B[43mpredict\u001B[49m\u001B[43m(\u001B[49m\u001B[43mavailable_players\u001B[49m\u001B[38;5;241;43m.\u001B[39;49m\u001B[43mdrop\u001B[49m\u001B[43m(\u001B[49m\u001B[43mcolumns\u001B[49m\u001B[38;5;241;43m=\u001B[39;49m\u001B[43m[\u001B[49m\u001B[38;5;124;43m'\u001B[39;49m\u001B[38;5;124;43mgoals_scored\u001B[39;49m\u001B[38;5;124;43m'\u001B[39;49m\u001B[43m,\u001B[49m\u001B[43m \u001B[49m\u001B[38;5;124;43m'\u001B[39;49m\u001B[38;5;124;43massists\u001B[39;49m\u001B[38;5;124;43m'\u001B[39;49m\u001B[43m]\u001B[49m\u001B[43m)\u001B[49m\u001B[43m)\u001B[49m\n\u001B[1;32m      5\u001B[0m     available_players[\u001B[38;5;124m'\u001B[39m\u001B[38;5;124mpredicted_goals\u001B[39m\u001B[38;5;124m'\u001B[39m] \u001B[38;5;241m=\u001B[39m predicted_performances[:, \u001B[38;5;241m0\u001B[39m]\n\u001B[1;32m      6\u001B[0m     available_players[\u001B[38;5;124m'\u001B[39m\u001B[38;5;124mpredicted_assists\u001B[39m\u001B[38;5;124m'\u001B[39m] \u001B[38;5;241m=\u001B[39m predicted_performances[:, \u001B[38;5;241m1\u001B[39m]\n",
      "File \u001B[0;32m~/RSPL/venv/lib/python3.11/site-packages/xgboost/core.py:2268\u001B[0m, in \u001B[0;36mpredict\u001B[0;34m(self, data, output_margin, pred_leaf, pred_contribs, approx_contribs, pred_interactions, validate_features, training, iteration_range, strict_shape)\u001B[0m\n\u001B[1;32m   2176\u001B[0m \u001B[38;5;28;01mdef\u001B[39;00m \u001B[38;5;21mpredict\u001B[39m(\n\u001B[1;32m   2177\u001B[0m     \u001B[38;5;28mself\u001B[39m,\n\u001B[1;32m   2178\u001B[0m     data: DMatrix,\n\u001B[0;32m   (...)\u001B[0m\n\u001B[1;32m   2187\u001B[0m     strict_shape: \u001B[38;5;28mbool\u001B[39m \u001B[38;5;241m=\u001B[39m \u001B[38;5;28;01mFalse\u001B[39;00m,\n\u001B[1;32m   2188\u001B[0m ) \u001B[38;5;241m-\u001B[39m\u001B[38;5;241m>\u001B[39m np\u001B[38;5;241m.\u001B[39mndarray:\n\u001B[1;32m   2189\u001B[0m \u001B[38;5;250m    \u001B[39m\u001B[38;5;124;03m\"\"\"Predict with data.  The full model will be used unless `iteration_range` is specified,\u001B[39;00m\n\u001B[1;32m   2190\u001B[0m \u001B[38;5;124;03m    meaning user have to either slice the model or use the ``best_iteration``\u001B[39;00m\n\u001B[1;32m   2191\u001B[0m \u001B[38;5;124;03m    attribute to get prediction from best model returned from early stopping.\u001B[39;00m\n\u001B[0;32m   (...)\u001B[0m\n\u001B[1;32m   2266\u001B[0m \n\u001B[1;32m   2267\u001B[0m \u001B[38;5;124;03m    \"\"\"\u001B[39;00m\n\u001B[0;32m-> 2268\u001B[0m     \u001B[38;5;28;01mif\u001B[39;00m \u001B[38;5;129;01mnot\u001B[39;00m \u001B[38;5;28misinstance\u001B[39m(data, DMatrix):\n\u001B[1;32m   2269\u001B[0m         \u001B[38;5;28;01mraise\u001B[39;00m \u001B[38;5;167;01mTypeError\u001B[39;00m(\u001B[38;5;124m\"\u001B[39m\u001B[38;5;124mExpecting data to be a DMatrix object, got: \u001B[39m\u001B[38;5;124m\"\u001B[39m, \u001B[38;5;28mtype\u001B[39m(data))\n\u001B[1;32m   2270\u001B[0m     \u001B[38;5;28;01mif\u001B[39;00m validate_features:\n",
      "\u001B[0;31mTypeError\u001B[0m: ('Expecting data to be a DMatrix object, got: ', <class 'pandas.core.frame.DataFrame'>)"
     ]
    }
   ],
   "source": [
    "# Recommander les joueurs en respectant les contraintes\n",
    "budget = 100\n",
    "team_constraints = 3\n",
    "recommended_players, captain_player, vice_captain_player = recommend_players(model, data, budget, team_constraints)\n",
    "print(\"Recommandations de joueurs:\")\n",
    "print(recommended_players.head())\n",
    "print(\"\\nCapitaine recommandé:\")\n",
    "print(captain_player)\n",
    "print(\"\\nVice-capitaine recommandé:\")\n",
    "print(vice_captain_player)"
   ],
   "metadata": {
    "collapsed": false,
    "ExecuteTime": {
     "end_time": "2024-02-28T10:01:13.687080Z",
     "start_time": "2024-02-28T10:01:13.441934Z"
    }
   },
   "id": "41c75e7d382e43a0"
  },
  {
   "cell_type": "code",
   "execution_count": 472,
   "outputs": [
    {
     "ename": "KeyError",
     "evalue": "'team_x'",
     "output_type": "error",
     "traceback": [
      "\u001B[0;31m---------------------------------------------------------------------------\u001B[0m",
      "\u001B[0;31mKeyError\u001B[0m                                  Traceback (most recent call last)",
      "Cell \u001B[0;32mIn[472], line 5\u001B[0m\n\u001B[1;32m      3\u001B[0m transfer_player \u001B[38;5;241m=\u001B[39m {\u001B[38;5;124m\"\u001B[39m\u001B[38;5;124mplayer_name\u001B[39m\u001B[38;5;124m\"\u001B[39m: \u001B[38;5;124m\"\u001B[39m\u001B[38;5;124mPlayer1\u001B[39m\u001B[38;5;124m\"\u001B[39m, \u001B[38;5;124m\"\u001B[39m\u001B[38;5;124mteam\u001B[39m\u001B[38;5;124m\"\u001B[39m: \u001B[38;5;124m\"\u001B[39m\u001B[38;5;124mTeam1\u001B[39m\u001B[38;5;124m\"\u001B[39m, \u001B[38;5;124m\"\u001B[39m\u001B[38;5;124mvalue\u001B[39m\u001B[38;5;124m\"\u001B[39m: \u001B[38;5;241m10\u001B[39m}\n\u001B[1;32m      4\u001B[0m new_player \u001B[38;5;241m=\u001B[39m {\u001B[38;5;124m\"\u001B[39m\u001B[38;5;124mplayer_name\u001B[39m\u001B[38;5;124m\"\u001B[39m: \u001B[38;5;124m\"\u001B[39m\u001B[38;5;124mPlayer2\u001B[39m\u001B[38;5;124m\"\u001B[39m, \u001B[38;5;124m\"\u001B[39m\u001B[38;5;124mteam\u001B[39m\u001B[38;5;124m\"\u001B[39m: \u001B[38;5;124m\"\u001B[39m\u001B[38;5;124mTeam2\u001B[39m\u001B[38;5;124m\"\u001B[39m, \u001B[38;5;124m\"\u001B[39m\u001B[38;5;124mvalue\u001B[39m\u001B[38;5;124m\"\u001B[39m: \u001B[38;5;241m8\u001B[39m}\n\u001B[0;32m----> 5\u001B[0m updated_team, updated_budget \u001B[38;5;241m=\u001B[39m \u001B[43mweekly_transfers\u001B[49m\u001B[43m(\u001B[49m\u001B[43mcurrent_team\u001B[49m\u001B[43m,\u001B[49m\u001B[43m \u001B[49m\u001B[43mbudget\u001B[49m\u001B[43m,\u001B[49m\u001B[43m \u001B[49m\u001B[43mteam_constraints\u001B[49m\u001B[43m,\u001B[49m\u001B[43m \u001B[49m\u001B[43mtransfer_player\u001B[49m\u001B[43m,\u001B[49m\u001B[43m \u001B[49m\u001B[43mnew_player\u001B[49m\u001B[43m)\u001B[49m\n\u001B[1;32m      6\u001B[0m \u001B[38;5;28mprint\u001B[39m(\u001B[38;5;124m\"\u001B[39m\u001B[38;5;124mÉquipe mise à jour après les transferts:\u001B[39m\u001B[38;5;124m\"\u001B[39m)\n\u001B[1;32m      7\u001B[0m \u001B[38;5;28mprint\u001B[39m(updated_team)\n",
      "Cell \u001B[0;32mIn[457], line 3\u001B[0m, in \u001B[0;36mweekly_transfers\u001B[0;34m(current_team, budget, team_constraints, transfer_player, new_player)\u001B[0m\n\u001B[1;32m      2\u001B[0m \u001B[38;5;28;01mdef\u001B[39;00m \u001B[38;5;21mweekly_transfers\u001B[39m(current_team, budget, team_constraints, transfer_player, new_player):\n\u001B[0;32m----> 3\u001B[0m     updated_team, updated_budget \u001B[38;5;241m=\u001B[39m \u001B[43mmake_transfer\u001B[49m\u001B[43m(\u001B[49m\u001B[43mcurrent_team\u001B[49m\u001B[43m,\u001B[49m\u001B[43m \u001B[49m\u001B[43mnew_player\u001B[49m\u001B[43m,\u001B[49m\u001B[43m \u001B[49m\u001B[43mbudget\u001B[49m\u001B[43m,\u001B[49m\u001B[43m \u001B[49m\u001B[43mteam_constraints\u001B[49m\u001B[43m)\u001B[49m\n\u001B[1;32m      4\u001B[0m     \u001B[38;5;28;01mreturn\u001B[39;00m updated_team, updated_budget\n",
      "Cell \u001B[0;32mIn[456], line 3\u001B[0m, in \u001B[0;36mmake_transfer\u001B[0;34m(current_team, new_player, budget, team_constraints)\u001B[0m\n\u001B[1;32m      2\u001B[0m \u001B[38;5;28;01mdef\u001B[39;00m \u001B[38;5;21mmake_transfer\u001B[39m(current_team, new_player, budget, team_constraints):\n\u001B[0;32m----> 3\u001B[0m     \u001B[38;5;28;01mif\u001B[39;00m new_player[\u001B[38;5;124m'\u001B[39m\u001B[38;5;124mvalue\u001B[39m\u001B[38;5;124m'\u001B[39m] \u001B[38;5;241m<\u001B[39m\u001B[38;5;241m=\u001B[39m budget \u001B[38;5;129;01mand\u001B[39;00m \u001B[43mcurrent_team\u001B[49m\u001B[38;5;241;43m.\u001B[39;49m\u001B[43mgroupby\u001B[49m\u001B[43m(\u001B[49m\u001B[38;5;124;43m'\u001B[39;49m\u001B[38;5;124;43mteam_x\u001B[39;49m\u001B[38;5;124;43m'\u001B[39;49m\u001B[43m)\u001B[49m[\u001B[38;5;124m'\u001B[39m\u001B[38;5;124mname\u001B[39m\u001B[38;5;124m'\u001B[39m]\u001B[38;5;241m.\u001B[39mtransform(\u001B[38;5;124m'\u001B[39m\u001B[38;5;124mcount\u001B[39m\u001B[38;5;124m'\u001B[39m)\u001B[38;5;241m.\u001B[39mmax() \u001B[38;5;241m<\u001B[39m team_constraints:\n\u001B[1;32m      4\u001B[0m         updated_team \u001B[38;5;241m=\u001B[39m current_team\u001B[38;5;241m.\u001B[39mappend(new_player)\n\u001B[1;32m      5\u001B[0m         updated_budget \u001B[38;5;241m=\u001B[39m budget \u001B[38;5;241m-\u001B[39m new_player[\u001B[38;5;124m'\u001B[39m\u001B[38;5;124mvalue\u001B[39m\u001B[38;5;124m'\u001B[39m]\n",
      "File \u001B[0;32m~/RSPL/venv/lib/python3.11/site-packages/pandas/core/frame.py:8869\u001B[0m, in \u001B[0;36mDataFrame.groupby\u001B[0;34m(self, by, axis, level, as_index, sort, group_keys, observed, dropna)\u001B[0m\n\u001B[1;32m   8866\u001B[0m \u001B[38;5;28;01mif\u001B[39;00m level \u001B[38;5;129;01mis\u001B[39;00m \u001B[38;5;28;01mNone\u001B[39;00m \u001B[38;5;129;01mand\u001B[39;00m by \u001B[38;5;129;01mis\u001B[39;00m \u001B[38;5;28;01mNone\u001B[39;00m:\n\u001B[1;32m   8867\u001B[0m     \u001B[38;5;28;01mraise\u001B[39;00m \u001B[38;5;167;01mTypeError\u001B[39;00m(\u001B[38;5;124m\"\u001B[39m\u001B[38;5;124mYou have to supply one of \u001B[39m\u001B[38;5;124m'\u001B[39m\u001B[38;5;124mby\u001B[39m\u001B[38;5;124m'\u001B[39m\u001B[38;5;124m and \u001B[39m\u001B[38;5;124m'\u001B[39m\u001B[38;5;124mlevel\u001B[39m\u001B[38;5;124m'\u001B[39m\u001B[38;5;124m\"\u001B[39m)\n\u001B[0;32m-> 8869\u001B[0m \u001B[38;5;28;01mreturn\u001B[39;00m \u001B[43mDataFrameGroupBy\u001B[49m\u001B[43m(\u001B[49m\n\u001B[1;32m   8870\u001B[0m \u001B[43m    \u001B[49m\u001B[43mobj\u001B[49m\u001B[38;5;241;43m=\u001B[39;49m\u001B[38;5;28;43mself\u001B[39;49m\u001B[43m,\u001B[49m\n\u001B[1;32m   8871\u001B[0m \u001B[43m    \u001B[49m\u001B[43mkeys\u001B[49m\u001B[38;5;241;43m=\u001B[39;49m\u001B[43mby\u001B[49m\u001B[43m,\u001B[49m\n\u001B[1;32m   8872\u001B[0m \u001B[43m    \u001B[49m\u001B[43maxis\u001B[49m\u001B[38;5;241;43m=\u001B[39;49m\u001B[43maxis\u001B[49m\u001B[43m,\u001B[49m\n\u001B[1;32m   8873\u001B[0m \u001B[43m    \u001B[49m\u001B[43mlevel\u001B[49m\u001B[38;5;241;43m=\u001B[39;49m\u001B[43mlevel\u001B[49m\u001B[43m,\u001B[49m\n\u001B[1;32m   8874\u001B[0m \u001B[43m    \u001B[49m\u001B[43mas_index\u001B[49m\u001B[38;5;241;43m=\u001B[39;49m\u001B[43mas_index\u001B[49m\u001B[43m,\u001B[49m\n\u001B[1;32m   8875\u001B[0m \u001B[43m    \u001B[49m\u001B[43msort\u001B[49m\u001B[38;5;241;43m=\u001B[39;49m\u001B[43msort\u001B[49m\u001B[43m,\u001B[49m\n\u001B[1;32m   8876\u001B[0m \u001B[43m    \u001B[49m\u001B[43mgroup_keys\u001B[49m\u001B[38;5;241;43m=\u001B[39;49m\u001B[43mgroup_keys\u001B[49m\u001B[43m,\u001B[49m\n\u001B[1;32m   8877\u001B[0m \u001B[43m    \u001B[49m\u001B[43mobserved\u001B[49m\u001B[38;5;241;43m=\u001B[39;49m\u001B[43mobserved\u001B[49m\u001B[43m,\u001B[49m\n\u001B[1;32m   8878\u001B[0m \u001B[43m    \u001B[49m\u001B[43mdropna\u001B[49m\u001B[38;5;241;43m=\u001B[39;49m\u001B[43mdropna\u001B[49m\u001B[43m,\u001B[49m\n\u001B[1;32m   8879\u001B[0m \u001B[43m\u001B[49m\u001B[43m)\u001B[49m\n",
      "File \u001B[0;32m~/RSPL/venv/lib/python3.11/site-packages/pandas/core/groupby/groupby.py:1278\u001B[0m, in \u001B[0;36mGroupBy.__init__\u001B[0;34m(self, obj, keys, axis, level, grouper, exclusions, selection, as_index, sort, group_keys, observed, dropna)\u001B[0m\n\u001B[1;32m   1275\u001B[0m \u001B[38;5;28mself\u001B[39m\u001B[38;5;241m.\u001B[39mdropna \u001B[38;5;241m=\u001B[39m dropna\n\u001B[1;32m   1277\u001B[0m \u001B[38;5;28;01mif\u001B[39;00m grouper \u001B[38;5;129;01mis\u001B[39;00m \u001B[38;5;28;01mNone\u001B[39;00m:\n\u001B[0;32m-> 1278\u001B[0m     grouper, exclusions, obj \u001B[38;5;241m=\u001B[39m \u001B[43mget_grouper\u001B[49m\u001B[43m(\u001B[49m\n\u001B[1;32m   1279\u001B[0m \u001B[43m        \u001B[49m\u001B[43mobj\u001B[49m\u001B[43m,\u001B[49m\n\u001B[1;32m   1280\u001B[0m \u001B[43m        \u001B[49m\u001B[43mkeys\u001B[49m\u001B[43m,\u001B[49m\n\u001B[1;32m   1281\u001B[0m \u001B[43m        \u001B[49m\u001B[43maxis\u001B[49m\u001B[38;5;241;43m=\u001B[39;49m\u001B[43maxis\u001B[49m\u001B[43m,\u001B[49m\n\u001B[1;32m   1282\u001B[0m \u001B[43m        \u001B[49m\u001B[43mlevel\u001B[49m\u001B[38;5;241;43m=\u001B[39;49m\u001B[43mlevel\u001B[49m\u001B[43m,\u001B[49m\n\u001B[1;32m   1283\u001B[0m \u001B[43m        \u001B[49m\u001B[43msort\u001B[49m\u001B[38;5;241;43m=\u001B[39;49m\u001B[43msort\u001B[49m\u001B[43m,\u001B[49m\n\u001B[1;32m   1284\u001B[0m \u001B[43m        \u001B[49m\u001B[43mobserved\u001B[49m\u001B[38;5;241;43m=\u001B[39;49m\u001B[38;5;28;43;01mFalse\u001B[39;49;00m\u001B[43m \u001B[49m\u001B[38;5;28;43;01mif\u001B[39;49;00m\u001B[43m \u001B[49m\u001B[43mobserved\u001B[49m\u001B[43m \u001B[49m\u001B[38;5;129;43;01mis\u001B[39;49;00m\u001B[43m \u001B[49m\u001B[43mlib\u001B[49m\u001B[38;5;241;43m.\u001B[39;49m\u001B[43mno_default\u001B[49m\u001B[43m \u001B[49m\u001B[38;5;28;43;01melse\u001B[39;49;00m\u001B[43m \u001B[49m\u001B[43mobserved\u001B[49m\u001B[43m,\u001B[49m\n\u001B[1;32m   1285\u001B[0m \u001B[43m        \u001B[49m\u001B[43mdropna\u001B[49m\u001B[38;5;241;43m=\u001B[39;49m\u001B[38;5;28;43mself\u001B[39;49m\u001B[38;5;241;43m.\u001B[39;49m\u001B[43mdropna\u001B[49m\u001B[43m,\u001B[49m\n\u001B[1;32m   1286\u001B[0m \u001B[43m    \u001B[49m\u001B[43m)\u001B[49m\n\u001B[1;32m   1288\u001B[0m \u001B[38;5;28;01mif\u001B[39;00m observed \u001B[38;5;129;01mis\u001B[39;00m lib\u001B[38;5;241m.\u001B[39mno_default:\n\u001B[1;32m   1289\u001B[0m     \u001B[38;5;28;01mif\u001B[39;00m \u001B[38;5;28many\u001B[39m(ping\u001B[38;5;241m.\u001B[39m_passed_categorical \u001B[38;5;28;01mfor\u001B[39;00m ping \u001B[38;5;129;01min\u001B[39;00m grouper\u001B[38;5;241m.\u001B[39mgroupings):\n",
      "File \u001B[0;32m~/RSPL/venv/lib/python3.11/site-packages/pandas/core/groupby/grouper.py:1009\u001B[0m, in \u001B[0;36mget_grouper\u001B[0;34m(obj, key, axis, level, sort, observed, validate, dropna)\u001B[0m\n\u001B[1;32m   1007\u001B[0m         in_axis, level, gpr \u001B[38;5;241m=\u001B[39m \u001B[38;5;28;01mFalse\u001B[39;00m, gpr, \u001B[38;5;28;01mNone\u001B[39;00m\n\u001B[1;32m   1008\u001B[0m     \u001B[38;5;28;01melse\u001B[39;00m:\n\u001B[0;32m-> 1009\u001B[0m         \u001B[38;5;28;01mraise\u001B[39;00m \u001B[38;5;167;01mKeyError\u001B[39;00m(gpr)\n\u001B[1;32m   1010\u001B[0m \u001B[38;5;28;01melif\u001B[39;00m \u001B[38;5;28misinstance\u001B[39m(gpr, Grouper) \u001B[38;5;129;01mand\u001B[39;00m gpr\u001B[38;5;241m.\u001B[39mkey \u001B[38;5;129;01mis\u001B[39;00m \u001B[38;5;129;01mnot\u001B[39;00m \u001B[38;5;28;01mNone\u001B[39;00m:\n\u001B[1;32m   1011\u001B[0m     \u001B[38;5;66;03m# Add key to exclusions\u001B[39;00m\n\u001B[1;32m   1012\u001B[0m     exclusions\u001B[38;5;241m.\u001B[39madd(gpr\u001B[38;5;241m.\u001B[39mkey)\n",
      "\u001B[0;31mKeyError\u001B[0m: 'team_x'"
     ]
    }
   ],
   "source": [
    "# Exemple d'équipe actuelle\n",
    "current_team = pd.DataFrame([[\"Player1\", \"Team1\", 10]], columns=['name', 'team', 'value'])\n",
    "transfer_player = {\"player_name\": \"Player1\", \"team\": \"Team1\", \"value\": 10}\n",
    "new_player = {\"player_name\": \"Player2\", \"team\": \"Team2\", \"value\": 8}\n",
    "updated_team, updated_budget = weekly_transfers(current_team, budget, team_constraints, transfer_player, new_player)\n",
    "print(\"Équipe mise à jour après les transferts:\")\n",
    "print(updated_team)\n",
    "print(\"\\nBudget restant après les transferts:\", updated_budget)"
   ],
   "metadata": {
    "collapsed": false,
    "ExecuteTime": {
     "end_time": "2024-02-28T10:01:15.391194Z",
     "start_time": "2024-02-28T10:01:15.257395Z"
    }
   },
   "id": "ba361aea804b93"
  },
  {
   "cell_type": "code",
   "execution_count": 473,
   "outputs": [
    {
     "name": "stdout",
     "output_type": "stream",
     "text": [
      "Précision de l'algorithme: goals_scored    0.0\n",
      "assists         0.0\n",
      "total_points    0.0\n",
      "total_points    0.0\n",
      "dtype: float64\n"
     ]
    }
   ],
   "source": [
    "# Évaluer l'algorithme\n",
    "accuracy = evaluate_algorithm(y_pred, y_test)\n",
    "print(\"Précision de l'algorithme:\", accuracy)"
   ],
   "metadata": {
    "collapsed": false,
    "ExecuteTime": {
     "end_time": "2024-02-28T10:01:16.914902Z",
     "start_time": "2024-02-28T10:01:16.867323Z"
    }
   },
   "id": "bf0336dda5ce045a"
  },
  {
   "cell_type": "code",
   "execution_count": null,
   "outputs": [],
   "source": [],
   "metadata": {
    "collapsed": false,
    "ExecuteTime": {
     "start_time": "2024-02-28T09:54:37.092707Z"
    }
   },
   "id": "cdc3223e7d711022"
  }
 ],
 "metadata": {
  "kernelspec": {
   "display_name": "Python 3",
   "language": "python",
   "name": "python3"
  },
  "language_info": {
   "codemirror_mode": {
    "name": "ipython",
    "version": 2
   },
   "file_extension": ".py",
   "mimetype": "text/x-python",
   "name": "python",
   "nbconvert_exporter": "python",
   "pygments_lexer": "ipython2",
   "version": "2.7.6"
  }
 },
 "nbformat": 4,
 "nbformat_minor": 5
}
