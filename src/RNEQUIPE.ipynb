{
 "cells": [
  {
   "cell_type": "code",
   "execution_count": 3,
   "metadata": {
    "id": "9lDk2lSK7tmm",
    "colab": {
     "base_uri": "https://localhost:8080/"
    },
    "outputId": "2b19280f-5bd0-4bbf-eb4d-345631507a3d"
   },
   "outputs": [
    {
     "ename": "ModuleNotFoundError",
     "evalue": "No module named 'pandas'",
     "output_type": "error",
     "traceback": [
      "\u001B[1;31m---------------------------------------------------------------------------\u001B[0m",
      "\u001B[1;31mModuleNotFoundError\u001B[0m                       Traceback (most recent call last)",
      "Cell \u001B[1;32mIn[3], line 1\u001B[0m\n\u001B[1;32m----> 1\u001B[0m \u001B[38;5;28;01mimport\u001B[39;00m \u001B[38;5;21;01mpandas\u001B[39;00m \u001B[38;5;28;01mas\u001B[39;00m \u001B[38;5;21;01mpd\u001B[39;00m\n\u001B[0;32m      2\u001B[0m \u001B[38;5;28;01mfrom\u001B[39;00m \u001B[38;5;21;01msklearn\u001B[39;00m\u001B[38;5;21;01m.\u001B[39;00m\u001B[38;5;21;01mmodel_selection\u001B[39;00m \u001B[38;5;28;01mimport\u001B[39;00m GridSearchCV\n\u001B[0;32m      3\u001B[0m \u001B[38;5;28;01mfrom\u001B[39;00m \u001B[38;5;21;01msklearn\u001B[39;00m\u001B[38;5;21;01m.\u001B[39;00m\u001B[38;5;21;01mmodel_selection\u001B[39;00m \u001B[38;5;28;01mimport\u001B[39;00m train_test_split\n",
      "\u001B[1;31mModuleNotFoundError\u001B[0m: No module named 'pandas'"
     ]
    }
   ],
   "source": [
    "import pandas as pd\n",
    "from sklearn.model_selection import GridSearchCV\n",
    "from sklearn.model_selection import train_test_split\n",
    "from sklearn.preprocessing import StandardScaler\n",
    "from sklearn.linear_model import LinearRegression\n",
    "from sklearn.model_selection import cross_val_score\n",
    "from sklearn.experimental import enable_hist_gradient_boosting  # noqa\n",
    "from sklearn.ensemble import HistGradientBoostingRegressor\n",
    "from sklearn.metrics import mean_squared_error, r2_score, mean_absolute_error\n",
    "from sklearn.metrics import mean_squared_error, mean_absolute_error\n",
    "\n",
    "from tensorflow.keras.models import Sequential\n",
    "from tensorflow.keras.layers import Dense, Dropout\n",
    "from tensorflow.keras.callbacks import EarlyStopping\n",
    "import matplotlib.pyplot as plt\n",
    "import tensorflow as tf\n",
    "import numpy as np\n",
    "import random\n",
    "import glob"
   ]
  },
  {
   "cell_type": "code",
   "execution_count": null,
   "metadata": {
    "colab": {
     "base_uri": "https://localhost:8080/"
    },
    "id": "ya-ozkwHyZjw",
    "outputId": "12fcf106-de1b-43fb-d77f-4c78526a010a"
   },
   "outputs": [],
   "source": [
    "# Chemin vers les fichiers CSV\n",
    "chemin = '/content/players/*.csv'\n",
    "\n",
    "# Liste des noms de fichiers\n",
    "fichiers = glob.glob(chemin)\n",
    "\n",
    "# Initialisation d'une liste pour stocker les DataFrames de chaque fichier\n",
    "dfs = []\n",
    "# Liste des encodages à essayer\n",
    "encodings_to_try = [ 'utf-8','ISO-8859-1']\n",
    "\n",
    "# Charger et concaténer les fichiers\n",
    "for fichier in fichiers:\n",
    "    df = None\n",
    "    # Essayer différents encodages jusqu'à ce que la lecture réussisse\n",
    "    for encoding in encodings_to_try:\n",
    "        try:\n",
    "            df = pd.read_csv(fichier, encoding=encoding)\n",
    "            print(f\"Lecture réussie avec l'encodage {encoding}.\")\n",
    "            break  # Sortir de la boucle si la lecture réussit avec un encodage\n",
    "        except UnicodeDecodeError:\n",
    "            print(f\"Échec de la lecture avec l'encodage {encoding}. Essayer un autre encodage.\")\n",
    "\n",
    "    if df is not None:\n",
    "        # Ajouter une colonne 'source' pour identifier la provenance de chaque fichier\n",
    "        nom_fichier = fichier.split('/')[-1]\n",
    "        saison = nom_fichier.split('.')[0].split('-')\n",
    "        df['source'] = f\"{saison[0]}-{saison[1]}\"\n",
    "        # Concaténer 'first_name' et 'second_name' en une seule colonne 'name'\n",
    "        df['name'] = df['first_name'] + ' ' + df['second_name']\n",
    "        # Supprimer les colonnes 'first_name' et 'second_name'\n",
    "        df = df.drop(columns=['first_name', 'second_name'])\n",
    "        # Ajouter le DataFrame à la liste\n",
    "        dfs.append(df)\n",
    "    else:\n",
    "        print(\"Échec de la lecture du fichier:\", fichier)\n",
    "\n",
    "\n",
    "# Concaténer tous les DataFrames en un seul\n",
    "data = pd.concat(dfs, ignore_index=True)\n",
    "\n",
    "\n",
    "\n",
    "# Maintenant vous pouvez faire du traitement de données sur le DataFrame 'data'\n",
    "# Par exemple, afficher les premières lignes\n",
    "print(data.info())\n"
   ]
  },
  {
   "cell_type": "code",
   "execution_count": null,
   "metadata": {
    "id": "Lhaz1aMB8bns"
   },
   "outputs": [],
   "source": [
    "# Ingénierie des caractéristiques\n",
    "selected_features = ['goals_scored','assists','goals_conceded','creativity','influence','threat','bonus','clean_sheets','red_cards','yellow_cards','now_cost']\n",
    "X = data[selected_features]\n",
    "y = data['total_points']"
   ]
  },
  {
   "cell_type": "code",
   "execution_count": null,
   "metadata": {
    "id": "rzqCFCb3-az1"
   },
   "outputs": [],
   "source": [
    "# Division des données en ensembles d'entraînement et de test\n",
    "X_train, X_test, y_train, y_test = train_test_split(X, y, test_size=0.2, random_state=42)"
   ]
  },
  {
   "cell_type": "code",
   "execution_count": null,
   "metadata": {
    "id": "Nigvh0aE-d49"
   },
   "outputs": [],
   "source": [
    "# Sélectionner uniquement les colonnes numériques\n",
    "numeric_columns = X_train.select_dtypes(include=['number']).columns"
   ]
  },
  {
   "cell_type": "code",
   "execution_count": null,
   "metadata": {
    "colab": {
     "base_uri": "https://localhost:8080/"
    },
    "id": "E7sC2ek8Asvy",
    "outputId": "aaf0c416-61e8-4884-fc09-7d4d62ec2c63"
   },
   "outputs": [],
   "source": [
    "# Vérification des valeurs manquantes dans les données d'entraînement\n",
    "print(\"Valeurs manquantes dans y_train:\", np.isnan(y_train).sum())\n",
    "\n",
    "# Vérification des valeurs manquantes dans les données de test\n",
    "print(\"Valeurs manquantes dans y_test:\", np.isnan(y_test).sum())\n"
   ]
  },
  {
   "cell_type": "code",
   "execution_count": null,
   "metadata": {
    "id": "qX75IG1RF8YX"
   },
   "outputs": [],
   "source": [
    "# Définir les hyperparamètres à optimiser\n",
    "param_grid = {\n",
    "    'learning_rate': [0.01, 0.1, 0.2],\n",
    "    'max_iter': [100, 200, 300],\n",
    "    'max_depth': [3, 5, 7],\n",
    "    'min_samples_leaf': [1, 2, 4],\n",
    "    'l2_regularization': [0.0, 0.1, 0.2]\n",
    "}\n"
   ]
  },
  {
   "cell_type": "code",
   "execution_count": null,
   "metadata": {
    "id": "n-gjKsF1-dwq"
   },
   "outputs": [],
   "source": [
    "# Create the HistGradientBoostingRegressor model\n",
    "model = HistGradientBoostingRegressor()"
   ]
  },
  {
   "cell_type": "code",
   "execution_count": null,
   "metadata": {
    "colab": {
     "base_uri": "https://localhost:8080/",
     "height": 75
    },
    "id": "KDlgQNGIB-jO",
    "outputId": "cde79a51-575d-4990-bd1d-e6a5f7dad825"
   },
   "outputs": [],
   "source": [
    "# Train the model\n",
    "model.fit(X_train, y_train)\n"
   ]
  },
  {
   "cell_type": "code",
   "execution_count": null,
   "metadata": {
    "id": "GtYDYvQN-diS"
   },
   "outputs": [],
   "source": [
    "# Predict on the test set\n",
    "y_pred = model.predict(X_test)"
   ]
  },
  {
   "cell_type": "code",
   "execution_count": null,
   "metadata": {
    "id": "1ist4q3_GCGh"
   },
   "outputs": [],
   "source": [
    "# Créer l'objet GridSearchCV\n",
    "grid_search = GridSearchCV(estimator=model, param_grid=param_grid, cv=5, scoring='neg_mean_squared_error', n_jobs=-1)\n"
   ]
  },
  {
   "cell_type": "markdown",
   "metadata": {
    "id": "DEiebdcqpouJ"
   },
   "source": [
    "Evaluation des performances du modèle"
   ]
  },
  {
   "cell_type": "code",
   "execution_count": null,
   "metadata": {
    "id": "D7OABscDEi4N"
   },
   "outputs": [],
   "source": [
    "# Effectuer la validation croisée\n",
    "scores = cross_val_score(model, X, y, cv=5, scoring='neg_mean_squared_error')\n"
   ]
  },
  {
   "cell_type": "code",
   "execution_count": null,
   "metadata": {
    "colab": {
     "base_uri": "https://localhost:8080/",
     "height": 119
    },
    "id": "XP3oZXw4GTdN",
    "outputId": "b3f870ef-e6fa-40a4-ac77-22cc63a41b25"
   },
   "outputs": [],
   "source": [
    "# Exécuter la recherche par grille sur les données\n",
    "grid_search.fit(X, y)"
   ]
  },
  {
   "cell_type": "code",
   "execution_count": null,
   "metadata": {
    "id": "dcR5d7-EppXz"
   },
   "outputs": [],
   "source": [
    "# Calcul des métriques d'évaluation\n",
    "mse = mean_squared_error(y_test, y_pred)\n",
    "r2 = r2_score(y_test, y_pred)\n",
    "mae = mean_absolute_error(y_test, y_pred)\n",
    "# Calculer la moyenne des scores de MSE\n",
    "avg_mse = -scores.mean()"
   ]
  },
  {
   "cell_type": "code",
   "execution_count": null,
   "metadata": {
    "colab": {
     "base_uri": "https://localhost:8080/"
    },
    "id": "CupwNLz-GWRI",
    "outputId": "8553ae6e-3cbb-428e-ab34-d245ef467d55"
   },
   "outputs": [],
   "source": [
    "# Afficher les meilleurs paramètres et la meilleure MSE\n",
    "print(\"Meilleurs paramètres:\", grid_search.best_params_)\n",
    "print(\"Meilleure MSE:\", -grid_search.best_score_)"
   ]
  },
  {
   "cell_type": "code",
   "execution_count": null,
   "metadata": {
    "colab": {
     "base_uri": "https://localhost:8080/"
    },
    "id": "ITLl__hgpzyN",
    "outputId": "94d961e6-c2dc-4fa3-9b59-44df49eb6da0"
   },
   "outputs": [],
   "source": [
    "print(\"Mean Squared Error:\", mse)\n",
    "print(\"R-squared:\", r2)\n",
    "print(\"Mean Absolute Error:\", mae)\n",
    "\n",
    "# Afficher le score moyen de MSE\n",
    "print(\"Moyenne des scores de MSE:\", avg_mse)"
   ]
  },
  {
   "cell_type": "code",
   "execution_count": null,
   "metadata": {
    "colab": {
     "base_uri": "https://localhost:8080/",
     "height": 565
    },
    "id": "mDkRepp1qLU0",
    "outputId": "c2e49e43-1b48-4dd8-e3e3-07d8d20c50f9"
   },
   "outputs": [],
   "source": [
    "# Tracer les valeurs réelles par rapport aux valeurs prédites\n",
    "plt.figure(figsize=(10, 6))\n",
    "plt.scatter(y_test, y_pred, color='blue', label='Valeurs prédites vs réelles')\n",
    "plt.plot([y_test.min(), y_test.max()], [y_test.min(), y_test.max()], color='red', linestyle='--', label='Ligne de référence')\n",
    "plt.xlabel('Valeurs réelles')\n",
    "plt.ylabel('Valeurs prédites')\n",
    "plt.title('Comparaison des valeurs prédites aux valeurs réelles')\n",
    "plt.legend()\n",
    "plt.show()"
   ]
  },
  {
   "cell_type": "code",
   "execution_count": null,
   "metadata": {
    "id": "7BJUhX-sKEqt"
   },
   "outputs": [],
   "source": [
    "# Créer un nouveau modèle avec les paramètres optimisés\n",
    "optimal_model = HistGradientBoostingRegressor(\n",
    "    l2_regularization=0.0,\n",
    "    learning_rate=0.1,\n",
    "    max_depth=5,\n",
    "    max_iter=300,\n",
    "    min_samples_leaf=2\n",
    ")\n"
   ]
  },
  {
   "cell_type": "code",
   "execution_count": null,
   "metadata": {
    "colab": {
     "base_uri": "https://localhost:8080/",
     "height": 75
    },
    "id": "v0IzyHE1KEjL",
    "outputId": "ae28a113-603a-4720-88d0-40881b6d6dc3"
   },
   "outputs": [],
   "source": [
    "# Entraîner le nouveau modèle avec les données d'entraînement\n",
    "optimal_model.fit(X_train, y_train)"
   ]
  },
  {
   "cell_type": "code",
   "execution_count": null,
   "metadata": {
    "id": "4YfJ0AC_KEZz"
   },
   "outputs": [],
   "source": [
    "# Prédire sur les données de test\n",
    "y_pred_optimal = optimal_model.predict(X_test)"
   ]
  },
  {
   "cell_type": "code",
   "source": [
    "# Calculer le RMSE\n",
    "rmse_optimal = np.sqrt(mean_squared_error(y_test, y_pred_optimal))\n",
    "\n",
    "# Calculer le MAPE\n",
    "# Calculer le MAPE en évitant les divisions par zéro\n",
    "mape_optimal = np.mean(np.abs((y_test - y_pred_optimal) / y_test.replace(0, np.nan))) * 100\n"
   ],
   "metadata": {
    "id": "JCXOI9O6nDwI"
   },
   "execution_count": null,
   "outputs": []
  },
  {
   "cell_type": "code",
   "execution_count": null,
   "metadata": {
    "id": "Xj97KnGoKKyp"
   },
   "outputs": [],
   "source": [
    "# Évaluer les performances du nouveau modèle sur les données de test\n",
    "mse_optimal = mean_squared_error(y_test, y_pred_optimal)\n",
    "r2_optimal = r2_score(y_test, y_pred_optimal)\n",
    "mae_optimal = mean_absolute_error(y_test, y_pred_optimal)"
   ]
  },
  {
   "cell_type": "code",
   "source": [
    "\n",
    "# Afficher les performances du nouveau modèle\n",
    "print(\"Performances du modèle avec les paramètres optimisés :\")\n",
    "print(\"MSE:\", mse_optimal)\n",
    "print(\"R-squared:\", r2_optimal)\n",
    "print(\"MAE:\", mae_optimal)\n",
    "print(\"RMSE:\", rmse_optimal)\n",
    "print(\"MAPE:\", mape_optimal)"
   ],
   "metadata": {
    "colab": {
     "base_uri": "https://localhost:8080/"
    },
    "id": "MeDK8tNmnHw_",
    "outputId": "b4adec16-f2b9-4640-d91a-51246826d37f"
   },
   "execution_count": null,
   "outputs": []
  },
  {
   "cell_type": "code",
   "execution_count": null,
   "metadata": {
    "colab": {
     "base_uri": "https://localhost:8080/"
    },
    "id": "6z4xUL2dKKov",
    "outputId": "4b181ab7-7dd0-4dec-8275-2e8915c6fa63"
   },
   "outputs": [],
   "source": [
    "# Afficher les performances du nouveau modèle\n",
    "print(\"Performances du modèle avec les paramètres optimisés :\")\n",
    "print(\"MSE:\", mse_optimal)\n",
    "print(\"R-squared:\", r2_optimal)\n",
    "print(\"MAE:\", mae_optimal)"
   ]
  },
  {
   "cell_type": "code",
   "execution_count": null,
   "metadata": {
    "colab": {
     "base_uri": "https://localhost:8080/",
     "height": 565
    },
    "id": "HgXABTeg-qFO",
    "outputId": "97578dc3-367d-418c-bc04-052962c571eb"
   },
   "outputs": [],
   "source": [
    "# Tracer les valeurs réelles par rapport aux valeurs prédites\n",
    "plt.figure(figsize=(10, 6))\n",
    "plt.scatter(y_test, y_pred_optimal, color='blue', label='Valeurs prédites vs réelles')\n",
    "plt.plot([y_test.min(), y_test.max()], [y_test.min(), y_test.max()], color='red', linestyle='--', label='Ligne de référence')\n",
    "plt.xlabel('Valeurs réelles')\n",
    "plt.ylabel('Valeurs prédites')\n",
    "plt.title('Comparaison des valeurs prédites aux valeurs réelles')\n",
    "plt.legend()\n",
    "plt.show()"
   ]
  },
  {
   "cell_type": "code",
   "execution_count": null,
   "metadata": {
    "colab": {
     "base_uri": "https://localhost:8080/"
    },
    "id": "rTiCqpeB8JAA",
    "outputId": "56a64391-b7c8-46cf-8245-47d154bc1329"
   },
   "outputs": [],
   "source": [
    "print(data.head())"
   ]
  },
  {
   "cell_type": "code",
   "execution_count": null,
   "metadata": {
    "id": "jv6GNSPHyQl7",
    "colab": {
     "base_uri": "https://localhost:8080/"
    },
    "outputId": "418ba947-c443-408a-8474-7d05bd30a85a"
   },
   "outputs": [],
   "source": [
    "team_data = pd.read_csv('/content/gw27.csv')\n",
    "team_data = team_data.rename(columns={'value': 'now_cost'})\n",
    "\n",
    "print(team_data.head())\n",
    "print(len(team_data))"
   ]
  },
  {
   "cell_type": "code",
   "execution_count": null,
   "metadata": {
    "id": "d7g_RO80RoyF"
   },
   "outputs": [],
   "source": [
    "def predict_player_performance(model, player_name, data):\n",
    "    # Filtrer les données pour obtenir les caractéristiques du joueur spécifié\n",
    "    player_data = data[data['name'] == player_name]\n",
    "\n",
    "    # Sélectionner uniquement les caractéristiques utilisées lors de l'entraînement\n",
    "    selected_features = ['goals_scored','assists','goals_conceded','creativity','influence','threat','bonus','clean_sheets','red_cards','yellow_cards','now_cost']\n",
    "\n",
    "\n",
    "    player_data = player_data[selected_features]\n",
    "\n",
    "    # Effectuer la prédiction\n",
    "    predicted_performance = optimal_model.predict(player_data)\n",
    "\n",
    "    # Calculer la moyenne des performances prédites\n",
    "    average_performance = np.mean(predicted_performance)\n",
    "\n",
    "    return average_performance"
   ]
  },
  {
   "cell_type": "code",
   "execution_count": null,
   "metadata": {
    "id": "GQ_iUhVi-qCE",
    "colab": {
     "base_uri": "https://localhost:8080/"
    },
    "outputId": "c31a3da6-7fe8-429e-f3a6-799902a391ab"
   },
   "outputs": [],
   "source": [
    "# Nom du joueur à prédire\n",
    "player_name = 'Erling Haaland'\n",
    "\n",
    "# Prédiction des performances du joueur\n",
    "predicted_performance = predict_player_performance(optimal_model, player_name, team_data)\n",
    "\n",
    "print(\"Performances prédites (total_points) pour le joueur: \",player_name, predicted_performance)\n"
   ]
  },
  {
   "cell_type": "code",
   "execution_count": null,
   "metadata": {
    "id": "pITncp_ESN4A",
    "colab": {
     "base_uri": "https://localhost:8080/"
    },
    "outputId": "c30f4893-4edf-42eb-aad8-abc6af6e789d"
   },
   "outputs": [],
   "source": [
    "# Sélectionner les informations pour le joueur spécifié\n",
    "player_info = team_data[team_data['name'] == player_name]\n",
    "\n",
    "# Vérifier si le joueur spécifié est présent dans les données\n",
    "if not player_info.empty:\n",
    "    # Extraire les informations nécessaires\n",
    "    now_cost = player_info['now_cost'].values[0]\n",
    "    total_points = player_info['total_points'].values[0]\n",
    "    position = player_info['position'].values[0]  # Assurez-vous que 'element_type' contient les informations sur le poste du joueur\n",
    "\n",
    "    # Afficher les informations\n",
    "    print(\"Nom du joueur:\", player_name)\n",
    "    print(\"Prix actuel:\", now_cost)\n",
    "    print(\"Total de points actuel:\", total_points)\n",
    "    print(\"Poste:\", position)\n",
    "else:\n",
    "    print(\"Le joueur spécifié n'a pas été trouvé dans les données.\")\n"
   ]
  },
  {
   "cell_type": "markdown",
   "metadata": {
    "id": "4si914XFna7j"
   },
   "source": [
    "prediction pour les joeurus de la saison en cours"
   ]
  },
  {
   "cell_type": "code",
   "execution_count": null,
   "metadata": {
    "id": "PlvJiOqimh-b",
    "colab": {
     "base_uri": "https://localhost:8080/"
    },
    "outputId": "85b54ae8-ebdf-4061-c65a-ac0fdf22e90a"
   },
   "outputs": [],
   "source": [
    "\n",
    "# Créer une liste pour stocker les prédictions de performances pour tous les joueurs de la saison 23-24\n",
    "all_predictions = []\n",
    "\n",
    "# Itérer sur chaque joueur dans le DataFrame de la saison 23-24\n",
    "for player_name in team_data['name']:\n",
    "    # Prédiction des performances du joueur avec le modèle entraîné\n",
    "    predicted_performance = predict_player_performance(optimal_model, player_name, team_data)\n",
    "\n",
    "    # Ajouter le nom du joueur et ses prédictions à la liste\n",
    "    all_predictions.append((player_name, predicted_performance))\n",
    "\n",
    "# Afficher les prédictions pour tous les joueurs de la saison 23-24\n",
    "for player_name, predicted_performance in all_predictions:\n",
    "    print(\"Performances prédites (total_points) pour le joueur:\", player_name, \":\", predicted_performance)\n"
   ]
  },
  {
   "cell_type": "code",
   "execution_count": null,
   "metadata": {
    "id": "aIJ4o3AWn512",
    "colab": {
     "base_uri": "https://localhost:8080/"
    },
    "outputId": "3e8f297c-d825-4b29-a5bc-976033a577ba"
   },
   "outputs": [],
   "source": [
    "print(len(all_predictions))"
   ]
  },
  {
   "cell_type": "code",
   "execution_count": null,
   "metadata": {
    "id": "1nL-8sU9tdRX"
   },
   "outputs": [],
   "source": [
    "# Créer un dictionnaire à partir de la liste de toutes les prédictions\n",
    "predicted_performances_dict = {player_name: predicted_performance for player_name, predicted_performance in all_predictions}\n"
   ]
  },
  {
   "cell_type": "markdown",
   "metadata": {
    "id": "QBcSP6nrpzln"
   },
   "source": [
    "Création d'une equipe"
   ]
  },
  {
   "cell_type": "code",
   "execution_count": null,
   "metadata": {
    "id": "VppjiciLpzTE"
   },
   "outputs": [],
   "source": [
    "def create_team(predicted_performances, data, budget=100, max_players_per_team=3):\n",
    "    team = []\n",
    "    remaining_budget = budget\n",
    "    positions_quota = {'GK': 2, 'DEF': 5, 'MID': 5, 'FWD': 3}\n",
    "    positions_count = {'GK': 0, 'DEF': 0, 'MID': 0, 'FWD': 0}\n",
    "    team_players_count = {}\n",
    "\n",
    "    # Tri des joueurs prédits par performances décroissantes\n",
    "    sorted_players = sorted(predicted_performances.items(), key=lambda x: x[1], reverse=True)\n",
    "\n",
    "    # Sélection des joueurs pour l'équipe en respectant les contraintes\n",
    "    for player_name, predicted_performance in sorted_players:\n",
    "        # Vérifier si l'équipe a déjà atteint le nombre maximum de joueurs\n",
    "        if len(team) >= 15:\n",
    "            break\n",
    "\n",
    "        # Vérifier si le joueur est présent dans les données\n",
    "        player_data = data[data['name'] == player_name]\n",
    "        if not player_data.empty:\n",
    "            player_cost = player_data['now_cost'].values[0]\n",
    "            player_position = player_data['position'].values[0]\n",
    "            player_team = player_data['team'].values[0]\n",
    "\n",
    "            # Vérification des contraintes de budget, de nombre maximum de joueurs par équipe et de quota par poste\n",
    "            if player_cost <= remaining_budget and team_players_count.get(player_team, 0) < max_players_per_team and positions_count[player_position] < positions_quota[player_position]:\n",
    "                team.append({\n",
    "                    'name': player_name,\n",
    "                    'position': player_position,\n",
    "                    'team': player_team,\n",
    "                    'cost': player_cost,\n",
    "                    'predicted_performance': predicted_performance\n",
    "                })\n",
    "                remaining_budget -= player_cost\n",
    "                positions_count[player_position] += 1\n",
    "                team_players_count[player_team] = team_players_count.get(player_team, 0) + 1\n",
    "\n",
    "    return team\n"
   ]
  },
  {
   "cell_type": "code",
   "execution_count": null,
   "metadata": {
    "id": "TuNXuVX1tlcC"
   },
   "outputs": [],
   "source": [
    "# Créer une équipe en utilisant les performances prédites\n",
    "team = create_team(predicted_performances_dict, team_data, budget=1000, max_players_per_team=3)"
   ]
  },
  {
   "cell_type": "code",
   "execution_count": null,
   "metadata": {
    "id": "kCnvJDajoFsL",
    "colab": {
     "base_uri": "https://localhost:8080/"
    },
    "outputId": "a606301d-e411-4c61-b298-7be7ec0ed875"
   },
   "outputs": [],
   "source": [
    "# Afficher l'équipe sélectionnée\n",
    "print(\"Équipe sélectionnée:\")\n",
    "for player in team:\n",
    "    print(f\"Nom: {player['name']}, Poste: {player['position']}, Équipe: {player['team']}, Coût: {player['cost']}, Performance Prédite: {player['predicted_performance']}\")\n"
   ]
  },
  {
   "cell_type": "code",
   "execution_count": null,
   "metadata": {
    "id": "LvUNcfStDHNP",
    "colab": {
     "base_uri": "https://localhost:8080/"
    },
    "outputId": "e4bc0ffd-769a-4beb-d21d-9ca2bc6f8401"
   },
   "outputs": [],
   "source": [
    "# Calcul du prix total de l'équipe recommandée\n",
    "total_cost = sum(player['cost'] for player in team)\n",
    "total_team_points = sum(player['predicted_performance'] for player in team)\n",
    "print(\"Le cout total de l'equipe est de:\", total_cost, \"k£\")\n",
    "print(\"Le nombre de point total de l'equipe est de:\", total_team_points)"
   ]
  },
  {
   "cell_type": "code",
   "execution_count": null,
   "metadata": {
    "id": "Np0y0altsbki",
    "colab": {
     "base_uri": "https://localhost:8080/"
    },
    "outputId": "0ca55efb-4385-4453-d8b6-1c7f0797137a"
   },
   "outputs": [],
   "source": [
    "\n",
    "# Affichage de la composition de l'équipe recommandée\n",
    "print(\"Composition de l'équipe recommandée:\")\n",
    "for player in team:\n",
    "    print(\"Joueur:\", player['name'])\n",
    "    print(\"Poste:\", player['position'])\n",
    "    print(\"Équipe:\", player['team'])\n",
    "    print(\"Prix:\", player['cost'], 'k£')\n",
    "    print(\"Score prédit:\", player['predicted_performance'])\n",
    "    print()"
   ]
  }
 ],
 "metadata": {
  "colab": {
   "provenance": []
  },
  "kernelspec": {
   "display_name": "Python 3",
   "name": "python3"
  },
  "language_info": {
   "name": "python"
  }
 },
 "nbformat": 4,
 "nbformat_minor": 0
}
