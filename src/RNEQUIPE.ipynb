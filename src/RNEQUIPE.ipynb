{
 "cells": [
  {
   "cell_type": "code",
   "execution_count": 92,
   "metadata": {
    "id": "9lDk2lSK7tmm",
    "colab": {
     "base_uri": "https://localhost:8080/"
    },
    "outputId": "2b19280f-5bd0-4bbf-eb4d-345631507a3d",
    "ExecuteTime": {
     "end_time": "2024-03-12T13:39:39.958398Z",
     "start_time": "2024-03-12T13:39:37.747831Z"
    }
   },
   "outputs": [],
   "source": [
    "import pandas as pd\n",
    "from sklearn.model_selection import GridSearchCV\n",
    "from sklearn.model_selection import train_test_split\n",
    "from sklearn.preprocessing import StandardScaler\n",
    "from sklearn.linear_model import LinearRegression\n",
    "from sklearn.model_selection import cross_val_score\n",
    "from sklearn.experimental import enable_hist_gradient_boosting  # noqa\n",
    "from sklearn.ensemble import HistGradientBoostingRegressor\n",
    "from sklearn.metrics import mean_squared_error, r2_score, mean_absolute_error\n",
    "from sklearn.metrics import mean_squared_error, mean_absolute_error\n",
    "\n",
    "\n",
    "import matplotlib.pyplot as plt\n",
    "import numpy as np\n",
    "import random\n",
    "import glob"
   ]
  },
  {
   "cell_type": "code",
   "execution_count": 93,
   "metadata": {
    "colab": {
     "base_uri": "https://localhost:8080/"
    },
    "id": "ya-ozkwHyZjw",
    "outputId": "12fcf106-de1b-43fb-d77f-4c78526a010a",
    "ExecuteTime": {
     "end_time": "2024-03-12T13:39:48.770918Z",
     "start_time": "2024-03-12T13:39:37.767064Z"
    }
   },
   "outputs": [
    {
     "name": "stdout",
     "output_type": "stream",
     "text": [
      "Lecture réussie avec l'encodage utf-8.\n",
      "Lecture réussie avec l'encodage utf-8.\n",
      "Lecture réussie avec l'encodage utf-8.\n",
      "Lecture réussie avec l'encodage utf-8.\n",
      "Échec de la lecture avec l'encodage utf-8. Essayer un autre encodage.\n",
      "Lecture réussie avec l'encodage ISO-8859-1.\n",
      "Lecture réussie avec l'encodage utf-8.\n",
      "Lecture réussie avec l'encodage utf-8.\n",
      "Lecture réussie avec l'encodage utf-8.\n",
      "<class 'pandas.core.frame.DataFrame'>\n",
      "RangeIndex: 5606 entries, 0 to 5605\n",
      "Data columns (total 19 columns):\n",
      " #   Column               Non-Null Count  Dtype  \n",
      "---  ------               --------------  -----  \n",
      " 0   goals_scored         5606 non-null   int64  \n",
      " 1   assists              5606 non-null   int64  \n",
      " 2   total_points         5606 non-null   int64  \n",
      " 3   minutes              5606 non-null   int64  \n",
      " 4   goals_conceded       5606 non-null   int64  \n",
      " 5   creativity           5606 non-null   float64\n",
      " 6   influence            5606 non-null   float64\n",
      " 7   threat               5606 non-null   float64\n",
      " 8   bonus                5606 non-null   int64  \n",
      " 9   bps                  5606 non-null   int64  \n",
      " 10  ict_index            5606 non-null   float64\n",
      " 11  clean_sheets         5606 non-null   int64  \n",
      " 12  red_cards            5606 non-null   int64  \n",
      " 13  yellow_cards         5606 non-null   int64  \n",
      " 14  selected_by_percent  5606 non-null   float64\n",
      " 15  now_cost             4923 non-null   float64\n",
      " 16  element_type         2986 non-null   object \n",
      " 17  source               5606 non-null   object \n",
      " 18  name                 5606 non-null   object \n",
      "dtypes: float64(6), int64(10), object(3)\n",
      "memory usage: 832.3+ KB\n",
      "None\n"
     ]
    }
   ],
   "source": [
    "# Chemin vers les fichiers CSV\n",
    "chemin = '/Users/melusinecaillard/Desktop/players/*.csv'\n",
    "\n",
    "# Liste des noms de fichiers\n",
    "fichiers = glob.glob(chemin)\n",
    "\n",
    "# Initialisation d'une liste pour stocker les DataFrames de chaque fichier\n",
    "dfs = []\n",
    "# Liste des encodages à essayer\n",
    "encodings_to_try = [ 'utf-8','ISO-8859-1']\n",
    "\n",
    "# Charger et concaténer les fichiers\n",
    "for fichier in fichiers:\n",
    "    df = None\n",
    "    # Essayer différents encodages jusqu'à ce que la lecture réussisse\n",
    "    for encoding in encodings_to_try:\n",
    "        try:\n",
    "            df = pd.read_csv(fichier, encoding=encoding)\n",
    "            print(f\"Lecture réussie avec l'encodage {encoding}.\")\n",
    "            break  # Sortir de la boucle si la lecture réussit avec un encodage\n",
    "        except UnicodeDecodeError:\n",
    "            print(f\"Échec de la lecture avec l'encodage {encoding}. Essayer un autre encodage.\")\n",
    "\n",
    "    if df is not None:\n",
    "        # Ajouter une colonne 'source' pour identifier la provenance de chaque fichier\n",
    "        nom_fichier = fichier.split('/')[-1]\n",
    "        saison = nom_fichier.split('.')[0].split('-')\n",
    "        df['source'] = f\"{saison[0]}-{saison[1]}\"\n",
    "        # Concaténer 'first_name' et 'second_name' en une seule colonne 'name'\n",
    "        df['name'] = df['first_name'] + ' ' + df['second_name']\n",
    "        # Supprimer les colonnes 'first_name' et 'second_name'\n",
    "        df = df.drop(columns=['first_name', 'second_name'])\n",
    "        # Ajouter le DataFrame à la liste\n",
    "        dfs.append(df)\n",
    "    else:\n",
    "        print(\"Échec de la lecture du fichier:\", fichier)\n",
    "\n",
    "\n",
    "# Concaténer tous les DataFrames en un seul\n",
    "data = pd.concat(dfs, ignore_index=True)\n",
    "\n",
    "\n",
    "\n",
    "# Maintenant vous pouvez faire du traitement de données sur le DataFrame 'data'\n",
    "# Par exemple, afficher les premières lignes\n",
    "print(data.info())\n"
   ]
  },
  {
   "cell_type": "code",
   "execution_count": 94,
   "metadata": {
    "id": "Lhaz1aMB8bns",
    "ExecuteTime": {
     "end_time": "2024-03-12T13:39:48.772308Z",
     "start_time": "2024-03-12T13:39:38.153943Z"
    }
   },
   "outputs": [],
   "source": [
    "# Ingénierie des caractéristiques\n",
    "selected_features = ['goals_scored','assists','goals_conceded','creativity','influence','threat','bonus','clean_sheets','red_cards','yellow_cards','now_cost']\n",
    "X = data[selected_features]\n",
    "y = data['total_points']"
   ]
  },
  {
   "cell_type": "code",
   "execution_count": 95,
   "metadata": {
    "id": "rzqCFCb3-az1",
    "ExecuteTime": {
     "end_time": "2024-03-12T13:39:49.019345Z",
     "start_time": "2024-03-12T13:39:38.185199Z"
    }
   },
   "outputs": [],
   "source": [
    "# Division des données en ensembles d'entraînement et de test\n",
    "X_train, X_test, y_train, y_test = train_test_split(X, y, test_size=0.2, random_state=42)"
   ]
  },
  {
   "cell_type": "code",
   "execution_count": 96,
   "metadata": {
    "id": "Nigvh0aE-d49",
    "ExecuteTime": {
     "end_time": "2024-03-12T13:39:49.022528Z",
     "start_time": "2024-03-12T13:39:38.240727Z"
    }
   },
   "outputs": [],
   "source": [
    "# Sélectionner uniquement les colonnes numériques\n",
    "numeric_columns = X_train.select_dtypes(include=['number']).columns"
   ]
  },
  {
   "cell_type": "code",
   "execution_count": 97,
   "metadata": {
    "colab": {
     "base_uri": "https://localhost:8080/"
    },
    "id": "E7sC2ek8Asvy",
    "outputId": "aaf0c416-61e8-4884-fc09-7d4d62ec2c63",
    "ExecuteTime": {
     "end_time": "2024-03-12T13:39:49.073610Z",
     "start_time": "2024-03-12T13:39:38.335393Z"
    }
   },
   "outputs": [
    {
     "name": "stdout",
     "output_type": "stream",
     "text": [
      "Valeurs manquantes dans y_train: 0\n",
      "Valeurs manquantes dans y_test: 0\n"
     ]
    }
   ],
   "source": [
    "# Vérification des valeurs manquantes dans les données d'entraînement\n",
    "print(\"Valeurs manquantes dans y_train:\", np.isnan(y_train).sum())\n",
    "\n",
    "# Vérification des valeurs manquantes dans les données de test\n",
    "print(\"Valeurs manquantes dans y_test:\", np.isnan(y_test).sum())\n"
   ]
  },
  {
   "cell_type": "code",
   "execution_count": 98,
   "metadata": {
    "id": "qX75IG1RF8YX",
    "ExecuteTime": {
     "end_time": "2024-03-12T13:39:49.171395Z",
     "start_time": "2024-03-12T13:39:38.423701Z"
    }
   },
   "outputs": [],
   "source": [
    "# Définir les hyperparamètres à optimiser\n",
    "param_grid = {\n",
    "    'learning_rate': [0.01, 0.1, 0.2],\n",
    "    'max_iter': [100, 200, 300],\n",
    "    'max_depth': [3, 5, 7],\n",
    "    'min_samples_leaf': [1, 2, 4],\n",
    "    'l2_regularization': [0.0, 0.1, 0.2]\n",
    "}\n"
   ]
  },
  {
   "cell_type": "code",
   "execution_count": 99,
   "metadata": {
    "id": "n-gjKsF1-dwq",
    "ExecuteTime": {
     "end_time": "2024-03-12T13:39:49.172349Z",
     "start_time": "2024-03-12T13:39:38.446540Z"
    }
   },
   "outputs": [],
   "source": [
    "# Create the HistGradientBoostingRegressor model\n",
    "model = HistGradientBoostingRegressor()"
   ]
  },
  {
   "cell_type": "code",
   "execution_count": 100,
   "metadata": {
    "colab": {
     "base_uri": "https://localhost:8080/",
     "height": 75
    },
    "id": "KDlgQNGIB-jO",
    "outputId": "cde79a51-575d-4990-bd1d-e6a5f7dad825",
    "ExecuteTime": {
     "end_time": "2024-03-12T13:39:50.287627Z",
     "start_time": "2024-03-12T13:39:38.468221Z"
    }
   },
   "outputs": [
    {
     "data": {
      "text/plain": "HistGradientBoostingRegressor()",
      "text/html": "<style>#sk-container-id-5 {\n  /* Definition of color scheme common for light and dark mode */\n  --sklearn-color-text: black;\n  --sklearn-color-line: gray;\n  /* Definition of color scheme for unfitted estimators */\n  --sklearn-color-unfitted-level-0: #fff5e6;\n  --sklearn-color-unfitted-level-1: #f6e4d2;\n  --sklearn-color-unfitted-level-2: #ffe0b3;\n  --sklearn-color-unfitted-level-3: chocolate;\n  /* Definition of color scheme for fitted estimators */\n  --sklearn-color-fitted-level-0: #f0f8ff;\n  --sklearn-color-fitted-level-1: #d4ebff;\n  --sklearn-color-fitted-level-2: #b3dbfd;\n  --sklearn-color-fitted-level-3: cornflowerblue;\n\n  /* Specific color for light theme */\n  --sklearn-color-text-on-default-background: var(--sg-text-color, var(--theme-code-foreground, var(--jp-content-font-color1, black)));\n  --sklearn-color-background: var(--sg-background-color, var(--theme-background, var(--jp-layout-color0, white)));\n  --sklearn-color-border-box: var(--sg-text-color, var(--theme-code-foreground, var(--jp-content-font-color1, black)));\n  --sklearn-color-icon: #696969;\n\n  @media (prefers-color-scheme: dark) {\n    /* Redefinition of color scheme for dark theme */\n    --sklearn-color-text-on-default-background: var(--sg-text-color, var(--theme-code-foreground, var(--jp-content-font-color1, white)));\n    --sklearn-color-background: var(--sg-background-color, var(--theme-background, var(--jp-layout-color0, #111)));\n    --sklearn-color-border-box: var(--sg-text-color, var(--theme-code-foreground, var(--jp-content-font-color1, white)));\n    --sklearn-color-icon: #878787;\n  }\n}\n\n#sk-container-id-5 {\n  color: var(--sklearn-color-text);\n}\n\n#sk-container-id-5 pre {\n  padding: 0;\n}\n\n#sk-container-id-5 input.sk-hidden--visually {\n  border: 0;\n  clip: rect(1px 1px 1px 1px);\n  clip: rect(1px, 1px, 1px, 1px);\n  height: 1px;\n  margin: -1px;\n  overflow: hidden;\n  padding: 0;\n  position: absolute;\n  width: 1px;\n}\n\n#sk-container-id-5 div.sk-dashed-wrapped {\n  border: 1px dashed var(--sklearn-color-line);\n  margin: 0 0.4em 0.5em 0.4em;\n  box-sizing: border-box;\n  padding-bottom: 0.4em;\n  background-color: var(--sklearn-color-background);\n}\n\n#sk-container-id-5 div.sk-container {\n  /* jupyter's `normalize.less` sets `[hidden] { display: none; }`\n     but bootstrap.min.css set `[hidden] { display: none !important; }`\n     so we also need the `!important` here to be able to override the\n     default hidden behavior on the sphinx rendered scikit-learn.org.\n     See: https://github.com/scikit-learn/scikit-learn/issues/21755 */\n  display: inline-block !important;\n  position: relative;\n}\n\n#sk-container-id-5 div.sk-text-repr-fallback {\n  display: none;\n}\n\ndiv.sk-parallel-item,\ndiv.sk-serial,\ndiv.sk-item {\n  /* draw centered vertical line to link estimators */\n  background-image: linear-gradient(var(--sklearn-color-text-on-default-background), var(--sklearn-color-text-on-default-background));\n  background-size: 2px 100%;\n  background-repeat: no-repeat;\n  background-position: center center;\n}\n\n/* Parallel-specific style estimator block */\n\n#sk-container-id-5 div.sk-parallel-item::after {\n  content: \"\";\n  width: 100%;\n  border-bottom: 2px solid var(--sklearn-color-text-on-default-background);\n  flex-grow: 1;\n}\n\n#sk-container-id-5 div.sk-parallel {\n  display: flex;\n  align-items: stretch;\n  justify-content: center;\n  background-color: var(--sklearn-color-background);\n  position: relative;\n}\n\n#sk-container-id-5 div.sk-parallel-item {\n  display: flex;\n  flex-direction: column;\n}\n\n#sk-container-id-5 div.sk-parallel-item:first-child::after {\n  align-self: flex-end;\n  width: 50%;\n}\n\n#sk-container-id-5 div.sk-parallel-item:last-child::after {\n  align-self: flex-start;\n  width: 50%;\n}\n\n#sk-container-id-5 div.sk-parallel-item:only-child::after {\n  width: 0;\n}\n\n/* Serial-specific style estimator block */\n\n#sk-container-id-5 div.sk-serial {\n  display: flex;\n  flex-direction: column;\n  align-items: center;\n  background-color: var(--sklearn-color-background);\n  padding-right: 1em;\n  padding-left: 1em;\n}\n\n\n/* Toggleable style: style used for estimator/Pipeline/ColumnTransformer box that is\nclickable and can be expanded/collapsed.\n- Pipeline and ColumnTransformer use this feature and define the default style\n- Estimators will overwrite some part of the style using the `sk-estimator` class\n*/\n\n/* Pipeline and ColumnTransformer style (default) */\n\n#sk-container-id-5 div.sk-toggleable {\n  /* Default theme specific background. It is overwritten whether we have a\n  specific estimator or a Pipeline/ColumnTransformer */\n  background-color: var(--sklearn-color-background);\n}\n\n/* Toggleable label */\n#sk-container-id-5 label.sk-toggleable__label {\n  cursor: pointer;\n  display: block;\n  width: 100%;\n  margin-bottom: 0;\n  padding: 0.5em;\n  box-sizing: border-box;\n  text-align: center;\n}\n\n#sk-container-id-5 label.sk-toggleable__label-arrow:before {\n  /* Arrow on the left of the label */\n  content: \"▸\";\n  float: left;\n  margin-right: 0.25em;\n  color: var(--sklearn-color-icon);\n}\n\n#sk-container-id-5 label.sk-toggleable__label-arrow:hover:before {\n  color: var(--sklearn-color-text);\n}\n\n/* Toggleable content - dropdown */\n\n#sk-container-id-5 div.sk-toggleable__content {\n  max-height: 0;\n  max-width: 0;\n  overflow: hidden;\n  text-align: left;\n  /* unfitted */\n  background-color: var(--sklearn-color-unfitted-level-0);\n}\n\n#sk-container-id-5 div.sk-toggleable__content.fitted {\n  /* fitted */\n  background-color: var(--sklearn-color-fitted-level-0);\n}\n\n#sk-container-id-5 div.sk-toggleable__content pre {\n  margin: 0.2em;\n  border-radius: 0.25em;\n  color: var(--sklearn-color-text);\n  /* unfitted */\n  background-color: var(--sklearn-color-unfitted-level-0);\n}\n\n#sk-container-id-5 div.sk-toggleable__content.fitted pre {\n  /* unfitted */\n  background-color: var(--sklearn-color-fitted-level-0);\n}\n\n#sk-container-id-5 input.sk-toggleable__control:checked~div.sk-toggleable__content {\n  /* Expand drop-down */\n  max-height: 200px;\n  max-width: 100%;\n  overflow: auto;\n}\n\n#sk-container-id-5 input.sk-toggleable__control:checked~label.sk-toggleable__label-arrow:before {\n  content: \"▾\";\n}\n\n/* Pipeline/ColumnTransformer-specific style */\n\n#sk-container-id-5 div.sk-label input.sk-toggleable__control:checked~label.sk-toggleable__label {\n  color: var(--sklearn-color-text);\n  background-color: var(--sklearn-color-unfitted-level-2);\n}\n\n#sk-container-id-5 div.sk-label.fitted input.sk-toggleable__control:checked~label.sk-toggleable__label {\n  background-color: var(--sklearn-color-fitted-level-2);\n}\n\n/* Estimator-specific style */\n\n/* Colorize estimator box */\n#sk-container-id-5 div.sk-estimator input.sk-toggleable__control:checked~label.sk-toggleable__label {\n  /* unfitted */\n  background-color: var(--sklearn-color-unfitted-level-2);\n}\n\n#sk-container-id-5 div.sk-estimator.fitted input.sk-toggleable__control:checked~label.sk-toggleable__label {\n  /* fitted */\n  background-color: var(--sklearn-color-fitted-level-2);\n}\n\n#sk-container-id-5 div.sk-label label.sk-toggleable__label,\n#sk-container-id-5 div.sk-label label {\n  /* The background is the default theme color */\n  color: var(--sklearn-color-text-on-default-background);\n}\n\n/* On hover, darken the color of the background */\n#sk-container-id-5 div.sk-label:hover label.sk-toggleable__label {\n  color: var(--sklearn-color-text);\n  background-color: var(--sklearn-color-unfitted-level-2);\n}\n\n/* Label box, darken color on hover, fitted */\n#sk-container-id-5 div.sk-label.fitted:hover label.sk-toggleable__label.fitted {\n  color: var(--sklearn-color-text);\n  background-color: var(--sklearn-color-fitted-level-2);\n}\n\n/* Estimator label */\n\n#sk-container-id-5 div.sk-label label {\n  font-family: monospace;\n  font-weight: bold;\n  display: inline-block;\n  line-height: 1.2em;\n}\n\n#sk-container-id-5 div.sk-label-container {\n  text-align: center;\n}\n\n/* Estimator-specific */\n#sk-container-id-5 div.sk-estimator {\n  font-family: monospace;\n  border: 1px dotted var(--sklearn-color-border-box);\n  border-radius: 0.25em;\n  box-sizing: border-box;\n  margin-bottom: 0.5em;\n  /* unfitted */\n  background-color: var(--sklearn-color-unfitted-level-0);\n}\n\n#sk-container-id-5 div.sk-estimator.fitted {\n  /* fitted */\n  background-color: var(--sklearn-color-fitted-level-0);\n}\n\n/* on hover */\n#sk-container-id-5 div.sk-estimator:hover {\n  /* unfitted */\n  background-color: var(--sklearn-color-unfitted-level-2);\n}\n\n#sk-container-id-5 div.sk-estimator.fitted:hover {\n  /* fitted */\n  background-color: var(--sklearn-color-fitted-level-2);\n}\n\n/* Specification for estimator info (e.g. \"i\" and \"?\") */\n\n/* Common style for \"i\" and \"?\" */\n\n.sk-estimator-doc-link,\na:link.sk-estimator-doc-link,\na:visited.sk-estimator-doc-link {\n  float: right;\n  font-size: smaller;\n  line-height: 1em;\n  font-family: monospace;\n  background-color: var(--sklearn-color-background);\n  border-radius: 1em;\n  height: 1em;\n  width: 1em;\n  text-decoration: none !important;\n  margin-left: 1ex;\n  /* unfitted */\n  border: var(--sklearn-color-unfitted-level-1) 1pt solid;\n  color: var(--sklearn-color-unfitted-level-1);\n}\n\n.sk-estimator-doc-link.fitted,\na:link.sk-estimator-doc-link.fitted,\na:visited.sk-estimator-doc-link.fitted {\n  /* fitted */\n  border: var(--sklearn-color-fitted-level-1) 1pt solid;\n  color: var(--sklearn-color-fitted-level-1);\n}\n\n/* On hover */\ndiv.sk-estimator:hover .sk-estimator-doc-link:hover,\n.sk-estimator-doc-link:hover,\ndiv.sk-label-container:hover .sk-estimator-doc-link:hover,\n.sk-estimator-doc-link:hover {\n  /* unfitted */\n  background-color: var(--sklearn-color-unfitted-level-3);\n  color: var(--sklearn-color-background);\n  text-decoration: none;\n}\n\ndiv.sk-estimator.fitted:hover .sk-estimator-doc-link.fitted:hover,\n.sk-estimator-doc-link.fitted:hover,\ndiv.sk-label-container:hover .sk-estimator-doc-link.fitted:hover,\n.sk-estimator-doc-link.fitted:hover {\n  /* fitted */\n  background-color: var(--sklearn-color-fitted-level-3);\n  color: var(--sklearn-color-background);\n  text-decoration: none;\n}\n\n/* Span, style for the box shown on hovering the info icon */\n.sk-estimator-doc-link span {\n  display: none;\n  z-index: 9999;\n  position: relative;\n  font-weight: normal;\n  right: .2ex;\n  padding: .5ex;\n  margin: .5ex;\n  width: min-content;\n  min-width: 20ex;\n  max-width: 50ex;\n  color: var(--sklearn-color-text);\n  box-shadow: 2pt 2pt 4pt #999;\n  /* unfitted */\n  background: var(--sklearn-color-unfitted-level-0);\n  border: .5pt solid var(--sklearn-color-unfitted-level-3);\n}\n\n.sk-estimator-doc-link.fitted span {\n  /* fitted */\n  background: var(--sklearn-color-fitted-level-0);\n  border: var(--sklearn-color-fitted-level-3);\n}\n\n.sk-estimator-doc-link:hover span {\n  display: block;\n}\n\n/* \"?\"-specific style due to the `<a>` HTML tag */\n\n#sk-container-id-5 a.estimator_doc_link {\n  float: right;\n  font-size: 1rem;\n  line-height: 1em;\n  font-family: monospace;\n  background-color: var(--sklearn-color-background);\n  border-radius: 1rem;\n  height: 1rem;\n  width: 1rem;\n  text-decoration: none;\n  /* unfitted */\n  color: var(--sklearn-color-unfitted-level-1);\n  border: var(--sklearn-color-unfitted-level-1) 1pt solid;\n}\n\n#sk-container-id-5 a.estimator_doc_link.fitted {\n  /* fitted */\n  border: var(--sklearn-color-fitted-level-1) 1pt solid;\n  color: var(--sklearn-color-fitted-level-1);\n}\n\n/* On hover */\n#sk-container-id-5 a.estimator_doc_link:hover {\n  /* unfitted */\n  background-color: var(--sklearn-color-unfitted-level-3);\n  color: var(--sklearn-color-background);\n  text-decoration: none;\n}\n\n#sk-container-id-5 a.estimator_doc_link.fitted:hover {\n  /* fitted */\n  background-color: var(--sklearn-color-fitted-level-3);\n}\n</style><div id=\"sk-container-id-5\" class=\"sk-top-container\"><div class=\"sk-text-repr-fallback\"><pre>HistGradientBoostingRegressor()</pre><b>In a Jupyter environment, please rerun this cell to show the HTML representation or trust the notebook. <br />On GitHub, the HTML representation is unable to render, please try loading this page with nbviewer.org.</b></div><div class=\"sk-container\" hidden><div class=\"sk-item\"><div class=\"sk-estimator fitted sk-toggleable\"><input class=\"sk-toggleable__control sk-hidden--visually\" id=\"sk-estimator-id-7\" type=\"checkbox\" checked><label for=\"sk-estimator-id-7\" class=\"sk-toggleable__label fitted sk-toggleable__label-arrow fitted\">&nbsp;&nbsp;HistGradientBoostingRegressor<a class=\"sk-estimator-doc-link fitted\" rel=\"noreferrer\" target=\"_blank\" href=\"https://scikit-learn.org/1.4/modules/generated/sklearn.ensemble.HistGradientBoostingRegressor.html\">?<span>Documentation for HistGradientBoostingRegressor</span></a><span class=\"sk-estimator-doc-link fitted\">i<span>Fitted</span></span></label><div class=\"sk-toggleable__content fitted\"><pre>HistGradientBoostingRegressor()</pre></div> </div></div></div></div>"
     },
     "execution_count": 100,
     "metadata": {},
     "output_type": "execute_result"
    }
   ],
   "source": [
    "# Train the model\n",
    "model.fit(X_train, y_train)\n"
   ]
  },
  {
   "cell_type": "code",
   "execution_count": 101,
   "metadata": {
    "id": "GtYDYvQN-diS",
    "ExecuteTime": {
     "end_time": "2024-03-12T13:39:50.297988Z",
     "start_time": "2024-03-12T13:39:48.864217Z"
    }
   },
   "outputs": [],
   "source": [
    "# Predict on the test set\n",
    "y_pred = model.predict(X_test)"
   ]
  },
  {
   "cell_type": "code",
   "execution_count": 102,
   "metadata": {
    "id": "1ist4q3_GCGh",
    "ExecuteTime": {
     "end_time": "2024-03-12T13:39:50.553960Z",
     "start_time": "2024-03-12T13:39:49.035406Z"
    }
   },
   "outputs": [],
   "source": [
    "# Créer l'objet GridSearchCV\n",
    "grid_search = GridSearchCV(estimator=model, param_grid=param_grid, cv=5, scoring='neg_mean_squared_error', n_jobs=-1)\n"
   ]
  },
  {
   "cell_type": "markdown",
   "metadata": {
    "id": "DEiebdcqpouJ"
   },
   "source": [
    "Evaluation des performances du modèle"
   ]
  },
  {
   "cell_type": "code",
   "execution_count": 103,
   "metadata": {
    "id": "D7OABscDEi4N",
    "ExecuteTime": {
     "end_time": "2024-03-12T13:40:06.118736Z",
     "start_time": "2024-03-12T13:39:49.106014Z"
    }
   },
   "outputs": [],
   "source": [
    "# Effectuer la validation croisée\n",
    "scores = cross_val_score(model, X, y, cv=5, scoring='neg_mean_squared_error')\n"
   ]
  },
  {
   "cell_type": "code",
   "execution_count": 104,
   "metadata": {
    "colab": {
     "base_uri": "https://localhost:8080/",
     "height": 119
    },
    "id": "XP3oZXw4GTdN",
    "outputId": "b3f870ef-e6fa-40a4-ac77-22cc63a41b25",
    "ExecuteTime": {
     "end_time": "2024-03-12T13:43:42.130645Z",
     "start_time": "2024-03-12T13:40:06.176298Z"
    }
   },
   "outputs": [
    {
     "name": "stderr",
     "output_type": "stream",
     "text": [
      "\n",
      "KeyboardInterrupt\n",
      "\n"
     ]
    }
   ],
   "source": [
    "# Exécuter la recherche par grille sur les données\n",
    "grid_search.fit(X, y)"
   ]
  },
  {
   "cell_type": "code",
   "execution_count": 105,
   "metadata": {
    "id": "dcR5d7-EppXz",
    "ExecuteTime": {
     "end_time": "2024-03-12T13:43:48.376731Z",
     "start_time": "2024-03-12T13:43:47.931925Z"
    }
   },
   "outputs": [],
   "source": [
    "# Calcul des métriques d'évaluation\n",
    "mse = mean_squared_error(y_test, y_pred)\n",
    "r2 = r2_score(y_test, y_pred)\n",
    "mae = mean_absolute_error(y_test, y_pred)\n",
    "# Calculer la moyenne des scores de MSE\n",
    "avg_mse = -scores.mean()"
   ]
  },
  {
   "cell_type": "code",
   "execution_count": 106,
   "metadata": {
    "colab": {
     "base_uri": "https://localhost:8080/"
    },
    "id": "CupwNLz-GWRI",
    "outputId": "8553ae6e-3cbb-428e-ab34-d245ef467d55",
    "ExecuteTime": {
     "end_time": "2024-03-12T13:43:50.489341Z",
     "start_time": "2024-03-12T13:43:50.101243Z"
    }
   },
   "outputs": [
    {
     "ename": "AttributeError",
     "evalue": "'GridSearchCV' object has no attribute 'best_params_'",
     "output_type": "error",
     "traceback": [
      "\u001B[0;31m---------------------------------------------------------------------------\u001B[0m",
      "\u001B[0;31mAttributeError\u001B[0m                            Traceback (most recent call last)",
      "Cell \u001B[0;32mIn[106], line 2\u001B[0m\n\u001B[1;32m      1\u001B[0m \u001B[38;5;66;03m# Afficher les meilleurs paramètres et la meilleure MSE\u001B[39;00m\n\u001B[0;32m----> 2\u001B[0m \u001B[38;5;28mprint\u001B[39m(\u001B[38;5;124m\"\u001B[39m\u001B[38;5;124mMeilleurs paramètres:\u001B[39m\u001B[38;5;124m\"\u001B[39m, \u001B[43mgrid_search\u001B[49m\u001B[38;5;241;43m.\u001B[39;49m\u001B[43mbest_params_\u001B[49m)\n\u001B[1;32m      3\u001B[0m \u001B[38;5;28mprint\u001B[39m(\u001B[38;5;124m\"\u001B[39m\u001B[38;5;124mMeilleure MSE:\u001B[39m\u001B[38;5;124m\"\u001B[39m, \u001B[38;5;241m-\u001B[39mgrid_search\u001B[38;5;241m.\u001B[39mbest_score_)\n",
      "\u001B[0;31mAttributeError\u001B[0m: 'GridSearchCV' object has no attribute 'best_params_'"
     ]
    }
   ],
   "source": [
    "# Afficher les meilleurs paramètres et la meilleure MSE\n",
    "print(\"Meilleurs paramètres:\", grid_search.best_params_)\n",
    "print(\"Meilleure MSE:\", -grid_search.best_score_)"
   ]
  },
  {
   "cell_type": "code",
   "execution_count": 107,
   "metadata": {
    "colab": {
     "base_uri": "https://localhost:8080/"
    },
    "id": "ITLl__hgpzyN",
    "outputId": "94d961e6-c2dc-4fa3-9b59-44df49eb6da0",
    "ExecuteTime": {
     "end_time": "2024-03-12T13:43:52.346668Z",
     "start_time": "2024-03-12T13:43:52.073325Z"
    }
   },
   "outputs": [
    {
     "name": "stdout",
     "output_type": "stream",
     "text": [
      "Mean Squared Error: 33.03430553567649\n",
      "R-squared: 0.9857973698022744\n",
      "Mean Absolute Error: 3.469018531795853\n",
      "Moyenne des scores de MSE: 38.69325786657404\n"
     ]
    }
   ],
   "source": [
    "print(\"Mean Squared Error:\", mse)\n",
    "print(\"R-squared:\", r2)\n",
    "print(\"Mean Absolute Error:\", mae)\n",
    "\n",
    "# Afficher le score moyen de MSE\n",
    "print(\"Moyenne des scores de MSE:\", avg_mse)"
   ]
  },
  {
   "cell_type": "code",
   "execution_count": 108,
   "metadata": {
    "colab": {
     "base_uri": "https://localhost:8080/",
     "height": 565
    },
    "id": "mDkRepp1qLU0",
    "outputId": "c2e49e43-1b48-4dd8-e3e3-07d8d20c50f9",
    "ExecuteTime": {
     "end_time": "2024-03-12T13:43:59.576013Z",
     "start_time": "2024-03-12T13:43:54.551355Z"
    }
   },
   "outputs": [
    {
     "data": {
      "text/plain": "<Figure size 1000x600 with 1 Axes>",
      "image/png": "[encoded data removed]"
     },
     "metadata": {},
     "output_type": "display_data"
    }
   ],
   "source": [
    "# Tracer les valeurs réelles par rapport aux valeurs prédites\n",
    "plt.figure(figsize=(10, 6))\n",
    "plt.scatter(y_test, y_pred, color='blue', label='Valeurs prédites vs réelles')\n",
    "plt.plot([y_test.min(), y_test.max()], [y_test.min(), y_test.max()], color='red', linestyle='--', label='Ligne de référence')\n",
    "plt.xlabel('Valeurs réelles')\n",
    "plt.ylabel('Valeurs prédites')\n",
    "plt.title('Comparaison des valeurs prédites aux valeurs réelles')\n",
    "plt.legend()\n",
    "plt.show()"
   ]
  },
  {
   "cell_type": "code",
   "execution_count": 145,
   "metadata": {
    "id": "7BJUhX-sKEqt",
    "ExecuteTime": {
     "end_time": "2024-03-12T14:07:02.626605Z",
     "start_time": "2024-03-12T14:07:02.588981Z"
    }
   },
   "outputs": [],
   "source": [
    "# Créer un nouveau modèle avec les paramètres optimisés\n",
    "optimal_model = HistGradientBoostingRegressor(\n",
    "    l2_regularization=0.0,\n",
    "    learning_rate=0.1,\n",
    "    max_depth=5,\n",
    "    max_iter=300,\n",
    "    min_samples_leaf=2\n",
    ")\n"
   ]
  },
  {
   "cell_type": "code",
   "execution_count": 149,
   "outputs": [],
   "source": [
    "import numpy as np\n",
    "import matplotlib.pyplot as plt\n",
    "from sklearn.metrics import r2_score\n",
    "\n",
    "def plot_learning_curve_r2(estimator, X_train, y_train, X_test, y_test):\n",
    "    train_r2 = []\n",
    "    test_r2 = []\n",
    "\n",
    "    for y_pred_train, y_pred_test in zip(estimator.staged_predict(X_train), estimator.staged_predict(X_test)):\n",
    "        train_r2.append(r2_score(y_train, y_pred_train))\n",
    "        test_r2.append(r2_score(y_test, y_pred_test))\n",
    "\n",
    "    plt.plot(train_r2, label='Train R²')\n",
    "    plt.plot(test_r2, label='Test R²')\n",
    "    plt.xlabel('Number of Trees')\n",
    "    plt.ylabel('R² Score')\n",
    "    plt.title('Learning Curve (R²)')\n",
    "    plt.legend()\n",
    "    plt.show()"
   ],
   "metadata": {
    "collapsed": false,
    "ExecuteTime": {
     "end_time": "2024-03-12T14:10:14.379710Z",
     "start_time": "2024-03-12T14:10:14.287321Z"
    }
   }
  },
  {
   "cell_type": "code",
   "execution_count": 161,
   "outputs": [],
   "source": [
    "def plot_learning_curve_metrics(estimator, X_train, y_train, X_test, y_test):\n",
    "    train_mse = []\n",
    "    test_mse = []\n",
    "    train_mae = []\n",
    "    test_mae = []\n",
    "\n",
    "    for y_pred_train, y_pred_test in zip(estimator.staged_predict(X_train), estimator.staged_predict(X_test)):\n",
    "        train_mse.append(mean_squared_error(y_train, y_pred_train))\n",
    "        test_mse.append(mean_squared_error(y_test, y_pred_test))\n",
    "        train_mae.append(mean_absolute_error(y_train, y_pred_train))\n",
    "        test_mae.append(mean_absolute_error(y_test, y_pred_test))\n",
    "\n",
    "    plt.figure(figsize=(12, 6))\n",
    "\n",
    "    plt.subplot(1, 2, 1)\n",
    "    plt.plot(train_mse, label='Train MSE')\n",
    "    plt.plot(test_mse, label='Test MSE')\n",
    "    plt.xlabel('Number of Trees')\n",
    "    plt.ylabel('MSE')\n",
    "    plt.title('Learning Curve (MSE)')\n",
    "    plt.legend()\n",
    "\n",
    "    plt.subplot(1, 2, 2)\n",
    "    plt.plot(train_mae, label='Train MAE')\n",
    "    plt.plot(test_mae, label='Test MAE')\n",
    "    plt.xlabel('Number of Trees')\n",
    "    plt.ylabel('MAE')\n",
    "    plt.title('Learning Curve (MAE)')\n",
    "    plt.legend()\n",
    "\n",
    "    plt.tight_layout()\n",
    "    plt.show()"
   ],
   "metadata": {
    "collapsed": false,
    "ExecuteTime": {
     "end_time": "2024-03-12T14:18:58.903978Z",
     "start_time": "2024-03-12T14:18:58.817937Z"
    }
   }
  },
  {
   "cell_type": "code",
   "execution_count": 162,
   "metadata": {
    "colab": {
     "base_uri": "https://localhost:8080/",
     "height": 75
    },
    "id": "v0IzyHE1KEjL",
    "outputId": "ae28a113-603a-4720-88d0-40881b6d6dc3",
    "ExecuteTime": {
     "end_time": "2024-03-12T14:19:25.836365Z",
     "start_time": "2024-03-12T14:19:19.555927Z"
    }
   },
   "outputs": [
    {
     "data": {
      "text/plain": "<Figure size 640x480 with 1 Axes>",
      "image/png": "[encoded data removed]"
     },
     "metadata": {},
     "output_type": "display_data"
    },
    {
     "data": {
      "text/plain": "<Figure size 1200x600 with 2 Axes>",
      "image/png": "[encoded data removed]"
     },
     "metadata": {},
     "output_type": "display_data"
    }
   ],
   "source": [
    "# Entraîner le nouveau modèle avec les données d'entraînement\n",
    "optimal_model.fit(X_train, y_train)\n",
    "plot_learning_curve_r2(optimal_model, X_train, y_train, X_test, y_test)\n",
    "plot_learning_curve_metrics(optimal_model, X_train, y_train, X_test, y_test)\n"
   ]
  },
  {
   "cell_type": "code",
   "execution_count": 151,
   "outputs": [],
   "source": [
    "# Prédire sur les données de test\n",
    "y_pred_optimal = optimal_model.predict(X_test)"
   ],
   "metadata": {
    "collapsed": false,
    "ExecuteTime": {
     "start_time": "2024-03-12T14:10:59.972125Z"
    }
   }
  },
  {
   "cell_type": "code",
   "execution_count": 152,
   "outputs": [],
   "source": [
    "# Calculer le RMSE\n",
    "rmse_optimal = np.sqrt(mean_squared_error(y_test, y_pred_optimal))\n",
    "\n",
    "# Calculer le MAPE\n",
    "# Calculer le MAPE en évitant les divisions par zéro\n",
    "mape_optimal = np.mean(np.abs((y_test - y_pred_optimal) / y_test.replace(0, np.nan))) * 100\n"
   ],
   "metadata": {
    "collapsed": false,
    "ExecuteTime": {
     "start_time": "2024-03-12T14:11:02.375061Z"
    }
   }
  },
  {
   "cell_type": "code",
   "execution_count": 153,
   "outputs": [],
   "source": [
    "# Évaluer les performances du nouveau modèle sur les données de test\n",
    "mse_optimal = mean_squared_error(y_test, y_pred_optimal)\n",
    "r2_optimal = r2_score(y_test, y_pred_optimal)\n",
    "mae_optimal = mean_absolute_error(y_test, y_pred_optimal)"
   ],
   "metadata": {
    "collapsed": false,
    "ExecuteTime": {
     "start_time": "2024-03-12T14:11:04.020324Z"
    }
   }
  },
  {
   "cell_type": "code",
   "execution_count": 154,
   "outputs": [
    {
     "name": "stdout",
     "output_type": "stream",
     "text": [
      "Performances du modèle avec les paramètres optimisés :\n",
      "MSE: 33.04935294037537\n",
      "R-squared: 0.9857909003844705\n",
      "MAE: 3.4067805653356045\n",
      "RMSE: 5.748856663752835\n",
      "MAPE: 20.410655950494\n"
     ]
    }
   ],
   "source": [
    "\n",
    "# Afficher les performances du nouveau modèle\n",
    "print(\"Performances du modèle avec les paramètres optimisés :\")\n",
    "print(\"MSE:\", mse_optimal)\n",
    "print(\"R-squared:\", r2_optimal)\n",
    "print(\"MAE:\", mae_optimal)\n",
    "print(\"RMSE:\", rmse_optimal)\n",
    "print(\"MAPE:\", mape_optimal)"
   ],
   "metadata": {
    "collapsed": false,
    "ExecuteTime": {
     "start_time": "2024-03-12T14:11:05.769910Z"
    }
   }
  },
  {
   "cell_type": "code",
   "execution_count": 155,
   "outputs": [
    {
     "data": {
      "text/plain": "<Figure size 1000x600 with 1 Axes>",
      "image/png": "[encoded data removed]"
     },
     "metadata": {},
     "output_type": "display_data"
    }
   ],
   "source": [
    "# Tracer les valeurs réelles par rapport aux valeurs prédites\n",
    "plt.figure(figsize=(10, 6))\n",
    "plt.scatter(y_test, y_pred_optimal, color='blue', label='Valeurs prédites vs réelles')\n",
    "plt.plot([y_test.min(), y_test.max()], [y_test.min(), y_test.max()], color='red', linestyle='--', label='Ligne de référence')\n",
    "plt.xlabel('Valeurs réelles')\n",
    "plt.ylabel('Valeurs prédites')\n",
    "plt.title('Comparaison des valeurs prédites aux valeurs réelles')\n",
    "plt.legend()\n",
    "plt.show()"
   ],
   "metadata": {
    "collapsed": false,
    "ExecuteTime": {
     "start_time": "2024-03-12T14:11:11.757140Z"
    }
   }
  },
  {
   "cell_type": "code",
   "execution_count": 159,
   "outputs": [
    {
     "data": {
      "text/plain": "<Figure size 1000x600 with 1 Axes>",
      "image/png": "[encoded data removed]"
     },
     "metadata": {},
     "output_type": "display_data"
    }
   ],
   "source": [
    "# Calculer les résidus\n",
    "residuals = y_test - y_pred_optimal\n",
    "\n",
    "# Tracer les résidus\n",
    "plt.figure(figsize=(10, 6))\n",
    "plt.scatter(y_pred_optimal, residuals, color='blue')\n",
    "plt.xlabel('Valeurs prédites')\n",
    "plt.ylabel('Résidus')\n",
    "plt.title('Analyse des résidus')\n",
    "plt.axhline(y=0, color='red', linestyle='--')\n",
    "plt.show()\n"
   ],
   "metadata": {
    "collapsed": false,
    "ExecuteTime": {
     "end_time": "2024-03-12T14:14:18.764483Z",
     "start_time": "2024-03-12T14:14:18.423677Z"
    }
   }
  },
  {
   "cell_type": "markdown",
   "source": [
    "les résidus sont distribués de manière aléatoire, cela indique que le modèle ne présente pas de biais systématique dans ses prédictions."
   ],
   "metadata": {
    "collapsed": false
   }
  },
  {
   "cell_type": "code",
   "execution_count": 160,
   "outputs": [
    {
     "data": {
      "text/plain": "<Figure size 1000x600 with 1 Axes>",
      "image/png": "[encoded data removed]"
     },
     "metadata": {},
     "output_type": "display_data"
    }
   ],
   "source": [
    "# Tracer l'histogramme des résidus\n",
    "plt.figure(figsize=(10, 6))\n",
    "plt.hist(residuals, bins=30, color='blue', edgecolor='black')\n",
    "plt.xlabel('Résidus')\n",
    "plt.ylabel('Fréquence')\n",
    "plt.title('Histogramme des résidus')\n",
    "plt.axvline(x=0, color='red', linestyle='--')\n",
    "plt.show()\n"
   ],
   "metadata": {
    "collapsed": false,
    "ExecuteTime": {
     "end_time": "2024-03-12T14:16:27.251393Z",
     "start_time": "2024-03-12T14:16:26.910622Z"
    }
   }
  },
  {
   "cell_type": "code",
   "execution_count": null,
   "metadata": {
    "colab": {
     "base_uri": "https://localhost:8080/"
    },
    "id": "rTiCqpeB8JAA",
    "outputId": "56a64391-b7c8-46cf-8245-47d154bc1329",
    "ExecuteTime": {
     "start_time": "2024-03-12T13:43:42.682085Z"
    }
   },
   "outputs": [],
   "source": [
    "print(data.head())"
   ]
  },
  {
   "cell_type": "code",
   "execution_count": null,
   "metadata": {
    "id": "jv6GNSPHyQl7",
    "colab": {
     "base_uri": "https://localhost:8080/"
    },
    "outputId": "418ba947-c443-408a-8474-7d05bd30a85a",
    "ExecuteTime": {
     "start_time": "2024-03-12T13:43:42.683066Z"
    }
   },
   "outputs": [],
   "source": [
    "\"\"\"\n",
    "team_data = pd.read_csv('/Users/melusinecaillard/RSPL/data/2023-''''24/gws/gw16.csv')\n",
    "team_data = team_data.rename(columns={'value': 'now_cost'})\n",
    "\n",
    "print(team_data.head())\n",
    "print(len(team_data))\n",
    "\"\"\""
   ]
  },
  {
   "cell_type": "code",
   "execution_count": 1,
   "outputs": [
    {
     "ename": "ModuleNotFoundError",
     "evalue": "No module named 'pandas'",
     "output_type": "error",
     "traceback": [
      "\u001B[1;31m---------------------------------------------------------------------------\u001B[0m",
      "\u001B[1;31mModuleNotFoundError\u001B[0m                       Traceback (most recent call last)",
      "Cell \u001B[1;32mIn[1], line 1\u001B[0m\n\u001B[1;32m----> 1\u001B[0m \u001B[38;5;28;01mimport\u001B[39;00m \u001B[38;5;21;01mpandas\u001B[39;00m \u001B[38;5;28;01mas\u001B[39;00m \u001B[38;5;21;01mpd\u001B[39;00m\n\u001B[0;32m      2\u001B[0m \u001B[38;5;28;01mimport\u001B[39;00m \u001B[38;5;21;01mboto3\u001B[39;00m\n\u001B[0;32m      3\u001B[0m \u001B[38;5;28;01mimport\u001B[39;00m \u001B[38;5;21;01mjson\u001B[39;00m\n",
      "\u001B[1;31mModuleNotFoundError\u001B[0m: No module named 'pandas'"
     ]
    }
   ],
   "source": [
    "import pandas as pd\n",
    "import boto3\n",
    "import json\n",
    "\n",
    "# Charger les informations d'identification à partir du fichier de configuration\n",
    "with open('config.json') as f:\n",
    "    config = json.load(f)\n",
    "\n",
    "aws_access_key_id = config['AWS_ACCESS_KEY_ID']\n",
    "aws_secret_access_key = config['AWS_SECRET_ACCESS_KEY']\n",
    "\n",
    "\n",
    "#Créer une connexion S3 en utilisant les variables d'environnement\n",
    "s3 = boto3.client('s3', aws_access_key_id=aws_access_key_id, aws_secret_access_key=aws_secret_access_key)\n",
    "\n",
    "# Nom du bucket S3\n",
    "bucket_name = 'myfplbucket1'\n",
    "\n",
    "# Préfixe du dossier dans S3 où se trouvent les fichiers gw\n",
    "dossier_prefix = 'data/2023-24/gws/'\n",
    "\n",
    "# Rechercher le fichier gw le plus récent\n",
    "fichier_gw_recent = None\n",
    "dernier_num_gw = 0\n",
    "\n",
    "for num_gw in range(1, 39):\n",
    "    nom_fichier_s3 = f'{dossier_prefix}gw{num_gw}.csv'\n",
    "    try:\n",
    "        s3.head_object(Bucket=bucket_name, Key=nom_fichier_s3)\n",
    "        dernier_num_gw = num_gw\n",
    "    except Exception as e:\n",
    "        # Le fichier n'existe pas, passer au suivant\n",
    "        pass\n",
    "print(dernier_num_gw)\n",
    "# Si aucun fichier gw n'a été trouvé, sortir\n",
    "if dernier_num_gw == 0:\n",
    "    print(\"Aucun fichier gw trouvé dans le dossier.\")\n",
    "    exit()\n",
    "\n",
    "# Télécharger le fichier gw le plus récent\n",
    "nom_fichier_s3_recent = f'{dossier_prefix}gw{dernier_num_gw}.csv'\n",
    "chemin_local_recent = f'../data/2023-24/gws/gw{dernier_num_gw}.csv'\n",
    "s3.download_file(bucket_name, nom_fichier_s3_recent, chemin_local_recent)\n",
    "\n",
    "# Lire le fichier CSV avec pandas\n",
    "team_data = pd.read_csv(chemin_local_recent)\n",
    "team_data = team_data.rename(columns={'value': 'now_cost'})\n",
    "\n",
    "# Afficher les premières lignes du DataFrame pour vérifier si le fichier a été correctement lu\n",
    "print(team_data.head())"
   ],
   "metadata": {
    "collapsed": false,
    "ExecuteTime": {
     "end_time": "2024-03-12T13:48:48.820318Z",
     "start_time": "2024-03-12T13:48:46.061171Z"
    }
   }
  },
  {
   "cell_type": "code",
   "execution_count": 119,
   "metadata": {
    "id": "d7g_RO80RoyF",
    "ExecuteTime": {
     "end_time": "2024-03-12T13:46:20.147883Z",
     "start_time": "2024-03-12T13:46:20.021880Z"
    }
   },
   "outputs": [],
   "source": [
    "def predict_player_performance(model, player_name, data):\n",
    "    # Filtrer les données pour obtenir les caractéristiques du joueur spécifié\n",
    "    player_data = data[data['name'] == player_name]\n",
    "\n",
    "    # Sélectionner uniquement les caractéristiques utilisées lors de l'entraînement\n",
    "    selected_features = ['goals_scored','assists','goals_conceded','creativity','influence','threat','bonus','clean_sheets','red_cards','yellow_cards','now_cost']\n",
    "\n",
    "\n",
    "    player_data = player_data[selected_features]\n",
    "\n",
    "    # Effectuer la prédiction\n",
    "    predicted_performance = optimal_model.predict(player_data)\n",
    "\n",
    "    # Calculer la moyenne des performances prédites\n",
    "    average_performance = np.mean(predicted_performance)\n",
    "\n",
    "    return average_performance"
   ]
  },
  {
   "cell_type": "code",
   "execution_count": 120,
   "metadata": {
    "id": "GQ_iUhVi-qCE",
    "colab": {
     "base_uri": "https://localhost:8080/"
    },
    "outputId": "c31a3da6-7fe8-429e-f3a6-799902a391ab",
    "ExecuteTime": {
     "end_time": "2024-03-12T13:46:22.079863Z",
     "start_time": "2024-03-12T13:46:21.800508Z"
    }
   },
   "outputs": [
    {
     "name": "stdout",
     "output_type": "stream",
     "text": [
      "Performances prédites (total_points) pour le joueur:  Erling Haaland 6.480142567968518\n"
     ]
    }
   ],
   "source": [
    "# Nom du joueur à prédire\n",
    "player_name = 'Erling Haaland'\n",
    "\n",
    "# Prédiction des performances du joueur\n",
    "predicted_performance = predict_player_performance(optimal_model, player_name, team_data)\n",
    "\n",
    "print(\"Performances prédites (total_points) pour le joueur: \",player_name, predicted_performance)\n"
   ]
  },
  {
   "cell_type": "code",
   "execution_count": 121,
   "metadata": {
    "id": "pITncp_ESN4A",
    "colab": {
     "base_uri": "https://localhost:8080/"
    },
    "outputId": "c30f4893-4edf-42eb-aad8-abc6af6e789d",
    "ExecuteTime": {
     "end_time": "2024-03-12T13:46:24.412943Z",
     "start_time": "2024-03-12T13:46:24.151928Z"
    }
   },
   "outputs": [
    {
     "name": "stdout",
     "output_type": "stream",
     "text": [
      "Nom du joueur: Erling Haaland\n",
      "Prix actuel: 145\n",
      "Total de points actuel: 6\n",
      "Poste: FWD\n"
     ]
    }
   ],
   "source": [
    "# Sélectionner les informations pour le joueur spécifié\n",
    "player_info = team_data[team_data['name'] == player_name]\n",
    "\n",
    "# Vérifier si le joueur spécifié est présent dans les données\n",
    "if not player_info.empty:\n",
    "    # Extraire les informations nécessaires\n",
    "    now_cost = player_info['now_cost'].values[0]\n",
    "    total_points = player_info['total_points'].values[0]\n",
    "    position = player_info['position'].values[0]  # Assurez-vous que 'element_type' contient les informations sur le poste du joueur\n",
    "\n",
    "    # Afficher les informations\n",
    "    print(\"Nom du joueur:\", player_name)\n",
    "    print(\"Prix actuel:\", now_cost)\n",
    "    print(\"Total de points actuel:\", total_points)\n",
    "    print(\"Poste:\", position)\n",
    "else:\n",
    "    print(\"Le joueur spécifié n'a pas été trouvé dans les données.\")\n"
   ]
  },
  {
   "cell_type": "markdown",
   "metadata": {
    "id": "4si914XFna7j"
   },
   "source": [
    "prediction pour les joueurs de la saison en cours"
   ]
  },
  {
   "cell_type": "code",
   "execution_count": 122,
   "metadata": {
    "id": "PlvJiOqimh-b",
    "colab": {
     "base_uri": "https://localhost:8080/"
    },
    "outputId": "85b54ae8-ebdf-4061-c65a-ac0fdf22e90a",
    "ExecuteTime": {
     "end_time": "2024-03-12T13:47:43.279846Z",
     "start_time": "2024-03-12T13:46:31.061724Z"
    }
   },
   "outputs": [
    {
     "name": "stdout",
     "output_type": "stream",
     "text": [
      "Performances prédites (total_points) pour le joueur: Femi Seriki : -0.013138286064603245\n",
      "Performances prédites (total_points) pour le joueur: Josh Brooking : -0.013138286064603245\n",
      "Performances prédites (total_points) pour le joueur: Radek Vítek : -0.013138286064603245\n",
      "Performances prédites (total_points) pour le joueur: Jack Hinshelwood : 0.15660605401796962\n",
      "Performances prédites (total_points) pour le joueur: Jadon Sancho : -0.07878916825308502\n",
      "Performances prédites (total_points) pour le joueur: Divock Origi : 5.799174602711689\n",
      "Performances prédites (total_points) pour le joueur: Sam Curtis : -0.013138286064603245\n",
      "Performances prédites (total_points) pour le joueur: Rhys Norrington-Davies : -0.013138286064603245\n",
      "Performances prédites (total_points) pour le joueur: Vitaly Janelt : 2.885751496207847\n",
      "Performances prédites (total_points) pour le joueur: Ionuț Radu : 0.15660605401796962\n",
      "Performances prédites (total_points) pour le joueur: Andre Brooks : 1.7062633842599444\n",
      "Performances prédites (total_points) pour le joueur: Jack Grealish : -0.06079335152644786\n",
      "Performances prédites (total_points) pour le joueur: Emil Krafth : 0.15660605401796962\n",
      "Performances prédites (total_points) pour le joueur: Boubacar Traoré : 0.929751902002701\n",
      "Performances prédites (total_points) pour le joueur: Denis Franchi : -0.013138286064603245\n",
      "Performances prédites (total_points) pour le joueur: James Shea : 0.15660605401796962\n",
      "Performances prédites (total_points) pour le joueur: Curtis Jones : 0.16424948896928615\n",
      "Performances prédites (total_points) pour le joueur: Myles Lewis-Skelly : 0.15660605401796962\n",
      "Performances prédites (total_points) pour le joueur: Devan Tanton : -0.013138286064603245\n",
      "Performances prédites (total_points) pour le joueur: Reece James : 0.053926357709373714\n",
      "Performances prédites (total_points) pour le joueur: Brandon Austin : -0.013138286064603245\n",
      "Performances prédites (total_points) pour le joueur: Anssumane Fati Vieira : 3.848195324168905\n",
      "Performances prédites (total_points) pour le joueur: Robin Olsen : -0.013138286064603245\n",
      "Performances prédites (total_points) pour le joueur: Fabian Mrozek : -0.013138286064603245\n",
      "Performances prédites (total_points) pour le joueur: Joe Gardner : 0.15660605401796962\n",
      "Performances prédites (total_points) pour le joueur: Ben Osborn : 2.345042951043388\n",
      "Performances prédites (total_points) pour le joueur: Amad Diallo : 0.15660605401796962\n",
      "Performances prédites (total_points) pour le joueur: Anthony Elanga : 3.0233517267466596\n",
      "Performances prédites (total_points) pour le joueur: Kaelan Casey : -0.013138286064603245\n",
      "Performances prédites (total_points) pour le joueur: Oliver Norwood : 1.9977502759720807\n",
      "Performances prédites (total_points) pour le joueur: Harry Toffolo : 3.010257981275509\n",
      "Performances prédites (total_points) pour le joueur: Bernardo Veiga de Carvalho e Silva : 8.873815940526857\n",
      "Performances prédites (total_points) pour le joueur: Charlie Taylor : 2.8934392606907924\n",
      "Performances prédites (total_points) pour le joueur: Adam Wharton : 4.474457695472939\n",
      "Performances prédites (total_points) pour le joueur: Ivan Toney : 3.757101477400034\n",
      "Performances prédites (total_points) pour le joueur: Ji-Soo Kim : -0.013138286064603245\n",
      "Performances prédites (total_points) pour le joueur: Nuno Varela Tavares : -0.013138286064603245\n",
      "Performances prédites (total_points) pour le joueur: Alex Murphy : -0.013138286064603245\n",
      "Performances prédites (total_points) pour le joueur: Eddie Nketiah : 0.38442180011749943\n",
      "Performances prédites (total_points) pour le joueur: Benoît Badiashile : 0.15660605401796962\n",
      "Performances prédites (total_points) pour le joueur: Emile Smith Rowe : 0.053926357709373714\n",
      "Performances prédites (total_points) pour le joueur: Jarell Quansah : -0.013138286064603245\n",
      "Performances prédites (total_points) pour le joueur: Ben Chilwell : 3.5799759629458565\n",
      "Performances prédites (total_points) pour le joueur: Philippe Coutinho Correia : 0.2654153119446892\n",
      "Performances prédites (total_points) pour le joueur: Tim Iroegbunam : 1.336481024487487\n",
      "Performances prédites (total_points) pour le joueur: Andy Lonergan : -0.013138286064603245\n",
      "Performances prédites (total_points) pour le joueur: Carlos Baleba : 2.792653537851111\n",
      "Performances prédites (total_points) pour le joueur: Pablo Sarabia : 7.11757026029461\n",
      "Performances prédites (total_points) pour le joueur: Kieffer Moore : 0.15660605401796962\n",
      "Performances prédites (total_points) pour le joueur: Wayne Hennessey : -0.013138286064603245\n",
      "Performances prédites (total_points) pour le joueur: Remi Matthews : -0.013138286064603245\n",
      "Performances prédites (total_points) pour le joueur: Ibrahima Konaté : 9.78089600152253\n",
      "Performances prédites (total_points) pour le joueur: Joelinton Cássio Apolinário de Lira : 0.2654153119446892\n",
      "Performances prédites (total_points) pour le joueur: Travis Hernes : 0.15660605401796962\n",
      "Performances prédites (total_points) pour le joueur: Marcus Tavernier : 5.733333042927117\n",
      "Performances prédites (total_points) pour le joueur: Matthew Cox : -0.013138286064603245\n",
      "Performances prédites (total_points) pour le joueur: Manuel Akanji : 0.16424948896928615\n",
      "Performances prédites (total_points) pour le joueur: Matheus França de Oliveira : 1.781646167105893\n",
      "Performances prédites (total_points) pour le joueur: Justin Hubner : -0.013138286064603245\n",
      "Performances prédites (total_points) pour le joueur: Lucas Tolentino Coelho de Lima : 4.753612416085307\n",
      "Performances prédites (total_points) pour le joueur: Rasmus Højlund : -0.06079335152644786\n",
      "Performances prédites (total_points) pour le joueur: Luca Koleosho : 0.16424948896928615\n",
      "Performances prédites (total_points) pour le joueur: Rayan Aït-Nouri : 3.090902055132475\n",
      "Performances prédites (total_points) pour le joueur: Calum Chambers : -0.013138286064603245\n",
      "Performances prédites (total_points) pour le joueur: Ben Davies : 0.15660605401796962\n",
      "Performances prédites (total_points) pour le joueur: Emerson Palmieri dos Santos : 2.8011476354802287\n",
      "Performances prédites (total_points) pour le joueur: Luis Díaz : 7.506484544717952\n",
      "Performances prédites (total_points) pour le joueur: Lawrence Vigouroux : -0.013138286064603245\n",
      "Performances prédites (total_points) pour le joueur: Jakub Moder : 1.593636661272613\n",
      "Performances prédites (total_points) pour le joueur: Tommi O'Reilly : 0.15660605401796962\n",
      "Performances prédites (total_points) pour le joueur: Dara Costelloe : 0.15660605401796962\n",
      "Performances prédites (total_points) pour le joueur: Ashley Phillips : -0.013138286064603245\n",
      "Performances prédites (total_points) pour le joueur: John Stones : 3.369214171130273\n",
      "Performances prédites (total_points) pour le joueur: Idrissa Gueye : 0.16424948896928615\n",
      "Performances prédites (total_points) pour le joueur: Harry Wilson : 16.221667231488183\n",
      "Performances prédites (total_points) pour le joueur: Marcus Bettinelli : -0.013138286064603245\n",
      "Performances prédites (total_points) pour le joueur: Malcolm Ebiowei : 0.15660605401796962\n",
      "Performances prédites (total_points) pour le joueur: Benjamin White : 12.656241324713791\n",
      "Performances prédites (total_points) pour le joueur: Leigh Kavanagh : -0.013138286064603245\n",
      "Performances prédites (total_points) pour le joueur: Teden Mengi : 2.661400492876237\n",
      "Performances prédites (total_points) pour le joueur: Ezri Konsa Ngoyo : 2.2197265067490757\n",
      "Performances prédites (total_points) pour le joueur: Luis Sinisterra : 0.03344969484728858\n",
      "Performances prédites (total_points) pour le joueur: Thomas Partey : 1.841728878965614\n",
      "Performances prédites (total_points) pour le joueur: Jayden Luker : 0.15660605401796962\n",
      "Performances prédites (total_points) pour le joueur: Jamal Lewis : -0.013138286064603245\n",
      "Performances prédites (total_points) pour le joueur: Leon Bailey : 11.075149355409115\n",
      "Performances prédites (total_points) pour le joueur: Jonny Evans : 2.1688074229498793\n",
      "Performances prédites (total_points) pour le joueur: Ethan Horvath : 0.15660605401796962\n",
      "Performances prédites (total_points) pour le joueur: Valentín Barco : -0.013138286064603245\n",
      "Performances prédites (total_points) pour le joueur: Luke Plange : 0.15660605401796962\n",
      "Performances prédites (total_points) pour le joueur: Luke Shaw : 0.053926357709373714\n",
      "Performances prédites (total_points) pour le joueur: Oliver Scarles : -0.013138286064603245\n",
      "Performances prédites (total_points) pour le joueur: Mario Lemina : 3.563398054303796\n",
      "Performances prédites (total_points) pour le joueur: Andi Zeqiri : 0.15660605401796962\n",
      "Performances prédites (total_points) pour le joueur: James Tarkowski : 3.0482381585530542\n",
      "Performances prédites (total_points) pour le joueur: Kristoffer Ajer : 2.197009611037465\n",
      "Performances prédites (total_points) pour le joueur: Brennan Johnson : 9.55916235598834\n",
      "Performances prédites (total_points) pour le joueur: Jake O'Brien : -0.013138286064603245\n",
      "Performances prédites (total_points) pour le joueur: Eddie Beach : -0.013138286064603245\n",
      "Performances prédites (total_points) pour le joueur: James Sweet : -0.013138286064603245\n",
      "Performances prédites (total_points) pour le joueur: Ryan Sessegnon : 0.15660605401796962\n",
      "Performances prédites (total_points) pour le joueur: Justin Kluivert : 9.472411426302681\n",
      "Performances prédites (total_points) pour le joueur: Viljami Sinisalo : -0.013138286064603245\n",
      "Performances prédites (total_points) pour le joueur: Pierre-Emile Højbjerg : 1.3464280511662219\n",
      "Performances prédites (total_points) pour le joueur: Lesley Ugochukwu : 0.15660605401796962\n",
      "Performances prédites (total_points) pour le joueur: Jadan Raymond : 0.15660605401796962\n",
      "Performances prédites (total_points) pour le joueur: Arnaut Danjuma Groeneveld : 0.053926357709373714\n",
      "Performances prédites (total_points) pour le joueur: Callum Hudson-Odoi : 4.243932504097188\n",
      "Performances prédites (total_points) pour le joueur: Kieran Tierney : 0.15660605401796962\n",
      "Performances prédites (total_points) pour le joueur: Tim Ream : 0.15660605401796962\n",
      "Performances prédites (total_points) pour le joueur: Phil Foden : 19.248851617795275\n",
      "Performances prédites (total_points) pour le joueur: Christian Eriksen : 0.2654153119446892\n",
      "Performances prédites (total_points) pour le joueur: Fábio Silva : 0.053926357709373714\n",
      "Performances prédites (total_points) pour le joueur: Ivo Grbic : 2.0200957731127303\n",
      "Performances prédites (total_points) pour le joueur: Alfie Whiteman : -0.013138286064603245\n",
      "Performances prédites (total_points) pour le joueur: James Tomkins : -0.013138286064603245\n",
      "Performances prédites (total_points) pour le joueur: William Osula : 0.6294063575563118\n",
      "Performances prédites (total_points) pour le joueur: Ollie Watkins : 15.271087737945109\n",
      "Performances prédites (total_points) pour le joueur: Gabriel dos Santos Magalhães : 5.783969899197132\n",
      "Performances prédites (total_points) pour le joueur: Takehiro Tomiyasu : 0.15660605401796962\n",
      "Performances prédites (total_points) pour le joueur: Harrison Reed : 7.038726668876009\n",
      "Performances prédites (total_points) pour le joueur: Manor Solomon : 0.38442180011749943\n",
      "Performances prédites (total_points) pour le joueur: Marcus Oliveira Alencar : 0.15660605401796962\n",
      "Performances prédites (total_points) pour le joueur: Eric Bailly : -0.013138286064603245\n",
      "Performances prédites (total_points) pour le joueur: Hakim Ziyech : -0.03446265288109162\n",
      "Performances prédites (total_points) pour le joueur: Gianluca Scamacca : 0.08488620676333264\n",
      "Performances prédites (total_points) pour le joueur: Wilson Odobert : 6.469100905784732\n",
      "Performances prédites (total_points) pour le joueur: Jili Buyabu : -0.013138286064603245\n",
      "Performances prédites (total_points) pour le joueur: Benicio Baker-Boaitey : 0.15660605401796962\n",
      "Performances prédites (total_points) pour le joueur: Christian Nørgaard : 3.8354703740883203\n",
      "Performances prédites (total_points) pour le joueur: Sean Longstaff : 5.892202674113716\n",
      "Performances prédites (total_points) pour le joueur: Pelly Ruddock Mpanzu : 1.5749392494080328\n",
      "Performances prédites (total_points) pour le joueur: Danny Ings : 0.516198742492004\n",
      "Performances prédites (total_points) pour le joueur: Donny van de Beek : 0.15660605401796962\n",
      "Performances prédites (total_points) pour le joueur: Giulian Biancone : -0.013138286064603245\n",
      "Performances prédites (total_points) pour le joueur: Albert Sambi Lokonga : 0.16424948896928615\n",
      "Performances prédites (total_points) pour le joueur: Luke McNally : -0.013138286064603245\n",
      "Performances prédites (total_points) pour le joueur: Kaoru Mitoma : 0.0938840329171221\n",
      "Performances prédites (total_points) pour le joueur: Abdul Rahman Baba : -0.013138286064603245\n",
      "Performances prédites (total_points) pour le joueur: Dango Ouattara : 0.9599053456340314\n",
      "Performances prédites (total_points) pour le joueur: Daniel Jebbison : 0.16424948896928615\n",
      "Performances prédites (total_points) pour le joueur: Simon Adingra : 4.489326329505874\n",
      "Performances prédites (total_points) pour le joueur: Scott Twine : 0.16424948896928615\n",
      "Performances prédites (total_points) pour le joueur: Daiki Hashioka : 1.5050587203760573\n",
      "Performances prédites (total_points) pour le joueur: Murillo Santiago Costa dos Santos : 2.6223037428745024\n",
      "Performances prédites (total_points) pour le joueur: Owen Hesketh : 0.15660605401796962\n",
      "Performances prédites (total_points) pour le joueur: Sergio Gómez : -0.013138286064603245\n",
      "Performances prédites (total_points) pour le joueur: Wataru Endo : 2.0053285480619825\n",
      "Performances prédites (total_points) pour le joueur: Danilo dos Santos de Oliveira : 2.251060634823124\n",
      "Performances prédites (total_points) pour le joueur: David Raya Martin : 4.920162564715315\n",
      "Performances prédites (total_points) pour le joueur: Jacob Murphy : 6.340970396492266\n",
      "Performances prédites (total_points) pour le joueur: Reuell Walters : -0.013138286064603245\n",
      "Performances prédites (total_points) pour le joueur: Thomas Kaminski : 3.7555708763635764\n",
      "Performances prédites (total_points) pour le joueur: Amadou Diallo : 0.15660605401796962\n",
      "Performances prédites (total_points) pour le joueur: Jean-Philippe Mateta : 3.528286087224072\n",
      "Performances prédites (total_points) pour le joueur: Dovydas Sasnauskas : -0.013138286064603245\n",
      "Performances prédites (total_points) pour le joueur: Ben Pearson : 0.15660605401796962\n",
      "Performances prédites (total_points) pour le joueur: Bailey Peacock-Farrell : -0.013138286064603245\n",
      "Performances prédites (total_points) pour le joueur: Felipe Augusto de Almeida Monteiro : 0.1461432825840538\n",
      "Performances prédites (total_points) pour le joueur: William Saliba : 5.959080669885657\n",
      "Performances prédites (total_points) pour le joueur: Michael Obafemi : 0.16424948896928615\n",
      "Performances prédites (total_points) pour le joueur: Ben Godfrey : 3.222820332310015\n",
      "Performances prédites (total_points) pour le joueur: Franco Umeh-Chibueze : 0.15660605401796962\n",
      "Performances prédites (total_points) pour le joueur: Victor da Silva : 2.374584055110894\n",
      "Performances prédites (total_points) pour le joueur: André Tavares Gomes : 4.286261886436266\n",
      "Performances prédites (total_points) pour le joueur: Destiny Udogie : 3.3094941990512985\n",
      "Performances prédites (total_points) pour le joueur: Ryan Trevitt : 0.15660605401796962\n",
      "Performances prédites (total_points) pour le joueur: Dion Pereira : 0.15660605401796962\n",
      "Performances prédites (total_points) pour le joueur: Tayo Adaramola : -0.013138286064603245\n",
      "Performances prédites (total_points) pour le joueur: Connor Roberts : 0.15660605401796962\n",
      "Performances prédites (total_points) pour le joueur: Douglas Luiz Soares de Paulo : 4.821703466131961\n",
      "Performances prédites (total_points) pour le joueur: Mark Flekken : 2.5112929142984663\n",
      "Performances prédites (total_points) pour le joueur: Martin Dubravka : 6.254459757186532\n",
      "Performances prédites (total_points) pour le joueur: James McConnell : 0.15660605401796962\n",
      "Performances prédites (total_points) pour le joueur: Stefan Bajcetic : 0.15660605401796962\n",
      "Performances prédites (total_points) pour le joueur: Andreas Hoelgebaum Pereira : 6.801268972762932\n",
      "Performances prédites (total_points) pour le joueur: Joseph Johnson : -0.013138286064603245\n",
      "Performances prédites (total_points) pour le joueur: Toby Collyer : 0.15660605401796962\n",
      "Performances prédites (total_points) pour le joueur: Marc Cucurella Saseta : 0.16424948896928615\n",
      "Performances prédites (total_points) pour le joueur: João Palhinha Gonçalves : 0.16424948896928615\n",
      "Performances prédites (total_points) pour le joueur: Bryan Gil Salvatierra : 0.16424948896928615\n",
      "Performances prédites (total_points) pour le joueur: Jimi Tauriainen : 0.15660605401796962\n",
      "Performances prédites (total_points) pour le joueur: Neco Williams : 3.492210572877525\n",
      "Performances prédites (total_points) pour le joueur: Harrison Ashby : -0.013138286064603245\n",
      "Performances prédites (total_points) pour le joueur: Billy Gilmour : 0.16424948896928615\n",
      "Performances prédites (total_points) pour le joueur: John Egan : 0.15660605401796962\n",
      "Performances prédites (total_points) pour le joueur: Mikkel Damsgaard : 0.16424948896928615\n",
      "Performances prédites (total_points) pour le joueur: Angelo Ogbonna : 0.15660605401796962\n",
      "Performances prédites (total_points) pour le joueur: Chris Basham : -0.013138286064603245\n",
      "Performances prédites (total_points) pour le joueur: Son Heung-min : 9.97028789787264\n",
      "Performances prédites (total_points) pour le joueur: Joe Gomez : 5.513365729374032\n",
      "Performances prédites (total_points) pour le joueur: Darren Randolph : -0.013138286064603245\n",
      "Performances prédites (total_points) pour le joueur: Ben Johnson : 0.15660605401796962\n",
      "Performances prédites (total_points) pour le joueur: Pedro Porro : 0.2654153119446892\n",
      "Performances prédites (total_points) pour le joueur: Manuel Benson Hedilazio : 2.4371913290133604\n",
      "Performances prédites (total_points) pour le joueur: Levi Colwill : 3.1397353390917875\n",
      "Performances prédites (total_points) pour le joueur: Jonathan Panzo : -0.013138286064603245\n",
      "Performances prédites (total_points) pour le joueur: Pablo Fornals Malla : 0.15660605401796962\n",
      "Performances prédites (total_points) pour le joueur: Elijah Adebayo : 0.16424948896928615\n",
      "Performances prédites (total_points) pour le joueur: Rico Henry : 0.15660605401796962\n",
      "Performances prédites (total_points) pour le joueur: Owen Beck : 0.15660605401796962\n",
      "Performances prédites (total_points) pour le joueur: Bobby Clark : 3.84329987138438\n",
      "Performances prédites (total_points) pour le joueur: Flynn Downes : 0.16424948896928615\n",
      "Performances prédites (total_points) pour le joueur: Max Kinsey : -0.013138286064603245\n",
      "Performances prédites (total_points) pour le joueur: Ben Greenwood : -0.013138286064603245\n",
      "Performances prédites (total_points) pour le joueur: Alfie Dorrington : -0.013138286064603245\n",
      "Performances prédites (total_points) pour le joueur: Joe Willock : 6.629553350113812\n",
      "Performances prédites (total_points) pour le joueur: Javier Manquillo Gaitán : -0.013138286064603245\n",
      "Performances prédites (total_points) pour le joueur: Kobbie Mainoo : 2.9194104041422504\n",
      "Performances prédites (total_points) pour le joueur: Dominic Calvert-Lewin : 4.363582197848355\n",
      "Performances prédites (total_points) pour le joueur: Tommy Doyle : 3.2389708210164465\n",
      "Performances prédites (total_points) pour le joueur: Halil Dervişoğlu : 0.15660605401796962\n",
      "Performances prédites (total_points) pour le joueur: Gabriel Osho : 0.15660605401796962\n",
      "Performances prédites (total_points) pour le joueur: João Pedro Junqueira de Jesus : 0.053926357709373714\n",
      "Performances prédites (total_points) pour le joueur: Vincent Angelini : -0.013138286064603245\n",
      "Performances prédites (total_points) pour le joueur: Kurt Zouma : 7.707348809244622\n",
      "Performances prédites (total_points) pour le joueur: Omar Richards : 0.15660605401796962\n",
      "Performances prédites (total_points) pour le joueur: Mark O’Mahony : 0.15660605401796962\n",
      "Performances prédites (total_points) pour le joueur: Iliman Ndiaye : 0.03344969484728858\n",
      "Performances prédites (total_points) pour le joueur: Elliot Thorpe : 0.15660605401796962\n",
      "Performances prédites (total_points) pour le joueur: Shea Charles : 0.15660605401796962\n",
      "Performances prédites (total_points) pour le joueur: Joe Rodon : -0.013138286064603245\n",
      "Performances prédites (total_points) pour le joueur: Habeeb Ogunneye : -0.013138286064603245\n",
      "Performances prédites (total_points) pour le joueur: Neal Maupay : 0.7910448964015424\n",
      "Performances prédites (total_points) pour le joueur: Jordan Ayew : 5.882630226688288\n",
      "Performances prédites (total_points) pour le joueur: Divin Mubama : 0.15660605401796962\n",
      "Performances prédites (total_points) pour le joueur: Nathaniel Phillips : -0.013138286064603245\n",
      "Performances prédites (total_points) pour le joueur: Dominik Szoboszlai : 0.6542565533357113\n",
      "Performances prédites (total_points) pour le joueur: Ryan Oné : 0.15660605401796962\n",
      "Performances prédites (total_points) pour le joueur: Kristian Sekularac : 0.15660605401796962\n",
      "Performances prédites (total_points) pour le joueur: Jordan Clark : 3.4564250390711617\n",
      "Performances prédites (total_points) pour le joueur: Elijah Campbell : -0.013138286064603245\n",
      "Performances prédites (total_points) pour le joueur: Mason Mount : -0.07878916825308502\n",
      "Performances prédites (total_points) pour le joueur: Ellery Balcombe : -0.013138286064603245\n",
      "Performances prédites (total_points) pour le joueur: David Brooks : 0.15660605401796962\n",
      "Performances prédites (total_points) pour le joueur: Pascal Groß : 2.0689932965948676\n",
      "Performances prédites (total_points) pour le joueur: John McGinn : 4.486169933710514\n",
      "Performances prédites (total_points) pour le joueur: Treymaurice Nyoni : 0.15660605401796962\n",
      "Performances prédites (total_points) pour le joueur: Tanguy Ndombélé Alvaro : 0.15660605401796962\n",
      "Performances prédites (total_points) pour le joueur: Ben Parkinson : 0.15660605401796962\n",
      "Performances prédites (total_points) pour le joueur: Jairo Riedewald : 0.15660605401796962\n",
      "Performances prédites (total_points) pour le joueur: Yoane Wissa : 9.2125573533499\n",
      "Performances prédites (total_points) pour le joueur: Reiss Nelson : 0.16424948896928615\n",
      "Performances prédites (total_points) pour le joueur: Ibrahim Sangaré : 0.16424948896928615\n",
      "Performances prédites (total_points) pour le joueur: Facundo Pellistri Rebollo : 0.15660605401796962\n",
      "Performances prédites (total_points) pour le joueur: James Hill : -0.013138286064603245\n",
      "Performances prédites (total_points) pour le joueur: Bruno Cavaco Jordão : 0.15660605401796962\n",
      "Performances prédites (total_points) pour le joueur: Kjell Scherpen : -0.013138286064603245\n",
      "Performances prédites (total_points) pour le joueur: Máximo Perrone : 0.15660605401796962\n",
      "Performances prédites (total_points) pour le joueur: Aleksandar Mitrović : -0.06079335152644786\n",
      "Performances prédites (total_points) pour le joueur: Kevin Schade : 0.053926357709373714\n",
      "Performances prédites (total_points) pour le joueur: Moussa Niakhaté : 0.15660605401796962\n",
      "Performances prédites (total_points) pour le joueur: Paul Dummett : -0.013138286064603245\n",
      "Performances prédites (total_points) pour le joueur: Rodrigo Duarte Ribeiro : 0.15660605401796962\n",
      "Performances prédites (total_points) pour le joueur: Sven Botman : 5.663193466531812\n",
      "Performances prédites (total_points) pour le joueur: Issa Diop : 0.15660605401796962\n",
      "Performances prédites (total_points) pour le joueur: Aaron Ramsdale : 0.15660605401796962\n",
      "Performances prédites (total_points) pour le joueur: Tosin Adarabioyo : 6.383932615115948\n",
      "Performances prédites (total_points) pour le joueur: Trent Alexander-Arnold : -0.5659603202313581\n",
      "Performances prédites (total_points) pour le joueur: Anass Zaroury : 0.15660605401796962\n",
      "Performances prédites (total_points) pour le joueur: Pervis Estupiñán : 7.420734831812147\n",
      "Performances prédites (total_points) pour le joueur: Enso González : 0.16424948896928615\n",
      "Performances prédites (total_points) pour le joueur: Chiedozie Ogbene : 3.425256481931996\n",
      "Performances prédites (total_points) pour le joueur: Romain Faivre : 0.16424948896928615\n",
      "Performances prédites (total_points) pour le joueur: Harvey Elliott : 6.943926145510993\n",
      "Performances prédites (total_points) pour le joueur: Jack Robinson : 3.1079667386559837\n",
      "Performances prédites (total_points) pour le joueur: Detlef Esapa Osong : 0.15660605401796962\n",
      "Performances prédites (total_points) pour le joueur: Gabriel Martinelli Silva : 15.049147963859172\n",
      "Performances prédites (total_points) pour le joueur: Wout Weghorst : 0.03344969484728858\n",
      "Performances prédites (total_points) pour le joueur: Jhon Durán : 0.16424948896928615\n",
      "Performances prédites (total_points) pour le joueur: Oscar Bobb : 0.15660605401796962\n",
      "Performances prédites (total_points) pour le joueur: Michail Antonio : 2.2754605223226947\n",
      "Performances prédites (total_points) pour le joueur: Jamie Donley : 0.15660605401796962\n",
      "Performances prédites (total_points) pour le joueur: Malang Sarr : 0.15660605401796962\n",
      "Performances prédites (total_points) pour le joueur: Ângelo Gabriel Borges Damaceno : 0.16424948896928615\n",
      "Performances prédites (total_points) pour le joueur: Micky van de Ven : 2.699708524105321\n",
      "Performances prédites (total_points) pour le joueur: Adama Traoré : 6.338045685982278\n",
      "Performances prédites (total_points) pour le joueur: Shola Shoretire : 0.15660605401796962\n",
      "Performances prédites (total_points) pour le joueur: Ademola Ola-Adebomi : 0.15660605401796962\n",
      "Performances prédites (total_points) pour le joueur: Lisandro Martínez : 0.15660605401796962\n",
      "Performances prédites (total_points) pour le joueur: Alex Mighten : 0.15660605401796962\n",
      "Performances prédites (total_points) pour le joueur: Bryan Mbeumo : -0.07878916825308502\n",
      "Performances prédites (total_points) pour le joueur: Nicolas Pépé : 0.16424948896928615\n",
      "Performances prédites (total_points) pour le joueur: Mauro Bandeira : 0.15660605401796962\n",
      "Performances prédites (total_points) pour le joueur: Alexis Mac Allister : 11.479141724384267\n",
      "Performances prédites (total_points) pour le joueur: David Ozoh : 0.15660605401796962\n",
      "Performances prédites (total_points) pour le joueur: Sydie Peck : 0.15660605401796962\n",
      "Performances prédites (total_points) pour le joueur: Omari Kellyman : 0.15660605401796962\n",
      "Performances prédites (total_points) pour le joueur: Youri Tielemans : 4.0997175474624745\n",
      "Performances prédites (total_points) pour le joueur: Remo Freuler : 0.16424948896928615\n",
      "Performances prédites (total_points) pour le joueur: Illia Zabarnyi : 6.671615120452054\n",
      "Performances prédites (total_points) pour le joueur: Karl Hein : -0.013138286064603245\n",
      "Performances prédites (total_points) pour le joueur: Aaron Connolly : 0.15660605401796962\n",
      "Performances prédites (total_points) pour le joueur: Dean Henderson : 0.15660605401796962\n",
      "Performances prédites (total_points) pour le joueur: Jay Rodriguez : 0.7445989263381039\n",
      "Performances prédites (total_points) pour le joueur: Marcos Senesi : 1.8992592055629856\n",
      "Performances prédites (total_points) pour le joueur: Granit Xhaka : 0.08488620676333264\n",
      "Performances prédites (total_points) pour le joueur: James Trafford : 1.9544978480055384\n",
      "Performances prédites (total_points) pour le joueur: Dan Burn : 9.5537346584035\n",
      "Performances prédites (total_points) pour le joueur: Saïd Benrahma : 0.516198742492004\n",
      "Performances prédites (total_points) pour le joueur: Brandon Aguilera Zamora : 0.15660605401796962\n",
      "Performances prédites (total_points) pour le joueur: Dominic Sadi : 0.15660605401796962\n",
      "Performances prédites (total_points) pour le joueur: Tyler Onyango : 0.15660605401796962\n",
      "Performances prédites (total_points) pour le joueur: Mahamadou Susoho : 0.15660605401796962\n",
      "Performances prédites (total_points) pour le joueur: Joe Taylor : 0.15660605401796962\n",
      "Performances prédites (total_points) pour le joueur: Gustavo Hamer : 2.4668376066383693\n",
      "Performances prédites (total_points) pour le joueur: Karl Darlow : -0.013138286064603245\n",
      "Performances prédites (total_points) pour le joueur: Saman Ghoddos : 0.15660605401796962\n",
      "Performances prédites (total_points) pour le joueur: Joachim Andersen : 2.408517780765084\n",
      "Performances prédites (total_points) pour le joueur: Alfie Gilchrist : -0.013138286064603245\n",
      "Performances prédites (total_points) pour le joueur: Allan Campbell : 0.16424948896928615\n",
      "Performances prédites (total_points) pour le joueur: Carlos Mendes Gomes : 0.15660605401796962\n",
      "Performances prédites (total_points) pour le joueur: Pedro Lomba Neto : 3.0718609855766315\n",
      "Performances prédites (total_points) pour le joueur: Luc De Fougerolles : -0.013138286064603245\n",
      "Performances prédites (total_points) pour le joueur: Dane Scarlett : 0.15660605401796962\n",
      "Performances prédites (total_points) pour le joueur: Lucas Digne : 6.166250599295739\n",
      "Performances prédites (total_points) pour le joueur: Enzo Fernández : 5.977481200284489\n",
      "Performances prédites (total_points) pour le joueur: Ben Brereton : 0.16424948896928615\n",
      "Performances prédites (total_points) pour le joueur: Matt Targett : 0.15660605401796962\n",
      "Performances prédites (total_points) pour le joueur: Demarai Gray : 0.053926357709373714\n",
      "Performances prédites (total_points) pour le joueur: Matthew Whittingham : 0.15660605401796962\n",
      "Performances prédites (total_points) pour le joueur: Stefan Ortega Moreno : -0.345739424283569\n",
      "Performances prédites (total_points) pour le joueur: Sam Johnstone : 2.2571108462431964\n",
      "Performances prédites (total_points) pour le joueur: Zack Nelson : 0.15660605401796962\n",
      "Performances prédites (total_points) pour le joueur: Yerson Mosquera : -0.013138286064603245\n",
      "Performances prédites (total_points) pour le joueur: Emiliano Buendía Stati : 0.2654153119446892\n",
      "Performances prédites (total_points) pour le joueur: Alexandre Moreno Lopera : 2.370558502122662\n",
      "Performances prédites (total_points) pour le joueur: Japhet Tanganga : -0.013138286064603245\n",
      "Performances prédites (total_points) pour le joueur: Marvelous Nakamba : 0.15660605401796962\n",
      "Performances prédites (total_points) pour le joueur: Nathan Collins : 2.7734550544168872\n",
      "Performances prédites (total_points) pour le joueur: Leandro Trossard : 1.2737590033866395\n",
      "Performances prédites (total_points) pour le joueur: Antony Matheus dos Santos : 1.2865020328733865\n",
      "Performances prédites (total_points) pour le joueur: Trevoh Chalobah : 3.0089497691612572\n",
      "Performances prédites (total_points) pour le joueur: Luke Cundle : 0.15660605401796962\n",
      "Performances prédites (total_points) pour le joueur: Lukasz Fabianski : 0.15660605401796962\n",
      "Performances prédites (total_points) pour le joueur: Ethan Nwaneri : 0.15660605401796962\n",
      "Performances prédites (total_points) pour le joueur: Callum Marshall : 0.15660605401796962\n",
      "Performances prédites (total_points) pour le joueur: Tino Livramento : 8.49563165953361\n",
      "Performances prédites (total_points) pour le joueur: Fodé Ballo-Touré : 0.15660605401796962\n",
      "Performances prédites (total_points) pour le joueur: Aymeric Laporte : 0.16424948896928615\n",
      "Performances prédites (total_points) pour le joueur: Tyler Adams : 0.16424948896928615\n",
      "Performances prédites (total_points) pour le joueur: Kieran Trippier : 1.6206914970245436\n",
      "Performances prédites (total_points) pour le joueur: Jamie McDonnell : 0.15660605401796962\n",
      "Performances prédites (total_points) pour le joueur: Richarlison de Andrade : -0.06079335152644786\n",
      "Performances prédites (total_points) pour le joueur: Norberto Bercique Gomes Betuncal : 10.39116338126635\n",
      "Performances prédites (total_points) pour le joueur: John McAtee : 0.15660605401796962\n",
      "Performances prédites (total_points) pour le joueur: Jayden Bogle : 1.587526375737063\n",
      "Performances prédites (total_points) pour le joueur: Jason Steele : 1.9507700751510515\n",
      "Performances prédites (total_points) pour le joueur: Nick Pope : 0.053926357709373714\n",
      "Performances prédites (total_points) pour le joueur: Kai Havertz : 19.310514668537042\n",
      "Performances prédites (total_points) pour le joueur: Wesley Moraes Ferreira da Silva : 0.16424948896928615\n",
      "Performances prédites (total_points) pour le joueur: Vladimír Coufal : 3.2785311669002746\n",
      "Performances prédites (total_points) pour le joueur: Marcus Rashford : 7.285235781676992\n",
      "Performances prédites (total_points) pour le joueur: Lewis O'Brien : 0.16424948896928615\n",
      "Performances prédites (total_points) pour le joueur: Evan Ferguson : 4.789943154556162\n",
      "Performances prédites (total_points) pour le joueur: Tom McGill : -0.013138286064603245\n",
      "Performances prédites (total_points) pour le joueur: Yves Bissouma : 2.8524233426988963\n",
      "Performances prédites (total_points) pour le joueur: João Victor Gomes da Silva : 0.16424948896928615\n",
      "Performances prédites (total_points) pour le joueur: Abdoulaye Doucouré : 5.145077148396512\n",
      "Performances prédites (total_points) pour le joueur: Enes Ünal : 1.3441244594388035\n",
      "Performances prédites (total_points) pour le joueur: Ederson Santana de Moraes : 1.345641076597705\n",
      "Performances prédites (total_points) pour le joueur: Morgan Rogers : 5.3115562371264575\n",
      "Performances prédites (total_points) pour le joueur: Virgil van Dijk : 6.975173384026106\n",
      "Performances prédites (total_points) pour le joueur: Willy Boly : 0.15660605401796962\n",
      "Performances prédites (total_points) pour le joueur: Mohammed Kudus : 9.519222841412073\n",
      "Performances prédites (total_points) pour le joueur: Scott McTominay : 2.665853238222723\n",
      "Performances prédites (total_points) pour le joueur: Andrew Omobamidele : 4.013844263408578\n",
      "Performances prédites (total_points) pour le joueur: Billy Blacker : 0.15660605401796962\n",
      "Performances prédites (total_points) pour le joueur: Kaine Kesler-Hayden : -0.013138286064603245\n",
      "Performances prédites (total_points) pour le joueur: Rico Lewis : 0.15660605401796962\n",
      "Performances prédites (total_points) pour le joueur: Alejandro Garnacho : 2.7779396221109645\n",
      "Performances prédites (total_points) pour le joueur: Jean-Ricner Bellegarde : 5.099169093393122\n",
      "Performances prédites (total_points) pour le joueur: Jean-Philippe Gbamin : 0.15660605401796962\n",
      "Performances prédites (total_points) pour le joueur: Ollie Harrison : 0.15660605401796962\n",
      "Performances prédites (total_points) pour le joueur: Lewis Dobbin : 1.0854646361007185\n",
      "Performances prédites (total_points) pour le joueur: Jenson Metcalfe : 0.15660605401796962\n",
      "Performances prédites (total_points) pour le joueur: Riyad Mahrez : -0.3812841251396219\n",
      "Performances prédites (total_points) pour le joueur: Matija Šarkić : -0.013138286064603245\n",
      "Performances prédites (total_points) pour le joueur: Auston Trusty : 1.4779346548674999\n",
      "Performances prédites (total_points) pour le joueur: Anthony Gordon : 13.329148605781297\n",
      "Performances prédites (total_points) pour le joueur: Emmanuel Dennis : 0.16424948896928615\n",
      "Performances prédites (total_points) pour le joueur: Nathaniel Clyne : 0.15660605401796962\n",
      "Performances prédites (total_points) pour le joueur: Thiago Alcántara do Nascimento : 0.15660605401796962\n",
      "Performances prédites (total_points) pour le joueur: Oliver Arblaster : 1.8992592055629856\n",
      "Performances prédites (total_points) pour le joueur: Ethan Brierley : 0.15660605401796962\n",
      "Performances prédites (total_points) pour le joueur: Timo Werner : 15.942504463894986\n",
      "Performances prédites (total_points) pour le joueur: Ryan Giles : 0.15660605401796962\n",
      "Performances prédites (total_points) pour le joueur: Admiral Muskwe : 0.15660605401796962\n",
      "Performances prédites (total_points) pour le joueur: Edson Álvarez Velázquez : 15.73184482872646\n",
      "Performances prédites (total_points) pour le joueur: Jakub Kiwior : 10.808180323137696\n",
      "Performances prédites (total_points) pour le joueur: Lloyd Kelly : 0.15660605401796962\n",
      "Performances prédites (total_points) pour le joueur: Vitalii Mykolenko : 3.900405468161219\n",
      "Performances prédites (total_points) pour le joueur: Aidan Francis-Clarke : -0.013138286064603245\n",
      "Performances prédites (total_points) pour le joueur: Emerson Leite de Souza Junior : 3.5438664048501978\n",
      "Performances prédites (total_points) pour le joueur: Joël Veltman : 3.770592252223653\n",
      "Performances prédites (total_points) pour le joueur: Miguel Almirón Rejala : 3.0779368945964434\n",
      "Performances prédites (total_points) pour le joueur: Bobby Thomas : -0.013138286064603245\n",
      "Performances prédites (total_points) pour le joueur: Yago de Santiago Alonso : 0.15660605401796962\n",
      "Performances prédites (total_points) pour le joueur: Charlie Goode : -0.013138286064603245\n",
      "Performances prédites (total_points) pour le joueur: Luke Chambers : -0.013138286064603245\n",
      "Performances prédites (total_points) pour le joueur: Alejo Véliz : -0.03446265288109162\n",
      "Performances prédites (total_points) pour le joueur: Kepa Arrizabalaga : 0.16424948896928615\n",
      "Performances prédites (total_points) pour le joueur: Mark Travers : -0.013138286064603245\n",
      "Performances prédites (total_points) pour le joueur: Leo Castledine : 0.15660605401796962\n",
      "Performances prédites (total_points) pour le joueur: Tawanda Chirewa : 2.7255821484515055\n",
      "Performances prédites (total_points) pour le joueur: Sam Proctor : -0.013138286064603245\n",
      "Performances prédites (total_points) pour le joueur: Guglielmo Vicario : 1.3661177394597899\n",
      "Performances prédites (total_points) pour le joueur: Isaac Hayden : 0.15660605401796962\n",
      "Performances prédites (total_points) pour le joueur: Mike Trésor : 0.053926357709373714\n",
      "Performances prédites (total_points) pour le joueur: Jamaal Lascelles : -0.013138286064603245\n",
      "Performances prédites (total_points) pour le joueur: Andrew Robertson : 4.073707433952945\n",
      "Performances prédites (total_points) pour le joueur: Giovani Lo Celso : 1.7104047441137034\n",
      "Performances prédites (total_points) pour le joueur: Jeffrey Schlupp : 0.16424948896928615\n",
      "Performances prédites (total_points) pour le joueur: Alex Iwobi : 5.859189540282713\n",
      "Performances prédites (total_points) pour le joueur: Cody Gakpo : 4.947959495193111\n",
      "Performances prédites (total_points) pour le joueur: Nicolas Jackson : 8.985335815920413\n",
      "Performances prédites (total_points) pour le joueur: Nikola Vlašić : 0.15660605401796962\n",
      "Performances prédites (total_points) pour le joueur: Adam Lallana : 3.8559240620699877\n",
      "Performances prédites (total_points) pour le joueur: Hugo Bueno López : 2.343793396421134\n",
      "Performances prédites (total_points) pour le joueur: Alphonse Areola : 9.913099371946307\n",
      "Performances prédites (total_points) pour le joueur: Alisson Ramses Becker : 0.2654153119446892\n",
      "Performances prédites (total_points) pour le joueur: Pape Matar Sarr : 1.449107747474818\n",
      "Performances prédites (total_points) pour le joueur: Aribim Pepple : 0.15660605401796962\n",
      "Performances prédites (total_points) pour le joueur: Matt Doherty : 0.15660605401796962\n",
      "Performances prédites (total_points) pour le joueur: Gonçalo Manuel Ganchinho Guedes : -0.03446265288109162\n",
      "Performances prédites (total_points) pour le joueur: Ellis Simms : 0.15660605401796962\n",
      "Performances prédites (total_points) pour le joueur: Jonathan Castro Otto : 0.15660605401796962\n",
      "Performances prédites (total_points) pour le joueur: Taiwo Awoniyi : 1.9203334657221403\n",
      "Performances prédites (total_points) pour le joueur: Mads Roerslev Rasmussen : 14.026874342855244\n",
      "Performances prédites (total_points) pour le joueur: Calvin Bassey : 5.518278954487499\n",
      "Performances prédites (total_points) pour le joueur: James Ward-Prowse : 7.649769892599284\n",
      "Performances prédites (total_points) pour le joueur: Konstantinos Tsimikas : 3.192255595789187\n",
      "Performances prédites (total_points) pour le joueur: Mahmoud Dahoud : 0.16424948896928615\n",
      "Performances prédites (total_points) pour le joueur: Ian Maatsen : 0.38442180011749943\n",
      "Performances prédites (total_points) pour le joueur: Ryan Gravenberch : 0.16424948896928615\n",
      "Performances prédites (total_points) pour le joueur: Sofyan Amrabat : 0.5652910051356564\n",
      "Performances prédites (total_points) pour le joueur: Max Lowe : 0.15660605401796962\n",
      "Performances prédites (total_points) pour le joueur: Joe Whitworth : -0.013138286064603245\n",
      "Performances prédites (total_points) pour le joueur: Thomas Cannon : 0.15660605401796962\n",
      "Performances prédites (total_points) pour le joueur: Hannibal Mejbri : 0.15660605401796962\n",
      "Performances prédites (total_points) pour le joueur: Boubacar Kamara : 0.16424948896928615\n",
      "Performances prédites (total_points) pour le joueur: Andrey Nascimento dos Santos : 0.15660605401796962\n",
      "Performances prédites (total_points) pour le joueur: Loris Karius : -0.013138286064603245\n",
      "Performances prédites (total_points) pour le joueur: Joshua Duffus : 0.15660605401796962\n",
      "Performances prédites (total_points) pour le joueur: Bart Verbruggen : 0.15660605401796962\n",
      "Performances prédites (total_points) pour le joueur: Tahith Chong : 8.192979339594416\n",
      "Performances prédites (total_points) pour le joueur: Morgan Sanson : 0.15660605401796962\n",
      "Performances prédites (total_points) pour le joueur: Bernd Leno : 8.13429595677754\n",
      "Performances prédites (total_points) pour le joueur: Josh Dasilva : 0.15660605401796962\n",
      "Performances prédites (total_points) pour le joueur: Josh Bowler : 0.15660605401796962\n",
      "Performances prédites (total_points) pour le joueur: Bashir Humphreys : -0.013138286064603245\n",
      "Performances prédites (total_points) pour le joueur: Oleksandr Zinchenko : 0.16424948896928615\n",
      "Performances prédites (total_points) pour le joueur: Tyrese Francois : 0.15660605401796962\n",
      "Performances prédites (total_points) pour le joueur: Callum Wilson : -0.44006788835271565\n",
      "Performances prédites (total_points) pour le joueur: Allan Saint-Maximin : 0.08488620676333264\n",
      "Performances prédites (total_points) pour le joueur: Lewis Orford : 0.15660605401796962\n",
      "Performances prédites (total_points) pour le joueur: Han-Noah Massengo : 0.16424948896928615\n",
      "Performances prédites (total_points) pour le joueur: Zeki Amdouni : 1.636053657084486\n",
      "Performances prédites (total_points) pour le joueur: Steven Alzate : 0.15660605401796962\n",
      "Performances prédites (total_points) pour le joueur: Jóhann Berg Gudmundsson : 1.9069026405143021\n",
      "Performances prédites (total_points) pour le joueur: Tim Krul : 0.15660605401796962\n",
      "Performances prédites (total_points) pour le joueur: Keinan Davis : 0.16424948896928615\n",
      "Performances prédites (total_points) pour le joueur: Bruno Borges Fernandes : 7.029134428676091\n",
      "Performances prédites (total_points) pour le joueur: Hamed Traorè : 0.15660605401796962\n",
      "Performances prédites (total_points) pour le joueur: Jeremy Sarmiento Morante : 0.15660605401796962\n",
      "Performances prédites (total_points) pour le joueur: Issa Kaboré : 2.198802327458398\n",
      "Performances prédites (total_points) pour le joueur: Sam Surridge : 0.15660605401796962\n",
      "Performances prédites (total_points) pour le joueur: Reece Burke : 7.007215115591917\n",
      "Performances prédites (total_points) pour le joueur: Jesurun Rak-Sakyi : 0.15660605401796962\n",
      "Performances prédites (total_points) pour le joueur: Clément Lenglet : 2.624096435160054\n",
      "Performances prédites (total_points) pour le joueur: Gabriel Fernando de Jesus : 2.932856523468752\n",
      "Performances prédites (total_points) pour le joueur: Hannes Delcroix : -0.013138286064603245\n",
      "Performances prédites (total_points) pour le joueur: Dara O'Shea : 3.276692365954515\n",
      "Performances prédites (total_points) pour le joueur: Eric Dier : 0.15660605401796962\n",
      "Performances prédites (total_points) pour le joueur: Kaide Gordon : 0.15660605401796962\n",
      "Performances prédites (total_points) pour le joueur: Joel Ward : 2.2755219423786746\n",
      "Performances prédites (total_points) pour le joueur: Harvey Barnes : 1.5537080936047105\n",
      "Performances prédites (total_points) pour le joueur: Cesare Casadei : 0.15660605401796962\n",
      "Performances prédites (total_points) pour le joueur: Mateo Kovačić : 0.15660605401796962\n",
      "Performances prédites (total_points) pour le joueur: Jayden Danns : 0.7417986441478442\n",
      "Performances prédites (total_points) pour le joueur: Ashley Young : 0.15660605401796962\n",
      "Performances prédites (total_points) pour le joueur: Aaron Cresswell : 0.15660605401796962\n",
      "Performances prédites (total_points) pour le joueur: Sergio Reguilón : 7.400968956899247\n",
      "Performances prédites (total_points) pour le joueur: Morgan Gibbs-White : 3.875286426068835\n",
      "Performances prédites (total_points) pour le joueur: Raphaël Varane : 2.5443642503787998\n",
      "Performances prédites (total_points) pour le joueur: Igor Julio dos Santos de Paulo : 0.15660605401796962\n",
      "Performances prédites (total_points) pour le joueur: Brandon Williams : -0.013138286064603245\n",
      "Performances prédites (total_points) pour le joueur: Hugo Lloris : 0.15660605401796962\n",
      "Performances prédites (total_points) pour le joueur: Fabian Schär : 10.76548614686531\n",
      "Performances prédites (total_points) pour le joueur: Orel Mangala : 0.16424948896928615\n",
      "Performances prédites (total_points) pour le joueur: Noha Lemina : 0.16424948896928615\n",
      "Performances prédites (total_points) pour le joueur: Frederico Rodrigues de Paula Santos : 0.16424948896928615\n",
      "Performances prédites (total_points) pour le joueur: Joe Gauci : -0.013138286064603245\n",
      "Performances prédites (total_points) pour le joueur: Marek Rodák : -0.013138286064603245\n",
      "Performances prédites (total_points) pour le joueur: Shandon Baptiste : 0.15660605401796962\n",
      "Performances prédites (total_points) pour le joueur: Michał Karbownik : -0.013138286064603245\n",
      "Performances prédites (total_points) pour le joueur: Mason Burstow : 0.15660605401796962\n",
      "Performances prédites (total_points) pour le joueur: André Onana : 4.369544284896432\n",
      "Performances prédites (total_points) pour le joueur: Julián Álvarez : 5.258697175518794\n",
      "Performances prédites (total_points) pour le joueur: Maxwel Cornet : 0.053926357709373714\n",
      "Performances prédites (total_points) pour le joueur: Terence Kongolo : -0.013138286064603245\n",
      "Performances prédites (total_points) pour le joueur: Caoimhin Kelleher : 8.669551933556857\n",
      "Performances prédites (total_points) pour le joueur: Ivan Neves Abreu Cavaleiro : 0.16424948896928615\n",
      "Performances prédites (total_points) pour le joueur: Chris Mepham : 5.507480732433791\n",
      "Performances prédites (total_points) pour le joueur: Facundo Buonanotte : 1.3120411107772185\n",
      "Performances prédites (total_points) pour le joueur: Samuel Bastien : 0.16424948896928615\n",
      "Performances prédites (total_points) pour le joueur: John Fleck : 0.16424948896928615\n",
      "Performances prédites (total_points) pour le joueur: Rodrigo Muniz Carvalho : 16.305604342547653\n",
      "Performances prédites (total_points) pour le joueur: Arijanet Muric : 0.15660605401796962\n",
      "Performances prédites (total_points) pour le joueur: Josh Cullen : 5.020154853685195\n",
      "Performances prédites (total_points) pour le joueur: Ishé Samuels-Smith : -0.013138286064603245\n",
      "Performances prédites (total_points) pour le joueur: Thomas Strakosha : -0.013138286064603245\n",
      "Performances prédites (total_points) pour le joueur: Fábio Ferreira Vieira : 2.249543837898304\n",
      "Performances prédites (total_points) pour le joueur: Michael Ndiweni : 0.15660605401796962\n",
      "Performances prédites (total_points) pour le joueur: Cheick Doucouré : 0.16424948896928615\n",
      "Performances prédites (total_points) pour le joueur: Joe Hodge : 0.15660605401796962\n",
      "Performances prédites (total_points) pour le joueur: Omari Forson : 1.6875659723953642\n",
      "Performances prédites (total_points) pour le joueur: Joel Matip : 0.16424948896928615\n",
      "Performances prédites (total_points) pour le joueur: Callum Scanlon : -0.013138286064603245\n",
      "Performances prédites (total_points) pour le joueur: Davinson Sánchez : 0.15660605401796962\n",
      "Performances prédites (total_points) pour le joueur: Craig Dawson : 3.024350946068141\n",
      "Performances prédites (total_points) pour le joueur: Toti António Gomes : 3.7800551105868165\n",
      "Performances prédites (total_points) pour le joueur: Nayef Aguerd : 0.15660605401796962\n",
      "Performances prédites (total_points) pour le joueur: Diogo Dalot Teixeira : 3.1833519166493085\n",
      "Performances prédites (total_points) pour le joueur: Amadou Onana : 4.737545300336981\n",
      "Performances prédites (total_points) pour le joueur: Adrián San Miguel del Castillo : -0.013138286064603245\n",
      "Performances prédites (total_points) pour le joueur: Youssef Ramalho Chermiti : 0.7383296691581657\n",
      "Performances prédites (total_points) pour le joueur: Bukayo Saka : 6.935859920784694\n",
      "Performances prédites (total_points) pour le joueur: Ben Mee : 0.16424948896928615\n",
      "Performances prédites (total_points) pour le joueur: Joe Worrall : 0.15660605401796962\n",
      "Performances prédites (total_points) pour le joueur: Diego Carlos Santos Silva : 0.15660605401796962\n",
      "Performances prédites (total_points) pour le joueur: Lewis Cook : 14.10717486057104\n",
      "Performances prédites (total_points) pour le joueur: Bendegúz Bolla : -0.013138286064603245\n",
      "Performances prédites (total_points) pour le joueur: Malo Gusto : 8.095971430463484\n",
      "Performances prédites (total_points) pour le joueur: Amari'i Bell : -0.013138286064603245\n",
      "Performances prédites (total_points) pour le joueur: Dele Alli : 0.16424948896928615\n",
      "Performances prédites (total_points) pour le joueur: Noni Madueke : 0.053926357709373714\n",
      "Performances prédites (total_points) pour le joueur: Milos Kerkez : 6.894094387412628\n",
      "Performances prédites (total_points) pour le joueur: Luke Berry : 0.15660605401796962\n",
      "Performances prédites (total_points) pour le joueur: Kortney Hause : -0.013138286064603245\n",
      "Performances prédites (total_points) pour le joueur: Will Hughes : 2.153280051085364\n",
      "Performances prédites (total_points) pour le joueur: Alexander Isak : 11.367981470877476\n",
      "Performances prédites (total_points) pour le joueur: John-Kymani Gordon : 0.15660605401796962\n",
      "Performances prédites (total_points) pour le joueur: Cheikhou Kouyaté : 0.16424948896928615\n",
      "Performances prédites (total_points) pour le joueur: Cédric Alves Soares : 1.4781299413535225\n",
      "Performances prédites (total_points) pour le joueur: Pierre-Emerick Aubameyang : 0.0938840329171221\n",
      "Performances prédites (total_points) pour le joueur: Garang Kuol : 0.15660605401796962\n",
      "Performances prédites (total_points) pour le joueur: Tom Davies : 1.1072888280580793\n",
      "Performances prédites (total_points) pour le joueur: Antwoine Hackford : 0.15660605401796962\n",
      "Performances prédites (total_points) pour le joueur: Charles Sagoe : 0.15660605401796962\n",
      "Performances prédites (total_points) pour le joueur: Ethan Pinnock : 0.15660605401796962\n",
      "Performances prédites (total_points) pour le joueur: Jay Stansfield : 0.15660605401796962\n",
      "Performances prédites (total_points) pour le joueur: Matz Sels : 1.3231480853326172\n",
      "Performances prédites (total_points) pour le joueur: Ryan Yates : 2.177498506808545\n",
      "Performances prédites (total_points) pour le joueur: Nicolò Zaniolo : 0.16843473519480648\n",
      "Performances prédites (total_points) pour le joueur: Frank Onyeka : 6.134952081703942\n",
      "Performances prédites (total_points) pour le joueur: Naouirou Ahamada : 0.15660605401796962\n",
      "Performances prédites (total_points) pour le joueur: Philip Billing : 1.564296770587017\n",
      "Performances prédites (total_points) pour le joueur: Gabriel Słonina : -0.013138286064603245\n",
      "Performances prédites (total_points) pour le joueur: Marc Guéhi : 0.15660605401796962\n",
      "Performances prédites (total_points) pour le joueur: Seamus Coleman : 0.15660605401796962\n",
      "Performances prédites (total_points) pour le joueur: Diogo Teixeira da Silva : -0.44006788835271565\n",
      "Performances prédites (total_points) pour le joueur: Matthew Dibley-Dias : 0.15660605401796962\n",
      "Performances prédites (total_points) pour le joueur: James McAtee : 0.7660315368974152\n",
      "Performances prédites (total_points) pour le joueur: Valintino Adedokun : -0.013138286064603245\n",
      "Performances prédites (total_points) pour le joueur: Erling Haaland : 6.480142567968518\n",
      "Performances prédites (total_points) pour le joueur: Jack Cork : 0.16424948896928615\n",
      "Performances prédites (total_points) pour le joueur: Anthony Martial : 0.0938840329171221\n",
      "Performances prédites (total_points) pour le joueur: Danny Welbeck : 0.2654153119446892\n",
      "Performances prédites (total_points) pour le joueur: Carlos Vinícius Alves Morais : 0.15660605401796962\n",
      "Performances prédites (total_points) pour le joueur: Olu Aina : 0.15660605401796962\n",
      "Performances prédites (total_points) pour le joueur: Conor Bradley : 8.914426998106709\n",
      "Performances prédites (total_points) pour le joueur: Rodrigo Hernandez : 14.535348925888973\n",
      "Performances prédites (total_points) pour le joueur: Daniel Muñoz : 2.6471558263581434\n",
      "Performances prédites (total_points) pour le joueur: Victor Lindelöf : 2.408517780765084\n",
      "Performances prédites (total_points) pour le joueur: Kevin De Bruyne : 5.996867805623309\n",
      "Performances prédites (total_points) pour le joueur: George Shelvey : -0.013138286064603245\n",
      "Performances prédites (total_points) pour le joueur: Lucas Bergström : -0.013138286064603245\n",
      "Performances prédites (total_points) pour le joueur: Yasin Ayari : 0.15660605401796962\n",
      "Performances prédites (total_points) pour le joueur: Lewis Miley : 2.1981890136934075\n",
      "Performances prédites (total_points) pour le joueur: Roméo Lavia : 0.16424948896928615\n",
      "Performances prédites (total_points) pour le joueur: Fred Onyedinma : 0.16424948896928615\n",
      "Performances prédites (total_points) pour le joueur: Gustavo Henrique Furtado Scarpa : 0.15660605401796962\n",
      "Performances prédites (total_points) pour le joueur: Aaron Hickey : 0.15660605401796962\n",
      "Performances prédites (total_points) pour le joueur: Mads Bidstrup : 0.15660605401796962\n",
      "Performances prédites (total_points) pour le joueur: Solly March : 0.08488620676333264\n",
      "Performances prédites (total_points) pour le joueur: David Datro Fofana : 6.730531286152955\n",
      "Performances prédites (total_points) pour le joueur: Declan Rice : 13.696098504249127\n",
      "Performances prédites (total_points) pour le joueur: Joe Hugill : 0.15660605401796962\n",
      "Performances prédites (total_points) pour le joueur: Kacper Kozłowski : 0.15660605401796962\n",
      "Performances prédites (total_points) pour le joueur: Joe Rothwell : 0.16424948896928615\n",
      "Performances prédites (total_points) pour le joueur: Vini de Souza Costa : 3.4208006893309126\n",
      "Performances prédites (total_points) pour le joueur: Ben Doak : 0.15660605401796962\n",
      "Performances prédites (total_points) pour le joueur: Sander Berge : 3.720365070795054\n",
      "Performances prédites (total_points) pour le joueur: Fabio Henrique Tavares : 0.16424948896928615\n",
      "Performances prédites (total_points) pour le joueur: Louie Marsh : 0.15660605401796962\n",
      "Performances prédites (total_points) pour le joueur: Willy Kambwala : 1.1621928927400016\n",
      "Performances prédites (total_points) pour le joueur: Oliver McBurnie : 2.9638783823092973\n",
      "Performances prédites (total_points) pour le joueur: Mathias Jensen : 1.544377050277951\n",
      "Performances prédites (total_points) pour le joueur: Matt Macey : -0.013138286064603245\n",
      "Performances prédites (total_points) pour le joueur: Wesley Fofana : 0.15660605401796962\n",
      "Performances prédites (total_points) pour le joueur: Ryan Fredericks : 0.15660605401796962\n",
      "Performances prédites (total_points) pour le joueur: Max Kilman : 2.7988490766091325\n",
      "Performances prédites (total_points) pour le joueur: Nathan Aké : 3.3721391894405897\n",
      "Performances prédites (total_points) pour le joueur: Benjamin Fredrick : -0.013138286064603245\n",
      "Performances prédites (total_points) pour le joueur: Lewis Hall : 0.15660605401796962\n",
      "Performances prédites (total_points) pour le joueur: Deivid Washington de Souza Eugênio : 0.15660605401796962\n",
      "Performances prédites (total_points) pour le joueur: Elliot Anderson : 0.15660605401796962\n",
      "Performances prédites (total_points) pour le joueur: Oliwier Zych : -0.013138286064603245\n",
      "Performances prédites (total_points) pour le joueur: Mykhailo Mudryk : 1.2737590033866395\n",
      "Performances prédites (total_points) pour le joueur: Radu Dragusin : 0.15660605401796962\n",
      "Performances prédites (total_points) pour le joueur: Siriki Dembélé : 0.15660605401796962\n",
      "Performances prédites (total_points) pour le joueur: Dejan Kulusevski : 4.822954147255638\n",
      "Performances prédites (total_points) pour le joueur: Daniel Castelo Podence : 0.053926357709373714\n",
      "Performances prédites (total_points) pour le joueur: Conor Gallagher : 5.684069293968656\n",
      "Performances prédites (total_points) pour le joueur: Maxime Esteve : 2.960551514163546\n",
      "Performances prédites (total_points) pour le joueur: Eberechi Eze : 10.353706124688562\n",
      "Performances prédites (total_points) pour le joueur: Jonjo Shelvey : 0.16424948896928615\n",
      "Performances prédites (total_points) pour le joueur: Thilo Kehrer : 0.15660605401796962\n",
      "Performances prédites (total_points) pour le joueur: Ty Barnett : 0.15660605401796962\n",
      "Performances prédites (total_points) pour le joueur: Mackenzie Hunt : 0.15660605401796962\n",
      "Performances prédites (total_points) pour le joueur: Ameen Al-Dakhil : -0.013138286064603245\n",
      "Performances prédites (total_points) pour le joueur: Hwang Ui-jo : 0.15660605401796962\n",
      "Performances prédites (total_points) pour le joueur: Julio Enciso : 3.7628376219493402\n",
      "Performances prédites (total_points) pour le joueur: Steven Benda : -0.013138286064603245\n",
      "Performances prédites (total_points) pour le joueur: Norberto Murara Neto : 8.028882956172104\n",
      "Performances prédites (total_points) pour le joueur: Jérémy Doku : 5.314826093182798\n",
      "Performances prédites (total_points) pour le joueur: Richie Laryea : 0.15660605401796962\n",
      "Performances prédites (total_points) pour le joueur: Joshua King : 0.15660605401796962\n",
      "Performances prédites (total_points) pour le joueur: Antonee Robinson : 5.6660601285936725\n",
      "Performances prédites (total_points) pour le joueur: Raúl Jiménez : 0.16424948896928615\n",
      "Performances prédites (total_points) pour le joueur: Louie Watson : 0.15660605401796962\n",
      "Performances prédites (total_points) pour le joueur: Hwang Hee-chan : 0.516198742492004\n",
      "Performances prédites (total_points) pour le joueur: Willian Borges da Silva : 1.3464280511662219\n",
      "Performances prédites (total_points) pour le joueur: Rhian Brewster : 0.16424948896928615\n",
      "Performances prédites (total_points) pour le joueur: Tom Lockyer : 0.15660605401796962\n",
      "Performances prédites (total_points) pour le joueur: Jordan Pickford : 1.70031577995027\n",
      "Performances prédites (total_points) pour le joueur: Michael Olakigbe : 0.15660605401796962\n",
      "Performances prédites (total_points) pour le joueur: Anis Slimane : 0.15660605401796962\n",
      "Performances prédites (total_points) pour le joueur: Bruno Guimarães Rodriguez Moura : 7.492436474048438\n",
      "Performances prédites (total_points) pour le joueur: Ryan Fraser : 0.16424948896928615\n",
      "Performances prédites (total_points) pour le joueur: Anthony Knockaert : 0.15660605401796962\n",
      "Performances prédites (total_points) pour le joueur: Harry Maguire : 0.15660605401796962\n",
      "Performances prédites (total_points) pour le joueur: Matheus Santos Carneiro Da Cunha : 0.516198742492004\n",
      "Performances prédites (total_points) pour le joueur: Rhys Bennett : -0.013138286064603245\n",
      "Performances prédites (total_points) pour le joueur: Francisco Jorge Tomás Oliveira : 0.15660605401796962\n",
      "Performances prédites (total_points) pour le joueur: Ki-Jana Hoever : -0.013138286064603245\n",
      "Performances prédites (total_points) pour le joueur: Jacob Bruun Larsen : 4.175994443508397\n",
      "Performances prédites (total_points) pour le joueur: Loïc Mbe Soh : -0.013138286064603245\n",
      "Performances prédites (total_points) pour le joueur: Moussa Diaby : 4.23776914663043\n",
      "Performances prédites (total_points) pour le joueur: Alfie Doughty : 9.15438711024435\n",
      "Performances prédites (total_points) pour le joueur: James Wright : -0.013138286064603245\n",
      "Performances prédites (total_points) pour le joueur: João Cancelo : 0.2654153119446892\n",
      "Performances prédites (total_points) pour le joueur: Pau Torres : 0.15660605401796962\n",
      "Performances prédites (total_points) pour le joueur: Santiago Bueno : 0.15660605401796962\n",
      "Performances prédites (total_points) pour le joueur: Mohamed Elneny : 0.15660605401796962\n",
      "Performances prédites (total_points) pour le joueur: Jarrad Branthwaite : 2.199608099118955\n",
      "Performances prédites (total_points) pour le joueur: Kaden Rodney : 0.15660605401796962\n",
      "Performances prédites (total_points) pour le joueur: Martin Ødegaard : 15.890662428901994\n",
      "Performances prédites (total_points) pour le joueur: Matheus Luiz Nunes : 0.16424948896928615\n",
      "Performances prédites (total_points) pour le joueur: Luke Harris : 0.15660605401796962\n",
      "Performances prédites (total_points) pour le joueur: Tom King : -0.013138286064603245\n",
      "Performances prédites (total_points) pour le joueur: Rúben Gato Alves Dias : 2.6495260448434315\n",
      "Performances prédites (total_points) pour le joueur: Dan Potts : -0.013138286064603245\n",
      "Performances prédites (total_points) pour le joueur: Djed Spence : -0.013138286064603245\n",
      "Performances prédites (total_points) pour le joueur: Luke Thomas : -0.013138286064603245\n",
      "Performances prédites (total_points) pour le joueur: Cameron Archer : 0.15660605401796962\n",
      "Performances prédites (total_points) pour le joueur: Emiliano Martínez Romero : 2.42940445561404\n",
      "Performances prédites (total_points) pour le joueur: Bobby De Cordova-Reid : 2.6601483407135222\n",
      "Performances prédites (total_points) pour le joueur: Tomáš Souček : 9.59648467583372\n",
      "Performances prédites (total_points) pour le joueur: Ross Barkley : 3.770825409577017\n",
      "Performances prédites (total_points) pour le joueur: Gonzalo Montiel : 0.15660605401796962\n",
      "Performances prédites (total_points) pour le joueur: Giovanni Reyna : 0.16424948896928615\n",
      "Performances prédites (total_points) pour le joueur: Joško Gvardiol : 0.16424948896928615\n",
      "Performances prédites (total_points) pour le joueur: Cole Palmer : 10.087808390708314\n",
      "Performances prédites (total_points) pour le joueur: Ivan Perišić : 0.15660605401796962\n",
      "Performances prédites (total_points) pour le joueur: Jordan Amissah : -0.013138286064603245\n",
      "Performances prédites (total_points) pour le joueur: Carlos Henrique Casimiro : 3.282245671416103\n",
      "Performances prédites (total_points) pour le joueur: Tom Heaton : -0.013138286064603245\n",
      "Performances prédites (total_points) pour le joueur: Jacob Wright : 0.15660605401796962\n",
      "Performances prédites (total_points) pour le joueur: Sepp van den Berg : -0.013138286064603245\n",
      "Performances prédites (total_points) pour le joueur: Anel Ahmedhodžić : 1.4923455117662043\n",
      "Performances prédites (total_points) pour le joueur: Max Aarons : 0.15660605401796962\n",
      "Performances prédites (total_points) pour le joueur: Josh Powell : -0.013138286064603245\n",
      "Performances prédites (total_points) pour le joueur: Cristian Romero : 11.461738925893238\n",
      "Performances prédites (total_points) pour le joueur: Daniel Bentley : 1.5216500561246393\n",
      "Performances prédites (total_points) pour le joueur: Axel Piesold : 0.15660605401796962\n",
      "Performances prédites (total_points) pour le joueur: Ethan Ampadu : -0.013138286064603245\n",
      "Performances prédites (total_points) pour le joueur: Jan Paul van Hecke : 5.3228925589212865\n",
      "Performances prédites (total_points) pour le joueur: Yasser Larouci : 0.15660605401796962\n",
      "Performances prédites (total_points) pour le joueur: Carney Chukwuemeka : 0.15660605401796962\n",
      "Performances prédites (total_points) pour le joueur: Carlton Morris : 14.970997695563401\n",
      "Performances prédites (total_points) pour le joueur: Odysseas Vlachodimos : 0.15660605401796962\n",
      "Performances prédites (total_points) pour le joueur: Ben Jackson : -0.013138286064603245\n",
      "Performances prédites (total_points) pour le joueur: George Earthy : 0.15660605401796962\n",
      "Performances prédites (total_points) pour le joueur: Adam Davies : -0.013138286064603245\n",
      "Performances prédites (total_points) pour le joueur: Myles Peart-Harris : 0.15660605401796962\n",
      "Performances prédites (total_points) pour le joueur: Tyrick Mitchell : 2.6268598963783494\n",
      "Performances prédites (total_points) pour le joueur: James Maddison : 6.730848534265824\n",
      "Performances prédites (total_points) pour le joueur: Cauley Woodrow : 0.15660605401796962\n",
      "Performances prédites (total_points) pour le joueur: Mohamed Salah : -0.6451197347353095\n",
      "Performances prédites (total_points) pour le joueur: Harry Kane : -0.7533105553498067\n",
      "Performances prédites (total_points) pour le joueur: Zack Steffen : -0.013138286064603245\n",
      "Performances prédites (total_points) pour le joueur: Antoine Semenyo : 11.749103126183778\n",
      "Performances prédites (total_points) pour le joueur: Bradley Ibrahim : 0.15660605401796962\n",
      "Performances prédites (total_points) pour le joueur: Altay Bayindir : -0.013138286064603245\n",
      "Performances prédites (total_points) pour le joueur: Christian Pulisic : 0.03344969484728858\n",
      "Performances prédites (total_points) pour le joueur: Adam Webster : 4.441152557898104\n",
      "Performances prédites (total_points) pour le joueur: Darwin Núñez Ribeiro : 7.590474543001278\n",
      "Performances prédites (total_points) pour le joueur: Axel Disasi : 11.447518012425016\n",
      "Performances prédites (total_points) pour le joueur: Enock Agyei : 0.15660605401796962\n",
      "Performances prédites (total_points) pour le joueur: Folarin Balogun : 0.15660605401796962\n",
      "Performances prédites (total_points) pour le joueur: Tyrone Mings : 0.15660605401796962\n",
      "Performances prédites (total_points) pour le joueur: Nicolás Domínguez : 6.468584215028263\n",
      "Performances prédites (total_points) pour le joueur: Conor Coventry : 0.15660605401796962\n",
      "Performances prédites (total_points) pour le joueur: Ismaila Coulibaly : 0.15660605401796962\n",
      "Performances prédites (total_points) pour le joueur: Josh Brownhill : 0.15660605401796962\n",
      "Performances prédites (total_points) pour le joueur: Fraser Forster : -0.013138286064603245\n",
      "Performances prédites (total_points) pour le joueur: Jefferson Lerma Solís : 2.5022907895712594\n",
      "Performances prédites (total_points) pour le joueur: Luke Freeman : 0.16424948896928615\n",
      "Performances prédites (total_points) pour le joueur: Lewis Dunk : 4.210058820136955\n",
      "Performances prédites (total_points) pour le joueur: César Azpilicueta : 0.15660605401796962\n",
      "Performances prédites (total_points) pour le joueur: Marcelo de Araújo Pitaluga Filho : -0.013138286064603245\n",
      "Performances prédites (total_points) pour le joueur: Lorenz Assignon : 4.351146397795306\n",
      "Performances prédites (total_points) pour le joueur: Steve Cook : 0.15660605401796962\n",
      "Performances prédites (total_points) pour le joueur: Hjalmar Ekdal : -0.013138286064603245\n",
      "Performances prédites (total_points) pour le joueur: Alex Telles : 0.15660605401796962\n",
      "Performances prédites (total_points) pour le joueur: Luca Barrington : 0.15660605401796962\n",
      "Performances prédites (total_points) pour le joueur: José Malheiro de Sá : 1.8096053730688848\n",
      "Performances prédites (total_points) pour le joueur: João Neves Virgínia : -0.013138286064603245\n",
      "Performances prédites (total_points) pour le joueur: Saša Lukić : 6.035521418657634\n",
      "Performances prédites (total_points) pour le joueur: Emiliano Marcondes : 0.15660605401796962\n",
      "Performances prédites (total_points) pour le joueur: Joe White : 0.15660605401796962\n",
      "Performances prédites (total_points) pour le joueur: Jacob Ramsey : 2.769585446695436\n",
      "Performances prédites (total_points) pour le joueur: Sandro Tonali : 0.053926357709373714\n",
      "Performances prédites (total_points) pour le joueur: Micah Hamilton : 0.15660605401796962\n",
      "Performances prédites (total_points) pour le joueur: Nathan Fraser : 2.4192145301447385\n",
      "Performances prédites (total_points) pour le joueur: Keane Lewis-Potter : 0.15660605401796962\n",
      "Performances prédites (total_points) pour le joueur: Dwight McNeil : 6.9637722543686005\n",
      "Performances prédites (total_points) pour le joueur: Cameron Peupion : 0.15660605401796962\n",
      "Performances prédites (total_points) pour le joueur: Moisés Caicedo Corozo : 3.498233046937204\n",
      "Performances prédites (total_points) pour le joueur: Jorge Luiz Frello Filho : 5.921158433333624\n",
      "Performances prédites (total_points) pour le joueur: Kenny Tete : 0.15660605401796962\n",
      "Performances prédites (total_points) pour le joueur: Harvey Griffiths : 0.15660605401796962\n",
      "Performances prédites (total_points) pour le joueur: Darko Churlinov : 0.15660605401796962\n",
      "Performances prédites (total_points) pour le joueur: Jack Harrison : 2.1707799716831935\n",
      "Performances prédites (total_points) pour le joueur: Jack Walton : -0.013138286064603245\n",
      "Performances prédites (total_points) pour le joueur: Timothy Castagne : 5.93205222902888\n",
      "Performances prédites (total_points) pour le joueur: Adam Smith : 5.296050515344693\n",
      "Performances prédites (total_points) pour le joueur: CJ Egan-Riley : -0.013138286064603245\n",
      "Performances prédites (total_points) pour le joueur: Romelu Lukaku Bolingoli : -0.07878916825308502\n",
      "Performances prédites (total_points) pour le joueur: James Garner : 7.372703071402944\n",
      "Performances prédites (total_points) pour le joueur: Thiago Emiliano da Silva : 0.16424948896928615\n",
      "Performances prédites (total_points) pour le joueur: Rob Holding : 0.15660605401796962\n",
      "Performances prédites (total_points) pour le joueur: Aaron Wan-Bissaka : 0.15660605401796962\n",
      "Performances prédites (total_points) pour le joueur: Deniz Undav : 0.03344969484728858\n",
      "Performances prédites (total_points) pour le joueur: Álvaro Fernández Carreras : -0.013138286064603245\n",
      "Performances prédites (total_points) pour le joueur: Bertrand Traoré : 0.16424948896928615\n",
      "Performances prédites (total_points) pour le joueur: Nathan Patterson : 0.15660605401796962\n",
      "Performances prédites (total_points) pour le joueur: Christopher Nkunku : -0.06079335152644786\n",
      "Performances prédites (total_points) pour le joueur: Serge Aurier : 0.15660605401796962\n",
      "Performances prédites (total_points) pour le joueur: Tom Cairney : 1.4567511824261345\n",
      "Performances prédites (total_points) pour le joueur: Harry Arter : 0.15660605401796962\n",
      "Performances prédites (total_points) pour le joueur: Alex Matos : 0.15660605401796962\n",
      "Performances prédites (total_points) pour le joueur: Mohamed Dräger : -0.013138286064603245\n",
      "Performances prédites (total_points) pour le joueur: Rúnar Alex Rúnarsson : -0.013138286064603245\n",
      "Performances prédites (total_points) pour le joueur: Scott Carson : -0.013138286064603245\n",
      "Performances prédites (total_points) pour le joueur: Bénie Traoré : 0.38442180011749943\n",
      "Performances prédites (total_points) pour le joueur: Jurriën Timber : 0.15660605401796962\n",
      "Performances prédites (total_points) pour le joueur: Jordan Beyer : -0.013138286064603245\n",
      "Performances prédites (total_points) pour le joueur: Wes Foderingham : 0.15660605401796962\n",
      "Performances prédites (total_points) pour le joueur: Lewis Koumas : 0.15660605401796962\n",
      "Performances prédites (total_points) pour le joueur: Konstantinos Mavropanos : 2.3896968329497663\n",
      "Performances prédites (total_points) pour le joueur: Diego Manuel Jadon da Silva Moreira : 0.15660605401796962\n",
      "Performances prédites (total_points) pour le joueur: Odsonne Edouard : 1.980303994336791\n",
      "Performances prédites (total_points) pour le joueur: Jamal Lowe : 0.16424948896928615\n",
      "Performances prédites (total_points) pour le joueur: Owen Dodgson : -0.013138286064603245\n",
      "Performances prédites (total_points) pour le joueur: Matt Ritchie : 0.15660605401796962\n",
      "Performances prédites (total_points) pour le joueur: Lyle Foster : 0.15660605401796962\n",
      "Performances prédites (total_points) pour le joueur: Aaron Ramsey : 0.16424948896928615\n",
      "Performances prédites (total_points) pour le joueur: James Milner : 0.16424948896928615\n",
      "Performances prédites (total_points) pour le joueur: Nathan Redmond : 0.15660605401796962\n",
      "Performances prédites (total_points) pour le joueur: Mathias Jorgensen : 2.415296610302659\n",
      "Performances prédites (total_points) pour le joueur: Michael Olise : 0.2654153119446892\n",
      "Performances prédites (total_points) pour le joueur: Oliver Skipp : 0.15660605401796962\n",
      "Performances prédites (total_points) pour le joueur: Leander Dendoncker : 0.16424948896928615\n",
      "Performances prédites (total_points) pour le joueur: Scott McKenna : 0.15660605401796962\n",
      "Performances prédites (total_points) pour le joueur: Michael Keane : 0.15660605401796962\n",
      "Performances prédites (total_points) pour le joueur: Sasa Kalajdzic : 0.16424948896928615\n",
      "Performances prédites (total_points) pour le joueur: Jarrod Bowen : 4.02439628363665\n",
      "Performances prédites (total_points) pour le joueur: Matt Turner : -0.013138286064603245\n",
      "Performances prédites (total_points) pour le joueur: Raheem Sterling : 2.63961277334558\n",
      "Performances prédites (total_points) pour le joueur: Kell Watts : -0.013138286064603245\n",
      "Performances prédites (total_points) pour le joueur: Mads Juel Andersen : -0.013138286064603245\n",
      "Performances prédites (total_points) pour le joueur: Sergi Canós Tenés : 0.16424948896928615\n",
      "Performances prédites (total_points) pour le joueur: Ryan Christie : 1.6820476711394423\n",
      "Performances prédites (total_points) pour le joueur: Yegor Yarmoliuk : 1.449107747474818\n",
      "Performances prédites (total_points) pour le joueur: Robert Sánchez : 0.15660605401796962\n",
      "Performances prédites (total_points) pour le joueur: Gavin Kilkenny : 0.15660605401796962\n",
      "Performances prédites (total_points) pour le joueur: Armando Broja : 1.3441244594388035\n",
      "Performances prédites (total_points) pour le joueur: Dominic Solanke : 6.517414856899194\n",
      "Performances prédites (total_points) pour le joueur: Chris Wood : 0.16424948896928615\n",
      "Performances prédites (total_points) pour le joueur: Alex Scott : 1.3628218713033837\n",
      "Performances prédites (total_points) pour le joueur: Jaden Philogene-Bidace : 0.15660605401796962\n",
      "Performances prédites (total_points) pour le joueur: Filip Marschall : -0.013138286064603245\n",
      "Performances prédites (total_points) pour le joueur: Kalvin Phillips : 1.449107747474818\n",
      "Performances prédites (total_points) pour le joueur: Rodrigo Bentancur : 2.0533324974613976\n",
      "Performances prédites (total_points) pour le joueur: Matty Cash : 2.792152466281467\n",
      "Performances prédites (total_points) pour le joueur: Mason Holgate : -0.013138286064603245\n",
      "Performances prédites (total_points) pour le joueur: Glen Rea : 0.15660605401796962\n",
      "Performances prédites (total_points) pour le joueur: Jaidon Anthony : 0.16424948896928615\n",
      "Performances prédites (total_points) pour le joueur: Tariq Lamptey : 2.3150676170967657\n",
      "Performances prédites (total_points) pour le joueur: Joseph Anang : -0.013138286064603245\n",
      "Performances prédites (total_points) pour le joueur: George Baldock : 2.1378594404768507\n",
      "Performances prédites (total_points) pour le joueur: Jeff Hendrick : 0.15660605401796962\n",
      "Performances prédites (total_points) pour le joueur: Mark Gillespie : -0.013138286064603245\n",
      "Performances prédites (total_points) pour le joueur: Ronnie Stutter : 0.15660605401796962\n",
      "Performances prédites (total_points) pour le joueur: Nélson Cabral Semedo : 4.490708621672813\n",
      "Performances prédites (total_points) pour le joueur: Wesley Okoduwa : -0.013138286064603245\n",
      "Performances prédites (total_points) pour le joueur: Kevin Mbabu : -0.013138286064603245\n",
      "Performances prédites (total_points) pour le joueur: Tyrell Malacia : 0.15660605401796962\n",
      "Performances prédites (total_points) pour le joueur: Hákon Valdimarsson : -0.013138286064603245\n",
      "Performances prédites (total_points) pour le joueur: Đorđe Petrović : 1.9544978480055384\n",
      "Performances prédites (total_points) pour le joueur: Andros Townsend : 1.3777060314062313\n",
      "Performances prédites (total_points) pour le joueur: Chris Richards : 2.0014073984541416\n",
      "Performances prédites (total_points) pour le joueur: Jordan Henderson : 0.16424948896928615\n",
      "Performances prédites (total_points) pour le joueur: Daniel Gore : 0.15660605401796962\n",
      "Performances prédites (total_points) pour le joueur: Kyle Walker : 5.393288307160894\n",
      "Performances prédites (total_points) pour le joueur: Jacob Brown : 0.16424948896928615\n",
      "Performances prédites (total_points) pour le joueur: Vicente Guaita : 0.15660605401796962\n",
      "Performances prédites (total_points) pour le joueur: Braian Ojeda Rodríguez : 0.15660605401796962\n",
      "Performances prédites (total_points) pour le joueur: Mads Bech Sørensen : -0.013138286064603245\n"
     ]
    }
   ],
   "source": [
    "\n",
    "# Créer une liste pour stocker les prédictions de performances pour tous les joueurs de la saison 23-24\n",
    "all_predictions = []\n",
    "\n",
    "# Itérer sur chaque joueur dans le DataFrame de la saison 23-24\n",
    "for player_name in team_data['name']:\n",
    "    # Prédiction des performances du joueur avec le modèle entraîné\n",
    "    predicted_performance = predict_player_performance(optimal_model, player_name, team_data)\n",
    "\n",
    "    # Ajouter le nom du joueur et ses prédictions à la liste\n",
    "    all_predictions.append((player_name, predicted_performance))\n",
    "\n",
    "# Afficher les prédictions pour tous les joueurs de la saison 23-24\n",
    "for player_name, predicted_performance in all_predictions:\n",
    "    print(\"Performances prédites (total_points) pour le joueur:\", player_name, \":\", predicted_performance)\n"
   ]
  },
  {
   "cell_type": "code",
   "execution_count": 124,
   "metadata": {
    "id": "aIJ4o3AWn512",
    "colab": {
     "base_uri": "https://localhost:8080/"
    },
    "outputId": "3e8f297c-d825-4b29-a5bc-976033a577ba",
    "ExecuteTime": {
     "end_time": "2024-03-12T13:49:54.707540Z",
     "start_time": "2024-03-12T13:49:54.405453Z"
    }
   },
   "outputs": [
    {
     "name": "stdout",
     "output_type": "stream",
     "text": [
      "832\n"
     ]
    }
   ],
   "source": [
    "print(len(all_predictions))"
   ]
  },
  {
   "cell_type": "code",
   "execution_count": 125,
   "metadata": {
    "id": "1nL-8sU9tdRX",
    "ExecuteTime": {
     "end_time": "2024-03-12T13:49:56.413628Z",
     "start_time": "2024-03-12T13:49:56.192946Z"
    }
   },
   "outputs": [],
   "source": [
    "# Créer un dictionnaire à partir de la liste de toutes les prédictions\n",
    "predicted_performances_dict = {player_name: predicted_performance for player_name, predicted_performance in all_predictions}\n"
   ]
  },
  {
   "cell_type": "code",
   "execution_count": 166,
   "outputs": [
    {
     "name": "stdout",
     "output_type": "stream",
     "text": [
      "               name position           team   xP  assists  bonus  bps  \\\n",
      "0       Femi Seriki      DEF  Sheffield Utd  0.0        0      0    0   \n",
      "1     Josh Brooking      DEF        Chelsea  0.0        0      0    0   \n",
      "2       Radek Vítek       GK        Man Utd  0.0        0      0    0   \n",
      "3  Jack Hinshelwood      MID       Brighton  0.0        0      0    0   \n",
      "4      Jadon Sancho      MID        Man Utd  0.0        0      0    0   \n",
      "\n",
      "   clean_sheets  creativity  element  ...  team_h_score  threat  total_points  \\\n",
      "0             0         0.0      653  ...             0     0.0             0   \n",
      "1             0         0.0      723  ...             2     0.0             0   \n",
      "2             0         0.0      669  ...             3     0.0             0   \n",
      "3             0         0.0      621  ...             3     0.0             0   \n",
      "4             0         0.0      397  ...             3     0.0             0   \n",
      "\n",
      "   transfers_balance  transfers_in  transfers_out  now_cost  was_home  \\\n",
      "0               -138             0            138        39      True   \n",
      "1                  7            60             53        40     False   \n",
      "2                -42             0             42        40     False   \n",
      "3              -1503            32           1535        45     False   \n",
      "4                -93             0             93        67     False   \n",
      "\n",
      "   yellow_cards predicted_performance  \n",
      "0             0             -0.013138  \n",
      "1             0             -0.013138  \n",
      "2             0             -0.013138  \n",
      "3             0              0.156606  \n",
      "4             0             -0.078789  \n",
      "\n",
      "[5 rows x 41 columns]\n"
     ]
    }
   ],
   "source": [
    "team_data['predicted_performance'] = team_data['name'].map(predicted_performances_dict)\n",
    "\n",
    "print(team_data.head())"
   ],
   "metadata": {
    "collapsed": false,
    "ExecuteTime": {
     "end_time": "2024-03-14T11:18:12.008272Z",
     "start_time": "2024-03-14T11:18:11.944284Z"
    }
   }
  },
  {
   "cell_type": "markdown",
   "source": [],
   "metadata": {
    "collapsed": false
   }
  },
  {
   "cell_type": "markdown",
   "metadata": {
    "id": "QBcSP6nrpzln"
   },
   "source": [
    "Création d'une equipe"
   ]
  },
  {
   "cell_type": "code",
   "execution_count": 127,
   "metadata": {
    "id": "VppjiciLpzTE",
    "ExecuteTime": {
     "end_time": "2024-03-12T13:50:04.933485Z",
     "start_time": "2024-03-12T13:50:03.980278Z"
    }
   },
   "outputs": [],
   "source": [
    "def create_team(predicted_performances, data, budget=100, max_players_per_team=3):\n",
    "    team = []\n",
    "    remaining_budget = budget\n",
    "    positions_quota = {'GK': 2, 'DEF': 5, 'MID': 5, 'FWD': 3}\n",
    "    positions_count = {'GK': 0, 'DEF': 0, 'MID': 0, 'FWD': 0}\n",
    "    team_players_count = {}\n",
    "\n",
    "    # Tri des joueurs prédits par performances décroissantes\n",
    "    sorted_players = sorted(predicted_performances.items(), key=lambda x: x[1], reverse=True)\n",
    "\n",
    "    # Sélection des joueurs pour l'équipe en respectant les contraintes\n",
    "    for player_name, predicted_performance in sorted_players:\n",
    "        # Vérifier si l'équipe a déjà atteint le nombre maximum de joueurs\n",
    "        if len(team) >= 15:\n",
    "            break\n",
    "\n",
    "        # Vérifier si le joueur est présent dans les données\n",
    "        player_data = data[data['name'] == player_name]\n",
    "        if not player_data.empty:\n",
    "            player_cost = player_data['now_cost'].values[0]\n",
    "            player_position = player_data['position'].values[0]\n",
    "            player_team = player_data['team'].values[0]\n",
    "\n",
    "            # Vérification des contraintes de budget, de nombre maximum de joueurs par équipe et de quota par poste\n",
    "            if player_cost <= remaining_budget and team_players_count.get(player_team, 0) < max_players_per_team and positions_count[player_position] < positions_quota[player_position]:\n",
    "                team.append({\n",
    "                    'name': player_name,\n",
    "                    'position': player_position,\n",
    "                    'team': player_team,\n",
    "                    'cost': player_cost,\n",
    "                    'predicted_performance': predicted_performance\n",
    "                })\n",
    "                remaining_budget -= player_cost\n",
    "                positions_count[player_position] += 1\n",
    "                team_players_count[player_team] = team_players_count.get(player_team, 0) + 1\n",
    "\n",
    "    return team\n"
   ]
  },
  {
   "cell_type": "code",
   "execution_count": 128,
   "metadata": {
    "id": "TuNXuVX1tlcC",
    "ExecuteTime": {
     "end_time": "2024-03-12T13:50:11.023404Z",
     "start_time": "2024-03-12T13:50:10.053024Z"
    }
   },
   "outputs": [],
   "source": [
    "# Créer une équipe en utilisant les performances prédites\n",
    "team = create_team(predicted_performances_dict, team_data, budget=1000, max_players_per_team=3)"
   ]
  },
  {
   "cell_type": "code",
   "execution_count": 129,
   "metadata": {
    "id": "kCnvJDajoFsL",
    "colab": {
     "base_uri": "https://localhost:8080/"
    },
    "outputId": "a606301d-e411-4c61-b298-7be7ec0ed875",
    "ExecuteTime": {
     "end_time": "2024-03-12T13:50:12.860197Z",
     "start_time": "2024-03-12T13:50:12.554886Z"
    }
   },
   "outputs": [
    {
     "name": "stdout",
     "output_type": "stream",
     "text": [
      "Équipe sélectionnée:\n",
      "Nom: Kai Havertz, Poste: MID, Équipe: Arsenal, Coût: 71, Performance Prédite: 19.310514668537042\n",
      "Nom: Phil Foden, Poste: MID, Équipe: Man City, Coût: 81, Performance Prédite: 19.248851617795275\n",
      "Nom: Rodrigo Muniz Carvalho, Poste: FWD, Équipe: Fulham, Coût: 45, Performance Prédite: 16.305604342547653\n",
      "Nom: Harry Wilson, Poste: MID, Équipe: Fulham, Coût: 53, Performance Prédite: 16.221667231488183\n",
      "Nom: Timo Werner, Poste: FWD, Équipe: Spurs, Coût: 63, Performance Prédite: 15.942504463894986\n",
      "Nom: Martin Ødegaard, Poste: MID, Équipe: Arsenal, Coût: 85, Performance Prédite: 15.890662428901994\n",
      "Nom: Edson Álvarez Velázquez, Poste: MID, Équipe: West Ham, Coût: 50, Performance Prédite: 15.73184482872646\n",
      "Nom: Ollie Watkins, Poste: FWD, Équipe: Aston Villa, Coût: 89, Performance Prédite: 15.271087737945109\n",
      "Nom: Mads Roerslev Rasmussen, Poste: DEF, Équipe: Brentford, Coût: 44, Performance Prédite: 14.026874342855244\n",
      "Nom: Benjamin White, Poste: DEF, Équipe: Arsenal, Coût: 56, Performance Prédite: 12.656241324713791\n",
      "Nom: Cristian Romero, Poste: DEF, Équipe: Spurs, Coût: 49, Performance Prédite: 11.461738925893238\n",
      "Nom: Axel Disasi, Poste: DEF, Équipe: Chelsea, Coût: 49, Performance Prédite: 11.447518012425016\n",
      "Nom: Fabian Schär, Poste: DEF, Équipe: Newcastle, Coût: 54, Performance Prédite: 10.76548614686531\n",
      "Nom: Alphonse Areola, Poste: GK, Équipe: West Ham, Coût: 42, Performance Prédite: 9.913099371946307\n",
      "Nom: Caoimhin Kelleher, Poste: GK, Équipe: Liverpool, Coût: 37, Performance Prédite: 8.669551933556857\n"
     ]
    }
   ],
   "source": [
    "# Afficher l'équipe sélectionnée\n",
    "print(\"Équipe sélectionnée:\")\n",
    "for player in team:\n",
    "    print(f\"Nom: {player['name']}, Poste: {player['position']}, Équipe: {player['team']}, Coût: {player['cost']}, Performance Prédite: {player['predicted_performance']}\")\n"
   ]
  },
  {
   "cell_type": "code",
   "execution_count": 130,
   "metadata": {
    "id": "LvUNcfStDHNP",
    "colab": {
     "base_uri": "https://localhost:8080/"
    },
    "outputId": "e4bc0ffd-769a-4beb-d21d-9ca2bc6f8401",
    "ExecuteTime": {
     "end_time": "2024-03-12T13:50:16.112159Z",
     "start_time": "2024-03-12T13:50:15.813424Z"
    }
   },
   "outputs": [
    {
     "name": "stdout",
     "output_type": "stream",
     "text": [
      "Le cout total de l'equipe est de: 868 k£\n",
      "Le nombre de point total de l'equipe est de: 212.86324737809244\n"
     ]
    }
   ],
   "source": [
    "# Calcul du prix total de l'équipe recommandée\n",
    "total_cost = sum(player['cost'] for player in team)\n",
    "total_team_points = sum(player['predicted_performance'] for player in team)\n",
    "print(\"Le cout total de l'equipe est de:\", total_cost, \"k£\")\n",
    "print(\"Le nombre de point total de l'equipe est de:\", total_team_points)"
   ]
  },
  {
   "cell_type": "code",
   "execution_count": 131,
   "metadata": {
    "id": "Np0y0altsbki",
    "colab": {
     "base_uri": "https://localhost:8080/"
    },
    "outputId": "0ca55efb-4385-4453-d8b6-1c7f0797137a",
    "ExecuteTime": {
     "end_time": "2024-03-12T13:50:19.826598Z",
     "start_time": "2024-03-12T13:50:19.495673Z"
    }
   },
   "outputs": [
    {
     "name": "stdout",
     "output_type": "stream",
     "text": [
      "Composition de l'équipe recommandée:\n",
      "Joueur: Kai Havertz\n",
      "Poste: MID\n",
      "Équipe: Arsenal\n",
      "Prix: 71 k£\n",
      "Score prédit: 19.310514668537042\n",
      "\n",
      "Joueur: Phil Foden\n",
      "Poste: MID\n",
      "Équipe: Man City\n",
      "Prix: 81 k£\n",
      "Score prédit: 19.248851617795275\n",
      "\n",
      "Joueur: Rodrigo Muniz Carvalho\n",
      "Poste: FWD\n",
      "Équipe: Fulham\n",
      "Prix: 45 k£\n",
      "Score prédit: 16.305604342547653\n",
      "\n",
      "Joueur: Harry Wilson\n",
      "Poste: MID\n",
      "Équipe: Fulham\n",
      "Prix: 53 k£\n",
      "Score prédit: 16.221667231488183\n",
      "\n",
      "Joueur: Timo Werner\n",
      "Poste: FWD\n",
      "Équipe: Spurs\n",
      "Prix: 63 k£\n",
      "Score prédit: 15.942504463894986\n",
      "\n",
      "Joueur: Martin Ødegaard\n",
      "Poste: MID\n",
      "Équipe: Arsenal\n",
      "Prix: 85 k£\n",
      "Score prédit: 15.890662428901994\n",
      "\n",
      "Joueur: Edson Álvarez Velázquez\n",
      "Poste: MID\n",
      "Équipe: West Ham\n",
      "Prix: 50 k£\n",
      "Score prédit: 15.73184482872646\n",
      "\n",
      "Joueur: Ollie Watkins\n",
      "Poste: FWD\n",
      "Équipe: Aston Villa\n",
      "Prix: 89 k£\n",
      "Score prédit: 15.271087737945109\n",
      "\n",
      "Joueur: Mads Roerslev Rasmussen\n",
      "Poste: DEF\n",
      "Équipe: Brentford\n",
      "Prix: 44 k£\n",
      "Score prédit: 14.026874342855244\n",
      "\n",
      "Joueur: Benjamin White\n",
      "Poste: DEF\n",
      "Équipe: Arsenal\n",
      "Prix: 56 k£\n",
      "Score prédit: 12.656241324713791\n",
      "\n",
      "Joueur: Cristian Romero\n",
      "Poste: DEF\n",
      "Équipe: Spurs\n",
      "Prix: 49 k£\n",
      "Score prédit: 11.461738925893238\n",
      "\n",
      "Joueur: Axel Disasi\n",
      "Poste: DEF\n",
      "Équipe: Chelsea\n",
      "Prix: 49 k£\n",
      "Score prédit: 11.447518012425016\n",
      "\n",
      "Joueur: Fabian Schär\n",
      "Poste: DEF\n",
      "Équipe: Newcastle\n",
      "Prix: 54 k£\n",
      "Score prédit: 10.76548614686531\n",
      "\n",
      "Joueur: Alphonse Areola\n",
      "Poste: GK\n",
      "Équipe: West Ham\n",
      "Prix: 42 k£\n",
      "Score prédit: 9.913099371946307\n",
      "\n",
      "Joueur: Caoimhin Kelleher\n",
      "Poste: GK\n",
      "Équipe: Liverpool\n",
      "Prix: 37 k£\n",
      "Score prédit: 8.669551933556857\n"
     ]
    }
   ],
   "source": [
    "\n",
    "# Affichage de la composition de l'équipe recommandée\n",
    "print(\"Composition de l'équipe recommandée:\")\n",
    "for player in team:\n",
    "    print(\"Joueur:\", player['name'])\n",
    "    print(\"Poste:\", player['position'])\n",
    "    print(\"Équipe:\", player['team'])\n",
    "    print(\"Prix:\", player['cost'], 'k£')\n",
    "    print(\"Score prédit:\", player['predicted_performance'])\n",
    "    print()"
   ]
  },
  {
   "cell_type": "code",
   "execution_count": 163,
   "metadata": {
    "id": "02K4rfzUBsJM",
    "ExecuteTime": {
     "end_time": "2024-03-13T16:32:05.319218Z",
     "start_time": "2024-03-13T16:32:05.191631Z"
    }
   },
   "outputs": [
    {
     "name": "stdout",
     "output_type": "stream",
     "text": [
      "Performances prédites (total_points) pour le joueur:  Erling Haaland 6.480142567968518\n",
      "Nom du joueur: Erling Haaland\n",
      "Prix actuel: 145\n",
      "Total de points actuel: 6\n",
      "Poste: FWD\n"
     ]
    }
   ],
   "source": [
    "print('Performances prédites (total_points) pour le joueur:  Erling Haaland 6.480142567968518')\n",
    "print('Nom du joueur: Erling Haaland')\n",
    "print('Prix actuel: 145')\n",
    "print('Total de points actuel: 6')\n",
    "print('Poste: FWD')"
   ]
  },
  {
   "cell_type": "code",
   "execution_count": 167,
   "outputs": [],
   "source": [
    "def get_top_players_by_position(team_data, position):\n",
    "    # Filtrer les données pour la position spécifiée\n",
    "    position_data = team_data[team_data['position'] == position]\n",
    "    \n",
    "    # Trier les données en fonction de la valeur prédite dans l'ordre décroissant\n",
    "    sorted_position_data = position_data.sort_values(by='predicted_performance', ascending=False)\n",
    "    \n",
    "    # Sélectionner les trois premiers joueurs\n",
    "    top_players = sorted_position_data.head(3)\n",
    "    \n",
    "    return top_players\n"
   ],
   "metadata": {
    "collapsed": false,
    "ExecuteTime": {
     "end_time": "2024-03-14T11:20:12.052452Z",
     "start_time": "2024-03-14T11:20:11.960998Z"
    }
   }
  },
  {
   "cell_type": "code",
   "execution_count": 168,
   "outputs": [
    {
     "name": "stdout",
     "output_type": "stream",
     "text": [
      "Les trois meilleurs défenseurs :\n",
      "                         name position       team   xP  assists  bonus  bps  \\\n",
      "428  Mads Roerslev Rasmussen      DEF  Brentford  4.0        0      3   28   \n",
      "77            Benjamin White      DEF    Arsenal  9.0        0      1   35   \n",
      "684          Cristian Romero      DEF      Spurs  4.8        0      2   29   \n",
      "\n",
      "     clean_sheets  creativity  element  ...  team_h_score  threat  \\\n",
      "428             0        52.3      114  ...             2    35.0   \n",
      "77              1         6.5       29  ...             0    21.0   \n",
      "684             0         4.3      511  ...             3    34.0   \n",
      "\n",
      "     total_points  transfers_balance  transfers_in  transfers_out  now_cost  \\\n",
      "428            10                -44           431            475        44   \n",
      "77             13              10583         31777          21194        56   \n",
      "684            10              41724         52745          11021        49   \n",
      "\n",
      "     was_home  yellow_cards predicted_performance  \n",
      "428      True             0             14.026874  \n",
      "77      False             0             12.656241  \n",
      "684      True             0             11.461739  \n",
      "\n",
      "[3 rows x 41 columns]\n",
      "Les trois meilleurs attaquants :\n",
      "                        name position         team    xP  assists  bonus  bps  \\\n",
      "507  Rodrigo Muniz Carvalho      FWD       Fulham   8.5        1      2   35   \n",
      "385             Timo Werner      FWD        Spurs   4.5        0      3   39   \n",
      "117           Ollie Watkins      FWD  Aston Villa  10.2        0      3   47   \n",
      "\n",
      "     clean_sheets  creativity  element  ...  team_h_score  threat  \\\n",
      "507             1        20.3      279  ...             3    25.0   \n",
      "385             0        32.6      776  ...             3    60.0   \n",
      "117             0         3.3       60  ...             2    96.0   \n",
      "\n",
      "     total_points  transfers_balance  transfers_in  transfers_out  now_cost  \\\n",
      "507            11              71253         85372          14119        45   \n",
      "385             9               7991         14589           6598        63   \n",
      "117            13             275132        305447          30315        89   \n",
      "\n",
      "     was_home  yellow_cards predicted_performance  \n",
      "507      True             0             16.305604  \n",
      "385      True             0             15.942504  \n",
      "117     False             0             15.271088  \n",
      "\n",
      "[3 rows x 41 columns]\n",
      "Les trois meilleurs gardiens de but :\n",
      "                   name position       team   xP  assists  bonus  bps  \\\n",
      "419    Alphonse Areola       GK   West Ham  4.5        0      3   45   \n",
      "501  Caoimhin Kelleher       GK  Liverpool  4.7        0      3   29   \n",
      "447         Bernd Leno       GK     Fulham  3.8        0      1   33   \n",
      "\n",
      "     clean_sheets  creativity  element  ...  team_h_score  threat  \\\n",
      "419             0         0.0      524  ...             1     0.0   \n",
      "501             1         0.0      301  ...             0     0.0   \n",
      "447             1         0.0      275  ...             3     0.0   \n",
      "\n",
      "     total_points  transfers_balance  transfers_in  transfers_out  now_cost  \\\n",
      "419            13              -2039         42023          44062        42   \n",
      "501             9              98604        107025           8421        37   \n",
      "447             8             -12876         18313          31189        48   \n",
      "\n",
      "     was_home  yellow_cards predicted_performance  \n",
      "419     False             0              9.913099  \n",
      "501     False             0              8.669552  \n",
      "447      True             0              8.134296  \n",
      "\n",
      "[3 rows x 41 columns]\n",
      "Les trois meilleurs milieux de terrain :\n",
      "              name position      team    xP  assists  bonus  bps  clean_sheets  \\\n",
      "349   Kai Havertz      MID   Arsenal  12.3        1      3   41             1   \n",
      "110    Phil Foden      MID  Man City   7.8        0      3   54             0   \n",
      "74   Harry Wilson      MID    Fulham   4.0        1      3   41             1   \n",
      "\n",
      "     creativity  element  ...  team_h_score  threat  total_points  \\\n",
      "349        48.8        6  ...             0    50.0            14   \n",
      "110        46.3      353  ...             3   101.0            15   \n",
      "74         26.2      288  ...             3    37.0            14   \n",
      "\n",
      "     transfers_balance  transfers_in  transfers_out  now_cost  was_home  \\\n",
      "349              59959         63773           3814        71     False   \n",
      "110              42422        161609         119187        81      True   \n",
      "74                 -69           308            377        53      True   \n",
      "\n",
      "     yellow_cards predicted_performance  \n",
      "349             0             19.310515  \n",
      "110             0             19.248852  \n",
      "74              0             16.221667  \n",
      "\n",
      "[3 rows x 41 columns]\n"
     ]
    }
   ],
   "source": [
    "# Obtenez les trois meilleurs joueurs pour la position DEF\n",
    "top_defenders = get_top_players_by_position(team_data, 'DEF')\n",
    "print(\"Les trois meilleurs défenseurs :\\n\", top_defenders)\n",
    "\n",
    "# Obtenez les trois meilleurs joueurs pour la position FWD\n",
    "top_forwards = get_top_players_by_position(team_data, 'FWD')\n",
    "print(\"Les trois meilleurs attaquants :\\n\", top_forwards)\n",
    "\n",
    "# Obtenez les trois meilleurs joueurs pour la position GK\n",
    "top_goalkeepers = get_top_players_by_position(team_data, 'GK')\n",
    "print(\"Les trois meilleurs gardiens de but :\\n\", top_goalkeepers)\n",
    "\n",
    "# Obtenez les trois meilleurs joueurs pour la position MID\n",
    "top_midfielders = get_top_players_by_position(team_data, 'MID')\n",
    "print(\"Les trois meilleurs milieux de terrain :\\n\", top_midfielders)\n"
   ],
   "metadata": {
    "collapsed": false,
    "ExecuteTime": {
     "end_time": "2024-03-14T11:20:18.330626Z",
     "start_time": "2024-03-14T11:20:18.033044Z"
    }
   }
  },
  {
   "cell_type": "code",
   "execution_count": null,
   "outputs": [],
   "source": [],
   "metadata": {
    "collapsed": false
   }
  }
 ],
 "metadata": {
  "colab": {
   "provenance": []
  },
  "kernelspec": {
   "name": "python3",
   "language": "python",
   "display_name": "Python 3 (ipykernel)"
  },
  "language_info": {
   "name": "python"
  }
 },
 "nbformat": 4,
 "nbformat_minor": 0
}
