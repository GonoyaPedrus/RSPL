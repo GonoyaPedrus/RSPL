{
 "cells": [
  {
   "cell_type": "code",
   "execution_count": 17,
   "metadata": {
    "id": "9lDk2lSK7tmm",
    "colab": {
     "base_uri": "https://localhost:8080/"
    },
    "outputId": "2b19280f-5bd0-4bbf-eb4d-345631507a3d",
    "ExecuteTime": {
     "end_time": "2024-03-12T11:28:20.382737Z",
     "start_time": "2024-03-12T11:28:17.330793Z"
    }
   },
   "outputs": [],
   "source": [
    "import pandas as pd\n",
    "from sklearn.model_selection import GridSearchCV\n",
    "from sklearn.model_selection import train_test_split\n",
    "from sklearn.preprocessing import StandardScaler\n",
    "from sklearn.linear_model import LinearRegression\n",
    "from sklearn.model_selection import cross_val_score\n",
    "from sklearn.experimental import enable_hist_gradient_boosting  # noqa\n",
    "from sklearn.ensemble import HistGradientBoostingRegressor\n",
    "from sklearn.metrics import mean_squared_error, r2_score, mean_absolute_error\n",
    "from sklearn.metrics import mean_squared_error, mean_absolute_error\n",
    "\n",
    "\n",
    "import matplotlib.pyplot as plt\n",
    "import numpy as np\n",
    "import random\n",
    "import glob"
   ]
  },
  {
   "cell_type": "code",
   "execution_count": 18,
   "metadata": {
    "colab": {
     "base_uri": "https://localhost:8080/"
    },
    "id": "ya-ozkwHyZjw",
    "outputId": "12fcf106-de1b-43fb-d77f-4c78526a010a",
    "ExecuteTime": {
     "end_time": "2024-03-12T11:28:26.196331Z",
     "start_time": "2024-03-12T11:28:17.364386Z"
    }
   },
   "outputs": [
    {
     "name": "stdout",
     "output_type": "stream",
     "text": [
      "Lecture réussie avec l'encodage utf-8.\n",
      "Lecture réussie avec l'encodage utf-8.\n",
      "Lecture réussie avec l'encodage utf-8.\n",
      "Lecture réussie avec l'encodage utf-8.\n",
      "Échec de la lecture avec l'encodage utf-8. Essayer un autre encodage.\n",
      "Lecture réussie avec l'encodage ISO-8859-1.\n",
      "Lecture réussie avec l'encodage utf-8.\n",
      "Lecture réussie avec l'encodage utf-8.\n",
      "Lecture réussie avec l'encodage utf-8.\n",
      "<class 'pandas.core.frame.DataFrame'>\n",
      "RangeIndex: 5606 entries, 0 to 5605\n",
      "Data columns (total 19 columns):\n",
      " #   Column               Non-Null Count  Dtype  \n",
      "---  ------               --------------  -----  \n",
      " 0   goals_scored         5606 non-null   int64  \n",
      " 1   assists              5606 non-null   int64  \n",
      " 2   total_points         5606 non-null   int64  \n",
      " 3   minutes              5606 non-null   int64  \n",
      " 4   goals_conceded       5606 non-null   int64  \n",
      " 5   creativity           5606 non-null   float64\n",
      " 6   influence            5606 non-null   float64\n",
      " 7   threat               5606 non-null   float64\n",
      " 8   bonus                5606 non-null   int64  \n",
      " 9   bps                  5606 non-null   int64  \n",
      " 10  ict_index            5606 non-null   float64\n",
      " 11  clean_sheets         5606 non-null   int64  \n",
      " 12  red_cards            5606 non-null   int64  \n",
      " 13  yellow_cards         5606 non-null   int64  \n",
      " 14  selected_by_percent  5606 non-null   float64\n",
      " 15  now_cost             4923 non-null   float64\n",
      " 16  element_type         2986 non-null   object \n",
      " 17  source               5606 non-null   object \n",
      " 18  name                 5606 non-null   object \n",
      "dtypes: float64(6), int64(10), object(3)\n",
      "memory usage: 832.3+ KB\n",
      "None\n"
     ]
    }
   ],
   "source": [
    "# Chemin vers les fichiers CSV\n",
    "chemin = '/Users/melusinecaillard/Desktop/players/*.csv'\n",
    "\n",
    "# Liste des noms de fichiers\n",
    "fichiers = glob.glob(chemin)\n",
    "\n",
    "# Initialisation d'une liste pour stocker les DataFrames de chaque fichier\n",
    "dfs = []\n",
    "# Liste des encodages à essayer\n",
    "encodings_to_try = [ 'utf-8','ISO-8859-1']\n",
    "\n",
    "# Charger et concaténer les fichiers\n",
    "for fichier in fichiers:\n",
    "    df = None\n",
    "    # Essayer différents encodages jusqu'à ce que la lecture réussisse\n",
    "    for encoding in encodings_to_try:\n",
    "        try:\n",
    "            df = pd.read_csv(fichier, encoding=encoding)\n",
    "            print(f\"Lecture réussie avec l'encodage {encoding}.\")\n",
    "            break  # Sortir de la boucle si la lecture réussit avec un encodage\n",
    "        except UnicodeDecodeError:\n",
    "            print(f\"Échec de la lecture avec l'encodage {encoding}. Essayer un autre encodage.\")\n",
    "\n",
    "    if df is not None:\n",
    "        # Ajouter une colonne 'source' pour identifier la provenance de chaque fichier\n",
    "        nom_fichier = fichier.split('/')[-1]\n",
    "        saison = nom_fichier.split('.')[0].split('-')\n",
    "        df['source'] = f\"{saison[0]}-{saison[1]}\"\n",
    "        # Concaténer 'first_name' et 'second_name' en une seule colonne 'name'\n",
    "        df['name'] = df['first_name'] + ' ' + df['second_name']\n",
    "        # Supprimer les colonnes 'first_name' et 'second_name'\n",
    "        df = df.drop(columns=['first_name', 'second_name'])\n",
    "        # Ajouter le DataFrame à la liste\n",
    "        dfs.append(df)\n",
    "    else:\n",
    "        print(\"Échec de la lecture du fichier:\", fichier)\n",
    "\n",
    "\n",
    "# Concaténer tous les DataFrames en un seul\n",
    "data = pd.concat(dfs, ignore_index=True)\n",
    "\n",
    "\n",
    "\n",
    "# Maintenant vous pouvez faire du traitement de données sur le DataFrame 'data'\n",
    "# Par exemple, afficher les premières lignes\n",
    "print(data.info())\n"
   ]
  },
  {
   "cell_type": "code",
   "execution_count": 19,
   "metadata": {
    "id": "Lhaz1aMB8bns",
    "ExecuteTime": {
     "end_time": "2024-03-12T11:28:26.277438Z",
     "start_time": "2024-03-12T11:28:17.775883Z"
    }
   },
   "outputs": [],
   "source": [
    "# Ingénierie des caractéristiques\n",
    "selected_features = ['goals_scored','assists','goals_conceded','creativity','influence','threat','bonus','clean_sheets','red_cards','yellow_cards','now_cost']\n",
    "X = data[selected_features]\n",
    "y = data['total_points']"
   ]
  },
  {
   "cell_type": "code",
   "execution_count": 20,
   "metadata": {
    "id": "rzqCFCb3-az1",
    "ExecuteTime": {
     "end_time": "2024-03-12T11:28:26.281125Z",
     "start_time": "2024-03-12T11:28:17.874409Z"
    }
   },
   "outputs": [],
   "source": [
    "# Division des données en ensembles d'entraînement et de test\n",
    "X_train, X_test, y_train, y_test = train_test_split(X, y, test_size=0.2, random_state=42)"
   ]
  },
  {
   "cell_type": "code",
   "execution_count": 21,
   "metadata": {
    "id": "Nigvh0aE-d49",
    "ExecuteTime": {
     "end_time": "2024-03-12T11:28:26.373421Z",
     "start_time": "2024-03-12T11:28:17.976909Z"
    }
   },
   "outputs": [],
   "source": [
    "# Sélectionner uniquement les colonnes numériques\n",
    "numeric_columns = X_train.select_dtypes(include=['number']).columns"
   ]
  },
  {
   "cell_type": "code",
   "execution_count": 22,
   "metadata": {
    "colab": {
     "base_uri": "https://localhost:8080/"
    },
    "id": "E7sC2ek8Asvy",
    "outputId": "aaf0c416-61e8-4884-fc09-7d4d62ec2c63",
    "ExecuteTime": {
     "end_time": "2024-03-12T11:28:26.397556Z",
     "start_time": "2024-03-12T11:28:18.053425Z"
    }
   },
   "outputs": [
    {
     "name": "stdout",
     "output_type": "stream",
     "text": [
      "Valeurs manquantes dans y_train: 0\n",
      "Valeurs manquantes dans y_test: 0\n"
     ]
    }
   ],
   "source": [
    "# Vérification des valeurs manquantes dans les données d'entraînement\n",
    "print(\"Valeurs manquantes dans y_train:\", np.isnan(y_train).sum())\n",
    "\n",
    "# Vérification des valeurs manquantes dans les données de test\n",
    "print(\"Valeurs manquantes dans y_test:\", np.isnan(y_test).sum())\n"
   ]
  },
  {
   "cell_type": "code",
   "execution_count": 23,
   "metadata": {
    "id": "qX75IG1RF8YX",
    "ExecuteTime": {
     "end_time": "2024-03-12T11:28:26.472034Z",
     "start_time": "2024-03-12T11:28:18.109556Z"
    }
   },
   "outputs": [],
   "source": [
    "# Définir les hyperparamètres à optimiser\n",
    "param_grid = {\n",
    "    'learning_rate': [0.01, 0.1, 0.2],\n",
    "    'max_iter': [100, 200, 300],\n",
    "    'max_depth': [3, 5, 7],\n",
    "    'min_samples_leaf': [1, 2, 4],\n",
    "    'l2_regularization': [0.0, 0.1, 0.2]\n",
    "}\n"
   ]
  },
  {
   "cell_type": "code",
   "execution_count": 24,
   "metadata": {
    "id": "n-gjKsF1-dwq",
    "ExecuteTime": {
     "end_time": "2024-03-12T11:28:26.473037Z",
     "start_time": "2024-03-12T11:28:18.167571Z"
    }
   },
   "outputs": [],
   "source": [
    "# Create the HistGradientBoostingRegressor model\n",
    "model = HistGradientBoostingRegressor()"
   ]
  },
  {
   "cell_type": "code",
   "execution_count": 25,
   "metadata": {
    "colab": {
     "base_uri": "https://localhost:8080/",
     "height": 75
    },
    "id": "KDlgQNGIB-jO",
    "outputId": "cde79a51-575d-4990-bd1d-e6a5f7dad825",
    "ExecuteTime": {
     "end_time": "2024-03-12T11:28:27.410667Z",
     "start_time": "2024-03-12T11:28:18.229086Z"
    }
   },
   "outputs": [
    {
     "data": {
      "text/plain": "HistGradientBoostingRegressor()",
      "text/html": "<style>#sk-container-id-2 {\n  /* Definition of color scheme common for light and dark mode */\n  --sklearn-color-text: black;\n  --sklearn-color-line: gray;\n  /* Definition of color scheme for unfitted estimators */\n  --sklearn-color-unfitted-level-0: #fff5e6;\n  --sklearn-color-unfitted-level-1: #f6e4d2;\n  --sklearn-color-unfitted-level-2: #ffe0b3;\n  --sklearn-color-unfitted-level-3: chocolate;\n  /* Definition of color scheme for fitted estimators */\n  --sklearn-color-fitted-level-0: #f0f8ff;\n  --sklearn-color-fitted-level-1: #d4ebff;\n  --sklearn-color-fitted-level-2: #b3dbfd;\n  --sklearn-color-fitted-level-3: cornflowerblue;\n\n  /* Specific color for light theme */\n  --sklearn-color-text-on-default-background: var(--sg-text-color, var(--theme-code-foreground, var(--jp-content-font-color1, black)));\n  --sklearn-color-background: var(--sg-background-color, var(--theme-background, var(--jp-layout-color0, white)));\n  --sklearn-color-border-box: var(--sg-text-color, var(--theme-code-foreground, var(--jp-content-font-color1, black)));\n  --sklearn-color-icon: #696969;\n\n  @media (prefers-color-scheme: dark) {\n    /* Redefinition of color scheme for dark theme */\n    --sklearn-color-text-on-default-background: var(--sg-text-color, var(--theme-code-foreground, var(--jp-content-font-color1, white)));\n    --sklearn-color-background: var(--sg-background-color, var(--theme-background, var(--jp-layout-color0, #111)));\n    --sklearn-color-border-box: var(--sg-text-color, var(--theme-code-foreground, var(--jp-content-font-color1, white)));\n    --sklearn-color-icon: #878787;\n  }\n}\n\n#sk-container-id-2 {\n  color: var(--sklearn-color-text);\n}\n\n#sk-container-id-2 pre {\n  padding: 0;\n}\n\n#sk-container-id-2 input.sk-hidden--visually {\n  border: 0;\n  clip: rect(1px 1px 1px 1px);\n  clip: rect(1px, 1px, 1px, 1px);\n  height: 1px;\n  margin: -1px;\n  overflow: hidden;\n  padding: 0;\n  position: absolute;\n  width: 1px;\n}\n\n#sk-container-id-2 div.sk-dashed-wrapped {\n  border: 1px dashed var(--sklearn-color-line);\n  margin: 0 0.4em 0.5em 0.4em;\n  box-sizing: border-box;\n  padding-bottom: 0.4em;\n  background-color: var(--sklearn-color-background);\n}\n\n#sk-container-id-2 div.sk-container {\n  /* jupyter's `normalize.less` sets `[hidden] { display: none; }`\n     but bootstrap.min.css set `[hidden] { display: none !important; }`\n     so we also need the `!important` here to be able to override the\n     default hidden behavior on the sphinx rendered scikit-learn.org.\n     See: https://github.com/scikit-learn/scikit-learn/issues/21755 */\n  display: inline-block !important;\n  position: relative;\n}\n\n#sk-container-id-2 div.sk-text-repr-fallback {\n  display: none;\n}\n\ndiv.sk-parallel-item,\ndiv.sk-serial,\ndiv.sk-item {\n  /* draw centered vertical line to link estimators */\n  background-image: linear-gradient(var(--sklearn-color-text-on-default-background), var(--sklearn-color-text-on-default-background));\n  background-size: 2px 100%;\n  background-repeat: no-repeat;\n  background-position: center center;\n}\n\n/* Parallel-specific style estimator block */\n\n#sk-container-id-2 div.sk-parallel-item::after {\n  content: \"\";\n  width: 100%;\n  border-bottom: 2px solid var(--sklearn-color-text-on-default-background);\n  flex-grow: 1;\n}\n\n#sk-container-id-2 div.sk-parallel {\n  display: flex;\n  align-items: stretch;\n  justify-content: center;\n  background-color: var(--sklearn-color-background);\n  position: relative;\n}\n\n#sk-container-id-2 div.sk-parallel-item {\n  display: flex;\n  flex-direction: column;\n}\n\n#sk-container-id-2 div.sk-parallel-item:first-child::after {\n  align-self: flex-end;\n  width: 50%;\n}\n\n#sk-container-id-2 div.sk-parallel-item:last-child::after {\n  align-self: flex-start;\n  width: 50%;\n}\n\n#sk-container-id-2 div.sk-parallel-item:only-child::after {\n  width: 0;\n}\n\n/* Serial-specific style estimator block */\n\n#sk-container-id-2 div.sk-serial {\n  display: flex;\n  flex-direction: column;\n  align-items: center;\n  background-color: var(--sklearn-color-background);\n  padding-right: 1em;\n  padding-left: 1em;\n}\n\n\n/* Toggleable style: style used for estimator/Pipeline/ColumnTransformer box that is\nclickable and can be expanded/collapsed.\n- Pipeline and ColumnTransformer use this feature and define the default style\n- Estimators will overwrite some part of the style using the `sk-estimator` class\n*/\n\n/* Pipeline and ColumnTransformer style (default) */\n\n#sk-container-id-2 div.sk-toggleable {\n  /* Default theme specific background. It is overwritten whether we have a\n  specific estimator or a Pipeline/ColumnTransformer */\n  background-color: var(--sklearn-color-background);\n}\n\n/* Toggleable label */\n#sk-container-id-2 label.sk-toggleable__label {\n  cursor: pointer;\n  display: block;\n  width: 100%;\n  margin-bottom: 0;\n  padding: 0.5em;\n  box-sizing: border-box;\n  text-align: center;\n}\n\n#sk-container-id-2 label.sk-toggleable__label-arrow:before {\n  /* Arrow on the left of the label */\n  content: \"▸\";\n  float: left;\n  margin-right: 0.25em;\n  color: var(--sklearn-color-icon);\n}\n\n#sk-container-id-2 label.sk-toggleable__label-arrow:hover:before {\n  color: var(--sklearn-color-text);\n}\n\n/* Toggleable content - dropdown */\n\n#sk-container-id-2 div.sk-toggleable__content {\n  max-height: 0;\n  max-width: 0;\n  overflow: hidden;\n  text-align: left;\n  /* unfitted */\n  background-color: var(--sklearn-color-unfitted-level-0);\n}\n\n#sk-container-id-2 div.sk-toggleable__content.fitted {\n  /* fitted */\n  background-color: var(--sklearn-color-fitted-level-0);\n}\n\n#sk-container-id-2 div.sk-toggleable__content pre {\n  margin: 0.2em;\n  border-radius: 0.25em;\n  color: var(--sklearn-color-text);\n  /* unfitted */\n  background-color: var(--sklearn-color-unfitted-level-0);\n}\n\n#sk-container-id-2 div.sk-toggleable__content.fitted pre {\n  /* unfitted */\n  background-color: var(--sklearn-color-fitted-level-0);\n}\n\n#sk-container-id-2 input.sk-toggleable__control:checked~div.sk-toggleable__content {\n  /* Expand drop-down */\n  max-height: 200px;\n  max-width: 100%;\n  overflow: auto;\n}\n\n#sk-container-id-2 input.sk-toggleable__control:checked~label.sk-toggleable__label-arrow:before {\n  content: \"▾\";\n}\n\n/* Pipeline/ColumnTransformer-specific style */\n\n#sk-container-id-2 div.sk-label input.sk-toggleable__control:checked~label.sk-toggleable__label {\n  color: var(--sklearn-color-text);\n  background-color: var(--sklearn-color-unfitted-level-2);\n}\n\n#sk-container-id-2 div.sk-label.fitted input.sk-toggleable__control:checked~label.sk-toggleable__label {\n  background-color: var(--sklearn-color-fitted-level-2);\n}\n\n/* Estimator-specific style */\n\n/* Colorize estimator box */\n#sk-container-id-2 div.sk-estimator input.sk-toggleable__control:checked~label.sk-toggleable__label {\n  /* unfitted */\n  background-color: var(--sklearn-color-unfitted-level-2);\n}\n\n#sk-container-id-2 div.sk-estimator.fitted input.sk-toggleable__control:checked~label.sk-toggleable__label {\n  /* fitted */\n  background-color: var(--sklearn-color-fitted-level-2);\n}\n\n#sk-container-id-2 div.sk-label label.sk-toggleable__label,\n#sk-container-id-2 div.sk-label label {\n  /* The background is the default theme color */\n  color: var(--sklearn-color-text-on-default-background);\n}\n\n/* On hover, darken the color of the background */\n#sk-container-id-2 div.sk-label:hover label.sk-toggleable__label {\n  color: var(--sklearn-color-text);\n  background-color: var(--sklearn-color-unfitted-level-2);\n}\n\n/* Label box, darken color on hover, fitted */\n#sk-container-id-2 div.sk-label.fitted:hover label.sk-toggleable__label.fitted {\n  color: var(--sklearn-color-text);\n  background-color: var(--sklearn-color-fitted-level-2);\n}\n\n/* Estimator label */\n\n#sk-container-id-2 div.sk-label label {\n  font-family: monospace;\n  font-weight: bold;\n  display: inline-block;\n  line-height: 1.2em;\n}\n\n#sk-container-id-2 div.sk-label-container {\n  text-align: center;\n}\n\n/* Estimator-specific */\n#sk-container-id-2 div.sk-estimator {\n  font-family: monospace;\n  border: 1px dotted var(--sklearn-color-border-box);\n  border-radius: 0.25em;\n  box-sizing: border-box;\n  margin-bottom: 0.5em;\n  /* unfitted */\n  background-color: var(--sklearn-color-unfitted-level-0);\n}\n\n#sk-container-id-2 div.sk-estimator.fitted {\n  /* fitted */\n  background-color: var(--sklearn-color-fitted-level-0);\n}\n\n/* on hover */\n#sk-container-id-2 div.sk-estimator:hover {\n  /* unfitted */\n  background-color: var(--sklearn-color-unfitted-level-2);\n}\n\n#sk-container-id-2 div.sk-estimator.fitted:hover {\n  /* fitted */\n  background-color: var(--sklearn-color-fitted-level-2);\n}\n\n/* Specification for estimator info (e.g. \"i\" and \"?\") */\n\n/* Common style for \"i\" and \"?\" */\n\n.sk-estimator-doc-link,\na:link.sk-estimator-doc-link,\na:visited.sk-estimator-doc-link {\n  float: right;\n  font-size: smaller;\n  line-height: 1em;\n  font-family: monospace;\n  background-color: var(--sklearn-color-background);\n  border-radius: 1em;\n  height: 1em;\n  width: 1em;\n  text-decoration: none !important;\n  margin-left: 1ex;\n  /* unfitted */\n  border: var(--sklearn-color-unfitted-level-1) 1pt solid;\n  color: var(--sklearn-color-unfitted-level-1);\n}\n\n.sk-estimator-doc-link.fitted,\na:link.sk-estimator-doc-link.fitted,\na:visited.sk-estimator-doc-link.fitted {\n  /* fitted */\n  border: var(--sklearn-color-fitted-level-1) 1pt solid;\n  color: var(--sklearn-color-fitted-level-1);\n}\n\n/* On hover */\ndiv.sk-estimator:hover .sk-estimator-doc-link:hover,\n.sk-estimator-doc-link:hover,\ndiv.sk-label-container:hover .sk-estimator-doc-link:hover,\n.sk-estimator-doc-link:hover {\n  /* unfitted */\n  background-color: var(--sklearn-color-unfitted-level-3);\n  color: var(--sklearn-color-background);\n  text-decoration: none;\n}\n\ndiv.sk-estimator.fitted:hover .sk-estimator-doc-link.fitted:hover,\n.sk-estimator-doc-link.fitted:hover,\ndiv.sk-label-container:hover .sk-estimator-doc-link.fitted:hover,\n.sk-estimator-doc-link.fitted:hover {\n  /* fitted */\n  background-color: var(--sklearn-color-fitted-level-3);\n  color: var(--sklearn-color-background);\n  text-decoration: none;\n}\n\n/* Span, style for the box shown on hovering the info icon */\n.sk-estimator-doc-link span {\n  display: none;\n  z-index: 9999;\n  position: relative;\n  font-weight: normal;\n  right: .2ex;\n  padding: .5ex;\n  margin: .5ex;\n  width: min-content;\n  min-width: 20ex;\n  max-width: 50ex;\n  color: var(--sklearn-color-text);\n  box-shadow: 2pt 2pt 4pt #999;\n  /* unfitted */\n  background: var(--sklearn-color-unfitted-level-0);\n  border: .5pt solid var(--sklearn-color-unfitted-level-3);\n}\n\n.sk-estimator-doc-link.fitted span {\n  /* fitted */\n  background: var(--sklearn-color-fitted-level-0);\n  border: var(--sklearn-color-fitted-level-3);\n}\n\n.sk-estimator-doc-link:hover span {\n  display: block;\n}\n\n/* \"?\"-specific style due to the `<a>` HTML tag */\n\n#sk-container-id-2 a.estimator_doc_link {\n  float: right;\n  font-size: 1rem;\n  line-height: 1em;\n  font-family: monospace;\n  background-color: var(--sklearn-color-background);\n  border-radius: 1rem;\n  height: 1rem;\n  width: 1rem;\n  text-decoration: none;\n  /* unfitted */\n  color: var(--sklearn-color-unfitted-level-1);\n  border: var(--sklearn-color-unfitted-level-1) 1pt solid;\n}\n\n#sk-container-id-2 a.estimator_doc_link.fitted {\n  /* fitted */\n  border: var(--sklearn-color-fitted-level-1) 1pt solid;\n  color: var(--sklearn-color-fitted-level-1);\n}\n\n/* On hover */\n#sk-container-id-2 a.estimator_doc_link:hover {\n  /* unfitted */\n  background-color: var(--sklearn-color-unfitted-level-3);\n  color: var(--sklearn-color-background);\n  text-decoration: none;\n}\n\n#sk-container-id-2 a.estimator_doc_link.fitted:hover {\n  /* fitted */\n  background-color: var(--sklearn-color-fitted-level-3);\n}\n</style><div id=\"sk-container-id-2\" class=\"sk-top-container\"><div class=\"sk-text-repr-fallback\"><pre>HistGradientBoostingRegressor()</pre><b>In a Jupyter environment, please rerun this cell to show the HTML representation or trust the notebook. <br />On GitHub, the HTML representation is unable to render, please try loading this page with nbviewer.org.</b></div><div class=\"sk-container\" hidden><div class=\"sk-item\"><div class=\"sk-estimator fitted sk-toggleable\"><input class=\"sk-toggleable__control sk-hidden--visually\" id=\"sk-estimator-id-2\" type=\"checkbox\" checked><label for=\"sk-estimator-id-2\" class=\"sk-toggleable__label fitted sk-toggleable__label-arrow fitted\">&nbsp;&nbsp;HistGradientBoostingRegressor<a class=\"sk-estimator-doc-link fitted\" rel=\"noreferrer\" target=\"_blank\" href=\"https://scikit-learn.org/1.4/modules/generated/sklearn.ensemble.HistGradientBoostingRegressor.html\">?<span>Documentation for HistGradientBoostingRegressor</span></a><span class=\"sk-estimator-doc-link fitted\">i<span>Fitted</span></span></label><div class=\"sk-toggleable__content fitted\"><pre>HistGradientBoostingRegressor()</pre></div> </div></div></div></div>"
     },
     "execution_count": 25,
     "metadata": {},
     "output_type": "execute_result"
    }
   ],
   "source": [
    "# Train the model\n",
    "model.fit(X_train, y_train)\n"
   ]
  },
  {
   "cell_type": "code",
   "execution_count": 26,
   "metadata": {
    "id": "GtYDYvQN-diS",
    "ExecuteTime": {
     "end_time": "2024-03-12T11:28:27.514365Z",
     "start_time": "2024-03-12T11:28:23.900006Z"
    }
   },
   "outputs": [],
   "source": [
    "# Predict on the test set\n",
    "y_pred = model.predict(X_test)"
   ]
  },
  {
   "cell_type": "code",
   "execution_count": 27,
   "metadata": {
    "id": "1ist4q3_GCGh",
    "ExecuteTime": {
     "end_time": "2024-03-12T11:28:27.515244Z",
     "start_time": "2024-03-12T11:28:24.270192Z"
    }
   },
   "outputs": [],
   "source": [
    "# Créer l'objet GridSearchCV\n",
    "grid_search = GridSearchCV(estimator=model, param_grid=param_grid, cv=5, scoring='neg_mean_squared_error', n_jobs=-1)\n"
   ]
  },
  {
   "cell_type": "markdown",
   "metadata": {
    "id": "DEiebdcqpouJ"
   },
   "source": [
    "Evaluation des performances du modèle"
   ]
  },
  {
   "cell_type": "code",
   "execution_count": 28,
   "metadata": {
    "id": "D7OABscDEi4N",
    "ExecuteTime": {
     "end_time": "2024-03-12T11:28:58.783724Z",
     "start_time": "2024-03-12T11:28:24.324132Z"
    }
   },
   "outputs": [],
   "source": [
    "# Effectuer la validation croisée\n",
    "scores = cross_val_score(model, X, y, cv=5, scoring='neg_mean_squared_error')\n"
   ]
  },
  {
   "cell_type": "code",
   "execution_count": 29,
   "metadata": {
    "colab": {
     "base_uri": "https://localhost:8080/",
     "height": 119
    },
    "id": "XP3oZXw4GTdN",
    "outputId": "b3f870ef-e6fa-40a4-ac77-22cc63a41b25",
    "ExecuteTime": {
     "end_time": "2024-03-12T11:44:54.007838Z",
     "start_time": "2024-03-12T11:28:58.777589Z"
    }
   },
   "outputs": [
    {
     "data": {
      "text/plain": "GridSearchCV(cv=5, estimator=HistGradientBoostingRegressor(), n_jobs=-1,\n             param_grid={'l2_regularization': [0.0, 0.1, 0.2],\n                         'learning_rate': [0.01, 0.1, 0.2],\n                         'max_depth': [3, 5, 7], 'max_iter': [100, 200, 300],\n                         'min_samples_leaf': [1, 2, 4]},\n             scoring='neg_mean_squared_error')",
      "text/html": "<style>#sk-container-id-3 {\n  /* Definition of color scheme common for light and dark mode */\n  --sklearn-color-text: black;\n  --sklearn-color-line: gray;\n  /* Definition of color scheme for unfitted estimators */\n  --sklearn-color-unfitted-level-0: #fff5e6;\n  --sklearn-color-unfitted-level-1: #f6e4d2;\n  --sklearn-color-unfitted-level-2: #ffe0b3;\n  --sklearn-color-unfitted-level-3: chocolate;\n  /* Definition of color scheme for fitted estimators */\n  --sklearn-color-fitted-level-0: #f0f8ff;\n  --sklearn-color-fitted-level-1: #d4ebff;\n  --sklearn-color-fitted-level-2: #b3dbfd;\n  --sklearn-color-fitted-level-3: cornflowerblue;\n\n  /* Specific color for light theme */\n  --sklearn-color-text-on-default-background: var(--sg-text-color, var(--theme-code-foreground, var(--jp-content-font-color1, black)));\n  --sklearn-color-background: var(--sg-background-color, var(--theme-background, var(--jp-layout-color0, white)));\n  --sklearn-color-border-box: var(--sg-text-color, var(--theme-code-foreground, var(--jp-content-font-color1, black)));\n  --sklearn-color-icon: #696969;\n\n  @media (prefers-color-scheme: dark) {\n    /* Redefinition of color scheme for dark theme */\n    --sklearn-color-text-on-default-background: var(--sg-text-color, var(--theme-code-foreground, var(--jp-content-font-color1, white)));\n    --sklearn-color-background: var(--sg-background-color, var(--theme-background, var(--jp-layout-color0, #111)));\n    --sklearn-color-border-box: var(--sg-text-color, var(--theme-code-foreground, var(--jp-content-font-color1, white)));\n    --sklearn-color-icon: #878787;\n  }\n}\n\n#sk-container-id-3 {\n  color: var(--sklearn-color-text);\n}\n\n#sk-container-id-3 pre {\n  padding: 0;\n}\n\n#sk-container-id-3 input.sk-hidden--visually {\n  border: 0;\n  clip: rect(1px 1px 1px 1px);\n  clip: rect(1px, 1px, 1px, 1px);\n  height: 1px;\n  margin: -1px;\n  overflow: hidden;\n  padding: 0;\n  position: absolute;\n  width: 1px;\n}\n\n#sk-container-id-3 div.sk-dashed-wrapped {\n  border: 1px dashed var(--sklearn-color-line);\n  margin: 0 0.4em 0.5em 0.4em;\n  box-sizing: border-box;\n  padding-bottom: 0.4em;\n  background-color: var(--sklearn-color-background);\n}\n\n#sk-container-id-3 div.sk-container {\n  /* jupyter's `normalize.less` sets `[hidden] { display: none; }`\n     but bootstrap.min.css set `[hidden] { display: none !important; }`\n     so we also need the `!important` here to be able to override the\n     default hidden behavior on the sphinx rendered scikit-learn.org.\n     See: https://github.com/scikit-learn/scikit-learn/issues/21755 */\n  display: inline-block !important;\n  position: relative;\n}\n\n#sk-container-id-3 div.sk-text-repr-fallback {\n  display: none;\n}\n\ndiv.sk-parallel-item,\ndiv.sk-serial,\ndiv.sk-item {\n  /* draw centered vertical line to link estimators */\n  background-image: linear-gradient(var(--sklearn-color-text-on-default-background), var(--sklearn-color-text-on-default-background));\n  background-size: 2px 100%;\n  background-repeat: no-repeat;\n  background-position: center center;\n}\n\n/* Parallel-specific style estimator block */\n\n#sk-container-id-3 div.sk-parallel-item::after {\n  content: \"\";\n  width: 100%;\n  border-bottom: 2px solid var(--sklearn-color-text-on-default-background);\n  flex-grow: 1;\n}\n\n#sk-container-id-3 div.sk-parallel {\n  display: flex;\n  align-items: stretch;\n  justify-content: center;\n  background-color: var(--sklearn-color-background);\n  position: relative;\n}\n\n#sk-container-id-3 div.sk-parallel-item {\n  display: flex;\n  flex-direction: column;\n}\n\n#sk-container-id-3 div.sk-parallel-item:first-child::after {\n  align-self: flex-end;\n  width: 50%;\n}\n\n#sk-container-id-3 div.sk-parallel-item:last-child::after {\n  align-self: flex-start;\n  width: 50%;\n}\n\n#sk-container-id-3 div.sk-parallel-item:only-child::after {\n  width: 0;\n}\n\n/* Serial-specific style estimator block */\n\n#sk-container-id-3 div.sk-serial {\n  display: flex;\n  flex-direction: column;\n  align-items: center;\n  background-color: var(--sklearn-color-background);\n  padding-right: 1em;\n  padding-left: 1em;\n}\n\n\n/* Toggleable style: style used for estimator/Pipeline/ColumnTransformer box that is\nclickable and can be expanded/collapsed.\n- Pipeline and ColumnTransformer use this feature and define the default style\n- Estimators will overwrite some part of the style using the `sk-estimator` class\n*/\n\n/* Pipeline and ColumnTransformer style (default) */\n\n#sk-container-id-3 div.sk-toggleable {\n  /* Default theme specific background. It is overwritten whether we have a\n  specific estimator or a Pipeline/ColumnTransformer */\n  background-color: var(--sklearn-color-background);\n}\n\n/* Toggleable label */\n#sk-container-id-3 label.sk-toggleable__label {\n  cursor: pointer;\n  display: block;\n  width: 100%;\n  margin-bottom: 0;\n  padding: 0.5em;\n  box-sizing: border-box;\n  text-align: center;\n}\n\n#sk-container-id-3 label.sk-toggleable__label-arrow:before {\n  /* Arrow on the left of the label */\n  content: \"▸\";\n  float: left;\n  margin-right: 0.25em;\n  color: var(--sklearn-color-icon);\n}\n\n#sk-container-id-3 label.sk-toggleable__label-arrow:hover:before {\n  color: var(--sklearn-color-text);\n}\n\n/* Toggleable content - dropdown */\n\n#sk-container-id-3 div.sk-toggleable__content {\n  max-height: 0;\n  max-width: 0;\n  overflow: hidden;\n  text-align: left;\n  /* unfitted */\n  background-color: var(--sklearn-color-unfitted-level-0);\n}\n\n#sk-container-id-3 div.sk-toggleable__content.fitted {\n  /* fitted */\n  background-color: var(--sklearn-color-fitted-level-0);\n}\n\n#sk-container-id-3 div.sk-toggleable__content pre {\n  margin: 0.2em;\n  border-radius: 0.25em;\n  color: var(--sklearn-color-text);\n  /* unfitted */\n  background-color: var(--sklearn-color-unfitted-level-0);\n}\n\n#sk-container-id-3 div.sk-toggleable__content.fitted pre {\n  /* unfitted */\n  background-color: var(--sklearn-color-fitted-level-0);\n}\n\n#sk-container-id-3 input.sk-toggleable__control:checked~div.sk-toggleable__content {\n  /* Expand drop-down */\n  max-height: 200px;\n  max-width: 100%;\n  overflow: auto;\n}\n\n#sk-container-id-3 input.sk-toggleable__control:checked~label.sk-toggleable__label-arrow:before {\n  content: \"▾\";\n}\n\n/* Pipeline/ColumnTransformer-specific style */\n\n#sk-container-id-3 div.sk-label input.sk-toggleable__control:checked~label.sk-toggleable__label {\n  color: var(--sklearn-color-text);\n  background-color: var(--sklearn-color-unfitted-level-2);\n}\n\n#sk-container-id-3 div.sk-label.fitted input.sk-toggleable__control:checked~label.sk-toggleable__label {\n  background-color: var(--sklearn-color-fitted-level-2);\n}\n\n/* Estimator-specific style */\n\n/* Colorize estimator box */\n#sk-container-id-3 div.sk-estimator input.sk-toggleable__control:checked~label.sk-toggleable__label {\n  /* unfitted */\n  background-color: var(--sklearn-color-unfitted-level-2);\n}\n\n#sk-container-id-3 div.sk-estimator.fitted input.sk-toggleable__control:checked~label.sk-toggleable__label {\n  /* fitted */\n  background-color: var(--sklearn-color-fitted-level-2);\n}\n\n#sk-container-id-3 div.sk-label label.sk-toggleable__label,\n#sk-container-id-3 div.sk-label label {\n  /* The background is the default theme color */\n  color: var(--sklearn-color-text-on-default-background);\n}\n\n/* On hover, darken the color of the background */\n#sk-container-id-3 div.sk-label:hover label.sk-toggleable__label {\n  color: var(--sklearn-color-text);\n  background-color: var(--sklearn-color-unfitted-level-2);\n}\n\n/* Label box, darken color on hover, fitted */\n#sk-container-id-3 div.sk-label.fitted:hover label.sk-toggleable__label.fitted {\n  color: var(--sklearn-color-text);\n  background-color: var(--sklearn-color-fitted-level-2);\n}\n\n/* Estimator label */\n\n#sk-container-id-3 div.sk-label label {\n  font-family: monospace;\n  font-weight: bold;\n  display: inline-block;\n  line-height: 1.2em;\n}\n\n#sk-container-id-3 div.sk-label-container {\n  text-align: center;\n}\n\n/* Estimator-specific */\n#sk-container-id-3 div.sk-estimator {\n  font-family: monospace;\n  border: 1px dotted var(--sklearn-color-border-box);\n  border-radius: 0.25em;\n  box-sizing: border-box;\n  margin-bottom: 0.5em;\n  /* unfitted */\n  background-color: var(--sklearn-color-unfitted-level-0);\n}\n\n#sk-container-id-3 div.sk-estimator.fitted {\n  /* fitted */\n  background-color: var(--sklearn-color-fitted-level-0);\n}\n\n/* on hover */\n#sk-container-id-3 div.sk-estimator:hover {\n  /* unfitted */\n  background-color: var(--sklearn-color-unfitted-level-2);\n}\n\n#sk-container-id-3 div.sk-estimator.fitted:hover {\n  /* fitted */\n  background-color: var(--sklearn-color-fitted-level-2);\n}\n\n/* Specification for estimator info (e.g. \"i\" and \"?\") */\n\n/* Common style for \"i\" and \"?\" */\n\n.sk-estimator-doc-link,\na:link.sk-estimator-doc-link,\na:visited.sk-estimator-doc-link {\n  float: right;\n  font-size: smaller;\n  line-height: 1em;\n  font-family: monospace;\n  background-color: var(--sklearn-color-background);\n  border-radius: 1em;\n  height: 1em;\n  width: 1em;\n  text-decoration: none !important;\n  margin-left: 1ex;\n  /* unfitted */\n  border: var(--sklearn-color-unfitted-level-1) 1pt solid;\n  color: var(--sklearn-color-unfitted-level-1);\n}\n\n.sk-estimator-doc-link.fitted,\na:link.sk-estimator-doc-link.fitted,\na:visited.sk-estimator-doc-link.fitted {\n  /* fitted */\n  border: var(--sklearn-color-fitted-level-1) 1pt solid;\n  color: var(--sklearn-color-fitted-level-1);\n}\n\n/* On hover */\ndiv.sk-estimator:hover .sk-estimator-doc-link:hover,\n.sk-estimator-doc-link:hover,\ndiv.sk-label-container:hover .sk-estimator-doc-link:hover,\n.sk-estimator-doc-link:hover {\n  /* unfitted */\n  background-color: var(--sklearn-color-unfitted-level-3);\n  color: var(--sklearn-color-background);\n  text-decoration: none;\n}\n\ndiv.sk-estimator.fitted:hover .sk-estimator-doc-link.fitted:hover,\n.sk-estimator-doc-link.fitted:hover,\ndiv.sk-label-container:hover .sk-estimator-doc-link.fitted:hover,\n.sk-estimator-doc-link.fitted:hover {\n  /* fitted */\n  background-color: var(--sklearn-color-fitted-level-3);\n  color: var(--sklearn-color-background);\n  text-decoration: none;\n}\n\n/* Span, style for the box shown on hovering the info icon */\n.sk-estimator-doc-link span {\n  display: none;\n  z-index: 9999;\n  position: relative;\n  font-weight: normal;\n  right: .2ex;\n  padding: .5ex;\n  margin: .5ex;\n  width: min-content;\n  min-width: 20ex;\n  max-width: 50ex;\n  color: var(--sklearn-color-text);\n  box-shadow: 2pt 2pt 4pt #999;\n  /* unfitted */\n  background: var(--sklearn-color-unfitted-level-0);\n  border: .5pt solid var(--sklearn-color-unfitted-level-3);\n}\n\n.sk-estimator-doc-link.fitted span {\n  /* fitted */\n  background: var(--sklearn-color-fitted-level-0);\n  border: var(--sklearn-color-fitted-level-3);\n}\n\n.sk-estimator-doc-link:hover span {\n  display: block;\n}\n\n/* \"?\"-specific style due to the `<a>` HTML tag */\n\n#sk-container-id-3 a.estimator_doc_link {\n  float: right;\n  font-size: 1rem;\n  line-height: 1em;\n  font-family: monospace;\n  background-color: var(--sklearn-color-background);\n  border-radius: 1rem;\n  height: 1rem;\n  width: 1rem;\n  text-decoration: none;\n  /* unfitted */\n  color: var(--sklearn-color-unfitted-level-1);\n  border: var(--sklearn-color-unfitted-level-1) 1pt solid;\n}\n\n#sk-container-id-3 a.estimator_doc_link.fitted {\n  /* fitted */\n  border: var(--sklearn-color-fitted-level-1) 1pt solid;\n  color: var(--sklearn-color-fitted-level-1);\n}\n\n/* On hover */\n#sk-container-id-3 a.estimator_doc_link:hover {\n  /* unfitted */\n  background-color: var(--sklearn-color-unfitted-level-3);\n  color: var(--sklearn-color-background);\n  text-decoration: none;\n}\n\n#sk-container-id-3 a.estimator_doc_link.fitted:hover {\n  /* fitted */\n  background-color: var(--sklearn-color-fitted-level-3);\n}\n</style><div id=\"sk-container-id-3\" class=\"sk-top-container\"><div class=\"sk-text-repr-fallback\"><pre>GridSearchCV(cv=5, estimator=HistGradientBoostingRegressor(), n_jobs=-1,\n             param_grid={&#x27;l2_regularization&#x27;: [0.0, 0.1, 0.2],\n                         &#x27;learning_rate&#x27;: [0.01, 0.1, 0.2],\n                         &#x27;max_depth&#x27;: [3, 5, 7], &#x27;max_iter&#x27;: [100, 200, 300],\n                         &#x27;min_samples_leaf&#x27;: [1, 2, 4]},\n             scoring=&#x27;neg_mean_squared_error&#x27;)</pre><b>In a Jupyter environment, please rerun this cell to show the HTML representation or trust the notebook. <br />On GitHub, the HTML representation is unable to render, please try loading this page with nbviewer.org.</b></div><div class=\"sk-container\" hidden><div class=\"sk-item sk-dashed-wrapped\"><div class=\"sk-label-container\"><div class=\"sk-label fitted sk-toggleable\"><input class=\"sk-toggleable__control sk-hidden--visually\" id=\"sk-estimator-id-3\" type=\"checkbox\" ><label for=\"sk-estimator-id-3\" class=\"sk-toggleable__label fitted sk-toggleable__label-arrow fitted\">&nbsp;&nbsp;GridSearchCV<a class=\"sk-estimator-doc-link fitted\" rel=\"noreferrer\" target=\"_blank\" href=\"https://scikit-learn.org/1.4/modules/generated/sklearn.model_selection.GridSearchCV.html\">?<span>Documentation for GridSearchCV</span></a><span class=\"sk-estimator-doc-link fitted\">i<span>Fitted</span></span></label><div class=\"sk-toggleable__content fitted\"><pre>GridSearchCV(cv=5, estimator=HistGradientBoostingRegressor(), n_jobs=-1,\n             param_grid={&#x27;l2_regularization&#x27;: [0.0, 0.1, 0.2],\n                         &#x27;learning_rate&#x27;: [0.01, 0.1, 0.2],\n                         &#x27;max_depth&#x27;: [3, 5, 7], &#x27;max_iter&#x27;: [100, 200, 300],\n                         &#x27;min_samples_leaf&#x27;: [1, 2, 4]},\n             scoring=&#x27;neg_mean_squared_error&#x27;)</pre></div> </div></div><div class=\"sk-parallel\"><div class=\"sk-parallel-item\"><div class=\"sk-item\"><div class=\"sk-label-container\"><div class=\"sk-label fitted sk-toggleable\"><input class=\"sk-toggleable__control sk-hidden--visually\" id=\"sk-estimator-id-4\" type=\"checkbox\" ><label for=\"sk-estimator-id-4\" class=\"sk-toggleable__label fitted sk-toggleable__label-arrow fitted\">estimator: HistGradientBoostingRegressor</label><div class=\"sk-toggleable__content fitted\"><pre>HistGradientBoostingRegressor()</pre></div> </div></div><div class=\"sk-serial\"><div class=\"sk-item\"><div class=\"sk-estimator fitted sk-toggleable\"><input class=\"sk-toggleable__control sk-hidden--visually\" id=\"sk-estimator-id-5\" type=\"checkbox\" ><label for=\"sk-estimator-id-5\" class=\"sk-toggleable__label fitted sk-toggleable__label-arrow fitted\">&nbsp;HistGradientBoostingRegressor<a class=\"sk-estimator-doc-link fitted\" rel=\"noreferrer\" target=\"_blank\" href=\"https://scikit-learn.org/1.4/modules/generated/sklearn.ensemble.HistGradientBoostingRegressor.html\">?<span>Documentation for HistGradientBoostingRegressor</span></a></label><div class=\"sk-toggleable__content fitted\"><pre>HistGradientBoostingRegressor()</pre></div> </div></div></div></div></div></div></div></div></div>"
     },
     "execution_count": 29,
     "metadata": {},
     "output_type": "execute_result"
    }
   ],
   "source": [
    "# Exécuter la recherche par grille sur les données\n",
    "grid_search.fit(X, y)"
   ]
  },
  {
   "cell_type": "code",
   "execution_count": 30,
   "metadata": {
    "id": "dcR5d7-EppXz",
    "ExecuteTime": {
     "end_time": "2024-03-12T11:44:54.220860Z",
     "start_time": "2024-03-12T11:44:54.032303Z"
    }
   },
   "outputs": [],
   "source": [
    "# Calcul des métriques d'évaluation\n",
    "mse = mean_squared_error(y_test, y_pred)\n",
    "r2 = r2_score(y_test, y_pred)\n",
    "mae = mean_absolute_error(y_test, y_pred)\n",
    "# Calculer la moyenne des scores de MSE\n",
    "avg_mse = -scores.mean()"
   ]
  },
  {
   "cell_type": "code",
   "execution_count": 31,
   "metadata": {
    "colab": {
     "base_uri": "https://localhost:8080/"
    },
    "id": "CupwNLz-GWRI",
    "outputId": "8553ae6e-3cbb-428e-ab34-d245ef467d55",
    "ExecuteTime": {
     "end_time": "2024-03-12T11:44:54.306216Z",
     "start_time": "2024-03-12T11:44:54.038473Z"
    }
   },
   "outputs": [
    {
     "name": "stdout",
     "output_type": "stream",
     "text": [
      "Meilleurs paramètres: {'l2_regularization': 0.2, 'learning_rate': 0.1, 'max_depth': 3, 'max_iter': 300, 'min_samples_leaf': 2}\n",
      "Meilleure MSE: 34.78160301569308\n"
     ]
    }
   ],
   "source": [
    "# Afficher les meilleurs paramètres et la meilleure MSE\n",
    "print(\"Meilleurs paramètres:\", grid_search.best_params_)\n",
    "print(\"Meilleure MSE:\", -grid_search.best_score_)"
   ]
  },
  {
   "cell_type": "code",
   "execution_count": 32,
   "metadata": {
    "colab": {
     "base_uri": "https://localhost:8080/"
    },
    "id": "ITLl__hgpzyN",
    "outputId": "94d961e6-c2dc-4fa3-9b59-44df49eb6da0",
    "ExecuteTime": {
     "end_time": "2024-03-12T11:44:54.307427Z",
     "start_time": "2024-03-12T11:44:54.057157Z"
    }
   },
   "outputs": [
    {
     "name": "stdout",
     "output_type": "stream",
     "text": [
      "Mean Squared Error: 33.03430553567649\n",
      "R-squared: 0.9857973698022744\n",
      "Mean Absolute Error: 3.469018531795853\n",
      "Moyenne des scores de MSE: 38.69325786657404\n"
     ]
    }
   ],
   "source": [
    "print(\"Mean Squared Error:\", mse)\n",
    "print(\"R-squared:\", r2)\n",
    "print(\"Mean Absolute Error:\", mae)\n",
    "\n",
    "# Afficher le score moyen de MSE\n",
    "print(\"Moyenne des scores de MSE:\", avg_mse)"
   ]
  },
  {
   "cell_type": "code",
   "execution_count": 33,
   "metadata": {
    "colab": {
     "base_uri": "https://localhost:8080/",
     "height": 565
    },
    "id": "mDkRepp1qLU0",
    "outputId": "c2e49e43-1b48-4dd8-e3e3-07d8d20c50f9",
    "ExecuteTime": {
     "end_time": "2024-03-12T11:44:55.725774Z",
     "start_time": "2024-03-12T11:44:54.079989Z"
    }
   },
   "outputs": [
    {
     "data": {
      "text/plain": "<Figure size 1000x600 with 1 Axes>",
      "image/png": "[encoded data removed]"
     },
     "metadata": {},
     "output_type": "display_data"
    }
   ],
   "source": [
    "# Tracer les valeurs réelles par rapport aux valeurs prédites\n",
    "plt.figure(figsize=(10, 6))\n",
    "plt.scatter(y_test, y_pred, color='blue', label='Valeurs prédites vs réelles')\n",
    "plt.plot([y_test.min(), y_test.max()], [y_test.min(), y_test.max()], color='red', linestyle='--', label='Ligne de référence')\n",
    "plt.xlabel('Valeurs réelles')\n",
    "plt.ylabel('Valeurs prédites')\n",
    "plt.title('Comparaison des valeurs prédites aux valeurs réelles')\n",
    "plt.legend()\n",
    "plt.show()"
   ]
  },
  {
   "cell_type": "code",
   "execution_count": 34,
   "metadata": {
    "id": "7BJUhX-sKEqt",
    "ExecuteTime": {
     "end_time": "2024-03-12T11:44:56.141668Z",
     "start_time": "2024-03-12T11:44:55.699774Z"
    }
   },
   "outputs": [],
   "source": [
    "# Créer un nouveau modèle avec les paramètres optimisés\n",
    "optimal_model = HistGradientBoostingRegressor(\n",
    "    l2_regularization=0.0,\n",
    "    learning_rate=0.1,\n",
    "    max_depth=5,\n",
    "    max_iter=300,\n",
    "    min_samples_leaf=2\n",
    ")\n"
   ]
  },
  {
   "cell_type": "code",
   "execution_count": 35,
   "metadata": {
    "colab": {
     "base_uri": "https://localhost:8080/",
     "height": 75
    },
    "id": "v0IzyHE1KEjL",
    "outputId": "ae28a113-603a-4720-88d0-40881b6d6dc3",
    "ExecuteTime": {
     "end_time": "2024-03-12T11:44:58.191231Z",
     "start_time": "2024-03-12T11:44:55.744742Z"
    }
   },
   "outputs": [
    {
     "data": {
      "text/plain": "HistGradientBoostingRegressor(max_depth=5, max_iter=300, min_samples_leaf=2)",
      "text/html": "<style>#sk-container-id-4 {\n  /* Definition of color scheme common for light and dark mode */\n  --sklearn-color-text: black;\n  --sklearn-color-line: gray;\n  /* Definition of color scheme for unfitted estimators */\n  --sklearn-color-unfitted-level-0: #fff5e6;\n  --sklearn-color-unfitted-level-1: #f6e4d2;\n  --sklearn-color-unfitted-level-2: #ffe0b3;\n  --sklearn-color-unfitted-level-3: chocolate;\n  /* Definition of color scheme for fitted estimators */\n  --sklearn-color-fitted-level-0: #f0f8ff;\n  --sklearn-color-fitted-level-1: #d4ebff;\n  --sklearn-color-fitted-level-2: #b3dbfd;\n  --sklearn-color-fitted-level-3: cornflowerblue;\n\n  /* Specific color for light theme */\n  --sklearn-color-text-on-default-background: var(--sg-text-color, var(--theme-code-foreground, var(--jp-content-font-color1, black)));\n  --sklearn-color-background: var(--sg-background-color, var(--theme-background, var(--jp-layout-color0, white)));\n  --sklearn-color-border-box: var(--sg-text-color, var(--theme-code-foreground, var(--jp-content-font-color1, black)));\n  --sklearn-color-icon: #696969;\n\n  @media (prefers-color-scheme: dark) {\n    /* Redefinition of color scheme for dark theme */\n    --sklearn-color-text-on-default-background: var(--sg-text-color, var(--theme-code-foreground, var(--jp-content-font-color1, white)));\n    --sklearn-color-background: var(--sg-background-color, var(--theme-background, var(--jp-layout-color0, #111)));\n    --sklearn-color-border-box: var(--sg-text-color, var(--theme-code-foreground, var(--jp-content-font-color1, white)));\n    --sklearn-color-icon: #878787;\n  }\n}\n\n#sk-container-id-4 {\n  color: var(--sklearn-color-text);\n}\n\n#sk-container-id-4 pre {\n  padding: 0;\n}\n\n#sk-container-id-4 input.sk-hidden--visually {\n  border: 0;\n  clip: rect(1px 1px 1px 1px);\n  clip: rect(1px, 1px, 1px, 1px);\n  height: 1px;\n  margin: -1px;\n  overflow: hidden;\n  padding: 0;\n  position: absolute;\n  width: 1px;\n}\n\n#sk-container-id-4 div.sk-dashed-wrapped {\n  border: 1px dashed var(--sklearn-color-line);\n  margin: 0 0.4em 0.5em 0.4em;\n  box-sizing: border-box;\n  padding-bottom: 0.4em;\n  background-color: var(--sklearn-color-background);\n}\n\n#sk-container-id-4 div.sk-container {\n  /* jupyter's `normalize.less` sets `[hidden] { display: none; }`\n     but bootstrap.min.css set `[hidden] { display: none !important; }`\n     so we also need the `!important` here to be able to override the\n     default hidden behavior on the sphinx rendered scikit-learn.org.\n     See: https://github.com/scikit-learn/scikit-learn/issues/21755 */\n  display: inline-block !important;\n  position: relative;\n}\n\n#sk-container-id-4 div.sk-text-repr-fallback {\n  display: none;\n}\n\ndiv.sk-parallel-item,\ndiv.sk-serial,\ndiv.sk-item {\n  /* draw centered vertical line to link estimators */\n  background-image: linear-gradient(var(--sklearn-color-text-on-default-background), var(--sklearn-color-text-on-default-background));\n  background-size: 2px 100%;\n  background-repeat: no-repeat;\n  background-position: center center;\n}\n\n/* Parallel-specific style estimator block */\n\n#sk-container-id-4 div.sk-parallel-item::after {\n  content: \"\";\n  width: 100%;\n  border-bottom: 2px solid var(--sklearn-color-text-on-default-background);\n  flex-grow: 1;\n}\n\n#sk-container-id-4 div.sk-parallel {\n  display: flex;\n  align-items: stretch;\n  justify-content: center;\n  background-color: var(--sklearn-color-background);\n  position: relative;\n}\n\n#sk-container-id-4 div.sk-parallel-item {\n  display: flex;\n  flex-direction: column;\n}\n\n#sk-container-id-4 div.sk-parallel-item:first-child::after {\n  align-self: flex-end;\n  width: 50%;\n}\n\n#sk-container-id-4 div.sk-parallel-item:last-child::after {\n  align-self: flex-start;\n  width: 50%;\n}\n\n#sk-container-id-4 div.sk-parallel-item:only-child::after {\n  width: 0;\n}\n\n/* Serial-specific style estimator block */\n\n#sk-container-id-4 div.sk-serial {\n  display: flex;\n  flex-direction: column;\n  align-items: center;\n  background-color: var(--sklearn-color-background);\n  padding-right: 1em;\n  padding-left: 1em;\n}\n\n\n/* Toggleable style: style used for estimator/Pipeline/ColumnTransformer box that is\nclickable and can be expanded/collapsed.\n- Pipeline and ColumnTransformer use this feature and define the default style\n- Estimators will overwrite some part of the style using the `sk-estimator` class\n*/\n\n/* Pipeline and ColumnTransformer style (default) */\n\n#sk-container-id-4 div.sk-toggleable {\n  /* Default theme specific background. It is overwritten whether we have a\n  specific estimator or a Pipeline/ColumnTransformer */\n  background-color: var(--sklearn-color-background);\n}\n\n/* Toggleable label */\n#sk-container-id-4 label.sk-toggleable__label {\n  cursor: pointer;\n  display: block;\n  width: 100%;\n  margin-bottom: 0;\n  padding: 0.5em;\n  box-sizing: border-box;\n  text-align: center;\n}\n\n#sk-container-id-4 label.sk-toggleable__label-arrow:before {\n  /* Arrow on the left of the label */\n  content: \"▸\";\n  float: left;\n  margin-right: 0.25em;\n  color: var(--sklearn-color-icon);\n}\n\n#sk-container-id-4 label.sk-toggleable__label-arrow:hover:before {\n  color: var(--sklearn-color-text);\n}\n\n/* Toggleable content - dropdown */\n\n#sk-container-id-4 div.sk-toggleable__content {\n  max-height: 0;\n  max-width: 0;\n  overflow: hidden;\n  text-align: left;\n  /* unfitted */\n  background-color: var(--sklearn-color-unfitted-level-0);\n}\n\n#sk-container-id-4 div.sk-toggleable__content.fitted {\n  /* fitted */\n  background-color: var(--sklearn-color-fitted-level-0);\n}\n\n#sk-container-id-4 div.sk-toggleable__content pre {\n  margin: 0.2em;\n  border-radius: 0.25em;\n  color: var(--sklearn-color-text);\n  /* unfitted */\n  background-color: var(--sklearn-color-unfitted-level-0);\n}\n\n#sk-container-id-4 div.sk-toggleable__content.fitted pre {\n  /* unfitted */\n  background-color: var(--sklearn-color-fitted-level-0);\n}\n\n#sk-container-id-4 input.sk-toggleable__control:checked~div.sk-toggleable__content {\n  /* Expand drop-down */\n  max-height: 200px;\n  max-width: 100%;\n  overflow: auto;\n}\n\n#sk-container-id-4 input.sk-toggleable__control:checked~label.sk-toggleable__label-arrow:before {\n  content: \"▾\";\n}\n\n/* Pipeline/ColumnTransformer-specific style */\n\n#sk-container-id-4 div.sk-label input.sk-toggleable__control:checked~label.sk-toggleable__label {\n  color: var(--sklearn-color-text);\n  background-color: var(--sklearn-color-unfitted-level-2);\n}\n\n#sk-container-id-4 div.sk-label.fitted input.sk-toggleable__control:checked~label.sk-toggleable__label {\n  background-color: var(--sklearn-color-fitted-level-2);\n}\n\n/* Estimator-specific style */\n\n/* Colorize estimator box */\n#sk-container-id-4 div.sk-estimator input.sk-toggleable__control:checked~label.sk-toggleable__label {\n  /* unfitted */\n  background-color: var(--sklearn-color-unfitted-level-2);\n}\n\n#sk-container-id-4 div.sk-estimator.fitted input.sk-toggleable__control:checked~label.sk-toggleable__label {\n  /* fitted */\n  background-color: var(--sklearn-color-fitted-level-2);\n}\n\n#sk-container-id-4 div.sk-label label.sk-toggleable__label,\n#sk-container-id-4 div.sk-label label {\n  /* The background is the default theme color */\n  color: var(--sklearn-color-text-on-default-background);\n}\n\n/* On hover, darken the color of the background */\n#sk-container-id-4 div.sk-label:hover label.sk-toggleable__label {\n  color: var(--sklearn-color-text);\n  background-color: var(--sklearn-color-unfitted-level-2);\n}\n\n/* Label box, darken color on hover, fitted */\n#sk-container-id-4 div.sk-label.fitted:hover label.sk-toggleable__label.fitted {\n  color: var(--sklearn-color-text);\n  background-color: var(--sklearn-color-fitted-level-2);\n}\n\n/* Estimator label */\n\n#sk-container-id-4 div.sk-label label {\n  font-family: monospace;\n  font-weight: bold;\n  display: inline-block;\n  line-height: 1.2em;\n}\n\n#sk-container-id-4 div.sk-label-container {\n  text-align: center;\n}\n\n/* Estimator-specific */\n#sk-container-id-4 div.sk-estimator {\n  font-family: monospace;\n  border: 1px dotted var(--sklearn-color-border-box);\n  border-radius: 0.25em;\n  box-sizing: border-box;\n  margin-bottom: 0.5em;\n  /* unfitted */\n  background-color: var(--sklearn-color-unfitted-level-0);\n}\n\n#sk-container-id-4 div.sk-estimator.fitted {\n  /* fitted */\n  background-color: var(--sklearn-color-fitted-level-0);\n}\n\n/* on hover */\n#sk-container-id-4 div.sk-estimator:hover {\n  /* unfitted */\n  background-color: var(--sklearn-color-unfitted-level-2);\n}\n\n#sk-container-id-4 div.sk-estimator.fitted:hover {\n  /* fitted */\n  background-color: var(--sklearn-color-fitted-level-2);\n}\n\n/* Specification for estimator info (e.g. \"i\" and \"?\") */\n\n/* Common style for \"i\" and \"?\" */\n\n.sk-estimator-doc-link,\na:link.sk-estimator-doc-link,\na:visited.sk-estimator-doc-link {\n  float: right;\n  font-size: smaller;\n  line-height: 1em;\n  font-family: monospace;\n  background-color: var(--sklearn-color-background);\n  border-radius: 1em;\n  height: 1em;\n  width: 1em;\n  text-decoration: none !important;\n  margin-left: 1ex;\n  /* unfitted */\n  border: var(--sklearn-color-unfitted-level-1) 1pt solid;\n  color: var(--sklearn-color-unfitted-level-1);\n}\n\n.sk-estimator-doc-link.fitted,\na:link.sk-estimator-doc-link.fitted,\na:visited.sk-estimator-doc-link.fitted {\n  /* fitted */\n  border: var(--sklearn-color-fitted-level-1) 1pt solid;\n  color: var(--sklearn-color-fitted-level-1);\n}\n\n/* On hover */\ndiv.sk-estimator:hover .sk-estimator-doc-link:hover,\n.sk-estimator-doc-link:hover,\ndiv.sk-label-container:hover .sk-estimator-doc-link:hover,\n.sk-estimator-doc-link:hover {\n  /* unfitted */\n  background-color: var(--sklearn-color-unfitted-level-3);\n  color: var(--sklearn-color-background);\n  text-decoration: none;\n}\n\ndiv.sk-estimator.fitted:hover .sk-estimator-doc-link.fitted:hover,\n.sk-estimator-doc-link.fitted:hover,\ndiv.sk-label-container:hover .sk-estimator-doc-link.fitted:hover,\n.sk-estimator-doc-link.fitted:hover {\n  /* fitted */\n  background-color: var(--sklearn-color-fitted-level-3);\n  color: var(--sklearn-color-background);\n  text-decoration: none;\n}\n\n/* Span, style for the box shown on hovering the info icon */\n.sk-estimator-doc-link span {\n  display: none;\n  z-index: 9999;\n  position: relative;\n  font-weight: normal;\n  right: .2ex;\n  padding: .5ex;\n  margin: .5ex;\n  width: min-content;\n  min-width: 20ex;\n  max-width: 50ex;\n  color: var(--sklearn-color-text);\n  box-shadow: 2pt 2pt 4pt #999;\n  /* unfitted */\n  background: var(--sklearn-color-unfitted-level-0);\n  border: .5pt solid var(--sklearn-color-unfitted-level-3);\n}\n\n.sk-estimator-doc-link.fitted span {\n  /* fitted */\n  background: var(--sklearn-color-fitted-level-0);\n  border: var(--sklearn-color-fitted-level-3);\n}\n\n.sk-estimator-doc-link:hover span {\n  display: block;\n}\n\n/* \"?\"-specific style due to the `<a>` HTML tag */\n\n#sk-container-id-4 a.estimator_doc_link {\n  float: right;\n  font-size: 1rem;\n  line-height: 1em;\n  font-family: monospace;\n  background-color: var(--sklearn-color-background);\n  border-radius: 1rem;\n  height: 1rem;\n  width: 1rem;\n  text-decoration: none;\n  /* unfitted */\n  color: var(--sklearn-color-unfitted-level-1);\n  border: var(--sklearn-color-unfitted-level-1) 1pt solid;\n}\n\n#sk-container-id-4 a.estimator_doc_link.fitted {\n  /* fitted */\n  border: var(--sklearn-color-fitted-level-1) 1pt solid;\n  color: var(--sklearn-color-fitted-level-1);\n}\n\n/* On hover */\n#sk-container-id-4 a.estimator_doc_link:hover {\n  /* unfitted */\n  background-color: var(--sklearn-color-unfitted-level-3);\n  color: var(--sklearn-color-background);\n  text-decoration: none;\n}\n\n#sk-container-id-4 a.estimator_doc_link.fitted:hover {\n  /* fitted */\n  background-color: var(--sklearn-color-fitted-level-3);\n}\n</style><div id=\"sk-container-id-4\" class=\"sk-top-container\"><div class=\"sk-text-repr-fallback\"><pre>HistGradientBoostingRegressor(max_depth=5, max_iter=300, min_samples_leaf=2)</pre><b>In a Jupyter environment, please rerun this cell to show the HTML representation or trust the notebook. <br />On GitHub, the HTML representation is unable to render, please try loading this page with nbviewer.org.</b></div><div class=\"sk-container\" hidden><div class=\"sk-item\"><div class=\"sk-estimator fitted sk-toggleable\"><input class=\"sk-toggleable__control sk-hidden--visually\" id=\"sk-estimator-id-6\" type=\"checkbox\" checked><label for=\"sk-estimator-id-6\" class=\"sk-toggleable__label fitted sk-toggleable__label-arrow fitted\">&nbsp;&nbsp;HistGradientBoostingRegressor<a class=\"sk-estimator-doc-link fitted\" rel=\"noreferrer\" target=\"_blank\" href=\"https://scikit-learn.org/1.4/modules/generated/sklearn.ensemble.HistGradientBoostingRegressor.html\">?<span>Documentation for HistGradientBoostingRegressor</span></a><span class=\"sk-estimator-doc-link fitted\">i<span>Fitted</span></span></label><div class=\"sk-toggleable__content fitted\"><pre>HistGradientBoostingRegressor(max_depth=5, max_iter=300, min_samples_leaf=2)</pre></div> </div></div></div></div>"
     },
     "execution_count": 35,
     "metadata": {},
     "output_type": "execute_result"
    }
   ],
   "source": [
    "# Entraîner le nouveau modèle avec les données d'entraînement\n",
    "optimal_model.fit(X_train, y_train)"
   ]
  },
  {
   "cell_type": "code",
   "execution_count": 36,
   "metadata": {
    "id": "4YfJ0AC_KEZz",
    "ExecuteTime": {
     "end_time": "2024-03-12T11:44:58.338201Z",
     "start_time": "2024-03-12T11:44:58.133907Z"
    }
   },
   "outputs": [],
   "source": [
    "# Prédire sur les données de test\n",
    "y_pred_optimal = optimal_model.predict(X_test)"
   ]
  },
  {
   "cell_type": "code",
   "source": [
    "# Calculer le RMSE\n",
    "rmse_optimal = np.sqrt(mean_squared_error(y_test, y_pred_optimal))\n",
    "\n",
    "# Calculer le MAPE\n",
    "# Calculer le MAPE en évitant les divisions par zéro\n",
    "mape_optimal = np.mean(np.abs((y_test - y_pred_optimal) / y_test.replace(0, np.nan))) * 100\n"
   ],
   "metadata": {
    "id": "JCXOI9O6nDwI",
    "ExecuteTime": {
     "end_time": "2024-03-12T11:44:58.393453Z",
     "start_time": "2024-03-12T11:44:58.326842Z"
    }
   },
   "execution_count": 37,
   "outputs": []
  },
  {
   "cell_type": "code",
   "execution_count": 38,
   "metadata": {
    "id": "Xj97KnGoKKyp",
    "ExecuteTime": {
     "end_time": "2024-03-12T11:44:58.481708Z",
     "start_time": "2024-03-12T11:44:58.367955Z"
    }
   },
   "outputs": [],
   "source": [
    "# Évaluer les performances du nouveau modèle sur les données de test\n",
    "mse_optimal = mean_squared_error(y_test, y_pred_optimal)\n",
    "r2_optimal = r2_score(y_test, y_pred_optimal)\n",
    "mae_optimal = mean_absolute_error(y_test, y_pred_optimal)"
   ]
  },
  {
   "cell_type": "code",
   "source": [
    "\n",
    "# Afficher les performances du nouveau modèle\n",
    "print(\"Performances du modèle avec les paramètres optimisés :\")\n",
    "print(\"MSE:\", mse_optimal)\n",
    "print(\"R-squared:\", r2_optimal)\n",
    "print(\"MAE:\", mae_optimal)\n",
    "print(\"RMSE:\", rmse_optimal)\n",
    "print(\"MAPE:\", mape_optimal)"
   ],
   "metadata": {
    "colab": {
     "base_uri": "https://localhost:8080/"
    },
    "id": "MeDK8tNmnHw_",
    "outputId": "b4adec16-f2b9-4640-d91a-51246826d37f",
    "ExecuteTime": {
     "end_time": "2024-03-12T11:44:58.484772Z",
     "start_time": "2024-03-12T11:44:58.408632Z"
    }
   },
   "execution_count": 39,
   "outputs": [
    {
     "name": "stdout",
     "output_type": "stream",
     "text": [
      "Performances du modèle avec les paramètres optimisés :\n",
      "MSE: 33.04935294037537\n",
      "R-squared: 0.9857909003844705\n",
      "MAE: 3.4067805653356045\n",
      "RMSE: 5.748856663752835\n",
      "MAPE: 20.410655950494\n"
     ]
    }
   ]
  },
  {
   "cell_type": "code",
   "execution_count": 40,
   "metadata": {
    "colab": {
     "base_uri": "https://localhost:8080/"
    },
    "id": "6z4xUL2dKKov",
    "outputId": "4b181ab7-7dd0-4dec-8275-2e8915c6fa63",
    "ExecuteTime": {
     "end_time": "2024-03-12T11:44:58.487118Z",
     "start_time": "2024-03-12T11:44:58.433892Z"
    }
   },
   "outputs": [
    {
     "name": "stdout",
     "output_type": "stream",
     "text": [
      "Performances du modèle avec les paramètres optimisés :\n",
      "MSE: 33.04935294037537\n",
      "R-squared: 0.9857909003844705\n",
      "MAE: 3.4067805653356045\n"
     ]
    }
   ],
   "source": [
    "# Afficher les performances du nouveau modèle\n",
    "print(\"Performances du modèle avec les paramètres optimisés :\")\n",
    "print(\"MSE:\", mse_optimal)\n",
    "print(\"R-squared:\", r2_optimal)\n",
    "print(\"MAE:\", mae_optimal)"
   ]
  },
  {
   "cell_type": "code",
   "execution_count": 41,
   "metadata": {
    "colab": {
     "base_uri": "https://localhost:8080/",
     "height": 565
    },
    "id": "HgXABTeg-qFO",
    "outputId": "97578dc3-367d-418c-bc04-052962c571eb",
    "ExecuteTime": {
     "end_time": "2024-03-12T11:44:59.816957Z",
     "start_time": "2024-03-12T11:44:58.517854Z"
    }
   },
   "outputs": [
    {
     "data": {
      "text/plain": "<Figure size 1000x600 with 1 Axes>",
      "image/png": "[encoded data removed]"
     },
     "metadata": {},
     "output_type": "display_data"
    }
   ],
   "source": [
    "# Tracer les valeurs réelles par rapport aux valeurs prédites\n",
    "plt.figure(figsize=(10, 6))\n",
    "plt.scatter(y_test, y_pred_optimal, color='blue', label='Valeurs prédites vs réelles')\n",
    "plt.plot([y_test.min(), y_test.max()], [y_test.min(), y_test.max()], color='red', linestyle='--', label='Ligne de référence')\n",
    "plt.xlabel('Valeurs réelles')\n",
    "plt.ylabel('Valeurs prédites')\n",
    "plt.title('Comparaison des valeurs prédites aux valeurs réelles')\n",
    "plt.legend()\n",
    "plt.show()"
   ]
  },
  {
   "cell_type": "code",
   "execution_count": 42,
   "metadata": {
    "colab": {
     "base_uri": "https://localhost:8080/"
    },
    "id": "rTiCqpeB8JAA",
    "outputId": "56a64391-b7c8-46cf-8245-47d154bc1329",
    "ExecuteTime": {
     "end_time": "2024-03-12T11:45:00.174792Z",
     "start_time": "2024-03-12T11:44:59.802619Z"
    }
   },
   "outputs": [
    {
     "name": "stdout",
     "output_type": "stream",
     "text": [
      "   goals_scored  assists  total_points  minutes  goals_conceded  creativity  \\\n",
      "0             0        0             0        0               0         0.0   \n",
      "1             0        0             0        0               0         0.0   \n",
      "2             0        1             4        1               0         0.5   \n",
      "3             1        3            21      236               2        63.6   \n",
      "4             0        0            40     1104              12        56.7   \n",
      "\n",
      "   influence  threat  bonus  bps  ict_index  clean_sheets  red_cards  \\\n",
      "0        0.0     0.0      0    0        0.0             0          0   \n",
      "1        0.0     0.0      0    0        0.0             0          0   \n",
      "2        1.8     2.0      0   12        0.4             0          0   \n",
      "3       79.4    77.0      0   62       21.9             1          1   \n",
      "4      202.8    69.0      2  210       32.9             4          0   \n",
      "\n",
      "   yellow_cards  selected_by_percent  now_cost element_type        source  \\\n",
      "0             0                  0.2      44.0          FWD  players23-24   \n",
      "1             0                  0.4      39.0          DEF  players23-24   \n",
      "2             0                  0.1      44.0          MID  players23-24   \n",
      "3             0                  0.1      54.0          MID  players23-24   \n",
      "4             1                 15.4      49.0          DEF  players23-24   \n",
      "\n",
      "                           name  \n",
      "0               Folarin Balogun  \n",
      "1           Cédric Alves Soares  \n",
      "2                Mohamed Elneny  \n",
      "3         Fábio Ferreira Vieira  \n",
      "4  Gabriel dos Santos Magalhães  \n"
     ]
    }
   ],
   "source": [
    "print(data.head())"
   ]
  },
  {
   "cell_type": "code",
   "execution_count": 44,
   "metadata": {
    "id": "jv6GNSPHyQl7",
    "colab": {
     "base_uri": "https://localhost:8080/"
    },
    "outputId": "418ba947-c443-408a-8474-7d05bd30a85a",
    "ExecuteTime": {
     "end_time": "2024-03-12T11:49:51.624403Z",
     "start_time": "2024-03-12T11:49:51.505382Z"
    }
   },
   "outputs": [
    {
     "name": "stdout",
     "output_type": "stream",
     "text": [
      "               name position           team   xP  assists  bonus  bps  \\\n",
      "0       Femi Seriki      DEF  Sheffield Utd -0.5        0      0    0   \n",
      "1     Josh Brooking      DEF        Chelsea  0.0        0      0    0   \n",
      "2       Radek Vítek       GK        Man Utd  0.5        0      0    0   \n",
      "3  Jack Hinshelwood      MID       Brighton  2.9        0      0    0   \n",
      "4      Jadon Sancho      MID        Man Utd  0.0        0      0    0   \n",
      "\n",
      "   clean_sheets  creativity  element  ...  team_a_score  team_h_score  threat  \\\n",
      "0             0         0.0      653  ...             0             1     0.0   \n",
      "1             0         0.0      723  ...             0             2     0.0   \n",
      "2             0         0.0      669  ...             3             0     0.0   \n",
      "3             0         0.6      621  ...             1             1    59.0   \n",
      "4             0         0.0      397  ...             3             0     0.0   \n",
      "\n",
      "   total_points  transfers_balance  transfers_in  transfers_out  now_cost  \\\n",
      "0             0                -69            65            134        40   \n",
      "1             0                  8            82             74        40   \n",
      "2             0                -20            43             63        40   \n",
      "3             1               2660          2877            217        45   \n",
      "4             0               -146            34            180        67   \n",
      "\n",
      "   was_home yellow_cards  \n",
      "0      True            0  \n",
      "1     False            0  \n",
      "2      True            0  \n",
      "3      True            0  \n",
      "4      True            0  \n",
      "\n",
      "[5 rows x 40 columns]\n",
      "758\n"
     ]
    }
   ],
   "source": [
    "team_data = pd.read_csv('/Users/melusinecaillard/RSPL/data/2023-24/gws/gw16.csv')\n",
    "team_data = team_data.rename(columns={'value': 'now_cost'})\n",
    "\n",
    "print(team_data.head())\n",
    "print(len(team_data))"
   ]
  },
  {
   "cell_type": "code",
   "execution_count": 45,
   "metadata": {
    "id": "d7g_RO80RoyF",
    "ExecuteTime": {
     "end_time": "2024-03-12T11:49:53.162999Z",
     "start_time": "2024-03-12T11:49:53.119946Z"
    }
   },
   "outputs": [],
   "source": [
    "def predict_player_performance(model, player_name, data):\n",
    "    # Filtrer les données pour obtenir les caractéristiques du joueur spécifié\n",
    "    player_data = data[data['name'] == player_name]\n",
    "\n",
    "    # Sélectionner uniquement les caractéristiques utilisées lors de l'entraînement\n",
    "    selected_features = ['goals_scored','assists','goals_conceded','creativity','influence','threat','bonus','clean_sheets','red_cards','yellow_cards','now_cost']\n",
    "\n",
    "\n",
    "    player_data = player_data[selected_features]\n",
    "\n",
    "    # Effectuer la prédiction\n",
    "    predicted_performance = optimal_model.predict(player_data)\n",
    "\n",
    "    # Calculer la moyenne des performances prédites\n",
    "    average_performance = np.mean(predicted_performance)\n",
    "\n",
    "    return average_performance"
   ]
  },
  {
   "cell_type": "code",
   "execution_count": 49,
   "metadata": {
    "id": "GQ_iUhVi-qCE",
    "colab": {
     "base_uri": "https://localhost:8080/"
    },
    "outputId": "c31a3da6-7fe8-429e-f3a6-799902a391ab",
    "ExecuteTime": {
     "end_time": "2024-03-12T11:51:36.804548Z",
     "start_time": "2024-03-12T11:51:36.672699Z"
    }
   },
   "outputs": [
    {
     "name": "stdout",
     "output_type": "stream",
     "text": [
      "Performances prédites (total_points) pour le joueur:  Philip Billing 9.01581624726433\n"
     ]
    }
   ],
   "source": [
    "# Nom du joueur à prédire\n",
    "player_name = 'Philip Billing'\n",
    "\n",
    "# Prédiction des performances du joueur\n",
    "predicted_performance = predict_player_performance(optimal_model, player_name, team_data)\n",
    "\n",
    "print(\"Performances prédites (total_points) pour le joueur: \",player_name, predicted_performance)\n"
   ]
  },
  {
   "cell_type": "code",
   "execution_count": 50,
   "metadata": {
    "id": "pITncp_ESN4A",
    "colab": {
     "base_uri": "https://localhost:8080/"
    },
    "outputId": "c30f4893-4edf-42eb-aad8-abc6af6e789d",
    "ExecuteTime": {
     "end_time": "2024-03-12T11:51:42.158028Z",
     "start_time": "2024-03-12T11:51:41.997580Z"
    }
   },
   "outputs": [
    {
     "name": "stdout",
     "output_type": "stream",
     "text": [
      "Nom du joueur: Philip Billing\n",
      "Prix actuel: 52\n",
      "Total de points actuel: 6\n",
      "Poste: MID\n"
     ]
    }
   ],
   "source": [
    "# Sélectionner les informations pour le joueur spécifié\n",
    "player_info = team_data[team_data['name'] == player_name]\n",
    "\n",
    "# Vérifier si le joueur spécifié est présent dans les données\n",
    "if not player_info.empty:\n",
    "    # Extraire les informations nécessaires\n",
    "    now_cost = player_info['now_cost'].values[0]\n",
    "    total_points = player_info['total_points'].values[0]\n",
    "    position = player_info['position'].values[0]  # Assurez-vous que 'element_type' contient les informations sur le poste du joueur\n",
    "\n",
    "    # Afficher les informations\n",
    "    print(\"Nom du joueur:\", player_name)\n",
    "    print(\"Prix actuel:\", now_cost)\n",
    "    print(\"Total de points actuel:\", total_points)\n",
    "    print(\"Poste:\", position)\n",
    "else:\n",
    "    print(\"Le joueur spécifié n'a pas été trouvé dans les données.\")\n"
   ]
  },
  {
   "cell_type": "markdown",
   "metadata": {
    "id": "4si914XFna7j"
   },
   "source": [
    "prediction pour les joueurs de la saison en cours"
   ]
  },
  {
   "cell_type": "code",
   "execution_count": 51,
   "metadata": {
    "id": "PlvJiOqimh-b",
    "colab": {
     "base_uri": "https://localhost:8080/"
    },
    "outputId": "85b54ae8-ebdf-4061-c65a-ac0fdf22e90a",
    "ExecuteTime": {
     "end_time": "2024-03-12T11:52:18.770434Z",
     "start_time": "2024-03-12T11:51:56.347075Z"
    }
   },
   "outputs": [
    {
     "name": "stdout",
     "output_type": "stream",
     "text": [
      "Performances prédites (total_points) pour le joueur: Femi Seriki : -0.013138286064603245\n",
      "Performances prédites (total_points) pour le joueur: Josh Brooking : -0.013138286064603245\n",
      "Performances prédites (total_points) pour le joueur: Radek Vítek : -0.013138286064603245\n",
      "Performances prédites (total_points) pour le joueur: Jack Hinshelwood : 2.9392647658118958\n",
      "Performances prédites (total_points) pour le joueur: Jadon Sancho : -0.07878916825308502\n",
      "Performances prédites (total_points) pour le joueur: Divock Origi : 0.16424948896928615\n",
      "Performances prédites (total_points) pour le joueur: Rhys Norrington-Davies : -0.013138286064603245\n",
      "Performances prédites (total_points) pour le joueur: Vitaly Janelt : 3.86989290659729\n",
      "Performances prédites (total_points) pour le joueur: Ionuț Radu : 0.15660605401796962\n",
      "Performances prédites (total_points) pour le joueur: Andre Brooks : 5.08548173248087\n",
      "Performances prédites (total_points) pour le joueur: Jack Grealish : 11.795280810315957\n",
      "Performances prédites (total_points) pour le joueur: Emil Krafth : 2.046179535687217\n",
      "Performances prédites (total_points) pour le joueur: Boubacar Traoré : 2.107163642587381\n",
      "Performances prédites (total_points) pour le joueur: Denis Franchi : -0.013138286064603245\n",
      "Performances prédites (total_points) pour le joueur: James Shea : 0.15660605401796962\n",
      "Performances prédites (total_points) pour le joueur: Curtis Jones : 4.104414308678988\n",
      "Performances prédites (total_points) pour le joueur: Devan Tanton : -0.013138286064603245\n",
      "Performances prédites (total_points) pour le joueur: Reece James : 1.2580390405757564\n",
      "Performances prédites (total_points) pour le joueur: Brandon Austin : -0.013138286064603245\n",
      "Performances prédites (total_points) pour le joueur: Anssumane Fati Vieira : 0.0938840329171221\n",
      "Performances prédites (total_points) pour le joueur: Robin Olsen : -0.013138286064603245\n",
      "Performances prédites (total_points) pour le joueur: Ben Osborn : 0.16424948896928615\n",
      "Performances prédites (total_points) pour le joueur: Amad Diallo : 0.15660605401796962\n",
      "Performances prédites (total_points) pour le joueur: Anthony Elanga : 3.37750114225939\n",
      "Performances prédites (total_points) pour le joueur: Oliver Norwood : 0.16424948896928615\n",
      "Performances prédites (total_points) pour le joueur: Harry Toffolo : 7.990304504136981\n",
      "Performances prédites (total_points) pour le joueur: Bernardo Veiga de Carvalho e Silva : 15.073579559038103\n",
      "Performances prédites (total_points) pour le joueur: Charlie Taylor : 1.6510655784144808\n",
      "Performances prédites (total_points) pour le joueur: Ivan Toney : -0.44006788835271565\n",
      "Performances prédites (total_points) pour le joueur: Ji-Soo Kim : -0.013138286064603245\n",
      "Performances prédites (total_points) pour le joueur: Nuno Varela Tavares : -0.013138286064603245\n",
      "Performances prédites (total_points) pour le joueur: Alex Murphy : -0.013138286064603245\n",
      "Performances prédites (total_points) pour le joueur: Eddie Nketiah : 0.2064883588697979\n",
      "Performances prédites (total_points) pour le joueur: Benoît Badiashile : 2.5505845270629526\n",
      "Performances prédites (total_points) pour le joueur: Emile Smith Rowe : 0.053926357709373714\n",
      "Performances prédites (total_points) pour le joueur: Jarell Quansah : 1.4781299413535225\n",
      "Performances prédites (total_points) pour le joueur: Ben Chilwell : -0.03446265288109162\n",
      "Performances prédites (total_points) pour le joueur: Philippe Coutinho Correia : 0.2654153119446892\n",
      "Performances prédites (total_points) pour le joueur: Tim Iroegbunam : 0.15660605401796962\n",
      "Performances prédites (total_points) pour le joueur: Andy Lonergan : -0.013138286064603245\n",
      "Performances prédites (total_points) pour le joueur: Carlos Baleba : 3.1775067203352965\n",
      "Performances prédites (total_points) pour le joueur: Pablo Sarabia : 8.25000359877795\n",
      "Performances prédites (total_points) pour le joueur: Kieffer Moore : 0.15660605401796962\n",
      "Performances prédites (total_points) pour le joueur: Wayne Hennessey : -0.013138286064603245\n",
      "Performances prédites (total_points) pour le joueur: Remi Matthews : 0.9645330101432269\n",
      "Performances prédites (total_points) pour le joueur: Ibrahima Konaté : 1.7964892839972173\n",
      "Performances prédites (total_points) pour le joueur: Joelinton Cássio Apolinário de Lira : 9.548992657636585\n",
      "Performances prédites (total_points) pour le joueur: Marcus Tavernier : 13.41966445112329\n",
      "Performances prédites (total_points) pour le joueur: Matthew Cox : -0.013138286064603245\n",
      "Performances prédites (total_points) pour le joueur: Manuel Akanji : 0.16424948896928615\n",
      "Performances prédites (total_points) pour le joueur: Matheus França de Oliveira : 0.16424948896928615\n",
      "Performances prédites (total_points) pour le joueur: Justin Hubner : -0.013138286064603245\n",
      "Performances prédites (total_points) pour le joueur: Lucas Tolentino Coelho de Lima : 3.3288501544020317\n",
      "Performances prédites (total_points) pour le joueur: Rasmus Højlund : 2.086400637443404\n",
      "Performances prédites (total_points) pour le joueur: Luca Koleosho : 0.16424948896928615\n",
      "Performances prédites (total_points) pour le joueur: Rayan Aït-Nouri : 0.15660605401796962\n",
      "Performances prédites (total_points) pour le joueur: Calum Chambers : -0.013138286064603245\n",
      "Performances prédites (total_points) pour le joueur: Ben Davies : 2.6842987084568106\n",
      "Performances prédites (total_points) pour le joueur: Emerson Palmieri dos Santos : 3.450126192356013\n",
      "Performances prédites (total_points) pour le joueur: Luis Díaz : 4.847538443698595\n",
      "Performances prédites (total_points) pour le joueur: Lawrence Vigouroux : -0.013138286064603245\n",
      "Performances prédites (total_points) pour le joueur: Jakub Moder : 0.15660605401796962\n",
      "Performances prédites (total_points) pour le joueur: Dara Costelloe : 0.15660605401796962\n",
      "Performances prédites (total_points) pour le joueur: Ashley Phillips : -0.013138286064603245\n",
      "Performances prédites (total_points) pour le joueur: John Stones : 0.8572256493254353\n",
      "Performances prédites (total_points) pour le joueur: Idrissa Gueye : 1.5782284275754406\n",
      "Performances prédites (total_points) pour le joueur: Harry Wilson : 11.450732188033838\n",
      "Performances prédites (total_points) pour le joueur: Marcus Bettinelli : -0.013138286064603245\n",
      "Performances prédites (total_points) pour le joueur: Malcolm Ebiowei : 0.15660605401796962\n",
      "Performances prédites (total_points) pour le joueur: Benjamin White : 2.8423279531372736\n",
      "Performances prédites (total_points) pour le joueur: Leigh Kavanagh : -0.013138286064603245\n",
      "Performances prédites (total_points) pour le joueur: Teden Mengi : 1.874870470011627\n",
      "Performances prédites (total_points) pour le joueur: Ezri Konsa Ngoyo : 5.518278954487499\n",
      "Performances prédites (total_points) pour le joueur: Luis Sinisterra : 1.7109290848436163\n",
      "Performances prédites (total_points) pour le joueur: Thomas Partey : 0.16424948896928615\n",
      "Performances prédites (total_points) pour le joueur: Jayden Luker : 0.15660605401796962\n",
      "Performances prédites (total_points) pour le joueur: Jamal Lewis : -0.013138286064603245\n",
      "Performances prédites (total_points) pour le joueur: Leon Bailey : 3.8466401176940717\n",
      "Performances prédites (total_points) pour le joueur: Jonny Evans : 1.2666004954555115\n",
      "Performances prédites (total_points) pour le joueur: Ethan Horvath : 0.15660605401796962\n",
      "Performances prédites (total_points) pour le joueur: Luke Plange : 0.15660605401796962\n",
      "Performances prédites (total_points) pour le joueur: Luke Shaw : 3.1614210551999586\n",
      "Performances prédites (total_points) pour le joueur: Mario Lemina : 2.4527167080229875\n",
      "Performances prédites (total_points) pour le joueur: Andi Zeqiri : 0.15660605401796962\n",
      "Performances prédites (total_points) pour le joueur: James Tarkowski : 5.626815282985023\n",
      "Performances prédites (total_points) pour le joueur: Kristoffer Ajer : 0.15660605401796962\n",
      "Performances prédites (total_points) pour le joueur: Brennan Johnson : 7.620499796115735\n",
      "Performances prédites (total_points) pour le joueur: Jake O'Brien : -0.013138286064603245\n",
      "Performances prédites (total_points) pour le joueur: Eddie Beach : -0.013138286064603245\n",
      "Performances prédites (total_points) pour le joueur: Ryan Sessegnon : 0.15660605401796962\n",
      "Performances prédites (total_points) pour le joueur: Justin Kluivert : 5.8845592391623995\n",
      "Performances prédites (total_points) pour le joueur: Viljami Sinisalo : -0.013138286064603245\n",
      "Performances prédites (total_points) pour le joueur: Pierre-Emile Højbjerg : 1.9990463455433158\n",
      "Performances prédites (total_points) pour le joueur: Lesley Ugochukwu : 0.15660605401796962\n",
      "Performances prédites (total_points) pour le joueur: Jadan Raymond : 0.15660605401796962\n",
      "Performances prédites (total_points) pour le joueur: Arnaut Danjuma Groeneveld : 0.053926357709373714\n",
      "Performances prédites (total_points) pour le joueur: Callum Hudson-Odoi : 0.16424948896928615\n",
      "Performances prédites (total_points) pour le joueur: Kieran Tierney : 0.15660605401796962\n",
      "Performances prédites (total_points) pour le joueur: Tim Ream : 0.15660605401796962\n",
      "Performances prédites (total_points) pour le joueur: Phil Foden : 5.4379446083901755\n",
      "Performances prédites (total_points) pour le joueur: Christian Eriksen : 0.2654153119446892\n",
      "Performances prédites (total_points) pour le joueur: Fábio Silva : 0.053926357709373714\n",
      "Performances prédites (total_points) pour le joueur: Alfie Whiteman : -0.013138286064603245\n",
      "Performances prédites (total_points) pour le joueur: James Tomkins : -0.013138286064603245\n",
      "Performances prédites (total_points) pour le joueur: William Osula : 0.8125327058863261\n",
      "Performances prédites (total_points) pour le joueur: Ollie Watkins : 5.1622465968905\n",
      "Performances prédites (total_points) pour le joueur: Gabriel dos Santos Magalhães : 3.6171324877096422\n",
      "Performances prédites (total_points) pour le joueur: Takehiro Tomiyasu : 0.15660605401796962\n",
      "Performances prédites (total_points) pour le joueur: Harrison Reed : 2.292118324816158\n",
      "Performances prédites (total_points) pour le joueur: Manor Solomon : 0.38442180011749943\n",
      "Performances prédites (total_points) pour le joueur: Marcus Oliveira Alencar : 0.15660605401796962\n",
      "Performances prédites (total_points) pour le joueur: Eric Bailly : -0.013138286064603245\n",
      "Performances prédites (total_points) pour le joueur: Hakim Ziyech : -0.03446265288109162\n",
      "Performances prédites (total_points) pour le joueur: Gianluca Scamacca : 0.08488620676333264\n",
      "Performances prédites (total_points) pour le joueur: Wilson Odobert : 7.033780562258087\n",
      "Performances prédites (total_points) pour le joueur: Jili Buyabu : -0.013138286064603245\n",
      "Performances prédites (total_points) pour le joueur: Benicio Baker-Boaitey : 0.15660605401796962\n",
      "Performances prédites (total_points) pour le joueur: Christian Nørgaard : 3.9976437229559507\n",
      "Performances prédites (total_points) pour le joueur: Sean Longstaff : 1.7964892839972173\n",
      "Performances prédites (total_points) pour le joueur: Pelly Ruddock Mpanzu : 0.15660605401796962\n",
      "Performances prédites (total_points) pour le joueur: Danny Ings : 0.516198742492004\n",
      "Performances prédites (total_points) pour le joueur: Donny van de Beek : 0.15660605401796962\n",
      "Performances prédites (total_points) pour le joueur: Giulian Biancone : -0.013138286064603245\n",
      "Performances prédites (total_points) pour le joueur: Albert Sambi Lokonga : 1.4567511824261345\n",
      "Performances prédites (total_points) pour le joueur: Luke McNally : -0.013138286064603245\n",
      "Performances prédites (total_points) pour le joueur: Kaoru Mitoma : 6.312592226390923\n",
      "Performances prédites (total_points) pour le joueur: Abdul Rahman Baba : -0.013138286064603245\n",
      "Performances prédites (total_points) pour le joueur: Dango Ouattara : 0.8020988733148061\n",
      "Performances prédites (total_points) pour le joueur: Daniel Jebbison : 0.16424948896928615\n",
      "Performances prédites (total_points) pour le joueur: Simon Adingra : 17.397506200896927\n",
      "Performances prédites (total_points) pour le joueur: Scott Twine : 0.16424948896928615\n",
      "Performances prédites (total_points) pour le joueur: Murillo Santiago Costa dos Santos : 2.3896968329497663\n",
      "Performances prédites (total_points) pour le joueur: Sergio Gómez : -0.013138286064603245\n",
      "Performances prédites (total_points) pour le joueur: Wataru Endo : 1.5116926022633252\n",
      "Performances prédites (total_points) pour le joueur: Danilo dos Santos de Oliveira : 2.0768119055202314\n",
      "Performances prédites (total_points) pour le joueur: David Raya Martin : 2.4676452516928484\n",
      "Performances prédites (total_points) pour le joueur: Jacob Murphy : 0.16424948896928615\n",
      "Performances prédites (total_points) pour le joueur: Reuell Walters : -0.013138286064603245\n",
      "Performances prédites (total_points) pour le joueur: Thomas Kaminski : 2.5112929142984663\n",
      "Performances prédites (total_points) pour le joueur: Amadou Diallo : 0.15660605401796962\n",
      "Performances prédites (total_points) pour le joueur: Jean-Philippe Mateta : 10.485297163885436\n",
      "Performances prédites (total_points) pour le joueur: Ben Pearson : 0.15660605401796962\n",
      "Performances prédites (total_points) pour le joueur: Bailey Peacock-Farrell : -0.013138286064603245\n",
      "Performances prédites (total_points) pour le joueur: Felipe Augusto de Almeida Monteiro : 1.0420838576813645\n",
      "Performances prédites (total_points) pour le joueur: William Saliba : 3.1744757539098396\n",
      "Performances prédites (total_points) pour le joueur: Michael Obafemi : 0.16424948896928615\n",
      "Performances prédites (total_points) pour le joueur: Ben Godfrey : 0.15660605401796962\n",
      "Performances prédites (total_points) pour le joueur: Victor da Silva : 2.4535528917461695\n",
      "Performances prédites (total_points) pour le joueur: André Tavares Gomes : 0.15660605401796962\n",
      "Performances prédites (total_points) pour le joueur: Destiny Udogie : 10.327716686562253\n",
      "Performances prédites (total_points) pour le joueur: Ryan Trevitt : 0.15660605401796962\n",
      "Performances prédites (total_points) pour le joueur: Dion Pereira : 0.15660605401796962\n",
      "Performances prédites (total_points) pour le joueur: Connor Roberts : 1.404395668628113\n",
      "Performances prédites (total_points) pour le joueur: Douglas Luiz Soares de Paulo : 6.224856726254113\n",
      "Performances prédites (total_points) pour le joueur: Mark Flekken : 2.2609523744368745\n",
      "Performances prédites (total_points) pour le joueur: Martin Dubravka : 3.344384536065549\n",
      "Performances prédites (total_points) pour le joueur: James McConnell : 0.15660605401796962\n",
      "Performances prédites (total_points) pour le joueur: Stefan Bajcetic : 0.15660605401796962\n",
      "Performances prédites (total_points) pour le joueur: Andreas Hoelgebaum Pereira : 9.943420594098843\n",
      "Performances prédites (total_points) pour le joueur: Joseph Johnson : -0.013138286064603245\n",
      "Performances prédites (total_points) pour le joueur: Marc Cucurella Saseta : 4.587497340639281\n",
      "Performances prédites (total_points) pour le joueur: João Palhinha Gonçalves : 7.293408621061364\n",
      "Performances prédites (total_points) pour le joueur: Bryan Gil Salvatierra : 1.8151866958617975\n",
      "Performances prédites (total_points) pour le joueur: Neco Williams : 9.390088374760701\n",
      "Performances prédites (total_points) pour le joueur: Harrison Ashby : -0.013138286064603245\n",
      "Performances prédites (total_points) pour le joueur: Billy Gilmour : 3.0039672547585607\n",
      "Performances prédites (total_points) pour le joueur: John Egan : 0.15660605401796962\n",
      "Performances prédites (total_points) pour le joueur: Mikkel Damsgaard : 1.8129733293915518\n",
      "Performances prédites (total_points) pour le joueur: Angelo Ogbonna : 1.6875659723953642\n",
      "Performances prédites (total_points) pour le joueur: Chris Basham : -0.013138286064603245\n",
      "Performances prédites (total_points) pour le joueur: Son Heung-min : 21.399111399312105\n",
      "Performances prédites (total_points) pour le joueur: Joe Gomez : 3.66904663655165\n",
      "Performances prédites (total_points) pour le joueur: Darren Randolph : -0.013138286064603245\n",
      "Performances prédites (total_points) pour le joueur: Ben Johnson : 0.15660605401796962\n",
      "Performances prédites (total_points) pour le joueur: Pedro Porro : 10.521153697293453\n",
      "Performances prédites (total_points) pour le joueur: Manuel Benson Hedilazio : 0.053926357709373714\n",
      "Performances prédites (total_points) pour le joueur: Levi Colwill : 3.275362519583269\n",
      "Performances prédites (total_points) pour le joueur: Jonathan Panzo : -0.013138286064603245\n",
      "Performances prédites (total_points) pour le joueur: Pablo Fornals Malla : 2.663995486156955\n",
      "Performances prédites (total_points) pour le joueur: Elijah Adebayo : 8.560060014552894\n",
      "Performances prédites (total_points) pour le joueur: Rico Henry : 0.15660605401796962\n",
      "Performances prédites (total_points) pour le joueur: Bobby Clark : 0.15660605401796962\n",
      "Performances prédites (total_points) pour le joueur: Flynn Downes : 0.16424948896928615\n",
      "Performances prédites (total_points) pour le joueur: Ben Greenwood : -0.013138286064603245\n",
      "Performances prédites (total_points) pour le joueur: Alfie Dorrington : -0.013138286064603245\n",
      "Performances prédites (total_points) pour le joueur: Joe Willock : 0.053926357709373714\n",
      "Performances prédites (total_points) pour le joueur: Javier Manquillo Gaitán : -0.013138286064603245\n",
      "Performances prédites (total_points) pour le joueur: Kobbie Mainoo : 0.15660605401796962\n",
      "Performances prédites (total_points) pour le joueur: Dominic Calvert-Lewin : 9.7018088852092\n",
      "Performances prédites (total_points) pour le joueur: Tommy Doyle : 0.15660605401796962\n",
      "Performances prédites (total_points) pour le joueur: Halil Dervişoğlu : 0.15660605401796962\n",
      "Performances prédites (total_points) pour le joueur: Gabriel Osho : 0.15660605401796962\n",
      "Performances prédites (total_points) pour le joueur: João Pedro Junqueira de Jesus : 6.66073861173264\n",
      "Performances prédites (total_points) pour le joueur: Vincent Angelini : -0.013138286064603245\n",
      "Performances prédites (total_points) pour le joueur: Kurt Zouma : 1.936382051306583\n",
      "Performances prédites (total_points) pour le joueur: Omar Richards : 0.15660605401796962\n",
      "Performances prédites (total_points) pour le joueur: Mark O’Mahony : 0.15660605401796962\n",
      "Performances prédites (total_points) pour le joueur: Iliman Ndiaye : 0.03344969484728858\n",
      "Performances prédites (total_points) pour le joueur: Elliot Thorpe : 0.15660605401796962\n",
      "Performances prédites (total_points) pour le joueur: Shea Charles : 0.15660605401796962\n",
      "Performances prédites (total_points) pour le joueur: Joe Rodon : -0.013138286064603245\n",
      "Performances prédites (total_points) pour le joueur: Neal Maupay : 4.3295364865061625\n",
      "Performances prédites (total_points) pour le joueur: Jordan Ayew : 2.0933361385088616\n",
      "Performances prédites (total_points) pour le joueur: Divin Mubama : 1.3507509713543062\n",
      "Performances prédites (total_points) pour le joueur: Nathaniel Phillips : -0.013138286064603245\n",
      "Performances prédites (total_points) pour le joueur: Dominik Szoboszlai : 2.3410081851512023\n",
      "Performances prédites (total_points) pour le joueur: Ryan Oné : 0.15660605401796962\n",
      "Performances prédites (total_points) pour le joueur: Jordan Clark : 0.16424948896928615\n",
      "Performances prédites (total_points) pour le joueur: Mason Mount : -0.07878916825308502\n",
      "Performances prédites (total_points) pour le joueur: Ellery Balcombe : -0.013138286064603245\n",
      "Performances prédites (total_points) pour le joueur: David Brooks : 0.16424948896928615\n",
      "Performances prédites (total_points) pour le joueur: Pascal Groß : 11.986451105690934\n",
      "Performances prédites (total_points) pour le joueur: John McGinn : 14.965142028238066\n",
      "Performances prédites (total_points) pour le joueur: Treymaurice Nyoni : 0.15660605401796962\n",
      "Performances prédites (total_points) pour le joueur: Tanguy Ndombélé Alvaro : 0.15660605401796962\n",
      "Performances prédites (total_points) pour le joueur: Ben Parkinson : 0.15660605401796962\n",
      "Performances prédites (total_points) pour le joueur: Jairo Riedewald : 0.15660605401796962\n",
      "Performances prédites (total_points) pour le joueur: Yoane Wissa : 4.051481256353644\n",
      "Performances prédites (total_points) pour le joueur: Reiss Nelson : 1.8377604052374628\n",
      "Performances prédites (total_points) pour le joueur: Ibrahim Sangaré : 0.16424948896928615\n",
      "Performances prédites (total_points) pour le joueur: Facundo Pellistri Rebollo : 1.4678051593393981\n",
      "Performances prédites (total_points) pour le joueur: James Hill : -0.013138286064603245\n",
      "Performances prédites (total_points) pour le joueur: Bruno Cavaco Jordão : 0.15660605401796962\n",
      "Performances prédites (total_points) pour le joueur: Kjell Scherpen : -0.013138286064603245\n",
      "Performances prédites (total_points) pour le joueur: Máximo Perrone : 0.15660605401796962\n",
      "Performances prédites (total_points) pour le joueur: Aleksandar Mitrović : -0.06079335152644786\n",
      "Performances prédites (total_points) pour le joueur: Kevin Schade : 0.053926357709373714\n",
      "Performances prédites (total_points) pour le joueur: Moussa Niakhaté : 2.8011476354802287\n",
      "Performances prédites (total_points) pour le joueur: Paul Dummett : -0.013138286064603245\n",
      "Performances prédites (total_points) pour le joueur: Sven Botman : 0.15660605401796962\n",
      "Performances prédites (total_points) pour le joueur: Issa Diop : 0.15660605401796962\n",
      "Performances prédites (total_points) pour le joueur: Aaron Ramsdale : 0.15660605401796962\n",
      "Performances prédites (total_points) pour le joueur: Tosin Adarabioyo : 15.276258748195692\n",
      "Performances prédites (total_points) pour le joueur: Trent Alexander-Arnold : 8.969307539543749\n",
      "Performances prédites (total_points) pour le joueur: Anass Zaroury : 0.15660605401796962\n",
      "Performances prédites (total_points) pour le joueur: Pervis Estupiñán : 0.16424948896928615\n",
      "Performances prédites (total_points) pour le joueur: Enso González : 0.16424948896928615\n",
      "Performances prédites (total_points) pour le joueur: Chiedozie Ogbene : 0.16424948896928615\n",
      "Performances prédites (total_points) pour le joueur: Harvey Elliott : 6.650009898248483\n",
      "Performances prédites (total_points) pour le joueur: Jack Robinson : 6.504731413199631\n",
      "Performances prédites (total_points) pour le joueur: Gabriel Martinelli Silva : 3.7153572624676143\n",
      "Performances prédites (total_points) pour le joueur: Wout Weghorst : 0.03344969484728858\n",
      "Performances prédites (total_points) pour le joueur: Jhon Durán : 0.16424948896928615\n",
      "Performances prédites (total_points) pour le joueur: Oscar Bobb : 0.15660605401796962\n",
      "Performances prédites (total_points) pour le joueur: Michail Antonio : 0.2654153119446892\n",
      "Performances prédites (total_points) pour le joueur: Jamie Donley : 0.4563676935338025\n",
      "Performances prédites (total_points) pour le joueur: Malang Sarr : 0.15660605401796962\n",
      "Performances prédites (total_points) pour le joueur: Ângelo Gabriel Borges Damaceno : 0.16424948896928615\n",
      "Performances prédites (total_points) pour le joueur: Micky van de Ven : 0.15660605401796962\n",
      "Performances prédites (total_points) pour le joueur: Adama Traoré : 0.16424948896928615\n",
      "Performances prédites (total_points) pour le joueur: Shola Shoretire : 0.15660605401796962\n",
      "Performances prédites (total_points) pour le joueur: Ademola Ola-Adebomi : 0.15660605401796962\n",
      "Performances prédites (total_points) pour le joueur: Lisandro Martínez : 0.15660605401796962\n",
      "Performances prédites (total_points) pour le joueur: Alex Mighten : 0.15660605401796962\n",
      "Performances prédites (total_points) pour le joueur: Bryan Mbeumo : -0.1321532504465746\n",
      "Performances prédites (total_points) pour le joueur: Nicolas Pépé : 0.16424948896928615\n",
      "Performances prédites (total_points) pour le joueur: Alexis Mac Allister : 0.2654153119446892\n",
      "Performances prédites (total_points) pour le joueur: David Ozoh : 0.6276887273522082\n",
      "Performances prédites (total_points) pour le joueur: Sydie Peck : 0.6276887273522082\n",
      "Performances prédites (total_points) pour le joueur: Omari Kellyman : 0.15660605401796962\n",
      "Performances prédites (total_points) pour le joueur: Youri Tielemans : 1.827397847813432\n",
      "Performances prédites (total_points) pour le joueur: Remo Freuler : 0.16424948896928615\n",
      "Performances prédites (total_points) pour le joueur: Illia Zabarnyi : 6.383932615115948\n",
      "Performances prédites (total_points) pour le joueur: Karl Hein : -0.013138286064603245\n",
      "Performances prédites (total_points) pour le joueur: Aaron Connolly : 0.15660605401796962\n",
      "Performances prédites (total_points) pour le joueur: Dean Henderson : 0.15660605401796962\n",
      "Performances prédites (total_points) pour le joueur: Jay Rodriguez : 7.206896665125917\n",
      "Performances prédites (total_points) pour le joueur: Marcos Senesi : 15.251077300287578\n",
      "Performances prédites (total_points) pour le joueur: Granit Xhaka : 0.08488620676333264\n",
      "Performances prédites (total_points) pour le joueur: James Trafford : 9.307807341343855\n",
      "Performances prédites (total_points) pour le joueur: Dan Burn : 0.15660605401796962\n",
      "Performances prédites (total_points) pour le joueur: Saïd Benrahma : 3.1551286691211646\n",
      "Performances prédites (total_points) pour le joueur: Brandon Aguilera Zamora : 0.15660605401796962\n",
      "Performances prédites (total_points) pour le joueur: Tyler Onyango : 0.15660605401796962\n",
      "Performances prédites (total_points) pour le joueur: Joe Taylor : 0.15660605401796962\n",
      "Performances prédites (total_points) pour le joueur: Gustavo Hamer : 9.029082203878337\n",
      "Performances prédites (total_points) pour le joueur: Karl Darlow : -0.013138286064603245\n",
      "Performances prédites (total_points) pour le joueur: Saman Ghoddos : 2.724802619232463\n",
      "Performances prédites (total_points) pour le joueur: Joachim Andersen : 3.848748518495953\n",
      "Performances prédites (total_points) pour le joueur: Alfie Gilchrist : -0.013138286064603245\n",
      "Performances prédites (total_points) pour le joueur: Allan Campbell : 0.16424948896928615\n",
      "Performances prédites (total_points) pour le joueur: Carlos Mendes Gomes : 0.15660605401796962\n",
      "Performances prédites (total_points) pour le joueur: Pedro Lomba Neto : 0.516198742492004\n",
      "Performances prédites (total_points) pour le joueur: Luc De Fougerolles : -0.013138286064603245\n",
      "Performances prédites (total_points) pour le joueur: Dane Scarlett : 0.15660605401796962\n",
      "Performances prédites (total_points) pour le joueur: Lucas Digne : 5.098202635740067\n",
      "Performances prédites (total_points) pour le joueur: Enzo Fernández : 4.2840372993439555\n",
      "Performances prédites (total_points) pour le joueur: Matt Targett : 0.15660605401796962\n",
      "Performances prédites (total_points) pour le joueur: Demarai Gray : 0.053926357709373714\n",
      "Performances prédites (total_points) pour le joueur: Matthew Whittingham : 0.15660605401796962\n",
      "Performances prédites (total_points) pour le joueur: Stefan Ortega Moreno : -0.013138286064603245\n",
      "Performances prédites (total_points) pour le joueur: Sam Johnstone : 0.4563676935338025\n",
      "Performances prédites (total_points) pour le joueur: Zack Nelson : 0.15660605401796962\n",
      "Performances prédites (total_points) pour le joueur: Emiliano Buendía Stati : 0.2654153119446892\n",
      "Performances prédites (total_points) pour le joueur: Alexandre Moreno Lopera : 1.3010384483281137\n",
      "Performances prédites (total_points) pour le joueur: Djordje Petrovic : 1.1470402621625333\n",
      "Performances prédites (total_points) pour le joueur: Japhet Tanganga : -0.013138286064603245\n",
      "Performances prédites (total_points) pour le joueur: Marvelous Nakamba : 2.082644046791673\n",
      "Performances prédites (total_points) pour le joueur: Nathan Collins : 0.15660605401796962\n",
      "Performances prédites (total_points) pour le joueur: Leandro Trossard : 2.2326838999313803\n",
      "Performances prédites (total_points) pour le joueur: Antony Matheus dos Santos : 5.0994617151327954\n",
      "Performances prédites (total_points) pour le joueur: Trevoh Chalobah : 0.15660605401796962\n",
      "Performances prédites (total_points) pour le joueur: Luke Cundle : 0.15660605401796962\n",
      "Performances prédites (total_points) pour le joueur: Lukasz Fabianski : 2.2336609081977805\n",
      "Performances prédites (total_points) pour le joueur: Tino Livramento : 2.3298067165220786\n",
      "Performances prédites (total_points) pour le joueur: Fodé Ballo-Touré : 1.1891853616205372\n",
      "Performances prédites (total_points) pour le joueur: Aymeric Laporte : 0.16424948896928615\n",
      "Performances prédites (total_points) pour le joueur: Tyler Adams : 0.16424948896928615\n",
      "Performances prédites (total_points) pour le joueur: Kieran Trippier : 3.7752317893031586\n",
      "Performances prédites (total_points) pour le joueur: Richarlison de Andrade : 18.48123443920375\n",
      "Performances prédites (total_points) pour le joueur: Norberto Bercique Gomes Betuncal : 2.6180072288716554\n",
      "Performances prédites (total_points) pour le joueur: John McAtee : 0.15660605401796962\n",
      "Performances prédites (total_points) pour le joueur: Jayden Bogle : 6.637986816453155\n",
      "Performances prédites (total_points) pour le joueur: Jason Steele : 0.15660605401796962\n",
      "Performances prédites (total_points) pour le joueur: Nick Pope : -0.03446265288109162\n",
      "Performances prédites (total_points) pour le joueur: Kai Havertz : 4.745444492719616\n",
      "Performances prédites (total_points) pour le joueur: Wesley Moraes Ferreira da Silva : 0.16424948896928615\n",
      "Performances prédites (total_points) pour le joueur: Vladimír Coufal : 3.9565357295262475\n",
      "Performances prédites (total_points) pour le joueur: Marcus Rashford : 0.5693656250039422\n",
      "Performances prédites (total_points) pour le joueur: Lewis O'Brien : 0.16424948896928615\n",
      "Performances prédites (total_points) pour le joueur: Evan Ferguson : 3.727063018091511\n",
      "Performances prédites (total_points) pour le joueur: Tom McGill : -0.013138286064603245\n",
      "Performances prédites (total_points) pour le joueur: Yves Bissouma : 7.624420157155025\n",
      "Performances prédites (total_points) pour le joueur: João Victor Gomes da Silva : 2.8337259308343166\n",
      "Performances prédites (total_points) pour le joueur: Abdoulaye Doucouré : 12.229143180854964\n",
      "Performances prédites (total_points) pour le joueur: Ederson Santana de Moraes : 1.726650299409034\n",
      "Performances prédites (total_points) pour le joueur: Virgil van Dijk : 2.815385345819582\n",
      "Performances prédites (total_points) pour le joueur: Willy Boly : 1.9886145007548586\n",
      "Performances prédites (total_points) pour le joueur: Mohammed Kudus : 3.440578033281038\n",
      "Performances prédites (total_points) pour le joueur: Scott McTominay : 4.993380813121851\n",
      "Performances prédites (total_points) pour le joueur: Andrew Omobamidele : 0.15660605401796962\n",
      "Performances prédites (total_points) pour le joueur: Rico Lewis : 0.15660605401796962\n",
      "Performances prédites (total_points) pour le joueur: Alejandro Garnacho : 6.807192746059095\n",
      "Performances prédites (total_points) pour le joueur: Jean-Ricner Bellegarde : 0.7910448964015424\n",
      "Performances prédites (total_points) pour le joueur: Jean-Philippe Gbamin : 0.15660605401796962\n",
      "Performances prédites (total_points) pour le joueur: Lewis Dobbin : 6.407436819121725\n",
      "Performances prédites (total_points) pour le joueur: Riyad Mahrez : -0.3812841251396219\n",
      "Performances prédites (total_points) pour le joueur: Matija Šarkić : -0.013138286064603245\n",
      "Performances prédites (total_points) pour le joueur: Auston Trusty : 5.350945919080607\n",
      "Performances prédites (total_points) pour le joueur: Anthony Gordon : 4.763354202468005\n",
      "Performances prédites (total_points) pour le joueur: Emmanuel Dennis : 0.16424948896928615\n",
      "Performances prédites (total_points) pour le joueur: Nathaniel Clyne : 1.9904105341887384\n",
      "Performances prédites (total_points) pour le joueur: Thiago Alcántara do Nascimento : 0.16424948896928615\n",
      "Performances prédites (total_points) pour le joueur: Ethan Brierley : 0.15660605401796962\n",
      "Performances prédites (total_points) pour le joueur: Ryan Giles : 2.791473815128331\n",
      "Performances prédites (total_points) pour le joueur: Admiral Muskwe : 0.15660605401796962\n",
      "Performances prédites (total_points) pour le joueur: Edson Álvarez Velázquez : 0.16424948896928615\n",
      "Performances prédites (total_points) pour le joueur: Jakub Kiwior : 0.15660605401796962\n",
      "Performances prédites (total_points) pour le joueur: Lloyd Kelly : 0.15660605401796962\n",
      "Performances prédites (total_points) pour le joueur: Vitalii Mykolenko : 8.348616797259798\n",
      "Performances prédites (total_points) pour le joueur: Aidan Francis-Clarke : -0.013138286064603245\n",
      "Performances prédites (total_points) pour le joueur: Emerson Leite de Souza Junior : 0.15660605401796962\n",
      "Performances prédites (total_points) pour le joueur: Joël Veltman : 0.15660605401796962\n",
      "Performances prédites (total_points) pour le joueur: Miguel Almirón Rejala : 4.4758454466125555\n",
      "Performances prédites (total_points) pour le joueur: Bobby Thomas : -0.013138286064603245\n",
      "Performances prédites (total_points) pour le joueur: Yago de Santiago Alonso : 0.15660605401796962\n",
      "Performances prédites (total_points) pour le joueur: Charlie Goode : -0.013138286064603245\n",
      "Performances prédites (total_points) pour le joueur: Luke Chambers : -0.013138286064603245\n",
      "Performances prédites (total_points) pour le joueur: Alejo Véliz : -0.03446265288109162\n",
      "Performances prédites (total_points) pour le joueur: Kepa Arrizabalaga : 0.16424948896928615\n",
      "Performances prédites (total_points) pour le joueur: Mark Travers : -0.013138286064603245\n",
      "Performances prédites (total_points) pour le joueur: Leo Castledine : 0.15660605401796962\n",
      "Performances prédites (total_points) pour le joueur: Tawanda Chirewa : 0.15660605401796962\n",
      "Performances prédites (total_points) pour le joueur: Guglielmo Vicario : 2.303922028564048\n",
      "Performances prédites (total_points) pour le joueur: Isaac Hayden : 0.15660605401796962\n",
      "Performances prédites (total_points) pour le joueur: Mike Trésor : 1.2580390405757564\n",
      "Performances prédites (total_points) pour le joueur: Jamaal Lascelles : 2.094246580739282\n",
      "Performances prédites (total_points) pour le joueur: Andrew Robertson : 0.0938840329171221\n",
      "Performances prédites (total_points) pour le joueur: Giovani Lo Celso : 2.1627695686721164\n",
      "Performances prédites (total_points) pour le joueur: Jeffrey Schlupp : 3.5935285326494424\n",
      "Performances prédites (total_points) pour le joueur: Alex Iwobi : 8.951009259397356\n",
      "Performances prédites (total_points) pour le joueur: Cody Gakpo : 1.810399178753848\n",
      "Performances prédites (total_points) pour le joueur: Nicolas Jackson : 2.9296803082793397\n",
      "Performances prédites (total_points) pour le joueur: Nikola Vlašić : 0.15660605401796962\n",
      "Performances prédites (total_points) pour le joueur: Adam Lallana : 4.731975081858157\n",
      "Performances prédites (total_points) pour le joueur: Hugo Bueno López : 2.347080992637203\n",
      "Performances prédites (total_points) pour le joueur: Alphonse Areola : 0.15660605401796962\n",
      "Performances prédites (total_points) pour le joueur: Alisson Ramses Becker : 2.766194413346679\n",
      "Performances prédites (total_points) pour le joueur: Pape Matar Sarr : 6.042043172776084\n",
      "Performances prédites (total_points) pour le joueur: Aribim Pepple : 0.15660605401796962\n",
      "Performances prédites (total_points) pour le joueur: Matt Doherty : 1.7027613091623868\n",
      "Performances prédites (total_points) pour le joueur: Gonçalo Manuel Ganchinho Guedes : -0.03446265288109162\n",
      "Performances prédites (total_points) pour le joueur: Ellis Simms : 0.15660605401796962\n",
      "Performances prédites (total_points) pour le joueur: Jonathan Castro Otto : 0.15660605401796962\n",
      "Performances prédites (total_points) pour le joueur: Taiwo Awoniyi : 0.0938840329171221\n",
      "Performances prédites (total_points) pour le joueur: Mads Roerslev Rasmussen : 0.15660605401796962\n",
      "Performances prédites (total_points) pour le joueur: Calvin Bassey : 5.663193466531812\n",
      "Performances prédites (total_points) pour le joueur: James Ward-Prowse : 4.827231368092926\n",
      "Performances prédites (total_points) pour le joueur: Konstantinos Tsimikas : 3.119181292877363\n",
      "Performances prédites (total_points) pour le joueur: Mahmoud Dahoud : 1.2130853595671525\n",
      "Performances prédites (total_points) pour le joueur: Ian Maatsen : 1.9632615032765426\n",
      "Performances prédites (total_points) pour le joueur: Ryan Gravenberch : 2.329672193176814\n",
      "Performances prédites (total_points) pour le joueur: Sofyan Amrabat : 3.153155098097976\n",
      "Performances prédites (total_points) pour le joueur: Max Lowe : 1.8301169702861462\n",
      "Performances prédites (total_points) pour le joueur: Joe Whitworth : -0.013138286064603245\n",
      "Performances prédites (total_points) pour le joueur: Thomas Cannon : 0.15660605401796962\n",
      "Performances prédites (total_points) pour le joueur: Hannibal Mejbri : 0.15660605401796962\n",
      "Performances prédites (total_points) pour le joueur: Boubacar Kamara : 6.368932966780158\n",
      "Performances prédites (total_points) pour le joueur: Andrey Nascimento dos Santos : 0.15660605401796962\n",
      "Performances prédites (total_points) pour le joueur: Loris Karius : -0.013138286064603245\n",
      "Performances prédites (total_points) pour le joueur: Joshua Duffus : 0.15660605401796962\n",
      "Performances prédites (total_points) pour le joueur: Bart Verbruggen : 2.2609523744368745\n",
      "Performances prédites (total_points) pour le joueur: Tahith Chong : 0.9553569685823898\n",
      "Performances prédites (total_points) pour le joueur: Morgan Sanson : 0.15660605401796962\n",
      "Performances prédites (total_points) pour le joueur: Bernd Leno : 10.076520566743175\n",
      "Performances prédites (total_points) pour le joueur: Josh Dasilva : 0.15660605401796962\n",
      "Performances prédites (total_points) pour le joueur: Josh Bowler : 0.15660605401796962\n",
      "Performances prédites (total_points) pour le joueur: Bashir Humphreys : -0.013138286064603245\n",
      "Performances prédites (total_points) pour le joueur: Oleksandr Zinchenko : 2.8055060279468242\n",
      "Performances prédites (total_points) pour le joueur: Tyrese Francois : 0.15660605401796962\n",
      "Performances prédites (total_points) pour le joueur: Callum Wilson : 7.673158443628759\n",
      "Performances prédites (total_points) pour le joueur: Allan Saint-Maximin : 0.08488620676333264\n",
      "Performances prédites (total_points) pour le joueur: Han-Noah Massengo : 0.16424948896928615\n",
      "Performances prédites (total_points) pour le joueur: Zeki Amdouni : 4.546976754695083\n",
      "Performances prédites (total_points) pour le joueur: Steven Alzate : 0.15660605401796962\n",
      "Performances prédites (total_points) pour le joueur: Jóhann Berg Gudmundsson : 1.9101902367303716\n",
      "Performances prédites (total_points) pour le joueur: Tim Krul : 0.15660605401796962\n",
      "Performances prédites (total_points) pour le joueur: Keinan Davis : 0.16424948896928615\n",
      "Performances prédites (total_points) pour le joueur: Bruno Borges Fernandes : 7.730909756369478\n",
      "Performances prédites (total_points) pour le joueur: Hamed Traorè : 0.15660605401796962\n",
      "Performances prédites (total_points) pour le joueur: Jeremy Sarmiento Morante : 0.15660605401796962\n",
      "Performances prédites (total_points) pour le joueur: Issa Kaboré : -0.013138286064603245\n",
      "Performances prédites (total_points) pour le joueur: Sam Surridge : 0.15660605401796962\n",
      "Performances prédites (total_points) pour le joueur: Reece Burke : -0.013138286064603245\n",
      "Performances prédites (total_points) pour le joueur: Jesurun Rak-Sakyi : 0.15660605401796962\n",
      "Performances prédites (total_points) pour le joueur: Clément Lenglet : 0.15660605401796962\n",
      "Performances prédites (total_points) pour le joueur: Gabriel Fernando de Jesus : 4.4966740353204795\n",
      "Performances prédites (total_points) pour le joueur: Hannes Delcroix : -0.013138286064603245\n",
      "Performances prédites (total_points) pour le joueur: Dara O'Shea : 2.1439883765958463\n",
      "Performances prédites (total_points) pour le joueur: Eric Dier : 0.15660605401796962\n",
      "Performances prédites (total_points) pour le joueur: Joel Ward : 1.921830785821132\n",
      "Performances prédites (total_points) pour le joueur: Harvey Barnes : 0.042975102821316995\n",
      "Performances prédites (total_points) pour le joueur: Mateo Kovačić : 3.106591371262834\n",
      "Performances prédites (total_points) pour le joueur: Ashley Young : 1.336481024487487\n",
      "Performances prédites (total_points) pour le joueur: Aaron Cresswell : 1.2110649541431255\n",
      "Performances prédites (total_points) pour le joueur: Sergio Reguilón : 6.169559706448755\n",
      "Performances prédites (total_points) pour le joueur: Morgan Gibbs-White : 3.3905767780537848\n",
      "Performances prédites (total_points) pour le joueur: Raphaël Varane : 0.16424948896928615\n",
      "Performances prédites (total_points) pour le joueur: Igor Julio dos Santos de Paulo : 2.4844583915577823\n",
      "Performances prédites (total_points) pour le joueur: Brandon Williams : -0.013138286064603245\n",
      "Performances prédites (total_points) pour le joueur: Hugo Lloris : 0.16424948896928615\n",
      "Performances prédites (total_points) pour le joueur: Fabian Schär : 2.7739916178915514\n",
      "Performances prédites (total_points) pour le joueur: Orel Mangala : 2.177498506808545\n",
      "Performances prédites (total_points) pour le joueur: Frederico Rodrigues de Paula Santos : 0.16424948896928615\n",
      "Performances prédites (total_points) pour le joueur: Marek Rodák : -0.013138286064603245\n",
      "Performances prédites (total_points) pour le joueur: Shandon Baptiste : 2.6603440413398274\n",
      "Performances prédites (total_points) pour le joueur: Michał Karbownik : -0.013138286064603245\n",
      "Performances prédites (total_points) pour le joueur: Mason Burstow : 0.15660605401796962\n",
      "Performances prédites (total_points) pour le joueur: André Onana : 2.3495005113608842\n",
      "Performances prédites (total_points) pour le joueur: Julián Álvarez : 7.4130554426068445\n",
      "Performances prédites (total_points) pour le joueur: Maxwel Cornet : 0.053926357709373714\n",
      "Performances prédites (total_points) pour le joueur: Terence Kongolo : -0.013138286064603245\n",
      "Performances prédites (total_points) pour le joueur: Caoimhin Kelleher : -0.013138286064603245\n",
      "Performances prédites (total_points) pour le joueur: Ivan Neves Abreu Cavaleiro : 0.16424948896928615\n",
      "Performances prédites (total_points) pour le joueur: Chris Mepham : 0.15660605401796962\n",
      "Performances prédites (total_points) pour le joueur: Facundo Buonanotte : 0.32964471804047873\n",
      "Performances prédites (total_points) pour le joueur: Samuel Bastien : 0.16424948896928615\n",
      "Performances prédites (total_points) pour le joueur: John Fleck : 0.16424948896928615\n",
      "Performances prédites (total_points) pour le joueur: Rodrigo Muniz Carvalho : 0.15660605401796962\n",
      "Performances prédites (total_points) pour le joueur: Arijanet Muric : 0.15660605401796962\n",
      "Performances prédites (total_points) pour le joueur: Josh Cullen : 0.16424948896928615\n",
      "Performances prédites (total_points) pour le joueur: Thomas Strakosha : -0.013138286064603245\n",
      "Performances prédites (total_points) pour le joueur: Fábio Ferreira Vieira : -0.03446265288109162\n",
      "Performances prédites (total_points) pour le joueur: Michael Ndiweni : 0.15660605401796962\n",
      "Performances prédites (total_points) pour le joueur: Cheick Doucouré : 0.16424948896928615\n",
      "Performances prédites (total_points) pour le joueur: Joe Hodge : 0.15660605401796962\n",
      "Performances prédites (total_points) pour le joueur: Omari Forson : 0.15660605401796962\n",
      "Performances prédites (total_points) pour le joueur: Joel Matip : 0.16424948896928615\n",
      "Performances prédites (total_points) pour le joueur: Callum Scanlon : -0.013138286064603245\n",
      "Performances prédites (total_points) pour le joueur: Davinson Sánchez : 0.15660605401796962\n",
      "Performances prédites (total_points) pour le joueur: Craig Dawson : 3.7412126265431804\n",
      "Performances prédites (total_points) pour le joueur: Toti António Gomes : 2.699708524105321\n",
      "Performances prédites (total_points) pour le joueur: Nayef Aguerd : 1.9017242541476964\n",
      "Performances prédites (total_points) pour le joueur: Diogo Dalot Teixeira : 6.221008081975354\n",
      "Performances prédites (total_points) pour le joueur: Amadou Onana : 2.280268428374313\n",
      "Performances prédites (total_points) pour le joueur: Adrián San Miguel del Castillo : -0.013138286064603245\n",
      "Performances prédites (total_points) pour le joueur: Youssef Ramalho Chermiti : 0.16424948896928615\n",
      "Performances prédites (total_points) pour le joueur: Bukayo Saka : 3.5320305708872697\n",
      "Performances prédites (total_points) pour le joueur: Ben Mee : 4.249755956675218\n",
      "Performances prédites (total_points) pour le joueur: Joe Worrall : 0.15660605401796962\n",
      "Performances prédites (total_points) pour le joueur: Diego Carlos Santos Silva : 7.327051983706085\n",
      "Performances prédites (total_points) pour le joueur: Lewis Cook : 10.83127524368588\n",
      "Performances prédites (total_points) pour le joueur: Bendegúz Bolla : -0.013138286064603245\n",
      "Performances prédites (total_points) pour le joueur: Malo Gusto : 0.15660605401796962\n",
      "Performances prédites (total_points) pour le joueur: Amari'i Bell : 2.4522628374960367\n",
      "Performances prédites (total_points) pour le joueur: Dele Alli : 0.16424948896928615\n",
      "Performances prédites (total_points) pour le joueur: Noni Madueke : 0.053926357709373714\n",
      "Performances prédites (total_points) pour le joueur: Milos Kerkez : 6.635236936905264\n",
      "Performances prédites (total_points) pour le joueur: Luke Berry : 0.15660605401796962\n",
      "Performances prédites (total_points) pour le joueur: Kortney Hause : -0.013138286064603245\n",
      "Performances prédites (total_points) pour le joueur: Will Hughes : 4.6602199605466925\n",
      "Performances prédites (total_points) pour le joueur: Alexander Isak : 1.910272252451249\n",
      "Performances prédites (total_points) pour le joueur: John-Kymani Gordon : 0.15660605401796962\n",
      "Performances prédites (total_points) pour le joueur: Cheikhou Kouyaté : 3.0853085993572384\n",
      "Performances prédites (total_points) pour le joueur: Cédric Alves Soares : -0.013138286064603245\n",
      "Performances prédites (total_points) pour le joueur: Pierre-Emerick Aubameyang : 0.0938840329171221\n",
      "Performances prédites (total_points) pour le joueur: Garang Kuol : 0.15660605401796962\n",
      "Performances prédites (total_points) pour le joueur: Tom Davies : 0.16424948896928615\n",
      "Performances prédites (total_points) pour le joueur: Antwoine Hackford : 0.15660605401796962\n",
      "Performances prédites (total_points) pour le joueur: Charles Sagoe : 0.15660605401796962\n",
      "Performances prédites (total_points) pour le joueur: Ethan Pinnock : 2.3994332155205678\n",
      "Performances prédites (total_points) pour le joueur: Jay Stansfield : 0.15660605401796962\n",
      "Performances prédites (total_points) pour le joueur: Ryan Yates : 2.611386132414495\n",
      "Performances prédites (total_points) pour le joueur: Nicolò Zaniolo : -0.03446265288109162\n",
      "Performances prédites (total_points) pour le joueur: Frank Onyeka : 2.8891255051095674\n",
      "Performances prédites (total_points) pour le joueur: Naouirou Ahamada : 0.2805948108386968\n",
      "Performances prédites (total_points) pour le joueur: Philip Billing : 9.01581624726433\n",
      "Performances prédites (total_points) pour le joueur: Gabriel Słonina : -0.013138286064603245\n",
      "Performances prédites (total_points) pour le joueur: Marc Guéhi : 2.2727616506836514\n",
      "Performances prédites (total_points) pour le joueur: Seamus Coleman : 0.15660605401796962\n",
      "Performances prédites (total_points) pour le joueur: Diogo Teixeira da Silva : -0.45305107368054925\n",
      "Performances prédites (total_points) pour le joueur: Matthew Dibley-Dias : 0.15660605401796962\n",
      "Performances prédites (total_points) pour le joueur: James McAtee : 9.988615508219125\n",
      "Performances prédites (total_points) pour le joueur: Valintino Adedokun : -0.013138286064603245\n",
      "Performances prédites (total_points) pour le joueur: Erling Haaland : -0.6451197347353095\n",
      "Performances prédites (total_points) pour le joueur: Jack Cork : 0.16424948896928615\n",
      "Performances prédites (total_points) pour le joueur: Anthony Martial : 4.383903201253204\n",
      "Performances prédites (total_points) pour le joueur: Danny Welbeck : 0.2654153119446892\n",
      "Performances prédites (total_points) pour le joueur: Carlos Vinícius Alves Morais : 6.242204033396034\n",
      "Performances prédites (total_points) pour le joueur: Olu Aina : 0.15660605401796962\n",
      "Performances prédites (total_points) pour le joueur: Conor Bradley : -0.013138286064603245\n",
      "Performances prédites (total_points) pour le joueur: Rodrigo Hernandez : 6.194845018109769\n",
      "Performances prédites (total_points) pour le joueur: Victor Lindelöf : 0.15660605401796962\n",
      "Performances prédites (total_points) pour le joueur: Kevin De Bruyne : -0.8247687998406481\n",
      "Performances prédites (total_points) pour le joueur: George Shelvey : -0.013138286064603245\n",
      "Performances prédites (total_points) pour le joueur: Lucas Bergström : -0.013138286064603245\n",
      "Performances prédites (total_points) pour le joueur: Yasin Ayari : 0.15660605401796962\n",
      "Performances prédites (total_points) pour le joueur: Lewis Miley : 3.199334562106312\n",
      "Performances prédites (total_points) pour le joueur: Roméo Lavia : 0.16424948896928615\n",
      "Performances prédites (total_points) pour le joueur: Fred Onyedinma : 0.16424948896928615\n",
      "Performances prédites (total_points) pour le joueur: Gustavo Henrique Furtado Scarpa : 0.15660605401796962\n",
      "Performances prédites (total_points) pour le joueur: Aaron Hickey : 0.15660605401796962\n",
      "Performances prédites (total_points) pour le joueur: Mads Bidstrup : 0.15660605401796962\n",
      "Performances prédites (total_points) pour le joueur: Solly March : 0.08488620676333264\n",
      "Performances prédites (total_points) pour le joueur: David Datro Fofana : 0.16424948896928615\n",
      "Performances prédites (total_points) pour le joueur: Declan Rice : 2.875575472337467\n",
      "Performances prédites (total_points) pour le joueur: Joe Hugill : 0.15660605401796962\n",
      "Performances prédites (total_points) pour le joueur: Kacper Kozłowski : 0.15660605401796962\n",
      "Performances prédites (total_points) pour le joueur: Joe Rothwell : 1.3441244594388035\n",
      "Performances prédites (total_points) pour le joueur: Vini de Souza Costa : 5.513283807645715\n",
      "Performances prédites (total_points) pour le joueur: Ben Doak : 0.15660605401796962\n",
      "Performances prédites (total_points) pour le joueur: Sander Berge : 3.3874544785021286\n",
      "Performances prédites (total_points) pour le joueur: Fabio Henrique Tavares : 0.16424948896928615\n",
      "Performances prédites (total_points) pour le joueur: Louie Marsh : 0.15660605401796962\n",
      "Performances prédites (total_points) pour le joueur: Oliver McBurnie : -0.03446265288109162\n",
      "Performances prédites (total_points) pour le joueur: Mathias Jensen : -0.03446265288109162\n",
      "Performances prédites (total_points) pour le joueur: Matt Macey : -0.013138286064603245\n",
      "Performances prédites (total_points) pour le joueur: Wesley Fofana : 0.15660605401796962\n",
      "Performances prédites (total_points) pour le joueur: Ryan Fredericks : 0.15660605401796962\n",
      "Performances prédites (total_points) pour le joueur: Max Kilman : 3.069138263011992\n",
      "Performances prédites (total_points) pour le joueur: Nathan Aké : 3.850135938145035\n",
      "Performances prédites (total_points) pour le joueur: Lewis Hall : 1.6875659723953642\n",
      "Performances prédites (total_points) pour le joueur: Deivid Washington de Souza Eugênio : 0.15660605401796962\n",
      "Performances prédites (total_points) pour le joueur: Elliot Anderson : 0.15660605401796962\n",
      "Performances prédites (total_points) pour le joueur: Oliwier Zych : -0.013138286064603245\n",
      "Performances prédites (total_points) pour le joueur: Mykhailo Mudryk : 6.945774030437458\n",
      "Performances prédites (total_points) pour le joueur: Siriki Dembélé : 0.15660605401796962\n",
      "Performances prédites (total_points) pour le joueur: Dejan Kulusevski : 8.27374333928026\n",
      "Performances prédites (total_points) pour le joueur: Daniel Castelo Podence : 0.053926357709373714\n",
      "Performances prédites (total_points) pour le joueur: Conor Gallagher : 4.71430205714169\n",
      "Performances prédites (total_points) pour le joueur: Eberechi Eze : 0.08488620676333264\n",
      "Performances prédites (total_points) pour le joueur: Jonjo Shelvey : 0.16424948896928615\n",
      "Performances prédites (total_points) pour le joueur: Thilo Kehrer : 0.15660605401796962\n",
      "Performances prédites (total_points) pour le joueur: Mackenzie Hunt : 0.15660605401796962\n",
      "Performances prédites (total_points) pour le joueur: Ameen Al-Dakhil : -0.013138286064603245\n",
      "Performances prédites (total_points) pour le joueur: Hwang Ui-jo : 0.15660605401796962\n",
      "Performances prédites (total_points) pour le joueur: Julio Enciso : 0.38442180011749943\n",
      "Performances prédites (total_points) pour le joueur: Steven Benda : -0.013138286064603245\n",
      "Performances prédites (total_points) pour le joueur: Norberto Murara Neto : 6.254459757186532\n",
      "Performances prédites (total_points) pour le joueur: Jérémy Doku : -0.07878916825308502\n",
      "Performances prédites (total_points) pour le joueur: Richie Laryea : 0.15660605401796962\n",
      "Performances prédites (total_points) pour le joueur: Antonee Robinson : 6.857716203865839\n",
      "Performances prédites (total_points) pour le joueur: Raúl Jiménez : 15.145423493513514\n",
      "Performances prédites (total_points) pour le joueur: Louie Watson : 0.15660605401796962\n",
      "Performances prédites (total_points) pour le joueur: Hwang Hee-chan : 3.271587780555063\n",
      "Performances prédites (total_points) pour le joueur: Willian Borges da Silva : 10.299310673522672\n",
      "Performances prédites (total_points) pour le joueur: Rhian Brewster : 0.16424948896928615\n",
      "Performances prédites (total_points) pour le joueur: Tom Lockyer : 2.7734550544168872\n",
      "Performances prédites (total_points) pour le joueur: Jordan Pickford : 9.059467881975383\n",
      "Performances prédites (total_points) pour le joueur: Michael Olakigbe : 1.256520330035654\n",
      "Performances prédites (total_points) pour le joueur: Anis Slimane : 3.73962990858968\n",
      "Performances prédites (total_points) pour le joueur: Bruno Guimarães Rodriguez Moura : 4.574941282241554\n",
      "Performances prédites (total_points) pour le joueur: Ryan Fraser : 0.16424948896928615\n",
      "Performances prédites (total_points) pour le joueur: Anthony Knockaert : 0.15660605401796962\n",
      "Performances prédites (total_points) pour le joueur: Harry Maguire : 4.712231342541749\n",
      "Performances prédites (total_points) pour le joueur: Matheus Santos Carneiro Da Cunha : 14.507156536377023\n",
      "Performances prédites (total_points) pour le joueur: Francisco Jorge Tomás Oliveira : 0.15660605401796962\n",
      "Performances prédites (total_points) pour le joueur: Ki-Jana Hoever : -0.013138286064603245\n",
      "Performances prédites (total_points) pour le joueur: Jacob Bruun Larsen : 0.16424948896928615\n",
      "Performances prédites (total_points) pour le joueur: Loïc Mbe Soh : -0.013138286064603245\n",
      "Performances prédites (total_points) pour le joueur: Moussa Diaby : 2.3708830509863152\n",
      "Performances prédites (total_points) pour le joueur: Alfie Doughty : 1.8526471967192546\n",
      "Performances prédites (total_points) pour le joueur: João Cancelo : 0.2654153119446892\n",
      "Performances prédites (total_points) pour le joueur: Pau Torres : 5.663193466531812\n",
      "Performances prédites (total_points) pour le joueur: Santiago Bueno : 0.15660605401796962\n",
      "Performances prédites (total_points) pour le joueur: Mohamed Elneny : 0.15660605401796962\n",
      "Performances prédites (total_points) pour le joueur: Jarrad Branthwaite : 5.099019322660017\n",
      "Performances prédites (total_points) pour le joueur: Martin Ødegaard : 4.625976713728556\n",
      "Performances prédites (total_points) pour le joueur: Matheus Luiz Nunes : 1.4754485942907147\n",
      "Performances prédites (total_points) pour le joueur: Luke Harris : 0.15660605401796962\n",
      "Performances prédites (total_points) pour le joueur: Tom King : -0.013138286064603245\n",
      "Performances prédites (total_points) pour le joueur: Rúben Gato Alves Dias : 3.7203173770827367\n",
      "Performances prédites (total_points) pour le joueur: Dan Potts : -0.013138286064603245\n",
      "Performances prédites (total_points) pour le joueur: Djed Spence : -0.013138286064603245\n",
      "Performances prédites (total_points) pour le joueur: Luke Thomas : -0.013138286064603245\n",
      "Performances prédites (total_points) pour le joueur: Cameron Archer : 6.962661190293204\n",
      "Performances prédites (total_points) pour le joueur: Emiliano Martínez Romero : 10.31108548798729\n",
      "Performances prédites (total_points) pour le joueur: Bobby De Cordova-Reid : 0.9486882026291935\n",
      "Performances prédites (total_points) pour le joueur: Tomáš Souček : 2.9852701077961323\n",
      "Performances prédites (total_points) pour le joueur: Ross Barkley : 3.0929438688321467\n",
      "Performances prédites (total_points) pour le joueur: Gonzalo Montiel : 0.15660605401796962\n",
      "Performances prédites (total_points) pour le joueur: Joško Gvardiol : 3.2238220494485477\n",
      "Performances prédites (total_points) pour le joueur: Cole Palmer : 6.027757844077684\n",
      "Performances prédites (total_points) pour le joueur: Ivan Perišić : 0.15660605401796962\n",
      "Performances prédites (total_points) pour le joueur: Jordan Amissah : -0.013138286064603245\n",
      "Performances prédites (total_points) pour le joueur: Carlos Henrique Casimiro : -0.03446265288109162\n",
      "Performances prédites (total_points) pour le joueur: Tom Heaton : -0.013138286064603245\n",
      "Performances prédites (total_points) pour le joueur: Sepp van den Berg : -0.013138286064603245\n",
      "Performances prédites (total_points) pour le joueur: Anel Ahmedhodžić : 8.885392237049963\n",
      "Performances prédites (total_points) pour le joueur: Max Aarons : 0.15660605401796962\n",
      "Performances prédites (total_points) pour le joueur: Josh Powell : -0.013138286064603245\n",
      "Performances prédites (total_points) pour le joueur: Cristian Romero : 3.2554057897844677\n",
      "Performances prédites (total_points) pour le joueur: Daniel Bentley : -0.013138286064603245\n",
      "Performances prédites (total_points) pour le joueur: Ethan Ampadu : -0.013138286064603245\n",
      "Performances prédites (total_points) pour le joueur: Jan Paul van Hecke : 3.5085550983676472\n",
      "Performances prédites (total_points) pour le joueur: Yasser Larouci : 0.15660605401796962\n",
      "Performances prédites (total_points) pour le joueur: Carney Chukwuemeka : 0.15660605401796962\n",
      "Performances prédites (total_points) pour le joueur: Carlton Morris : 0.053926357709373714\n",
      "Performances prédites (total_points) pour le joueur: Odysseas Vlachodimos : 0.15660605401796962\n",
      "Performances prédites (total_points) pour le joueur: Ben Jackson : -0.013138286064603245\n",
      "Performances prédites (total_points) pour le joueur: Adam Davies : -0.013138286064603245\n",
      "Performances prédites (total_points) pour le joueur: Myles Peart-Harris : 0.15660605401796962\n",
      "Performances prédites (total_points) pour le joueur: Tyrick Mitchell : 0.15660605401796962\n",
      "Performances prédites (total_points) pour le joueur: James Maddison : -0.44006788835271565\n",
      "Performances prédites (total_points) pour le joueur: Cauley Woodrow : 0.15660605401796962\n",
      "Performances prédites (total_points) pour le joueur: Mohamed Salah : 12.84135118677764\n",
      "Performances prédites (total_points) pour le joueur: Harry Kane : -0.7533105553498067\n",
      "Performances prédites (total_points) pour le joueur: Zack Steffen : -0.013138286064603245\n",
      "Performances prédites (total_points) pour le joueur: Antoine Semenyo : 2.021786096908033\n",
      "Performances prédites (total_points) pour le joueur: Bradley Ibrahim : 0.15660605401796962\n",
      "Performances prédites (total_points) pour le joueur: Altay Bayindir : -0.013138286064603245\n",
      "Performances prédites (total_points) pour le joueur: Christian Pulisic : 0.03344969484728858\n",
      "Performances prédites (total_points) pour le joueur: Adam Webster : 0.15660605401796962\n",
      "Performances prédites (total_points) pour le joueur: Darwin Núñez Ribeiro : 1.9018319585362702\n",
      "Performances prédites (total_points) pour le joueur: Axel Disasi : 2.9445382147972268\n",
      "Performances prédites (total_points) pour le joueur: Enock Agyei : 0.15660605401796962\n",
      "Performances prédites (total_points) pour le joueur: Folarin Balogun : 0.15660605401796962\n",
      "Performances prédites (total_points) pour le joueur: Tyrone Mings : 0.15660605401796962\n",
      "Performances prédites (total_points) pour le joueur: Nicolás Domínguez : 0.16424948896928615\n",
      "Performances prédites (total_points) pour le joueur: Conor Coventry : 0.15660605401796962\n",
      "Performances prédites (total_points) pour le joueur: Ismaila Coulibaly : 0.15660605401796962\n",
      "Performances prédites (total_points) pour le joueur: Josh Brownhill : 2.068575195206691\n",
      "Performances prédites (total_points) pour le joueur: Fraser Forster : -0.013138286064603245\n",
      "Performances prédites (total_points) pour le joueur: Jefferson Lerma Solís : 5.499496202365884\n",
      "Performances prédites (total_points) pour le joueur: Luke Freeman : 0.16424948896928615\n",
      "Performances prédites (total_points) pour le joueur: Lewis Dunk : 3.3261811639074117\n",
      "Performances prédites (total_points) pour le joueur: César Azpilicueta : 0.15660605401796962\n",
      "Performances prédites (total_points) pour le joueur: Marcelo de Araújo Pitaluga Filho : -0.013138286064603245\n",
      "Performances prédites (total_points) pour le joueur: Steve Cook : 0.15660605401796962\n",
      "Performances prédites (total_points) pour le joueur: Hjalmar Ekdal : 0.8408791937974786\n",
      "Performances prédites (total_points) pour le joueur: Alex Telles : 0.15660605401796962\n",
      "Performances prédites (total_points) pour le joueur: Luca Barrington : 0.15660605401796962\n",
      "Performances prédites (total_points) pour le joueur: José Malheiro de Sá : 1.91085018539992\n",
      "Performances prédites (total_points) pour le joueur: João Neves Virgínia : -0.013138286064603245\n",
      "Performances prédites (total_points) pour le joueur: Saša Lukić : 0.15660605401796962\n",
      "Performances prédites (total_points) pour le joueur: Emiliano Marcondes : 0.15660605401796962\n",
      "Performances prédites (total_points) pour le joueur: Jacob Ramsey : 1.5612046016176064\n",
      "Performances prédites (total_points) pour le joueur: Sandro Tonali : 0.053926357709373714\n",
      "Performances prédites (total_points) pour le joueur: Nathan Fraser : 0.15660605401796962\n",
      "Performances prédites (total_points) pour le joueur: Keane Lewis-Potter : 2.3886490927802764\n",
      "Performances prédites (total_points) pour le joueur: Dwight McNeil : 7.304859237922019\n",
      "Performances prédites (total_points) pour le joueur: Moisés Caicedo Corozo : 3.0563268593520623\n",
      "Performances prédites (total_points) pour le joueur: Jorge Luiz Frello Filho : 0.053926357709373714\n",
      "Performances prédites (total_points) pour le joueur: Kenny Tete : 0.15660605401796962\n",
      "Performances prédites (total_points) pour le joueur: Darko Churlinov : 0.15660605401796962\n",
      "Performances prédites (total_points) pour le joueur: Jack Harrison : 6.353752198874646\n",
      "Performances prédites (total_points) pour le joueur: Jack Walton : -0.013138286064603245\n",
      "Performances prédites (total_points) pour le joueur: Timothy Castagne : 5.968430412575669\n",
      "Performances prédites (total_points) pour le joueur: Adam Smith : 5.663193466531812\n",
      "Performances prédites (total_points) pour le joueur: CJ Egan-Riley : -0.013138286064603245\n",
      "Performances prédites (total_points) pour le joueur: Romelu Lukaku Bolingoli : -0.07878916825308502\n",
      "Performances prédites (total_points) pour le joueur: James Garner : 5.525922389438816\n",
      "Performances prédites (total_points) pour le joueur: Thiago Emiliano da Silva : 0.16424948896928615\n",
      "Performances prédites (total_points) pour le joueur: Rob Holding : 0.15660605401796962\n",
      "Performances prédites (total_points) pour le joueur: Aaron Wan-Bissaka : 0.15660605401796962\n",
      "Performances prédites (total_points) pour le joueur: Deniz Undav : 0.03344969484728858\n",
      "Performances prédites (total_points) pour le joueur: Álvaro Fernández Carreras : -0.013138286064603245\n",
      "Performances prédites (total_points) pour le joueur: Bertrand Traoré : 0.16424948896928615\n",
      "Performances prédites (total_points) pour le joueur: Nathan Patterson : 1.8301169702861462\n",
      "Performances prédites (total_points) pour le joueur: Christopher Nkunku : -0.06079335152644786\n",
      "Performances prédites (total_points) pour le joueur: Serge Aurier : 0.15660605401796962\n",
      "Performances prédites (total_points) pour le joueur: Tom Cairney : 9.65968314606938\n",
      "Performances prédites (total_points) pour le joueur: Harry Arter : 0.15660605401796962\n",
      "Performances prédites (total_points) pour le joueur: Alex Matos : 0.15660605401796962\n",
      "Performances prédites (total_points) pour le joueur: Mohamed Dräger : -0.013138286064603245\n",
      "Performances prédites (total_points) pour le joueur: Rúnar Alex Rúnarsson : -0.013138286064603245\n",
      "Performances prédites (total_points) pour le joueur: Scott Carson : -0.013138286064603245\n",
      "Performances prédites (total_points) pour le joueur: Bénie Traoré : 0.053926357709373714\n",
      "Performances prédites (total_points) pour le joueur: Jurriën Timber : 0.15660605401796962\n",
      "Performances prédites (total_points) pour le joueur: Jordan Beyer : 3.4000656213905307\n",
      "Performances prédites (total_points) pour le joueur: Wes Foderingham : 9.72745170453089\n",
      "Performances prédites (total_points) pour le joueur: Konstantinos Mavropanos : 2.646637958214508\n",
      "Performances prédites (total_points) pour le joueur: Diego Manuel Jadon da Silva Moreira : 0.15660605401796962\n",
      "Performances prédites (total_points) pour le joueur: Odsonne Edouard : 2.075331252133692\n",
      "Performances prédites (total_points) pour le joueur: Jamal Lowe : 0.16424948896928615\n",
      "Performances prédites (total_points) pour le joueur: Owen Dodgson : -0.013138286064603245\n",
      "Performances prédites (total_points) pour le joueur: Matt Ritchie : 1.5749392494080328\n",
      "Performances prédites (total_points) pour le joueur: Lyle Foster : 0.16424948896928615\n",
      "Performances prédites (total_points) pour le joueur: Aaron Ramsey : 1.6838625610098867\n",
      "Performances prédites (total_points) pour le joueur: James Milner : 6.261340449637038\n",
      "Performances prédites (total_points) pour le joueur: Nathan Redmond : 1.8753648912168703\n",
      "Performances prédites (total_points) pour le joueur: Mathias Jorgensen : 0.15660605401796962\n",
      "Performances prédites (total_points) pour le joueur: Michael Olise : 4.607416046324387\n",
      "Performances prédites (total_points) pour le joueur: Oliver Skipp : 3.5250682115205874\n",
      "Performances prédites (total_points) pour le joueur: Leander Dendoncker : 1.1474968582868013\n",
      "Performances prédites (total_points) pour le joueur: Scott McKenna : 0.15660605401796962\n",
      "Performances prédites (total_points) pour le joueur: Michael Keane : 0.15660605401796962\n",
      "Performances prédites (total_points) pour le joueur: Sasa Kalajdzic : 0.16424948896928615\n",
      "Performances prédites (total_points) pour le joueur: Jarrod Bowen : 5.679884196486516\n",
      "Performances prédites (total_points) pour le joueur: Matt Turner : 2.1688074229498793\n",
      "Performances prédites (total_points) pour le joueur: Raheem Sterling : 3.328817507837651\n",
      "Performances prédites (total_points) pour le joueur: Kell Watts : -0.013138286064603245\n",
      "Performances prédites (total_points) pour le joueur: Mads Juel Andersen : -0.013138286064603245\n",
      "Performances prédites (total_points) pour le joueur: Sergi Canós Tenés : 0.16424948896928615\n",
      "Performances prédites (total_points) pour le joueur: Ryan Christie : 7.045538840078271\n",
      "Performances prédites (total_points) pour le joueur: Yegor Yarmoliuk : 3.280428338795782\n",
      "Performances prédites (total_points) pour le joueur: Robert Sánchez : 2.2609523744368745\n",
      "Performances prédites (total_points) pour le joueur: Gavin Kilkenny : 0.15660605401796962\n",
      "Performances prédites (total_points) pour le joueur: Armando Broja : 2.3816026948673503\n",
      "Performances prédites (total_points) pour le joueur: Dominic Solanke : 11.012273059533625\n",
      "Performances prédites (total_points) pour le joueur: Chris Wood : 0.16424948896928615\n",
      "Performances prédites (total_points) pour le joueur: Alex Scott : 0.16424948896928615\n",
      "Performances prédites (total_points) pour le joueur: Jaden Philogene-Bidace : 0.15660605401796962\n",
      "Performances prédites (total_points) pour le joueur: Filip Marschall : -0.013138286064603245\n",
      "Performances prédites (total_points) pour le joueur: Kalvin Phillips : 0.16424948896928615\n",
      "Performances prédites (total_points) pour le joueur: Rodrigo Bentancur : -0.03446265288109162\n",
      "Performances prédites (total_points) pour le joueur: Matty Cash : 1.4754485942907147\n",
      "Performances prédites (total_points) pour le joueur: Mason Holgate : -0.013138286064603245\n",
      "Performances prédites (total_points) pour le joueur: Glen Rea : 0.15660605401796962\n",
      "Performances prédites (total_points) pour le joueur: Jaidon Anthony : 0.16424948896928615\n",
      "Performances prédites (total_points) pour le joueur: Tariq Lamptey : -0.013138286064603245\n",
      "Performances prédites (total_points) pour le joueur: Joseph Anang : -0.013138286064603245\n",
      "Performances prédites (total_points) pour le joueur: George Baldock : -0.013138286064603245\n",
      "Performances prédites (total_points) pour le joueur: Jeff Hendrick : 0.15660605401796962\n",
      "Performances prédites (total_points) pour le joueur: Mark Gillespie : -0.013138286064603245\n",
      "Performances prédites (total_points) pour le joueur: Ronnie Stutter : 0.15660605401796962\n",
      "Performances prédites (total_points) pour le joueur: Nélson Cabral Semedo : 2.3624908082857137\n",
      "Performances prédites (total_points) pour le joueur: Kevin Mbabu : -0.013138286064603245\n",
      "Performances prédites (total_points) pour le joueur: Tyrell Malacia : 0.15660605401796962\n",
      "Performances prédites (total_points) pour le joueur: Andros Townsend : 6.9404445912146855\n",
      "Performances prédites (total_points) pour le joueur: Chris Richards : 2.0435441347127656\n",
      "Performances prédites (total_points) pour le joueur: Jordan Henderson : 0.16424948896928615\n",
      "Performances prédites (total_points) pour le joueur: Daniel Gore : 0.15660605401796962\n",
      "Performances prédites (total_points) pour le joueur: Kyle Walker : 2.8760761209254024\n",
      "Performances prédites (total_points) pour le joueur: Jacob Brown : 2.450369198013156\n",
      "Performances prédites (total_points) pour le joueur: Vicente Guaita : 0.15660605401796962\n",
      "Performances prédites (total_points) pour le joueur: Braian Ojeda Rodríguez : 0.15660605401796962\n",
      "Performances prédites (total_points) pour le joueur: Mads Bech Sørensen : -0.013138286064603245\n"
     ]
    }
   ],
   "source": [
    "\n",
    "# Créer une liste pour stocker les prédictions de performances pour tous les joueurs de la saison 23-24\n",
    "all_predictions = []\n",
    "\n",
    "# Itérer sur chaque joueur dans le DataFrame de la saison 23-24\n",
    "for player_name in team_data['name']:\n",
    "    # Prédiction des performances du joueur avec le modèle entraîné\n",
    "    predicted_performance = predict_player_performance(optimal_model, player_name, team_data)\n",
    "\n",
    "    # Ajouter le nom du joueur et ses prédictions à la liste\n",
    "    all_predictions.append((player_name, predicted_performance))\n",
    "\n",
    "# Afficher les prédictions pour tous les joueurs de la saison 23-24\n",
    "for player_name, predicted_performance in all_predictions:\n",
    "    print(\"Performances prédites (total_points) pour le joueur:\", player_name, \":\", predicted_performance)\n"
   ]
  },
  {
   "cell_type": "code",
   "execution_count": 52,
   "metadata": {
    "id": "aIJ4o3AWn512",
    "colab": {
     "base_uri": "https://localhost:8080/"
    },
    "outputId": "3e8f297c-d825-4b29-a5bc-976033a577ba",
    "ExecuteTime": {
     "end_time": "2024-03-12T11:52:22.646Z",
     "start_time": "2024-03-12T11:52:22.575912Z"
    }
   },
   "outputs": [
    {
     "name": "stdout",
     "output_type": "stream",
     "text": [
      "758\n"
     ]
    }
   ],
   "source": [
    "print(len(all_predictions))"
   ]
  },
  {
   "cell_type": "code",
   "execution_count": 53,
   "metadata": {
    "id": "1nL-8sU9tdRX",
    "ExecuteTime": {
     "end_time": "2024-03-12T11:52:25.157844Z",
     "start_time": "2024-03-12T11:52:24.156890Z"
    }
   },
   "outputs": [],
   "source": [
    "# Créer un dictionnaire à partir de la liste de toutes les prédictions\n",
    "predicted_performances_dict = {player_name: predicted_performance for player_name, predicted_performance in all_predictions}\n"
   ]
  },
  {
   "cell_type": "markdown",
   "metadata": {
    "id": "QBcSP6nrpzln"
   },
   "source": [
    "Création d'une equipe"
   ]
  },
  {
   "cell_type": "code",
   "execution_count": 54,
   "metadata": {
    "id": "VppjiciLpzTE",
    "ExecuteTime": {
     "end_time": "2024-03-12T11:52:28.455219Z",
     "start_time": "2024-03-12T11:52:28.345670Z"
    }
   },
   "outputs": [],
   "source": [
    "def create_team(predicted_performances, data, budget=100, max_players_per_team=3):\n",
    "    team = []\n",
    "    remaining_budget = budget\n",
    "    positions_quota = {'GK': 2, 'DEF': 5, 'MID': 5, 'FWD': 3}\n",
    "    positions_count = {'GK': 0, 'DEF': 0, 'MID': 0, 'FWD': 0}\n",
    "    team_players_count = {}\n",
    "\n",
    "    # Tri des joueurs prédits par performances décroissantes\n",
    "    sorted_players = sorted(predicted_performances.items(), key=lambda x: x[1], reverse=True)\n",
    "\n",
    "    # Sélection des joueurs pour l'équipe en respectant les contraintes\n",
    "    for player_name, predicted_performance in sorted_players:\n",
    "        # Vérifier si l'équipe a déjà atteint le nombre maximum de joueurs\n",
    "        if len(team) >= 15:\n",
    "            break\n",
    "\n",
    "        # Vérifier si le joueur est présent dans les données\n",
    "        player_data = data[data['name'] == player_name]\n",
    "        if not player_data.empty:\n",
    "            player_cost = player_data['now_cost'].values[0]\n",
    "            player_position = player_data['position'].values[0]\n",
    "            player_team = player_data['team'].values[0]\n",
    "\n",
    "            # Vérification des contraintes de budget, de nombre maximum de joueurs par équipe et de quota par poste\n",
    "            if player_cost <= remaining_budget and team_players_count.get(player_team, 0) < max_players_per_team and positions_count[player_position] < positions_quota[player_position]:\n",
    "                team.append({\n",
    "                    'name': player_name,\n",
    "                    'position': player_position,\n",
    "                    'team': player_team,\n",
    "                    'cost': player_cost,\n",
    "                    'predicted_performance': predicted_performance\n",
    "                })\n",
    "                remaining_budget -= player_cost\n",
    "                positions_count[player_position] += 1\n",
    "                team_players_count[player_team] = team_players_count.get(player_team, 0) + 1\n",
    "\n",
    "    return team\n"
   ]
  },
  {
   "cell_type": "code",
   "execution_count": 55,
   "metadata": {
    "id": "TuNXuVX1tlcC",
    "ExecuteTime": {
     "end_time": "2024-03-12T11:52:29.744142Z",
     "start_time": "2024-03-12T11:52:29.625811Z"
    }
   },
   "outputs": [],
   "source": [
    "# Créer une équipe en utilisant les performances prédites\n",
    "team = create_team(predicted_performances_dict, team_data, budget=1000, max_players_per_team=3)"
   ]
  },
  {
   "cell_type": "code",
   "execution_count": 56,
   "metadata": {
    "id": "kCnvJDajoFsL",
    "colab": {
     "base_uri": "https://localhost:8080/"
    },
    "outputId": "a606301d-e411-4c61-b298-7be7ec0ed875",
    "ExecuteTime": {
     "end_time": "2024-03-12T11:52:30.963512Z",
     "start_time": "2024-03-12T11:52:30.868323Z"
    }
   },
   "outputs": [
    {
     "name": "stdout",
     "output_type": "stream",
     "text": [
      "Équipe sélectionnée:\n",
      "Nom: Son Heung-min, Poste: MID, Équipe: Spurs, Coût: 96, Performance Prédite: 21.399111399312105\n",
      "Nom: Richarlison de Andrade, Poste: MID, Équipe: Spurs, Coût: 66, Performance Prédite: 18.48123443920375\n",
      "Nom: Simon Adingra, Poste: MID, Équipe: Brighton, Coût: 50, Performance Prédite: 17.397506200896927\n",
      "Nom: Tosin Adarabioyo, Poste: DEF, Équipe: Fulham, Coût: 43, Performance Prédite: 15.276258748195692\n",
      "Nom: Marcos Senesi, Poste: DEF, Équipe: Bournemouth, Coût: 43, Performance Prédite: 15.251077300287578\n",
      "Nom: Raúl Jiménez, Poste: FWD, Équipe: Fulham, Coût: 52, Performance Prédite: 15.145423493513514\n",
      "Nom: Bernardo Veiga de Carvalho e Silva, Poste: MID, Équipe: Man City, Coût: 64, Performance Prédite: 15.073579559038103\n",
      "Nom: John McGinn, Poste: MID, Équipe: Aston Villa, Coût: 55, Performance Prédite: 14.965142028238066\n",
      "Nom: Matheus Santos Carneiro Da Cunha, Poste: FWD, Équipe: Wolves, Coût: 56, Performance Prédite: 14.507156536377023\n",
      "Nom: Dominic Solanke, Poste: FWD, Équipe: Bournemouth, Coût: 65, Performance Prédite: 11.012273059533625\n",
      "Nom: Pedro Porro, Poste: DEF, Équipe: Spurs, Coût: 53, Performance Prédite: 10.521153697293453\n",
      "Nom: Emiliano Martínez Romero, Poste: GK, Équipe: Aston Villa, Coût: 50, Performance Prédite: 10.31108548798729\n",
      "Nom: Bernd Leno, Poste: GK, Équipe: Fulham, Coût: 47, Performance Prédite: 10.076520566743175\n",
      "Nom: Neco Williams, Poste: DEF, Équipe: Nott'm Forest, Coût: 43, Performance Prédite: 9.390088374760701\n",
      "Nom: Trent Alexander-Arnold, Poste: DEF, Équipe: Liverpool, Coût: 81, Performance Prédite: 8.969307539543749\n"
     ]
    }
   ],
   "source": [
    "# Afficher l'équipe sélectionnée\n",
    "print(\"Équipe sélectionnée:\")\n",
    "for player in team:\n",
    "    print(f\"Nom: {player['name']}, Poste: {player['position']}, Équipe: {player['team']}, Coût: {player['cost']}, Performance Prédite: {player['predicted_performance']}\")\n"
   ]
  },
  {
   "cell_type": "code",
   "execution_count": 57,
   "metadata": {
    "id": "LvUNcfStDHNP",
    "colab": {
     "base_uri": "https://localhost:8080/"
    },
    "outputId": "e4bc0ffd-769a-4beb-d21d-9ca2bc6f8401",
    "ExecuteTime": {
     "end_time": "2024-03-12T11:52:32.839370Z",
     "start_time": "2024-03-12T11:52:32.698828Z"
    }
   },
   "outputs": [
    {
     "name": "stdout",
     "output_type": "stream",
     "text": [
      "Le cout total de l'equipe est de: 864 k£\n",
      "Le nombre de point total de l'equipe est de: 207.7769184309247\n"
     ]
    }
   ],
   "source": [
    "# Calcul du prix total de l'équipe recommandée\n",
    "total_cost = sum(player['cost'] for player in team)\n",
    "total_team_points = sum(player['predicted_performance'] for player in team)\n",
    "print(\"Le cout total de l'equipe est de:\", total_cost, \"k£\")\n",
    "print(\"Le nombre de point total de l'equipe est de:\", total_team_points)"
   ]
  },
  {
   "cell_type": "code",
   "execution_count": 58,
   "metadata": {
    "id": "Np0y0altsbki",
    "colab": {
     "base_uri": "https://localhost:8080/"
    },
    "outputId": "0ca55efb-4385-4453-d8b6-1c7f0797137a",
    "ExecuteTime": {
     "end_time": "2024-03-12T11:52:35.691540Z",
     "start_time": "2024-03-12T11:52:35.555069Z"
    }
   },
   "outputs": [
    {
     "name": "stdout",
     "output_type": "stream",
     "text": [
      "Composition de l'équipe recommandée:\n",
      "Joueur: Son Heung-min\n",
      "Poste: MID\n",
      "Équipe: Spurs\n",
      "Prix: 96 k£\n",
      "Score prédit: 21.399111399312105\n",
      "\n",
      "Joueur: Richarlison de Andrade\n",
      "Poste: MID\n",
      "Équipe: Spurs\n",
      "Prix: 66 k£\n",
      "Score prédit: 18.48123443920375\n",
      "\n",
      "Joueur: Simon Adingra\n",
      "Poste: MID\n",
      "Équipe: Brighton\n",
      "Prix: 50 k£\n",
      "Score prédit: 17.397506200896927\n",
      "\n",
      "Joueur: Tosin Adarabioyo\n",
      "Poste: DEF\n",
      "Équipe: Fulham\n",
      "Prix: 43 k£\n",
      "Score prédit: 15.276258748195692\n",
      "\n",
      "Joueur: Marcos Senesi\n",
      "Poste: DEF\n",
      "Équipe: Bournemouth\n",
      "Prix: 43 k£\n",
      "Score prédit: 15.251077300287578\n",
      "\n",
      "Joueur: Raúl Jiménez\n",
      "Poste: FWD\n",
      "Équipe: Fulham\n",
      "Prix: 52 k£\n",
      "Score prédit: 15.145423493513514\n",
      "\n",
      "Joueur: Bernardo Veiga de Carvalho e Silva\n",
      "Poste: MID\n",
      "Équipe: Man City\n",
      "Prix: 64 k£\n",
      "Score prédit: 15.073579559038103\n",
      "\n",
      "Joueur: John McGinn\n",
      "Poste: MID\n",
      "Équipe: Aston Villa\n",
      "Prix: 55 k£\n",
      "Score prédit: 14.965142028238066\n",
      "\n",
      "Joueur: Matheus Santos Carneiro Da Cunha\n",
      "Poste: FWD\n",
      "Équipe: Wolves\n",
      "Prix: 56 k£\n",
      "Score prédit: 14.507156536377023\n",
      "\n",
      "Joueur: Dominic Solanke\n",
      "Poste: FWD\n",
      "Équipe: Bournemouth\n",
      "Prix: 65 k£\n",
      "Score prédit: 11.012273059533625\n",
      "\n",
      "Joueur: Pedro Porro\n",
      "Poste: DEF\n",
      "Équipe: Spurs\n",
      "Prix: 53 k£\n",
      "Score prédit: 10.521153697293453\n",
      "\n",
      "Joueur: Emiliano Martínez Romero\n",
      "Poste: GK\n",
      "Équipe: Aston Villa\n",
      "Prix: 50 k£\n",
      "Score prédit: 10.31108548798729\n",
      "\n",
      "Joueur: Bernd Leno\n",
      "Poste: GK\n",
      "Équipe: Fulham\n",
      "Prix: 47 k£\n",
      "Score prédit: 10.076520566743175\n",
      "\n",
      "Joueur: Neco Williams\n",
      "Poste: DEF\n",
      "Équipe: Nott'm Forest\n",
      "Prix: 43 k£\n",
      "Score prédit: 9.390088374760701\n",
      "\n",
      "Joueur: Trent Alexander-Arnold\n",
      "Poste: DEF\n",
      "Équipe: Liverpool\n",
      "Prix: 81 k£\n",
      "Score prédit: 8.969307539543749\n"
     ]
    }
   ],
   "source": [
    "\n",
    "# Affichage de la composition de l'équipe recommandée\n",
    "print(\"Composition de l'équipe recommandée:\")\n",
    "for player in team:\n",
    "    print(\"Joueur:\", player['name'])\n",
    "    print(\"Poste:\", player['position'])\n",
    "    print(\"Équipe:\", player['team'])\n",
    "    print(\"Prix:\", player['cost'], 'k£')\n",
    "    print(\"Score prédit:\", player['predicted_performance'])\n",
    "    print()"
   ]
  },
  {
   "cell_type": "code",
   "execution_count": null,
   "metadata": {
    "id": "02K4rfzUBsJM",
    "ExecuteTime": {
     "start_time": "2024-03-12T11:45:00.992787Z"
    }
   },
   "outputs": [],
   "source": []
  }
 ],
 "metadata": {
  "colab": {
   "provenance": []
  },
  "kernelspec": {
   "name": "python3",
   "language": "python",
   "display_name": "Python 3 (ipykernel)"
  },
  "language_info": {
   "name": "python"
  }
 },
 "nbformat": 4,
 "nbformat_minor": 0
}
