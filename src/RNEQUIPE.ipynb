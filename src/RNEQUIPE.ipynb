{
  "cells": [
    {
      "cell_type": "code",
      "execution_count": 1,
      "metadata": {
        "id": "9lDk2lSK7tmm",
        "colab": {
          "base_uri": "https://localhost:8080/"
        },
        "outputId": "2b19280f-5bd0-4bbf-eb4d-345631507a3d"
      },
      "outputs": [
        {
          "output_type": "stream",
          "name": "stderr",
          "text": [
            "/usr/local/lib/python3.10/dist-packages/sklearn/experimental/enable_hist_gradient_boosting.py:16: UserWarning: Since version 1.0, it is not needed to import enable_hist_gradient_boosting anymore. HistGradientBoostingClassifier and HistGradientBoostingRegressor are now stable and can be normally imported from sklearn.ensemble.\n",
            "  warnings.warn(\n"
          ]
        }
      ],
      "source": [
        "import pandas as pd\n",
        "from sklearn.model_selection import GridSearchCV\n",
        "from sklearn.model_selection import train_test_split\n",
        "from sklearn.preprocessing import StandardScaler\n",
        "from sklearn.linear_model import LinearRegression\n",
        "from sklearn.model_selection import cross_val_score\n",
        "from sklearn.experimental import enable_hist_gradient_boosting  # noqa\n",
        "from sklearn.ensemble import HistGradientBoostingRegressor\n",
        "from sklearn.metrics import mean_squared_error, r2_score, mean_absolute_error\n",
        "from sklearn.metrics import mean_squared_error, mean_absolute_error\n",
        "\n",
        "from tensorflow.keras.models import Sequential\n",
        "from tensorflow.keras.layers import Dense, Dropout\n",
        "from tensorflow.keras.callbacks import EarlyStopping\n",
        "import matplotlib.pyplot as plt\n",
        "import tensorflow as tf\n",
        "import numpy as np\n",
        "import random\n",
        "import glob"
      ]
    },
    {
      "cell_type": "code",
      "execution_count": 2,
      "metadata": {
        "colab": {
          "base_uri": "https://localhost:8080/"
        },
        "id": "ya-ozkwHyZjw",
        "outputId": "12fcf106-de1b-43fb-d77f-4c78526a010a"
      },
      "outputs": [
        {
          "output_type": "stream",
          "name": "stdout",
          "text": [
            "Lecture réussie avec l'encodage utf-8.\n",
            "Échec de la lecture avec l'encodage utf-8. Essayer un autre encodage.\n",
            "Lecture réussie avec l'encodage ISO-8859-1.\n",
            "Lecture réussie avec l'encodage utf-8.\n",
            "Lecture réussie avec l'encodage utf-8.\n",
            "Lecture réussie avec l'encodage utf-8.\n",
            "Lecture réussie avec l'encodage utf-8.\n",
            "Lecture réussie avec l'encodage utf-8.\n",
            "Lecture réussie avec l'encodage utf-8.\n",
            "<class 'pandas.core.frame.DataFrame'>\n",
            "RangeIndex: 5606 entries, 0 to 5605\n",
            "Data columns (total 19 columns):\n",
            " #   Column               Non-Null Count  Dtype  \n",
            "---  ------               --------------  -----  \n",
            " 0   goals_scored         5606 non-null   int64  \n",
            " 1   assists              5606 non-null   int64  \n",
            " 2   total_points         5606 non-null   int64  \n",
            " 3   minutes              5606 non-null   int64  \n",
            " 4   goals_conceded       5606 non-null   int64  \n",
            " 5   creativity           5606 non-null   float64\n",
            " 6   influence            5606 non-null   float64\n",
            " 7   threat               5606 non-null   float64\n",
            " 8   bonus                5606 non-null   int64  \n",
            " 9   bps                  5606 non-null   int64  \n",
            " 10  ict_index            5606 non-null   float64\n",
            " 11  clean_sheets         5606 non-null   int64  \n",
            " 12  red_cards            5606 non-null   int64  \n",
            " 13  yellow_cards         5606 non-null   int64  \n",
            " 14  selected_by_percent  5606 non-null   float64\n",
            " 15  now_cost             4923 non-null   float64\n",
            " 16  element_type         2986 non-null   object \n",
            " 17  source               5606 non-null   object \n",
            " 18  name                 5606 non-null   object \n",
            "dtypes: float64(6), int64(10), object(3)\n",
            "memory usage: 832.3+ KB\n",
            "None\n"
          ]
        }
      ],
      "source": [
        "# Chemin vers les fichiers CSV\n",
        "chemin = '/content/players/*.csv'\n",
        "\n",
        "# Liste des noms de fichiers\n",
        "fichiers = glob.glob(chemin)\n",
        "\n",
        "# Initialisation d'une liste pour stocker les DataFrames de chaque fichier\n",
        "dfs = []\n",
        "# Liste des encodages à essayer\n",
        "encodings_to_try = [ 'utf-8','ISO-8859-1']\n",
        "\n",
        "# Charger et concaténer les fichiers\n",
        "for fichier in fichiers:\n",
        "    df = None\n",
        "    # Essayer différents encodages jusqu'à ce que la lecture réussisse\n",
        "    for encoding in encodings_to_try:\n",
        "        try:\n",
        "            df = pd.read_csv(fichier, encoding=encoding)\n",
        "            print(f\"Lecture réussie avec l'encodage {encoding}.\")\n",
        "            break  # Sortir de la boucle si la lecture réussit avec un encodage\n",
        "        except UnicodeDecodeError:\n",
        "            print(f\"Échec de la lecture avec l'encodage {encoding}. Essayer un autre encodage.\")\n",
        "\n",
        "    if df is not None:\n",
        "        # Ajouter une colonne 'source' pour identifier la provenance de chaque fichier\n",
        "        nom_fichier = fichier.split('/')[-1]\n",
        "        saison = nom_fichier.split('.')[0].split('-')\n",
        "        df['source'] = f\"{saison[0]}-{saison[1]}\"\n",
        "        # Concaténer 'first_name' et 'second_name' en une seule colonne 'name'\n",
        "        df['name'] = df['first_name'] + ' ' + df['second_name']\n",
        "        # Supprimer les colonnes 'first_name' et 'second_name'\n",
        "        df = df.drop(columns=['first_name', 'second_name'])\n",
        "        # Ajouter le DataFrame à la liste\n",
        "        dfs.append(df)\n",
        "    else:\n",
        "        print(\"Échec de la lecture du fichier:\", fichier)\n",
        "\n",
        "\n",
        "# Concaténer tous les DataFrames en un seul\n",
        "data = pd.concat(dfs, ignore_index=True)\n",
        "\n",
        "\n",
        "\n",
        "# Maintenant vous pouvez faire du traitement de données sur le DataFrame 'data'\n",
        "# Par exemple, afficher les premières lignes\n",
        "print(data.info())\n"
      ]
    },
    {
      "cell_type": "code",
      "execution_count": 3,
      "metadata": {
        "id": "Lhaz1aMB8bns"
      },
      "outputs": [],
      "source": [
        "# Ingénierie des caractéristiques\n",
        "selected_features = ['goals_scored','assists','goals_conceded','creativity','influence','threat','bonus','clean_sheets','red_cards','yellow_cards','now_cost']\n",
        "X = data[selected_features]\n",
        "y = data['total_points']"
      ]
    },
    {
      "cell_type": "code",
      "execution_count": 4,
      "metadata": {
        "id": "rzqCFCb3-az1"
      },
      "outputs": [],
      "source": [
        "# Division des données en ensembles d'entraînement et de test\n",
        "X_train, X_test, y_train, y_test = train_test_split(X, y, test_size=0.2, random_state=42)"
      ]
    },
    {
      "cell_type": "code",
      "execution_count": 5,
      "metadata": {
        "id": "Nigvh0aE-d49"
      },
      "outputs": [],
      "source": [
        "# Sélectionner uniquement les colonnes numériques\n",
        "numeric_columns = X_train.select_dtypes(include=['number']).columns"
      ]
    },
    {
      "cell_type": "code",
      "execution_count": 6,
      "metadata": {
        "colab": {
          "base_uri": "https://localhost:8080/"
        },
        "id": "E7sC2ek8Asvy",
        "outputId": "aaf0c416-61e8-4884-fc09-7d4d62ec2c63"
      },
      "outputs": [
        {
          "output_type": "stream",
          "name": "stdout",
          "text": [
            "Valeurs manquantes dans y_train: 0\n",
            "Valeurs manquantes dans y_test: 0\n"
          ]
        }
      ],
      "source": [
        "# Vérification des valeurs manquantes dans les données d'entraînement\n",
        "print(\"Valeurs manquantes dans y_train:\", np.isnan(y_train).sum())\n",
        "\n",
        "# Vérification des valeurs manquantes dans les données de test\n",
        "print(\"Valeurs manquantes dans y_test:\", np.isnan(y_test).sum())\n"
      ]
    },
    {
      "cell_type": "code",
      "execution_count": 7,
      "metadata": {
        "id": "qX75IG1RF8YX"
      },
      "outputs": [],
      "source": [
        "# Définir les hyperparamètres à optimiser\n",
        "param_grid = {\n",
        "    'learning_rate': [0.01, 0.1, 0.2],\n",
        "    'max_iter': [100, 200, 300],\n",
        "    'max_depth': [3, 5, 7],\n",
        "    'min_samples_leaf': [1, 2, 4],\n",
        "    'l2_regularization': [0.0, 0.1, 0.2]\n",
        "}\n"
      ]
    },
    {
      "cell_type": "code",
      "execution_count": 8,
      "metadata": {
        "id": "n-gjKsF1-dwq"
      },
      "outputs": [],
      "source": [
        "# Create the HistGradientBoostingRegressor model\n",
        "model = HistGradientBoostingRegressor()"
      ]
    },
    {
      "cell_type": "code",
      "execution_count": 9,
      "metadata": {
        "colab": {
          "base_uri": "https://localhost:8080/",
          "height": 75
        },
        "id": "KDlgQNGIB-jO",
        "outputId": "cde79a51-575d-4990-bd1d-e6a5f7dad825"
      },
      "outputs": [
        {
          "output_type": "execute_result",
          "data": {
            "text/plain": [
              "HistGradientBoostingRegressor()"
            ],
            "text/html": [
              "<style>#sk-container-id-1 {color: black;background-color: white;}#sk-container-id-1 pre{padding: 0;}#sk-container-id-1 div.sk-toggleable {background-color: white;}#sk-container-id-1 label.sk-toggleable__label {cursor: pointer;display: block;width: 100%;margin-bottom: 0;padding: 0.3em;box-sizing: border-box;text-align: center;}#sk-container-id-1 label.sk-toggleable__label-arrow:before {content: \"▸\";float: left;margin-right: 0.25em;color: #696969;}#sk-container-id-1 label.sk-toggleable__label-arrow:hover:before {color: black;}#sk-container-id-1 div.sk-estimator:hover label.sk-toggleable__label-arrow:before {color: black;}#sk-container-id-1 div.sk-toggleable__content {max-height: 0;max-width: 0;overflow: hidden;text-align: left;background-color: #f0f8ff;}#sk-container-id-1 div.sk-toggleable__content pre {margin: 0.2em;color: black;border-radius: 0.25em;background-color: #f0f8ff;}#sk-container-id-1 input.sk-toggleable__control:checked~div.sk-toggleable__content {max-height: 200px;max-width: 100%;overflow: auto;}#sk-container-id-1 input.sk-toggleable__control:checked~label.sk-toggleable__label-arrow:before {content: \"▾\";}#sk-container-id-1 div.sk-estimator input.sk-toggleable__control:checked~label.sk-toggleable__label {background-color: #d4ebff;}#sk-container-id-1 div.sk-label input.sk-toggleable__control:checked~label.sk-toggleable__label {background-color: #d4ebff;}#sk-container-id-1 input.sk-hidden--visually {border: 0;clip: rect(1px 1px 1px 1px);clip: rect(1px, 1px, 1px, 1px);height: 1px;margin: -1px;overflow: hidden;padding: 0;position: absolute;width: 1px;}#sk-container-id-1 div.sk-estimator {font-family: monospace;background-color: #f0f8ff;border: 1px dotted black;border-radius: 0.25em;box-sizing: border-box;margin-bottom: 0.5em;}#sk-container-id-1 div.sk-estimator:hover {background-color: #d4ebff;}#sk-container-id-1 div.sk-parallel-item::after {content: \"\";width: 100%;border-bottom: 1px solid gray;flex-grow: 1;}#sk-container-id-1 div.sk-label:hover label.sk-toggleable__label {background-color: #d4ebff;}#sk-container-id-1 div.sk-serial::before {content: \"\";position: absolute;border-left: 1px solid gray;box-sizing: border-box;top: 0;bottom: 0;left: 50%;z-index: 0;}#sk-container-id-1 div.sk-serial {display: flex;flex-direction: column;align-items: center;background-color: white;padding-right: 0.2em;padding-left: 0.2em;position: relative;}#sk-container-id-1 div.sk-item {position: relative;z-index: 1;}#sk-container-id-1 div.sk-parallel {display: flex;align-items: stretch;justify-content: center;background-color: white;position: relative;}#sk-container-id-1 div.sk-item::before, #sk-container-id-1 div.sk-parallel-item::before {content: \"\";position: absolute;border-left: 1px solid gray;box-sizing: border-box;top: 0;bottom: 0;left: 50%;z-index: -1;}#sk-container-id-1 div.sk-parallel-item {display: flex;flex-direction: column;z-index: 1;position: relative;background-color: white;}#sk-container-id-1 div.sk-parallel-item:first-child::after {align-self: flex-end;width: 50%;}#sk-container-id-1 div.sk-parallel-item:last-child::after {align-self: flex-start;width: 50%;}#sk-container-id-1 div.sk-parallel-item:only-child::after {width: 0;}#sk-container-id-1 div.sk-dashed-wrapped {border: 1px dashed gray;margin: 0 0.4em 0.5em 0.4em;box-sizing: border-box;padding-bottom: 0.4em;background-color: white;}#sk-container-id-1 div.sk-label label {font-family: monospace;font-weight: bold;display: inline-block;line-height: 1.2em;}#sk-container-id-1 div.sk-label-container {text-align: center;}#sk-container-id-1 div.sk-container {/* jupyter's `normalize.less` sets `[hidden] { display: none; }` but bootstrap.min.css set `[hidden] { display: none !important; }` so we also need the `!important` here to be able to override the default hidden behavior on the sphinx rendered scikit-learn.org. See: https://github.com/scikit-learn/scikit-learn/issues/21755 */display: inline-block !important;position: relative;}#sk-container-id-1 div.sk-text-repr-fallback {display: none;}</style><div id=\"sk-container-id-1\" class=\"sk-top-container\"><div class=\"sk-text-repr-fallback\"><pre>HistGradientBoostingRegressor()</pre><b>In a Jupyter environment, please rerun this cell to show the HTML representation or trust the notebook. <br />On GitHub, the HTML representation is unable to render, please try loading this page with nbviewer.org.</b></div><div class=\"sk-container\" hidden><div class=\"sk-item\"><div class=\"sk-estimator sk-toggleable\"><input class=\"sk-toggleable__control sk-hidden--visually\" id=\"sk-estimator-id-1\" type=\"checkbox\" checked><label for=\"sk-estimator-id-1\" class=\"sk-toggleable__label sk-toggleable__label-arrow\">HistGradientBoostingRegressor</label><div class=\"sk-toggleable__content\"><pre>HistGradientBoostingRegressor()</pre></div></div></div></div></div>"
            ]
          },
          "metadata": {},
          "execution_count": 9
        }
      ],
      "source": [
        "# Train the model\n",
        "model.fit(X_train, y_train)\n"
      ]
    },
    {
      "cell_type": "code",
      "execution_count": 10,
      "metadata": {
        "id": "GtYDYvQN-diS"
      },
      "outputs": [],
      "source": [
        "# Predict on the test set\n",
        "y_pred = model.predict(X_test)"
      ]
    },
    {
      "cell_type": "code",
      "execution_count": 11,
      "metadata": {
        "id": "1ist4q3_GCGh"
      },
      "outputs": [],
      "source": [
        "# Créer l'objet GridSearchCV\n",
        "grid_search = GridSearchCV(estimator=model, param_grid=param_grid, cv=5, scoring='neg_mean_squared_error', n_jobs=-1)\n"
      ]
    },
    {
      "cell_type": "markdown",
      "metadata": {
        "id": "DEiebdcqpouJ"
      },
      "source": [
        "Evaluation des performances du modèle"
      ]
    },
    {
      "cell_type": "code",
      "execution_count": 12,
      "metadata": {
        "id": "D7OABscDEi4N"
      },
      "outputs": [],
      "source": [
        "# Effectuer la validation croisée\n",
        "scores = cross_val_score(model, X, y, cv=5, scoring='neg_mean_squared_error')\n"
      ]
    },
    {
      "cell_type": "code",
      "execution_count": 13,
      "metadata": {
        "colab": {
          "base_uri": "https://localhost:8080/",
          "height": 119
        },
        "id": "XP3oZXw4GTdN",
        "outputId": "b3f870ef-e6fa-40a4-ac77-22cc63a41b25"
      },
      "outputs": [
        {
          "output_type": "execute_result",
          "data": {
            "text/plain": [
              "GridSearchCV(cv=5, estimator=HistGradientBoostingRegressor(), n_jobs=-1,\n",
              "             param_grid={'l2_regularization': [0.0, 0.1, 0.2],\n",
              "                         'learning_rate': [0.01, 0.1, 0.2],\n",
              "                         'max_depth': [3, 5, 7], 'max_iter': [100, 200, 300],\n",
              "                         'min_samples_leaf': [1, 2, 4]},\n",
              "             scoring='neg_mean_squared_error')"
            ],
            "text/html": [
              "<style>#sk-container-id-2 {color: black;background-color: white;}#sk-container-id-2 pre{padding: 0;}#sk-container-id-2 div.sk-toggleable {background-color: white;}#sk-container-id-2 label.sk-toggleable__label {cursor: pointer;display: block;width: 100%;margin-bottom: 0;padding: 0.3em;box-sizing: border-box;text-align: center;}#sk-container-id-2 label.sk-toggleable__label-arrow:before {content: \"▸\";float: left;margin-right: 0.25em;color: #696969;}#sk-container-id-2 label.sk-toggleable__label-arrow:hover:before {color: black;}#sk-container-id-2 div.sk-estimator:hover label.sk-toggleable__label-arrow:before {color: black;}#sk-container-id-2 div.sk-toggleable__content {max-height: 0;max-width: 0;overflow: hidden;text-align: left;background-color: #f0f8ff;}#sk-container-id-2 div.sk-toggleable__content pre {margin: 0.2em;color: black;border-radius: 0.25em;background-color: #f0f8ff;}#sk-container-id-2 input.sk-toggleable__control:checked~div.sk-toggleable__content {max-height: 200px;max-width: 100%;overflow: auto;}#sk-container-id-2 input.sk-toggleable__control:checked~label.sk-toggleable__label-arrow:before {content: \"▾\";}#sk-container-id-2 div.sk-estimator input.sk-toggleable__control:checked~label.sk-toggleable__label {background-color: #d4ebff;}#sk-container-id-2 div.sk-label input.sk-toggleable__control:checked~label.sk-toggleable__label {background-color: #d4ebff;}#sk-container-id-2 input.sk-hidden--visually {border: 0;clip: rect(1px 1px 1px 1px);clip: rect(1px, 1px, 1px, 1px);height: 1px;margin: -1px;overflow: hidden;padding: 0;position: absolute;width: 1px;}#sk-container-id-2 div.sk-estimator {font-family: monospace;background-color: #f0f8ff;border: 1px dotted black;border-radius: 0.25em;box-sizing: border-box;margin-bottom: 0.5em;}#sk-container-id-2 div.sk-estimator:hover {background-color: #d4ebff;}#sk-container-id-2 div.sk-parallel-item::after {content: \"\";width: 100%;border-bottom: 1px solid gray;flex-grow: 1;}#sk-container-id-2 div.sk-label:hover label.sk-toggleable__label {background-color: #d4ebff;}#sk-container-id-2 div.sk-serial::before {content: \"\";position: absolute;border-left: 1px solid gray;box-sizing: border-box;top: 0;bottom: 0;left: 50%;z-index: 0;}#sk-container-id-2 div.sk-serial {display: flex;flex-direction: column;align-items: center;background-color: white;padding-right: 0.2em;padding-left: 0.2em;position: relative;}#sk-container-id-2 div.sk-item {position: relative;z-index: 1;}#sk-container-id-2 div.sk-parallel {display: flex;align-items: stretch;justify-content: center;background-color: white;position: relative;}#sk-container-id-2 div.sk-item::before, #sk-container-id-2 div.sk-parallel-item::before {content: \"\";position: absolute;border-left: 1px solid gray;box-sizing: border-box;top: 0;bottom: 0;left: 50%;z-index: -1;}#sk-container-id-2 div.sk-parallel-item {display: flex;flex-direction: column;z-index: 1;position: relative;background-color: white;}#sk-container-id-2 div.sk-parallel-item:first-child::after {align-self: flex-end;width: 50%;}#sk-container-id-2 div.sk-parallel-item:last-child::after {align-self: flex-start;width: 50%;}#sk-container-id-2 div.sk-parallel-item:only-child::after {width: 0;}#sk-container-id-2 div.sk-dashed-wrapped {border: 1px dashed gray;margin: 0 0.4em 0.5em 0.4em;box-sizing: border-box;padding-bottom: 0.4em;background-color: white;}#sk-container-id-2 div.sk-label label {font-family: monospace;font-weight: bold;display: inline-block;line-height: 1.2em;}#sk-container-id-2 div.sk-label-container {text-align: center;}#sk-container-id-2 div.sk-container {/* jupyter's `normalize.less` sets `[hidden] { display: none; }` but bootstrap.min.css set `[hidden] { display: none !important; }` so we also need the `!important` here to be able to override the default hidden behavior on the sphinx rendered scikit-learn.org. See: https://github.com/scikit-learn/scikit-learn/issues/21755 */display: inline-block !important;position: relative;}#sk-container-id-2 div.sk-text-repr-fallback {display: none;}</style><div id=\"sk-container-id-2\" class=\"sk-top-container\"><div class=\"sk-text-repr-fallback\"><pre>GridSearchCV(cv=5, estimator=HistGradientBoostingRegressor(), n_jobs=-1,\n",
              "             param_grid={&#x27;l2_regularization&#x27;: [0.0, 0.1, 0.2],\n",
              "                         &#x27;learning_rate&#x27;: [0.01, 0.1, 0.2],\n",
              "                         &#x27;max_depth&#x27;: [3, 5, 7], &#x27;max_iter&#x27;: [100, 200, 300],\n",
              "                         &#x27;min_samples_leaf&#x27;: [1, 2, 4]},\n",
              "             scoring=&#x27;neg_mean_squared_error&#x27;)</pre><b>In a Jupyter environment, please rerun this cell to show the HTML representation or trust the notebook. <br />On GitHub, the HTML representation is unable to render, please try loading this page with nbviewer.org.</b></div><div class=\"sk-container\" hidden><div class=\"sk-item sk-dashed-wrapped\"><div class=\"sk-label-container\"><div class=\"sk-label sk-toggleable\"><input class=\"sk-toggleable__control sk-hidden--visually\" id=\"sk-estimator-id-2\" type=\"checkbox\" ><label for=\"sk-estimator-id-2\" class=\"sk-toggleable__label sk-toggleable__label-arrow\">GridSearchCV</label><div class=\"sk-toggleable__content\"><pre>GridSearchCV(cv=5, estimator=HistGradientBoostingRegressor(), n_jobs=-1,\n",
              "             param_grid={&#x27;l2_regularization&#x27;: [0.0, 0.1, 0.2],\n",
              "                         &#x27;learning_rate&#x27;: [0.01, 0.1, 0.2],\n",
              "                         &#x27;max_depth&#x27;: [3, 5, 7], &#x27;max_iter&#x27;: [100, 200, 300],\n",
              "                         &#x27;min_samples_leaf&#x27;: [1, 2, 4]},\n",
              "             scoring=&#x27;neg_mean_squared_error&#x27;)</pre></div></div></div><div class=\"sk-parallel\"><div class=\"sk-parallel-item\"><div class=\"sk-item\"><div class=\"sk-label-container\"><div class=\"sk-label sk-toggleable\"><input class=\"sk-toggleable__control sk-hidden--visually\" id=\"sk-estimator-id-3\" type=\"checkbox\" ><label for=\"sk-estimator-id-3\" class=\"sk-toggleable__label sk-toggleable__label-arrow\">estimator: HistGradientBoostingRegressor</label><div class=\"sk-toggleable__content\"><pre>HistGradientBoostingRegressor()</pre></div></div></div><div class=\"sk-serial\"><div class=\"sk-item\"><div class=\"sk-estimator sk-toggleable\"><input class=\"sk-toggleable__control sk-hidden--visually\" id=\"sk-estimator-id-4\" type=\"checkbox\" ><label for=\"sk-estimator-id-4\" class=\"sk-toggleable__label sk-toggleable__label-arrow\">HistGradientBoostingRegressor</label><div class=\"sk-toggleable__content\"><pre>HistGradientBoostingRegressor()</pre></div></div></div></div></div></div></div></div></div></div>"
            ]
          },
          "metadata": {},
          "execution_count": 13
        }
      ],
      "source": [
        "# Exécuter la recherche par grille sur les données\n",
        "grid_search.fit(X, y)"
      ]
    },
    {
      "cell_type": "code",
      "execution_count": 14,
      "metadata": {
        "id": "dcR5d7-EppXz"
      },
      "outputs": [],
      "source": [
        "# Calcul des métriques d'évaluation\n",
        "mse = mean_squared_error(y_test, y_pred)\n",
        "r2 = r2_score(y_test, y_pred)\n",
        "mae = mean_absolute_error(y_test, y_pred)\n",
        "# Calculer la moyenne des scores de MSE\n",
        "avg_mse = -scores.mean()"
      ]
    },
    {
      "cell_type": "code",
      "execution_count": 15,
      "metadata": {
        "colab": {
          "base_uri": "https://localhost:8080/"
        },
        "id": "CupwNLz-GWRI",
        "outputId": "8553ae6e-3cbb-428e-ab34-d245ef467d55"
      },
      "outputs": [
        {
          "output_type": "stream",
          "name": "stdout",
          "text": [
            "Meilleurs paramètres: {'l2_regularization': 0.0, 'learning_rate': 0.2, 'max_depth': 3, 'max_iter': 300, 'min_samples_leaf': 2}\n",
            "Meilleure MSE: 34.38409268878852\n"
          ]
        }
      ],
      "source": [
        "# Afficher les meilleurs paramètres et la meilleure MSE\n",
        "print(\"Meilleurs paramètres:\", grid_search.best_params_)\n",
        "print(\"Meilleure MSE:\", -grid_search.best_score_)"
      ]
    },
    {
      "cell_type": "code",
      "execution_count": 16,
      "metadata": {
        "colab": {
          "base_uri": "https://localhost:8080/"
        },
        "id": "ITLl__hgpzyN",
        "outputId": "94d961e6-c2dc-4fa3-9b59-44df49eb6da0"
      },
      "outputs": [
        {
          "output_type": "stream",
          "name": "stdout",
          "text": [
            "Mean Squared Error: 29.705547735538765\n",
            "R-squared: 0.9861793724592881\n",
            "Mean Absolute Error: 3.3477613337277408\n",
            "Moyenne des scores de MSE: 36.54635947322672\n"
          ]
        }
      ],
      "source": [
        "print(\"Mean Squared Error:\", mse)\n",
        "print(\"R-squared:\", r2)\n",
        "print(\"Mean Absolute Error:\", mae)\n",
        "\n",
        "# Afficher le score moyen de MSE\n",
        "print(\"Moyenne des scores de MSE:\", avg_mse)"
      ]
    },
    {
      "cell_type": "code",
      "execution_count": 17,
      "metadata": {
        "colab": {
          "base_uri": "https://localhost:8080/",
          "height": 565
        },
        "id": "mDkRepp1qLU0",
        "outputId": "c2e49e43-1b48-4dd8-e3e3-07d8d20c50f9"
      },
      "outputs": [
        {
          "output_type": "display_data",
          "data": {
            "text/plain": [
              "<Figure size 1000x600 with 1 Axes>"
            ],
            "image/png": "[encoded data removed]"
          },
          "metadata": {}
        }
      ],
      "source": [
        "# Tracer les valeurs réelles par rapport aux valeurs prédites\n",
        "plt.figure(figsize=(10, 6))\n",
        "plt.scatter(y_test, y_pred, color='blue', label='Valeurs prédites vs réelles')\n",
        "plt.plot([y_test.min(), y_test.max()], [y_test.min(), y_test.max()], color='red', linestyle='--', label='Ligne de référence')\n",
        "plt.xlabel('Valeurs réelles')\n",
        "plt.ylabel('Valeurs prédites')\n",
        "plt.title('Comparaison des valeurs prédites aux valeurs réelles')\n",
        "plt.legend()\n",
        "plt.show()"
      ]
    },
    {
      "cell_type": "code",
      "execution_count": 18,
      "metadata": {
        "id": "7BJUhX-sKEqt"
      },
      "outputs": [],
      "source": [
        "# Créer un nouveau modèle avec les paramètres optimisés\n",
        "optimal_model = HistGradientBoostingRegressor(\n",
        "    l2_regularization=0.0,\n",
        "    learning_rate=0.1,\n",
        "    max_depth=5,\n",
        "    max_iter=300,\n",
        "    min_samples_leaf=2\n",
        ")\n"
      ]
    },
    {
      "cell_type": "code",
      "execution_count": 19,
      "metadata": {
        "colab": {
          "base_uri": "https://localhost:8080/",
          "height": 75
        },
        "id": "v0IzyHE1KEjL",
        "outputId": "ae28a113-603a-4720-88d0-40881b6d6dc3"
      },
      "outputs": [
        {
          "output_type": "execute_result",
          "data": {
            "text/plain": [
              "HistGradientBoostingRegressor(max_depth=5, max_iter=300, min_samples_leaf=2)"
            ],
            "text/html": [
              "<style>#sk-container-id-3 {color: black;background-color: white;}#sk-container-id-3 pre{padding: 0;}#sk-container-id-3 div.sk-toggleable {background-color: white;}#sk-container-id-3 label.sk-toggleable__label {cursor: pointer;display: block;width: 100%;margin-bottom: 0;padding: 0.3em;box-sizing: border-box;text-align: center;}#sk-container-id-3 label.sk-toggleable__label-arrow:before {content: \"▸\";float: left;margin-right: 0.25em;color: #696969;}#sk-container-id-3 label.sk-toggleable__label-arrow:hover:before {color: black;}#sk-container-id-3 div.sk-estimator:hover label.sk-toggleable__label-arrow:before {color: black;}#sk-container-id-3 div.sk-toggleable__content {max-height: 0;max-width: 0;overflow: hidden;text-align: left;background-color: #f0f8ff;}#sk-container-id-3 div.sk-toggleable__content pre {margin: 0.2em;color: black;border-radius: 0.25em;background-color: #f0f8ff;}#sk-container-id-3 input.sk-toggleable__control:checked~div.sk-toggleable__content {max-height: 200px;max-width: 100%;overflow: auto;}#sk-container-id-3 input.sk-toggleable__control:checked~label.sk-toggleable__label-arrow:before {content: \"▾\";}#sk-container-id-3 div.sk-estimator input.sk-toggleable__control:checked~label.sk-toggleable__label {background-color: #d4ebff;}#sk-container-id-3 div.sk-label input.sk-toggleable__control:checked~label.sk-toggleable__label {background-color: #d4ebff;}#sk-container-id-3 input.sk-hidden--visually {border: 0;clip: rect(1px 1px 1px 1px);clip: rect(1px, 1px, 1px, 1px);height: 1px;margin: -1px;overflow: hidden;padding: 0;position: absolute;width: 1px;}#sk-container-id-3 div.sk-estimator {font-family: monospace;background-color: #f0f8ff;border: 1px dotted black;border-radius: 0.25em;box-sizing: border-box;margin-bottom: 0.5em;}#sk-container-id-3 div.sk-estimator:hover {background-color: #d4ebff;}#sk-container-id-3 div.sk-parallel-item::after {content: \"\";width: 100%;border-bottom: 1px solid gray;flex-grow: 1;}#sk-container-id-3 div.sk-label:hover label.sk-toggleable__label {background-color: #d4ebff;}#sk-container-id-3 div.sk-serial::before {content: \"\";position: absolute;border-left: 1px solid gray;box-sizing: border-box;top: 0;bottom: 0;left: 50%;z-index: 0;}#sk-container-id-3 div.sk-serial {display: flex;flex-direction: column;align-items: center;background-color: white;padding-right: 0.2em;padding-left: 0.2em;position: relative;}#sk-container-id-3 div.sk-item {position: relative;z-index: 1;}#sk-container-id-3 div.sk-parallel {display: flex;align-items: stretch;justify-content: center;background-color: white;position: relative;}#sk-container-id-3 div.sk-item::before, #sk-container-id-3 div.sk-parallel-item::before {content: \"\";position: absolute;border-left: 1px solid gray;box-sizing: border-box;top: 0;bottom: 0;left: 50%;z-index: -1;}#sk-container-id-3 div.sk-parallel-item {display: flex;flex-direction: column;z-index: 1;position: relative;background-color: white;}#sk-container-id-3 div.sk-parallel-item:first-child::after {align-self: flex-end;width: 50%;}#sk-container-id-3 div.sk-parallel-item:last-child::after {align-self: flex-start;width: 50%;}#sk-container-id-3 div.sk-parallel-item:only-child::after {width: 0;}#sk-container-id-3 div.sk-dashed-wrapped {border: 1px dashed gray;margin: 0 0.4em 0.5em 0.4em;box-sizing: border-box;padding-bottom: 0.4em;background-color: white;}#sk-container-id-3 div.sk-label label {font-family: monospace;font-weight: bold;display: inline-block;line-height: 1.2em;}#sk-container-id-3 div.sk-label-container {text-align: center;}#sk-container-id-3 div.sk-container {/* jupyter's `normalize.less` sets `[hidden] { display: none; }` but bootstrap.min.css set `[hidden] { display: none !important; }` so we also need the `!important` here to be able to override the default hidden behavior on the sphinx rendered scikit-learn.org. See: https://github.com/scikit-learn/scikit-learn/issues/21755 */display: inline-block !important;position: relative;}#sk-container-id-3 div.sk-text-repr-fallback {display: none;}</style><div id=\"sk-container-id-3\" class=\"sk-top-container\"><div class=\"sk-text-repr-fallback\"><pre>HistGradientBoostingRegressor(max_depth=5, max_iter=300, min_samples_leaf=2)</pre><b>In a Jupyter environment, please rerun this cell to show the HTML representation or trust the notebook. <br />On GitHub, the HTML representation is unable to render, please try loading this page with nbviewer.org.</b></div><div class=\"sk-container\" hidden><div class=\"sk-item\"><div class=\"sk-estimator sk-toggleable\"><input class=\"sk-toggleable__control sk-hidden--visually\" id=\"sk-estimator-id-5\" type=\"checkbox\" checked><label for=\"sk-estimator-id-5\" class=\"sk-toggleable__label sk-toggleable__label-arrow\">HistGradientBoostingRegressor</label><div class=\"sk-toggleable__content\"><pre>HistGradientBoostingRegressor(max_depth=5, max_iter=300, min_samples_leaf=2)</pre></div></div></div></div></div>"
            ]
          },
          "metadata": {},
          "execution_count": 19
        }
      ],
      "source": [
        "# Entraîner le nouveau modèle avec les données d'entraînement\n",
        "optimal_model.fit(X_train, y_train)"
      ]
    },
    {
      "cell_type": "code",
      "execution_count": 20,
      "metadata": {
        "id": "4YfJ0AC_KEZz"
      },
      "outputs": [],
      "source": [
        "# Prédire sur les données de test\n",
        "y_pred_optimal = optimal_model.predict(X_test)"
      ]
    },
    {
      "cell_type": "code",
      "source": [
        "# Calculer le RMSE\n",
        "rmse_optimal = np.sqrt(mean_squared_error(y_test, y_pred_optimal))\n",
        "\n",
        "# Calculer le MAPE\n",
        "# Calculer le MAPE en évitant les divisions par zéro\n",
        "mape_optimal = np.mean(np.abs((y_test - y_pred_optimal) / y_test.replace(0, np.nan))) * 100\n"
      ],
      "metadata": {
        "id": "JCXOI9O6nDwI"
      },
      "execution_count": 21,
      "outputs": []
    },
    {
      "cell_type": "code",
      "execution_count": 22,
      "metadata": {
        "id": "Xj97KnGoKKyp"
      },
      "outputs": [],
      "source": [
        "# Évaluer les performances du nouveau modèle sur les données de test\n",
        "mse_optimal = mean_squared_error(y_test, y_pred_optimal)\n",
        "r2_optimal = r2_score(y_test, y_pred_optimal)\n",
        "mae_optimal = mean_absolute_error(y_test, y_pred_optimal)"
      ]
    },
    {
      "cell_type": "code",
      "source": [
        "\n",
        "# Afficher les performances du nouveau modèle\n",
        "print(\"Performances du modèle avec les paramètres optimisés :\")\n",
        "print(\"MSE:\", mse_optimal)\n",
        "print(\"R-squared:\", r2_optimal)\n",
        "print(\"MAE:\", mae_optimal)\n",
        "print(\"RMSE:\", rmse_optimal)\n",
        "print(\"MAPE:\", mape_optimal)"
      ],
      "metadata": {
        "colab": {
          "base_uri": "https://localhost:8080/"
        },
        "id": "MeDK8tNmnHw_",
        "outputId": "b4adec16-f2b9-4640-d91a-51246826d37f"
      },
      "execution_count": 23,
      "outputs": [
        {
          "output_type": "stream",
          "name": "stdout",
          "text": [
            "Performances du modèle avec les paramètres optimisés :\n",
            "MSE: 30.86175277090765\n",
            "R-squared: 0.9856414433392197\n",
            "MAE: 3.380050999741135\n",
            "RMSE: 5.555335522802169\n",
            "MAPE: 19.05133152628927\n"
          ]
        }
      ]
    },
    {
      "cell_type": "code",
      "execution_count": 24,
      "metadata": {
        "colab": {
          "base_uri": "https://localhost:8080/"
        },
        "id": "6z4xUL2dKKov",
        "outputId": "4b181ab7-7dd0-4dec-8275-2e8915c6fa63"
      },
      "outputs": [
        {
          "output_type": "stream",
          "name": "stdout",
          "text": [
            "Performances du modèle avec les paramètres optimisés :\n",
            "MSE: 30.86175277090765\n",
            "R-squared: 0.9856414433392197\n",
            "MAE: 3.380050999741135\n"
          ]
        }
      ],
      "source": [
        "# Afficher les performances du nouveau modèle\n",
        "print(\"Performances du modèle avec les paramètres optimisés :\")\n",
        "print(\"MSE:\", mse_optimal)\n",
        "print(\"R-squared:\", r2_optimal)\n",
        "print(\"MAE:\", mae_optimal)"
      ]
    },
    {
      "cell_type": "code",
      "execution_count": 25,
      "metadata": {
        "colab": {
          "base_uri": "https://localhost:8080/",
          "height": 565
        },
        "id": "HgXABTeg-qFO",
        "outputId": "97578dc3-367d-418c-bc04-052962c571eb"
      },
      "outputs": [
        {
          "output_type": "display_data",
          "data": {
            "text/plain": [
              "<Figure size 1000x600 with 1 Axes>"
            ],
            "image/png": "[encoded data removed]"
          },
          "metadata": {}
        }
      ],
      "source": [
        "# Tracer les valeurs réelles par rapport aux valeurs prédites\n",
        "plt.figure(figsize=(10, 6))\n",
        "plt.scatter(y_test, y_pred_optimal, color='blue', label='Valeurs prédites vs réelles')\n",
        "plt.plot([y_test.min(), y_test.max()], [y_test.min(), y_test.max()], color='red', linestyle='--', label='Ligne de référence')\n",
        "plt.xlabel('Valeurs réelles')\n",
        "plt.ylabel('Valeurs prédites')\n",
        "plt.title('Comparaison des valeurs prédites aux valeurs réelles')\n",
        "plt.legend()\n",
        "plt.show()"
      ]
    },
    {
      "cell_type": "code",
      "execution_count": 26,
      "metadata": {
        "colab": {
          "base_uri": "https://localhost:8080/"
        },
        "id": "rTiCqpeB8JAA",
        "outputId": "56a64391-b7c8-46cf-8245-47d154bc1329"
      },
      "outputs": [
        {
          "output_type": "stream",
          "name": "stdout",
          "text": [
            "   goals_scored  assists  total_points  minutes  goals_conceded  creativity  \\\n",
            "0             0        0             0        0               0         0.0   \n",
            "1             0        0             0        0               0         0.0   \n",
            "2             0        1             4        1               0         0.5   \n",
            "3             1        3            21      236               2        63.6   \n",
            "4             0        0            40     1104              12        56.7   \n",
            "\n",
            "   influence  threat  bonus  bps  ict_index  clean_sheets  red_cards  \\\n",
            "0        0.0     0.0      0    0        0.0             0          0   \n",
            "1        0.0     0.0      0    0        0.0             0          0   \n",
            "2        1.8     2.0      0   12        0.4             0          0   \n",
            "3       79.4    77.0      0   62       21.9             1          1   \n",
            "4      202.8    69.0      2  210       32.9             4          0   \n",
            "\n",
            "   yellow_cards  selected_by_percent  now_cost element_type        source  \\\n",
            "0             0                  0.2      44.0          FWD  players23-24   \n",
            "1             0                  0.4      39.0          DEF  players23-24   \n",
            "2             0                  0.1      44.0          MID  players23-24   \n",
            "3             0                  0.1      54.0          MID  players23-24   \n",
            "4             1                 15.4      49.0          DEF  players23-24   \n",
            "\n",
            "                           name  \n",
            "0               Folarin Balogun  \n",
            "1           Cédric Alves Soares  \n",
            "2                Mohamed Elneny  \n",
            "3         Fábio Ferreira Vieira  \n",
            "4  Gabriel dos Santos Magalhães  \n"
          ]
        }
      ],
      "source": [
        "print(data.head())"
      ]
    },
    {
      "cell_type": "code",
      "execution_count": 27,
      "metadata": {
        "id": "jv6GNSPHyQl7",
        "colab": {
          "base_uri": "https://localhost:8080/"
        },
        "outputId": "418ba947-c443-408a-8474-7d05bd30a85a"
      },
      "outputs": [
        {
          "output_type": "stream",
          "name": "stdout",
          "text": [
            "               name position           team   xP  assists  bonus  bps  \\\n",
            "0       Femi Seriki      DEF  Sheffield Utd  0.0        0      0    0   \n",
            "1     Josh Brooking      DEF        Chelsea  0.0        0      0    0   \n",
            "2       Radek Vítek       GK        Man Utd  0.0        0      0    0   \n",
            "3  Jack Hinshelwood      MID       Brighton  0.0        0      0    0   \n",
            "4      Jadon Sancho      MID        Man Utd  0.0        0      0    0   \n",
            "\n",
            "   clean_sheets  creativity  element  ...  team_a_score  team_h_score  threat  \\\n",
            "0             0         0.0      653  ...             6             0     0.0   \n",
            "1             0         0.0      723  ...             2             2     0.0   \n",
            "2             0         0.0      669  ...             1             3     0.0   \n",
            "3             0         0.0      621  ...             0             3     0.0   \n",
            "4             0         0.0      397  ...             1             3     0.0   \n",
            "\n",
            "   total_points  transfers_balance  transfers_in  transfers_out  now_cost  \\\n",
            "0             0               -138             0            138        39   \n",
            "1             0                  7            60             53        40   \n",
            "2             0                -42             0             42        40   \n",
            "3             0              -1503            32           1535        45   \n",
            "4             0                -93             0             93        67   \n",
            "\n",
            "   was_home yellow_cards  \n",
            "0      True            0  \n",
            "1     False            0  \n",
            "2     False            0  \n",
            "3     False            0  \n",
            "4     False            0  \n",
            "\n",
            "[5 rows x 40 columns]\n",
            "832\n"
          ]
        }
      ],
      "source": [
        "team_data = pd.read_csv('/content/gw27.csv')\n",
        "team_data = team_data.rename(columns={'value': 'now_cost'})\n",
        "\n",
        "print(team_data.head())\n",
        "print(len(team_data))"
      ]
    },
    {
      "cell_type": "code",
      "execution_count": 28,
      "metadata": {
        "id": "d7g_RO80RoyF"
      },
      "outputs": [],
      "source": [
        "def predict_player_performance(model, player_name, data):\n",
        "    # Filtrer les données pour obtenir les caractéristiques du joueur spécifié\n",
        "    player_data = data[data['name'] == player_name]\n",
        "\n",
        "    # Sélectionner uniquement les caractéristiques utilisées lors de l'entraînement\n",
        "    selected_features = ['goals_scored','assists','goals_conceded','creativity','influence','threat','bonus','clean_sheets','red_cards','yellow_cards','now_cost']\n",
        "\n",
        "\n",
        "    player_data = player_data[selected_features]\n",
        "\n",
        "    # Effectuer la prédiction\n",
        "    predicted_performance = optimal_model.predict(player_data)\n",
        "\n",
        "    # Calculer la moyenne des performances prédites\n",
        "    average_performance = np.mean(predicted_performance)\n",
        "\n",
        "    return average_performance"
      ]
    },
    {
      "cell_type": "code",
      "execution_count": 29,
      "metadata": {
        "id": "GQ_iUhVi-qCE",
        "colab": {
          "base_uri": "https://localhost:8080/"
        },
        "outputId": "c31a3da6-7fe8-429e-f3a6-799902a391ab"
      },
      "outputs": [
        {
          "output_type": "stream",
          "name": "stdout",
          "text": [
            "Performances prédites (total_points) pour le joueur:  Erling Haaland 6.539924337363401\n"
          ]
        }
      ],
      "source": [
        "# Nom du joueur à prédire\n",
        "player_name = 'Erling Haaland'\n",
        "\n",
        "# Prédiction des performances du joueur\n",
        "predicted_performance = predict_player_performance(optimal_model, player_name, team_data)\n",
        "\n",
        "print(\"Performances prédites (total_points) pour le joueur: \",player_name, predicted_performance)\n"
      ]
    },
    {
      "cell_type": "code",
      "execution_count": 30,
      "metadata": {
        "id": "pITncp_ESN4A",
        "colab": {
          "base_uri": "https://localhost:8080/"
        },
        "outputId": "c30f4893-4edf-42eb-aad8-abc6af6e789d"
      },
      "outputs": [
        {
          "output_type": "stream",
          "name": "stdout",
          "text": [
            "Nom du joueur: Erling Haaland\n",
            "Prix actuel: 145\n",
            "Total de points actuel: 6\n",
            "Poste: FWD\n"
          ]
        }
      ],
      "source": [
        "# Sélectionner les informations pour le joueur spécifié\n",
        "player_info = team_data[team_data['name'] == player_name]\n",
        "\n",
        "# Vérifier si le joueur spécifié est présent dans les données\n",
        "if not player_info.empty:\n",
        "    # Extraire les informations nécessaires\n",
        "    now_cost = player_info['now_cost'].values[0]\n",
        "    total_points = player_info['total_points'].values[0]\n",
        "    position = player_info['position'].values[0]  # Assurez-vous que 'element_type' contient les informations sur le poste du joueur\n",
        "\n",
        "    # Afficher les informations\n",
        "    print(\"Nom du joueur:\", player_name)\n",
        "    print(\"Prix actuel:\", now_cost)\n",
        "    print(\"Total de points actuel:\", total_points)\n",
        "    print(\"Poste:\", position)\n",
        "else:\n",
        "    print(\"Le joueur spécifié n'a pas été trouvé dans les données.\")\n"
      ]
    },
    {
      "cell_type": "markdown",
      "metadata": {
        "id": "4si914XFna7j"
      },
      "source": [
        "prediction pour les joeurus de la saison en cours"
      ]
    },
    {
      "cell_type": "code",
      "execution_count": 31,
      "metadata": {
        "id": "PlvJiOqimh-b",
        "colab": {
          "base_uri": "https://localhost:8080/"
        },
        "outputId": "85b54ae8-ebdf-4061-c65a-ac0fdf22e90a"
      },
      "outputs": [
        {
          "output_type": "stream",
          "name": "stdout",
          "text": [
            "Performances prédites (total_points) pour le joueur: Femi Seriki : 0.01825309603794366\n",
            "Performances prédites (total_points) pour le joueur: Josh Brooking : 0.01825309603794366\n",
            "Performances prédites (total_points) pour le joueur: Radek Vítek : 0.01825309603794366\n",
            "Performances prédites (total_points) pour le joueur: Jack Hinshelwood : 0.12386491142839096\n",
            "Performances prédites (total_points) pour le joueur: Jadon Sancho : -0.2842025264319632\n",
            "Performances prédites (total_points) pour le joueur: Divock Origi : 5.804944901212417\n",
            "Performances prédites (total_points) pour le joueur: Sam Curtis : 0.01825309603794366\n",
            "Performances prédites (total_points) pour le joueur: Rhys Norrington-Davies : 0.01825309603794366\n",
            "Performances prédites (total_points) pour le joueur: Vitaly Janelt : 3.3051742398078483\n",
            "Performances prédites (total_points) pour le joueur: Ionuț Radu : 0.06152457668863276\n",
            "Performances prédites (total_points) pour le joueur: Andre Brooks : 1.5798704269334718\n",
            "Performances prédites (total_points) pour le joueur: Jack Grealish : 0.0004074067421339753\n",
            "Performances prédites (total_points) pour le joueur: Emil Krafth : 0.07749387650433892\n",
            "Performances prédites (total_points) pour le joueur: Boubacar Traoré : 1.1855612301294918\n",
            "Performances prédites (total_points) pour le joueur: Denis Franchi : 0.01825309603794366\n",
            "Performances prédites (total_points) pour le joueur: James Shea : 0.06152457668863276\n",
            "Performances prédites (total_points) pour le joueur: Curtis Jones : 0.12891197131981724\n",
            "Performances prédites (total_points) pour le joueur: Myles Lewis-Skelly : 0.12386491142839096\n",
            "Performances prédites (total_points) pour le joueur: Devan Tanton : 0.01825309603794366\n",
            "Performances prédites (total_points) pour le joueur: Reece James : 0.1433214104370826\n",
            "Performances prédites (total_points) pour le joueur: Brandon Austin : 0.01825309603794366\n",
            "Performances prédites (total_points) pour le joueur: Anssumane Fati Vieira : 3.065252534161444\n",
            "Performances prédites (total_points) pour le joueur: Robin Olsen : 0.01825309603794366\n",
            "Performances prédites (total_points) pour le joueur: Fabian Mrozek : 0.01825309603794366\n",
            "Performances prédites (total_points) pour le joueur: Joe Gardner : 0.12386491142839096\n",
            "Performances prédites (total_points) pour le joueur: Ben Osborn : 2.3531044867522715\n",
            "Performances prédites (total_points) pour le joueur: Amad Diallo : 0.07749387650433892\n",
            "Performances prédites (total_points) pour le joueur: Anthony Elanga : 2.937606077318551\n",
            "Performances prédites (total_points) pour le joueur: Kaelan Casey : 0.01825309603794366\n",
            "Performances prédites (total_points) pour le joueur: Oliver Norwood : 1.837222962805955\n",
            "Performances prédites (total_points) pour le joueur: Harry Toffolo : 2.8018572864526616\n",
            "Performances prédites (total_points) pour le joueur: Bernardo Veiga de Carvalho e Silva : 10.356923385923158\n",
            "Performances prédites (total_points) pour le joueur: Charlie Taylor : 2.8511094931958683\n",
            "Performances prédites (total_points) pour le joueur: Adam Wharton : 4.51565608664647\n",
            "Performances prédites (total_points) pour le joueur: Ivan Toney : 4.452445823859346\n",
            "Performances prédites (total_points) pour le joueur: Ji-Soo Kim : 0.01825309603794366\n",
            "Performances prédites (total_points) pour le joueur: Nuno Varela Tavares : 0.01825309603794366\n",
            "Performances prédites (total_points) pour le joueur: Alex Murphy : 0.01825309603794366\n",
            "Performances prédites (total_points) pour le joueur: Eddie Nketiah : 0.2744393891269738\n",
            "Performances prédites (total_points) pour le joueur: Benoît Badiashile : 0.07749387650433892\n",
            "Performances prédites (total_points) pour le joueur: Emile Smith Rowe : 0.1433214104370826\n",
            "Performances prédites (total_points) pour le joueur: Jarell Quansah : 0.01825309603794366\n",
            "Performances prédites (total_points) pour le joueur: Ben Chilwell : 3.425990151156539\n",
            "Performances prédites (total_points) pour le joueur: Philippe Coutinho Correia : 0.35043743846866504\n",
            "Performances prédites (total_points) pour le joueur: Tim Iroegbunam : 0.9963891329950793\n",
            "Performances prédites (total_points) pour le joueur: Andy Lonergan : 0.01825309603794366\n",
            "Performances prédites (total_points) pour le joueur: Carlos Baleba : 3.0376582848446376\n",
            "Performances prédites (total_points) pour le joueur: Pablo Sarabia : 7.036349635039399\n",
            "Performances prédites (total_points) pour le joueur: Kieffer Moore : 0.14245440912833918\n",
            "Performances prédites (total_points) pour le joueur: Wayne Hennessey : 0.01825309603794366\n",
            "Performances prédites (total_points) pour le joueur: Remi Matthews : 0.01825309603794366\n",
            "Performances prédites (total_points) pour le joueur: Ibrahima Konaté : 8.982958747566817\n",
            "Performances prédites (total_points) pour le joueur: Joelinton Cássio Apolinário de Lira : 0.35043743846866504\n",
            "Performances prédites (total_points) pour le joueur: Travis Hernes : 0.12386491142839096\n",
            "Performances prédites (total_points) pour le joueur: Marcus Tavernier : 5.917057858386984\n",
            "Performances prédites (total_points) pour le joueur: Matthew Cox : 0.01825309603794366\n",
            "Performances prédites (total_points) pour le joueur: Manuel Akanji : 0.12891197131981724\n",
            "Performances prédites (total_points) pour le joueur: Matheus França de Oliveira : 2.0655967934334436\n",
            "Performances prédites (total_points) pour le joueur: Justin Hubner : 0.01825309603794366\n",
            "Performances prédites (total_points) pour le joueur: Lucas Tolentino Coelho de Lima : 4.129509763132087\n",
            "Performances prédites (total_points) pour le joueur: Rasmus Højlund : -0.25610829607409935\n",
            "Performances prédites (total_points) pour le joueur: Luca Koleosho : 0.18895998216286747\n",
            "Performances prédites (total_points) pour le joueur: Rayan Aït-Nouri : 3.730032300090675\n",
            "Performances prédites (total_points) pour le joueur: Calum Chambers : 0.01825309603794366\n",
            "Performances prédites (total_points) pour le joueur: Ben Davies : 0.06152457668863276\n",
            "Performances prédites (total_points) pour le joueur: Emerson Palmieri dos Santos : 3.0191435181950137\n",
            "Performances prédites (total_points) pour le joueur: Luis Díaz : 6.508695936903366\n",
            "Performances prédites (total_points) pour le joueur: Lawrence Vigouroux : 0.01825309603794366\n",
            "Performances prédites (total_points) pour le joueur: Jakub Moder : 1.5931460886965039\n",
            "Performances prédites (total_points) pour le joueur: Tommi O'Reilly : 0.12386491142839096\n",
            "Performances prédites (total_points) pour le joueur: Dara Costelloe : 0.12386491142839096\n",
            "Performances prédites (total_points) pour le joueur: Ashley Phillips : 0.01825309603794366\n",
            "Performances prédites (total_points) pour le joueur: John Stones : 3.6229521362681907\n",
            "Performances prédites (total_points) pour le joueur: Idrissa Gueye : 0.18895998216286747\n",
            "Performances prédites (total_points) pour le joueur: Harry Wilson : 16.41021281792509\n",
            "Performances prédites (total_points) pour le joueur: Marcus Bettinelli : 0.01825309603794366\n",
            "Performances prédites (total_points) pour le joueur: Malcolm Ebiowei : 0.07749387650433892\n",
            "Performances prédites (total_points) pour le joueur: Benjamin White : 12.058426723394989\n",
            "Performances prédites (total_points) pour le joueur: Leigh Kavanagh : 0.01825309603794366\n",
            "Performances prédites (total_points) pour le joueur: Teden Mengi : 2.5953548018575074\n",
            "Performances prédites (total_points) pour le joueur: Ezri Konsa Ngoyo : 2.3460870727056498\n",
            "Performances prédites (total_points) pour le joueur: Luis Sinisterra : 0.14518603778763958\n",
            "Performances prédites (total_points) pour le joueur: Thomas Partey : 1.405377366540998\n",
            "Performances prédites (total_points) pour le joueur: Jayden Luker : 0.12386491142839096\n",
            "Performances prédites (total_points) pour le joueur: Jamal Lewis : 0.01825309603794366\n",
            "Performances prédites (total_points) pour le joueur: Leon Bailey : 10.921289062266418\n",
            "Performances prédites (total_points) pour le joueur: Jonny Evans : 2.2727884076724787\n",
            "Performances prédites (total_points) pour le joueur: Ethan Horvath : 0.06152457668863276\n",
            "Performances prédites (total_points) pour le joueur: Valentín Barco : 0.01825309603794366\n",
            "Performances prédites (total_points) pour le joueur: Luke Plange : 0.12386491142839096\n",
            "Performances prédites (total_points) pour le joueur: Luke Shaw : 0.1433214104370826\n",
            "Performances prédites (total_points) pour le joueur: Oliver Scarles : 0.01825309603794366\n",
            "Performances prédites (total_points) pour le joueur: Mario Lemina : 3.3228188016661755\n",
            "Performances prédites (total_points) pour le joueur: Andi Zeqiri : 0.07749387650433892\n",
            "Performances prédites (total_points) pour le joueur: James Tarkowski : 3.559127931301573\n",
            "Performances prédites (total_points) pour le joueur: Kristoffer Ajer : 2.0019726840094663\n",
            "Performances prédites (total_points) pour le joueur: Brennan Johnson : 8.266279842835425\n",
            "Performances prédites (total_points) pour le joueur: Jake O'Brien : 0.01825309603794366\n",
            "Performances prédites (total_points) pour le joueur: Eddie Beach : 0.01825309603794366\n",
            "Performances prédites (total_points) pour le joueur: James Sweet : 0.01825309603794366\n",
            "Performances prédites (total_points) pour le joueur: Ryan Sessegnon : 0.07749387650433892\n",
            "Performances prédites (total_points) pour le joueur: Justin Kluivert : 9.759878317441895\n",
            "Performances prédites (total_points) pour le joueur: Viljami Sinisalo : 0.01825309603794366\n",
            "Performances prédites (total_points) pour le joueur: Pierre-Emile Højbjerg : 1.6988740032167597\n",
            "Performances prédites (total_points) pour le joueur: Lesley Ugochukwu : 0.07749387650433892\n",
            "Performances prédites (total_points) pour le joueur: Jadan Raymond : 0.12386491142839096\n",
            "Performances prédites (total_points) pour le joueur: Arnaut Danjuma Groeneveld : 0.1433214104370826\n",
            "Performances prédites (total_points) pour le joueur: Callum Hudson-Odoi : 3.815203868241723\n",
            "Performances prédites (total_points) pour le joueur: Kieran Tierney : 0.07749387650433892\n",
            "Performances prédites (total_points) pour le joueur: Tim Ream : 0.12386491142839096\n",
            "Performances prédites (total_points) pour le joueur: Phil Foden : 19.57281366530246\n",
            "Performances prédites (total_points) pour le joueur: Christian Eriksen : 0.35043743846866504\n",
            "Performances prédites (total_points) pour le joueur: Fábio Silva : 0.1433214104370826\n",
            "Performances prédites (total_points) pour le joueur: Ivo Grbic : 2.5336103796559954\n",
            "Performances prédites (total_points) pour le joueur: Alfie Whiteman : 0.01825309603794366\n",
            "Performances prédites (total_points) pour le joueur: James Tomkins : 0.01825309603794366\n",
            "Performances prédites (total_points) pour le joueur: William Osula : 0.6420964923699898\n",
            "Performances prédites (total_points) pour le joueur: Ollie Watkins : 15.067895409102379\n",
            "Performances prédites (total_points) pour le joueur: Gabriel dos Santos Magalhães : 6.107055536541013\n",
            "Performances prédites (total_points) pour le joueur: Takehiro Tomiyasu : 0.12386491142839096\n",
            "Performances prédites (total_points) pour le joueur: Harrison Reed : 6.715861103107459\n",
            "Performances prédites (total_points) pour le joueur: Manor Solomon : 0.2744393891269738\n",
            "Performances prédites (total_points) pour le joueur: Marcus Oliveira Alencar : 0.12386491142839096\n",
            "Performances prédites (total_points) pour le joueur: Eric Bailly : 0.01825309603794366\n",
            "Performances prédites (total_points) pour le joueur: Hakim Ziyech : 0.14518603778763958\n",
            "Performances prédites (total_points) pour le joueur: Gianluca Scamacca : -0.021686633144536633\n",
            "Performances prédites (total_points) pour le joueur: Wilson Odobert : 7.360202871293628\n",
            "Performances prédites (total_points) pour le joueur: Jili Buyabu : 0.01825309603794366\n",
            "Performances prédites (total_points) pour le joueur: Benicio Baker-Boaitey : 0.12386491142839096\n",
            "Performances prédites (total_points) pour le joueur: Christian Nørgaard : 3.7401229186620673\n",
            "Performances prédites (total_points) pour le joueur: Sean Longstaff : 6.365381825958447\n",
            "Performances prédites (total_points) pour le joueur: Pelly Ruddock Mpanzu : 1.3133953220207943\n",
            "Performances prédites (total_points) pour le joueur: Danny Ings : 1.1331743076526668\n",
            "Performances prédites (total_points) pour le joueur: Donny van de Beek : 0.09526523771602036\n",
            "Performances prédites (total_points) pour le joueur: Giulian Biancone : 0.01825309603794366\n",
            "Performances prédites (total_points) pour le joueur: Albert Sambi Lokonga : 0.12891197131981724\n",
            "Performances prédites (total_points) pour le joueur: Luke McNally : 0.01825309603794366\n",
            "Performances prédites (total_points) pour le joueur: Kaoru Mitoma : -0.28012049579220144\n",
            "Performances prédites (total_points) pour le joueur: Abdul Rahman Baba : 0.01825309603794366\n",
            "Performances prédites (total_points) pour le joueur: Dango Ouattara : 0.7958010981478374\n",
            "Performances prédites (total_points) pour le joueur: Daniel Jebbison : 0.18895998216286747\n",
            "Performances prédites (total_points) pour le joueur: Simon Adingra : 4.59843670843385\n",
            "Performances prédites (total_points) pour le joueur: Scott Twine : 0.12891197131981724\n",
            "Performances prédites (total_points) pour le joueur: Daiki Hashioka : 1.3285611135196842\n",
            "Performances prédites (total_points) pour le joueur: Murillo Santiago Costa dos Santos : 2.7450018026775647\n",
            "Performances prédites (total_points) pour le joueur: Owen Hesketh : 0.12386491142839096\n",
            "Performances prédites (total_points) pour le joueur: Sergio Gómez : 0.01825309603794366\n",
            "Performances prédites (total_points) pour le joueur: Wataru Endo : 2.17224128541312\n",
            "Performances prédites (total_points) pour le joueur: Danilo dos Santos de Oliveira : 2.4041855650007147\n",
            "Performances prédites (total_points) pour le joueur: David Raya Martin : 4.792367337821994\n",
            "Performances prédites (total_points) pour le joueur: Jacob Murphy : 6.110915118535809\n",
            "Performances prédites (total_points) pour le joueur: Reuell Walters : 0.01825309603794366\n",
            "Performances prédites (total_points) pour le joueur: Thomas Kaminski : 3.362448761657123\n",
            "Performances prédites (total_points) pour le joueur: Amadou Diallo : 0.12386491142839096\n",
            "Performances prédites (total_points) pour le joueur: Jean-Philippe Mateta : 3.521791830986346\n",
            "Performances prédites (total_points) pour le joueur: Dovydas Sasnauskas : 0.01825309603794366\n",
            "Performances prédites (total_points) pour le joueur: Ben Pearson : 0.12386491142839096\n",
            "Performances prédites (total_points) pour le joueur: Bailey Peacock-Farrell : 0.01825309603794366\n",
            "Performances prédites (total_points) pour le joueur: Felipe Augusto de Almeida Monteiro : -0.07712033842272281\n",
            "Performances prédites (total_points) pour le joueur: William Saliba : 6.2664286432401175\n",
            "Performances prédites (total_points) pour le joueur: Michael Obafemi : 0.12891197131981724\n",
            "Performances prédites (total_points) pour le joueur: Ben Godfrey : 2.684972282298346\n",
            "Performances prédites (total_points) pour le joueur: Franco Umeh-Chibueze : 0.12386491142839096\n",
            "Performances prédites (total_points) pour le joueur: Victor da Silva : 2.3934365735367407\n",
            "Performances prédites (total_points) pour le joueur: André Tavares Gomes : 3.7356904021031596\n",
            "Performances prédites (total_points) pour le joueur: Destiny Udogie : 2.8411829885138395\n",
            "Performances prédites (total_points) pour le joueur: Ryan Trevitt : 0.12386491142839096\n",
            "Performances prédites (total_points) pour le joueur: Dion Pereira : 0.07749387650433892\n",
            "Performances prédites (total_points) pour le joueur: Tayo Adaramola : 0.01825309603794366\n",
            "Performances prédites (total_points) pour le joueur: Connor Roberts : 0.06152457668863276\n",
            "Performances prédites (total_points) pour le joueur: Douglas Luiz Soares de Paulo : 6.492708029674829\n",
            "Performances prédites (total_points) pour le joueur: Mark Flekken : 2.4637712726550616\n",
            "Performances prédites (total_points) pour le joueur: Martin Dubravka : 6.303204662100627\n",
            "Performances prédites (total_points) pour le joueur: James McConnell : 0.07749387650433892\n",
            "Performances prédites (total_points) pour le joueur: Stefan Bajcetic : 0.09526523771602036\n",
            "Performances prédites (total_points) pour le joueur: Andreas Hoelgebaum Pereira : 6.846314016414016\n",
            "Performances prédites (total_points) pour le joueur: Joseph Johnson : 0.01825309603794366\n",
            "Performances prédites (total_points) pour le joueur: Toby Collyer : 0.12386491142839096\n",
            "Performances prédites (total_points) pour le joueur: Marc Cucurella Saseta : 0.18895998216286747\n",
            "Performances prédites (total_points) pour le joueur: João Palhinha Gonçalves : 0.12891197131981724\n",
            "Performances prédites (total_points) pour le joueur: Bryan Gil Salvatierra : 0.12891197131981724\n",
            "Performances prédites (total_points) pour le joueur: Jimi Tauriainen : 0.12386491142839096\n",
            "Performances prédites (total_points) pour le joueur: Neco Williams : 3.263105742140725\n",
            "Performances prédites (total_points) pour le joueur: Harrison Ashby : 0.01825309603794366\n",
            "Performances prédites (total_points) pour le joueur: Billy Gilmour : 0.12891197131981724\n",
            "Performances prédites (total_points) pour le joueur: John Egan : 0.06152457668863276\n",
            "Performances prédites (total_points) pour le joueur: Mikkel Damsgaard : 0.18895998216286747\n",
            "Performances prédites (total_points) pour le joueur: Angelo Ogbonna : 0.06152457668863276\n",
            "Performances prédites (total_points) pour le joueur: Chris Basham : 0.01825309603794366\n",
            "Performances prédites (total_points) pour le joueur: Son Heung-min : 9.585235074732537\n",
            "Performances prédites (total_points) pour le joueur: Joe Gomez : 6.486013294584856\n",
            "Performances prédites (total_points) pour le joueur: Darren Randolph : 0.01825309603794366\n",
            "Performances prédites (total_points) pour le joueur: Ben Johnson : 0.07749387650433892\n",
            "Performances prédites (total_points) pour le joueur: Pedro Porro : 0.37263473973902084\n",
            "Performances prédites (total_points) pour le joueur: Manuel Benson Hedilazio : 2.3857744143764044\n",
            "Performances prédites (total_points) pour le joueur: Levi Colwill : 3.331427348466646\n",
            "Performances prédites (total_points) pour le joueur: Jonathan Panzo : 0.01825309603794366\n",
            "Performances prédites (total_points) pour le joueur: Pablo Fornals Malla : 0.14245440912833918\n",
            "Performances prédites (total_points) pour le joueur: Elijah Adebayo : 0.12891197131981724\n",
            "Performances prédites (total_points) pour le joueur: Rico Henry : 0.06152457668863276\n",
            "Performances prédites (total_points) pour le joueur: Owen Beck : 0.12386491142839096\n",
            "Performances prédites (total_points) pour le joueur: Bobby Clark : 3.2189232270062305\n",
            "Performances prédites (total_points) pour le joueur: Flynn Downes : 0.12891197131981724\n",
            "Performances prédites (total_points) pour le joueur: Max Kinsey : 0.01825309603794366\n",
            "Performances prédites (total_points) pour le joueur: Ben Greenwood : 0.01825309603794366\n",
            "Performances prédites (total_points) pour le joueur: Alfie Dorrington : 0.01825309603794366\n",
            "Performances prédites (total_points) pour le joueur: Joe Willock : 6.33243964101428\n",
            "Performances prédites (total_points) pour le joueur: Javier Manquillo Gaitán : 0.01825309603794366\n",
            "Performances prédites (total_points) pour le joueur: Kobbie Mainoo : 2.7322264562776195\n",
            "Performances prédites (total_points) pour le joueur: Dominic Calvert-Lewin : 3.8846692155958054\n",
            "Performances prédites (total_points) pour le joueur: Tommy Doyle : 3.1733019198268617\n",
            "Performances prédites (total_points) pour le joueur: Halil Dervişoğlu : 0.12386491142839096\n",
            "Performances prédites (total_points) pour le joueur: Gabriel Osho : 0.07749387650433892\n",
            "Performances prédites (total_points) pour le joueur: João Pedro Junqueira de Jesus : 0.1433214104370826\n",
            "Performances prédites (total_points) pour le joueur: Vincent Angelini : 0.01825309603794366\n",
            "Performances prédites (total_points) pour le joueur: Kurt Zouma : 9.849206894730337\n",
            "Performances prédites (total_points) pour le joueur: Omar Richards : 0.07749387650433892\n",
            "Performances prédites (total_points) pour le joueur: Mark O’Mahony : 0.12386491142839096\n",
            "Performances prédites (total_points) pour le joueur: Iliman Ndiaye : 0.14518603778763958\n",
            "Performances prédites (total_points) pour le joueur: Elliot Thorpe : 0.12386491142839096\n",
            "Performances prédites (total_points) pour le joueur: Shea Charles : 0.12386491142839096\n",
            "Performances prédites (total_points) pour le joueur: Joe Rodon : 0.01825309603794366\n",
            "Performances prédites (total_points) pour le joueur: Habeeb Ogunneye : 0.01825309603794366\n",
            "Performances prédites (total_points) pour le joueur: Neal Maupay : 0.9794251040567495\n",
            "Performances prédites (total_points) pour le joueur: Jordan Ayew : 5.6448483302060675\n",
            "Performances prédites (total_points) pour le joueur: Divin Mubama : 0.06152457668863276\n",
            "Performances prédites (total_points) pour le joueur: Nathaniel Phillips : 0.01825309603794366\n",
            "Performances prédites (total_points) pour le joueur: Dominik Szoboszlai : 0.8228580200621051\n",
            "Performances prédites (total_points) pour le joueur: Ryan Oné : 0.07749387650433892\n",
            "Performances prédites (total_points) pour le joueur: Kristian Sekularac : 0.07749387650433892\n",
            "Performances prédites (total_points) pour le joueur: Jordan Clark : 4.015163998143847\n",
            "Performances prédites (total_points) pour le joueur: Elijah Campbell : 0.01825309603794366\n",
            "Performances prédites (total_points) pour le joueur: Mason Mount : -0.32932886612856366\n",
            "Performances prédites (total_points) pour le joueur: Ellery Balcombe : 0.01825309603794366\n",
            "Performances prédites (total_points) pour le joueur: David Brooks : 0.09526523771602036\n",
            "Performances prédites (total_points) pour le joueur: Pascal Groß : 1.6217535813043435\n",
            "Performances prédites (total_points) pour le joueur: John McGinn : 3.6514269315759122\n",
            "Performances prédites (total_points) pour le joueur: Treymaurice Nyoni : 0.12386491142839096\n",
            "Performances prédites (total_points) pour le joueur: Tanguy Ndombélé Alvaro : 0.07749387650433892\n",
            "Performances prédites (total_points) pour le joueur: Ben Parkinson : 0.12386491142839096\n",
            "Performances prédites (total_points) pour le joueur: Jairo Riedewald : 0.06152457668863276\n",
            "Performances prédites (total_points) pour le joueur: Yoane Wissa : 9.193329858394518\n",
            "Performances prédites (total_points) pour le joueur: Reiss Nelson : 0.18895998216286747\n",
            "Performances prédites (total_points) pour le joueur: Ibrahim Sangaré : 0.12891197131981724\n",
            "Performances prédites (total_points) pour le joueur: Facundo Pellistri Rebollo : 0.06152457668863276\n",
            "Performances prédites (total_points) pour le joueur: James Hill : 0.01825309603794366\n",
            "Performances prédites (total_points) pour le joueur: Bruno Cavaco Jordão : 0.06152457668863276\n",
            "Performances prédites (total_points) pour le joueur: Kjell Scherpen : 0.01825309603794366\n",
            "Performances prédites (total_points) pour le joueur: Máximo Perrone : 0.07749387650433892\n",
            "Performances prédites (total_points) pour le joueur: Aleksandar Mitrović : -0.22839566087613383\n",
            "Performances prédites (total_points) pour le joueur: Kevin Schade : 0.1433214104370826\n",
            "Performances prédites (total_points) pour le joueur: Moussa Niakhaté : 0.12386491142839096\n",
            "Performances prédites (total_points) pour le joueur: Paul Dummett : 0.01825309603794366\n",
            "Performances prédites (total_points) pour le joueur: Rodrigo Duarte Ribeiro : 0.12386491142839096\n",
            "Performances prédites (total_points) pour le joueur: Sven Botman : 5.84263993776931\n",
            "Performances prédites (total_points) pour le joueur: Issa Diop : 0.07749387650433892\n",
            "Performances prédites (total_points) pour le joueur: Aaron Ramsdale : 0.12386491142839096\n",
            "Performances prédites (total_points) pour le joueur: Tosin Adarabioyo : 6.175227362936999\n",
            "Performances prédites (total_points) pour le joueur: Trent Alexander-Arnold : -0.30110299861134626\n",
            "Performances prédites (total_points) pour le joueur: Anass Zaroury : 0.14245440912833918\n",
            "Performances prédites (total_points) pour le joueur: Pervis Estupiñán : 8.019351163580403\n",
            "Performances prédites (total_points) pour le joueur: Enso González : 0.12891197131981724\n",
            "Performances prédites (total_points) pour le joueur: Chiedozie Ogbene : 3.6424289599769395\n",
            "Performances prédites (total_points) pour le joueur: Romain Faivre : 0.12891197131981724\n",
            "Performances prédites (total_points) pour le joueur: Harvey Elliott : 7.151463391863843\n",
            "Performances prédites (total_points) pour le joueur: Jack Robinson : 3.39602658972142\n",
            "Performances prédites (total_points) pour le joueur: Detlef Esapa Osong : 0.12386491142839096\n",
            "Performances prédites (total_points) pour le joueur: Gabriel Martinelli Silva : 14.837526829710827\n",
            "Performances prédites (total_points) pour le joueur: Wout Weghorst : 0.14518603778763958\n",
            "Performances prédites (total_points) pour le joueur: Jhon Durán : 0.12891197131981724\n",
            "Performances prédites (total_points) pour le joueur: Oscar Bobb : 0.07749387650433892\n",
            "Performances prédites (total_points) pour le joueur: Michail Antonio : 2.166654597879712\n",
            "Performances prédites (total_points) pour le joueur: Jamie Donley : 0.12386491142839096\n",
            "Performances prédites (total_points) pour le joueur: Malang Sarr : 0.06152457668863276\n",
            "Performances prédites (total_points) pour le joueur: Ângelo Gabriel Borges Damaceno : 0.12891197131981724\n",
            "Performances prédites (total_points) pour le joueur: Micky van de Ven : 2.6676546444953533\n",
            "Performances prédites (total_points) pour le joueur: Adama Traoré : 6.434852091108648\n",
            "Performances prédites (total_points) pour le joueur: Shola Shoretire : 0.07749387650433892\n",
            "Performances prédites (total_points) pour le joueur: Ademola Ola-Adebomi : 0.12386491142839096\n",
            "Performances prédites (total_points) pour le joueur: Lisandro Martínez : 0.09526523771602036\n",
            "Performances prédites (total_points) pour le joueur: Alex Mighten : 0.07749387650433892\n",
            "Performances prédites (total_points) pour le joueur: Bryan Mbeumo : -0.32932886612856366\n",
            "Performances prédites (total_points) pour le joueur: Nicolas Pépé : 0.12891197131981724\n",
            "Performances prédites (total_points) pour le joueur: Mauro Bandeira : 0.12386491142839096\n",
            "Performances prédites (total_points) pour le joueur: Alexis Mac Allister : 11.893067205641744\n",
            "Performances prédites (total_points) pour le joueur: David Ozoh : 0.12386491142839096\n",
            "Performances prédites (total_points) pour le joueur: Sydie Peck : 0.07749387650433892\n",
            "Performances prédites (total_points) pour le joueur: Omari Kellyman : 0.12386491142839096\n",
            "Performances prédites (total_points) pour le joueur: Youri Tielemans : 4.678802281177353\n",
            "Performances prédites (total_points) pour le joueur: Remo Freuler : 0.12891197131981724\n",
            "Performances prédites (total_points) pour le joueur: Illia Zabarnyi : 6.277510594990372\n",
            "Performances prédites (total_points) pour le joueur: Karl Hein : 0.01825309603794366\n",
            "Performances prédites (total_points) pour le joueur: Aaron Connolly : 0.12386491142839096\n",
            "Performances prédites (total_points) pour le joueur: Dean Henderson : 0.07749387650433892\n",
            "Performances prédites (total_points) pour le joueur: Jay Rodriguez : 0.8438572708688994\n",
            "Performances prédites (total_points) pour le joueur: Marcos Senesi : 2.155511002709658\n",
            "Performances prédites (total_points) pour le joueur: Granit Xhaka : -0.021686633144536633\n",
            "Performances prédites (total_points) pour le joueur: James Trafford : 1.8462659299993636\n",
            "Performances prédites (total_points) pour le joueur: Dan Burn : 8.77264875912366\n",
            "Performances prédites (total_points) pour le joueur: Saïd Benrahma : 1.1331743076526668\n",
            "Performances prédites (total_points) pour le joueur: Brandon Aguilera Zamora : 0.12386491142839096\n",
            "Performances prédites (total_points) pour le joueur: Dominic Sadi : 0.12386491142839096\n",
            "Performances prédites (total_points) pour le joueur: Tyler Onyango : 0.07749387650433892\n",
            "Performances prédites (total_points) pour le joueur: Mahamadou Susoho : 0.12386491142839096\n",
            "Performances prédites (total_points) pour le joueur: Joe Taylor : 0.12386491142839096\n",
            "Performances prédites (total_points) pour le joueur: Gustavo Hamer : 2.3386474473330243\n",
            "Performances prédites (total_points) pour le joueur: Karl Darlow : 0.01825309603794366\n",
            "Performances prédites (total_points) pour le joueur: Saman Ghoddos : 0.12386491142839096\n",
            "Performances prédites (total_points) pour le joueur: Joachim Andersen : 2.533380856622766\n",
            "Performances prédites (total_points) pour le joueur: Alfie Gilchrist : 0.01825309603794366\n",
            "Performances prédites (total_points) pour le joueur: Allan Campbell : 0.12891197131981724\n",
            "Performances prédites (total_points) pour le joueur: Carlos Mendes Gomes : 0.12386491142839096\n",
            "Performances prédites (total_points) pour le joueur: Pedro Lomba Neto : 2.9303583612505126\n",
            "Performances prédites (total_points) pour le joueur: Luc De Fougerolles : 0.01825309603794366\n",
            "Performances prédites (total_points) pour le joueur: Dane Scarlett : 0.12386491142839096\n",
            "Performances prédites (total_points) pour le joueur: Lucas Digne : 6.437830094993676\n",
            "Performances prédites (total_points) pour le joueur: Enzo Fernández : 6.356689446406294\n",
            "Performances prédites (total_points) pour le joueur: Ben Brereton : 0.12891197131981724\n",
            "Performances prédites (total_points) pour le joueur: Matt Targett : 0.06152457668863276\n",
            "Performances prédites (total_points) pour le joueur: Demarai Gray : 0.1433214104370826\n",
            "Performances prédites (total_points) pour le joueur: Matthew Whittingham : 0.12386491142839096\n",
            "Performances prédites (total_points) pour le joueur: Stefan Ortega Moreno : -0.18632923925752734\n",
            "Performances prédites (total_points) pour le joueur: Sam Johnstone : 3.0643277004453844\n",
            "Performances prédites (total_points) pour le joueur: Zack Nelson : 0.12386491142839096\n",
            "Performances prédites (total_points) pour le joueur: Yerson Mosquera : 0.01825309603794366\n",
            "Performances prédites (total_points) pour le joueur: Emiliano Buendía Stati : 0.37263473973902084\n",
            "Performances prédites (total_points) pour le joueur: Alexandre Moreno Lopera : 2.612108422403679\n",
            "Performances prédites (total_points) pour le joueur: Japhet Tanganga : 0.01825309603794366\n",
            "Performances prédites (total_points) pour le joueur: Marvelous Nakamba : 0.07749387650433892\n",
            "Performances prédites (total_points) pour le joueur: Nathan Collins : 2.6821306687139836\n",
            "Performances prédites (total_points) pour le joueur: Leandro Trossard : 0.8617603117418817\n",
            "Performances prédites (total_points) pour le joueur: Antony Matheus dos Santos : 0.6147061646649812\n",
            "Performances prédites (total_points) pour le joueur: Trevoh Chalobah : 2.957940884518502\n",
            "Performances prédites (total_points) pour le joueur: Luke Cundle : 0.12386491142839096\n",
            "Performances prédites (total_points) pour le joueur: Lukasz Fabianski : 0.06152457668863276\n",
            "Performances prédites (total_points) pour le joueur: Ethan Nwaneri : 0.12386491142839096\n",
            "Performances prédites (total_points) pour le joueur: Callum Marshall : 0.12386491142839096\n",
            "Performances prédites (total_points) pour le joueur: Tino Livramento : 6.414113090877052\n",
            "Performances prédites (total_points) pour le joueur: Fodé Ballo-Touré : 0.12386491142839096\n",
            "Performances prédites (total_points) pour le joueur: Aymeric Laporte : 0.12891197131981724\n",
            "Performances prédites (total_points) pour le joueur: Tyler Adams : 0.12891197131981724\n",
            "Performances prédites (total_points) pour le joueur: Kieran Trippier : 1.529861731438662\n",
            "Performances prédites (total_points) pour le joueur: Jamie McDonnell : 0.12386491142839096\n",
            "Performances prédites (total_points) pour le joueur: Richarlison de Andrade : -0.25610829607409935\n",
            "Performances prédites (total_points) pour le joueur: Norberto Bercique Gomes Betuncal : 9.90667805733473\n",
            "Performances prédites (total_points) pour le joueur: John McAtee : 0.12386491142839096\n",
            "Performances prédites (total_points) pour le joueur: Jayden Bogle : 3.043713856867257\n",
            "Performances prédites (total_points) pour le joueur: Jason Steele : 1.786497961751632\n",
            "Performances prédites (total_points) pour le joueur: Nick Pope : 0.1433214104370826\n",
            "Performances prédites (total_points) pour le joueur: Kai Havertz : 20.189649489100862\n",
            "Performances prédites (total_points) pour le joueur: Wesley Moraes Ferreira da Silva : 0.12891197131981724\n",
            "Performances prédites (total_points) pour le joueur: Vladimír Coufal : 3.1902214897299985\n",
            "Performances prédites (total_points) pour le joueur: Marcus Rashford : 6.282628845623008\n",
            "Performances prédites (total_points) pour le joueur: Lewis O'Brien : 0.12891197131981724\n",
            "Performances prédites (total_points) pour le joueur: Evan Ferguson : 3.8808191062260553\n",
            "Performances prédites (total_points) pour le joueur: Tom McGill : 0.01825309603794366\n",
            "Performances prédites (total_points) pour le joueur: Yves Bissouma : 3.061588658116827\n",
            "Performances prédites (total_points) pour le joueur: João Victor Gomes da Silva : 0.12891197131981724\n",
            "Performances prédites (total_points) pour le joueur: Abdoulaye Doucouré : 4.378064595091905\n",
            "Performances prédites (total_points) pour le joueur: Enes Ünal : 1.0478072278105561\n",
            "Performances prédites (total_points) pour le joueur: Ederson Santana de Moraes : 1.5001523156750687\n",
            "Performances prédites (total_points) pour le joueur: Morgan Rogers : 4.828904608092049\n",
            "Performances prédites (total_points) pour le joueur: Virgil van Dijk : 5.987875288089381\n",
            "Performances prédites (total_points) pour le joueur: Willy Boly : 0.12386491142839096\n",
            "Performances prédites (total_points) pour le joueur: Mohammed Kudus : 9.677506212250677\n",
            "Performances prédites (total_points) pour le joueur: Scott McTominay : 2.450576058646562\n",
            "Performances prédites (total_points) pour le joueur: Andrew Omobamidele : 3.5184700639483455\n",
            "Performances prédites (total_points) pour le joueur: Billy Blacker : 0.12386491142839096\n",
            "Performances prédites (total_points) pour le joueur: Kaine Kesler-Hayden : 0.01825309603794366\n",
            "Performances prédites (total_points) pour le joueur: Rico Lewis : 0.06152457668863276\n",
            "Performances prédites (total_points) pour le joueur: Alejandro Garnacho : 2.456928788426514\n",
            "Performances prédites (total_points) pour le joueur: Jean-Ricner Bellegarde : 4.8283877159820054\n",
            "Performances prédites (total_points) pour le joueur: Jean-Philippe Gbamin : 0.07749387650433892\n",
            "Performances prédites (total_points) pour le joueur: Ollie Harrison : 0.12386491142839096\n",
            "Performances prédites (total_points) pour le joueur: Lewis Dobbin : 1.4266112322574025\n",
            "Performances prédites (total_points) pour le joueur: Jenson Metcalfe : 0.12386491142839096\n",
            "Performances prédites (total_points) pour le joueur: Riyad Mahrez : -0.22839566087613383\n",
            "Performances prédites (total_points) pour le joueur: Matija Šarkić : 0.01825309603794366\n",
            "Performances prédites (total_points) pour le joueur: Auston Trusty : 1.5384502760656231\n",
            "Performances prédites (total_points) pour le joueur: Anthony Gordon : 11.819720261531804\n",
            "Performances prédites (total_points) pour le joueur: Emmanuel Dennis : 0.18895998216286747\n",
            "Performances prédites (total_points) pour le joueur: Nathaniel Clyne : 0.06152457668863276\n",
            "Performances prédites (total_points) pour le joueur: Thiago Alcántara do Nascimento : 0.09526523771602036\n",
            "Performances prédites (total_points) pour le joueur: Oliver Arblaster : 2.1369215050097092\n",
            "Performances prédites (total_points) pour le joueur: Ethan Brierley : 0.12386491142839096\n",
            "Performances prédites (total_points) pour le joueur: Timo Werner : 13.6417622646832\n",
            "Performances prédites (total_points) pour le joueur: Ryan Giles : 0.06152457668863276\n",
            "Performances prédites (total_points) pour le joueur: Admiral Muskwe : 0.12386491142839096\n",
            "Performances prédites (total_points) pour le joueur: Edson Álvarez Velázquez : 13.041972019111288\n",
            "Performances prédites (total_points) pour le joueur: Jakub Kiwior : 9.681096795046725\n",
            "Performances prédites (total_points) pour le joueur: Lloyd Kelly : 0.12386491142839096\n",
            "Performances prédites (total_points) pour le joueur: Vitalii Mykolenko : 4.226134726472163\n",
            "Performances prédites (total_points) pour le joueur: Aidan Francis-Clarke : 0.01825309603794366\n",
            "Performances prédites (total_points) pour le joueur: Emerson Leite de Souza Junior : 3.3604215434988745\n",
            "Performances prédites (total_points) pour le joueur: Joël Veltman : 3.758342788552204\n",
            "Performances prédites (total_points) pour le joueur: Miguel Almirón Rejala : 2.1173231478361823\n",
            "Performances prédites (total_points) pour le joueur: Bobby Thomas : 0.01825309603794366\n",
            "Performances prédites (total_points) pour le joueur: Yago de Santiago Alonso : 0.12386491142839096\n",
            "Performances prédites (total_points) pour le joueur: Charlie Goode : 0.01825309603794366\n",
            "Performances prédites (total_points) pour le joueur: Luke Chambers : 0.01825309603794366\n",
            "Performances prédites (total_points) pour le joueur: Alejo Véliz : 0.14518603778763958\n",
            "Performances prédites (total_points) pour le joueur: Kepa Arrizabalaga : 0.12891197131981724\n",
            "Performances prédites (total_points) pour le joueur: Mark Travers : 0.01825309603794366\n",
            "Performances prédites (total_points) pour le joueur: Leo Castledine : 0.12386491142839096\n",
            "Performances prédites (total_points) pour le joueur: Tawanda Chirewa : 2.751343924935017\n",
            "Performances prédites (total_points) pour le joueur: Sam Proctor : 0.01825309603794366\n",
            "Performances prédites (total_points) pour le joueur: Guglielmo Vicario : 1.4982876883245113\n",
            "Performances prédites (total_points) pour le joueur: Isaac Hayden : 0.07749387650433892\n",
            "Performances prédites (total_points) pour le joueur: Mike Trésor : 0.1433214104370826\n",
            "Performances prédites (total_points) pour le joueur: Jamaal Lascelles : 0.01825309603794366\n",
            "Performances prédites (total_points) pour le joueur: Andrew Robertson : 4.086489357078909\n",
            "Performances prédites (total_points) pour le joueur: Giovani Lo Celso : 1.3893169853009677\n",
            "Performances prédites (total_points) pour le joueur: Jeffrey Schlupp : 0.12891197131981724\n",
            "Performances prédites (total_points) pour le joueur: Alex Iwobi : 7.39660899490039\n",
            "Performances prédites (total_points) pour le joueur: Cody Gakpo : 4.676285930453028\n",
            "Performances prédites (total_points) pour le joueur: Nicolas Jackson : 8.206849399360898\n",
            "Performances prédites (total_points) pour le joueur: Nikola Vlašić : 0.12386491142839096\n",
            "Performances prédites (total_points) pour le joueur: Adam Lallana : 3.996265825718533\n",
            "Performances prédites (total_points) pour le joueur: Hugo Bueno López : 2.389785297899693\n",
            "Performances prédites (total_points) pour le joueur: Alphonse Areola : 10.01624675581973\n",
            "Performances prédites (total_points) pour le joueur: Alisson Ramses Becker : 0.35043743846866504\n",
            "Performances prédites (total_points) pour le joueur: Pape Matar Sarr : 1.5460369645267662\n",
            "Performances prédites (total_points) pour le joueur: Aribim Pepple : 0.12386491142839096\n",
            "Performances prédites (total_points) pour le joueur: Matt Doherty : 0.06152457668863276\n",
            "Performances prédites (total_points) pour le joueur: Gonçalo Manuel Ganchinho Guedes : 0.14518603778763958\n",
            "Performances prédites (total_points) pour le joueur: Ellis Simms : 0.12386491142839096\n",
            "Performances prédites (total_points) pour le joueur: Jonathan Castro Otto : 0.06152457668863276\n",
            "Performances prédites (total_points) pour le joueur: Taiwo Awoniyi : 1.6092926343433704\n",
            "Performances prédites (total_points) pour le joueur: Mads Roerslev Rasmussen : 14.268001524765278\n",
            "Performances prédites (total_points) pour le joueur: Calvin Bassey : 5.0996169831740925\n",
            "Performances prédites (total_points) pour le joueur: James Ward-Prowse : 8.440410017704965\n",
            "Performances prédites (total_points) pour le joueur: Konstantinos Tsimikas : 3.921758314425574\n",
            "Performances prédites (total_points) pour le joueur: Mahmoud Dahoud : 0.18895998216286747\n",
            "Performances prédites (total_points) pour le joueur: Ian Maatsen : 0.2744393891269738\n",
            "Performances prédites (total_points) pour le joueur: Ryan Gravenberch : 0.12891197131981724\n",
            "Performances prédites (total_points) pour le joueur: Sofyan Amrabat : 0.6379590661883188\n",
            "Performances prédites (total_points) pour le joueur: Max Lowe : 0.06152457668863276\n",
            "Performances prédites (total_points) pour le joueur: Joe Whitworth : 0.01825309603794366\n",
            "Performances prédites (total_points) pour le joueur: Thomas Cannon : 0.12386491142839096\n",
            "Performances prédites (total_points) pour le joueur: Hannibal Mejbri : 0.06152457668863276\n",
            "Performances prédites (total_points) pour le joueur: Boubacar Kamara : 0.12891197131981724\n",
            "Performances prédites (total_points) pour le joueur: Andrey Nascimento dos Santos : 0.06152457668863276\n",
            "Performances prédites (total_points) pour le joueur: Loris Karius : 0.01825309603794366\n",
            "Performances prédites (total_points) pour le joueur: Joshua Duffus : 0.07749387650433892\n",
            "Performances prédites (total_points) pour le joueur: Bart Verbruggen : 0.07749387650433892\n",
            "Performances prédites (total_points) pour le joueur: Tahith Chong : 8.063433114958377\n",
            "Performances prédites (total_points) pour le joueur: Morgan Sanson : 0.12386491142839096\n",
            "Performances prédites (total_points) pour le joueur: Bernd Leno : 7.393216203390492\n",
            "Performances prédites (total_points) pour le joueur: Josh Dasilva : 0.09526523771602036\n",
            "Performances prédites (total_points) pour le joueur: Josh Bowler : 0.12386491142839096\n",
            "Performances prédites (total_points) pour le joueur: Bashir Humphreys : 0.01825309603794366\n",
            "Performances prédites (total_points) pour le joueur: Oleksandr Zinchenko : 0.12891197131981724\n",
            "Performances prédites (total_points) pour le joueur: Tyrese Francois : 0.07749387650433892\n",
            "Performances prédites (total_points) pour le joueur: Callum Wilson : -0.2893022721774332\n",
            "Performances prédites (total_points) pour le joueur: Allan Saint-Maximin : -0.021686633144536633\n",
            "Performances prédites (total_points) pour le joueur: Lewis Orford : 0.12386491142839096\n",
            "Performances prédites (total_points) pour le joueur: Han-Noah Massengo : 0.12891197131981724\n",
            "Performances prédites (total_points) pour le joueur: Zeki Amdouni : 2.265612426874212\n",
            "Performances prédites (total_points) pour le joueur: Steven Alzate : 0.07749387650433892\n",
            "Performances prédites (total_points) pour le joueur: Jóhann Berg Gudmundsson : 2.2020165757441865\n",
            "Performances prédites (total_points) pour le joueur: Tim Krul : 0.07749387650433892\n",
            "Performances prédites (total_points) pour le joueur: Keinan Davis : 0.12891197131981724\n",
            "Performances prédites (total_points) pour le joueur: Bruno Borges Fernandes : 8.211624307844517\n",
            "Performances prédites (total_points) pour le joueur: Hamed Traorè : 0.09526523771602036\n",
            "Performances prédites (total_points) pour le joueur: Jeremy Sarmiento Morante : 0.12386491142839096\n",
            "Performances prédites (total_points) pour le joueur: Issa Kaboré : 2.257229820002875\n",
            "Performances prédites (total_points) pour le joueur: Sam Surridge : 0.12386491142839096\n",
            "Performances prédites (total_points) pour le joueur: Reece Burke : 7.807237902768015\n",
            "Performances prédites (total_points) pour le joueur: Jesurun Rak-Sakyi : 0.12386491142839096\n",
            "Performances prédites (total_points) pour le joueur: Clément Lenglet : 2.9496342645573996\n",
            "Performances prédites (total_points) pour le joueur: Gabriel Fernando de Jesus : 2.2118827103563667\n",
            "Performances prédites (total_points) pour le joueur: Hannes Delcroix : 0.01825309603794366\n",
            "Performances prédites (total_points) pour le joueur: Dara O'Shea : 3.5967061521232826\n",
            "Performances prédites (total_points) pour le joueur: Eric Dier : 0.06152457668863276\n",
            "Performances prédites (total_points) pour le joueur: Kaide Gordon : 0.12386491142839096\n",
            "Performances prédites (total_points) pour le joueur: Joel Ward : 2.4159261797065836\n",
            "Performances prédites (total_points) pour le joueur: Harvey Barnes : 1.2186105802676852\n",
            "Performances prédites (total_points) pour le joueur: Cesare Casadei : 0.12386491142839096\n",
            "Performances prédites (total_points) pour le joueur: Mateo Kovačić : 0.09526523771602036\n",
            "Performances prédites (total_points) pour le joueur: Jayden Danns : 0.9972376682325075\n",
            "Performances prédites (total_points) pour le joueur: Ashley Young : 0.07749387650433892\n",
            "Performances prédites (total_points) pour le joueur: Aaron Cresswell : 0.06152457668863276\n",
            "Performances prédites (total_points) pour le joueur: Sergio Reguilón : 7.106956217194017\n",
            "Performances prédites (total_points) pour le joueur: Morgan Gibbs-White : 4.217519505495417\n",
            "Performances prédites (total_points) pour le joueur: Raphaël Varane : 3.0007307381731634\n",
            "Performances prédites (total_points) pour le joueur: Igor Julio dos Santos de Paulo : 0.06152457668863276\n",
            "Performances prédites (total_points) pour le joueur: Brandon Williams : 0.01825309603794366\n",
            "Performances prédites (total_points) pour le joueur: Hugo Lloris : 0.09526523771602036\n",
            "Performances prédites (total_points) pour le joueur: Fabian Schär : 10.409528812815845\n",
            "Performances prédites (total_points) pour le joueur: Orel Mangala : 0.12891197131981724\n",
            "Performances prédites (total_points) pour le joueur: Noha Lemina : 0.12891197131981724\n",
            "Performances prédites (total_points) pour le joueur: Frederico Rodrigues de Paula Santos : 0.12891197131981724\n",
            "Performances prédites (total_points) pour le joueur: Joe Gauci : 0.01825309603794366\n",
            "Performances prédites (total_points) pour le joueur: Marek Rodák : 0.01825309603794366\n",
            "Performances prédites (total_points) pour le joueur: Shandon Baptiste : 0.06152457668863276\n",
            "Performances prédites (total_points) pour le joueur: Michał Karbownik : 0.01825309603794366\n",
            "Performances prédites (total_points) pour le joueur: Mason Burstow : 0.12386491142839096\n",
            "Performances prédites (total_points) pour le joueur: André Onana : 4.345141492433285\n",
            "Performances prédites (total_points) pour le joueur: Julián Álvarez : 4.702006311567807\n",
            "Performances prédites (total_points) pour le joueur: Maxwel Cornet : 0.1433214104370826\n",
            "Performances prédites (total_points) pour le joueur: Terence Kongolo : 0.01825309603794366\n",
            "Performances prédites (total_points) pour le joueur: Caoimhin Kelleher : 8.555293860243431\n",
            "Performances prédites (total_points) pour le joueur: Ivan Neves Abreu Cavaleiro : 0.12891197131981724\n",
            "Performances prédites (total_points) pour le joueur: Chris Mepham : 5.113086698282127\n",
            "Performances prédites (total_points) pour le joueur: Facundo Buonanotte : 0.9863911819823109\n",
            "Performances prédites (total_points) pour le joueur: Samuel Bastien : 0.12891197131981724\n",
            "Performances prédites (total_points) pour le joueur: John Fleck : 0.12891197131981724\n",
            "Performances prédites (total_points) pour le joueur: Rodrigo Muniz Carvalho : 14.831952024747066\n",
            "Performances prédites (total_points) pour le joueur: Arijanet Muric : 0.06152457668863276\n",
            "Performances prédites (total_points) pour le joueur: Josh Cullen : 5.080423102311652\n",
            "Performances prédites (total_points) pour le joueur: Ishé Samuels-Smith : 0.01825309603794366\n",
            "Performances prédites (total_points) pour le joueur: Thomas Strakosha : 0.01825309603794366\n",
            "Performances prédites (total_points) pour le joueur: Fábio Ferreira Vieira : 2.1743030126089877\n",
            "Performances prédites (total_points) pour le joueur: Michael Ndiweni : 0.07749387650433892\n",
            "Performances prédites (total_points) pour le joueur: Cheick Doucouré : 0.12891197131981724\n",
            "Performances prédites (total_points) pour le joueur: Joe Hodge : 0.07749387650433892\n",
            "Performances prédites (total_points) pour le joueur: Omari Forson : 1.5638100456934414\n",
            "Performances prédites (total_points) pour le joueur: Joel Matip : 0.18895998216286747\n",
            "Performances prédites (total_points) pour le joueur: Callum Scanlon : 0.01825309603794366\n",
            "Performances prédites (total_points) pour le joueur: Davinson Sánchez : 0.07749387650433892\n",
            "Performances prédites (total_points) pour le joueur: Craig Dawson : 3.2136792542199277\n",
            "Performances prédites (total_points) pour le joueur: Toti António Gomes : 3.8500926996874467\n",
            "Performances prédites (total_points) pour le joueur: Nayef Aguerd : 0.07749387650433892\n",
            "Performances prédites (total_points) pour le joueur: Diogo Dalot Teixeira : 3.786896737680444\n",
            "Performances prédites (total_points) pour le joueur: Amadou Onana : 5.347073001915338\n",
            "Performances prédites (total_points) pour le joueur: Adrián San Miguel del Castillo : 0.01825309603794366\n",
            "Performances prédites (total_points) pour le joueur: Youssef Ramalho Chermiti : 1.020975112447608\n",
            "Performances prédites (total_points) pour le joueur: Bukayo Saka : 7.8311058540482\n",
            "Performances prédites (total_points) pour le joueur: Ben Mee : 0.18895998216286747\n",
            "Performances prédites (total_points) pour le joueur: Joe Worrall : 0.06152457668863276\n",
            "Performances prédites (total_points) pour le joueur: Diego Carlos Santos Silva : 0.07749387650433892\n",
            "Performances prédites (total_points) pour le joueur: Lewis Cook : 12.83494121771627\n",
            "Performances prédites (total_points) pour le joueur: Bendegúz Bolla : 0.01825309603794366\n",
            "Performances prédites (total_points) pour le joueur: Malo Gusto : 8.933564765374243\n",
            "Performances prédites (total_points) pour le joueur: Amari'i Bell : 0.01825309603794366\n",
            "Performances prédites (total_points) pour le joueur: Dele Alli : 0.18895998216286747\n",
            "Performances prédites (total_points) pour le joueur: Noni Madueke : 0.1433214104370826\n",
            "Performances prédites (total_points) pour le joueur: Milos Kerkez : 6.822024100549251\n",
            "Performances prédites (total_points) pour le joueur: Luke Berry : 0.14245440912833918\n",
            "Performances prédites (total_points) pour le joueur: Kortney Hause : 0.01825309603794366\n",
            "Performances prédites (total_points) pour le joueur: Will Hughes : 2.1685578900580573\n",
            "Performances prédites (total_points) pour le joueur: Alexander Isak : 10.27887359923768\n",
            "Performances prédites (total_points) pour le joueur: John-Kymani Gordon : 0.12386491142839096\n",
            "Performances prédites (total_points) pour le joueur: Cheikhou Kouyaté : 0.18895998216286747\n",
            "Performances prédites (total_points) pour le joueur: Cédric Alves Soares : 1.466799128658149\n",
            "Performances prédites (total_points) pour le joueur: Pierre-Emerick Aubameyang : -0.2493305268641994\n",
            "Performances prédites (total_points) pour le joueur: Garang Kuol : 0.12386491142839096\n",
            "Performances prédites (total_points) pour le joueur: Tom Davies : 1.1131088749947229\n",
            "Performances prédites (total_points) pour le joueur: Antwoine Hackford : 0.07749387650433892\n",
            "Performances prédites (total_points) pour le joueur: Charles Sagoe : 0.12386491142839096\n",
            "Performances prédites (total_points) pour le joueur: Ethan Pinnock : 0.14245440912833918\n",
            "Performances prédites (total_points) pour le joueur: Jay Stansfield : 0.12386491142839096\n",
            "Performances prédites (total_points) pour le joueur: Matz Sels : 1.3918216845585698\n",
            "Performances prédites (total_points) pour le joueur: Ryan Yates : 2.515250057602384\n",
            "Performances prédites (total_points) pour le joueur: Nicolò Zaniolo : -0.009428177139422057\n",
            "Performances prédites (total_points) pour le joueur: Frank Onyeka : 6.089338950789377\n",
            "Performances prédites (total_points) pour le joueur: Naouirou Ahamada : 0.06152457668863276\n",
            "Performances prédites (total_points) pour le joueur: Philip Billing : 1.1933346456177125\n",
            "Performances prédites (total_points) pour le joueur: Gabriel Słonina : 0.01825309603794366\n",
            "Performances prédites (total_points) pour le joueur: Marc Guéhi : 0.06152457668863276\n",
            "Performances prédites (total_points) pour le joueur: Seamus Coleman : 0.07749387650433892\n",
            "Performances prédites (total_points) pour le joueur: Diogo Teixeira da Silva : -0.2893022721774332\n",
            "Performances prédites (total_points) pour le joueur: Matthew Dibley-Dias : 0.12386491142839096\n",
            "Performances prédites (total_points) pour le joueur: James McAtee : 1.3561549709800753\n",
            "Performances prédites (total_points) pour le joueur: Valintino Adedokun : 0.01825309603794366\n",
            "Performances prédites (total_points) pour le joueur: Erling Haaland : 6.539924337363401\n",
            "Performances prédites (total_points) pour le joueur: Jack Cork : 0.18895998216286747\n",
            "Performances prédites (total_points) pour le joueur: Anthony Martial : -0.28012049579220144\n",
            "Performances prédites (total_points) pour le joueur: Danny Welbeck : 0.37263473973902084\n",
            "Performances prédites (total_points) pour le joueur: Carlos Vinícius Alves Morais : 0.12386491142839096\n",
            "Performances prédites (total_points) pour le joueur: Olu Aina : 0.12386491142839096\n",
            "Performances prédites (total_points) pour le joueur: Conor Bradley : 8.957898277137629\n",
            "Performances prédites (total_points) pour le joueur: Rodrigo Hernandez : 15.027823789406867\n",
            "Performances prédites (total_points) pour le joueur: Daniel Muñoz : 2.4159261797065836\n",
            "Performances prédites (total_points) pour le joueur: Victor Lindelöf : 2.5619805303351364\n",
            "Performances prédites (total_points) pour le joueur: Kevin De Bruyne : 6.274576917104642\n",
            "Performances prédites (total_points) pour le joueur: George Shelvey : 0.01825309603794366\n",
            "Performances prédites (total_points) pour le joueur: Lucas Bergström : 0.01825309603794366\n",
            "Performances prédites (total_points) pour le joueur: Yasin Ayari : 0.12386491142839096\n",
            "Performances prédites (total_points) pour le joueur: Lewis Miley : 1.7567323330625133\n",
            "Performances prédites (total_points) pour le joueur: Roméo Lavia : 0.12891197131981724\n",
            "Performances prédites (total_points) pour le joueur: Fred Onyedinma : 0.12891197131981724\n",
            "Performances prédites (total_points) pour le joueur: Gustavo Henrique Furtado Scarpa : 0.12386491142839096\n",
            "Performances prédites (total_points) pour le joueur: Aaron Hickey : 0.07749387650433892\n",
            "Performances prédites (total_points) pour le joueur: Mads Bidstrup : 0.12386491142839096\n",
            "Performances prédites (total_points) pour le joueur: Solly March : -0.1028398020971806\n",
            "Performances prédites (total_points) pour le joueur: David Datro Fofana : 6.242467487030628\n",
            "Performances prédites (total_points) pour le joueur: Declan Rice : 11.883652655128618\n",
            "Performances prédites (total_points) pour le joueur: Joe Hugill : 0.12386491142839096\n",
            "Performances prédites (total_points) pour le joueur: Kacper Kozłowski : 0.12386491142839096\n",
            "Performances prédites (total_points) pour le joueur: Joe Rothwell : 0.18895998216286747\n",
            "Performances prédites (total_points) pour le joueur: Vini de Souza Costa : 3.1484645722573132\n",
            "Performances prédites (total_points) pour le joueur: Ben Doak : 0.06152457668863276\n",
            "Performances prédites (total_points) pour le joueur: Sander Berge : 3.4917456164718166\n",
            "Performances prédites (total_points) pour le joueur: Fabio Henrique Tavares : 0.12891197131981724\n",
            "Performances prédites (total_points) pour le joueur: Louie Marsh : 0.12386491142839096\n",
            "Performances prédites (total_points) pour le joueur: Willy Kambwala : 0.6441826517813066\n",
            "Performances prédites (total_points) pour le joueur: Oliver McBurnie : 2.9323425851624054\n",
            "Performances prédites (total_points) pour le joueur: Mathias Jensen : 1.7185117117339923\n",
            "Performances prédites (total_points) pour le joueur: Matt Macey : 0.01825309603794366\n",
            "Performances prédites (total_points) pour le joueur: Wesley Fofana : 0.07749387650433892\n",
            "Performances prédites (total_points) pour le joueur: Ryan Fredericks : 0.06152457668863276\n",
            "Performances prédites (total_points) pour le joueur: Max Kilman : 2.994490948831157\n",
            "Performances prédites (total_points) pour le joueur: Nathan Aké : 3.6045708478417833\n",
            "Performances prédites (total_points) pour le joueur: Benjamin Fredrick : 0.01825309603794366\n",
            "Performances prédites (total_points) pour le joueur: Lewis Hall : 0.06152457668863276\n",
            "Performances prédites (total_points) pour le joueur: Deivid Washington de Souza Eugênio : 0.12386491142839096\n",
            "Performances prédites (total_points) pour le joueur: Elliot Anderson : 0.06152457668863276\n",
            "Performances prédites (total_points) pour le joueur: Oliwier Zych : 0.01825309603794366\n",
            "Performances prédites (total_points) pour le joueur: Mykhailo Mudryk : 1.1304882316985527\n",
            "Performances prédites (total_points) pour le joueur: Radu Dragusin : 0.06152457668863276\n",
            "Performances prédites (total_points) pour le joueur: Siriki Dembélé : 0.12386491142839096\n",
            "Performances prédites (total_points) pour le joueur: Dejan Kulusevski : 4.020816644423185\n",
            "Performances prédites (total_points) pour le joueur: Daniel Castelo Podence : 0.1433214104370826\n",
            "Performances prédites (total_points) pour le joueur: Conor Gallagher : 6.7124600295966035\n",
            "Performances prédites (total_points) pour le joueur: Maxime Esteve : 2.7749762474752333\n",
            "Performances prédites (total_points) pour le joueur: Eberechi Eze : 8.953661342019469\n",
            "Performances prédites (total_points) pour le joueur: Jonjo Shelvey : 0.18895998216286747\n",
            "Performances prédites (total_points) pour le joueur: Thilo Kehrer : 0.06152457668863276\n",
            "Performances prédites (total_points) pour le joueur: Ty Barnett : 0.12386491142839096\n",
            "Performances prédites (total_points) pour le joueur: Mackenzie Hunt : 0.12386491142839096\n",
            "Performances prédites (total_points) pour le joueur: Ameen Al-Dakhil : 0.01825309603794366\n",
            "Performances prédites (total_points) pour le joueur: Hwang Ui-jo : 0.07749387650433892\n",
            "Performances prédites (total_points) pour le joueur: Julio Enciso : 3.453624887278966\n",
            "Performances prédites (total_points) pour le joueur: Steven Benda : 0.01825309603794366\n",
            "Performances prédites (total_points) pour le joueur: Norberto Murara Neto : 7.351714909943237\n",
            "Performances prédites (total_points) pour le joueur: Jérémy Doku : 3.9292292724502556\n",
            "Performances prédites (total_points) pour le joueur: Richie Laryea : 0.12386491142839096\n",
            "Performances prédites (total_points) pour le joueur: Joshua King : 0.12386491142839096\n",
            "Performances prédites (total_points) pour le joueur: Antonee Robinson : 5.726886990607903\n",
            "Performances prédites (total_points) pour le joueur: Raúl Jiménez : 0.12891197131981724\n",
            "Performances prédites (total_points) pour le joueur: Louie Watson : 0.07749387650433892\n",
            "Performances prédites (total_points) pour le joueur: Hwang Hee-chan : 1.1331743076526668\n",
            "Performances prédites (total_points) pour le joueur: Willian Borges da Silva : 1.6988740032167597\n",
            "Performances prédites (total_points) pour le joueur: Rhian Brewster : 0.12891197131981724\n",
            "Performances prédites (total_points) pour le joueur: Tom Lockyer : 0.06152457668863276\n",
            "Performances prédites (total_points) pour le joueur: Jordan Pickford : 1.838164008502172\n",
            "Performances prédites (total_points) pour le joueur: Michael Olakigbe : 0.12386491142839096\n",
            "Performances prédites (total_points) pour le joueur: Anis Slimane : 0.09526523771602036\n",
            "Performances prédites (total_points) pour le joueur: Bruno Guimarães Rodriguez Moura : 7.729969033634675\n",
            "Performances prédites (total_points) pour le joueur: Ryan Fraser : 0.12891197131981724\n",
            "Performances prédites (total_points) pour le joueur: Anthony Knockaert : 0.07749387650433892\n",
            "Performances prédites (total_points) pour le joueur: Harry Maguire : 0.06152457668863276\n",
            "Performances prédites (total_points) pour le joueur: Matheus Santos Carneiro Da Cunha : 1.1331743076526668\n",
            "Performances prédites (total_points) pour le joueur: Rhys Bennett : 0.01825309603794366\n",
            "Performances prédites (total_points) pour le joueur: Francisco Jorge Tomás Oliveira : 0.12386491142839096\n",
            "Performances prédites (total_points) pour le joueur: Ki-Jana Hoever : 0.01825309603794366\n",
            "Performances prédites (total_points) pour le joueur: Jacob Bruun Larsen : 4.12532755180201\n",
            "Performances prédites (total_points) pour le joueur: Loïc Mbe Soh : 0.01825309603794366\n",
            "Performances prédites (total_points) pour le joueur: Moussa Diaby : 3.8040509209845994\n",
            "Performances prédites (total_points) pour le joueur: Alfie Doughty : 9.694179707546056\n",
            "Performances prédites (total_points) pour le joueur: James Wright : 0.01825309603794366\n",
            "Performances prédites (total_points) pour le joueur: João Cancelo : 0.35043743846866504\n",
            "Performances prédites (total_points) pour le joueur: Pau Torres : 0.14245440912833918\n",
            "Performances prédites (total_points) pour le joueur: Santiago Bueno : 0.12386491142839096\n",
            "Performances prédites (total_points) pour le joueur: Mohamed Elneny : 0.07749387650433892\n",
            "Performances prédites (total_points) pour le joueur: Jarrad Branthwaite : 2.2863191044579185\n",
            "Performances prédites (total_points) pour le joueur: Kaden Rodney : 0.12386491142839096\n",
            "Performances prédites (total_points) pour le joueur: Martin Ødegaard : 14.939018500126789\n",
            "Performances prédites (total_points) pour le joueur: Matheus Luiz Nunes : 0.18895998216286747\n",
            "Performances prédites (total_points) pour le joueur: Luke Harris : 0.12386491142839096\n",
            "Performances prédites (total_points) pour le joueur: Tom King : 0.01825309603794366\n",
            "Performances prédites (total_points) pour le joueur: Rúben Gato Alves Dias : 3.0159896187860453\n",
            "Performances prédites (total_points) pour le joueur: Dan Potts : 0.01825309603794366\n",
            "Performances prédites (total_points) pour le joueur: Djed Spence : 0.01825309603794366\n",
            "Performances prédites (total_points) pour le joueur: Luke Thomas : 0.01825309603794366\n",
            "Performances prédites (total_points) pour le joueur: Cameron Archer : 0.06152457668863276\n",
            "Performances prédites (total_points) pour le joueur: Emiliano Martínez Romero : 2.5744412092293603\n",
            "Performances prédites (total_points) pour le joueur: Bobby De Cordova-Reid : 4.416683049274318\n",
            "Performances prédites (total_points) pour le joueur: Tomáš Souček : 10.55511029652919\n",
            "Performances prédites (total_points) pour le joueur: Ross Barkley : 3.8836713471367252\n",
            "Performances prédites (total_points) pour le joueur: Gonzalo Montiel : 0.07749387650433892\n",
            "Performances prédites (total_points) pour le joueur: Giovanni Reyna : 0.18895998216286747\n",
            "Performances prédites (total_points) pour le joueur: Joško Gvardiol : 0.18895998216286747\n",
            "Performances prédites (total_points) pour le joueur: Cole Palmer : 10.744345458036019\n",
            "Performances prédites (total_points) pour le joueur: Ivan Perišić : 0.09526523771602036\n",
            "Performances prédites (total_points) pour le joueur: Jordan Amissah : 0.01825309603794366\n",
            "Performances prédites (total_points) pour le joueur: Carlos Henrique Casimiro : 4.0544003335238585\n",
            "Performances prédites (total_points) pour le joueur: Tom Heaton : 0.01825309603794366\n",
            "Performances prédites (total_points) pour le joueur: Jacob Wright : 0.12386491142839096\n",
            "Performances prédites (total_points) pour le joueur: Sepp van den Berg : 0.01825309603794366\n",
            "Performances prédites (total_points) pour le joueur: Anel Ahmedhodžić : 2.1834886028410687\n",
            "Performances prédites (total_points) pour le joueur: Max Aarons : 0.07749387650433892\n",
            "Performances prédites (total_points) pour le joueur: Josh Powell : 0.01825309603794366\n",
            "Performances prédites (total_points) pour le joueur: Cristian Romero : 11.588683695686555\n",
            "Performances prédites (total_points) pour le joueur: Daniel Bentley : 1.5024377604513537\n",
            "Performances prédites (total_points) pour le joueur: Axel Piesold : 0.12386491142839096\n",
            "Performances prédites (total_points) pour le joueur: Ethan Ampadu : 0.01825309603794366\n",
            "Performances prédites (total_points) pour le joueur: Jan Paul van Hecke : 4.41475294475965\n",
            "Performances prédites (total_points) pour le joueur: Yasser Larouci : 0.06152457668863276\n",
            "Performances prédites (total_points) pour le joueur: Carney Chukwuemeka : 0.06152457668863276\n",
            "Performances prédites (total_points) pour le joueur: Carlton Morris : 13.747050898403375\n",
            "Performances prédites (total_points) pour le joueur: Odysseas Vlachodimos : 0.12386491142839096\n",
            "Performances prédites (total_points) pour le joueur: Ben Jackson : 0.01825309603794366\n",
            "Performances prédites (total_points) pour le joueur: George Earthy : 0.12386491142839096\n",
            "Performances prédites (total_points) pour le joueur: Adam Davies : 0.01825309603794366\n",
            "Performances prédites (total_points) pour le joueur: Myles Peart-Harris : 0.12386491142839096\n",
            "Performances prédites (total_points) pour le joueur: Tyrick Mitchell : 2.8294841261785506\n",
            "Performances prédites (total_points) pour le joueur: James Maddison : 7.065963052802236\n",
            "Performances prédites (total_points) pour le joueur: Cauley Woodrow : 0.06152457668863276\n",
            "Performances prédites (total_points) pour le joueur: Mohamed Salah : 0.14544435918348506\n",
            "Performances prédites (total_points) pour le joueur: Harry Kane : 0.14544435918348506\n",
            "Performances prédites (total_points) pour le joueur: Zack Steffen : 0.01825309603794366\n",
            "Performances prédites (total_points) pour le joueur: Antoine Semenyo : 11.545988040797237\n",
            "Performances prédites (total_points) pour le joueur: Bradley Ibrahim : 0.12386491142839096\n",
            "Performances prédites (total_points) pour le joueur: Altay Bayindir : 0.01825309603794366\n",
            "Performances prédites (total_points) pour le joueur: Christian Pulisic : 0.14518603778763958\n",
            "Performances prédites (total_points) pour le joueur: Adam Webster : 4.2679273989033195\n",
            "Performances prédites (total_points) pour le joueur: Darwin Núñez Ribeiro : 7.045941941227791\n",
            "Performances prédites (total_points) pour le joueur: Axel Disasi : 10.548585112771985\n",
            "Performances prédites (total_points) pour le joueur: Enock Agyei : 0.06152457668863276\n",
            "Performances prédites (total_points) pour le joueur: Folarin Balogun : 0.07749387650433892\n",
            "Performances prédites (total_points) pour le joueur: Tyrone Mings : 0.071124118401281\n",
            "Performances prédites (total_points) pour le joueur: Nicolás Domínguez : 6.797923309931649\n",
            "Performances prédites (total_points) pour le joueur: Conor Coventry : 0.06152457668863276\n",
            "Performances prédites (total_points) pour le joueur: Ismaila Coulibaly : 0.07749387650433892\n",
            "Performances prédites (total_points) pour le joueur: Josh Brownhill : 0.09526523771602036\n",
            "Performances prédites (total_points) pour le joueur: Fraser Forster : 0.01825309603794366\n",
            "Performances prédites (total_points) pour le joueur: Jefferson Lerma Solís : 2.8249655056292893\n",
            "Performances prédites (total_points) pour le joueur: Luke Freeman : 0.12891197131981724\n",
            "Performances prédites (total_points) pour le joueur: Lewis Dunk : 3.8366122718970446\n",
            "Performances prédites (total_points) pour le joueur: César Azpilicueta : 0.12386491142839096\n",
            "Performances prédites (total_points) pour le joueur: Marcelo de Araújo Pitaluga Filho : 0.01825309603794366\n",
            "Performances prédites (total_points) pour le joueur: Lorenz Assignon : 5.684270163533409\n",
            "Performances prédites (total_points) pour le joueur: Steve Cook : 0.12386491142839096\n",
            "Performances prédites (total_points) pour le joueur: Hjalmar Ekdal : 0.01825309603794366\n",
            "Performances prédites (total_points) pour le joueur: Alex Telles : 0.12386491142839096\n",
            "Performances prédites (total_points) pour le joueur: Luca Barrington : 0.12386491142839096\n",
            "Performances prédites (total_points) pour le joueur: José Malheiro de Sá : 1.689604049876814\n",
            "Performances prédites (total_points) pour le joueur: João Neves Virgínia : 0.01825309603794366\n",
            "Performances prédites (total_points) pour le joueur: Saša Lukić : 6.262626674395027\n",
            "Performances prédites (total_points) pour le joueur: Emiliano Marcondes : 0.06152457668863276\n",
            "Performances prédites (total_points) pour le joueur: Joe White : 0.12386491142839096\n",
            "Performances prédites (total_points) pour le joueur: Jacob Ramsey : 2.5560566401410783\n",
            "Performances prédites (total_points) pour le joueur: Sandro Tonali : 0.1433214104370826\n",
            "Performances prédites (total_points) pour le joueur: Micah Hamilton : 0.12386491142839096\n",
            "Performances prédites (total_points) pour le joueur: Nathan Fraser : 2.329867269754473\n",
            "Performances prédites (total_points) pour le joueur: Keane Lewis-Potter : 0.09526523771602036\n",
            "Performances prédites (total_points) pour le joueur: Dwight McNeil : 6.963757227867424\n",
            "Performances prédites (total_points) pour le joueur: Cameron Peupion : 0.12386491142839096\n",
            "Performances prédites (total_points) pour le joueur: Moisés Caicedo Corozo : 3.904540527737897\n",
            "Performances prédites (total_points) pour le joueur: Jorge Luiz Frello Filho : 6.527686473177779\n",
            "Performances prédites (total_points) pour le joueur: Kenny Tete : 0.07749387650433892\n",
            "Performances prédites (total_points) pour le joueur: Harvey Griffiths : 0.12386491142839096\n",
            "Performances prédites (total_points) pour le joueur: Darko Churlinov : 0.07749387650433892\n",
            "Performances prédites (total_points) pour le joueur: Jack Harrison : 2.8119905597836587\n",
            "Performances prédites (total_points) pour le joueur: Jack Walton : 0.01825309603794366\n",
            "Performances prédites (total_points) pour le joueur: Timothy Castagne : 6.021125399981781\n",
            "Performances prédites (total_points) pour le joueur: Adam Smith : 4.776290213007096\n",
            "Performances prédites (total_points) pour le joueur: CJ Egan-Riley : 0.01825309603794366\n",
            "Performances prédites (total_points) pour le joueur: Romelu Lukaku Bolingoli : -0.32932886612856366\n",
            "Performances prédites (total_points) pour le joueur: James Garner : 8.758780008822079\n",
            "Performances prédites (total_points) pour le joueur: Thiago Emiliano da Silva : 0.12891197131981724\n",
            "Performances prédites (total_points) pour le joueur: Rob Holding : 0.06152457668863276\n",
            "Performances prédites (total_points) pour le joueur: Aaron Wan-Bissaka : 0.07749387650433892\n",
            "Performances prédites (total_points) pour le joueur: Deniz Undav : 0.14518603778763958\n",
            "Performances prédites (total_points) pour le joueur: Álvaro Fernández Carreras : 0.01825309603794366\n",
            "Performances prédites (total_points) pour le joueur: Bertrand Traoré : 0.12891197131981724\n",
            "Performances prédites (total_points) pour le joueur: Nathan Patterson : 0.06152457668863276\n",
            "Performances prédites (total_points) pour le joueur: Christopher Nkunku : 0.0004074067421339753\n",
            "Performances prédites (total_points) pour le joueur: Serge Aurier : 0.12386491142839096\n",
            "Performances prédites (total_points) pour le joueur: Tom Cairney : 1.5974550593422445\n",
            "Performances prédites (total_points) pour le joueur: Harry Arter : 0.06152457668863276\n",
            "Performances prédites (total_points) pour le joueur: Alex Matos : 0.12386491142839096\n",
            "Performances prédites (total_points) pour le joueur: Mohamed Dräger : 0.01825309603794366\n",
            "Performances prédites (total_points) pour le joueur: Rúnar Alex Rúnarsson : 0.01825309603794366\n",
            "Performances prédites (total_points) pour le joueur: Scott Carson : 0.01825309603794366\n",
            "Performances prédites (total_points) pour le joueur: Bénie Traoré : 0.2744393891269738\n",
            "Performances prédites (total_points) pour le joueur: Jurriën Timber : 0.14245440912833918\n",
            "Performances prédites (total_points) pour le joueur: Jordan Beyer : 0.01825309603794366\n",
            "Performances prédites (total_points) pour le joueur: Wes Foderingham : 0.12386491142839096\n",
            "Performances prédites (total_points) pour le joueur: Lewis Koumas : 0.12386491142839096\n",
            "Performances prédites (total_points) pour le joueur: Konstantinos Mavropanos : 2.894622082314583\n",
            "Performances prédites (total_points) pour le joueur: Diego Manuel Jadon da Silva Moreira : 0.12386491142839096\n",
            "Performances prédites (total_points) pour le joueur: Odsonne Edouard : 1.9852580358360568\n",
            "Performances prédites (total_points) pour le joueur: Jamal Lowe : 0.12891197131981724\n",
            "Performances prédites (total_points) pour le joueur: Owen Dodgson : 0.01825309603794366\n",
            "Performances prédites (total_points) pour le joueur: Matt Ritchie : 0.06152457668863276\n",
            "Performances prédites (total_points) pour le joueur: Lyle Foster : 0.09526523771602036\n",
            "Performances prédites (total_points) pour le joueur: Aaron Ramsey : 0.12891197131981724\n",
            "Performances prédites (total_points) pour le joueur: James Milner : 0.18895998216286747\n",
            "Performances prédites (total_points) pour le joueur: Nathan Redmond : 0.09526523771602036\n",
            "Performances prédites (total_points) pour le joueur: Mathias Jorgensen : 2.972057932797752\n",
            "Performances prédites (total_points) pour le joueur: Michael Olise : 0.37263473973902084\n",
            "Performances prédites (total_points) pour le joueur: Oliver Skipp : 0.12386491142839096\n",
            "Performances prédites (total_points) pour le joueur: Leander Dendoncker : 0.12891197131981724\n",
            "Performances prédites (total_points) pour le joueur: Scott McKenna : 0.07749387650433892\n",
            "Performances prédites (total_points) pour le joueur: Michael Keane : 0.06152457668863276\n",
            "Performances prédites (total_points) pour le joueur: Sasa Kalajdzic : 0.12891197131981724\n",
            "Performances prédites (total_points) pour le joueur: Jarrod Bowen : 3.706714167864776\n",
            "Performances prédites (total_points) pour le joueur: Matt Turner : 0.01825309603794366\n",
            "Performances prédites (total_points) pour le joueur: Raheem Sterling : 2.3997409491631467\n",
            "Performances prédites (total_points) pour le joueur: Kell Watts : 0.01825309603794366\n",
            "Performances prédites (total_points) pour le joueur: Mads Juel Andersen : 0.01825309603794366\n",
            "Performances prédites (total_points) pour le joueur: Sergi Canós Tenés : 0.12891197131981724\n",
            "Performances prédites (total_points) pour le joueur: Ryan Christie : 1.7121695145446145\n",
            "Performances prédites (total_points) pour le joueur: Yegor Yarmoliuk : 1.513693955076228\n",
            "Performances prédites (total_points) pour le joueur: Robert Sánchez : 0.12386491142839096\n",
            "Performances prédites (total_points) pour le joueur: Gavin Kilkenny : 0.06152457668863276\n",
            "Performances prédites (total_points) pour le joueur: Armando Broja : 1.0478072278105561\n",
            "Performances prédites (total_points) pour le joueur: Dominic Solanke : 5.919516886573361\n",
            "Performances prédites (total_points) pour le joueur: Chris Wood : 0.18895998216286747\n",
            "Performances prédites (total_points) pour le joueur: Alex Scott : 1.0638676090505865\n",
            "Performances prédites (total_points) pour le joueur: Jaden Philogene-Bidace : 0.12386491142839096\n",
            "Performances prédites (total_points) pour le joueur: Filip Marschall : 0.01825309603794366\n",
            "Performances prédites (total_points) pour le joueur: Kalvin Phillips : 1.295622240854121\n",
            "Performances prédites (total_points) pour le joueur: Rodrigo Bentancur : 2.2304241775404776\n",
            "Performances prédites (total_points) pour le joueur: Matty Cash : 2.716780547653962\n",
            "Performances prédites (total_points) pour le joueur: Mason Holgate : 0.01825309603794366\n",
            "Performances prédites (total_points) pour le joueur: Glen Rea : 0.07749387650433892\n",
            "Performances prédites (total_points) pour le joueur: Jaidon Anthony : 0.12891197131981724\n",
            "Performances prédites (total_points) pour le joueur: Tariq Lamptey : 1.4115073903310031\n",
            "Performances prédites (total_points) pour le joueur: Joseph Anang : 0.01825309603794366\n",
            "Performances prédites (total_points) pour le joueur: George Baldock : 1.6763987046797875\n",
            "Performances prédites (total_points) pour le joueur: Jeff Hendrick : 0.07749387650433892\n",
            "Performances prédites (total_points) pour le joueur: Mark Gillespie : 0.01825309603794366\n",
            "Performances prédites (total_points) pour le joueur: Ronnie Stutter : 0.12386491142839096\n",
            "Performances prédites (total_points) pour le joueur: Nélson Cabral Semedo : 3.7884703028471423\n",
            "Performances prédites (total_points) pour le joueur: Wesley Okoduwa : 0.01825309603794366\n",
            "Performances prédites (total_points) pour le joueur: Kevin Mbabu : 0.01825309603794366\n",
            "Performances prédites (total_points) pour le joueur: Tyrell Malacia : 0.06152457668863276\n",
            "Performances prédites (total_points) pour le joueur: Hákon Valdimarsson : 0.01825309603794366\n",
            "Performances prédites (total_points) pour le joueur: Đorđe Petrović : 1.718822984253516\n",
            "Performances prédites (total_points) pour le joueur: Andros Townsend : 1.7151347642810673\n",
            "Performances prédites (total_points) pour le joueur: Chris Richards : 1.982247980466308\n",
            "Performances prédites (total_points) pour le joueur: Jordan Henderson : 0.12891197131981724\n",
            "Performances prédites (total_points) pour le joueur: Daniel Gore : 0.12386491142839096\n",
            "Performances prédites (total_points) pour le joueur: Kyle Walker : 3.939211006303503\n",
            "Performances prédites (total_points) pour le joueur: Jacob Brown : 0.12891197131981724\n",
            "Performances prédites (total_points) pour le joueur: Vicente Guaita : 0.07749387650433892\n",
            "Performances prédites (total_points) pour le joueur: Braian Ojeda Rodríguez : 0.12386491142839096\n",
            "Performances prédites (total_points) pour le joueur: Mads Bech Sørensen : 0.01825309603794366\n"
          ]
        }
      ],
      "source": [
        "\n",
        "# Créer une liste pour stocker les prédictions de performances pour tous les joueurs de la saison 23-24\n",
        "all_predictions = []\n",
        "\n",
        "# Itérer sur chaque joueur dans le DataFrame de la saison 23-24\n",
        "for player_name in team_data['name']:\n",
        "    # Prédiction des performances du joueur avec le modèle entraîné\n",
        "    predicted_performance = predict_player_performance(optimal_model, player_name, team_data)\n",
        "\n",
        "    # Ajouter le nom du joueur et ses prédictions à la liste\n",
        "    all_predictions.append((player_name, predicted_performance))\n",
        "\n",
        "# Afficher les prédictions pour tous les joueurs de la saison 23-24\n",
        "for player_name, predicted_performance in all_predictions:\n",
        "    print(\"Performances prédites (total_points) pour le joueur:\", player_name, \":\", predicted_performance)\n"
      ]
    },
    {
      "cell_type": "code",
      "execution_count": 32,
      "metadata": {
        "id": "aIJ4o3AWn512",
        "colab": {
          "base_uri": "https://localhost:8080/"
        },
        "outputId": "3e8f297c-d825-4b29-a5bc-976033a577ba"
      },
      "outputs": [
        {
          "output_type": "stream",
          "name": "stdout",
          "text": [
            "832\n"
          ]
        }
      ],
      "source": [
        "print(len(all_predictions))"
      ]
    },
    {
      "cell_type": "code",
      "execution_count": 33,
      "metadata": {
        "id": "1nL-8sU9tdRX"
      },
      "outputs": [],
      "source": [
        "# Créer un dictionnaire à partir de la liste de toutes les prédictions\n",
        "predicted_performances_dict = {player_name: predicted_performance for player_name, predicted_performance in all_predictions}\n"
      ]
    },
    {
      "cell_type": "markdown",
      "metadata": {
        "id": "QBcSP6nrpzln"
      },
      "source": [
        "Création d'une equipe"
      ]
    },
    {
      "cell_type": "code",
      "execution_count": 34,
      "metadata": {
        "id": "VppjiciLpzTE"
      },
      "outputs": [],
      "source": [
        "def create_team(predicted_performances, data, budget=100, max_players_per_team=3):\n",
        "    team = []\n",
        "    remaining_budget = budget\n",
        "    positions_quota = {'GK': 2, 'DEF': 5, 'MID': 5, 'FWD': 3}\n",
        "    positions_count = {'GK': 0, 'DEF': 0, 'MID': 0, 'FWD': 0}\n",
        "    team_players_count = {}\n",
        "\n",
        "    # Tri des joueurs prédits par performances décroissantes\n",
        "    sorted_players = sorted(predicted_performances.items(), key=lambda x: x[1], reverse=True)\n",
        "\n",
        "    # Sélection des joueurs pour l'équipe en respectant les contraintes\n",
        "    for player_name, predicted_performance in sorted_players:\n",
        "        # Vérifier si l'équipe a déjà atteint le nombre maximum de joueurs\n",
        "        if len(team) >= 15:\n",
        "            break\n",
        "\n",
        "        # Vérifier si le joueur est présent dans les données\n",
        "        player_data = data[data['name'] == player_name]\n",
        "        if not player_data.empty:\n",
        "            player_cost = player_data['now_cost'].values[0]\n",
        "            player_position = player_data['position'].values[0]\n",
        "            player_team = player_data['team'].values[0]\n",
        "\n",
        "            # Vérification des contraintes de budget, de nombre maximum de joueurs par équipe et de quota par poste\n",
        "            if player_cost <= remaining_budget and team_players_count.get(player_team, 0) < max_players_per_team and positions_count[player_position] < positions_quota[player_position]:\n",
        "                team.append({\n",
        "                    'name': player_name,\n",
        "                    'position': player_position,\n",
        "                    'team': player_team,\n",
        "                    'cost': player_cost,\n",
        "                    'predicted_performance': predicted_performance\n",
        "                })\n",
        "                remaining_budget -= player_cost\n",
        "                positions_count[player_position] += 1\n",
        "                team_players_count[player_team] = team_players_count.get(player_team, 0) + 1\n",
        "\n",
        "    return team\n"
      ]
    },
    {
      "cell_type": "code",
      "execution_count": 35,
      "metadata": {
        "id": "TuNXuVX1tlcC"
      },
      "outputs": [],
      "source": [
        "# Créer une équipe en utilisant les performances prédites\n",
        "team = create_team(predicted_performances_dict, team_data, budget=1000, max_players_per_team=3)"
      ]
    },
    {
      "cell_type": "code",
      "execution_count": 36,
      "metadata": {
        "id": "kCnvJDajoFsL",
        "colab": {
          "base_uri": "https://localhost:8080/"
        },
        "outputId": "a606301d-e411-4c61-b298-7be7ec0ed875"
      },
      "outputs": [
        {
          "output_type": "stream",
          "name": "stdout",
          "text": [
            "Équipe sélectionnée:\n",
            "Nom: Kai Havertz, Poste: MID, Équipe: Arsenal, Coût: 71, Performance Prédite: 20.189649489100862\n",
            "Nom: Phil Foden, Poste: MID, Équipe: Man City, Coût: 81, Performance Prédite: 19.57281366530246\n",
            "Nom: Harry Wilson, Poste: MID, Équipe: Fulham, Coût: 53, Performance Prédite: 16.41021281792509\n",
            "Nom: Ollie Watkins, Poste: FWD, Équipe: Aston Villa, Coût: 89, Performance Prédite: 15.067895409102379\n",
            "Nom: Rodrigo Hernandez, Poste: MID, Équipe: Man City, Coût: 56, Performance Prédite: 15.027823789406867\n",
            "Nom: Martin Ødegaard, Poste: MID, Équipe: Arsenal, Coût: 85, Performance Prédite: 14.939018500126789\n",
            "Nom: Rodrigo Muniz Carvalho, Poste: FWD, Équipe: Fulham, Coût: 45, Performance Prédite: 14.831952024747066\n",
            "Nom: Mads Roerslev Rasmussen, Poste: DEF, Équipe: Brentford, Coût: 44, Performance Prédite: 14.268001524765278\n",
            "Nom: Carlton Morris, Poste: FWD, Équipe: Luton, Coût: 51, Performance Prédite: 13.747050898403375\n",
            "Nom: Benjamin White, Poste: DEF, Équipe: Arsenal, Coût: 56, Performance Prédite: 12.058426723394989\n",
            "Nom: Cristian Romero, Poste: DEF, Équipe: Spurs, Coût: 49, Performance Prédite: 11.588683695686555\n",
            "Nom: Axel Disasi, Poste: DEF, Équipe: Chelsea, Coût: 49, Performance Prédite: 10.548585112771985\n",
            "Nom: Fabian Schär, Poste: DEF, Équipe: Newcastle, Coût: 54, Performance Prédite: 10.409528812815845\n",
            "Nom: Alphonse Areola, Poste: GK, Équipe: West Ham, Coût: 42, Performance Prédite: 10.01624675581973\n",
            "Nom: Caoimhin Kelleher, Poste: GK, Équipe: Liverpool, Coût: 37, Performance Prédite: 8.555293860243431\n"
          ]
        }
      ],
      "source": [
        "# Afficher l'équipe sélectionnée\n",
        "print(\"Équipe sélectionnée:\")\n",
        "for player in team:\n",
        "    print(f\"Nom: {player['name']}, Poste: {player['position']}, Équipe: {player['team']}, Coût: {player['cost']}, Performance Prédite: {player['predicted_performance']}\")\n"
      ]
    },
    {
      "cell_type": "code",
      "execution_count": 37,
      "metadata": {
        "id": "LvUNcfStDHNP",
        "colab": {
          "base_uri": "https://localhost:8080/"
        },
        "outputId": "e4bc0ffd-769a-4beb-d21d-9ca2bc6f8401"
      },
      "outputs": [
        {
          "output_type": "stream",
          "name": "stdout",
          "text": [
            "Le cout total de l'equipe est de: 862 k£\n",
            "Le nombre de point total de l'equipe est de: 207.23118307961272\n"
          ]
        }
      ],
      "source": [
        "# Calcul du prix total de l'équipe recommandée\n",
        "total_cost = sum(player['cost'] for player in team)\n",
        "total_team_points = sum(player['predicted_performance'] for player in team)\n",
        "print(\"Le cout total de l'equipe est de:\", total_cost, \"k£\")\n",
        "print(\"Le nombre de point total de l'equipe est de:\", total_team_points)"
      ]
    },
    {
      "cell_type": "code",
      "execution_count": 38,
      "metadata": {
        "id": "Np0y0altsbki",
        "colab": {
          "base_uri": "https://localhost:8080/"
        },
        "outputId": "0ca55efb-4385-4453-d8b6-1c7f0797137a"
      },
      "outputs": [
        {
          "output_type": "stream",
          "name": "stdout",
          "text": [
            "Composition de l'équipe recommandée:\n",
            "Joueur: Kai Havertz\n",
            "Poste: MID\n",
            "Équipe: Arsenal\n",
            "Prix: 71 k£\n",
            "Score prédit: 20.189649489100862\n",
            "\n",
            "Joueur: Phil Foden\n",
            "Poste: MID\n",
            "Équipe: Man City\n",
            "Prix: 81 k£\n",
            "Score prédit: 19.57281366530246\n",
            "\n",
            "Joueur: Harry Wilson\n",
            "Poste: MID\n",
            "Équipe: Fulham\n",
            "Prix: 53 k£\n",
            "Score prédit: 16.41021281792509\n",
            "\n",
            "Joueur: Ollie Watkins\n",
            "Poste: FWD\n",
            "Équipe: Aston Villa\n",
            "Prix: 89 k£\n",
            "Score prédit: 15.067895409102379\n",
            "\n",
            "Joueur: Rodrigo Hernandez\n",
            "Poste: MID\n",
            "Équipe: Man City\n",
            "Prix: 56 k£\n",
            "Score prédit: 15.027823789406867\n",
            "\n",
            "Joueur: Martin Ødegaard\n",
            "Poste: MID\n",
            "Équipe: Arsenal\n",
            "Prix: 85 k£\n",
            "Score prédit: 14.939018500126789\n",
            "\n",
            "Joueur: Rodrigo Muniz Carvalho\n",
            "Poste: FWD\n",
            "Équipe: Fulham\n",
            "Prix: 45 k£\n",
            "Score prédit: 14.831952024747066\n",
            "\n",
            "Joueur: Mads Roerslev Rasmussen\n",
            "Poste: DEF\n",
            "Équipe: Brentford\n",
            "Prix: 44 k£\n",
            "Score prédit: 14.268001524765278\n",
            "\n",
            "Joueur: Carlton Morris\n",
            "Poste: FWD\n",
            "Équipe: Luton\n",
            "Prix: 51 k£\n",
            "Score prédit: 13.747050898403375\n",
            "\n",
            "Joueur: Benjamin White\n",
            "Poste: DEF\n",
            "Équipe: Arsenal\n",
            "Prix: 56 k£\n",
            "Score prédit: 12.058426723394989\n",
            "\n",
            "Joueur: Cristian Romero\n",
            "Poste: DEF\n",
            "Équipe: Spurs\n",
            "Prix: 49 k£\n",
            "Score prédit: 11.588683695686555\n",
            "\n",
            "Joueur: Axel Disasi\n",
            "Poste: DEF\n",
            "Équipe: Chelsea\n",
            "Prix: 49 k£\n",
            "Score prédit: 10.548585112771985\n",
            "\n",
            "Joueur: Fabian Schär\n",
            "Poste: DEF\n",
            "Équipe: Newcastle\n",
            "Prix: 54 k£\n",
            "Score prédit: 10.409528812815845\n",
            "\n",
            "Joueur: Alphonse Areola\n",
            "Poste: GK\n",
            "Équipe: West Ham\n",
            "Prix: 42 k£\n",
            "Score prédit: 10.01624675581973\n",
            "\n",
            "Joueur: Caoimhin Kelleher\n",
            "Poste: GK\n",
            "Équipe: Liverpool\n",
            "Prix: 37 k£\n",
            "Score prédit: 8.555293860243431\n",
            "\n"
          ]
        }
      ],
      "source": [
        "\n",
        "# Affichage de la composition de l'équipe recommandée\n",
        "print(\"Composition de l'équipe recommandée:\")\n",
        "for player in team:\n",
        "    print(\"Joueur:\", player['name'])\n",
        "    print(\"Poste:\", player['position'])\n",
        "    print(\"Équipe:\", player['team'])\n",
        "    print(\"Prix:\", player['cost'], 'k£')\n",
        "    print(\"Score prédit:\", player['predicted_performance'])\n",
        "    print()"
      ]
    },
    {
      "cell_type": "code",
      "execution_count": null,
      "metadata": {
        "id": "02K4rfzUBsJM"
      },
      "outputs": [],
      "source": []
    }
  ],
  "metadata": {
    "colab": {
      "provenance": []
    },
    "kernelspec": {
      "display_name": "Python 3",
      "name": "python3"
    },
    "language_info": {
      "name": "python"
    }
  },
  "nbformat": 4,
  "nbformat_minor": 0
}