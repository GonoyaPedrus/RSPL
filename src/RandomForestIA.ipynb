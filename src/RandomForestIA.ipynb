{
 "cells": [
  {
   "cell_type": "code",
   "execution_count": 13,
   "id": "initial_id",
   "metadata": {
    "collapsed": true,
    "ExecuteTime": {
     "end_time": "2024-02-28T10:18:31.927751Z",
     "start_time": "2024-02-28T10:18:28.435748Z"
    }
   },
   "outputs": [],
   "source": [
    "import pandas as pd\n",
    "from sklearn.model_selection import train_test_split, cross_val_score\n",
    "from sklearn.ensemble import RandomForestRegressor\n",
    "from sklearn.metrics import mean_squared_error, r2_score, mean_absolute_error"
   ]
  },
  {
   "cell_type": "code",
   "execution_count": 14,
   "outputs": [],
   "source": [
    "# Chargement et prétraitement des données\n",
    "def load_and_preprocess_data(file_path):\n",
    "    original_data = pd.read_csv(file_path, low_memory=False)\n",
    "    data = original_data.copy()\n",
    "    data.drop_duplicates(inplace=True)\n",
    "    data.dropna(inplace=True)\n",
    "    return data"
   ],
   "metadata": {
    "collapsed": false,
    "ExecuteTime": {
     "end_time": "2024-02-28T10:18:31.942454Z",
     "start_time": "2024-02-28T10:18:31.936898Z"
    }
   },
   "id": "fead6b56cf1f1d3b"
  },
  {
   "cell_type": "code",
   "execution_count": 15,
   "outputs": [],
   "source": [
    "# Ingénierie des caractéristiques\n",
    "def feature_engineering(data):\n",
    "    selected_features = ['name', 'position', 'team_x', 'value', 'goals_scored', 'assists', 'clean_sheets','total_points', 'yellow_cards', 'red_cards']\n",
    "    data = data[selected_features].copy()\n",
    "    data['total_cards'] = data['yellow_cards'] + data['red_cards']\n",
    "    return data"
   ],
   "metadata": {
    "collapsed": false,
    "ExecuteTime": {
     "end_time": "2024-02-28T10:18:31.967833Z",
     "start_time": "2024-02-28T10:18:31.946009Z"
    }
   },
   "id": "8dfc018e777de9a6"
  },
  {
   "cell_type": "code",
   "execution_count": 16,
   "outputs": [],
   "source": [
    "# Division des données en ensembles d'entraînement et de test\n",
    "def split_data(data):\n",
    "    X = data.drop(columns=['goals_scored', 'assists', 'total_points'])\n",
    "    y = data['total_points']\n",
    "    X_encoded = pd.get_dummies(X)\n",
    "    X_train, X_test, y_train, y_test = train_test_split(X_encoded, y, test_size=0.2, random_state=42)\n",
    "    return X_train, X_test, y_train, y_test"
   ],
   "metadata": {
    "collapsed": false,
    "ExecuteTime": {
     "end_time": "2024-02-28T10:18:31.998636Z",
     "start_time": "2024-02-28T10:18:31.964393Z"
    }
   },
   "id": "a831b2151e5ac19f"
  },
  {
   "cell_type": "code",
   "execution_count": 17,
   "outputs": [],
   "source": [
    "# Entraînement du modèle RandomForestRegressor\n",
    "def train_random_forest(X_train, y_train):\n",
    "    model = RandomForestRegressor(n_estimators=100, random_state=42)\n",
    "    model.fit(X_train, y_train)\n",
    "    return model"
   ],
   "metadata": {
    "collapsed": false,
    "ExecuteTime": {
     "end_time": "2024-02-28T10:18:32.013106Z",
     "start_time": "2024-02-28T10:18:31.978582Z"
    }
   },
   "id": "a890f1c972497be"
  },
  {
   "cell_type": "code",
   "execution_count": 18,
   "outputs": [],
   "source": [
    "# Évaluation du modèle\n",
    "def evaluate_model(model, X_test, y_test):\n",
    "    y_pred = model.predict(X_test)\n",
    "    mse = mean_squared_error(y_test, y_pred)\n",
    "    r2 = r2_score(y_test, y_pred)\n",
    "    mae = mean_absolute_error(y_test, y_pred)\n",
    "    return mse, r2, mae"
   ],
   "metadata": {
    "collapsed": false,
    "ExecuteTime": {
     "end_time": "2024-02-28T10:18:32.014805Z",
     "start_time": "2024-02-28T10:18:31.987628Z"
    }
   },
   "id": "d9e48e05324bb222"
  },
  {
   "cell_type": "code",
   "execution_count": 19,
   "outputs": [],
   "source": [
    "# Chargement des données\n",
    "file_path = \"/Users/melusinecaillard/RSPL/data/cleaned_merged_seasons.csv\"\n",
    "data = load_and_preprocess_data(file_path)\n",
    "data = feature_engineering(data)"
   ],
   "metadata": {
    "collapsed": false,
    "ExecuteTime": {
     "end_time": "2024-02-28T10:18:33.037461Z",
     "start_time": "2024-02-28T10:18:32.002273Z"
    }
   },
   "id": "aa8aa314a42ff97b"
  },
  {
   "cell_type": "code",
   "execution_count": 20,
   "outputs": [],
   "source": [
    "# Division des données en ensembles d'entraînement et de test\n",
    "X_train, X_test, y_train, y_test = split_data(data)"
   ],
   "metadata": {
    "collapsed": false,
    "ExecuteTime": {
     "end_time": "2024-02-28T10:18:34.823217Z",
     "start_time": "2024-02-28T10:18:33.042327Z"
    }
   },
   "id": "45c58e373fc639b1"
  },
  {
   "cell_type": "code",
   "execution_count": 21,
   "outputs": [],
   "source": [
    "# Entraînement du modèle RandomForestRegressor\n",
    "model = train_random_forest(X_train, y_train)"
   ],
   "metadata": {
    "collapsed": false,
    "ExecuteTime": {
     "end_time": "2024-02-28T10:35:20.638307Z",
     "start_time": "2024-02-28T10:18:34.823433Z"
    }
   },
   "id": "17ab0d203dbbb130"
  },
  {
   "cell_type": "code",
   "execution_count": 22,
   "outputs": [],
   "source": [
    "# Prédiction des performances des joueurs pour l'ensemble de test\n",
    "y_pred = model.predict(X_test)"
   ],
   "metadata": {
    "collapsed": false,
    "ExecuteTime": {
     "end_time": "2024-02-28T10:35:24.530026Z",
     "start_time": "2024-02-28T10:35:20.643935Z"
    }
   },
   "id": "bb01e0d1de3cfa2"
  },
  {
   "cell_type": "code",
   "execution_count": 23,
   "outputs": [
    {
     "name": "stdout",
     "output_type": "stream",
     "text": [
      "Mean Squared Error: 3.3448768078002935\n",
      "R-squared: 0.4333868951250974\n",
      "Mean Absolute Error: 0.8773194857862532\n"
     ]
    }
   ],
   "source": [
    "# Évaluation de la performance du modèle\n",
    "mse, r2, mae = evaluate_model(model, X_test, y_test)\n",
    "print(\"Mean Squared Error:\", mse)\n",
    "print(\"R-squared:\", r2)\n",
    "print(\"Mean Absolute Error:\", mae)"
   ],
   "metadata": {
    "collapsed": false,
    "ExecuteTime": {
     "end_time": "2024-02-28T10:35:26.349427Z",
     "start_time": "2024-02-28T10:35:24.524606Z"
    }
   },
   "id": "29c863162e5501ef"
  },
  {
   "cell_type": "code",
   "execution_count": 25,
   "outputs": [
    {
     "name": "stdout",
     "output_type": "stream",
     "text": [
      "Cross-validated RMSE scores: [1.80527752 1.80657253 1.87883872 1.83203433 1.82417705]\n",
      "Mean RMSE: 1.829380030404018\n"
     ]
    }
   ],
   "source": [
    "import numpy as np\n",
    "\n",
    "# Validation croisée\n",
    "cv_scores = cross_val_score(model, X_train, y_train, cv=5, scoring='neg_mean_squared_error')\n",
    "rmse_scores = np.sqrt(-cv_scores)\n",
    "print(\"Cross-validated RMSE scores:\", rmse_scores)\n",
    "print(\"Mean RMSE:\", rmse_scores.mean())"
   ],
   "metadata": {
    "collapsed": false,
    "ExecuteTime": {
     "end_time": "2024-02-29T13:22:43.163009Z",
     "start_time": "2024-02-29T12:09:38.105638Z"
    }
   },
   "id": "e209efbf31f74659"
  },
  {
   "cell_type": "code",
   "execution_count": null,
   "outputs": [],
   "source": [],
   "metadata": {
    "collapsed": false
   },
   "id": "a031f0b5fc1b1af8"
  }
 ],
 "metadata": {
  "kernelspec": {
   "display_name": "Python 3",
   "language": "python",
   "name": "python3"
  },
  "language_info": {
   "codemirror_mode": {
    "name": "ipython",
    "version": 2
   },
   "file_extension": ".py",
   "mimetype": "text/x-python",
   "name": "python",
   "nbconvert_exporter": "python",
   "pygments_lexer": "ipython2",
   "version": "2.7.6"
  }
 },
 "nbformat": 4,
 "nbformat_minor": 5
}
