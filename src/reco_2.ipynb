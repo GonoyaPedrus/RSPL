{
 "cells": [
  {
   "cell_type": "markdown",
   "source": [
    "# Système de recommandation Pierre"
   ],
   "metadata": {
    "collapsed": false
   }
  },
  {
   "cell_type": "markdown",
   "source": [
    "## L'objectif est de créer un système de recommandation de joueurs de Fantasy Premier League (FPL) à partir de leurs performances passées qui sont dans le dossier data du git."
   ],
   "metadata": {
    "collapsed": false
   }
  },
  {
   "cell_type": "code",
   "execution_count": 6,
   "outputs": [],
   "source": [
    "# Import des librairies\n",
    "import pandas as pd\n",
    "import numpy as np\n",
    "import pulp\n",
    "import matplotlib.pyplot as plt\n",
    "import seaborn as sns\n",
    "import os\n",
    "import unidecode\n",
    "import glob\n",
    "import re\n",
    "import datetime\n",
    "import warnings\n",
    "warnings.filterwarnings('ignore')"
   ],
   "metadata": {
    "collapsed": false
   }
  },
  {
   "cell_type": "code",
   "execution_count": 7,
   "outputs": [],
   "source": [
    "folderpath = r'../data/input/fantasypremierleague/'\n",
    "\n",
    "players_1617_df = pd.read_csv(folderpath+'players_raw_1617.csv', encoding='latin')\n",
    "players_1718_df = pd.read_csv(folderpath+'players_raw_1718.csv',encoding='latin')\n",
    "players_1819_df = pd.read_csv(folderpath+'players_raw_1819.csv',encoding='latin')\n",
    "players_1920_df = pd.read_csv(folderpath+'players_raw_1920.csv',encoding='latin')\n",
    "players_2021_df = pd.read_csv(folderpath+'players_raw_2021.csv',encoding='latin')\n",
    "players_2122_df = pd.read_csv(folderpath+'players_raw_2122.csv',encoding='latin')\n",
    "players_2223_df = pd.read_csv(folderpath+'players_raw_2223.csv',encoding='latin')\n",
    "players_2324_df = pd.read_csv(folderpath+'players_raw_2324.csv',encoding='latin')\n",
    "\n",
    "gws_1617_df = pd.read_csv(folderpath+'merged_gw_1617.csv',encoding='latin')\n",
    "gws_1718_df = pd.read_csv(folderpath+'merged_gw_1718.csv',encoding='latin')\n",
    "gws_1819_df = pd.read_csv(folderpath+'merged_gw_1819.csv',encoding='latin')\n",
    "gws_1920_df = pd.read_csv(folderpath+'merged_gw_1920.csv',engine='python')\n",
    "gws_2021_df = pd.read_csv(folderpath+'merged_gw_2021.csv',encoding='latin')\n",
    "gws_2122_df = pd.read_csv(folderpath+'merged_gw_2122.csv',encoding='latin')\n",
    "gws_2223_df = pd.read_csv(folderpath+'merged_gw_2223.csv',encoding='latin')\n",
    "gws_2324_df = pd.read_csv(folderpath+'merged_gw_2324.csv',encoding='latin')\n",
    "\n",
    "team_codes_df = pd.read_csv('../data/teams.csv', encoding='latin')\n"
   ],
   "metadata": {
    "collapsed": false
   }
  },
  {
   "cell_type": "code",
   "execution_count": 8,
   "outputs": [],
   "source": [
    "team_codes_df.columns.values[2:] = team_codes_df.columns[2:].str.replace('team_', '')"
   ],
   "metadata": {
    "collapsed": false
   }
  },
  {
   "cell_type": "code",
   "execution_count": 9,
   "outputs": [],
   "source": [
    "player_df_list = [players_1617_df, players_1718_df, players_1819_df, players_1920_df, players_2021_df, players_2122_df, players_2223_df, players_2324_df]\n",
    "gw_df_list = [gws_1617_df, gws_1718_df, gws_1819_df, gws_1920_df, gws_2021_df, gws_2122_df, gws_2223_df, gws_2324_df]"
   ],
   "metadata": {
    "collapsed": false
   }
  },
  {
   "cell_type": "code",
   "execution_count": 10,
   "outputs": [],
   "source": [
    "# append season and season index to dfs\n",
    "\n",
    "seasons = ['1617', '1718', '1819', '1920', '2021', '2122', '2223', '2324']\n",
    "season_nums = list(range(len(seasons)))\n",
    "\n",
    "for i in range(len(seasons)):\n",
    "\n",
    "    player_df_list[i]['season'] = seasons[i]\n",
    "    gw_df_list[i]['season'] = seasons[i]\n",
    "\n",
    "    player_df_list[i]['season_num'] = season_nums[i]\n",
    "    gw_df_list[i]['season_num'] = season_nums[i]"
   ],
   "metadata": {
    "collapsed": false
   }
  },
  {
   "cell_type": "code",
   "execution_count": 11,
   "outputs": [],
   "source": [
    "# combine dataframes from all seasons into one\n",
    "\n",
    "players_df = pd.concat(player_df_list)\n",
    "gws_df = pd.concat(gw_df_list)\n",
    "\n",
    "players_df.reset_index(inplace=True)\n",
    "gws_df.reset_index(inplace=True)"
   ],
   "metadata": {
    "collapsed": false
   }
  },
  {
   "cell_type": "code",
   "execution_count": 12,
   "outputs": [],
   "source": [
    "## Get full name\n",
    "# Cleans up accents and also makes processing easier\n",
    "\n",
    "def get_full_name_playerdf(first_name, second_name):\n",
    "    full_name = first_name +'_' + second_name\n",
    "    full_name = full_name.replace(\" \", \"_\")\n",
    "    full_name = full_name.replace(\"-\", \"_\")\n",
    "    full_name = unidecode.unidecode(full_name)\n",
    "\n",
    "    return full_name"
   ],
   "metadata": {
    "collapsed": false
   }
  },
  {
   "cell_type": "code",
   "execution_count": 13,
   "outputs": [],
   "source": [
    "# Translate player positions into string for easier readability\n",
    "\n",
    "positions_dict = {\n",
    "    1: 'Keeper',\n",
    "    2: 'Defender',\n",
    "    3: 'Midfielder',\n",
    "    4: 'Forward'\n",
    "}\n",
    "\n",
    "players_df['full_name'] = players_df.apply(lambda x: get_full_name_playerdf(x.first_name, x.second_name), axis=1).str.lower()\n",
    "players_df['position'] = players_df.element_type.map(positions_dict)\n",
    "players_df['starting_cost'] = players_df.now_cost - players_df.cost_change_start_fall\n",
    "players_df['cost_bin'] = players_df.now_cost.apply(lambda x: np.floor(x/10))\n",
    "\n",
    "gws_df['full_name'] = gws_df.name.str.replace('_\\d+','')\n",
    "gws_df['full_name'] = gws_df['full_name'].str.replace(\" \", \"_\").str.replace(\"-\", \"_\").str.replace('_\\d+','')\n",
    "gws_df['full_name'] = gws_df['full_name'].apply(lambda x: unidecode.unidecode(x))\n",
    "gws_df['full_name'] = gws_df['full_name'].str.lower()"
   ],
   "metadata": {
    "collapsed": false
   }
  },
  {
   "cell_type": "code",
   "execution_count": 14,
   "outputs": [],
   "source": [
    "def clean_gw_df(player_df, gw_df, team_codes_df):\n",
    "\n",
    "    # Returns a df with player position, player's team name, and opponent's team name\n",
    "\n",
    "    pdf = player_df.copy()[['full_name', 'season', 'position', 'player_team_name']]\n",
    "    gdf = gw_df.copy()\n",
    "\n",
    "    gdf = gdf.merge(pdf, on=['full_name', 'season'], how='left')\n",
    "\n",
    "\n",
    "    dfs = []\n",
    "    for s, group in gdf.groupby('season'):\n",
    "\n",
    "        temp_code_df = team_codes_df[['code', s]]\n",
    "        temp_code_df = temp_code_df.dropna()\n",
    "\n",
    "        group = group[['opponent_team']]\n",
    "        group['opponent_team_name'] = group.opponent_team.map(temp_code_df.set_index(s).team)\n",
    "        dfs.append(group[['opponent_team_name']])\n",
    "\n",
    "    out_df = pd.concat(dfs, axis=0)\n",
    "    out_df = pd.concat([gdf, out_df], axis=1)\n",
    "\n",
    "    return out_df"
   ],
   "metadata": {
    "collapsed": false
   }
  },
  {
   "cell_type": "code",
   "execution_count": 15,
   "outputs": [],
   "source": [
    "def make_available_players_df(this_season_player_df, last_season_player_df):\n",
    "\n",
    "\n",
    "    last_season_player_df = last_season_player_df[last_season_player_df.minutes > 0]\n",
    "    last_season_player_df = last_season_player_df[['full_name', \"total_points\"]]\n",
    "    last_season_player_df.rename(columns={'total_points': \"total_points_last_season\"},\n",
    "                                inplace=True)\n",
    "\n",
    "    available_players_df = pd.merge(this_season_player_df,\n",
    "                                    last_season_player_df,\n",
    "                                   on='full_name', how='left')\n",
    "\n",
    "    available_players_df.total_points_last_season = available_players_df.groupby(['position', 'cost_bin']).total_points_last_season.transform(lambda x: x.fillna(x.mean()))\n",
    "\n",
    "    return available_players_df"
   ],
   "metadata": {
    "collapsed": false
   }
  },
  {
   "cell_type": "code",
   "execution_count": 16,
   "outputs": [
    {
     "data": {
      "text/plain": "     index  assists  bonus  bps  chance_of_playing_next_round  \\\n0        0        0      0    0                           0.0   \n1        1        0      0    0                           NaN   \n2        2        1      0   12                         100.0   \n3        3        3      0   69                         100.0   \n4        4        0      2  132                         100.0   \n..     ...      ...    ...  ...                           ...   \n728    728        0      0   27                           NaN   \n729    729        0      0    0                         100.0   \n730    730        0      0    0                           NaN   \n731    731        0      0    0                           NaN   \n732    732        0      1   21                         100.0   \n\n     chance_of_playing_this_round  clean_sheets    code  cost_change_event  \\\n0                             0.0             0  232223                  0   \n1                             NaN             0   58822                  0   \n2                           100.0             0  153256                  0   \n3                           100.0             1  438098                  0   \n4                           100.0             3  226597                  0   \n..                            ...           ...     ...                ...   \n728                           NaN             0   87835                  0   \n729                         100.0             0  231480                  0   \n730                           NaN             0  593001                  0   \n731                           NaN             0  531363                  0   \n732                          75.0             0  231057                  0   \n\n     cost_change_event_fall  ...  saves_per_90  selected_rank  \\\n0                         0  ...           0.0          302.0   \n1                         0  ...           0.0          248.0   \n2                         0  ...           0.0          399.0   \n3                         0  ...           0.0          381.0   \n4                         0  ...           0.0           27.0   \n..                      ...  ...           ...            ...   \n728                       0  ...           0.0          324.0   \n729                       0  ...           0.0          591.0   \n730                       0  ...           0.0          666.0   \n731                       0  ...           0.0          432.0   \n732                       0  ...           0.0          673.0   \n\n     selected_rank_type  starts  starts_per_90  \\\n0                  47.0     0.0           0.00   \n1                  94.0     0.0           0.00   \n2                 129.0     0.0           0.00   \n3                 122.0     2.0           0.85   \n4                   9.0     7.0           0.96   \n..                  ...     ...            ...   \n728               126.0     1.0           0.40   \n729               210.0     0.0           0.00   \n730               269.0     0.0           0.00   \n731                63.0     0.0           0.00   \n732               273.0     2.0           1.26   \n\n                          full_name    position  starting_cost  cost_bin  \\\n0                   folarin_balogun     Forward             43       4.0   \n1            ca(c)dric_alves_soares    Defender             38       3.0   \n2                    mohamed_elneny  Midfielder             43       4.0   \n3            fa!bio_ferreira_vieira  Midfielder             53       5.0   \n4    gabriel_dos_santos_magalhapses    Defender             46       4.0   \n..                              ...         ...            ...       ...   \n728                    matt_doherty    Defender             41       4.0   \n729                  santiago_bueno    Defender             45       4.0   \n730                  enso_gonza!lez  Midfielder             50       5.0   \n731                   nathan_fraser     Forward             45       4.0   \n732          jean_ricner_bellegarde  Midfielder             48       4.0   \n\n    total_points_last_season  \n0                  25.500000  \n1                  10.000000  \n2                   6.000000  \n3                  40.000000  \n4                 146.000000  \n..                       ...  \n728                35.000000  \n729                54.375000  \n730                77.463768  \n731                25.500000  \n732                29.459770  \n\n[733 rows x 101 columns]",
      "text/html": "<div>\n<style scoped>\n    .dataframe tbody tr th:only-of-type {\n        vertical-align: middle;\n    }\n\n    .dataframe tbody tr th {\n        vertical-align: top;\n    }\n\n    .dataframe thead th {\n        text-align: right;\n    }\n</style>\n<table border=\"1\" class=\"dataframe\">\n  <thead>\n    <tr style=\"text-align: right;\">\n      <th></th>\n      <th>index</th>\n      <th>assists</th>\n      <th>bonus</th>\n      <th>bps</th>\n      <th>chance_of_playing_next_round</th>\n      <th>chance_of_playing_this_round</th>\n      <th>clean_sheets</th>\n      <th>code</th>\n      <th>cost_change_event</th>\n      <th>cost_change_event_fall</th>\n      <th>...</th>\n      <th>saves_per_90</th>\n      <th>selected_rank</th>\n      <th>selected_rank_type</th>\n      <th>starts</th>\n      <th>starts_per_90</th>\n      <th>full_name</th>\n      <th>position</th>\n      <th>starting_cost</th>\n      <th>cost_bin</th>\n      <th>total_points_last_season</th>\n    </tr>\n  </thead>\n  <tbody>\n    <tr>\n      <th>0</th>\n      <td>0</td>\n      <td>0</td>\n      <td>0</td>\n      <td>0</td>\n      <td>0.0</td>\n      <td>0.0</td>\n      <td>0</td>\n      <td>232223</td>\n      <td>0</td>\n      <td>0</td>\n      <td>...</td>\n      <td>0.0</td>\n      <td>302.0</td>\n      <td>47.0</td>\n      <td>0.0</td>\n      <td>0.00</td>\n      <td>folarin_balogun</td>\n      <td>Forward</td>\n      <td>43</td>\n      <td>4.0</td>\n      <td>25.500000</td>\n    </tr>\n    <tr>\n      <th>1</th>\n      <td>1</td>\n      <td>0</td>\n      <td>0</td>\n      <td>0</td>\n      <td>NaN</td>\n      <td>NaN</td>\n      <td>0</td>\n      <td>58822</td>\n      <td>0</td>\n      <td>0</td>\n      <td>...</td>\n      <td>0.0</td>\n      <td>248.0</td>\n      <td>94.0</td>\n      <td>0.0</td>\n      <td>0.00</td>\n      <td>ca(c)dric_alves_soares</td>\n      <td>Defender</td>\n      <td>38</td>\n      <td>3.0</td>\n      <td>10.000000</td>\n    </tr>\n    <tr>\n      <th>2</th>\n      <td>2</td>\n      <td>1</td>\n      <td>0</td>\n      <td>12</td>\n      <td>100.0</td>\n      <td>100.0</td>\n      <td>0</td>\n      <td>153256</td>\n      <td>0</td>\n      <td>0</td>\n      <td>...</td>\n      <td>0.0</td>\n      <td>399.0</td>\n      <td>129.0</td>\n      <td>0.0</td>\n      <td>0.00</td>\n      <td>mohamed_elneny</td>\n      <td>Midfielder</td>\n      <td>43</td>\n      <td>4.0</td>\n      <td>6.000000</td>\n    </tr>\n    <tr>\n      <th>3</th>\n      <td>3</td>\n      <td>3</td>\n      <td>0</td>\n      <td>69</td>\n      <td>100.0</td>\n      <td>100.0</td>\n      <td>1</td>\n      <td>438098</td>\n      <td>0</td>\n      <td>0</td>\n      <td>...</td>\n      <td>0.0</td>\n      <td>381.0</td>\n      <td>122.0</td>\n      <td>2.0</td>\n      <td>0.85</td>\n      <td>fa!bio_ferreira_vieira</td>\n      <td>Midfielder</td>\n      <td>53</td>\n      <td>5.0</td>\n      <td>40.000000</td>\n    </tr>\n    <tr>\n      <th>4</th>\n      <td>4</td>\n      <td>0</td>\n      <td>2</td>\n      <td>132</td>\n      <td>100.0</td>\n      <td>100.0</td>\n      <td>3</td>\n      <td>226597</td>\n      <td>0</td>\n      <td>0</td>\n      <td>...</td>\n      <td>0.0</td>\n      <td>27.0</td>\n      <td>9.0</td>\n      <td>7.0</td>\n      <td>0.96</td>\n      <td>gabriel_dos_santos_magalhapses</td>\n      <td>Defender</td>\n      <td>46</td>\n      <td>4.0</td>\n      <td>146.000000</td>\n    </tr>\n    <tr>\n      <th>...</th>\n      <td>...</td>\n      <td>...</td>\n      <td>...</td>\n      <td>...</td>\n      <td>...</td>\n      <td>...</td>\n      <td>...</td>\n      <td>...</td>\n      <td>...</td>\n      <td>...</td>\n      <td>...</td>\n      <td>...</td>\n      <td>...</td>\n      <td>...</td>\n      <td>...</td>\n      <td>...</td>\n      <td>...</td>\n      <td>...</td>\n      <td>...</td>\n      <td>...</td>\n      <td>...</td>\n    </tr>\n    <tr>\n      <th>728</th>\n      <td>728</td>\n      <td>0</td>\n      <td>0</td>\n      <td>27</td>\n      <td>NaN</td>\n      <td>NaN</td>\n      <td>0</td>\n      <td>87835</td>\n      <td>0</td>\n      <td>0</td>\n      <td>...</td>\n      <td>0.0</td>\n      <td>324.0</td>\n      <td>126.0</td>\n      <td>1.0</td>\n      <td>0.40</td>\n      <td>matt_doherty</td>\n      <td>Defender</td>\n      <td>41</td>\n      <td>4.0</td>\n      <td>35.000000</td>\n    </tr>\n    <tr>\n      <th>729</th>\n      <td>729</td>\n      <td>0</td>\n      <td>0</td>\n      <td>0</td>\n      <td>100.0</td>\n      <td>100.0</td>\n      <td>0</td>\n      <td>231480</td>\n      <td>0</td>\n      <td>0</td>\n      <td>...</td>\n      <td>0.0</td>\n      <td>591.0</td>\n      <td>210.0</td>\n      <td>0.0</td>\n      <td>0.00</td>\n      <td>santiago_bueno</td>\n      <td>Defender</td>\n      <td>45</td>\n      <td>4.0</td>\n      <td>54.375000</td>\n    </tr>\n    <tr>\n      <th>730</th>\n      <td>730</td>\n      <td>0</td>\n      <td>0</td>\n      <td>0</td>\n      <td>NaN</td>\n      <td>NaN</td>\n      <td>0</td>\n      <td>593001</td>\n      <td>0</td>\n      <td>0</td>\n      <td>...</td>\n      <td>0.0</td>\n      <td>666.0</td>\n      <td>269.0</td>\n      <td>0.0</td>\n      <td>0.00</td>\n      <td>enso_gonza!lez</td>\n      <td>Midfielder</td>\n      <td>50</td>\n      <td>5.0</td>\n      <td>77.463768</td>\n    </tr>\n    <tr>\n      <th>731</th>\n      <td>731</td>\n      <td>0</td>\n      <td>0</td>\n      <td>0</td>\n      <td>NaN</td>\n      <td>NaN</td>\n      <td>0</td>\n      <td>531363</td>\n      <td>0</td>\n      <td>0</td>\n      <td>...</td>\n      <td>0.0</td>\n      <td>432.0</td>\n      <td>63.0</td>\n      <td>0.0</td>\n      <td>0.00</td>\n      <td>nathan_fraser</td>\n      <td>Forward</td>\n      <td>45</td>\n      <td>4.0</td>\n      <td>25.500000</td>\n    </tr>\n    <tr>\n      <th>732</th>\n      <td>732</td>\n      <td>0</td>\n      <td>1</td>\n      <td>21</td>\n      <td>100.0</td>\n      <td>75.0</td>\n      <td>0</td>\n      <td>231057</td>\n      <td>0</td>\n      <td>0</td>\n      <td>...</td>\n      <td>0.0</td>\n      <td>673.0</td>\n      <td>273.0</td>\n      <td>2.0</td>\n      <td>1.26</td>\n      <td>jean_ricner_bellegarde</td>\n      <td>Midfielder</td>\n      <td>48</td>\n      <td>4.0</td>\n      <td>29.459770</td>\n    </tr>\n  </tbody>\n</table>\n<p>733 rows × 101 columns</p>\n</div>"
     },
     "execution_count": 16,
     "metadata": {},
     "output_type": "execute_result"
    }
   ],
   "source": [
    "current_season_player_df = players_df[players_df.season=='2324']\n",
    "previous_season_player_df = players_df[players_df.season=='2223']\n",
    "\n",
    "available_players_df = make_available_players_df(current_season_player_df, previous_season_player_df)\n",
    "available_players_df"
   ],
   "metadata": {
    "collapsed": false
   }
  },
  {
   "cell_type": "code",
   "execution_count": 17,
   "outputs": [],
   "source": [
    "def get_cheapest_players(player_df):\n",
    "\n",
    "    cheapest_player_names = []\n",
    "    total_cost = 0\n",
    "\n",
    "    # for each position, sort the players by cost (in ascending order)\n",
    "    # then, get the player with the most number of points\n",
    "\n",
    "    for position, group in player_df.groupby('position'):\n",
    "        cheapest_players =  group[(group.starting_cost == group.starting_cost.min())]\n",
    "        top_cheapest_player = cheapest_players[cheapest_players.total_points == cheapest_players.total_points.max()]\n",
    "\n",
    "        cheapest_player_name = top_cheapest_player.full_name.values[0]\n",
    "\n",
    "        cheapest_player_names += [cheapest_player_name]\n",
    "        total_cost += top_cheapest_player.starting_cost.values[0]\n",
    "\n",
    "        print(position, \": \", cheapest_player_name )\n",
    "\n",
    "    return cheapest_player_names, total_cost"
   ],
   "metadata": {
    "collapsed": false
   }
  },
  {
   "cell_type": "code",
   "execution_count": 18,
   "outputs": [
    {
     "name": "stdout",
     "output_type": "stream",
     "text": [
      "Defender :  george_baldock\n",
      "Forward :  william_osula\n",
      "Keeper :  thomas_strakosha\n",
      "Midfielder :  elliot_anderson\n"
     ]
    },
    {
     "data": {
      "text/plain": "['george_baldock', 'william_osula', 'thomas_strakosha', 'elliot_anderson']"
     },
     "execution_count": 18,
     "metadata": {},
     "output_type": "execute_result"
    }
   ],
   "source": [
    "bench_players, bench_cost = get_cheapest_players(available_players_df)\n",
    "bench_players"
   ],
   "metadata": {
    "collapsed": false
   }
  },
  {
   "cell_type": "code",
   "execution_count": 19,
   "outputs": [],
   "source": [
    "def make_decision_variables(player_df):\n",
    "    return [pulp.LpVariable(i, cat=\"Binary\") for i in player_df.full_name]"
   ],
   "metadata": {
    "collapsed": false
   }
  },
  {
   "cell_type": "code",
   "execution_count": 20,
   "outputs": [],
   "source": [
    "def make_optimization_function(player_df, decision_variables):\n",
    "    op_func = \"\"\n",
    "\n",
    "    for i, player in enumerate(decision_variables):\n",
    "        op_func += player_df.total_points_last_season[i]*player\n",
    "\n",
    "    return op_func"
   ],
   "metadata": {
    "collapsed": false
   }
  },
  {
   "cell_type": "code",
   "execution_count": 21,
   "outputs": [],
   "source": [
    "def make_cash_constraint(player_df, decision_variables, available_cash):\n",
    "    total_paid = \"\"\n",
    "    for rownum, row in player_df.iterrows():\n",
    "        for i, player in enumerate(decision_variables):\n",
    "            if rownum == i:\n",
    "                formula = row['starting_cost']*player\n",
    "                total_paid += formula\n",
    "\n",
    "    return (total_paid <= available_cash)"
   ],
   "metadata": {
    "collapsed": false
   }
  },
  {
   "cell_type": "code",
   "execution_count": 22,
   "outputs": [],
   "source": [
    "def make_player_constraint(position, n, decision_variables, player_df):\n",
    "\n",
    "    total_n = \"\"\n",
    "\n",
    "    player_positions = player_df.position\n",
    "\n",
    "    for i, player in enumerate(decision_variables):\n",
    "        if player_positions[i] == position:\n",
    "            total_n += 1*player\n",
    "\n",
    "    return(total_n == n)"
   ],
   "metadata": {
    "collapsed": false
   }
  },
  {
   "cell_type": "code",
   "execution_count": 23,
   "outputs": [],
   "source": [
    "def add_team_constraint(prob, player_df, decision_variables):\n",
    "\n",
    "    for team, group in player_df.groupby('team_code'):\n",
    "        team_total = ''\n",
    "\n",
    "        for player in decision_variables:\n",
    "            if player.name in group.full_name.values:\n",
    "                formula = 1*player\n",
    "                team_total += formula\n",
    "\n",
    "\n",
    "        prob += (team_total <= 3)"
   ],
   "metadata": {
    "collapsed": false
   }
  },
  {
   "cell_type": "code",
   "execution_count": 24,
   "outputs": [],
   "source": [
    "available_cash = 1000 - bench_cost\n",
    "\n",
    "prob = pulp.LpProblem('InitialTeam', pulp.LpMaximize)\n",
    "\n",
    "decision_variables = make_decision_variables(available_players_df)\n",
    "prob += make_optimization_function(available_players_df, decision_variables)\n",
    "prob += make_cash_constraint(available_players_df, decision_variables, available_cash)\n",
    "prob += make_player_constraint(\"Keeper\", 1, decision_variables, available_players_df)\n",
    "prob += make_player_constraint(\"Defender\", 4, decision_variables, available_players_df)\n",
    "prob += make_player_constraint(\"Midfielder\", 4, decision_variables, available_players_df)\n",
    "prob += make_player_constraint(\"Forward\", 2, decision_variables, available_players_df)\n",
    "\n",
    "add_team_constraint(prob, available_players_df, decision_variables)"
   ],
   "metadata": {
    "collapsed": false
   }
  },
  {
   "cell_type": "code",
   "execution_count": 25,
   "outputs": [],
   "source": [
    "## Solve\n",
    "\n",
    "prob.writeLP('InitialTeam.lp')\n",
    "optimization_result = prob.solve()"
   ],
   "metadata": {
    "collapsed": false
   }
  },
  {
   "cell_type": "code",
   "execution_count": 26,
   "outputs": [],
   "source": [
    "## Get initial team\n",
    "\n",
    "def get_initial_team(prob, player_df):\n",
    "\n",
    "    variable_names = [v.name for v in prob.variables()]\n",
    "    variable_values = [v.varValue for v in prob.variables()]\n",
    "\n",
    "    initial_team = pd.merge(pd.DataFrame({'full_name': variable_names,\n",
    "                  'selected': variable_values}),\n",
    "                                       player_df, on=\"full_name\")\n",
    "\n",
    "    initial_team = initial_team[initial_team.selected==1.0]\n",
    "\n",
    "    return initial_team"
   ],
   "metadata": {
    "collapsed": false
   }
  },
  {
   "cell_type": "code",
   "execution_count": 27,
   "outputs": [
    {
     "data": {
      "text/plain": "                    full_name    position  starting_cost\n85                    ben_mee    Defender             46\n105    bruno_borges_fernandes  Midfielder             81\n168         david_raya_martin      Keeper             46\n218            erling_haaland     Forward            140\n227            fabian_scha$?r    Defender             54\n244  gabriel_martinelli_silva  Midfielder             74\n270                harry_kane     Forward            125\n419           kieran_trippier    Defender             75\n481           marcus_rashford  Midfielder             82\n488           martin_adegaard  Midfielder             83\n693              tyrone_mings    Defender             37",
      "text/html": "<div>\n<style scoped>\n    .dataframe tbody tr th:only-of-type {\n        vertical-align: middle;\n    }\n\n    .dataframe tbody tr th {\n        vertical-align: top;\n    }\n\n    .dataframe thead th {\n        text-align: right;\n    }\n</style>\n<table border=\"1\" class=\"dataframe\">\n  <thead>\n    <tr style=\"text-align: right;\">\n      <th></th>\n      <th>full_name</th>\n      <th>position</th>\n      <th>starting_cost</th>\n    </tr>\n  </thead>\n  <tbody>\n    <tr>\n      <th>85</th>\n      <td>ben_mee</td>\n      <td>Defender</td>\n      <td>46</td>\n    </tr>\n    <tr>\n      <th>105</th>\n      <td>bruno_borges_fernandes</td>\n      <td>Midfielder</td>\n      <td>81</td>\n    </tr>\n    <tr>\n      <th>168</th>\n      <td>david_raya_martin</td>\n      <td>Keeper</td>\n      <td>46</td>\n    </tr>\n    <tr>\n      <th>218</th>\n      <td>erling_haaland</td>\n      <td>Forward</td>\n      <td>140</td>\n    </tr>\n    <tr>\n      <th>227</th>\n      <td>fabian_scha$?r</td>\n      <td>Defender</td>\n      <td>54</td>\n    </tr>\n    <tr>\n      <th>244</th>\n      <td>gabriel_martinelli_silva</td>\n      <td>Midfielder</td>\n      <td>74</td>\n    </tr>\n    <tr>\n      <th>270</th>\n      <td>harry_kane</td>\n      <td>Forward</td>\n      <td>125</td>\n    </tr>\n    <tr>\n      <th>419</th>\n      <td>kieran_trippier</td>\n      <td>Defender</td>\n      <td>75</td>\n    </tr>\n    <tr>\n      <th>481</th>\n      <td>marcus_rashford</td>\n      <td>Midfielder</td>\n      <td>82</td>\n    </tr>\n    <tr>\n      <th>488</th>\n      <td>martin_adegaard</td>\n      <td>Midfielder</td>\n      <td>83</td>\n    </tr>\n    <tr>\n      <th>693</th>\n      <td>tyrone_mings</td>\n      <td>Defender</td>\n      <td>37</td>\n    </tr>\n  </tbody>\n</table>\n</div>"
     },
     "execution_count": 27,
     "metadata": {},
     "output_type": "execute_result"
    }
   ],
   "source": [
    "initial_team_df = get_initial_team(prob, available_players_df)\n",
    "initial_team_df[['full_name', \"position\", \"starting_cost\"]]"
   ],
   "metadata": {
    "collapsed": false
   }
  },
  {
   "cell_type": "code",
   "execution_count": 28,
   "outputs": [],
   "source": [
    "## Sanity check\n",
    "\n",
    "def sanity_check(team_df):\n",
    "    print('Sanity check for starting 11: ')\n",
    "    print('*'*88)\n",
    "\n",
    "    print('Number of players in each position: ')\n",
    "    for pos, group in team_df.groupby('position'):\n",
    "        print(pos, ': ', len(group), sep='')\n",
    "\n",
    "\n",
    "    print('*'*88)\n",
    "    print('Number of players from each team: ')\n",
    "    print(team_df.position.count())\n",
    "\n",
    "    print('*'*88)\n",
    "    print('Total cost:', team_df.starting_cost.sum())"
   ],
   "metadata": {
    "collapsed": false
   }
  },
  {
   "cell_type": "code",
   "execution_count": 29,
   "outputs": [
    {
     "name": "stdout",
     "output_type": "stream",
     "text": [
      "Sanity check for starting 11: \n",
      "****************************************************************************************\n",
      "Number of players in each position: \n",
      "Defender: 4\n",
      "Forward: 2\n",
      "Keeper: 1\n",
      "Midfielder: 4\n",
      "****************************************************************************************\n",
      "Number of players from each team: \n",
      "11\n",
      "****************************************************************************************\n",
      "Total cost: 843\n"
     ]
    }
   ],
   "source": [
    "sanity_check(initial_team_df)"
   ],
   "metadata": {
    "collapsed": false
   }
  },
  {
   "cell_type": "code",
   "execution_count": 30,
   "outputs": [
    {
     "name": "stdout",
     "output_type": "stream",
     "text": [
      "Total points for 23/24 season: 468\n"
     ]
    }
   ],
   "source": [
    "captain = get_initial_team(prob, previous_season_player_df).sort_values(\"total_points\", ascending=False).head(1).full_name.values[0]\n",
    "\n",
    "total_points = current_season_player_df[current_season_player_df.full_name.isin(initial_team_df.full_name)].total_points.sum()\n",
    "total_points += current_season_player_df[current_season_player_df.full_name==captain].total_points\n",
    "\n",
    "print(\"Total points for 23/24 season:\", total_points.values[0])"
   ],
   "metadata": {
    "collapsed": false
   }
  },
  {
   "cell_type": "code",
   "execution_count": 31,
   "outputs": [],
   "source": [
    "def get_team_points(was_home, h_score, a_score):\n",
    "\n",
    "    if h_score == a_score:\n",
    "        return 1\n",
    "\n",
    "    if h_score > a_score:\n",
    "        if was_home:\n",
    "            return 3\n",
    "        else:\n",
    "            return 0\n",
    "\n",
    "    if h_score < a_score:\n",
    "        if was_home:\n",
    "            return 0\n",
    "        else:\n",
    "            return 3"
   ],
   "metadata": {
    "collapsed": false
   }
  },
  {
   "cell_type": "code",
   "execution_count": 32,
   "outputs": [],
   "source": [
    "def get_opponent_points(team_points):\n",
    "    if team_points == 1:\n",
    "        return 1\n",
    "\n",
    "    if team_points == 3:\n",
    "        return 0\n",
    "\n",
    "    if team_points == 0:\n",
    "        return 3"
   ],
   "metadata": {
    "collapsed": false
   }
  },
  {
   "cell_type": "code",
   "execution_count": 33,
   "outputs": [],
   "source": [
    "gws_df['team_points']= gws_df.apply(lambda x: get_team_points(x.was_home, x.team_h_score, x.team_a_score), axis=1)\n",
    "gws_df['opponent_points'] = gws_df.team_points.apply(lambda x: get_opponent_points(x))"
   ],
   "metadata": {
    "collapsed": false
   }
  },
  {
   "cell_type": "code",
   "execution_count": 38,
   "outputs": [],
   "source": [
    "def player_lag_features(gw_df, features, lags):\n",
    "\n",
    "    out_df = gw_df.copy()\n",
    "    lagged_features = []\n",
    "\n",
    "    for feature in features:\n",
    "\n",
    "        for lag in lags:\n",
    "\n",
    "            lagged_feature = 'last_' + str(lag) + '_' + feature\n",
    "\n",
    "            if lag == 'all':\n",
    "                out_df[lagged_feature] = out_df.sort_values('round').groupby(['season', 'full_name'])[feature]\\\n",
    "            .apply(lambda x: x.cumsum() - x)\n",
    "\n",
    "            else:\n",
    "\n",
    "                out_df[lagged_feature] = out_df.sort_values('round').groupby(['season', 'full_name'])[feature]\\\n",
    "                .apply(lambda x: x.rolling(min_periods=1, window=lag+1).sum() - x)\n",
    "\n",
    "            lagged_features.append(lagged_feature)\n",
    "\n",
    "    return out_df, lagged_features"
   ],
   "metadata": {
    "collapsed": false
   }
  },
  {
   "cell_type": "code",
   "execution_count": 39,
   "outputs": [],
   "source": [
    "def team_lag_features(gw_df, features, lags):\n",
    "    out_df = gw_df.copy()\n",
    "    lagged_features = []\n",
    "\n",
    "    for feature in features:\n",
    "\n",
    "        ## Create a df for each feature\n",
    "        ## Then, self-join so that the opponent info for that feature is included\n",
    "        ## Then, create lagged features and join the columns to the feature df\n",
    "        ## Do the same for the opponent feature\n",
    "        ## Exit loop, merge with the original df\n",
    "\n",
    "        feature_name = feature + '_team'\n",
    "        opponent_feature_name = feature_name + '_opponent'\n",
    "\n",
    "\n",
    "        feature_team = out_df.groupby(['player_team_name', 'season', 'round', 'kickoff_time', 'opponent_team_name'])\\\n",
    "                        [feature].max().rename(feature_name).reset_index()\n",
    "\n",
    "        # self join to get opponent info\n",
    "\n",
    "        feature_team = feature_team.merge(feature_team,\n",
    "                          left_on=['player_team_name', 'season', 'round', 'kickoff_time', 'opponent_team_name'],\n",
    "                          right_on=['opponent_team_name', 'season', 'round', 'kickoff_time', 'player_team_name'],\n",
    "                          how='left',\n",
    "                          suffixes=('', '_opponent'))\n",
    "\n",
    "\n",
    "\n",
    "\n",
    "        for lag in lags:\n",
    "            lagged_feature_name = 'last_' + str(lag) + '_' + feature_name\n",
    "            lagged_opponent_feature_name = 'opponent_last_' + str(lag) + '_' + feature\n",
    "\n",
    "\n",
    "            if lag == 'all':\n",
    "\n",
    "                feature_team[lagged_feature_name] = feature_team.sort_values('round').groupby('player_team_name')[feature_name]\\\n",
    "                                                .apply(lambda x: x.cumsum() - x)\n",
    "\n",
    "                feature_team[lagged_opponent_feature_name] = feature_team.groupby('player_team_name')[opponent_feature_name]\\\n",
    "                                                .apply(lambda x: x.cumsum() - x)\n",
    "            else:\n",
    "\n",
    "\n",
    "                feature_team[lagged_feature_name] = feature_team.sort_values('round').groupby('player_team_name')[feature_name]\\\n",
    "                                                    .apply(lambda x: x.rolling(min_periods=1,\n",
    "                                                                              window=lag+1).sum()-x)\n",
    "\n",
    "                feature_team[lagged_opponent_feature_name] = feature_team.groupby('player_team_name')[opponent_feature_name]\\\n",
    "                                                    .apply(lambda x: x.rolling(min_periods=1,\n",
    "                                                                              window=lag+1).sum()-x)\n",
    "\n",
    "            lagged_features.extend([lagged_feature_name, lagged_opponent_feature_name])\n",
    "\n",
    "        out_df = out_df.merge(feature_team,\n",
    "                             on=['player_team_name', 'season', 'round', 'kickoff_time', 'opponent_team_name'],\n",
    "                             how='left')\n",
    "\n",
    "\n",
    "        return out_df, lagged_features"
   ],
   "metadata": {
    "collapsed": false
   }
  },
  {
   "cell_type": "code",
   "execution_count": 40,
   "outputs": [],
   "source": [
    "player_features_to_lag = [\n",
    "    'assists',\n",
    "     'bonus',\n",
    "     'bps',\n",
    "     'creativity',\n",
    "     'clean_sheets',\n",
    "     'goals_conceded',\n",
    "     'goals_scored',\n",
    "     'ict_index',\n",
    "     'influence',\n",
    "     'minutes',\n",
    "     'threat']\n",
    "\n",
    "team_features_to_lag = ['goals_conceded', 'goals_scored', 'team_points', 'opponent_points']"
   ],
   "metadata": {
    "collapsed": false
   }
  },
  {
   "cell_type": "code",
   "execution_count": 41,
   "outputs": [
    {
     "ename": "TypeError",
     "evalue": "incompatible index of inserted column with frame index",
     "output_type": "error",
     "traceback": [
      "\u001B[1;31m---------------------------------------------------------------------------\u001B[0m",
      "\u001B[1;31mValueError\u001B[0m                                Traceback (most recent call last)",
      "File \u001B[1;32mD:\\Moi\\Travail\\ESME\\INGE3\\SEMESTRE 9\\UE5 Projet\\projet\\Lib\\site-packages\\pandas\\core\\frame.py:12304\u001B[0m, in \u001B[0;36m_reindex_for_setitem\u001B[1;34m(value, index)\u001B[0m\n\u001B[0;32m  12303\u001B[0m \u001B[38;5;28;01mtry\u001B[39;00m:\n\u001B[1;32m> 12304\u001B[0m     reindexed_value \u001B[38;5;241m=\u001B[39m \u001B[43mvalue\u001B[49m\u001B[38;5;241;43m.\u001B[39;49m\u001B[43mreindex\u001B[49m\u001B[43m(\u001B[49m\u001B[43mindex\u001B[49m\u001B[43m)\u001B[49m\u001B[38;5;241m.\u001B[39m_values\n\u001B[0;32m  12305\u001B[0m \u001B[38;5;28;01mexcept\u001B[39;00m \u001B[38;5;167;01mValueError\u001B[39;00m \u001B[38;5;28;01mas\u001B[39;00m err:\n\u001B[0;32m  12306\u001B[0m     \u001B[38;5;66;03m# raised in MultiIndex.from_tuples, see test_insert_error_msmgs\u001B[39;00m\n",
      "File \u001B[1;32mD:\\Moi\\Travail\\ESME\\INGE3\\SEMESTRE 9\\UE5 Projet\\projet\\Lib\\site-packages\\pandas\\core\\series.py:4977\u001B[0m, in \u001B[0;36mSeries.reindex\u001B[1;34m(self, index, axis, method, copy, level, fill_value, limit, tolerance)\u001B[0m\n\u001B[0;32m   4960\u001B[0m \u001B[38;5;129m@doc\u001B[39m(\n\u001B[0;32m   4961\u001B[0m     NDFrame\u001B[38;5;241m.\u001B[39mreindex,  \u001B[38;5;66;03m# type: ignore[has-type]\u001B[39;00m\n\u001B[0;32m   4962\u001B[0m     klass\u001B[38;5;241m=\u001B[39m_shared_doc_kwargs[\u001B[38;5;124m\"\u001B[39m\u001B[38;5;124mklass\u001B[39m\u001B[38;5;124m\"\u001B[39m],\n\u001B[1;32m   (...)\u001B[0m\n\u001B[0;32m   4975\u001B[0m     tolerance\u001B[38;5;241m=\u001B[39m\u001B[38;5;28;01mNone\u001B[39;00m,\n\u001B[0;32m   4976\u001B[0m ) \u001B[38;5;241m-\u001B[39m\u001B[38;5;241m>\u001B[39m Series:\n\u001B[1;32m-> 4977\u001B[0m     \u001B[38;5;28;01mreturn\u001B[39;00m \u001B[38;5;28;43msuper\u001B[39;49m\u001B[43m(\u001B[49m\u001B[43m)\u001B[49m\u001B[38;5;241;43m.\u001B[39;49m\u001B[43mreindex\u001B[49m\u001B[43m(\u001B[49m\n\u001B[0;32m   4978\u001B[0m \u001B[43m        \u001B[49m\u001B[43mindex\u001B[49m\u001B[38;5;241;43m=\u001B[39;49m\u001B[43mindex\u001B[49m\u001B[43m,\u001B[49m\n\u001B[0;32m   4979\u001B[0m \u001B[43m        \u001B[49m\u001B[43mmethod\u001B[49m\u001B[38;5;241;43m=\u001B[39;49m\u001B[43mmethod\u001B[49m\u001B[43m,\u001B[49m\n\u001B[0;32m   4980\u001B[0m \u001B[43m        \u001B[49m\u001B[43mcopy\u001B[49m\u001B[38;5;241;43m=\u001B[39;49m\u001B[43mcopy\u001B[49m\u001B[43m,\u001B[49m\n\u001B[0;32m   4981\u001B[0m \u001B[43m        \u001B[49m\u001B[43mlevel\u001B[49m\u001B[38;5;241;43m=\u001B[39;49m\u001B[43mlevel\u001B[49m\u001B[43m,\u001B[49m\n\u001B[0;32m   4982\u001B[0m \u001B[43m        \u001B[49m\u001B[43mfill_value\u001B[49m\u001B[38;5;241;43m=\u001B[39;49m\u001B[43mfill_value\u001B[49m\u001B[43m,\u001B[49m\n\u001B[0;32m   4983\u001B[0m \u001B[43m        \u001B[49m\u001B[43mlimit\u001B[49m\u001B[38;5;241;43m=\u001B[39;49m\u001B[43mlimit\u001B[49m\u001B[43m,\u001B[49m\n\u001B[0;32m   4984\u001B[0m \u001B[43m        \u001B[49m\u001B[43mtolerance\u001B[49m\u001B[38;5;241;43m=\u001B[39;49m\u001B[43mtolerance\u001B[49m\u001B[43m,\u001B[49m\n\u001B[0;32m   4985\u001B[0m \u001B[43m    \u001B[49m\u001B[43m)\u001B[49m\n",
      "File \u001B[1;32mD:\\Moi\\Travail\\ESME\\INGE3\\SEMESTRE 9\\UE5 Projet\\projet\\Lib\\site-packages\\pandas\\core\\generic.py:5521\u001B[0m, in \u001B[0;36mNDFrame.reindex\u001B[1;34m(self, labels, index, columns, axis, method, copy, level, fill_value, limit, tolerance)\u001B[0m\n\u001B[0;32m   5520\u001B[0m \u001B[38;5;66;03m# perform the reindex on the axes\u001B[39;00m\n\u001B[1;32m-> 5521\u001B[0m \u001B[38;5;28;01mreturn\u001B[39;00m \u001B[38;5;28;43mself\u001B[39;49m\u001B[38;5;241;43m.\u001B[39;49m\u001B[43m_reindex_axes\u001B[49m\u001B[43m(\u001B[49m\n\u001B[0;32m   5522\u001B[0m \u001B[43m    \u001B[49m\u001B[43maxes\u001B[49m\u001B[43m,\u001B[49m\u001B[43m \u001B[49m\u001B[43mlevel\u001B[49m\u001B[43m,\u001B[49m\u001B[43m \u001B[49m\u001B[43mlimit\u001B[49m\u001B[43m,\u001B[49m\u001B[43m \u001B[49m\u001B[43mtolerance\u001B[49m\u001B[43m,\u001B[49m\u001B[43m \u001B[49m\u001B[43mmethod\u001B[49m\u001B[43m,\u001B[49m\u001B[43m \u001B[49m\u001B[43mfill_value\u001B[49m\u001B[43m,\u001B[49m\u001B[43m \u001B[49m\u001B[43mcopy\u001B[49m\n\u001B[0;32m   5523\u001B[0m \u001B[43m\u001B[49m\u001B[43m)\u001B[49m\u001B[38;5;241m.\u001B[39m__finalize__(\u001B[38;5;28mself\u001B[39m, method\u001B[38;5;241m=\u001B[39m\u001B[38;5;124m\"\u001B[39m\u001B[38;5;124mreindex\u001B[39m\u001B[38;5;124m\"\u001B[39m)\n",
      "File \u001B[1;32mD:\\Moi\\Travail\\ESME\\INGE3\\SEMESTRE 9\\UE5 Projet\\projet\\Lib\\site-packages\\pandas\\core\\generic.py:5544\u001B[0m, in \u001B[0;36mNDFrame._reindex_axes\u001B[1;34m(self, axes, level, limit, tolerance, method, fill_value, copy)\u001B[0m\n\u001B[0;32m   5543\u001B[0m ax \u001B[38;5;241m=\u001B[39m \u001B[38;5;28mself\u001B[39m\u001B[38;5;241m.\u001B[39m_get_axis(a)\n\u001B[1;32m-> 5544\u001B[0m new_index, indexer \u001B[38;5;241m=\u001B[39m \u001B[43max\u001B[49m\u001B[38;5;241;43m.\u001B[39;49m\u001B[43mreindex\u001B[49m\u001B[43m(\u001B[49m\n\u001B[0;32m   5545\u001B[0m \u001B[43m    \u001B[49m\u001B[43mlabels\u001B[49m\u001B[43m,\u001B[49m\u001B[43m \u001B[49m\u001B[43mlevel\u001B[49m\u001B[38;5;241;43m=\u001B[39;49m\u001B[43mlevel\u001B[49m\u001B[43m,\u001B[49m\u001B[43m \u001B[49m\u001B[43mlimit\u001B[49m\u001B[38;5;241;43m=\u001B[39;49m\u001B[43mlimit\u001B[49m\u001B[43m,\u001B[49m\u001B[43m \u001B[49m\u001B[43mtolerance\u001B[49m\u001B[38;5;241;43m=\u001B[39;49m\u001B[43mtolerance\u001B[49m\u001B[43m,\u001B[49m\u001B[43m \u001B[49m\u001B[43mmethod\u001B[49m\u001B[38;5;241;43m=\u001B[39;49m\u001B[43mmethod\u001B[49m\n\u001B[0;32m   5546\u001B[0m \u001B[43m\u001B[49m\u001B[43m)\u001B[49m\n\u001B[0;32m   5548\u001B[0m axis \u001B[38;5;241m=\u001B[39m \u001B[38;5;28mself\u001B[39m\u001B[38;5;241m.\u001B[39m_get_axis_number(a)\n",
      "File \u001B[1;32mD:\\Moi\\Travail\\ESME\\INGE3\\SEMESTRE 9\\UE5 Projet\\projet\\Lib\\site-packages\\pandas\\core\\indexes\\base.py:4437\u001B[0m, in \u001B[0;36mIndex.reindex\u001B[1;34m(self, target, method, level, limit, tolerance)\u001B[0m\n\u001B[0;32m   4435\u001B[0m             indexer, _ \u001B[38;5;241m=\u001B[39m \u001B[38;5;28mself\u001B[39m\u001B[38;5;241m.\u001B[39mget_indexer_non_unique(target)\n\u001B[1;32m-> 4437\u001B[0m target \u001B[38;5;241m=\u001B[39m \u001B[38;5;28;43mself\u001B[39;49m\u001B[38;5;241;43m.\u001B[39;49m\u001B[43m_wrap_reindex_result\u001B[49m\u001B[43m(\u001B[49m\u001B[43mtarget\u001B[49m\u001B[43m,\u001B[49m\u001B[43m \u001B[49m\u001B[43mindexer\u001B[49m\u001B[43m,\u001B[49m\u001B[43m \u001B[49m\u001B[43mpreserve_names\u001B[49m\u001B[43m)\u001B[49m\n\u001B[0;32m   4438\u001B[0m \u001B[38;5;28;01mreturn\u001B[39;00m target, indexer\n",
      "File \u001B[1;32mD:\\Moi\\Travail\\ESME\\INGE3\\SEMESTRE 9\\UE5 Projet\\projet\\Lib\\site-packages\\pandas\\core\\indexes\\multi.py:2602\u001B[0m, in \u001B[0;36mMultiIndex._wrap_reindex_result\u001B[1;34m(self, target, indexer, preserve_names)\u001B[0m\n\u001B[0;32m   2601\u001B[0m \u001B[38;5;28;01mtry\u001B[39;00m:\n\u001B[1;32m-> 2602\u001B[0m     target \u001B[38;5;241m=\u001B[39m \u001B[43mMultiIndex\u001B[49m\u001B[38;5;241;43m.\u001B[39;49m\u001B[43mfrom_tuples\u001B[49m\u001B[43m(\u001B[49m\u001B[43mtarget\u001B[49m\u001B[43m)\u001B[49m\n\u001B[0;32m   2603\u001B[0m \u001B[38;5;28;01mexcept\u001B[39;00m \u001B[38;5;167;01mTypeError\u001B[39;00m:\n\u001B[0;32m   2604\u001B[0m     \u001B[38;5;66;03m# not all tuples, see test_constructor_dict_multiindex_reindex_flat\u001B[39;00m\n",
      "File \u001B[1;32mD:\\Moi\\Travail\\ESME\\INGE3\\SEMESTRE 9\\UE5 Projet\\projet\\Lib\\site-packages\\pandas\\core\\indexes\\multi.py:220\u001B[0m, in \u001B[0;36mnames_compat.<locals>.new_meth\u001B[1;34m(self_or_cls, *args, **kwargs)\u001B[0m\n\u001B[0;32m    218\u001B[0m     kwargs[\u001B[38;5;124m\"\u001B[39m\u001B[38;5;124mnames\u001B[39m\u001B[38;5;124m\"\u001B[39m] \u001B[38;5;241m=\u001B[39m kwargs\u001B[38;5;241m.\u001B[39mpop(\u001B[38;5;124m\"\u001B[39m\u001B[38;5;124mname\u001B[39m\u001B[38;5;124m\"\u001B[39m)\n\u001B[1;32m--> 220\u001B[0m \u001B[38;5;28;01mreturn\u001B[39;00m \u001B[43mmeth\u001B[49m\u001B[43m(\u001B[49m\u001B[43mself_or_cls\u001B[49m\u001B[43m,\u001B[49m\u001B[43m \u001B[49m\u001B[38;5;241;43m*\u001B[39;49m\u001B[43margs\u001B[49m\u001B[43m,\u001B[49m\u001B[43m \u001B[49m\u001B[38;5;241;43m*\u001B[39;49m\u001B[38;5;241;43m*\u001B[39;49m\u001B[43mkwargs\u001B[49m\u001B[43m)\u001B[49m\n",
      "File \u001B[1;32mD:\\Moi\\Travail\\ESME\\INGE3\\SEMESTRE 9\\UE5 Projet\\projet\\Lib\\site-packages\\pandas\\core\\indexes\\multi.py:615\u001B[0m, in \u001B[0;36mMultiIndex.from_tuples\u001B[1;34m(cls, tuples, sortorder, names)\u001B[0m\n\u001B[0;32m    613\u001B[0m         tuples \u001B[38;5;241m=\u001B[39m np\u001B[38;5;241m.\u001B[39masarray(tuples\u001B[38;5;241m.\u001B[39m_values)\n\u001B[1;32m--> 615\u001B[0m     arrays \u001B[38;5;241m=\u001B[39m \u001B[38;5;28mlist\u001B[39m(\u001B[43mlib\u001B[49m\u001B[38;5;241;43m.\u001B[39;49m\u001B[43mtuples_to_object_array\u001B[49m\u001B[43m(\u001B[49m\u001B[43mtuples\u001B[49m\u001B[43m)\u001B[49m\u001B[38;5;241m.\u001B[39mT)\n\u001B[0;32m    616\u001B[0m \u001B[38;5;28;01melif\u001B[39;00m \u001B[38;5;28misinstance\u001B[39m(tuples, \u001B[38;5;28mlist\u001B[39m):\n",
      "File \u001B[1;32mlib.pyx:2977\u001B[0m, in \u001B[0;36mpandas._libs.lib.tuples_to_object_array\u001B[1;34m()\u001B[0m\n",
      "\u001B[1;31mValueError\u001B[0m: Buffer dtype mismatch, expected 'Python object' but got 'long long'",
      "\nThe above exception was the direct cause of the following exception:\n",
      "\u001B[1;31mTypeError\u001B[0m                                 Traceback (most recent call last)",
      "\u001B[1;32m~\\AppData\\Local\\Temp\\ipykernel_9300\\3158666156.py\u001B[0m in \u001B[0;36m?\u001B[1;34m()\u001B[0m\n\u001B[1;32m----> 1\u001B[1;33m \u001B[0mlagged_gw_df_players\u001B[0m\u001B[1;33m,\u001B[0m \u001B[0mlagged_player_features\u001B[0m \u001B[1;33m=\u001B[0m \u001B[0mplayer_lag_features\u001B[0m\u001B[1;33m(\u001B[0m\u001B[0mgws_df\u001B[0m\u001B[1;33m,\u001B[0m \u001B[0mplayer_features_to_lag\u001B[0m\u001B[1;33m,\u001B[0m \u001B[1;33m[\u001B[0m\u001B[1;34m'all'\u001B[0m\u001B[1;33m,\u001B[0m \u001B[1;36m1\u001B[0m\u001B[1;33m,\u001B[0m \u001B[1;36m3\u001B[0m\u001B[1;33m,\u001B[0m \u001B[1;36m5\u001B[0m\u001B[1;33m]\u001B[0m\u001B[1;33m)\u001B[0m\u001B[1;33m\u001B[0m\u001B[1;33m\u001B[0m\u001B[0m\n\u001B[0m",
      "\u001B[1;32m~\\AppData\\Local\\Temp\\ipykernel_9300\\1198602571.py\u001B[0m in \u001B[0;36m?\u001B[1;34m(gw_df, features, lags)\u001B[0m\n\u001B[0;32m      9\u001B[0m \u001B[1;33m\u001B[0m\u001B[0m\n\u001B[0;32m     10\u001B[0m             \u001B[0mlagged_feature\u001B[0m \u001B[1;33m=\u001B[0m \u001B[1;34m'last_'\u001B[0m \u001B[1;33m+\u001B[0m \u001B[0mstr\u001B[0m\u001B[1;33m(\u001B[0m\u001B[0mlag\u001B[0m\u001B[1;33m)\u001B[0m \u001B[1;33m+\u001B[0m \u001B[1;34m'_'\u001B[0m \u001B[1;33m+\u001B[0m \u001B[0mfeature\u001B[0m\u001B[1;33m\u001B[0m\u001B[1;33m\u001B[0m\u001B[0m\n\u001B[0;32m     11\u001B[0m \u001B[1;33m\u001B[0m\u001B[0m\n\u001B[0;32m     12\u001B[0m             \u001B[1;32mif\u001B[0m \u001B[0mlag\u001B[0m \u001B[1;33m==\u001B[0m \u001B[1;34m'all'\u001B[0m\u001B[1;33m:\u001B[0m\u001B[1;33m\u001B[0m\u001B[1;33m\u001B[0m\u001B[0m\n\u001B[1;32m---> 13\u001B[1;33m                 \u001B[0mout_df\u001B[0m\u001B[1;33m[\u001B[0m\u001B[0mlagged_feature\u001B[0m\u001B[1;33m]\u001B[0m \u001B[1;33m=\u001B[0m \u001B[0mout_df\u001B[0m\u001B[1;33m.\u001B[0m\u001B[0msort_values\u001B[0m\u001B[1;33m(\u001B[0m\u001B[1;34m'round'\u001B[0m\u001B[1;33m)\u001B[0m\u001B[1;33m.\u001B[0m\u001B[0mgroupby\u001B[0m\u001B[1;33m(\u001B[0m\u001B[1;33m[\u001B[0m\u001B[1;34m'season'\u001B[0m\u001B[1;33m,\u001B[0m \u001B[1;34m'full_name'\u001B[0m\u001B[1;33m]\u001B[0m\u001B[1;33m)\u001B[0m\u001B[1;33m[\u001B[0m\u001B[0mfeature\u001B[0m\u001B[1;33m]\u001B[0m\u001B[0;31m\\\u001B[0m\u001B[1;33m\u001B[0m\u001B[1;33m\u001B[0m\u001B[0m\n\u001B[0m\u001B[0;32m     14\u001B[0m             \u001B[1;33m.\u001B[0m\u001B[0mapply\u001B[0m\u001B[1;33m(\u001B[0m\u001B[1;32mlambda\u001B[0m \u001B[0mx\u001B[0m\u001B[1;33m:\u001B[0m \u001B[0mx\u001B[0m\u001B[1;33m.\u001B[0m\u001B[0mcumsum\u001B[0m\u001B[1;33m(\u001B[0m\u001B[1;33m)\u001B[0m \u001B[1;33m-\u001B[0m \u001B[0mx\u001B[0m\u001B[1;33m)\u001B[0m\u001B[1;33m\u001B[0m\u001B[1;33m\u001B[0m\u001B[0m\n\u001B[0;32m     15\u001B[0m \u001B[1;33m\u001B[0m\u001B[0m\n\u001B[0;32m     16\u001B[0m             \u001B[1;32melse\u001B[0m\u001B[1;33m:\u001B[0m\u001B[1;33m\u001B[0m\u001B[1;33m\u001B[0m\u001B[0m\n",
      "\u001B[1;32mD:\\Moi\\Travail\\ESME\\INGE3\\SEMESTRE 9\\UE5 Projet\\projet\\Lib\\site-packages\\pandas\\core\\frame.py\u001B[0m in \u001B[0;36m?\u001B[1;34m(self, key, value)\u001B[0m\n\u001B[0;32m   4087\u001B[0m             \u001B[1;31m# Column to set is duplicated\u001B[0m\u001B[1;33m\u001B[0m\u001B[1;33m\u001B[0m\u001B[0m\n\u001B[0;32m   4088\u001B[0m             \u001B[0mself\u001B[0m\u001B[1;33m.\u001B[0m\u001B[0m_setitem_array\u001B[0m\u001B[1;33m(\u001B[0m\u001B[1;33m[\u001B[0m\u001B[0mkey\u001B[0m\u001B[1;33m]\u001B[0m\u001B[1;33m,\u001B[0m \u001B[0mvalue\u001B[0m\u001B[1;33m)\u001B[0m\u001B[1;33m\u001B[0m\u001B[1;33m\u001B[0m\u001B[0m\n\u001B[0;32m   4089\u001B[0m         \u001B[1;32melse\u001B[0m\u001B[1;33m:\u001B[0m\u001B[1;33m\u001B[0m\u001B[1;33m\u001B[0m\u001B[0m\n\u001B[0;32m   4090\u001B[0m             \u001B[1;31m# set column\u001B[0m\u001B[1;33m\u001B[0m\u001B[1;33m\u001B[0m\u001B[0m\n\u001B[1;32m-> 4091\u001B[1;33m             \u001B[0mself\u001B[0m\u001B[1;33m.\u001B[0m\u001B[0m_set_item\u001B[0m\u001B[1;33m(\u001B[0m\u001B[0mkey\u001B[0m\u001B[1;33m,\u001B[0m \u001B[0mvalue\u001B[0m\u001B[1;33m)\u001B[0m\u001B[1;33m\u001B[0m\u001B[1;33m\u001B[0m\u001B[0m\n\u001B[0m",
      "\u001B[1;32mD:\\Moi\\Travail\\ESME\\INGE3\\SEMESTRE 9\\UE5 Projet\\projet\\Lib\\site-packages\\pandas\\core\\frame.py\u001B[0m in \u001B[0;36m?\u001B[1;34m(self, key, value)\u001B[0m\n\u001B[0;32m   4296\u001B[0m \u001B[1;33m\u001B[0m\u001B[0m\n\u001B[0;32m   4297\u001B[0m         \u001B[0mSeries\u001B[0m\u001B[1;33m/\u001B[0m\u001B[0mTimeSeries\u001B[0m \u001B[0mwill\u001B[0m \u001B[0mbe\u001B[0m \u001B[0mconformed\u001B[0m \u001B[0mto\u001B[0m \u001B[0mthe\u001B[0m \u001B[0mDataFrames\u001B[0m \u001B[0mindex\u001B[0m \u001B[0mto\u001B[0m\u001B[1;33m\u001B[0m\u001B[1;33m\u001B[0m\u001B[0m\n\u001B[0;32m   4298\u001B[0m         \u001B[0mensure\u001B[0m \u001B[0mhomogeneity\u001B[0m\u001B[1;33m.\u001B[0m\u001B[1;33m\u001B[0m\u001B[1;33m\u001B[0m\u001B[0m\n\u001B[0;32m   4299\u001B[0m         \"\"\"\n\u001B[1;32m-> 4300\u001B[1;33m         \u001B[0mvalue\u001B[0m\u001B[1;33m,\u001B[0m \u001B[0mrefs\u001B[0m \u001B[1;33m=\u001B[0m \u001B[0mself\u001B[0m\u001B[1;33m.\u001B[0m\u001B[0m_sanitize_column\u001B[0m\u001B[1;33m(\u001B[0m\u001B[0mvalue\u001B[0m\u001B[1;33m)\u001B[0m\u001B[1;33m\u001B[0m\u001B[1;33m\u001B[0m\u001B[0m\n\u001B[0m\u001B[0;32m   4301\u001B[0m \u001B[1;33m\u001B[0m\u001B[0m\n\u001B[0;32m   4302\u001B[0m         if (\n\u001B[0;32m   4303\u001B[0m             \u001B[0mkey\u001B[0m \u001B[1;32min\u001B[0m \u001B[0mself\u001B[0m\u001B[1;33m.\u001B[0m\u001B[0mcolumns\u001B[0m\u001B[1;33m\u001B[0m\u001B[1;33m\u001B[0m\u001B[0m\n",
      "\u001B[1;32mD:\\Moi\\Travail\\ESME\\INGE3\\SEMESTRE 9\\UE5 Projet\\projet\\Lib\\site-packages\\pandas\\core\\frame.py\u001B[0m in \u001B[0;36m?\u001B[1;34m(self, value)\u001B[0m\n\u001B[0;32m   5032\u001B[0m         \u001B[1;32massert\u001B[0m \u001B[1;32mnot\u001B[0m \u001B[0misinstance\u001B[0m\u001B[1;33m(\u001B[0m\u001B[0mvalue\u001B[0m\u001B[1;33m,\u001B[0m \u001B[0mDataFrame\u001B[0m\u001B[1;33m)\u001B[0m\u001B[1;33m\u001B[0m\u001B[1;33m\u001B[0m\u001B[0m\n\u001B[0;32m   5033\u001B[0m         \u001B[1;32mif\u001B[0m \u001B[0mis_dict_like\u001B[0m\u001B[1;33m(\u001B[0m\u001B[0mvalue\u001B[0m\u001B[1;33m)\u001B[0m\u001B[1;33m:\u001B[0m\u001B[1;33m\u001B[0m\u001B[1;33m\u001B[0m\u001B[0m\n\u001B[0;32m   5034\u001B[0m             \u001B[1;32mif\u001B[0m \u001B[1;32mnot\u001B[0m \u001B[0misinstance\u001B[0m\u001B[1;33m(\u001B[0m\u001B[0mvalue\u001B[0m\u001B[1;33m,\u001B[0m \u001B[0mSeries\u001B[0m\u001B[1;33m)\u001B[0m\u001B[1;33m:\u001B[0m\u001B[1;33m\u001B[0m\u001B[1;33m\u001B[0m\u001B[0m\n\u001B[0;32m   5035\u001B[0m                 \u001B[0mvalue\u001B[0m \u001B[1;33m=\u001B[0m \u001B[0mSeries\u001B[0m\u001B[1;33m(\u001B[0m\u001B[0mvalue\u001B[0m\u001B[1;33m)\u001B[0m\u001B[1;33m\u001B[0m\u001B[1;33m\u001B[0m\u001B[0m\n\u001B[1;32m-> 5036\u001B[1;33m             \u001B[1;32mreturn\u001B[0m \u001B[0m_reindex_for_setitem\u001B[0m\u001B[1;33m(\u001B[0m\u001B[0mvalue\u001B[0m\u001B[1;33m,\u001B[0m \u001B[0mself\u001B[0m\u001B[1;33m.\u001B[0m\u001B[0mindex\u001B[0m\u001B[1;33m)\u001B[0m\u001B[1;33m\u001B[0m\u001B[1;33m\u001B[0m\u001B[0m\n\u001B[0m\u001B[0;32m   5037\u001B[0m \u001B[1;33m\u001B[0m\u001B[0m\n\u001B[0;32m   5038\u001B[0m         \u001B[1;32mif\u001B[0m \u001B[0mis_list_like\u001B[0m\u001B[1;33m(\u001B[0m\u001B[0mvalue\u001B[0m\u001B[1;33m)\u001B[0m\u001B[1;33m:\u001B[0m\u001B[1;33m\u001B[0m\u001B[1;33m\u001B[0m\u001B[0m\n\u001B[0;32m   5039\u001B[0m             \u001B[0mcom\u001B[0m\u001B[1;33m.\u001B[0m\u001B[0mrequire_length_match\u001B[0m\u001B[1;33m(\u001B[0m\u001B[0mvalue\u001B[0m\u001B[1;33m,\u001B[0m \u001B[0mself\u001B[0m\u001B[1;33m.\u001B[0m\u001B[0mindex\u001B[0m\u001B[1;33m)\u001B[0m\u001B[1;33m\u001B[0m\u001B[1;33m\u001B[0m\u001B[0m\n",
      "\u001B[1;32mD:\\Moi\\Travail\\ESME\\INGE3\\SEMESTRE 9\\UE5 Projet\\projet\\Lib\\site-packages\\pandas\\core\\frame.py\u001B[0m in \u001B[0;36m?\u001B[1;34m(value, index)\u001B[0m\n\u001B[0;32m  12307\u001B[0m         \u001B[1;32mif\u001B[0m \u001B[1;32mnot\u001B[0m \u001B[0mvalue\u001B[0m\u001B[1;33m.\u001B[0m\u001B[0mindex\u001B[0m\u001B[1;33m.\u001B[0m\u001B[0mis_unique\u001B[0m\u001B[1;33m:\u001B[0m\u001B[1;33m\u001B[0m\u001B[1;33m\u001B[0m\u001B[0m\n\u001B[0;32m  12308\u001B[0m             \u001B[1;31m# duplicate axis\u001B[0m\u001B[1;33m\u001B[0m\u001B[1;33m\u001B[0m\u001B[0m\n\u001B[0;32m  12309\u001B[0m             \u001B[1;32mraise\u001B[0m \u001B[0merr\u001B[0m\u001B[1;33m\u001B[0m\u001B[1;33m\u001B[0m\u001B[0m\n\u001B[0;32m  12310\u001B[0m \u001B[1;33m\u001B[0m\u001B[0m\n\u001B[1;32m> 12311\u001B[1;33m         raise TypeError(\n\u001B[0m\u001B[0;32m  12312\u001B[0m             \u001B[1;34m\"incompatible index of inserted column with frame index\"\u001B[0m\u001B[1;33m\u001B[0m\u001B[1;33m\u001B[0m\u001B[0m\n\u001B[0;32m  12313\u001B[0m         ) from err\n\u001B[0;32m  12314\u001B[0m     \u001B[1;32mreturn\u001B[0m \u001B[0mreindexed_value\u001B[0m\u001B[1;33m,\u001B[0m \u001B[1;32mNone\u001B[0m\u001B[1;33m\u001B[0m\u001B[1;33m\u001B[0m\u001B[0m\n",
      "\u001B[1;31mTypeError\u001B[0m: incompatible index of inserted column with frame index"
     ]
    }
   ],
   "source": [
    "lagged_gw_df_players, lagged_player_features = player_lag_features(gws_df, player_features_to_lag, ['all', 1, 3, 5])"
   ],
   "metadata": {
    "collapsed": false
   }
  },
  {
   "cell_type": "code",
   "execution_count": null,
   "outputs": [],
   "source": [
    "lagged_gw_df, lagged_team_features = team_lag_features(lagged_gw_df_players, team_features_to_lag, ['all', 1, 3, 5])"
   ],
   "metadata": {
    "collapsed": false
   }
  },
  {
   "cell_type": "code",
   "execution_count": null,
   "outputs": [],
   "source": [],
   "metadata": {
    "collapsed": false
   }
  }
 ],
 "metadata": {
  "kernelspec": {
   "display_name": "Python 3",
   "language": "python",
   "name": "python3"
  },
  "language_info": {
   "codemirror_mode": {
    "name": "ipython",
    "version": 2
   },
   "file_extension": ".py",
   "mimetype": "text/x-python",
   "name": "python",
   "nbconvert_exporter": "python",
   "pygments_lexer": "ipython2",
   "version": "2.7.6"
  }
 },
 "nbformat": 4,
 "nbformat_minor": 0
}
