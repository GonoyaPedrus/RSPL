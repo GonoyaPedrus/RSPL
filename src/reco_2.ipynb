{
 "cells": [
  {
   "cell_type": "markdown",
   "source": [
    "# Système de recommandation Pierre"
   ],
   "metadata": {
    "collapsed": false
   }
  },
  {
   "cell_type": "markdown",
   "source": [
    "## L'objectif est de créer un système de recommandation de joueurs de Fantasy Premier League (FPL) à partir de leurs performances passées qui sont dans le dossier data du git."
   ],
   "metadata": {
    "collapsed": false
   }
  },
  {
   "cell_type": "code",
   "execution_count": 2,
   "outputs": [],
   "source": [
    "# Import des librairies\n",
    "import pandas as pd\n",
    "import numpy as np\n",
    "import matplotlib.pyplot as plt\n",
    "import seaborn as sns\n",
    "import os\n",
    "import glob\n",
    "import re\n",
    "import datetime\n",
    "import warnings\n",
    "warnings.filterwarnings('ignore')"
   ],
   "metadata": {
    "collapsed": false
   }
  },
  {
   "cell_type": "code",
   "execution_count": 4,
   "outputs": [
    {
     "name": "stdout",
     "output_type": "stream",
     "text": [
      "(97052, 96)\n"
     ]
    },
    {
     "data": {
      "text/plain": "  season_x                name position team_x  assists  bonus  bps  \\\n0  2016-17     Aaron Cresswell      DEF    NaN      0.0    0.0  0.0   \n1  2016-17        Aaron Lennon      MID    NaN      0.0    0.0  6.0   \n2  2016-17        Aaron Ramsey      MID    NaN      0.0    0.0  5.0   \n3  2016-17  Abdoulaye Doucouré      MID    NaN      0.0    0.0  0.0   \n4  2016-17        Adam Forshaw      MID    NaN      0.0    0.0  3.0   \n\n   clean_sheets  creativity  element  ...  ep_this  clean_sheets_per_90  \\\n0           0.0         0.0    454.0  ...      NaN                  NaN   \n1           0.0         0.3    142.0  ...      NaN                  NaN   \n2           0.0         4.9     16.0  ...      NaN                  NaN   \n3           0.0         0.0    482.0  ...      NaN                  NaN   \n4           0.0         1.3    286.0  ...      NaN                  NaN   \n\n   expected_goals  expected_goal_involvements  penalties_order  \\\n0             NaN                         NaN              NaN   \n1             NaN                         NaN              NaN   \n2             NaN                         NaN              NaN   \n3             NaN                         NaN              NaN   \n4             NaN                         NaN              NaN   \n\n  now_cost_rank_type  value_season  creativity_rank_type  \\\n0                NaN           NaN                   NaN   \n1                NaN           NaN                   NaN   \n2                NaN           NaN                   NaN   \n3                NaN           NaN                   NaN   \n4                NaN           NaN                   NaN   \n\n  cost_change_start_fall  form_rank_type  \n0                    NaN             NaN  \n1                    NaN             NaN  \n2                    NaN             NaN  \n3                    NaN             NaN  \n4                    NaN             NaN  \n\n[5 rows x 96 columns]",
      "text/html": "<div>\n<style scoped>\n    .dataframe tbody tr th:only-of-type {\n        vertical-align: middle;\n    }\n\n    .dataframe tbody tr th {\n        vertical-align: top;\n    }\n\n    .dataframe thead th {\n        text-align: right;\n    }\n</style>\n<table border=\"1\" class=\"dataframe\">\n  <thead>\n    <tr style=\"text-align: right;\">\n      <th></th>\n      <th>season_x</th>\n      <th>name</th>\n      <th>position</th>\n      <th>team_x</th>\n      <th>assists</th>\n      <th>bonus</th>\n      <th>bps</th>\n      <th>clean_sheets</th>\n      <th>creativity</th>\n      <th>element</th>\n      <th>...</th>\n      <th>ep_this</th>\n      <th>clean_sheets_per_90</th>\n      <th>expected_goals</th>\n      <th>expected_goal_involvements</th>\n      <th>penalties_order</th>\n      <th>now_cost_rank_type</th>\n      <th>value_season</th>\n      <th>creativity_rank_type</th>\n      <th>cost_change_start_fall</th>\n      <th>form_rank_type</th>\n    </tr>\n  </thead>\n  <tbody>\n    <tr>\n      <th>0</th>\n      <td>2016-17</td>\n      <td>Aaron Cresswell</td>\n      <td>DEF</td>\n      <td>NaN</td>\n      <td>0.0</td>\n      <td>0.0</td>\n      <td>0.0</td>\n      <td>0.0</td>\n      <td>0.0</td>\n      <td>454.0</td>\n      <td>...</td>\n      <td>NaN</td>\n      <td>NaN</td>\n      <td>NaN</td>\n      <td>NaN</td>\n      <td>NaN</td>\n      <td>NaN</td>\n      <td>NaN</td>\n      <td>NaN</td>\n      <td>NaN</td>\n      <td>NaN</td>\n    </tr>\n    <tr>\n      <th>1</th>\n      <td>2016-17</td>\n      <td>Aaron Lennon</td>\n      <td>MID</td>\n      <td>NaN</td>\n      <td>0.0</td>\n      <td>0.0</td>\n      <td>6.0</td>\n      <td>0.0</td>\n      <td>0.3</td>\n      <td>142.0</td>\n      <td>...</td>\n      <td>NaN</td>\n      <td>NaN</td>\n      <td>NaN</td>\n      <td>NaN</td>\n      <td>NaN</td>\n      <td>NaN</td>\n      <td>NaN</td>\n      <td>NaN</td>\n      <td>NaN</td>\n      <td>NaN</td>\n    </tr>\n    <tr>\n      <th>2</th>\n      <td>2016-17</td>\n      <td>Aaron Ramsey</td>\n      <td>MID</td>\n      <td>NaN</td>\n      <td>0.0</td>\n      <td>0.0</td>\n      <td>5.0</td>\n      <td>0.0</td>\n      <td>4.9</td>\n      <td>16.0</td>\n      <td>...</td>\n      <td>NaN</td>\n      <td>NaN</td>\n      <td>NaN</td>\n      <td>NaN</td>\n      <td>NaN</td>\n      <td>NaN</td>\n      <td>NaN</td>\n      <td>NaN</td>\n      <td>NaN</td>\n      <td>NaN</td>\n    </tr>\n    <tr>\n      <th>3</th>\n      <td>2016-17</td>\n      <td>Abdoulaye Doucouré</td>\n      <td>MID</td>\n      <td>NaN</td>\n      <td>0.0</td>\n      <td>0.0</td>\n      <td>0.0</td>\n      <td>0.0</td>\n      <td>0.0</td>\n      <td>482.0</td>\n      <td>...</td>\n      <td>NaN</td>\n      <td>NaN</td>\n      <td>NaN</td>\n      <td>NaN</td>\n      <td>NaN</td>\n      <td>NaN</td>\n      <td>NaN</td>\n      <td>NaN</td>\n      <td>NaN</td>\n      <td>NaN</td>\n    </tr>\n    <tr>\n      <th>4</th>\n      <td>2016-17</td>\n      <td>Adam Forshaw</td>\n      <td>MID</td>\n      <td>NaN</td>\n      <td>0.0</td>\n      <td>0.0</td>\n      <td>3.0</td>\n      <td>0.0</td>\n      <td>1.3</td>\n      <td>286.0</td>\n      <td>...</td>\n      <td>NaN</td>\n      <td>NaN</td>\n      <td>NaN</td>\n      <td>NaN</td>\n      <td>NaN</td>\n      <td>NaN</td>\n      <td>NaN</td>\n      <td>NaN</td>\n      <td>NaN</td>\n      <td>NaN</td>\n    </tr>\n  </tbody>\n</table>\n<p>5 rows × 96 columns</p>\n</div>"
     },
     "execution_count": 4,
     "metadata": {},
     "output_type": "execute_result"
    }
   ],
   "source": [
    "# Import des données\n",
    "path = r'../data/'\n",
    "\n",
    "all_files = glob.glob(os.path.join(path, \"*.csv\"))\n",
    "\n",
    "df_from_each_file = (pd.read_csv(f) for f in all_files)\n",
    "df = pd.concat(df_from_each_file, ignore_index=True)\n",
    "print(df.shape)\n",
    "df.head()"
   ],
   "metadata": {
    "collapsed": false
   }
  },
  {
   "cell_type": "code",
   "execution_count": 5,
   "outputs": [
    {
     "name": "stdout",
     "output_type": "stream",
     "text": [
      "(100, 96)\n"
     ]
    },
    {
     "data": {
      "text/plain": "      season_x            name position team_x  assists  bonus    bps  \\\n96326      NaN     Bukayo Saka      MID    NaN      6.0    8.0  264.0   \n96327      NaN  William Saliba      DEF    NaN      1.0    5.0  250.0   \n96332      NaN  Benjamin White      DEF    NaN      1.0    7.0  236.0   \n96336      NaN     Declan Rice      MID    NaN      1.0    5.0  217.0   \n96346      NaN      Matty Cash      DEF    NaN      1.0    4.0  202.0   \n\n       clean_sheets  creativity  element  ...  ep_this  clean_sheets_per_90  \\\n96326           4.0       424.0      NaN  ...      4.1                 0.38   \n96327           5.0        53.8      NaN  ...      5.8                 0.42   \n96332           5.0       176.2      NaN  ...      3.0                 0.48   \n96336           5.0       151.3      NaN  ...      5.8                 0.44   \n96346           3.0        92.4      NaN  ...      2.2                 0.26   \n\n       expected_goals  expected_goal_involvements  penalties_order  \\\n96326            4.15                        7.48              1.0   \n96327            0.70                        1.16              NaN   \n96332            0.56                        1.38              NaN   \n96336            0.90                        1.64              NaN   \n96346            3.43                        4.74              NaN   \n\n      now_cost_rank_type  value_season  creativity_rank_type  \\\n96326                5.0           8.3                   3.0   \n96327                9.0          10.2                  58.0   \n96332                6.0           9.1                  11.0   \n96336               77.0           8.5                  50.0   \n96346               15.0           8.7                  32.0   \n\n      cost_change_start_fall  form_rank_type  \n96326                   -1.0            23.0  \n96327                   -4.0            12.0  \n96332                   -3.0            51.0  \n96336                    1.0            18.0  \n96346                   -7.0            39.0  \n\n[5 rows x 96 columns]",
      "text/html": "<div>\n<style scoped>\n    .dataframe tbody tr th:only-of-type {\n        vertical-align: middle;\n    }\n\n    .dataframe tbody tr th {\n        vertical-align: top;\n    }\n\n    .dataframe thead th {\n        text-align: right;\n    }\n</style>\n<table border=\"1\" class=\"dataframe\">\n  <thead>\n    <tr style=\"text-align: right;\">\n      <th></th>\n      <th>season_x</th>\n      <th>name</th>\n      <th>position</th>\n      <th>team_x</th>\n      <th>assists</th>\n      <th>bonus</th>\n      <th>bps</th>\n      <th>clean_sheets</th>\n      <th>creativity</th>\n      <th>element</th>\n      <th>...</th>\n      <th>ep_this</th>\n      <th>clean_sheets_per_90</th>\n      <th>expected_goals</th>\n      <th>expected_goal_involvements</th>\n      <th>penalties_order</th>\n      <th>now_cost_rank_type</th>\n      <th>value_season</th>\n      <th>creativity_rank_type</th>\n      <th>cost_change_start_fall</th>\n      <th>form_rank_type</th>\n    </tr>\n  </thead>\n  <tbody>\n    <tr>\n      <th>96326</th>\n      <td>NaN</td>\n      <td>Bukayo Saka</td>\n      <td>MID</td>\n      <td>NaN</td>\n      <td>6.0</td>\n      <td>8.0</td>\n      <td>264.0</td>\n      <td>4.0</td>\n      <td>424.0</td>\n      <td>NaN</td>\n      <td>...</td>\n      <td>4.1</td>\n      <td>0.38</td>\n      <td>4.15</td>\n      <td>7.48</td>\n      <td>1.0</td>\n      <td>5.0</td>\n      <td>8.3</td>\n      <td>3.0</td>\n      <td>-1.0</td>\n      <td>23.0</td>\n    </tr>\n    <tr>\n      <th>96327</th>\n      <td>NaN</td>\n      <td>William Saliba</td>\n      <td>DEF</td>\n      <td>NaN</td>\n      <td>1.0</td>\n      <td>5.0</td>\n      <td>250.0</td>\n      <td>5.0</td>\n      <td>53.8</td>\n      <td>NaN</td>\n      <td>...</td>\n      <td>5.8</td>\n      <td>0.42</td>\n      <td>0.70</td>\n      <td>1.16</td>\n      <td>NaN</td>\n      <td>9.0</td>\n      <td>10.2</td>\n      <td>58.0</td>\n      <td>-4.0</td>\n      <td>12.0</td>\n    </tr>\n    <tr>\n      <th>96332</th>\n      <td>NaN</td>\n      <td>Benjamin White</td>\n      <td>DEF</td>\n      <td>NaN</td>\n      <td>1.0</td>\n      <td>7.0</td>\n      <td>236.0</td>\n      <td>5.0</td>\n      <td>176.2</td>\n      <td>NaN</td>\n      <td>...</td>\n      <td>3.0</td>\n      <td>0.48</td>\n      <td>0.56</td>\n      <td>1.38</td>\n      <td>NaN</td>\n      <td>6.0</td>\n      <td>9.1</td>\n      <td>11.0</td>\n      <td>-3.0</td>\n      <td>51.0</td>\n    </tr>\n    <tr>\n      <th>96336</th>\n      <td>NaN</td>\n      <td>Declan Rice</td>\n      <td>MID</td>\n      <td>NaN</td>\n      <td>1.0</td>\n      <td>5.0</td>\n      <td>217.0</td>\n      <td>5.0</td>\n      <td>151.3</td>\n      <td>NaN</td>\n      <td>...</td>\n      <td>5.8</td>\n      <td>0.44</td>\n      <td>0.90</td>\n      <td>1.64</td>\n      <td>NaN</td>\n      <td>77.0</td>\n      <td>8.5</td>\n      <td>50.0</td>\n      <td>1.0</td>\n      <td>18.0</td>\n    </tr>\n    <tr>\n      <th>96346</th>\n      <td>NaN</td>\n      <td>Matty Cash</td>\n      <td>DEF</td>\n      <td>NaN</td>\n      <td>1.0</td>\n      <td>4.0</td>\n      <td>202.0</td>\n      <td>3.0</td>\n      <td>92.4</td>\n      <td>NaN</td>\n      <td>...</td>\n      <td>2.2</td>\n      <td>0.26</td>\n      <td>3.43</td>\n      <td>4.74</td>\n      <td>NaN</td>\n      <td>15.0</td>\n      <td>8.7</td>\n      <td>32.0</td>\n      <td>-7.0</td>\n      <td>39.0</td>\n    </tr>\n  </tbody>\n</table>\n<p>5 rows × 96 columns</p>\n</div>"
     },
     "execution_count": 5,
     "metadata": {},
     "output_type": "execute_result"
    }
   ],
   "source": [
    "# On ne garde que les joueurs qui ont joué au moins 10 matchs (900 minutes) pour avoir des stats significatives de joueurs qui jouent\n",
    "df = df[df['minutes'] >= 900]\n",
    "print(df.shape)\n",
    "df.head()"
   ],
   "metadata": {
    "collapsed": false
   }
  },
  {
   "cell_type": "code",
   "execution_count": 8,
   "outputs": [
    {
     "data": {
      "text/plain": "                 name         team position  total_points  minutes  \\\n96326     Bukayo Saka      Arsenal      MID          71.0    945.0   \n96327  William Saliba      Arsenal      DEF          55.0   1080.0   \n96332  Benjamin White      Arsenal      DEF          53.0    947.0   \n96336     Declan Rice      Arsenal      MID          46.0   1023.0   \n96346      Matty Cash  Aston Villa      DEF          45.0   1023.0   \n\n       goals_scored  assists  clean_sheets  goals_conceded  penalties_saved  \\\n96326           4.0      6.0           4.0            10.0              0.0   \n96327           1.0      1.0           5.0            10.0              0.0   \n96332           1.0      1.0           5.0             9.0              0.0   \n96336           2.0      1.0           5.0             9.0              0.0   \n96346           2.0      1.0           3.0            15.0              0.0   \n\n       penalties_missed  yellow_cards  red_cards  saves  bonus    bps  \\\n96326               0.0           1.0        0.0    0.0    8.0  264.0   \n96327               0.0           0.0        0.0    0.0    5.0  250.0   \n96332               0.0           2.0        0.0    0.0    7.0  236.0   \n96336               0.0           0.0        0.0    0.0    5.0  217.0   \n96346               0.0           3.0        0.0    0.0    4.0  202.0   \n\n       influence  creativity  threat  ict_index  \n96326      338.2       424.0   351.0      111.3  \n96327      249.8        53.8    44.0       34.9  \n96332      229.0       176.2    77.0       48.2  \n96336      263.8       151.3    99.0       51.5  \n96346      245.4        92.4   264.0       60.3  ",
      "text/html": "<div>\n<style scoped>\n    .dataframe tbody tr th:only-of-type {\n        vertical-align: middle;\n    }\n\n    .dataframe tbody tr th {\n        vertical-align: top;\n    }\n\n    .dataframe thead th {\n        text-align: right;\n    }\n</style>\n<table border=\"1\" class=\"dataframe\">\n  <thead>\n    <tr style=\"text-align: right;\">\n      <th></th>\n      <th>name</th>\n      <th>team</th>\n      <th>position</th>\n      <th>total_points</th>\n      <th>minutes</th>\n      <th>goals_scored</th>\n      <th>assists</th>\n      <th>clean_sheets</th>\n      <th>goals_conceded</th>\n      <th>penalties_saved</th>\n      <th>penalties_missed</th>\n      <th>yellow_cards</th>\n      <th>red_cards</th>\n      <th>saves</th>\n      <th>bonus</th>\n      <th>bps</th>\n      <th>influence</th>\n      <th>creativity</th>\n      <th>threat</th>\n      <th>ict_index</th>\n    </tr>\n  </thead>\n  <tbody>\n    <tr>\n      <th>96326</th>\n      <td>Bukayo Saka</td>\n      <td>Arsenal</td>\n      <td>MID</td>\n      <td>71.0</td>\n      <td>945.0</td>\n      <td>4.0</td>\n      <td>6.0</td>\n      <td>4.0</td>\n      <td>10.0</td>\n      <td>0.0</td>\n      <td>0.0</td>\n      <td>1.0</td>\n      <td>0.0</td>\n      <td>0.0</td>\n      <td>8.0</td>\n      <td>264.0</td>\n      <td>338.2</td>\n      <td>424.0</td>\n      <td>351.0</td>\n      <td>111.3</td>\n    </tr>\n    <tr>\n      <th>96327</th>\n      <td>William Saliba</td>\n      <td>Arsenal</td>\n      <td>DEF</td>\n      <td>55.0</td>\n      <td>1080.0</td>\n      <td>1.0</td>\n      <td>1.0</td>\n      <td>5.0</td>\n      <td>10.0</td>\n      <td>0.0</td>\n      <td>0.0</td>\n      <td>0.0</td>\n      <td>0.0</td>\n      <td>0.0</td>\n      <td>5.0</td>\n      <td>250.0</td>\n      <td>249.8</td>\n      <td>53.8</td>\n      <td>44.0</td>\n      <td>34.9</td>\n    </tr>\n    <tr>\n      <th>96332</th>\n      <td>Benjamin White</td>\n      <td>Arsenal</td>\n      <td>DEF</td>\n      <td>53.0</td>\n      <td>947.0</td>\n      <td>1.0</td>\n      <td>1.0</td>\n      <td>5.0</td>\n      <td>9.0</td>\n      <td>0.0</td>\n      <td>0.0</td>\n      <td>2.0</td>\n      <td>0.0</td>\n      <td>0.0</td>\n      <td>7.0</td>\n      <td>236.0</td>\n      <td>229.0</td>\n      <td>176.2</td>\n      <td>77.0</td>\n      <td>48.2</td>\n    </tr>\n    <tr>\n      <th>96336</th>\n      <td>Declan Rice</td>\n      <td>Arsenal</td>\n      <td>MID</td>\n      <td>46.0</td>\n      <td>1023.0</td>\n      <td>2.0</td>\n      <td>1.0</td>\n      <td>5.0</td>\n      <td>9.0</td>\n      <td>0.0</td>\n      <td>0.0</td>\n      <td>0.0</td>\n      <td>0.0</td>\n      <td>0.0</td>\n      <td>5.0</td>\n      <td>217.0</td>\n      <td>263.8</td>\n      <td>151.3</td>\n      <td>99.0</td>\n      <td>51.5</td>\n    </tr>\n    <tr>\n      <th>96346</th>\n      <td>Matty Cash</td>\n      <td>Aston Villa</td>\n      <td>DEF</td>\n      <td>45.0</td>\n      <td>1023.0</td>\n      <td>2.0</td>\n      <td>1.0</td>\n      <td>3.0</td>\n      <td>15.0</td>\n      <td>0.0</td>\n      <td>0.0</td>\n      <td>3.0</td>\n      <td>0.0</td>\n      <td>0.0</td>\n      <td>4.0</td>\n      <td>202.0</td>\n      <td>245.4</td>\n      <td>92.4</td>\n      <td>264.0</td>\n      <td>60.3</td>\n    </tr>\n  </tbody>\n</table>\n</div>"
     },
     "execution_count": 8,
     "metadata": {},
     "output_type": "execute_result"
    }
   ],
   "source": [
    "# On ne garde que les colonnes qui nous intéressent\n",
    "df = df[['name', 'team', 'position', 'total_points', 'minutes', 'goals_scored', 'assists', 'clean_sheets', 'goals_conceded', 'penalties_saved', 'penalties_missed', 'yellow_cards', 'red_cards', 'saves', 'bonus', 'bps', 'influence', 'creativity', 'threat', 'ict_index']]\n",
    "df.head()"
   ],
   "metadata": {
    "collapsed": false
   }
  },
  {
   "cell_type": "markdown",
   "source": [
    "## Rules of FPL\n",
    "\n",
    "La Fantasy Premier League (FPL) est un jeu en ligne populaire qui permet aux fans de football de créer leur propre équipe de joueurs de la Premier League anglaise et de gagner des points en fonction des performances réelles de ces joueurs au cours de la saison.\n",
    "\n",
    "1. *Composition de l'équipe :*\n",
    "   - Vous disposez d'un budget fixe pour sélectionner 15 joueurs (2 gardiens, 5 défenseurs, 5 milieux de terrain, et 3 attaquants).\n",
    "   - Vous pouvez avoir un maximum de 3 joueurs de la même équipe.\n",
    "\n",
    "2. *Budget :*\n",
    "   - Vous devez respecter un budget de 100 M£ pour sélectionner votre équipe.\n",
    "\n",
    "3. *Capitaine et vice-capitaine :*\n",
    "   - Vous choisissez un capitaine qui gagne le double de points pour la journée sélectionnée.\n",
    "   - Si votre capitaine ne joue pas, le vice-capitaine reçoit le double de points à sa place.\n",
    "\n",
    "4. *Transferts :*\n",
    "   - Vous avez un transfert gratuit chaque semaine.\n",
    "\n",
    "5. *Points :*\n",
    "   - Les joueurs gagnent des points pour des actions telles que marquer des buts, effectuer des passes décisives, garder une feuille blanche (pour les gardiens et défenseurs), etc.\n",
    "   - Les joueurs peuvent perdre des points pour des actions négatives comme les cartons jaunes, les cartons rouges, etc.\n",
    "\n",
    "6. *Blessures et suspensions :*\n",
    "   - Les joueurs blessés ou suspendus peuvent être remplacés sans coûter de points de transfert, à condition que le remplaçant soit dans la même catégorie de joueur.\n"
   ],
   "metadata": {
    "collapsed": false
   }
  },
  {
   "cell_type": "code",
   "execution_count": 9,
   "outputs": [
    {
     "data": {
      "text/plain": "                 name         team position  total_points  minutes  \\\n96326     Bukayo Saka      Arsenal      MID          71.0    945.0   \n96327  William Saliba      Arsenal      DEF          55.0   1080.0   \n96332  Benjamin White      Arsenal      DEF          53.0    947.0   \n96336     Declan Rice      Arsenal      MID          46.0   1023.0   \n96346      Matty Cash  Aston Villa      DEF          45.0   1023.0   \n\n       goals_scored  assists  clean_sheets  goals_conceded  penalties_saved  \\\n96326           4.0      6.0           4.0            10.0              0.0   \n96327           1.0      1.0           5.0            10.0              0.0   \n96332           1.0      1.0           5.0             9.0              0.0   \n96336           2.0      1.0           5.0             9.0              0.0   \n96346           2.0      1.0           3.0            15.0              0.0   \n\n       ...  yellow_cards  red_cards  saves  bonus    bps  influence  \\\n96326  ...           1.0        0.0    0.0    8.0  264.0      338.2   \n96327  ...           0.0        0.0    0.0    5.0  250.0      249.8   \n96332  ...           2.0        0.0    0.0    7.0  236.0      229.0   \n96336  ...           0.0        0.0    0.0    5.0  217.0      263.8   \n96346  ...           3.0        0.0    0.0    4.0  202.0      245.4   \n\n       creativity  threat  ict_index  points_per_match  \n96326       424.0   351.0      111.3          6.761905  \n96327        53.8    44.0       34.9          4.583333  \n96332       176.2    77.0       48.2          5.036959  \n96336       151.3    99.0       51.5          4.046921  \n96346        92.4   264.0       60.3          3.958944  \n\n[5 rows x 21 columns]",
      "text/html": "<div>\n<style scoped>\n    .dataframe tbody tr th:only-of-type {\n        vertical-align: middle;\n    }\n\n    .dataframe tbody tr th {\n        vertical-align: top;\n    }\n\n    .dataframe thead th {\n        text-align: right;\n    }\n</style>\n<table border=\"1\" class=\"dataframe\">\n  <thead>\n    <tr style=\"text-align: right;\">\n      <th></th>\n      <th>name</th>\n      <th>team</th>\n      <th>position</th>\n      <th>total_points</th>\n      <th>minutes</th>\n      <th>goals_scored</th>\n      <th>assists</th>\n      <th>clean_sheets</th>\n      <th>goals_conceded</th>\n      <th>penalties_saved</th>\n      <th>...</th>\n      <th>yellow_cards</th>\n      <th>red_cards</th>\n      <th>saves</th>\n      <th>bonus</th>\n      <th>bps</th>\n      <th>influence</th>\n      <th>creativity</th>\n      <th>threat</th>\n      <th>ict_index</th>\n      <th>points_per_match</th>\n    </tr>\n  </thead>\n  <tbody>\n    <tr>\n      <th>96326</th>\n      <td>Bukayo Saka</td>\n      <td>Arsenal</td>\n      <td>MID</td>\n      <td>71.0</td>\n      <td>945.0</td>\n      <td>4.0</td>\n      <td>6.0</td>\n      <td>4.0</td>\n      <td>10.0</td>\n      <td>0.0</td>\n      <td>...</td>\n      <td>1.0</td>\n      <td>0.0</td>\n      <td>0.0</td>\n      <td>8.0</td>\n      <td>264.0</td>\n      <td>338.2</td>\n      <td>424.0</td>\n      <td>351.0</td>\n      <td>111.3</td>\n      <td>6.761905</td>\n    </tr>\n    <tr>\n      <th>96327</th>\n      <td>William Saliba</td>\n      <td>Arsenal</td>\n      <td>DEF</td>\n      <td>55.0</td>\n      <td>1080.0</td>\n      <td>1.0</td>\n      <td>1.0</td>\n      <td>5.0</td>\n      <td>10.0</td>\n      <td>0.0</td>\n      <td>...</td>\n      <td>0.0</td>\n      <td>0.0</td>\n      <td>0.0</td>\n      <td>5.0</td>\n      <td>250.0</td>\n      <td>249.8</td>\n      <td>53.8</td>\n      <td>44.0</td>\n      <td>34.9</td>\n      <td>4.583333</td>\n    </tr>\n    <tr>\n      <th>96332</th>\n      <td>Benjamin White</td>\n      <td>Arsenal</td>\n      <td>DEF</td>\n      <td>53.0</td>\n      <td>947.0</td>\n      <td>1.0</td>\n      <td>1.0</td>\n      <td>5.0</td>\n      <td>9.0</td>\n      <td>0.0</td>\n      <td>...</td>\n      <td>2.0</td>\n      <td>0.0</td>\n      <td>0.0</td>\n      <td>7.0</td>\n      <td>236.0</td>\n      <td>229.0</td>\n      <td>176.2</td>\n      <td>77.0</td>\n      <td>48.2</td>\n      <td>5.036959</td>\n    </tr>\n    <tr>\n      <th>96336</th>\n      <td>Declan Rice</td>\n      <td>Arsenal</td>\n      <td>MID</td>\n      <td>46.0</td>\n      <td>1023.0</td>\n      <td>2.0</td>\n      <td>1.0</td>\n      <td>5.0</td>\n      <td>9.0</td>\n      <td>0.0</td>\n      <td>...</td>\n      <td>0.0</td>\n      <td>0.0</td>\n      <td>0.0</td>\n      <td>5.0</td>\n      <td>217.0</td>\n      <td>263.8</td>\n      <td>151.3</td>\n      <td>99.0</td>\n      <td>51.5</td>\n      <td>4.046921</td>\n    </tr>\n    <tr>\n      <th>96346</th>\n      <td>Matty Cash</td>\n      <td>Aston Villa</td>\n      <td>DEF</td>\n      <td>45.0</td>\n      <td>1023.0</td>\n      <td>2.0</td>\n      <td>1.0</td>\n      <td>3.0</td>\n      <td>15.0</td>\n      <td>0.0</td>\n      <td>...</td>\n      <td>3.0</td>\n      <td>0.0</td>\n      <td>0.0</td>\n      <td>4.0</td>\n      <td>202.0</td>\n      <td>245.4</td>\n      <td>92.4</td>\n      <td>264.0</td>\n      <td>60.3</td>\n      <td>3.958944</td>\n    </tr>\n  </tbody>\n</table>\n<p>5 rows × 21 columns</p>\n</div>"
     },
     "execution_count": 9,
     "metadata": {},
     "output_type": "execute_result"
    }
   ],
   "source": [
    "# On crée une colonne avec le nombre de points par match\n",
    "df['points_per_match'] = df['total_points'] / (df['minutes'] / 90)\n",
    "df.head()"
   ],
   "metadata": {
    "collapsed": false
   }
  },
  {
   "cell_type": "code",
   "execution_count": 11,
   "outputs": [
    {
     "data": {
      "text/plain": "                 name         team position  total_points  minutes  \\\n96326     Bukayo Saka      Arsenal      MID          71.0    945.0   \n96327  William Saliba      Arsenal      DEF          55.0   1080.0   \n96332  Benjamin White      Arsenal      DEF          53.0    947.0   \n96336     Declan Rice      Arsenal      MID          46.0   1023.0   \n96346      Matty Cash  Aston Villa      DEF          45.0   1023.0   \n\n       goals_scored  assists  clean_sheets  goals_conceded  penalties_saved  \\\n96326           4.0      6.0           4.0            10.0              0.0   \n96327           1.0      1.0           5.0            10.0              0.0   \n96332           1.0      1.0           5.0             9.0              0.0   \n96336           2.0      1.0           5.0             9.0              0.0   \n96346           2.0      1.0           3.0            15.0              0.0   \n\n       ...  red_cards  saves  bonus    bps  influence  creativity  threat  \\\n96326  ...        0.0    0.0    8.0  264.0      338.2       424.0   351.0   \n96327  ...        0.0    0.0    5.0  250.0      249.8        53.8    44.0   \n96332  ...        0.0    0.0    7.0  236.0      229.0       176.2    77.0   \n96336  ...        0.0    0.0    5.0  217.0      263.8       151.3    99.0   \n96346  ...        0.0    0.0    4.0  202.0      245.4        92.4   264.0   \n\n       ict_index  points_per_match  price_per_player  \n96326      111.3          6.761905          9.523810  \n96327       34.9          4.583333          8.333333  \n96332       48.2          5.036959          9.503696  \n96336       51.5          4.046921          8.797654  \n96346       60.3          3.958944          8.797654  \n\n[5 rows x 22 columns]",
      "text/html": "<div>\n<style scoped>\n    .dataframe tbody tr th:only-of-type {\n        vertical-align: middle;\n    }\n\n    .dataframe tbody tr th {\n        vertical-align: top;\n    }\n\n    .dataframe thead th {\n        text-align: right;\n    }\n</style>\n<table border=\"1\" class=\"dataframe\">\n  <thead>\n    <tr style=\"text-align: right;\">\n      <th></th>\n      <th>name</th>\n      <th>team</th>\n      <th>position</th>\n      <th>total_points</th>\n      <th>minutes</th>\n      <th>goals_scored</th>\n      <th>assists</th>\n      <th>clean_sheets</th>\n      <th>goals_conceded</th>\n      <th>penalties_saved</th>\n      <th>...</th>\n      <th>red_cards</th>\n      <th>saves</th>\n      <th>bonus</th>\n      <th>bps</th>\n      <th>influence</th>\n      <th>creativity</th>\n      <th>threat</th>\n      <th>ict_index</th>\n      <th>points_per_match</th>\n      <th>price_per_player</th>\n    </tr>\n  </thead>\n  <tbody>\n    <tr>\n      <th>96326</th>\n      <td>Bukayo Saka</td>\n      <td>Arsenal</td>\n      <td>MID</td>\n      <td>71.0</td>\n      <td>945.0</td>\n      <td>4.0</td>\n      <td>6.0</td>\n      <td>4.0</td>\n      <td>10.0</td>\n      <td>0.0</td>\n      <td>...</td>\n      <td>0.0</td>\n      <td>0.0</td>\n      <td>8.0</td>\n      <td>264.0</td>\n      <td>338.2</td>\n      <td>424.0</td>\n      <td>351.0</td>\n      <td>111.3</td>\n      <td>6.761905</td>\n      <td>9.523810</td>\n    </tr>\n    <tr>\n      <th>96327</th>\n      <td>William Saliba</td>\n      <td>Arsenal</td>\n      <td>DEF</td>\n      <td>55.0</td>\n      <td>1080.0</td>\n      <td>1.0</td>\n      <td>1.0</td>\n      <td>5.0</td>\n      <td>10.0</td>\n      <td>0.0</td>\n      <td>...</td>\n      <td>0.0</td>\n      <td>0.0</td>\n      <td>5.0</td>\n      <td>250.0</td>\n      <td>249.8</td>\n      <td>53.8</td>\n      <td>44.0</td>\n      <td>34.9</td>\n      <td>4.583333</td>\n      <td>8.333333</td>\n    </tr>\n    <tr>\n      <th>96332</th>\n      <td>Benjamin White</td>\n      <td>Arsenal</td>\n      <td>DEF</td>\n      <td>53.0</td>\n      <td>947.0</td>\n      <td>1.0</td>\n      <td>1.0</td>\n      <td>5.0</td>\n      <td>9.0</td>\n      <td>0.0</td>\n      <td>...</td>\n      <td>0.0</td>\n      <td>0.0</td>\n      <td>7.0</td>\n      <td>236.0</td>\n      <td>229.0</td>\n      <td>176.2</td>\n      <td>77.0</td>\n      <td>48.2</td>\n      <td>5.036959</td>\n      <td>9.503696</td>\n    </tr>\n    <tr>\n      <th>96336</th>\n      <td>Declan Rice</td>\n      <td>Arsenal</td>\n      <td>MID</td>\n      <td>46.0</td>\n      <td>1023.0</td>\n      <td>2.0</td>\n      <td>1.0</td>\n      <td>5.0</td>\n      <td>9.0</td>\n      <td>0.0</td>\n      <td>...</td>\n      <td>0.0</td>\n      <td>0.0</td>\n      <td>5.0</td>\n      <td>217.0</td>\n      <td>263.8</td>\n      <td>151.3</td>\n      <td>99.0</td>\n      <td>51.5</td>\n      <td>4.046921</td>\n      <td>8.797654</td>\n    </tr>\n    <tr>\n      <th>96346</th>\n      <td>Matty Cash</td>\n      <td>Aston Villa</td>\n      <td>DEF</td>\n      <td>45.0</td>\n      <td>1023.0</td>\n      <td>2.0</td>\n      <td>1.0</td>\n      <td>3.0</td>\n      <td>15.0</td>\n      <td>0.0</td>\n      <td>...</td>\n      <td>0.0</td>\n      <td>0.0</td>\n      <td>4.0</td>\n      <td>202.0</td>\n      <td>245.4</td>\n      <td>92.4</td>\n      <td>264.0</td>\n      <td>60.3</td>\n      <td>3.958944</td>\n      <td>8.797654</td>\n    </tr>\n  </tbody>\n</table>\n<p>5 rows × 22 columns</p>\n</div>"
     },
     "execution_count": 11,
     "metadata": {},
     "output_type": "execute_result"
    }
   ],
   "source": [
    "# Le but est de créer une équipe complète avec un budget de 100M£. L'équipe se compose de 2 gardiens, 5 défenseurs, 5 milieux de terrain et 3 attaquants (colonne position).\n",
    "# On a un budget de 100M£ pour 15 joueurs. On va donc créer une colonne avec le prix par joueur.\n",
    "df['price_per_player'] = 100 / df['total_points'] * df['points_per_match']\n",
    "df.head()"
   ],
   "metadata": {
    "collapsed": false
   }
  },
  {
   "cell_type": "code",
   "execution_count": 12,
   "outputs": [
    {
     "data": {
      "text/plain": "                 name         team position  total_points  minutes  \\\n96326     Bukayo Saka      Arsenal      MID          71.0    945.0   \n96327  William Saliba      Arsenal      DEF          55.0   1080.0   \n96332  Benjamin White      Arsenal      DEF          53.0    947.0   \n96336     Declan Rice      Arsenal      MID          46.0   1023.0   \n96346      Matty Cash  Aston Villa      DEF          45.0   1023.0   \n\n       goals_scored  assists  clean_sheets  goals_conceded  penalties_saved  \\\n96326           4.0      6.0           4.0            10.0              0.0   \n96327           1.0      1.0           5.0            10.0              0.0   \n96332           1.0      1.0           5.0             9.0              0.0   \n96336           2.0      1.0           5.0             9.0              0.0   \n96346           2.0      1.0           3.0            15.0              0.0   \n\n       ...  red_cards  saves  bonus    bps  influence  creativity  threat  \\\n96326  ...        0.0    0.0    8.0  264.0      338.2       424.0   351.0   \n96327  ...        0.0    0.0    5.0  250.0      249.8        53.8    44.0   \n96332  ...        0.0    0.0    7.0  236.0      229.0       176.2    77.0   \n96336  ...        0.0    0.0    5.0  217.0      263.8       151.3    99.0   \n96346  ...        0.0    0.0    4.0  202.0      245.4        92.4   264.0   \n\n       ict_index  points_per_match  price_per_player  \n96326      111.3          6.761905          9.523810  \n96327       34.9          4.583333          8.333333  \n96332       48.2          5.036959          9.503696  \n96336       51.5          4.046921          8.797654  \n96346       60.3          3.958944          8.797654  \n\n[5 rows x 22 columns]",
      "text/html": "<div>\n<style scoped>\n    .dataframe tbody tr th:only-of-type {\n        vertical-align: middle;\n    }\n\n    .dataframe tbody tr th {\n        vertical-align: top;\n    }\n\n    .dataframe thead th {\n        text-align: right;\n    }\n</style>\n<table border=\"1\" class=\"dataframe\">\n  <thead>\n    <tr style=\"text-align: right;\">\n      <th></th>\n      <th>name</th>\n      <th>team</th>\n      <th>position</th>\n      <th>total_points</th>\n      <th>minutes</th>\n      <th>goals_scored</th>\n      <th>assists</th>\n      <th>clean_sheets</th>\n      <th>goals_conceded</th>\n      <th>penalties_saved</th>\n      <th>...</th>\n      <th>red_cards</th>\n      <th>saves</th>\n      <th>bonus</th>\n      <th>bps</th>\n      <th>influence</th>\n      <th>creativity</th>\n      <th>threat</th>\n      <th>ict_index</th>\n      <th>points_per_match</th>\n      <th>price_per_player</th>\n    </tr>\n  </thead>\n  <tbody>\n    <tr>\n      <th>96326</th>\n      <td>Bukayo Saka</td>\n      <td>Arsenal</td>\n      <td>MID</td>\n      <td>71.0</td>\n      <td>945.0</td>\n      <td>4.0</td>\n      <td>6.0</td>\n      <td>4.0</td>\n      <td>10.0</td>\n      <td>0.0</td>\n      <td>...</td>\n      <td>0.0</td>\n      <td>0.0</td>\n      <td>8.0</td>\n      <td>264.0</td>\n      <td>338.2</td>\n      <td>424.0</td>\n      <td>351.0</td>\n      <td>111.3</td>\n      <td>6.761905</td>\n      <td>9.523810</td>\n    </tr>\n    <tr>\n      <th>96327</th>\n      <td>William Saliba</td>\n      <td>Arsenal</td>\n      <td>DEF</td>\n      <td>55.0</td>\n      <td>1080.0</td>\n      <td>1.0</td>\n      <td>1.0</td>\n      <td>5.0</td>\n      <td>10.0</td>\n      <td>0.0</td>\n      <td>...</td>\n      <td>0.0</td>\n      <td>0.0</td>\n      <td>5.0</td>\n      <td>250.0</td>\n      <td>249.8</td>\n      <td>53.8</td>\n      <td>44.0</td>\n      <td>34.9</td>\n      <td>4.583333</td>\n      <td>8.333333</td>\n    </tr>\n    <tr>\n      <th>96332</th>\n      <td>Benjamin White</td>\n      <td>Arsenal</td>\n      <td>DEF</td>\n      <td>53.0</td>\n      <td>947.0</td>\n      <td>1.0</td>\n      <td>1.0</td>\n      <td>5.0</td>\n      <td>9.0</td>\n      <td>0.0</td>\n      <td>...</td>\n      <td>0.0</td>\n      <td>0.0</td>\n      <td>7.0</td>\n      <td>236.0</td>\n      <td>229.0</td>\n      <td>176.2</td>\n      <td>77.0</td>\n      <td>48.2</td>\n      <td>5.036959</td>\n      <td>9.503696</td>\n    </tr>\n    <tr>\n      <th>96336</th>\n      <td>Declan Rice</td>\n      <td>Arsenal</td>\n      <td>MID</td>\n      <td>46.0</td>\n      <td>1023.0</td>\n      <td>2.0</td>\n      <td>1.0</td>\n      <td>5.0</td>\n      <td>9.0</td>\n      <td>0.0</td>\n      <td>...</td>\n      <td>0.0</td>\n      <td>0.0</td>\n      <td>5.0</td>\n      <td>217.0</td>\n      <td>263.8</td>\n      <td>151.3</td>\n      <td>99.0</td>\n      <td>51.5</td>\n      <td>4.046921</td>\n      <td>8.797654</td>\n    </tr>\n    <tr>\n      <th>96346</th>\n      <td>Matty Cash</td>\n      <td>Aston Villa</td>\n      <td>DEF</td>\n      <td>45.0</td>\n      <td>1023.0</td>\n      <td>2.0</td>\n      <td>1.0</td>\n      <td>3.0</td>\n      <td>15.0</td>\n      <td>0.0</td>\n      <td>...</td>\n      <td>0.0</td>\n      <td>0.0</td>\n      <td>4.0</td>\n      <td>202.0</td>\n      <td>245.4</td>\n      <td>92.4</td>\n      <td>264.0</td>\n      <td>60.3</td>\n      <td>3.958944</td>\n      <td>8.797654</td>\n    </tr>\n  </tbody>\n</table>\n<p>5 rows × 22 columns</p>\n</div>"
     },
     "execution_count": 12,
     "metadata": {},
     "output_type": "execute_result"
    }
   ],
   "source": [
    "# On crée une colonne avec le nombre de points par match\n",
    "df['points_per_match'] = df['total_points'] / (df['minutes'] / 90)\n",
    "df.head()"
   ],
   "metadata": {
    "collapsed": false
   }
  },
  {
   "cell_type": "code",
   "execution_count": 15,
   "outputs": [
    {
     "data": {
      "text/plain": "                      name           team position  total_points  minutes  \\\n97040  José Malheiro de Sá         Wolves      GKP          36.0   1080.0   \n96981    Guglielmo Vicario          Spurs      GKP          47.0   1080.0   \n96929      Wes Foderingham  Sheffield Utd      GKP          26.0   1080.0   \n96847            Nick Pope      Newcastle      GKP          47.0   1080.0   \n96816          André Onana        Man Utd      GKP          43.0   1080.0   \n\n       goals_scored  assists  clean_sheets  goals_conceded  penalties_saved  \\\n97040           0.0      0.0           1.0            20.0              0.0   \n96981           0.0      0.0           4.0            15.0              0.0   \n96929           0.0      0.0           0.0            31.0              0.0   \n96847           0.0      0.0           5.0            13.0              0.0   \n96816           0.0      0.0           4.0            16.0              0.0   \n\n       ...  red_cards  saves  bonus    bps  influence  creativity  threat  \\\n97040  ...        0.0   42.0    4.0  205.0      314.8         0.0     0.0   \n96981  ...        0.0   39.0    5.0  251.0      332.4         0.0     0.0   \n96929  ...        0.0   57.0    4.0  219.0      400.8         0.0     0.0   \n96847  ...        0.0   36.0    1.0  236.0      269.4         0.0     4.0   \n96816  ...        0.0   45.0    2.0  233.0      342.4         0.2     0.0   \n\n       ict_index  points_per_match  price_per_player  \n97040       31.5          3.000000          8.333333  \n96981       33.2          3.916667          8.333333  \n96929       40.2          2.166667          8.333333  \n96847       27.3          3.916667          8.333333  \n96816       34.3          3.583333          8.333333  \n\n[5 rows x 22 columns]",
      "text/html": "<div>\n<style scoped>\n    .dataframe tbody tr th:only-of-type {\n        vertical-align: middle;\n    }\n\n    .dataframe tbody tr th {\n        vertical-align: top;\n    }\n\n    .dataframe thead th {\n        text-align: right;\n    }\n</style>\n<table border=\"1\" class=\"dataframe\">\n  <thead>\n    <tr style=\"text-align: right;\">\n      <th></th>\n      <th>name</th>\n      <th>team</th>\n      <th>position</th>\n      <th>total_points</th>\n      <th>minutes</th>\n      <th>goals_scored</th>\n      <th>assists</th>\n      <th>clean_sheets</th>\n      <th>goals_conceded</th>\n      <th>penalties_saved</th>\n      <th>...</th>\n      <th>red_cards</th>\n      <th>saves</th>\n      <th>bonus</th>\n      <th>bps</th>\n      <th>influence</th>\n      <th>creativity</th>\n      <th>threat</th>\n      <th>ict_index</th>\n      <th>points_per_match</th>\n      <th>price_per_player</th>\n    </tr>\n  </thead>\n  <tbody>\n    <tr>\n      <th>97040</th>\n      <td>José Malheiro de Sá</td>\n      <td>Wolves</td>\n      <td>GKP</td>\n      <td>36.0</td>\n      <td>1080.0</td>\n      <td>0.0</td>\n      <td>0.0</td>\n      <td>1.0</td>\n      <td>20.0</td>\n      <td>0.0</td>\n      <td>...</td>\n      <td>0.0</td>\n      <td>42.0</td>\n      <td>4.0</td>\n      <td>205.0</td>\n      <td>314.8</td>\n      <td>0.0</td>\n      <td>0.0</td>\n      <td>31.5</td>\n      <td>3.000000</td>\n      <td>8.333333</td>\n    </tr>\n    <tr>\n      <th>96981</th>\n      <td>Guglielmo Vicario</td>\n      <td>Spurs</td>\n      <td>GKP</td>\n      <td>47.0</td>\n      <td>1080.0</td>\n      <td>0.0</td>\n      <td>0.0</td>\n      <td>4.0</td>\n      <td>15.0</td>\n      <td>0.0</td>\n      <td>...</td>\n      <td>0.0</td>\n      <td>39.0</td>\n      <td>5.0</td>\n      <td>251.0</td>\n      <td>332.4</td>\n      <td>0.0</td>\n      <td>0.0</td>\n      <td>33.2</td>\n      <td>3.916667</td>\n      <td>8.333333</td>\n    </tr>\n    <tr>\n      <th>96929</th>\n      <td>Wes Foderingham</td>\n      <td>Sheffield Utd</td>\n      <td>GKP</td>\n      <td>26.0</td>\n      <td>1080.0</td>\n      <td>0.0</td>\n      <td>0.0</td>\n      <td>0.0</td>\n      <td>31.0</td>\n      <td>0.0</td>\n      <td>...</td>\n      <td>0.0</td>\n      <td>57.0</td>\n      <td>4.0</td>\n      <td>219.0</td>\n      <td>400.8</td>\n      <td>0.0</td>\n      <td>0.0</td>\n      <td>40.2</td>\n      <td>2.166667</td>\n      <td>8.333333</td>\n    </tr>\n    <tr>\n      <th>96847</th>\n      <td>Nick Pope</td>\n      <td>Newcastle</td>\n      <td>GKP</td>\n      <td>47.0</td>\n      <td>1080.0</td>\n      <td>0.0</td>\n      <td>0.0</td>\n      <td>5.0</td>\n      <td>13.0</td>\n      <td>0.0</td>\n      <td>...</td>\n      <td>0.0</td>\n      <td>36.0</td>\n      <td>1.0</td>\n      <td>236.0</td>\n      <td>269.4</td>\n      <td>0.0</td>\n      <td>4.0</td>\n      <td>27.3</td>\n      <td>3.916667</td>\n      <td>8.333333</td>\n    </tr>\n    <tr>\n      <th>96816</th>\n      <td>André Onana</td>\n      <td>Man Utd</td>\n      <td>GKP</td>\n      <td>43.0</td>\n      <td>1080.0</td>\n      <td>0.0</td>\n      <td>0.0</td>\n      <td>4.0</td>\n      <td>16.0</td>\n      <td>0.0</td>\n      <td>...</td>\n      <td>0.0</td>\n      <td>45.0</td>\n      <td>2.0</td>\n      <td>233.0</td>\n      <td>342.4</td>\n      <td>0.2</td>\n      <td>0.0</td>\n      <td>34.3</td>\n      <td>3.583333</td>\n      <td>8.333333</td>\n    </tr>\n  </tbody>\n</table>\n<p>5 rows × 22 columns</p>\n</div>"
     },
     "execution_count": 15,
     "metadata": {},
     "output_type": "execute_result"
    }
   ],
   "source": [
    "# On commence par créer une équipe avec un gardien, un défenseur, un milieu de terrain et un attaquant\n",
    "# On va chercher le gardien qui a le meilleur rapport qualité/prix\n",
    "df_gk = df[df['position'] == 'GKP']\n",
    "df_gk = df_gk.sort_values(by=['price_per_player'], ascending=True)\n",
    "df_gk.head()"
   ],
   "metadata": {
    "collapsed": false
   }
  },
  {
   "cell_type": "code",
   "execution_count": 16,
   "outputs": [
    {
     "data": {
      "text/plain": "name                José Malheiro de Sá\nteam                             Wolves\nposition                            GKP\ntotal_points                       36.0\nminutes                          1080.0\ngoals_scored                        0.0\nassists                             0.0\nclean_sheets                        1.0\ngoals_conceded                     20.0\npenalties_saved                     0.0\npenalties_missed                    0.0\nyellow_cards                        1.0\nred_cards                           0.0\nsaves                              42.0\nbonus                               4.0\nbps                               205.0\ninfluence                         314.8\ncreativity                          0.0\nthreat                              0.0\nict_index                          31.5\npoints_per_match                    3.0\nprice_per_player               8.333333\nName: 97040, dtype: object"
     },
     "execution_count": 16,
     "metadata": {},
     "output_type": "execute_result"
    }
   ],
   "source": [
    "# On prend le gardien avec le meilleur rapport qualité/prix\n",
    "gk = df_gk.iloc[0]\n",
    "gk"
   ],
   "metadata": {
    "collapsed": false
   }
  },
  {
   "cell_type": "code",
   "execution_count": 19,
   "outputs": [
    {
     "data": {
      "text/plain": "name                William Saliba\nteam                       Arsenal\nposition                       DEF\ntotal_points                  55.0\nminutes                     1080.0\ngoals_scored                   1.0\nassists                        1.0\nclean_sheets                   5.0\ngoals_conceded                10.0\npenalties_saved                0.0\npenalties_missed               0.0\nyellow_cards                   0.0\nred_cards                      0.0\nsaves                          0.0\nbonus                          5.0\nbps                          250.0\ninfluence                    249.8\ncreativity                    53.8\nthreat                        44.0\nict_index                     34.9\npoints_per_match          4.583333\nprice_per_player          8.333333\nName: 96327, dtype: object"
     },
     "execution_count": 19,
     "metadata": {},
     "output_type": "execute_result"
    }
   ],
   "source": [
    "# On va chercher le défenseur qui a le meilleur rapport qualité/prix\n",
    "df_def = df[df['position'] == 'DEF']\n",
    "df_def = df_def.sort_values(by=['price_per_player'], ascending=True)\n",
    "defender = df_def.iloc[0]\n",
    "defender"
   ],
   "metadata": {
    "collapsed": false
   }
  },
  {
   "cell_type": "code",
   "execution_count": 20,
   "outputs": [
    {
     "data": {
      "text/plain": "name                Bruno Borges Fernandes\nteam                               Man Utd\nposition                               MID\ntotal_points                          55.0\nminutes                             1080.0\ngoals_scored                           3.0\nassists                                2.0\nclean_sheets                           4.0\ngoals_conceded                        16.0\npenalties_saved                        0.0\npenalties_missed                       0.0\nyellow_cards                           4.0\nred_cards                              0.0\nsaves                                  0.0\nbonus                                 10.0\nbps                                  218.0\ninfluence                            343.8\ncreativity                           483.8\nthreat                               257.0\nict_index                            108.4\npoints_per_match                  4.583333\nprice_per_player                  8.333333\nName: 96789, dtype: object"
     },
     "execution_count": 20,
     "metadata": {},
     "output_type": "execute_result"
    }
   ],
   "source": [
    "df_mid = df[df['position'] == 'MID']\n",
    "df_mid = df_mid.sort_values(by=['price_per_player'], ascending=True)\n",
    "midfielder = df_mid.iloc[0]\n",
    "midfielder"
   ],
   "metadata": {
    "collapsed": false
   }
  },
  {
   "cell_type": "code",
   "execution_count": 21,
   "outputs": [
    {
     "data": {
      "text/plain": "name                Dominic Solanke\nteam                    Bournemouth\nposition                        FWD\ntotal_points                   56.0\nminutes                      1068.0\ngoals_scored                    6.0\nassists                         1.0\nclean_sheets                    2.0\ngoals_conceded                 25.0\npenalties_saved                 0.0\npenalties_missed                0.0\nyellow_cards                    1.0\nred_cards                       0.0\nsaves                           0.0\nbonus                           6.0\nbps                           169.0\ninfluence                     278.2\ncreativity                    154.7\nthreat                        424.0\nict_index                      85.9\npoints_per_match           4.719101\nprice_per_player           8.426966\nName: 96401, dtype: object"
     },
     "execution_count": 21,
     "metadata": {},
     "output_type": "execute_result"
    }
   ],
   "source": [
    "df_fwd = df[df['position'] == 'FWD']\n",
    "df_fwd = df_fwd.sort_values(by=['price_per_player'], ascending=True)\n",
    "forward = df_fwd.iloc[0]\n",
    "forward"
   ],
   "metadata": {
    "collapsed": false
   }
  },
  {
   "cell_type": "markdown",
   "source": [],
   "metadata": {
    "collapsed": false
   }
  },
  {
   "cell_type": "code",
   "execution_count": 22,
   "outputs": [
    {
     "data": {
      "text/plain": "                         name         team position  total_points  minutes  \\\n97040     José Malheiro de Sá       Wolves      GKP          36.0   1080.0   \n96327          William Saliba      Arsenal      DEF          55.0   1080.0   \n96789  Bruno Borges Fernandes      Man Utd      MID          55.0   1080.0   \n96401         Dominic Solanke  Bournemouth      FWD          56.0   1068.0   \n\n       goals_scored  assists  clean_sheets  goals_conceded  penalties_saved  \\\n97040           0.0      0.0           1.0            20.0              0.0   \n96327           1.0      1.0           5.0            10.0              0.0   \n96789           3.0      2.0           4.0            16.0              0.0   \n96401           6.0      1.0           2.0            25.0              0.0   \n\n       ...  red_cards  saves  bonus    bps  influence  creativity  threat  \\\n97040  ...        0.0   42.0    4.0  205.0      314.8         0.0     0.0   \n96327  ...        0.0    0.0    5.0  250.0      249.8        53.8    44.0   \n96789  ...        0.0    0.0   10.0  218.0      343.8       483.8   257.0   \n96401  ...        0.0    0.0    6.0  169.0      278.2       154.7   424.0   \n\n       ict_index  points_per_match  price_per_player  \n97040       31.5          3.000000          8.333333  \n96327       34.9          4.583333          8.333333  \n96789      108.4          4.583333          8.333333  \n96401       85.9          4.719101          8.426966  \n\n[4 rows x 22 columns]",
      "text/html": "<div>\n<style scoped>\n    .dataframe tbody tr th:only-of-type {\n        vertical-align: middle;\n    }\n\n    .dataframe tbody tr th {\n        vertical-align: top;\n    }\n\n    .dataframe thead th {\n        text-align: right;\n    }\n</style>\n<table border=\"1\" class=\"dataframe\">\n  <thead>\n    <tr style=\"text-align: right;\">\n      <th></th>\n      <th>name</th>\n      <th>team</th>\n      <th>position</th>\n      <th>total_points</th>\n      <th>minutes</th>\n      <th>goals_scored</th>\n      <th>assists</th>\n      <th>clean_sheets</th>\n      <th>goals_conceded</th>\n      <th>penalties_saved</th>\n      <th>...</th>\n      <th>red_cards</th>\n      <th>saves</th>\n      <th>bonus</th>\n      <th>bps</th>\n      <th>influence</th>\n      <th>creativity</th>\n      <th>threat</th>\n      <th>ict_index</th>\n      <th>points_per_match</th>\n      <th>price_per_player</th>\n    </tr>\n  </thead>\n  <tbody>\n    <tr>\n      <th>97040</th>\n      <td>José Malheiro de Sá</td>\n      <td>Wolves</td>\n      <td>GKP</td>\n      <td>36.0</td>\n      <td>1080.0</td>\n      <td>0.0</td>\n      <td>0.0</td>\n      <td>1.0</td>\n      <td>20.0</td>\n      <td>0.0</td>\n      <td>...</td>\n      <td>0.0</td>\n      <td>42.0</td>\n      <td>4.0</td>\n      <td>205.0</td>\n      <td>314.8</td>\n      <td>0.0</td>\n      <td>0.0</td>\n      <td>31.5</td>\n      <td>3.000000</td>\n      <td>8.333333</td>\n    </tr>\n    <tr>\n      <th>96327</th>\n      <td>William Saliba</td>\n      <td>Arsenal</td>\n      <td>DEF</td>\n      <td>55.0</td>\n      <td>1080.0</td>\n      <td>1.0</td>\n      <td>1.0</td>\n      <td>5.0</td>\n      <td>10.0</td>\n      <td>0.0</td>\n      <td>...</td>\n      <td>0.0</td>\n      <td>0.0</td>\n      <td>5.0</td>\n      <td>250.0</td>\n      <td>249.8</td>\n      <td>53.8</td>\n      <td>44.0</td>\n      <td>34.9</td>\n      <td>4.583333</td>\n      <td>8.333333</td>\n    </tr>\n    <tr>\n      <th>96789</th>\n      <td>Bruno Borges Fernandes</td>\n      <td>Man Utd</td>\n      <td>MID</td>\n      <td>55.0</td>\n      <td>1080.0</td>\n      <td>3.0</td>\n      <td>2.0</td>\n      <td>4.0</td>\n      <td>16.0</td>\n      <td>0.0</td>\n      <td>...</td>\n      <td>0.0</td>\n      <td>0.0</td>\n      <td>10.0</td>\n      <td>218.0</td>\n      <td>343.8</td>\n      <td>483.8</td>\n      <td>257.0</td>\n      <td>108.4</td>\n      <td>4.583333</td>\n      <td>8.333333</td>\n    </tr>\n    <tr>\n      <th>96401</th>\n      <td>Dominic Solanke</td>\n      <td>Bournemouth</td>\n      <td>FWD</td>\n      <td>56.0</td>\n      <td>1068.0</td>\n      <td>6.0</td>\n      <td>1.0</td>\n      <td>2.0</td>\n      <td>25.0</td>\n      <td>0.0</td>\n      <td>...</td>\n      <td>0.0</td>\n      <td>0.0</td>\n      <td>6.0</td>\n      <td>169.0</td>\n      <td>278.2</td>\n      <td>154.7</td>\n      <td>424.0</td>\n      <td>85.9</td>\n      <td>4.719101</td>\n      <td>8.426966</td>\n    </tr>\n  </tbody>\n</table>\n<p>4 rows × 22 columns</p>\n</div>"
     },
     "execution_count": 22,
     "metadata": {},
     "output_type": "execute_result"
    }
   ],
   "source": [
    "# On crée une équipe avec un gardien, un défenseur, un milieu de terrain et un attaquant\n",
    "team = pd.DataFrame([gk, defender, midfielder, forward])\n",
    "team"
   ],
   "metadata": {
    "collapsed": false
   }
  },
  {
   "cell_type": "code",
   "execution_count": 23,
   "outputs": [
    {
     "data": {
      "text/plain": "                         name         team position  total_points  minutes  \\\n97040     José Malheiro de Sá       Wolves      GKP          36.0   1080.0   \n96327          William Saliba      Arsenal      DEF          55.0   1080.0   \n96789  Bruno Borges Fernandes      Man Utd      MID          55.0   1080.0   \n96401         Dominic Solanke  Bournemouth      FWD          56.0   1068.0   \n\n       goals_scored  assists  clean_sheets  goals_conceded  penalties_saved  \\\n97040           0.0      0.0           1.0            20.0              0.0   \n96327           1.0      1.0           5.0            10.0              0.0   \n96789           3.0      2.0           4.0            16.0              0.0   \n96401           6.0      1.0           2.0            25.0              0.0   \n\n       ...  saves  bonus    bps  influence  creativity  threat  ict_index  \\\n97040  ...   42.0    4.0  205.0      314.8         0.0     0.0       31.5   \n96327  ...    0.0    5.0  250.0      249.8        53.8    44.0       34.9   \n96789  ...    0.0   10.0  218.0      343.8       483.8   257.0      108.4   \n96401  ...    0.0    6.0  169.0      278.2       154.7   424.0       85.9   \n\n       points_per_match  price_per_player        price  \n97040          3.000000          8.333333  1200.000000  \n96327          4.583333          8.333333  1200.000000  \n96789          4.583333          8.333333  1200.000000  \n96401          4.719101          8.426966  1186.666667  \n\n[4 rows x 23 columns]",
      "text/html": "<div>\n<style scoped>\n    .dataframe tbody tr th:only-of-type {\n        vertical-align: middle;\n    }\n\n    .dataframe tbody tr th {\n        vertical-align: top;\n    }\n\n    .dataframe thead th {\n        text-align: right;\n    }\n</style>\n<table border=\"1\" class=\"dataframe\">\n  <thead>\n    <tr style=\"text-align: right;\">\n      <th></th>\n      <th>name</th>\n      <th>team</th>\n      <th>position</th>\n      <th>total_points</th>\n      <th>minutes</th>\n      <th>goals_scored</th>\n      <th>assists</th>\n      <th>clean_sheets</th>\n      <th>goals_conceded</th>\n      <th>penalties_saved</th>\n      <th>...</th>\n      <th>saves</th>\n      <th>bonus</th>\n      <th>bps</th>\n      <th>influence</th>\n      <th>creativity</th>\n      <th>threat</th>\n      <th>ict_index</th>\n      <th>points_per_match</th>\n      <th>price_per_player</th>\n      <th>price</th>\n    </tr>\n  </thead>\n  <tbody>\n    <tr>\n      <th>97040</th>\n      <td>José Malheiro de Sá</td>\n      <td>Wolves</td>\n      <td>GKP</td>\n      <td>36.0</td>\n      <td>1080.0</td>\n      <td>0.0</td>\n      <td>0.0</td>\n      <td>1.0</td>\n      <td>20.0</td>\n      <td>0.0</td>\n      <td>...</td>\n      <td>42.0</td>\n      <td>4.0</td>\n      <td>205.0</td>\n      <td>314.8</td>\n      <td>0.0</td>\n      <td>0.0</td>\n      <td>31.5</td>\n      <td>3.000000</td>\n      <td>8.333333</td>\n      <td>1200.000000</td>\n    </tr>\n    <tr>\n      <th>96327</th>\n      <td>William Saliba</td>\n      <td>Arsenal</td>\n      <td>DEF</td>\n      <td>55.0</td>\n      <td>1080.0</td>\n      <td>1.0</td>\n      <td>1.0</td>\n      <td>5.0</td>\n      <td>10.0</td>\n      <td>0.0</td>\n      <td>...</td>\n      <td>0.0</td>\n      <td>5.0</td>\n      <td>250.0</td>\n      <td>249.8</td>\n      <td>53.8</td>\n      <td>44.0</td>\n      <td>34.9</td>\n      <td>4.583333</td>\n      <td>8.333333</td>\n      <td>1200.000000</td>\n    </tr>\n    <tr>\n      <th>96789</th>\n      <td>Bruno Borges Fernandes</td>\n      <td>Man Utd</td>\n      <td>MID</td>\n      <td>55.0</td>\n      <td>1080.0</td>\n      <td>3.0</td>\n      <td>2.0</td>\n      <td>4.0</td>\n      <td>16.0</td>\n      <td>0.0</td>\n      <td>...</td>\n      <td>0.0</td>\n      <td>10.0</td>\n      <td>218.0</td>\n      <td>343.8</td>\n      <td>483.8</td>\n      <td>257.0</td>\n      <td>108.4</td>\n      <td>4.583333</td>\n      <td>8.333333</td>\n      <td>1200.000000</td>\n    </tr>\n    <tr>\n      <th>96401</th>\n      <td>Dominic Solanke</td>\n      <td>Bournemouth</td>\n      <td>FWD</td>\n      <td>56.0</td>\n      <td>1068.0</td>\n      <td>6.0</td>\n      <td>1.0</td>\n      <td>2.0</td>\n      <td>25.0</td>\n      <td>0.0</td>\n      <td>...</td>\n      <td>0.0</td>\n      <td>6.0</td>\n      <td>169.0</td>\n      <td>278.2</td>\n      <td>154.7</td>\n      <td>424.0</td>\n      <td>85.9</td>\n      <td>4.719101</td>\n      <td>8.426966</td>\n      <td>1186.666667</td>\n    </tr>\n  </tbody>\n</table>\n<p>4 rows × 23 columns</p>\n</div>"
     },
     "execution_count": 23,
     "metadata": {},
     "output_type": "execute_result"
    }
   ],
   "source": [
    "# On calcule le prix de l'équipe\n",
    "team['price'] = team['total_points'] / team['points_per_match'] * 100\n",
    "team"
   ],
   "metadata": {
    "collapsed": false
   }
  },
  {
   "cell_type": "code",
   "execution_count": 24,
   "outputs": [
    {
     "data": {
      "text/plain": "                         name         team position  total_points  minutes  \\\n97040     José Malheiro de Sá       Wolves      GKP          36.0   1080.0   \n96327          William Saliba      Arsenal      DEF          55.0   1080.0   \n96789  Bruno Borges Fernandes      Man Utd      MID          55.0   1080.0   \n96401         Dominic Solanke  Bournemouth      FWD          56.0   1068.0   \n\n       goals_scored  assists  clean_sheets  goals_conceded  penalties_saved  \\\n97040           0.0      0.0           1.0            20.0              0.0   \n96327           1.0      1.0           5.0            10.0              0.0   \n96789           3.0      2.0           4.0            16.0              0.0   \n96401           6.0      1.0           2.0            25.0              0.0   \n\n       ...  bonus    bps  influence  creativity  threat  ict_index  \\\n97040  ...    4.0  205.0      314.8         0.0     0.0       31.5   \n96327  ...    5.0  250.0      249.8        53.8    44.0       34.9   \n96789  ...   10.0  218.0      343.8       483.8   257.0      108.4   \n96401  ...    6.0  169.0      278.2       154.7   424.0       85.9   \n\n       points_per_match  price_per_player        price  points  \n97040          3.000000          8.333333  1200.000000    36.0  \n96327          4.583333          8.333333  1200.000000    55.0  \n96789          4.583333          8.333333  1200.000000    55.0  \n96401          4.719101          8.426966  1186.666667    56.0  \n\n[4 rows x 24 columns]",
      "text/html": "<div>\n<style scoped>\n    .dataframe tbody tr th:only-of-type {\n        vertical-align: middle;\n    }\n\n    .dataframe tbody tr th {\n        vertical-align: top;\n    }\n\n    .dataframe thead th {\n        text-align: right;\n    }\n</style>\n<table border=\"1\" class=\"dataframe\">\n  <thead>\n    <tr style=\"text-align: right;\">\n      <th></th>\n      <th>name</th>\n      <th>team</th>\n      <th>position</th>\n      <th>total_points</th>\n      <th>minutes</th>\n      <th>goals_scored</th>\n      <th>assists</th>\n      <th>clean_sheets</th>\n      <th>goals_conceded</th>\n      <th>penalties_saved</th>\n      <th>...</th>\n      <th>bonus</th>\n      <th>bps</th>\n      <th>influence</th>\n      <th>creativity</th>\n      <th>threat</th>\n      <th>ict_index</th>\n      <th>points_per_match</th>\n      <th>price_per_player</th>\n      <th>price</th>\n      <th>points</th>\n    </tr>\n  </thead>\n  <tbody>\n    <tr>\n      <th>97040</th>\n      <td>José Malheiro de Sá</td>\n      <td>Wolves</td>\n      <td>GKP</td>\n      <td>36.0</td>\n      <td>1080.0</td>\n      <td>0.0</td>\n      <td>0.0</td>\n      <td>1.0</td>\n      <td>20.0</td>\n      <td>0.0</td>\n      <td>...</td>\n      <td>4.0</td>\n      <td>205.0</td>\n      <td>314.8</td>\n      <td>0.0</td>\n      <td>0.0</td>\n      <td>31.5</td>\n      <td>3.000000</td>\n      <td>8.333333</td>\n      <td>1200.000000</td>\n      <td>36.0</td>\n    </tr>\n    <tr>\n      <th>96327</th>\n      <td>William Saliba</td>\n      <td>Arsenal</td>\n      <td>DEF</td>\n      <td>55.0</td>\n      <td>1080.0</td>\n      <td>1.0</td>\n      <td>1.0</td>\n      <td>5.0</td>\n      <td>10.0</td>\n      <td>0.0</td>\n      <td>...</td>\n      <td>5.0</td>\n      <td>250.0</td>\n      <td>249.8</td>\n      <td>53.8</td>\n      <td>44.0</td>\n      <td>34.9</td>\n      <td>4.583333</td>\n      <td>8.333333</td>\n      <td>1200.000000</td>\n      <td>55.0</td>\n    </tr>\n    <tr>\n      <th>96789</th>\n      <td>Bruno Borges Fernandes</td>\n      <td>Man Utd</td>\n      <td>MID</td>\n      <td>55.0</td>\n      <td>1080.0</td>\n      <td>3.0</td>\n      <td>2.0</td>\n      <td>4.0</td>\n      <td>16.0</td>\n      <td>0.0</td>\n      <td>...</td>\n      <td>10.0</td>\n      <td>218.0</td>\n      <td>343.8</td>\n      <td>483.8</td>\n      <td>257.0</td>\n      <td>108.4</td>\n      <td>4.583333</td>\n      <td>8.333333</td>\n      <td>1200.000000</td>\n      <td>55.0</td>\n    </tr>\n    <tr>\n      <th>96401</th>\n      <td>Dominic Solanke</td>\n      <td>Bournemouth</td>\n      <td>FWD</td>\n      <td>56.0</td>\n      <td>1068.0</td>\n      <td>6.0</td>\n      <td>1.0</td>\n      <td>2.0</td>\n      <td>25.0</td>\n      <td>0.0</td>\n      <td>...</td>\n      <td>6.0</td>\n      <td>169.0</td>\n      <td>278.2</td>\n      <td>154.7</td>\n      <td>424.0</td>\n      <td>85.9</td>\n      <td>4.719101</td>\n      <td>8.426966</td>\n      <td>1186.666667</td>\n      <td>56.0</td>\n    </tr>\n  </tbody>\n</table>\n<p>4 rows × 24 columns</p>\n</div>"
     },
     "execution_count": 24,
     "metadata": {},
     "output_type": "execute_result"
    }
   ],
   "source": [
    "# On calcule le nombre de points de l'équipe\n",
    "team['points'] = team['total_points']\n",
    "team"
   ],
   "metadata": {
    "collapsed": false
   }
  },
  {
   "cell_type": "code",
   "execution_count": 25,
   "outputs": [
    {
     "data": {
      "text/plain": "['José Malheiro de Sá',\n 'William Saliba',\n 'Bruno Borges Fernandes',\n 'Dominic Solanke']"
     },
     "execution_count": 25,
     "metadata": {},
     "output_type": "execute_result"
    }
   ],
   "source": [
    "#On fait désormais une boucle pour compléter l'équipe\n",
    "\n",
    "# On crée une liste avec les positions\n",
    "positions = ['GKP', 'DEF', 'DEF', 'DEF', 'DEF', 'DEF', 'MID', 'MID', 'MID', 'MID', 'MID', 'FWD', 'FWD', 'FWD']\n",
    "\n",
    "# On crée une liste avec les joueurs déjà sélectionnés\n",
    "selected_players = [gk['name'], defender['name'], midfielder['name'], forward['name']]\n",
    "selected_players\n"
   ],
   "metadata": {
    "collapsed": false
   }
  },
  {
   "cell_type": "code",
   "execution_count": 33,
   "outputs": [
    {
     "data": {
      "text/plain": "                 name   team position  total_points  minutes  goals_scored  \\\n96726  Carlton Morris  Luton      FWD          45.0   1010.0           3.0   \n\n       assists  clean_sheets  goals_conceded  penalties_saved  ...  red_cards  \\\n96726      1.0           1.0            21.0              0.0  ...        0.0   \n\n       saves  bonus    bps  influence  creativity  threat  ict_index  \\\n96726    0.0    7.0  119.0      153.0       108.3   306.0       56.5   \n\n       points_per_match  price_per_player  \n96726          4.009901          8.910891  \n\n[1 rows x 22 columns]",
      "text/html": "<div>\n<style scoped>\n    .dataframe tbody tr th:only-of-type {\n        vertical-align: middle;\n    }\n\n    .dataframe tbody tr th {\n        vertical-align: top;\n    }\n\n    .dataframe thead th {\n        text-align: right;\n    }\n</style>\n<table border=\"1\" class=\"dataframe\">\n  <thead>\n    <tr style=\"text-align: right;\">\n      <th></th>\n      <th>name</th>\n      <th>team</th>\n      <th>position</th>\n      <th>total_points</th>\n      <th>minutes</th>\n      <th>goals_scored</th>\n      <th>assists</th>\n      <th>clean_sheets</th>\n      <th>goals_conceded</th>\n      <th>penalties_saved</th>\n      <th>...</th>\n      <th>red_cards</th>\n      <th>saves</th>\n      <th>bonus</th>\n      <th>bps</th>\n      <th>influence</th>\n      <th>creativity</th>\n      <th>threat</th>\n      <th>ict_index</th>\n      <th>points_per_match</th>\n      <th>price_per_player</th>\n    </tr>\n  </thead>\n  <tbody>\n    <tr>\n      <th>96726</th>\n      <td>Carlton Morris</td>\n      <td>Luton</td>\n      <td>FWD</td>\n      <td>45.0</td>\n      <td>1010.0</td>\n      <td>3.0</td>\n      <td>1.0</td>\n      <td>1.0</td>\n      <td>21.0</td>\n      <td>0.0</td>\n      <td>...</td>\n      <td>0.0</td>\n      <td>0.0</td>\n      <td>7.0</td>\n      <td>119.0</td>\n      <td>153.0</td>\n      <td>108.3</td>\n      <td>306.0</td>\n      <td>56.5</td>\n      <td>4.009901</td>\n      <td>8.910891</td>\n    </tr>\n  </tbody>\n</table>\n<p>1 rows × 22 columns</p>\n</div>"
     },
     "execution_count": 33,
     "metadata": {},
     "output_type": "execute_result"
    }
   ],
   "source": [
    "# On complète l'équipe\n",
    "# On crée une fonction pour trouver le joueur avec le meilleur rapport qualité/prix\n",
    "def find_best_player(df, position):\n",
    "    df = df[df['position'] == position]\n",
    "    df = df.sort_values(by=['price_per_player'], ascending=True)\n",
    "    for player in df['name']:\n",
    "        if player not in selected_players:\n",
    "            selected_players.append(player)\n",
    "            return df[df['name'] == player]\n",
    "\n",
    "find_best_player(df, 'DEF')\n",
    "find_best_player(df, 'MID')\n",
    "find_best_player(df, 'MID')\n",
    "find_best_player(df, 'MID')\n",
    "find_best_player(df, 'MID')\n",
    "find_best_player(df, 'FWD')\n",
    "find_best_player(df, 'FWD')\n",
    "find_best_player(df, 'FWD')"
   ],
   "metadata": {
    "collapsed": false
   }
  },
  {
   "cell_type": "code",
   "execution_count": 34,
   "outputs": [
    {
     "data": {
      "text/plain": "[                      name    team position  total_points  minutes  \\\n 97040  José Malheiro de Sá  Wolves      GKP          36.0   1080.0   \n \n        goals_scored  assists  clean_sheets  goals_conceded  penalties_saved  \\\n 97040           0.0      0.0           1.0            20.0              0.0   \n \n        ...  red_cards  saves  bonus    bps  influence  creativity  threat  \\\n 97040  ...        0.0   42.0    4.0  205.0      314.8         0.0     0.0   \n \n        ict_index  points_per_match  price_per_player  \n 97040       31.5               3.0          8.333333  \n \n [1 rows x 22 columns],\n                     name   team position  total_points  minutes  goals_scored  \\\n 96981  Guglielmo Vicario  Spurs      GKP          47.0   1080.0           0.0   \n \n        assists  clean_sheets  goals_conceded  penalties_saved  ...  red_cards  \\\n 96981      0.0           4.0            15.0              0.0  ...        0.0   \n \n        saves  bonus    bps  influence  creativity  threat  ict_index  \\\n 96981   39.0    5.0  251.0      332.4         0.0     0.0       33.2   \n \n        points_per_match  price_per_player  \n 96981          3.916667          8.333333  \n \n [1 rows x 22 columns],\n                  name     team position  total_points  minutes  goals_scored  \\\n 96327  William Saliba  Arsenal      DEF          55.0   1080.0           1.0   \n \n        assists  clean_sheets  goals_conceded  penalties_saved  ...  red_cards  \\\n 96327      1.0           5.0            10.0              0.0  ...        0.0   \n \n        saves  bonus    bps  influence  creativity  threat  ict_index  \\\n 96327    0.0    5.0  250.0      249.8        53.8    44.0       34.9   \n \n        points_per_match  price_per_player  \n 96327          4.583333          8.333333  \n \n [1 rows x 22 columns],\n                 name       team position  total_points  minutes  goals_scored  \\\n 96435  Ethan Pinnock  Brentford      DEF          41.0   1080.0           1.0   \n \n        assists  clean_sheets  goals_conceded  penalties_saved  ...  red_cards  \\\n 96435      0.0           3.0            17.0              0.0  ...        0.0   \n \n        saves  bonus    bps  influence  creativity  threat  ict_index  \\\n 96435    0.0    5.0  231.0      312.6        40.7   147.0       50.3   \n \n        points_per_match  price_per_player  \n 96435          3.416667          8.333333  \n \n [1 rows x 22 columns],\n                name       team position  total_points  minutes  goals_scored  \\\n 96850  Fabian Schär  Newcastle      DEF          44.0   1080.0           0.0   \n \n        assists  clean_sheets  goals_conceded  penalties_saved  ...  red_cards  \\\n 96850      1.0           5.0            13.0              0.0  ...        0.0   \n \n        saves  bonus    bps  influence  creativity  threat  ict_index  \\\n 96850    0.0    4.0  238.0      215.0        31.2    69.0       31.7   \n \n        points_per_match  price_per_player  \n 96850          3.666667          8.333333  \n \n [1 rows x 22 columns],\n               name      team position  total_points  minutes  goals_scored  \\\n 96781  Kyle Walker  Man City      DEF          43.0   1080.0           0.0   \n \n        assists  clean_sheets  goals_conceded  penalties_saved  ...  red_cards  \\\n 96781      1.0           4.0            12.0              0.0  ...        0.0   \n \n        saves  bonus    bps  influence  creativity  threat  ict_index  \\\n 96781    0.0    4.0  231.0      144.8       218.1    45.0       40.8   \n \n        points_per_match  price_per_player  \n 96781          3.583333          8.333333  \n \n [1 rows x 22 columns],\n              name    team position  total_points  minutes  goals_scored  \\\n 97035  Max Kilman  Wolves      DEF          22.0   1080.0           0.0   \n \n        assists  clean_sheets  goals_conceded  penalties_saved  ...  red_cards  \\\n 97035      0.0           1.0            20.0              0.0  ...        0.0   \n \n        saves  bonus    bps  influence  creativity  threat  ict_index  \\\n 97035    0.0    2.0  181.0      249.6        82.5    60.0       39.3   \n \n        points_per_match  price_per_player  \n 97035          1.833333          8.333333  \n \n [1 rows x 22 columns],\n                          name     team position  total_points  minutes  \\\n 96789  Bruno Borges Fernandes  Man Utd      MID          55.0   1080.0   \n \n        goals_scored  assists  clean_sheets  goals_conceded  penalties_saved  \\\n 96789           3.0      2.0           4.0            16.0              0.0   \n \n        ...  red_cards  saves  bonus    bps  influence  creativity  threat  \\\n 96789  ...        0.0    0.0   10.0  218.0      343.8       483.8   257.0   \n \n        ict_index  points_per_match  price_per_player  \n 96789      108.4          4.583333          8.333333  \n \n [1 rows x 22 columns],\n                name      team position  total_points  minutes  goals_scored  \\\n 96994  Jarrod Bowen  West Ham      MID          75.0   1080.0           8.0   \n \n        assists  clean_sheets  goals_conceded  penalties_saved  ...  red_cards  \\\n 96994      1.0           1.0            22.0              0.0  ...        0.0   \n \n        saves  bonus    bps  influence  creativity  threat  ict_index  \\\n 96994    0.0    8.0  227.0      381.0       134.0   478.0       99.3   \n \n        points_per_match  price_per_player  \n 96994              6.25          8.333333  \n \n [1 rows x 22 columns],\n                name       team position  total_points  minutes  goals_scored  \\\n 96431  Bryan Mbeumo  Brentford      MID          74.0   1080.0           6.0   \n \n        assists  clean_sheets  goals_conceded  penalties_saved  ...  red_cards  \\\n 96431      3.0           3.0            17.0              0.0  ...        0.0   \n \n        saves  bonus    bps  influence  creativity  threat  ict_index  \\\n 96431    0.0    9.0  212.0      329.6       350.8   394.0      107.4   \n \n        points_per_match  price_per_player  \n 96431          6.166667          8.333333  \n \n [1 rows x 22 columns],\n                     name   team position  total_points  minutes  goals_scored  \\\n 96713  Marvelous Nakamba  Luton      MID          20.0   1060.0           0.0   \n \n        assists  clean_sheets  goals_conceded  penalties_saved  ...  red_cards  \\\n 96713      0.0           0.0            22.0              0.0  ...        0.0   \n \n        saves  bonus    bps  influence  creativity  threat  ict_index  \\\n 96713    0.0    0.0  123.0      127.8       101.2    14.0       24.5   \n \n        points_per_match  price_per_player  \n 96713          1.698113          8.490566  \n \n [1 rows x 22 columns],\n                      name       team position  total_points  minutes  \\\n 96698  Dominik Szoboszlai  Liverpool      MID          50.0   1055.0   \n \n        goals_scored  assists  clean_sheets  goals_conceded  penalties_saved  \\\n 96698           1.0      4.0           5.0             9.0              0.0   \n \n        ...  red_cards  saves  bonus    bps  influence  creativity  threat  \\\n 96698  ...        0.0    0.0    5.0  236.0      220.4       410.5   134.0   \n \n        ict_index  points_per_match  price_per_player  \n 96698       76.5          4.265403          8.530806  \n \n [1 rows x 22 columns],\n                   name         team position  total_points  minutes  \\\n 96401  Dominic Solanke  Bournemouth      FWD          56.0   1068.0   \n \n        goals_scored  assists  clean_sheets  goals_conceded  penalties_saved  \\\n 96401           6.0      1.0           2.0            25.0              0.0   \n \n        ...  red_cards  saves  bonus    bps  influence  creativity  threat  \\\n 96401  ...        0.0    0.0    6.0  169.0      278.2       154.7   424.0   \n \n        ict_index  points_per_match  price_per_player  \n 96401       85.9          4.719101          8.426966  \n \n [1 rows x 22 columns],\n                 name         team position  total_points  minutes  \\\n 96369  Ollie Watkins  Aston Villa      FWD          80.0   1040.0   \n \n        goals_scored  assists  clean_sheets  goals_conceded  penalties_saved  \\\n 96369           6.0      8.0           2.0            17.0              0.0   \n \n        ...  red_cards  saves  bonus    bps  influence  creativity  threat  \\\n 96369  ...        0.0    0.0    9.0  268.0      348.4       240.3   515.0   \n \n        ict_index  points_per_match  price_per_player  \n 96369      110.4          6.923077          8.653846  \n \n [1 rows x 22 columns],\n                  name      team position  total_points  minutes  goals_scored  \\\n 96769  Erling Haaland  Man City      FWD          96.0   1024.0          13.0   \n \n        assists  clean_sheets  goals_conceded  penalties_saved  ...  red_cards  \\\n 96769      3.0           4.0            11.0              0.0  ...        0.0   \n \n        saves  bonus    bps  influence  creativity  threat  ict_index  \\\n 96769    0.0   14.0  375.0      526.4       171.6   662.0      136.2   \n \n        points_per_match  price_per_player  \n 96769            8.4375          8.789062  \n \n [1 rows x 22 columns]]"
     },
     "execution_count": 34,
     "metadata": {},
     "output_type": "execute_result"
    }
   ],
   "source": [
    "#On rajoute les joueurs à l'équipe\n",
    "selected_players.clear()\n",
    "selected_players = [find_best_player(df, 'GKP'),find_best_player(df, 'GKP'),find_best_player(df,'DEF'),find_best_player(df,'DEF'),find_best_player(df,'DEF'),find_best_player(df,'DEF'),find_best_player(df,'DEF'),find_best_player(df,'MID'),find_best_player(df,'MID'),find_best_player(df,'MID'),find_best_player(df,'MID'),find_best_player(df,'MID'),find_best_player(df,'FWD'),find_best_player(df,'FWD'),find_best_player(df,'FWD')]\n",
    "selected_players"
   ],
   "metadata": {
    "collapsed": false
   }
  }
 ],
 "metadata": {
  "kernelspec": {
   "display_name": "Python 3",
   "language": "python",
   "name": "python3"
  },
  "language_info": {
   "codemirror_mode": {
    "name": "ipython",
    "version": 2
   },
   "file_extension": ".py",
   "mimetype": "text/x-python",
   "name": "python",
   "nbconvert_exporter": "python",
   "pygments_lexer": "ipython2",
   "version": "2.7.6"
  }
 },
 "nbformat": 4,
 "nbformat_minor": 0
}
