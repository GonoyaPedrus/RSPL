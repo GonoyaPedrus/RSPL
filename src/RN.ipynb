{
 "cells": [
  {
   "cell_type": "code",
   "execution_count": 318,
   "id": "initial_id",
   "metadata": {
    "collapsed": true,
    "ExecuteTime": {
     "end_time": "2024-03-03T15:08:04.768049Z",
     "start_time": "2024-03-03T15:08:04.513386Z"
    }
   },
   "outputs": [],
   "source": [
    "import pandas as pd\n",
    "from sklearn.model_selection import train_test_split\n",
    "from sklearn.preprocessing import StandardScaler\n",
    "from sklearn.metrics import mean_squared_error, r2_score, mean_absolute_error\n",
    "from tensorflow.keras.models import Sequential\n",
    "from tensorflow.keras.layers import Dense, Dropout\n",
    "from tensorflow.keras.callbacks import EarlyStopping\n",
    "import matplotlib.pyplot as plt\n",
    "import tensorflow as tf\n",
    "import numpy as np\n",
    "import random\n"
   ]
  },
  {
   "cell_type": "code",
   "execution_count": 319,
   "outputs": [],
   "source": [
    "# Chargement des données\n",
    "file_path = \"/Users/melusinecaillard/RSPL/data/cleaned_merged_seasons.csv\"\n",
    "data = pd.read_csv(file_path, low_memory=False)"
   ],
   "metadata": {
    "collapsed": false,
    "ExecuteTime": {
     "end_time": "2024-03-03T15:08:06.504256Z",
     "start_time": "2024-03-03T15:08:04.522854Z"
    }
   },
   "id": "ca67ec1440e4a015"
  },
  {
   "cell_type": "markdown",
   "source": [],
   "metadata": {
    "collapsed": false
   },
   "id": "3513850512d778b8"
  },
  {
   "cell_type": "code",
   "execution_count": 320,
   "outputs": [],
   "source": [
    "# Ingénierie des caractéristiques\n",
    "selected_features = ['name', 'position', 'team_x', 'value', 'goals_scored', 'assists', 'clean_sheets','total_points', 'yellow_cards', 'red_cards']  \n",
    "X = data[selected_features]\n",
    "y = data['total_points']"
   ],
   "metadata": {
    "collapsed": false,
    "ExecuteTime": {
     "end_time": "2024-03-03T15:08:06.504581Z",
     "start_time": "2024-03-03T15:08:05.605521Z"
    }
   },
   "id": "4a34421302f72327"
  },
  {
   "cell_type": "code",
   "execution_count": 321,
   "outputs": [],
   "source": [
    "# Division des données en ensembles d'entraînement et de test\n",
    "X_train, X_test, y_train, y_test = train_test_split(X, y, test_size=0.2, random_state=42)"
   ],
   "metadata": {
    "collapsed": false,
    "ExecuteTime": {
     "end_time": "2024-03-03T15:08:06.504705Z",
     "start_time": "2024-03-03T15:08:05.685364Z"
    }
   },
   "id": "dd01c22bc73933b7"
  },
  {
   "cell_type": "code",
   "execution_count": 322,
   "outputs": [],
   "source": [
    "# Sélectionner uniquement les colonnes numériques\n",
    "numeric_columns = X_train.select_dtypes(include=['number']).columns\n",
    "\n",
    "# Normaliser uniquement les colonnes numériques\n",
    "scaler = StandardScaler()\n",
    "X_train_scaled = scaler.fit_transform(X_train[numeric_columns])\n",
    "X_test_scaled = scaler.transform(X_test[numeric_columns])"
   ],
   "metadata": {
    "collapsed": false,
    "ExecuteTime": {
     "end_time": "2024-03-03T15:08:06.504802Z",
     "start_time": "2024-03-03T15:08:05.768155Z"
    }
   },
   "id": "edf7cec03d639e91"
  },
  {
   "cell_type": "code",
   "execution_count": 323,
   "outputs": [],
   "source": [
    "# Création du modèle\n",
    "model = Sequential()\n",
    "model.add(Dense(128, activation='relu', input_shape=(X_train_scaled.shape[1],)))\n",
    "model.add(Dropout(0.5))\n",
    "model.add(Dense(64, activation='relu'))\n",
    "model.add(Dropout(0.5))\n",
    "model.add(Dense(1, activation='linear'))"
   ],
   "metadata": {
    "collapsed": false,
    "ExecuteTime": {
     "end_time": "2024-03-03T15:08:06.507920Z",
     "start_time": "2024-03-03T15:08:05.851637Z"
    }
   },
   "id": "be080d1bb8df8d77"
  },
  {
   "cell_type": "code",
   "execution_count": 324,
   "outputs": [
    {
     "name": "stdout",
     "output_type": "stream",
     "text": [
      "Model: \"sequential_2\"\n",
      "_________________________________________________________________\n",
      " Layer (type)                Output Shape              Param #   \n",
      "=================================================================\n",
      " dense_6 (Dense)             (None, 128)               1024      \n",
      "                                                                 \n",
      " dropout_4 (Dropout)         (None, 128)               0         \n",
      "                                                                 \n",
      " dense_7 (Dense)             (None, 64)                8256      \n",
      "                                                                 \n",
      " dropout_5 (Dropout)         (None, 64)                0         \n",
      "                                                                 \n",
      " dense_8 (Dense)             (None, 1)                 65        \n",
      "                                                                 \n",
      "=================================================================\n",
      "Total params: 9345 (36.50 KB)\n",
      "Trainable params: 9345 (36.50 KB)\n",
      "Non-trainable params: 0 (0.00 Byte)\n",
      "_________________________________________________________________\n"
     ]
    }
   ],
   "source": [
    "# Afficher le sommaire du modèle pour trouver le nom de la dernière couche convolutive\n",
    "model.summary()"
   ],
   "metadata": {
    "collapsed": false,
    "ExecuteTime": {
     "end_time": "2024-03-03T15:08:06.511936Z",
     "start_time": "2024-03-03T15:08:06.297589Z"
    }
   },
   "id": "500bea489ba9e6eb"
  },
  {
   "cell_type": "code",
   "execution_count": 325,
   "outputs": [],
   "source": [
    "# Compilation du modèle\n",
    "model.compile(optimizer='adam', loss='mean_squared_error', metrics=['mae'])"
   ],
   "metadata": {
    "collapsed": false,
    "ExecuteTime": {
     "end_time": "2024-03-03T15:08:06.512223Z",
     "start_time": "2024-03-03T15:08:06.379561Z"
    }
   },
   "id": "829274923a5884b"
  },
  {
   "cell_type": "code",
   "execution_count": 326,
   "outputs": [],
   "source": [
    "# Arrêt précoce pour éviter le surapprentissage\n",
    "early_stopping = EarlyStopping(monitor='val_loss', patience=5, restore_best_weights=True)"
   ],
   "metadata": {
    "collapsed": false,
    "ExecuteTime": {
     "end_time": "2024-03-03T15:08:06.512439Z",
     "start_time": "2024-03-03T15:08:06.416455Z"
    }
   },
   "id": "dc12f921ad20b083"
  },
  {
   "cell_type": "code",
   "execution_count": 327,
   "outputs": [
    {
     "name": "stdout",
     "output_type": "stream",
     "text": [
      "Epoch 1/100\n",
      "1924/1924 [==============================] - 14s 6ms/step - loss: 0.6660 - mae: 0.3826 - val_loss: 0.0510 - val_mae: 0.1115\n",
      "Epoch 2/100\n",
      "1924/1924 [==============================] - 9s 5ms/step - loss: 0.3713 - mae: 0.2885 - val_loss: 0.0378 - val_mae: 0.0998\n",
      "Epoch 3/100\n",
      "1924/1924 [==============================] - 11s 6ms/step - loss: 0.3238 - mae: 0.2836 - val_loss: 0.0103 - val_mae: 0.0625\n",
      "Epoch 4/100\n",
      "1924/1924 [==============================] - 9s 5ms/step - loss: 0.3045 - mae: 0.2841 - val_loss: 0.0239 - val_mae: 0.0749\n",
      "Epoch 5/100\n",
      "1924/1924 [==============================] - 10s 5ms/step - loss: 0.2986 - mae: 0.2863 - val_loss: 0.0201 - val_mae: 0.0719\n",
      "Epoch 6/100\n",
      "1924/1924 [==============================] - 9s 5ms/step - loss: 0.2930 - mae: 0.2853 - val_loss: 0.0093 - val_mae: 0.0642\n",
      "Epoch 7/100\n",
      "1924/1924 [==============================] - 9s 5ms/step - loss: 0.2786 - mae: 0.2851 - val_loss: 0.0065 - val_mae: 0.0377\n",
      "Epoch 8/100\n",
      "1924/1924 [==============================] - 10s 5ms/step - loss: 0.2745 - mae: 0.2833 - val_loss: 0.0255 - val_mae: 0.0757\n",
      "Epoch 9/100\n",
      "1924/1924 [==============================] - 9s 5ms/step - loss: 0.2835 - mae: 0.2861 - val_loss: 0.0072 - val_mae: 0.0590\n",
      "Epoch 10/100\n",
      "1924/1924 [==============================] - 11s 6ms/step - loss: 0.2768 - mae: 0.2819 - val_loss: 0.0373 - val_mae: 0.0804\n",
      "Epoch 11/100\n",
      "1924/1924 [==============================] - 9s 5ms/step - loss: 0.2835 - mae: 0.2857 - val_loss: 0.0049 - val_mae: 0.0601\n",
      "Epoch 12/100\n",
      "1924/1924 [==============================] - 9s 5ms/step - loss: 0.2800 - mae: 0.2854 - val_loss: 0.0330 - val_mae: 0.0895\n",
      "Epoch 13/100\n",
      "1924/1924 [==============================] - 9s 5ms/step - loss: 0.2787 - mae: 0.2848 - val_loss: 0.0091 - val_mae: 0.0600\n",
      "Epoch 14/100\n",
      "1924/1924 [==============================] - 12s 6ms/step - loss: 0.2618 - mae: 0.2834 - val_loss: 0.0195 - val_mae: 0.0633\n",
      "Epoch 15/100\n",
      "1924/1924 [==============================] - 10s 5ms/step - loss: 0.2775 - mae: 0.2855 - val_loss: 0.0809 - val_mae: 0.1487\n",
      "Epoch 16/100\n",
      "1924/1924 [==============================] - 10s 5ms/step - loss: 0.2788 - mae: 0.2846 - val_loss: 0.0200 - val_mae: 0.0855\n"
     ]
    }
   ],
   "source": [
    "# Entraînement du modèle\n",
    "history = model.fit(X_train_scaled, y_train, epochs=100, batch_size=32, validation_split=0.2, callbacks=[early_stopping], verbose=1)"
   ],
   "metadata": {
    "collapsed": false,
    "ExecuteTime": {
     "end_time": "2024-03-03T15:10:47.198044Z",
     "start_time": "2024-03-03T15:08:06.438332Z"
    }
   },
   "id": "a82e90b4d95e8124"
  },
  {
   "cell_type": "code",
   "execution_count": 328,
   "outputs": [
    {
     "name": "stdout",
     "output_type": "stream",
     "text": [
      "602/602 [==============================] - 2s 3ms/step\n"
     ]
    }
   ],
   "source": [
    "# Évaluation du modèle sur l'ensemble de test\n",
    "y_pred = model.predict(X_test_scaled)"
   ],
   "metadata": {
    "collapsed": false,
    "ExecuteTime": {
     "end_time": "2024-03-03T15:10:49.839542Z",
     "start_time": "2024-03-03T15:10:47.211137Z"
    }
   },
   "id": "8f419717d2584969"
  },
  {
   "cell_type": "code",
   "execution_count": 329,
   "outputs": [],
   "source": [
    "# Calcul des métriques d'évaluation\n",
    "mse = mean_squared_error(y_test, y_pred)\n",
    "r2 = r2_score(y_test, y_pred)\n",
    "mae = mean_absolute_error(y_test, y_pred)"
   ],
   "metadata": {
    "collapsed": false,
    "ExecuteTime": {
     "end_time": "2024-03-03T15:10:49.884477Z",
     "start_time": "2024-03-03T15:10:49.848828Z"
    }
   },
   "id": "79e5b5cc63500ca"
  },
  {
   "cell_type": "code",
   "execution_count": 330,
   "outputs": [
    {
     "name": "stdout",
     "output_type": "stream",
     "text": [
      "Mean Squared Error: 0.005291559691835079\n",
      "R-squared: 0.9991642163003683\n",
      "Mean Absolute Error: 0.06010723220616551\n"
     ]
    }
   ],
   "source": [
    "print(\"Mean Squared Error:\", mse)\n",
    "print(\"R-squared:\", r2)\n",
    "print(\"Mean Absolute Error:\", mae)"
   ],
   "metadata": {
    "collapsed": false,
    "ExecuteTime": {
     "end_time": "2024-03-03T15:10:49.886455Z",
     "start_time": "2024-03-03T15:10:49.870268Z"
    }
   },
   "id": "7238046d4a00f052"
  },
  {
   "cell_type": "code",
   "execution_count": 331,
   "outputs": [
    {
     "data": {
      "text/plain": "<Figure size 1000x600 with 1 Axes>",
      "image/png": "[encoded data removed]"
     },
     "metadata": {},
     "output_type": "display_data"
    }
   ],
   "source": [
    "# Tracer les valeurs réelles par rapport aux valeurs prédites\n",
    "plt.figure(figsize=(10, 6))\n",
    "plt.scatter(y_test, y_pred, color='blue', label='Valeurs prédites vs réelles')\n",
    "plt.plot([y_test.min(), y_test.max()], [y_test.min(), y_test.max()], color='red', linestyle='--', label='Ligne de référence')\n",
    "plt.xlabel('Valeurs réelles')\n",
    "plt.ylabel('Valeurs prédites')\n",
    "plt.title('Comparaison des valeurs prédites aux valeurs réelles')\n",
    "plt.legend()\n",
    "plt.show()"
   ],
   "metadata": {
    "collapsed": false,
    "ExecuteTime": {
     "end_time": "2024-03-03T15:10:50.834897Z",
     "start_time": "2024-03-03T15:10:49.907781Z"
    }
   },
   "id": "1783e99437b6ac81"
  },
  {
   "cell_type": "code",
   "execution_count": 332,
   "outputs": [],
   "source": [
    "# Calculer les résidus\n",
    "residuals = y_test.values.flatten() - y_pred.flatten()"
   ],
   "metadata": {
    "collapsed": false,
    "ExecuteTime": {
     "end_time": "2024-03-03T15:10:50.866201Z",
     "start_time": "2024-03-03T15:10:50.837510Z"
    }
   },
   "id": "43d8cccf1116980b"
  },
  {
   "cell_type": "code",
   "execution_count": 333,
   "outputs": [
    {
     "data": {
      "text/plain": "<Figure size 640x480 with 1 Axes>",
      "image/png": "[encoded data removed]"
     },
     "metadata": {},
     "output_type": "display_data"
    }
   ],
   "source": [
    "# Nuage de points entre les valeurs prédites et les résidus\n",
    "plt.scatter(y_pred.flatten(), residuals)\n",
    "plt.axhline(y=0, color='r', linestyle='-')\n",
    "plt.title('Nuage de points des résidus')\n",
    "plt.xlabel('Valeurs prédites')\n",
    "plt.ylabel('Résidus')\n",
    "plt.show()"
   ],
   "metadata": {
    "collapsed": false,
    "ExecuteTime": {
     "end_time": "2024-03-03T15:10:51.309977Z",
     "start_time": "2024-03-03T15:10:50.849066Z"
    }
   },
   "id": "f4056d22bb6ca518"
  },
  {
   "cell_type": "code",
   "execution_count": 334,
   "outputs": [
    {
     "data": {
      "text/plain": "<Figure size 640x480 with 1 Axes>",
      "image/png": "[encoded data removed]"
     },
     "metadata": {},
     "output_type": "display_data"
    }
   ],
   "source": [
    "# Histogramme des résidus\n",
    "plt.hist(residuals, bins=30, edgecolor='k')\n",
    "plt.title('Histogramme des résidus')\n",
    "plt.xlabel('Résidus')\n",
    "plt.ylabel('Fréquence')\n",
    "plt.show()"
   ],
   "metadata": {
    "collapsed": false,
    "ExecuteTime": {
     "end_time": "2024-03-03T15:10:51.769655Z",
     "start_time": "2024-03-03T15:10:51.313680Z"
    }
   },
   "id": "2fbbd74f1086ed24"
  },
  {
   "cell_type": "markdown",
   "source": [
    "JOUEUR"
   ],
   "metadata": {
    "collapsed": false
   },
   "id": "7a2f1695e147c1bc"
  },
  {
   "cell_type": "code",
   "execution_count": 335,
   "outputs": [],
   "source": [
    "def predict_player_performance(model, player_name, data):\n",
    "    # Filtrer les données pour obtenir les caractéristiques du joueur spécifié\n",
    "    player_data = data[data['name'] == player_name]\n",
    "    \n",
    "    # Sélectionner uniquement les caractéristiques utilisées lors de l'entraînement\n",
    "    selected_features = [ 'value', 'goals_scored', 'assists', 'clean_sheets', 'total_points', 'yellow_cards', 'red_cards']\n",
    "    player_data = player_data[selected_features]\n",
    "\n",
    "    # Effectuer la prédiction\n",
    "    predicted_performance = model.predict(player_data)\n",
    "    \n",
    "    # Calculer la moyenne des performances prédites\n",
    "    average_performance = np.mean(predicted_performance)\n",
    "    \n",
    "    return average_performance\n",
    "    \n"
   ],
   "metadata": {
    "collapsed": false,
    "ExecuteTime": {
     "end_time": "2024-03-03T15:10:51.801535Z",
     "start_time": "2024-03-03T15:10:51.773906Z"
    }
   },
   "id": "b0a7d1d7d4e2b286"
  },
  {
   "cell_type": "code",
   "execution_count": 384,
   "outputs": [
    {
     "name": "stdout",
     "output_type": "stream",
     "text": [
      "6/6 [==============================] - 0s 4ms/step\n",
      "Performances prédites (total_points) pour le joueur:  Kyle Walker 7.187074\n"
     ]
    }
   ],
   "source": [
    "# Nom du joueur à prédire\n",
    "player_name = 'Kyle Walker'\n",
    "\n",
    "# Prédiction des performances du joueur\n",
    "predicted_performance = predict_player_performance(model, player_name, data)\n",
    "\n",
    "print(\"Performances prédites (total_points) pour le joueur: \",player_name, predicted_performance)\n"
   ],
   "metadata": {
    "collapsed": false,
    "ExecuteTime": {
     "end_time": "2024-03-03T17:41:50.842495Z",
     "start_time": "2024-03-03T17:41:50.681174Z"
    }
   },
   "id": "c26204b9d4155291"
  },
  {
   "cell_type": "markdown",
   "source": [
    "EQUIPE"
   ],
   "metadata": {
    "collapsed": false
   },
   "id": "9c44e952938af4ec"
  },
  {
   "cell_type": "code",
   "execution_count": 337,
   "outputs": [],
   "source": [
    "import random"
   ],
   "metadata": {
    "collapsed": false,
    "ExecuteTime": {
     "end_time": "2024-03-03T15:10:52.133288Z",
     "start_time": "2024-03-03T15:10:52.048989Z"
    }
   },
   "id": "955f03dbf6c959a5"
  },
  {
   "cell_type": "code",
   "execution_count": 370,
   "outputs": [],
   "source": [
    "def select_random_players(data, position, num_players=100):\n",
    "    # Sélectionne aléatoirement num_players joueurs pour une position donnée\n",
    "    players = data[data['position'] == position]['name'].unique()\n",
    "    return random.sample(list(players), min(num_players, len(players)))\n",
    "\n",
    "def select_random_players_by_position(data):\n",
    "    # Sélectionne aléatoirement 50 joueurs pour chaque position et les stocke dans des listes distinctes\n",
    "    goalkeepers = select_random_players(data, 'GK')\n",
    "    defenders = select_random_players(data, 'DEF')\n",
    "    midfielders = select_random_players(data, 'MID')\n",
    "    forwards = select_random_players(data, 'FWD')\n",
    "    return goalkeepers, defenders, midfielders, forwards\n",
    "\n",
    "# Appeler la fonction pour sélectionner les joueurs aléatoires par position\n",
    "goalkeepers, defenders, midfielders, forwards = select_random_players_by_position(data)\n",
    "preselected_player = goalkeepers + defenders + midfielders + forwards"
   ],
   "metadata": {
    "collapsed": false,
    "ExecuteTime": {
     "end_time": "2024-03-03T16:32:42.854962Z",
     "start_time": "2024-03-03T16:32:42.552284Z"
    }
   },
   "id": "585860c79947f3d1"
  },
  {
   "cell_type": "code",
   "execution_count": 371,
   "outputs": [
    {
     "name": "stdout",
     "output_type": "stream",
     "text": [
      "['Loris Karius', 'Matt Macey', 'Joe Hart', 'Kristoffer Klaesson', 'Mark Gillespie', 'Daniel Bachmann', 'Roberto Jimenez Gago', 'Caoimhin Kelleher', 'Lukasz Fabianski', 'Michael McGovern', 'Remi Matthews', 'Aaron Ramsdale', 'Keylor Navas', 'Krisztián Hegyi', 'Kasper Schmeichel', 'Filip Marschall', 'Viljami Sinisalo', 'Michael Verrips', 'Darren Randolph', 'Kamil Miazek', 'Elia Caprile', 'Sam Waller', 'George Shelvey', 'Brice Samba', 'David Martin', 'Emiliano Martínez Romero', 'Alex Smithies', 'Norberto Murara Neto', 'Claudio Bravo', 'Paulo Gazzaniga', 'Simon Moore', 'Lee Grant', 'Brandon Austin', 'George Wickens', 'Paulo Gazzaniga Farias', 'Vicente Guaita', 'Marcus Bettinelli', 'Sergio Romero', 'Álvaro Fernández', 'Ørjan Nyland', 'Jed Steer', 'David Raya Martin', 'Ellery Balcombe', 'Alisson Ramses Becker', 'Zack Steffen', 'Arthur Okonkwo', 'Joseph Anang', 'Mark Travers', 'Jonas Lössl', 'Dean Henderson', 'Martin Dubravka', 'Bernd Leno', 'James Storer', 'Will Norris', 'Rúnar Alex Rúnarsson', 'Owen Goodman', 'Christian Walton', 'Karl Darlow', 'Oliwier Zych', 'Willy Caballero', 'Rui Pedro dos Santos Patrício', 'Kepa Arrizabalaga', 'Jason Steele', 'Cameron Plain', 'Marek Rodák', 'Eldin Jakupovic', 'Joseph Whitworth', 'Kjell Scherpen', 'Daniel Bentley', 'Adrián San Miguel del Castillo', 'Matthew Cox', 'Mathew Ryan', 'David Button', 'Nick Pope', 'Edouard Mendy', 'David de Gea', 'Harvey Davies', 'David De Gea Quintana', 'Wes Foderingham', 'Nathan Trott', 'Matija Sarkic', 'Pierluigi Gollini', 'Tim Krul', 'Emiliano Martínez', 'John Ruddy', 'Sam Johnstone', 'João Virgínia', 'Stefan Ortega Moreno', 'Alex McCarthy', 'Jackson Smith', 'Ederson Santana de Moraes', 'Wayne Hennessey', 'Illan Meslier', 'Robert Elliot', 'Jordan Smith', 'Karlo Ziger', 'Scott Carson', 'Francisco Casilla Cortés', 'Matej Kovár', 'Will Dennis']\n"
     ]
    }
   ],
   "source": [
    "print(goalkeepers)"
   ],
   "metadata": {
    "collapsed": false,
    "ExecuteTime": {
     "end_time": "2024-03-03T16:32:48.120535Z",
     "start_time": "2024-03-03T16:32:48.045006Z"
    }
   },
   "id": "802938eca390d595"
  },
  {
   "cell_type": "code",
   "execution_count": 372,
   "outputs": [
    {
     "name": "stdout",
     "output_type": "stream",
     "text": [
      "4/4 [==============================] - 0s 13ms/step\n",
      "3/3 [==============================] - 0s 21ms/step\n",
      "5/5 [==============================] - 0s 4ms/step\n",
      "3/3 [==============================] - 0s 8ms/step\n",
      "3/3 [==============================] - 0s 7ms/step\n",
      "2/2 [==============================] - 0s 12ms/step\n",
      "2/2 [==============================] - 1s 22ms/step\n",
      "4/4 [==============================] - 1s 50ms/step\n",
      "6/6 [==============================] - 1s 25ms/step\n",
      "2/2 [==============================] - 1s 32ms/step\n",
      "3/3 [==============================] - 1s 59ms/step\n",
      "5/5 [==============================] - 1s 107ms/step\n",
      "1/1 [==============================] - 1s 679ms/step\n",
      "1/1 [==============================] - 1s 518ms/step\n",
      "6/6 [==============================] - 0s 6ms/step\n",
      "2/2 [==============================] - 0s 30ms/step\n",
      "2/2 [==============================] - 1s 26ms/step\n",
      "2/2 [==============================] - 1s 62ms/step\n",
      "6/6 [==============================] - 1s 14ms/step\n",
      "2/2 [==============================] - 1s 9ms/step\n",
      "2/2 [==============================] - 1s 21ms/step\n",
      "1/1 [==============================] - 0s 289ms/step\n",
      "1/1 [==============================] - 1s 514ms/step\n",
      "2/2 [==============================] - 1s 22ms/step\n",
      "2/2 [==============================] - 0s 17ms/step\n",
      "2/2 [==============================] - 1s 29ms/step\n",
      "2/2 [==============================] - 1s 34ms/step\n",
      "2/2 [==============================] - 1s 41ms/step\n",
      "4/4 [==============================] - 1s 6ms/step\n",
      "4/4 [==============================] - 1s 14ms/step\n",
      "2/2 [==============================] - 1s 33ms/step\n",
      "4/4 [==============================] - 1s 20ms/step\n",
      "2/2 [==============================] - 1s 150ms/step\n",
      "1/1 [==============================] - 0s 381ms/step\n",
      "2/2 [==============================] - 1s 8ms/step\n",
      "4/4 [==============================] - 1s 7ms/step\n",
      "4/4 [==============================] - 1s 13ms/step\n",
      "4/4 [==============================] - 1s 21ms/step\n",
      "2/2 [==============================] - 1s 5ms/step\n",
      "2/2 [==============================] - 0s 27ms/step\n",
      "3/3 [==============================] - 0s 16ms/step\n",
      "3/3 [==============================] - 1s 40ms/step\n",
      "3/3 [==============================] - 1s 39ms/step\n",
      "4/4 [==============================] - 1s 52ms/step\n",
      "4/4 [==============================] - 1s 29ms/step\n",
      "2/2 [==============================] - 1s 19ms/step\n",
      "1/1 [==============================] - 1s 641ms/step\n",
      "2/2 [==============================] - 1s 67ms/step\n",
      "3/3 [==============================] - 0s 45ms/step\n",
      "4/4 [==============================] - 0s 37ms/step\n",
      "4/4 [==============================] - 0s 11ms/step\n",
      "4/4 [==============================] - 0s 12ms/step\n",
      "1/1 [==============================] - 1s 762ms/step\n",
      "3/3 [==============================] - 1s 13ms/step\n",
      "3/3 [==============================] - 1s 34ms/step\n",
      "1/1 [==============================] - 1s 760ms/step\n",
      "2/2 [==============================] - 1s 38ms/step\n",
      "5/5 [==============================] - 1s 16ms/step\n",
      "1/1 [==============================] - 0s 341ms/step\n",
      "6/6 [==============================] - 1s 31ms/step\n",
      "3/3 [==============================] - 1s 69ms/step\n",
      "4/4 [==============================] - 1s 16ms/step\n",
      "4/4 [==============================] - 1s 8ms/step\n",
      "1/1 [==============================] - 1s 750ms/step\n",
      "3/3 [==============================] - 1s 24ms/step\n",
      "5/5 [==============================] - 1s 10ms/step\n",
      "2/2 [==============================] - 1s 28ms/step\n",
      "3/3 [==============================] - 1s 9ms/step\n",
      "1/1 [==============================] - 1s 645ms/step\n",
      "6/6 [==============================] - 1s 13ms/step\n",
      "2/2 [==============================] - 1s 91ms/step\n",
      "4/4 [==============================] - 1s 15ms/step\n",
      "2/2 [==============================] - 1s 88ms/step\n",
      "6/6 [==============================] - 1s 22ms/step\n",
      "4/4 [==============================] - 1s 49ms/step\n",
      "5/5 [==============================] - 1s 8ms/step\n",
      "2/2 [==============================] - 0s 21ms/step\n",
      "2/2 [==============================] - 1s 75ms/step\n",
      "2/2 [==============================] - 1s 14ms/step\n",
      "2/2 [==============================] - 1s 59ms/step\n",
      "2/2 [==============================] - 1s 21ms/step\n",
      "2/2 [==============================] - 1s 26ms/step\n",
      "3/3 [==============================] - 1s 16ms/step\n",
      "3/3 [==============================] - 1s 42ms/step\n",
      "3/3 [==============================] - 1s 12ms/step\n",
      "3/3 [==============================] - 1s 42ms/step\n",
      "3/3 [==============================] - 1s 39ms/step\n",
      "2/2 [==============================] - 0s 6ms/step\n",
      "6/6 [==============================] - 1s 12ms/step\n",
      "2/2 [==============================] - 1s 73ms/step\n",
      "5/5 [==============================] - 1s 39ms/step\n",
      "6/6 [==============================] - 1s 22ms/step\n",
      "4/4 [==============================] - 1s 12ms/step\n",
      "3/3 [==============================] - 1s 60ms/step\n",
      "1/1 [==============================] - 0s 422ms/step\n",
      "1/1 [==============================] - 1s 706ms/step\n",
      "4/4 [==============================] - 1s 16ms/step\n",
      "3/3 [==============================] - 1s 15ms/step\n",
      "2/2 [==============================] - 1s 85ms/step\n",
      "2/2 [==============================] - 1s 37ms/step\n",
      "2/2 [==============================] - 1s 26ms/step\n",
      "2/2 [==============================] - 1s 34ms/step\n",
      "2/2 [==============================] - 1s 13ms/step\n",
      "6/6 [==============================] - 1s 43ms/step\n",
      "2/2 [==============================] - 1s 16ms/step\n",
      "5/5 [==============================] - 1s 23ms/step\n",
      "4/4 [==============================] - 1s 45ms/step\n",
      "6/6 [==============================] - 1s 10ms/step\n",
      "1/1 [==============================] - 1s 825ms/step\n",
      "4/4 [==============================] - 1s 9ms/step\n",
      "5/5 [==============================] - 1s 44ms/step\n",
      "6/6 [==============================] - 1s 14ms/step\n",
      "4/4 [==============================] - 1s 60ms/step\n",
      "4/4 [==============================] - 1s 64ms/step\n",
      "1/1 [==============================] - 0s 440ms/step\n",
      "2/2 [==============================] - 1s 71ms/step\n",
      "2/2 [==============================] - 1s 120ms/step\n",
      "2/2 [==============================] - 1s 41ms/step\n",
      "3/3 [==============================] - 1s 21ms/step\n",
      "2/2 [==============================] - 1s 34ms/step\n",
      "4/4 [==============================] - 1s 11ms/step\n",
      "1/1 [==============================] - 0s 423ms/step\n",
      "4/4 [==============================] - 1s 13ms/step\n",
      "5/5 [==============================] - 1s 34ms/step\n",
      "1/1 [==============================] - 0s 458ms/step\n",
      "2/2 [==============================] - 1s 22ms/step\n",
      "4/4 [==============================] - 1s 7ms/step\n",
      "6/6 [==============================] - 1s 17ms/step\n",
      "1/1 [==============================] - 0s 456ms/step\n",
      "2/2 [==============================] - 0s 37ms/step\n",
      "4/4 [==============================] - 1s 63ms/step\n",
      "3/3 [==============================] - 1s 28ms/step\n",
      "2/2 [==============================] - 1s 9ms/step\n",
      "3/3 [==============================] - 1s 17ms/step\n",
      "3/3 [==============================] - 1s 20ms/step\n",
      "2/2 [==============================] - 1s 12ms/step\n",
      "4/4 [==============================] - 1s 13ms/step\n",
      "5/5 [==============================] - 1s 11ms/step\n",
      "2/2 [==============================] - 1s 20ms/step\n",
      "4/4 [==============================] - 1s 21ms/step\n",
      "1/1 [==============================] - 1s 638ms/step\n",
      "2/2 [==============================] - 1s 36ms/step\n",
      "4/4 [==============================] - 1s 9ms/step\n",
      "4/4 [==============================] - 1s 23ms/step\n",
      "4/4 [==============================] - 1s 10ms/step\n",
      "3/3 [==============================] - 1s 16ms/step\n",
      "9/9 [==============================] - 1s 12ms/step\n",
      "4/4 [==============================] - 1s 22ms/step\n",
      "1/1 [==============================] - 1s 956ms/step\n",
      "2/2 [==============================] - 1s 24ms/step\n",
      "2/2 [==============================] - 1s 15ms/step\n",
      "3/3 [==============================] - 1s 9ms/step\n",
      "2/2 [==============================] - 1s 9ms/step\n",
      "5/5 [==============================] - 1s 24ms/step\n",
      "3/3 [==============================] - 1s 37ms/step\n",
      "3/3 [==============================] - 0s 17ms/step\n",
      "4/4 [==============================] - 1s 16ms/step\n",
      "3/3 [==============================] - 1s 25ms/step\n",
      "4/4 [==============================] - 1s 32ms/step\n",
      "6/6 [==============================] - 1s 47ms/step\n",
      "1/1 [==============================] - 0s 467ms/step\n",
      "6/6 [==============================] - 1s 35ms/step\n",
      "3/3 [==============================] - 1s 32ms/step\n",
      "1/1 [==============================] - 1s 533ms/step\n",
      "2/2 [==============================] - 0s 216ms/step\n",
      "1/1 [==============================] - 1s 573ms/step\n",
      "4/4 [==============================] - 1s 21ms/step\n",
      "2/2 [==============================] - 1s 16ms/step\n",
      "6/6 [==============================] - 1s 18ms/step\n",
      "2/2 [==============================] - 1s 24ms/step\n",
      "1/1 [==============================] - 1s 555ms/step\n",
      "5/5 [==============================] - 1s 11ms/step\n",
      "2/2 [==============================] - 1s 17ms/step\n",
      "6/6 [==============================] - 1s 20ms/step\n",
      "6/6 [==============================] - 1s 28ms/step\n",
      "2/2 [==============================] - 1s 81ms/step\n",
      "5/5 [==============================] - 1s 70ms/step\n",
      "2/2 [==============================] - 1s 32ms/step\n",
      "3/3 [==============================] - 1s 39ms/step\n",
      "1/1 [==============================] - 0s 400ms/step\n",
      "1/1 [==============================] - 1s 906ms/step\n",
      "4/4 [==============================] - 1s 37ms/step\n",
      "3/3 [==============================] - 1s 22ms/step\n",
      "3/3 [==============================] - 1s 11ms/step\n",
      "4/4 [==============================] - 1s 15ms/step\n",
      "2/2 [==============================] - 2s 254ms/step\n",
      "3/3 [==============================] - 0s 11ms/step\n",
      "2/2 [==============================] - 1s 118ms/step\n",
      "1/1 [==============================] - 0s 211ms/step\n",
      "2/2 [==============================] - 1s 289ms/step\n",
      "2/2 [==============================] - 0s 15ms/step\n",
      "2/2 [==============================] - 0s 208ms/step\n",
      "4/4 [==============================] - 1s 19ms/step\n",
      "2/2 [==============================] - 0s 10ms/step\n",
      "3/3 [==============================] - 1s 33ms/step\n",
      "1/1 [==============================] - 1s 684ms/step\n",
      "2/2 [==============================] - 1s 46ms/step\n",
      "6/6 [==============================] - 1s 17ms/step\n",
      "4/4 [==============================] - 1s 14ms/step\n",
      "2/2 [==============================] - 1s 44ms/step\n",
      "3/3 [==============================] - 0s 15ms/step\n",
      "2/2 [==============================] - 1s 151ms/step\n",
      "6/6 [==============================] - 1s 7ms/step\n",
      "6/6 [==============================] - 1s 31ms/step\n",
      "6/6 [==============================] - 1s 46ms/step\n",
      "2/2 [==============================] - 1s 27ms/step\n",
      "5/5 [==============================] - 1s 6ms/step\n",
      "3/3 [==============================] - 1s 32ms/step\n",
      "3/3 [==============================] - 1s 43ms/step\n",
      "4/4 [==============================] - 1s 73ms/step\n",
      "2/2 [==============================] - 1s 36ms/step\n",
      "2/2 [==============================] - 1s 18ms/step\n",
      "4/4 [==============================] - 1s 16ms/step\n",
      "3/3 [==============================] - 1s 82ms/step\n",
      "2/2 [==============================] - 1s 11ms/step\n",
      "4/4 [==============================] - 1s 10ms/step\n",
      "6/6 [==============================] - 1s 20ms/step\n",
      "2/2 [==============================] - 1s 19ms/step\n",
      "1/1 [==============================] - 1s 797ms/step\n",
      "5/5 [==============================] - 1s 6ms/step\n",
      "1/1 [==============================] - 1s 508ms/step\n",
      "5/5 [==============================] - 1s 16ms/step\n",
      "3/3 [==============================] - 1s 30ms/step\n",
      "1/1 [==============================] - 1s 560ms/step\n",
      "2/2 [==============================] - 1s 17ms/step\n",
      "1/1 [==============================] - 1s 702ms/step\n",
      "1/1 [==============================] - 0s 274ms/step\n",
      "4/4 [==============================] - 1s 54ms/step\n",
      "1/1 [==============================] - 1s 512ms/step\n",
      "2/2 [==============================] - 1s 11ms/step\n",
      "2/2 [==============================] - 1s 9ms/step\n",
      "3/3 [==============================] - 1s 13ms/step\n",
      "1/1 [==============================] - 1s 575ms/step\n",
      "2/2 [==============================] - 1s 20ms/step\n",
      "3/3 [==============================] - 1s 50ms/step\n",
      "2/2 [==============================] - 0s 55ms/step\n",
      "4/4 [==============================] - 1s 6ms/step\n",
      "3/3 [==============================] - 1s 16ms/step\n",
      "1/1 [==============================] - 1s 542ms/step\n",
      "2/2 [==============================] - 1s 22ms/step\n",
      "1/1 [==============================] - 1s 701ms/step\n",
      "1/1 [==============================] - 1s 638ms/step\n",
      "3/3 [==============================] - 1s 18ms/step\n",
      "4/4 [==============================] - 1s 16ms/step\n",
      "1/1 [==============================] - 1s 824ms/step\n",
      "3/3 [==============================] - 1s 14ms/step\n",
      "2/2 [==============================] - 1s 8ms/step\n",
      "2/2 [==============================] - 1s 37ms/step\n",
      "1/1 [==============================] - 1s 776ms/step\n",
      "2/2 [==============================] - 1s 23ms/step\n",
      "2/2 [==============================] - 1s 14ms/step\n",
      "2/2 [==============================] - 1s 23ms/step\n",
      "1/1 [==============================] - 1s 662ms/step\n",
      "1/1 [==============================] - 1s 734ms/step\n",
      "1/1 [==============================] - 1s 728ms/step\n",
      "4/4 [==============================] - 1s 17ms/step\n",
      "6/6 [==============================] - 1s 7ms/step\n",
      "1/1 [==============================] - 1s 671ms/step\n",
      "3/3 [==============================] - 1s 36ms/step\n",
      "4/4 [==============================] - 0s 21ms/step\n",
      "1/1 [==============================] - 1s 862ms/step\n",
      "1/1 [==============================] - 1s 523ms/step\n",
      "2/2 [==============================] - 1s 201ms/step\n",
      "4/4 [==============================] - 1s 9ms/step\n",
      "1/1 [==============================] - 1s 799ms/step\n",
      "4/4 [==============================] - 0s 21ms/step\n",
      "4/4 [==============================] - 1s 33ms/step\n",
      "4/4 [==============================] - 0s 11ms/step\n",
      "2/2 [==============================] - 1s 49ms/step\n",
      "2/2 [==============================] - 1s 19ms/step\n",
      "3/3 [==============================] - 0s 8ms/step\n",
      "3/3 [==============================] - 1s 64ms/step\n",
      "3/3 [==============================] - 1s 15ms/step\n",
      "6/6 [==============================] - 1s 22ms/step\n",
      "5/5 [==============================] - 1s 74ms/step\n",
      "3/3 [==============================] - 1s 11ms/step\n",
      "3/3 [==============================] - 1s 20ms/step\n",
      "4/4 [==============================] - 1s 76ms/step\n",
      "2/2 [==============================] - 1s 31ms/step\n",
      "2/2 [==============================] - 1s 14ms/step\n",
      "2/2 [==============================] - 1s 187ms/step\n",
      "2/2 [==============================] - 1s 100ms/step\n",
      "5/5 [==============================] - 1s 7ms/step\n",
      "1/1 [==============================] - 1s 516ms/step\n",
      "2/2 [==============================] - 0s 19ms/step\n",
      "1/1 [==============================] - 1s 563ms/step\n",
      "5/5 [==============================] - 1s 7ms/step\n",
      "4/4 [==============================] - 1s 27ms/step\n",
      "2/2 [==============================] - 1s 43ms/step\n",
      "2/2 [==============================] - 1s 35ms/step\n",
      "4/4 [==============================] - 1s 10ms/step\n",
      "3/3 [==============================] - 1s 67ms/step\n",
      "1/1 [==============================] - 0s 473ms/step\n",
      "6/6 [==============================] - 1s 15ms/step\n",
      "4/4 [==============================] - 0s 14ms/step\n",
      "2/2 [==============================] - 1s 13ms/step\n",
      "1/1 [==============================] - 0s 489ms/step\n",
      "4/4 [==============================] - 1s 31ms/step\n",
      "2/2 [==============================] - 1s 7ms/step\n",
      "2/2 [==============================] - 1s 161ms/step\n",
      "1/1 [==============================] - 1s 644ms/step\n",
      "2/2 [==============================] - 1s 22ms/step\n",
      "1/1 [==============================] - 0s 467ms/step\n",
      "2/2 [==============================] - 1s 30ms/step\n",
      "1/1 [==============================] - 1s 688ms/step\n",
      "2/2 [==============================] - 1s 24ms/step\n",
      "2/2 [==============================] - 1s 25ms/step\n",
      "2/2 [==============================] - 1s 7ms/step\n",
      "2/2 [==============================] - 1s 36ms/step\n",
      "6/6 [==============================] - 1s 53ms/step\n",
      "3/3 [==============================] - 1s 88ms/step\n",
      "1/1 [==============================] - 1s 660ms/step\n",
      "2/2 [==============================] - 1s 40ms/step\n",
      "2/2 [==============================] - 1s 44ms/step\n",
      "1/1 [==============================] - 1s 501ms/step\n",
      "2/2 [==============================] - 1s 48ms/step\n",
      "5/5 [==============================] - 1s 21ms/step\n",
      "2/2 [==============================] - 1s 16ms/step\n",
      "2/2 [==============================] - 1s 124ms/step\n",
      "3/3 [==============================] - 1s 15ms/step\n",
      "4/4 [==============================] - 1s 15ms/step\n",
      "3/3 [==============================] - 0s 10ms/step\n",
      "1/1 [==============================] - 1s 663ms/step\n",
      "6/6 [==============================] - 1s 15ms/step\n",
      "3/3 [==============================] - 1s 11ms/step\n",
      "4/4 [==============================] - 1s 21ms/step\n",
      "2/2 [==============================] - 1s 27ms/step\n",
      "2/2 [==============================] - 1s 20ms/step\n",
      "1/1 [==============================] - 1s 592ms/step\n",
      "3/3 [==============================] - 1s 84ms/step\n",
      "1/1 [==============================] - 0s 291ms/step\n",
      "1/1 [==============================] - 0s 453ms/step\n",
      "2/2 [==============================] - 1s 31ms/step\n",
      "2/2 [==============================] - 1s 19ms/step\n",
      "3/3 [==============================] - 1s 75ms/step\n",
      "2/2 [==============================] - 1s 79ms/step\n",
      "2/2 [==============================] - 1s 11ms/step\n",
      "1/1 [==============================] - 1s 698ms/step\n",
      "1/1 [==============================] - 1s 662ms/step\n",
      "1/1 [==============================] - 1s 730ms/step\n",
      "5/5 [==============================] - 1s 26ms/step\n",
      "4/4 [==============================] - 1s 41ms/step\n",
      "6/6 [==============================] - 1s 65ms/step\n",
      "1/1 [==============================] - 1s 775ms/step\n",
      "6/6 [==============================] - 1s 28ms/step\n",
      "1/1 [==============================] - 1s 601ms/step\n",
      "3/3 [==============================] - 1s 35ms/step\n",
      "2/2 [==============================] - 1s 11ms/step\n",
      "4/4 [==============================] - 1s 28ms/step\n",
      "1/1 [==============================] - 1s 830ms/step\n",
      "3/3 [==============================] - 1s 42ms/step\n",
      "4/4 [==============================] - 1s 9ms/step\n",
      "4/4 [==============================] - 1s 12ms/step\n",
      "3/3 [==============================] - 1s 7ms/step\n",
      "2/2 [==============================] - 1s 18ms/step\n",
      "2/2 [==============================] - 1s 22ms/step\n",
      "4/4 [==============================] - 1s 26ms/step\n",
      "2/2 [==============================] - 1s 30ms/step\n",
      "5/5 [==============================] - 1s 26ms/step\n",
      "5/5 [==============================] - 1s 8ms/step\n",
      "4/4 [==============================] - 1s 64ms/step\n",
      "2/2 [==============================] - 1s 169ms/step\n",
      "6/6 [==============================] - 1s 28ms/step\n",
      "1/1 [==============================] - 0s 467ms/step\n",
      "4/4 [==============================] - 1s 13ms/step\n",
      "6/6 [==============================] - 1s 33ms/step\n",
      "1/1 [==============================] - 1s 669ms/step\n",
      "1/1 [==============================] - 1s 560ms/step\n",
      "2/2 [==============================] - 1s 32ms/step\n",
      "2/2 [==============================] - 1s 24ms/step\n",
      "3/3 [==============================] - 1s 21ms/step\n",
      "4/4 [==============================] - 1s 60ms/step\n",
      "2/2 [==============================] - 1s 10ms/step\n",
      "4/4 [==============================] - 1s 57ms/step\n",
      "4/4 [==============================] - 1s 12ms/step\n",
      "2/2 [==============================] - 1s 71ms/step\n",
      "4/4 [==============================] - 1s 72ms/step\n",
      "5/5 [==============================] - 1s 52ms/step\n",
      "2/2 [==============================] - 0s 10ms/step\n",
      "4/4 [==============================] - 1s 27ms/step\n",
      "5/5 [==============================] - 1s 7ms/step\n",
      "3/3 [==============================] - 1s 17ms/step\n",
      "4/4 [==============================] - 1s 39ms/step\n",
      "1/1 [==============================] - 1s 757ms/step\n",
      "1/1 [==============================] - 1s 654ms/step\n",
      "2/2 [==============================] - 1s 141ms/step\n",
      "1/1 [==============================] - 1s 533ms/step\n",
      "1/1 [==============================] - 1s 541ms/step\n",
      "1/1 [==============================] - 1s 920ms/step\n",
      "4/4 [==============================] - 1s 16ms/step\n",
      "1/1 [==============================] - 1s 756ms/step\n",
      "2/2 [==============================] - 1s 19ms/step\n",
      "1/1 [==============================] - 1s 714ms/step\n",
      "2/2 [==============================] - 1s 39ms/step\n",
      "1/1 [==============================] - 1s 719ms/step\n",
      "1/1 [==============================] - 1s 694ms/step\n",
      "2/2 [==============================] - 1s 12ms/step\n",
      "2/2 [==============================] - 1s 25ms/step\n",
      "3/3 [==============================] - 1s 89ms/step\n",
      "2/2 [==============================] - 1s 12ms/step\n"
     ]
    }
   ],
   "source": [
    "def predict_performance_for_random_players(model, data, players_by_position):\n",
    "    # Effectue les prédictions de performance pour les joueurs sélectionnés aléatoirement par position\n",
    "    predicted_performances = {}\n",
    "    for position, players in players_by_position.items():\n",
    "        for player_name in players:\n",
    "            predicted_performance = predict_player_performance(model, player_name, data)\n",
    "            # Stocke la performance prédite dans un dictionnaire avec le nom du joueur comme clé\n",
    "            predicted_performances[player_name] = predicted_performance\n",
    "    return predicted_performances\n",
    "\n",
    "# Créer un dictionnaire contenant les listes de joueurs par position\n",
    "players_by_position = {\n",
    "    'GK': goalkeepers,\n",
    "    'DEF': defenders,\n",
    "    'MID': midfielders,\n",
    "    'FWD': forwards\n",
    "}\n",
    "\n",
    "# Appeler la fonction pour prédire les performances des joueurs par position\n",
    "predicted_performances = predict_performance_for_random_players(model, data, players_by_position)\n"
   ],
   "metadata": {
    "collapsed": false,
    "ExecuteTime": {
     "end_time": "2024-03-03T16:45:39.237053Z",
     "start_time": "2024-03-03T16:33:26.166607Z"
    }
   },
   "id": "b49b93c249f26c1c"
  },
  {
   "cell_type": "code",
   "execution_count": 373,
   "outputs": [
    {
     "name": "stdout",
     "output_type": "stream",
     "text": [
      "{'Loris Karius': 3.6754076, 'Matt Macey': 1.1612219, 'Joe Hart': 2.0334685, 'Kristoffer Klaesson': 1.2202414, 'Mark Gillespie': 1.159837, 'Daniel Bachmann': 2.0905006, 'Roberto Jimenez Gago': 1.1619177, 'Caoimhin Kelleher': 1.5760633, 'Lukasz Fabianski': 9.085084, 'Michael McGovern': 1.1586447, 'Remi Matthews': 1.1587058, 'Aaron Ramsdale': 7.3102694, 'Keylor Navas': 6.493956, 'Krisztián Hegyi': 1.1585603, 'Kasper Schmeichel': 6.983703, 'Filip Marschall': 1.1587561, 'Viljami Sinisalo': 1.1587561, 'Michael Verrips': 1.1587561, 'Darren Randolph': 2.0946727, 'Kamil Miazek': 1.1587561, 'Elia Caprile': 1.1587561, 'Sam Waller': 1.1587561, 'George Shelvey': 1.1587561, 'Brice Samba': 1.1619177, 'David Martin': 1.158688, 'Emiliano Martínez Romero': 9.287205, 'Alex Smithies': 1.1586516, 'Norberto Murara Neto': 6.907329, 'Claudio Bravo': 2.8160527, 'Paulo Gazzaniga': 1.3642299, 'Simon Moore': 1.1608572, 'Lee Grant': 3.6532474, 'Brandon Austin': 1.1586616, 'George Wickens': 1.1587561, 'Paulo Gazzaniga Farias': 1.1587561, 'Vicente Guaita': 8.014257, 'Marcus Bettinelli': 1.1595489, 'Sergio Romero': 1.7814473, 'Álvaro Fernández': 2.8873782, 'Ørjan Nyland': 1.1587561, 'Jed Steer': 1.1838415, 'David Raya Martin': 9.057492, 'Ellery Balcombe': 1.1587559, 'Alisson Ramses Becker': 10.573772, 'Zack Steffen': 1.3436916, 'Arthur Okonkwo': 1.1586385, 'Joseph Anang': 1.1587561, 'Mark Travers': 2.882397, 'Jonas Lössl': 4.396749, 'Dean Henderson': 3.6683645, 'Martin Dubravka': 4.9419746, 'Bernd Leno': 6.84514, 'James Storer': 1.1587561, 'Will Norris': 1.248967, 'Rúnar Alex Rúnarsson': 1.1829708, 'Owen Goodman': 1.1587561, 'Christian Walton': 1.1587561, 'Karl Darlow': 3.1113365, 'Oliwier Zych': 1.1587561, 'Willy Caballero': 2.1630995, 'Rui Pedro dos Santos Patrício': 4.9741917, 'Kepa Arrizabalaga': 4.432323, 'Jason Steele': 2.5463946, 'Cameron Plain': 1.1587561, 'Marek Rodák': 1.409677, 'Eldin Jakupovic': 2.6010897, 'Joseph Whitworth': 1.3484378, 'Kjell Scherpen': 1.1603366, 'Daniel Bentley': 1.9174826, 'Adrián San Miguel del Castillo': 2.9370522, 'Matthew Cox': 1.1586819, 'Mathew Ryan': 4.8189845, 'David Button': 1.2791857, 'Nick Pope': 8.117695, 'Edouard Mendy': 7.0187345, 'David de Gea': 8.989472, 'Harvey Davies': 1.1587561, 'David De Gea Quintana': 10.829479, 'Wes Foderingham': 1.1609256, 'Nathan Trott': 1.1587561, 'Matija Sarkic': 1.1614212, 'Pierluigi Gollini': 1.1606929, 'Tim Krul': 4.0193043, 'Emiliano Martínez': 10.392884, 'John Ruddy': 1.3564106, 'Sam Johnstone': 6.488539, 'João Virgínia': 1.2201357, 'Stefan Ortega Moreno': 2.5802588, 'Alex McCarthy': 3.6409314, 'Jackson Smith': 1.1586075, 'Ederson Santana de Moraes': 9.853577, 'Wayne Hennessey': 3.5935361, 'Illan Meslier': 8.075837, 'Robert Elliot': 2.9211142, 'Jordan Smith': 1.1587561, 'Karlo Ziger': 1.1587561, 'Scott Carson': 1.322292, 'Francisco Casilla Cortés': 1.5899634, 'Matej Kovár': 1.1587561, 'Will Dennis': 1.1586013, 'Kalidou Koulibaly': 5.4905396, 'Francisco Sierralta': 1.5134553, 'Andrew Omobamidele': 2.002904, 'Andrew Robertson': 8.692561, 'Finley Stevens': 1.2118315, 'Joe Rodon': 1.6014726, 'Japhet Tanganga': 2.1188548, 'Angelo Ogbonna': 4.7452216, 'Valentino Livramento': 1.1587561, 'Wes Morgan': 3.5710301, 'Kyle Walker-Peters': 4.715676, 'Nathaniel Clyne': 4.338144, 'David Luiz Moreira Marinho': 5.131295, 'Lucas Digne': 6.167101, 'Lee Peltier': 1.2822967, 'Maxime Le Marchand': 1.2026917, 'Max Aarons': 4.315625, 'Leif Davis': 1.2614285, 'Tim Ream': 4.306357, 'Scott McKenna': 3.5170994, 'Sam Byram': 2.2248776, 'Diogo Pinheiro Monteiro': 1.1587561, 'Antonio Rüdiger': 8.159134, 'Lewis Dunk': 7.6349463, 'Julian Jeanvier': 1.1587561, 'Ahmed El Mohamady': 3.062043, 'Craig Cathcart': 2.9917014, 'Jonny Evans': 4.933141, 'Charlie Robinson': 1.1587561, 'Oluwasemilogo Adesewo Ibidapo Ajayi': 3.9841955, 'Ben Godfrey': 4.422885, 'Rayan Ait Nouri': 5.53811, 'Richie Laryea': 1.1619177, 'Ben White': 7.4363604, 'Joe Bryan': 1.8859154, 'Zeze Steven Sessegnon': 1.1607546, 'Christian Kabasele': 3.531497, 'Matt Ritchie': 3.90753, 'Conor Townsend': 5.6022887, 'Chris Smalling': 4.512736, 'Mazeed Ogungbo': 1.1587561, 'Aaron Hickey': 4.77688, 'Shkodran Mustafi': 5.1199937, 'Pascal Struijk': 4.6021695, 'Kortney Hause': 2.2078407, 'Rico Henry': 7.671472, 'Ben Davies': 5.03771, 'Kieran Tierney': 5.7529736, 'Ishé Samuels-Smith': 1.1587561, 'Jan Paul van Hecke': 1.4994777, 'Wout Faes': 6.718081, 'Mads Roerslev Rasmussen': 3.707084, 'Jeremy Ngakia': 2.7134547, 'Javier Manquillo': 3.4032378, 'Mads Bech Sørensen': 1.9172134, 'Neil Taylor': 1.7913435, 'Kieran Gibbs': 3.7665083, 'Yerson Mosquera Valdelamar': 1.1600637, 'Luke Ayling': 5.438263, 'Mason Holgate': 4.111987, 'Josh Feeney': 1.1587561, 'Cheikhou Kouyaté': 5.402358, 'José Diogo Dalot Teixeira': 2.7666764, 'Sil Swinkels': 1.1587561, 'Ryan Inniss': 1.1587561, 'Marcel Lavinier': 1.1587561, 'Jamal Lewis': 2.2134328, 'Jake Vokins': 1.2108494, 'Michael Keane': 6.6101937, 'Adam Masina': 2.6038692, 'Nigel Lonwijk': 1.1587003, 'Héctor Bellerín': 6.1003356, 'Moussa Niakhaté': 2.5307086, 'Trent Alexander-Arnold': 8.22334, 'Tyrone Mings': 5.752425, 'Lewis Brunt': 1.2191211, 'Ethan Ampadu': 1.8655709, 'Clément Lenglet': 4.7441225, 'Antonee Robinson': 5.5728517, 'Odeluga Offiah': 1.2185982, 'Stefan Parkes': 1.1587561, 'Frédéric Guilbert': 1.1604371, 'Kristoffer Ajer': 4.4773254, 'Pablo Marí': 2.2017088, 'Max Kilman': 6.5974946, 'Sergio Gómez': 2.3498085, 'Harrison Ashby': 1.186655, 'Emerson Leite de Souza Junior': 6.239002, 'Ryan Astley': 1.1587561, 'Owen Bevan': 1.2134689, 'Ludwig Augustinsson': 1.2525024, 'Lisandro Martínez': 6.1384096, 'William Saliba': 3.4867814, 'Björn Engels': 1.1619177, 'Branislav Ivanovic': 2.2933264, 'Pierre Ekwah': 1.1587561, 'Mohamed Dräger': 1.1587561, 'Daniel Amartey': 3.4422271, 'Emerson Palmieri dos Santos': 2.2162027, 'Layvin Kurzawa': 1.2643895, 'Lucas Torreira': 1.1626533, 'Claudio Gomes': 1.1619177, 'Manuel Lanzini': 5.281362, 'Ryan Fraser': 4.964246, 'Oriol Romeu Vidal': 4.604651, 'José Ignacio Peleteiro Romallo': 1.1710533, 'Nemanja Matic': 5.3363295, 'Shandon Baptiste': 2.8247797, 'Tanguy Ndombele': 4.581429, 'Dan Gosling': 3.3369641, 'Meritan Shabani': 1.1615562, 'Imrân Louza': 2.7369661, 'Emile Smith Rowe': 5.346152, 'Bruno Miguel Borges Fernandes': 11.457617, 'Jamal Lowe': 1.2310522, 'Raphael Dias Belloli': 6.7566905, 'Declan Rice': 5.577208, 'Rodrigo Bentancur': 6.13814, 'Felix Nmecha': 1.1619174, 'Nathaniel Chalobah': 1.5284822, 'George Abbott': 1.3659301, 'Ayoze Pérez': 4.51014, 'Maxwel Cornet': 4.5430775, 'Femi Seriki': 1.977968, 'Liam McCarron': 1.2069645, 'Kamaldeen Sulemana': 6.554208, 'Taylor Perry': 1.1617615, 'Dennis Praet': 2.3933456, 'Kamil Conteh': 1.1619173, 'Harvey Vale': 1.1619177, 'Siriki Dembélé': 1.4050775, 'Leon Bailey': 5.0648313, 'Romaine Mundle': 1.1619176, 'Ayotomiwa Dele-Bashiru': 1.1619177, 'Robbie Brady': 4.495078, 'Kyle Edwards': 1.3502783, 'Nikola Vlasic': 1.9417742, 'Mathias Jensen': 6.5831485, 'Samuel Amo-Ameyaw': 2.794018, 'Pape Matar Sarr': 1.8702648, 'Martial Godo': 1.1619174, 'Hannibal Mejbri': 1.3622385, 'James Garner': 1.8322675, 'Alexis Mac Allister': 6.5871277, 'Okay Yokuslu': 5.5888543, 'Oliver Norwood': 2.675881, 'Kgaogelo Chauke': 1.1616639, 'Andreas Hoelgebaum Pereira': 8.634114, 'Cody Gakpo': 9.668974, 'Amadou Onana': 5.844568, 'Jordan Stevens': 1.1609085, 'Bruno Borges Fernandes': 10.408141, 'João Victor Gomes da Silva': 3.7805917, 'Caleb Watts': 1.3174319, 'Michael Olakigbe': 1.1619176, 'Pedro Lomba Neto': 4.637507, 'Marcus Rashford': 7.7527876, 'Charlie Whitaker': 1.1619176, 'Jaden Philogene-Bidace': 1.1977681, 'Bernardo Mota Veiga de Carvalho e Silva': 7.754562, 'Carlos Alcaraz': 7.178819, 'Gustavo Henrique Furtado Scarpa': 1.5069692, 'Joe Ayodele-Aribo': 3.6902788, 'Joelinton Cássio Apolinário de Lira': 6.180486, 'Sammy Braybrooke': 1.1619174, 'Elliot Anderson': 1.7503742, 'Harvey Elliott': 2.5144393, 'James Maddison': 9.51857, 'Lewis Warrington': 1.1613356, 'Kaoru Mitoma': 9.316569, 'Yoane Wissa': 6.773023, 'Morgan Sanson': 1.6264073, 'Samuel Edozie': 1.7711003, 'Ilkay Gündogan': 7.334746, 'Jairo Riedewald': 2.4857285, 'André Ayew': 4.8835106, 'Pablo Fornals': 8.058816, 'Jack Grealish': 7.5385923, 'Stefan Bajcetic': 2.4357834, 'Pierre Lees-Melou': 5.2410297, 'Fábio Ferreira Vieira': 3.02217, 'Emiliano Marcondes': 1.2010832, 'Erik Lamela': 2.5198028, 'Maxwell Haygarth': 1.1619174, 'Ivan Ricardo Neves Abreu Cavaleiro': 5.9917746, 'Harvey Griffiths': 1.1614494, 'Daniel James': 3.6851978, 'Aaron Ramsey': 4.5903497, 'Christos Tzolis': 1.8625139, 'Dele Alli': 1.22797, 'Steven Bergwijn': 2.9894075, 'Ian Carlo Poveda-Ocampo': 1.4786539, 'David Ozoh': 1.2328782, 'Pierre-Emile Højbjerg': 6.0587626, 'Matt Phillips': 6.2441435, 'Todd Cantwell': 1.5785766, 'Faustino Anjorin': 1.1619174, 'Anwar El Ghazi': 3.6359441, 'Matteo Guendouzi': 1.163389, 'Shola Shoretire': 1.2719196, 'Willian José Da Silva': 4.984034, 'Diogo Teixeira da Silva': 5.1905065, 'Joseph McGlynn': 1.1619176, 'Robert Street': 1.1619177, 'Matheus Santos Carneiro Da Cunha': 5.041506, 'Kenneth Zohore': 1.1640561, 'Rodrigo Muniz Carvalho': 1.1678022, 'Carlos Vinicius Alves Morais': 1.736687, 'Anthony Martial': 5.0461307, 'Adam Armstrong': 4.048155, 'Joel Mumbongo': 1.3578339, 'Gianluca Scamacca': 3.2508295, 'Billy Sharp': 3.2334247, 'Paul Onuachu': 2.4166744, 'Max Thompson': 1.1619176, 'Patrick Bamford': 5.5690656, 'Wilfried Gnonto': 4.7210293, 'Sonny Perkins': 1.1945596, 'Glenn Murray': 4.316366, 'Edward Nketiah': 2.9234235, 'Ellis Simms': 1.6063427, 'Mateo Joseph Fernández': 1.3502369, 'Jordan Ayew': 6.313407, 'Ivan Toney': 10.241132, 'Troy Deeney': 4.883907, 'Carlos Vinícius Alves Morais': 5.5837927, 'Kieffer Moore': 4.2077193, 'William Osula': 1.1619176, 'Emmanuel Dennis': 6.1774597, 'Mbaye Diagne': 8.126657, 'Antwoine Hackford': 1.2356312, 'Lewis Dobbin': 1.2608814, 'Deniz Undav': 3.9576674, \"Daniel N'Lundulu\": 1.460753, 'Bobby Decordova-Reid': 6.1956644, 'Albian Ajeti': 1.1684184, 'Daniel Jebbison': 8.058805, 'João Félix Sequeira': 5.072758, 'Euan Pollock': 1.1619174, 'Ashley Barnes': 4.713068, 'Che Adams': 7.374063, 'Michail Antonio': 6.993994, 'Thomas Dickson-Peters': 1.1619173, 'Callum Wilson': 7.19514, 'Tiago Çukur': 1.1619176, 'Aleksandar Mitrović': 6.0250344, 'Léo Bonatini': 1.1640561, 'Matej Vydra': 3.1151633, 'Ademipo Odubeko': 1.1619173, 'Andi Zeqiri': 1.3361952, 'Diego Da Silva Costa': 5.554084, 'Rodrigo Moreno': 6.757823, 'Edinson Cavani': 4.6584015, 'Josh Maja': 3.2871513, 'Wout Weghorst': 4.751946, 'Ashley Fletcher': 1.3960273, 'Erling Haaland': 16.540115, 'Richarlison de Andrade': 6.7537727, 'Shane Long': 2.802968, 'Tammy Abraham': 3.9225895, 'Brennan Johnson': 8.144336, 'Roberto Firmino': 8.23007, 'Jhon Durán': 1.8740726, 'Allan Saint-Maximin': 6.05258, 'Kelechi Iheanacho': 5.178494, 'David Datro Fofana': 1.3536147, 'Jimmy Morgan': 1.1619173, 'Eddie Nketiah': 4.0678306, 'Jay Stansfield': 1.5497864, 'Bryan Mbeumo': 9.03415, 'Oliver McBurnie': 2.2628958, 'Folarin Balogun': 1.2364308, 'Alexandre Lacazette': 7.2249346, 'Charlie Austin': 3.675556, 'Rhian Brewster': 2.6976342, 'Kai Havertz': 6.340777, 'Dwight Gayle': 2.8327878, 'Evan Ferguson': 3.7291462, 'Hal Robson-Kanu': 3.1136103, 'Olivier Giroud': 4.1766067, 'Moise Kean': 1.2094947, 'Lys Mousset': 2.151816, 'Divin Mubama': 1.3748001, 'Dale Taylor': 1.1619176, 'Mbwana Samatta': 1.1710361, 'Jack Grieves': 1.1619176, 'John-Kymani Gordon': 1.1619176, 'Nathan Butler-Oyedeji': 1.1619173, 'Romelu Lukaku': 9.279969, 'Cheikh Diaby': 1.1619173, 'Darwin Núñez Ribeiro': 6.3189597, 'Nathan Fraser': 1.1619174, 'Nathan Broadhead': 1.1933042, 'Daniel Adu-Adjei': 1.1619174, 'Georginio Rutter': 2.391197, 'Julián Álvarez': 6.7684317, 'Leonardo Campana': 1.1639878, 'Jean-Philippe Mateta': 3.5877151, 'Lyle Taylor': 1.1601864}\n"
     ]
    }
   ],
   "source": [
    "print(predicted_performances)"
   ],
   "metadata": {
    "collapsed": false,
    "ExecuteTime": {
     "end_time": "2024-03-03T16:45:49.249264Z",
     "start_time": "2024-03-03T16:45:49.001808Z"
    }
   },
   "id": "e6c90bd6630cfc38"
  },
  {
   "cell_type": "code",
   "execution_count": 374,
   "outputs": [],
   "source": [
    "def recommend_team_from_predicted_performances(predicted_performances, data, budget=1000, max_players_per_team=3):\n",
    "    team = []\n",
    "    remaining_budget = budget\n",
    "    positions_quota = {'GK': 2, 'DEF': 5, 'MID': 5, 'FWD': 3}\n",
    "    positions_count = {'GK': 0, 'DEF': 0, 'MID': 0, 'FWD': 0}\n",
    "\n",
    "    # Tri des joueurs prédits par performances décroissantes\n",
    "    sorted_players = sorted(predicted_performances.items(), key=lambda x: x[1], reverse=True)\n",
    "\n",
    "    # Sélection des joueurs pour l'équipe en respectant les contraintes\n",
    "    for player_name, predicted_performance in sorted_players:\n",
    "        player_data = data[data['name'] == player_name].iloc[0]\n",
    "        player_cost = player_data['value']\n",
    "        player_position = player_data['position']\n",
    "        player_team = player_data['team_x']\n",
    "\n",
    "        # Vérification des contraintes de budget et de nombre maximum de joueurs par équipe\n",
    "        if len(team) < 15 and player_cost <= remaining_budget and team.count(player_team) < max_players_per_team:\n",
    "            if positions_count[player_position] < positions_quota[player_position]:\n",
    "                team.append((player_name, predicted_performance))\n",
    "                remaining_budget -= player_cost\n",
    "                positions_count[player_position] += 1\n",
    "\n",
    "    return team"
   ],
   "metadata": {
    "collapsed": false,
    "ExecuteTime": {
     "end_time": "2024-03-03T16:46:13.757346Z",
     "start_time": "2024-03-03T16:46:13.129423Z"
    }
   },
   "id": "a4bf12e57782b979"
  },
  {
   "cell_type": "code",
   "execution_count": 375,
   "outputs": [
    {
     "name": "stdout",
     "output_type": "stream",
     "text": [
      "Composition d'équipe recommandée:\n",
      "[('Erling Haaland', 16.540115), ('Bruno Miguel Borges Fernandes', 11.457617), ('David De Gea Quintana', 10.829479), ('Alisson Ramses Becker', 10.573772), ('Bruno Borges Fernandes', 10.408141), ('Ivan Toney', 10.241132), ('Cody Gakpo', 9.668974), ('James Maddison', 9.51857), ('Kaoru Mitoma', 9.316569), ('Romelu Lukaku', 9.279969), ('Andrew Robertson', 8.692561), ('Trent Alexander-Arnold', 8.22334), ('Antonio Rüdiger', 8.159134), ('Rico Henry', 7.671472)]\n"
     ]
    }
   ],
   "source": [
    "# Afficher la composition de l'équipe recommandée\n",
    "print(\"Composition d'équipe recommandée:\")\n",
    "print(recommend_team_from_predicted_performances(predicted_performances,data,budget=1000, max_players_per_team=3))\n"
   ],
   "metadata": {
    "collapsed": false,
    "ExecuteTime": {
     "end_time": "2024-03-03T16:47:16.711490Z",
     "start_time": "2024-03-03T16:46:17.279696Z"
    }
   },
   "id": "64f9104106e3849e"
  },
  {
   "cell_type": "code",
   "execution_count": 377,
   "outputs": [
    {
     "name": "stdout",
     "output_type": "stream",
     "text": [
      "Composition d'équipe recommandée:\n",
      "Joueur: Erling Haaland\n",
      "Poste: FWD\n",
      "Équipe: Man City\n",
      "Prix: 115 k£\n",
      "Score prédit: 16.540115\n",
      "\n",
      "Joueur: Bruno Miguel Borges Fernandes\n",
      "Poste: MID\n",
      "Équipe: Man Utd\n",
      "Prix: 105 k£\n",
      "Score prédit: 11.457617\n",
      "\n",
      "Joueur: David De Gea Quintana\n",
      "Poste: GK\n",
      "Équipe: Man Utd\n",
      "Prix: 50 k£\n",
      "Score prédit: 10.829479\n",
      "\n",
      "Joueur: Alisson Ramses Becker\n",
      "Poste: GK\n",
      "Équipe: Liverpool\n",
      "Prix: 60 k£\n",
      "Score prédit: 10.573772\n",
      "\n",
      "Joueur: Bruno Borges Fernandes\n",
      "Poste: MID\n",
      "Équipe: Man Utd\n",
      "Prix: 100 k£\n",
      "Score prédit: 10.408141\n",
      "\n",
      "Joueur: Ivan Toney\n",
      "Poste: FWD\n",
      "Équipe: Brentford\n",
      "Prix: 65 k£\n",
      "Score prédit: 10.241132\n",
      "\n",
      "Joueur: Cody Gakpo\n",
      "Poste: MID\n",
      "Équipe: Liverpool\n",
      "Prix: 80 k£\n",
      "Score prédit: 9.668974\n",
      "\n",
      "Joueur: James Maddison\n",
      "Poste: MID\n",
      "Équipe: Leicester\n",
      "Prix: 70 k£\n",
      "Score prédit: 9.51857\n",
      "\n",
      "Joueur: Kaoru Mitoma\n",
      "Poste: MID\n",
      "Équipe: Brighton\n",
      "Prix: 50 k£\n",
      "Score prédit: 9.316569\n",
      "\n",
      "Joueur: Romelu Lukaku\n",
      "Poste: FWD\n",
      "Équipe: nan\n",
      "Prix: 90 k£\n",
      "Score prédit: 9.279969\n",
      "\n",
      "Joueur: Andrew Robertson\n",
      "Poste: DEF\n",
      "Équipe: nan\n",
      "Prix: 45 k£\n",
      "Score prédit: 8.692561\n",
      "\n",
      "Joueur: Trent Alexander-Arnold\n",
      "Poste: DEF\n",
      "Équipe: nan\n",
      "Prix: 45 k£\n",
      "Score prédit: 8.22334\n",
      "\n",
      "Joueur: Antonio Rüdiger\n",
      "Poste: DEF\n",
      "Équipe: nan\n",
      "Prix: 60 k£\n",
      "Score prédit: 8.159134\n",
      "\n",
      "Joueur: Rico Henry\n",
      "Poste: DEF\n",
      "Équipe: Brentford\n",
      "Prix: 45 k£\n",
      "Score prédit: 7.671472\n"
     ]
    }
   ],
   "source": [
    "def recommend_team_from_predicted_performances(predicted_performances, data, budget=1000, max_players_per_team=3):\n",
    "    team = []\n",
    "    remaining_budget = budget\n",
    "    positions_quota = {'GK': 2, 'DEF': 5, 'MID': 5, 'FWD': 3}\n",
    "    positions_count = {'GK': 0, 'DEF': 0, 'MID': 0, 'FWD': 0}\n",
    "\n",
    "    # Tri des joueurs prédits par performances décroissantes\n",
    "    sorted_players = sorted(predicted_performances.items(), key=lambda x: x[1], reverse=True)\n",
    "\n",
    "    # Sélection des joueurs pour l'équipe en respectant les contraintes\n",
    "    for player_name, predicted_performance in sorted_players:\n",
    "        player_data = data[data['name'] == player_name].iloc[0]\n",
    "        player_cost = player_data['value']\n",
    "        player_position = player_data['position']\n",
    "        player_team = player_data['team_x']\n",
    "\n",
    "        # Vérification des contraintes de budget et de nombre maximum de joueurs par équipe\n",
    "        if len(team) < 15 and player_cost <= remaining_budget and team.count(player_team) < max_players_per_team:\n",
    "            if positions_count[player_position] < positions_quota[player_position]:\n",
    "                team.append({\n",
    "                    'name': player_name,\n",
    "                    'position': player_position,\n",
    "                    'team': player_team,\n",
    "                    'cost': player_cost,\n",
    "                    'predicted_performance': predicted_performance\n",
    "                })\n",
    "                remaining_budget -= player_cost\n",
    "                positions_count[player_position] += 1\n",
    "\n",
    "    return team\n",
    "\n",
    "# Afficher la composition de l'équipe recommandée\n",
    "print(\"Composition d'équipe recommandée:\")\n",
    "recommended_team = recommend_team_from_predicted_performances(predicted_performances, data, budget=1000, max_players_per_team=3)\n",
    "for player in recommended_team:\n",
    "    print(\"Joueur:\", player['name'])\n",
    "    print(\"Poste:\", player['position'])\n",
    "    print(\"Équipe:\", player['team'])\n",
    "    print(\"Prix:\", player['cost'], 'k£')\n",
    "    print(\"Score prédit:\", player['predicted_performance'])\n",
    "    print()\n"
   ],
   "metadata": {
    "collapsed": false,
    "ExecuteTime": {
     "end_time": "2024-03-03T16:50:00.083392Z",
     "start_time": "2024-03-03T16:48:51.673576Z"
    }
   },
   "id": "f50235d9ce366baf"
  },
  {
   "cell_type": "code",
   "execution_count": 385,
   "outputs": [
    {
     "name": "stdout",
     "output_type": "stream",
     "text": [
      "Composition d'équipe recommandée:\n",
      "Joueur: Erling Haaland\n",
      "Poste: FWD\n",
      "Équipe: Man City\n",
      "Prix: 115 k£\n",
      "Score prédit: 16.540115\n",
      "\n",
      "Joueur: Bruno Miguel Borges Fernandes\n",
      "Poste: MID\n",
      "Équipe: Man Utd\n",
      "Prix: 105 k£\n",
      "Score prédit: 11.457617\n",
      "\n",
      "Joueur: David De Gea Quintana\n",
      "Poste: GK\n",
      "Équipe: Man Utd\n",
      "Prix: 50 k£\n",
      "Score prédit: 10.829479\n",
      "\n",
      "Joueur: Alisson Ramses Becker\n",
      "Poste: GK\n",
      "Équipe: Liverpool\n",
      "Prix: 60 k£\n",
      "Score prédit: 10.573772\n",
      "\n",
      "Joueur: Bruno Borges Fernandes\n",
      "Poste: MID\n",
      "Équipe: Man Utd\n",
      "Prix: 100 k£\n",
      "Score prédit: 10.408141\n",
      "\n",
      "Joueur: Ivan Toney\n",
      "Poste: FWD\n",
      "Équipe: Brentford\n",
      "Prix: 65 k£\n",
      "Score prédit: 10.241132\n",
      "\n",
      "Joueur: Cody Gakpo\n",
      "Poste: MID\n",
      "Équipe: Liverpool\n",
      "Prix: 80 k£\n",
      "Score prédit: 9.668974\n",
      "\n",
      "Joueur: James Maddison\n",
      "Poste: MID\n",
      "Équipe: Leicester\n",
      "Prix: 70 k£\n",
      "Score prédit: 9.51857\n",
      "\n",
      "Joueur: Kaoru Mitoma\n",
      "Poste: MID\n",
      "Équipe: Brighton\n",
      "Prix: 50 k£\n",
      "Score prédit: 9.316569\n",
      "\n",
      "Joueur: Romelu Lukaku\n",
      "Poste: FWD\n",
      "Équipe: nan\n",
      "Prix: 90 k£\n",
      "Score prédit: 9.279969\n",
      "\n",
      "Joueur: Andrew Robertson\n",
      "Poste: DEF\n",
      "Équipe: nan\n",
      "Prix: 45 k£\n",
      "Score prédit: 8.692561\n",
      "\n",
      "Joueur: Trent Alexander-Arnold\n",
      "Poste: DEF\n",
      "Équipe: nan\n",
      "Prix: 45 k£\n",
      "Score prédit: 8.22334\n",
      "\n",
      "Joueur: Antonio Rüdiger\n",
      "Poste: DEF\n",
      "Équipe: nan\n",
      "Prix: 60 k£\n",
      "Score prédit: 8.159134\n",
      "\n",
      "Joueur: Rico Henry\n",
      "Poste: DEF\n",
      "Équipe: Brentford\n",
      "Prix: 45 k£\n",
      "Score prédit: 7.671472\n",
      "\n",
      "Coût total de l'équipe: 980 k£\n",
      "Score total de l'équipe: 140.58084630966187\n",
      "Nombre de joueurs dans l'équipe: 14\n"
     ]
    }
   ],
   "source": [
    "#meme code que la cellule d'avant\n",
    "def recommend_team_from_predicted_performances(predicted_performances, data, budget=1000, max_players_per_team=3):\n",
    "    team = []\n",
    "    remaining_budget = budget\n",
    "    total_cost = 0\n",
    "    total_predicted_performance = 0\n",
    "    positions_quota = {'GK': 2, 'DEF': 5, 'MID': 5, 'FWD': 3}\n",
    "    positions_count = {'GK': 0, 'DEF': 0, 'MID': 0, 'FWD': 0}\n",
    "\n",
    "    # Tri des joueurs prédits par performances décroissantes\n",
    "    sorted_players = sorted(predicted_performances.items(), key=lambda x: x[1], reverse=True)\n",
    "\n",
    "    # Sélection des joueurs pour l'équipe en respectant les contraintes\n",
    "    for player_name, predicted_performance in sorted_players:\n",
    "        player_data = data[data['name'] == player_name].iloc[0]\n",
    "        player_cost = player_data['value']\n",
    "        player_position = player_data['position']\n",
    "        player_team = player_data['team_x']\n",
    "\n",
    "        # Vérification des contraintes de budget et de nombre maximum de joueurs par équipe\n",
    "        if len(team) < 15 and player_cost <= remaining_budget and team.count(player_team) < max_players_per_team:\n",
    "            if positions_count[player_position] < positions_quota[player_position]:\n",
    "                team.append({\n",
    "                    'name': player_name,\n",
    "                    'position': player_position,\n",
    "                    'team': player_team,\n",
    "                    'cost': player_cost,\n",
    "                    'predicted_performance': predicted_performance\n",
    "                })\n",
    "                remaining_budget -= player_cost\n",
    "                total_cost += player_cost\n",
    "                total_predicted_performance += predicted_performance\n",
    "                positions_count[player_position] += 1\n",
    "\n",
    "    return team, total_cost, total_predicted_performance, len(team)\n",
    "\n",
    "# Afficher la composition de l'équipe recommandée\n",
    "print(\"Composition d'équipe recommandée:\")\n",
    "recommended_team, total_cost, total_predicted_performance, num_players = recommend_team_from_predicted_performances(predicted_performances, data, budget=1000, max_players_per_team=3)\n",
    "for player in recommended_team:\n",
    "    print(\"Joueur:\", player['name'])\n",
    "    print(\"Poste:\", player['position'])\n",
    "    print(\"Équipe:\", player['team'])\n",
    "    print(\"Prix:\", player['cost'], 'k£')\n",
    "    print(\"Score prédit:\", player['predicted_performance'])\n",
    "    print()\n",
    "\n",
    "print(\"Coût total de l'équipe:\", total_cost, 'k£')\n",
    "print(\"Score total de l'équipe:\", total_predicted_performance)\n",
    "print(\"Nombre de joueurs dans l'équipe:\", num_players)\n"
   ],
   "metadata": {
    "collapsed": false,
    "ExecuteTime": {
     "end_time": "2024-03-03T17:54:01.314194Z",
     "start_time": "2024-03-03T17:53:52.871169Z"
    }
   },
   "id": "70131933110213c7"
  },
  {
   "cell_type": "code",
   "execution_count": 388,
   "outputs": [
    {
     "name": "stdout",
     "output_type": "stream",
     "text": [
      "Composition d'équipe recommandée:\n",
      "Joueur: Emiliano Martínez\n",
      "Poste: GK\n",
      "Équipe: Arsenal\n",
      "Prix: 45 k£\n",
      "Score prédit: 10.392884\n",
      "\n",
      "Joueur: David De Gea Quintana\n",
      "Poste: GK\n",
      "Équipe: Man Utd\n",
      "Prix: 50 k£\n",
      "Score prédit: 10.829479\n",
      "\n",
      "Joueur: Andrew Robertson\n",
      "Poste: DEF\n",
      "Équipe: nan\n",
      "Prix: 45 k£\n",
      "Score prédit: 8.692561\n",
      "\n",
      "Joueur: Andreas Hoelgebaum Pereira\n",
      "Poste: MID\n",
      "Équipe: Fulham\n",
      "Prix: 45 k£\n",
      "Score prédit: 8.634114\n",
      "\n",
      "Joueur: Kaoru Mitoma\n",
      "Poste: MID\n",
      "Équipe: Brighton\n",
      "Prix: 50 k£\n",
      "Score prédit: 9.316569\n",
      "\n",
      "Joueur: Trent Alexander-Arnold\n",
      "Poste: DEF\n",
      "Équipe: nan\n",
      "Prix: 45 k£\n",
      "Score prédit: 8.22334\n",
      "\n",
      "Joueur: Daniel Jebbison\n",
      "Poste: FWD\n",
      "Équipe: Sheffield Utd\n",
      "Prix: 45 k£\n",
      "Score prédit: 8.058805\n",
      "\n",
      "Joueur: Rico Henry\n",
      "Poste: DEF\n",
      "Équipe: Brentford\n",
      "Prix: 45 k£\n",
      "Score prédit: 7.671472\n",
      "\n",
      "Joueur: Lewis Dunk\n",
      "Poste: DEF\n",
      "Équipe: nan\n",
      "Prix: 45 k£\n",
      "Score prédit: 7.6349463\n",
      "\n",
      "Joueur: Ben White\n",
      "Poste: DEF\n",
      "Équipe: Brighton\n",
      "Prix: 45 k£\n",
      "Score prédit: 7.4363604\n",
      "\n",
      "Joueur: Bryan Mbeumo\n",
      "Poste: MID\n",
      "Équipe: Brentford\n",
      "Prix: 55 k£\n",
      "Score prédit: 9.03415\n",
      "\n",
      "Joueur: Ivan Toney\n",
      "Poste: FWD\n",
      "Équipe: Brentford\n",
      "Prix: 65 k£\n",
      "Score prédit: 10.241132\n",
      "\n",
      "Joueur: Erling Haaland\n",
      "Poste: FWD\n",
      "Équipe: Man City\n",
      "Prix: 115 k£\n",
      "Score prédit: 16.540115\n",
      "\n",
      "Joueur: Carlos Alcaraz\n",
      "Poste: MID\n",
      "Équipe: Southampton\n",
      "Prix: 50 k£\n",
      "Score prédit: 7.178819\n",
      "\n",
      "Joueur: James Maddison\n",
      "Poste: MID\n",
      "Équipe: Leicester\n",
      "Prix: 70 k£\n",
      "Score prédit: 9.51857\n",
      "\n",
      "15\n"
     ]
    }
   ],
   "source": [
    "def recommend_team_from_predicted_performances(predicted_performances, data, budget=1000, max_players_per_team=3):\n",
    "    team = []\n",
    "    remaining_budget = budget\n",
    "    positions_quota = {'GK': 2, 'DEF': 5, 'MID': 5, 'FWD': 3}\n",
    "    positions_count = {'GK': 0, 'DEF': 0, 'MID': 0, 'FWD': 0}\n",
    "\n",
    "    # Tri des joueurs prédits par performances décroissantes en fonction de la performance divisée par le coût\n",
    "    sorted_players = sorted(predicted_performances.items(), key=lambda x: x[1] / data[data['name'] == x[0]]['value'].iloc[0], reverse=True)\n",
    "\n",
    "    # Sélection des joueurs pour l'équipe en respectant les contraintes\n",
    "    for player_name, predicted_performance in sorted_players:\n",
    "        player_data = data[data['name'] == player_name].iloc[0]\n",
    "        player_cost = player_data['value']\n",
    "        player_position = player_data['position']\n",
    "        player_team = player_data['team_x']\n",
    "\n",
    "        # Vérification des contraintes de budget et de nombre maximum de joueurs par équipe\n",
    "        if len(team) < 15 and player_cost <= remaining_budget and team.count(player_team) < max_players_per_team:\n",
    "            if positions_count[player_position] < positions_quota[player_position]:\n",
    "                team.append({\n",
    "                    'name': player_name,\n",
    "                    'position': player_position,\n",
    "                    'team': player_team,\n",
    "                    'cost': player_cost,\n",
    "                    'predicted_performance': predicted_performance\n",
    "                })\n",
    "                remaining_budget -= player_cost\n",
    "                positions_count[player_position] += 1\n",
    "\n",
    "    return team\n",
    "\n",
    "# Afficher la composition de l'équipe recommandée\n",
    "print(\"Composition d'équipe recommandée:\")\n",
    "recommended_team = recommend_team_from_predicted_performances(predicted_performances, data, budget=1000, max_players_per_team=3)\n",
    "for player in recommended_team:\n",
    "    print(\"Joueur:\", player['name'])\n",
    "    print(\"Poste:\", player['position'])\n",
    "    print(\"Équipe:\", player['team'])\n",
    "    print(\"Prix:\", player['cost'], 'k£')\n",
    "    print(\"Score prédit:\", player['predicted_performance'])\n",
    "    print()\n",
    "print(len(recommended_team))"
   ],
   "metadata": {
    "collapsed": false,
    "ExecuteTime": {
     "end_time": "2024-03-03T17:57:22.490655Z",
     "start_time": "2024-03-03T17:57:13.300774Z"
    }
   },
   "id": "96c91473efae0493"
  },
  {
   "cell_type": "code",
   "execution_count": 379,
   "outputs": [
    {
     "name": "stdout",
     "output_type": "stream",
     "text": [
      "Composition d'équipe recommandée:\n",
      "Joueur: Emiliano Martínez\n",
      "Poste: GK\n",
      "Équipe: Arsenal\n",
      "Prix: 45 k£\n",
      "Score prédit: 10.392884\n",
      "\n",
      "Joueur: David De Gea Quintana\n",
      "Poste: GK\n",
      "Équipe: Man Utd\n",
      "Prix: 50 k£\n",
      "Score prédit: 10.829479\n",
      "\n",
      "Joueur: Andrew Robertson\n",
      "Poste: DEF\n",
      "Équipe: nan\n",
      "Prix: 45 k£\n",
      "Score prédit: 8.692561\n",
      "\n",
      "Joueur: Andreas Hoelgebaum Pereira\n",
      "Poste: MID\n",
      "Équipe: Fulham\n",
      "Prix: 45 k£\n",
      "Score prédit: 8.634114\n",
      "\n",
      "Joueur: Kaoru Mitoma\n",
      "Poste: MID\n",
      "Équipe: Brighton\n",
      "Prix: 50 k£\n",
      "Score prédit: 9.316569\n",
      "\n",
      "Joueur: Trent Alexander-Arnold\n",
      "Poste: DEF\n",
      "Équipe: nan\n",
      "Prix: 45 k£\n",
      "Score prédit: 8.22334\n",
      "\n",
      "Joueur: Daniel Jebbison\n",
      "Poste: FWD\n",
      "Équipe: Sheffield Utd\n",
      "Prix: 45 k£\n",
      "Score prédit: 8.058805\n",
      "\n",
      "Joueur: Rico Henry\n",
      "Poste: DEF\n",
      "Équipe: Brentford\n",
      "Prix: 45 k£\n",
      "Score prédit: 7.671472\n",
      "\n",
      "Joueur: Lewis Dunk\n",
      "Poste: DEF\n",
      "Équipe: nan\n",
      "Prix: 45 k£\n",
      "Score prédit: 7.6349463\n",
      "\n",
      "Joueur: Ben White\n",
      "Poste: DEF\n",
      "Équipe: Brighton\n",
      "Prix: 45 k£\n",
      "Score prédit: 7.4363604\n",
      "\n",
      "Joueur: Bryan Mbeumo\n",
      "Poste: MID\n",
      "Équipe: Brentford\n",
      "Prix: 55 k£\n",
      "Score prédit: 9.03415\n",
      "\n",
      "Joueur: Ivan Toney\n",
      "Poste: FWD\n",
      "Équipe: Brentford\n",
      "Prix: 65 k£\n",
      "Score prédit: 10.241132\n",
      "\n",
      "Joueur: Carlos Alcaraz\n",
      "Poste: MID\n",
      "Équipe: Southampton\n",
      "Prix: 50 k£\n",
      "Score prédit: 7.178819\n",
      "\n",
      "Joueur: Brennan Johnson\n",
      "Poste: FWD\n",
      "Équipe: Nott'm Forest\n",
      "Prix: 60 k£\n",
      "Score prédit: 8.144336\n",
      "\n",
      "Joueur: Pierre-Emile Højbjerg\n",
      "Poste: MID\n",
      "Équipe: nan\n",
      "Prix: 45 k£\n",
      "Score prédit: 6.0587626\n"
     ]
    }
   ],
   "source": [
    "def recommend_team_from_predicted_performances(predicted_performances, data, budget=100, max_players_per_team=3):\n",
    "    team = []\n",
    "    remaining_budget = budget\n",
    "    positions_quota = {'GK': 2, 'DEF': 5, 'MID': 5, 'FWD': 3}\n",
    "    positions_count = {'GK': 0, 'DEF': 0, 'MID': 0, 'FWD': 0}\n",
    "    num_players = 15\n",
    "\n",
    "    # Tri des joueurs prédits par performances décroissantes en fonction de la performance divisée par le coût\n",
    "    sorted_players = sorted(predicted_performances.items(), key=lambda x: x[1] / data[data['name'] == x[0]]['value'].iloc[0], reverse=True)\n",
    "\n",
    "    # Calcul de la somme des coûts des 15 meilleurs joueurs\n",
    "    total_cost_top_players = sum([data[data['name'] == player_name]['value'].iloc[0] for player_name, _ in sorted_players[:num_players]])\n",
    "\n",
    "    # Répartition équitable du budget entre les 15 joueurs\n",
    "    budget_per_player = budget / num_players\n",
    "\n",
    "    # Sélection des joueurs pour l'équipe en respectant les contraintes et le budget alloué\n",
    "    for player_name, predicted_performance in sorted_players:\n",
    "        player_data = data[data['name'] == player_name].iloc[0]\n",
    "        player_cost = player_data['value']\n",
    "        player_position = player_data['position']\n",
    "        player_team = player_data['team_x']\n",
    "\n",
    "        # Vérification des contraintes de nombre de joueurs par poste et de nombre maximum de joueurs par équipe\n",
    "        if len(team) < num_players and player_cost <= budget_per_player and team.count(player_team) < max_players_per_team:\n",
    "            if positions_count[player_position] < positions_quota[player_position]:\n",
    "                team.append({\n",
    "                    'name': player_name,\n",
    "                    'position': player_position,\n",
    "                    'team': player_team,\n",
    "                    'cost': player_cost,\n",
    "                    'predicted_performance': predicted_performance\n",
    "                })\n",
    "                positions_count[player_position] += 1\n",
    "\n",
    "    return team\n",
    "\n",
    "# Afficher la composition de l'équipe recommandée\n",
    "print(\"Composition d'équipe recommandée:\")\n",
    "recommended_team = recommend_team_from_predicted_performances(predicted_performances, data, budget=1000, max_players_per_team=3)\n",
    "for player in recommended_team:\n",
    "    print(\"Joueur:\", player['name'])\n",
    "    print(\"Poste:\", player['position'])\n",
    "    print(\"Équipe:\", player['team'])\n",
    "    print(\"Prix:\", player['cost'], 'k£')\n",
    "    print(\"Score prédit:\", player['predicted_performance'])\n",
    "    print()\n"
   ],
   "metadata": {
    "collapsed": false,
    "ExecuteTime": {
     "end_time": "2024-03-03T16:54:25.619101Z",
     "start_time": "2024-03-03T16:53:33.924401Z"
    }
   },
   "id": "659f1debf43ee021"
  },
  {
   "cell_type": "code",
   "execution_count": null,
   "outputs": [],
   "source": [],
   "metadata": {
    "collapsed": false
   },
   "id": "ba271ed76b34ec29"
  }
 ],
 "metadata": {
  "kernelspec": {
   "display_name": "Python 3",
   "language": "python",
   "name": "python3"
  },
  "language_info": {
   "codemirror_mode": {
    "name": "ipython",
    "version": 2
   },
   "file_extension": ".py",
   "mimetype": "text/x-python",
   "name": "python",
   "nbconvert_exporter": "python",
   "pygments_lexer": "ipython2",
   "version": "2.7.6"
  }
 },
 "nbformat": 4,
 "nbformat_minor": 5
}
