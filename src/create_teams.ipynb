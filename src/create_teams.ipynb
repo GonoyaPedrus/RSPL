{
 "cells": [
  {
   "cell_type": "code",
   "execution_count": 1,
   "metadata": {
    "collapsed": true
   },
   "outputs": [],
   "source": [
    "import pandas as pd "
   ]
  },
  {
   "cell_type": "code",
   "execution_count": 35,
   "metadata": {},
   "outputs": [
    {
     "name": "stdout",
     "output_type": "stream",
     "text": [
      "Oliver\n",
      "Casey\n",
      "Steven\n",
      "Alzate\n",
      "Rhian\n",
      "Brewster\n",
      "David\n",
      "Button\n",
      "{'DEF': [], 'MID': [], 'FWD': [], 'GK': []}\n",
      "160\n"
     ]
    }
   ],
   "source": [
    "#new_saison\n",
    "new_saison =\"2021-22\"\n",
    "previous_saison = \"2020-21\"\n",
    "dict_team = {\"DEF\":[],\n",
    "             \"MID\":[],\n",
    "             \"FWD\":[],\n",
    "             \"GK\":[],}\n",
    "\n",
    "\n",
    "def get_cheapest_players(previous_saison, dict_team):\n",
    "    df = pd.read_csv(f\"../data/{previous_saison}/cleaned_players.csv\")\n",
    "    cost = 0\n",
    "    for k, v in dict_team.items():\n",
    "        df_tmp = df[df[\"element_type\"] == k].sort_values(by=[\"now_cost\"]).head(1)\n",
    "        cost += df_tmp[\"now_cost\"].values[0]\n",
    "        print(df_tmp[\"first_name\"].values[0])\n",
    "        print(df_tmp[\"second_name\"].values[0])\n",
    "    print(dict_team)\n",
    "    print(cost)\n",
    "    return df\n",
    "\n",
    "df = get_cheapest_players(previous_saison, dict_team)\n"
   ]
  },
  {
   "cell_type": "code",
   "execution_count": null,
   "metadata": {},
   "outputs": [],
   "source": []
  }
 ],
 "metadata": {
  "kernelspec": {
   "display_name": "Python 3",
   "language": "python",
   "name": "python3"
  },
  "language_info": {
   "codemirror_mode": {
    "name": "ipython",
    "version": 3
   },
   "file_extension": ".py",
   "mimetype": "text/x-python",
   "name": "python",
   "nbconvert_exporter": "python",
   "pygments_lexer": "ipython3",
   "version": "3.10.11"
  }
 },
 "nbformat": 4,
 "nbformat_minor": 0
}
