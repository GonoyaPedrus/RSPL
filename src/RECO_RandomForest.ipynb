{
 "nbformat": 4,
 "nbformat_minor": 0,
 "metadata": {
  "colab": {
   "provenance": []
  },
  "kernelspec": {
   "name": "python3",
   "display_name": "Python 3"
  },
  "language_info": {
   "name": "python"
  }
 },
 "cells": [
  {
   "cell_type": "markdown",
   "source": [
    "Random Forest by Mélusine"
   ],
   "metadata": {
    "id": "Rnn08MZdd9l4"
   }
  },
  {
   "cell_type": "code",
   "source": [
    "# Import\n",
    "import pandas as pd\n",
    "from sklearn.model_selection import train_test_split\n",
    "from sklearn.ensemble import RandomForestRegressor\n",
    "from sklearn.metrics import mean_squared_error\n",
    "from sklearn.metrics import r2_score\n",
    "from sklearn.model_selection import cross_val_score\n",
    "from sklearn.metrics import mean_absolute_error"
   ],
   "metadata": {
    "id": "t_guzZn4eF3K"
   },
   "execution_count": 10,
   "outputs": []
  },
  {
   "cell_type": "code",
   "source": [
    "# Load datas\n",
    "data = pd.read_csv(\"cleaned_merged_seasons.csv\")"
   ],
   "metadata": {
    "colab": {
     "base_uri": "https://localhost:8080/"
    },
    "id": "DasIX92DeFxf",
    "outputId": "6acc5676-f000-4a33-8e67-96fe055f4853"
   },
   "execution_count": 11,
   "outputs": [
    {
     "output_type": "stream",
     "name": "stderr",
     "text": [
      "<ipython-input-11-03716eafe93e>:2: DtypeWarning: Columns (3) have mixed types. Specify dtype option on import or set low_memory=False.\n",
      "  data = pd.read_csv(\"cleaned_merged_seasons.csv\")\n"
     ]
    }
   ]
  },
  {
   "cell_type": "code",
   "source": [
    "print(data.head())"
   ],
   "metadata": {
    "colab": {
     "base_uri": "https://localhost:8080/"
    },
    "id": "WE1xS-oteFpe",
    "outputId": "bde1bafe-d860-4fd5-a6b3-f714a955e597"
   },
   "execution_count": 12,
   "outputs": [
    {
     "output_type": "stream",
     "name": "stdout",
     "text": [
      "  season_x                name position team_x  assists  bonus  bps  \\\n",
      "0  2016-17     Aaron Cresswell      DEF    NaN        0      0    0   \n",
      "1  2016-17        Aaron Lennon      MID    NaN        0      0    6   \n",
      "2  2016-17        Aaron Ramsey      MID    NaN        0      0    5   \n",
      "3  2016-17  Abdoulaye Doucouré      MID    NaN        0      0    0   \n",
      "4  2016-17        Adam Forshaw      MID    NaN        0      0    3   \n",
      "\n",
      "   clean_sheets  creativity  element  ...  team_h_score  threat  total_points  \\\n",
      "0             0         0.0      454  ...           2.0     0.0             0   \n",
      "1             0         0.3      142  ...           1.0     0.0             1   \n",
      "2             0         4.9       16  ...           3.0    23.0             2   \n",
      "3             0         0.0      482  ...           1.0     0.0             0   \n",
      "4             0         1.3      286  ...           1.0     0.0             1   \n",
      "\n",
      "   transfers_balance  transfers_in transfers_out  value  was_home  \\\n",
      "0                  0             0             0     55     False   \n",
      "1                  0             0             0     60      True   \n",
      "2                  0             0             0     80      True   \n",
      "3                  0             0             0     50     False   \n",
      "4                  0             0             0     45      True   \n",
      "\n",
      "  yellow_cards  GW  \n",
      "0            0   1  \n",
      "1            0   1  \n",
      "2            0   1  \n",
      "3            0   1  \n",
      "4            1   1  \n",
      "\n",
      "[5 rows x 37 columns]\n"
     ]
    }
   ]
  },
  {
   "cell_type": "code",
   "source": [
    "print(data.info())"
   ],
   "metadata": {
    "id": "aeDroIFjiSyd",
    "outputId": "7d5ed3a1-d47f-49c4-f999-a49c239368a3",
    "colab": {
     "base_uri": "https://localhost:8080/"
    }
   },
   "execution_count": 13,
   "outputs": [
    {
     "output_type": "stream",
     "name": "stdout",
     "text": [
      "<class 'pandas.core.frame.DataFrame'>\n",
      "RangeIndex: 96169 entries, 0 to 96168\n",
      "Data columns (total 37 columns):\n",
      " #   Column             Non-Null Count  Dtype  \n",
      "---  ------             --------------  -----  \n",
      " 0   season_x           96169 non-null  object \n",
      " 1   name               96169 non-null  object \n",
      " 2   position           96169 non-null  object \n",
      " 3   team_x             76317 non-null  object \n",
      " 4   assists            96169 non-null  int64  \n",
      " 5   bonus              96169 non-null  int64  \n",
      " 6   bps                96169 non-null  int64  \n",
      " 7   clean_sheets       96169 non-null  int64  \n",
      " 8   creativity         96169 non-null  float64\n",
      " 9   element            96169 non-null  int64  \n",
      " 10  fixture            96169 non-null  int64  \n",
      " 11  goals_conceded     96169 non-null  int64  \n",
      " 12  goals_scored       96169 non-null  int64  \n",
      " 13  ict_index          96169 non-null  float64\n",
      " 14  influence          96169 non-null  float64\n",
      " 15  kickoff_time       96169 non-null  object \n",
      " 16  minutes            96169 non-null  int64  \n",
      " 17  opponent_team      96169 non-null  int64  \n",
      " 18  opp_team_name      96169 non-null  object \n",
      " 19  own_goals          96169 non-null  int64  \n",
      " 20  penalties_missed   96169 non-null  int64  \n",
      " 21  penalties_saved    96169 non-null  int64  \n",
      " 22  red_cards          96169 non-null  int64  \n",
      " 23  round              96169 non-null  int64  \n",
      " 24  saves              96169 non-null  int64  \n",
      " 25  selected           96169 non-null  int64  \n",
      " 26  team_a_score       96169 non-null  float64\n",
      " 27  team_h_score       96169 non-null  float64\n",
      " 28  threat             96169 non-null  float64\n",
      " 29  total_points       96169 non-null  int64  \n",
      " 30  transfers_balance  96169 non-null  int64  \n",
      " 31  transfers_in       96169 non-null  int64  \n",
      " 32  transfers_out      96169 non-null  int64  \n",
      " 33  value              96169 non-null  int64  \n",
      " 34  was_home           96169 non-null  bool   \n",
      " 35  yellow_cards       96169 non-null  int64  \n",
      " 36  GW                 96169 non-null  int64  \n",
      "dtypes: bool(1), float64(6), int64(24), object(6)\n",
      "memory usage: 26.5+ MB\n",
      "None\n"
     ]
    }
   ]
  },
  {
   "cell_type": "code",
   "source": [
    "print(data.describe())"
   ],
   "metadata": {
    "id": "akt4ltT9iXjX",
    "outputId": "ec92bf20-04b1-49d0-b252-909d3b4bb68c",
    "colab": {
     "base_uri": "https://localhost:8080/"
    }
   },
   "execution_count": 14,
   "outputs": [
    {
     "output_type": "stream",
     "name": "stdout",
     "text": [
      "            assists         bonus           bps  clean_sheets    creativity  \\\n",
      "count  96169.000000  96169.000000  96169.000000  96169.000000  96169.000000   \n",
      "mean       0.041042      0.108715      6.080275      0.106739      4.734000   \n",
      "std        0.215378      0.492334      9.850595      0.308783     10.689879   \n",
      "min        0.000000      0.000000    -21.000000      0.000000      0.000000   \n",
      "25%        0.000000      0.000000      0.000000      0.000000      0.000000   \n",
      "50%        0.000000      0.000000      0.000000      0.000000      0.000000   \n",
      "75%        0.000000      0.000000     10.000000      0.000000      2.400000   \n",
      "max        4.000000      3.000000    128.000000      1.000000    170.900000   \n",
      "\n",
      "            element       fixture  goals_conceded  goals_scored     ict_index  \\\n",
      "count  96169.000000  96169.000000    96169.000000  96169.000000  96169.000000   \n",
      "mean     327.063264    198.413824        0.495887      0.045514      1.715793   \n",
      "std      194.313766    108.884200        0.974269      0.233644      3.042551   \n",
      "min        1.000000      1.000000        0.000000      0.000000      0.000000   \n",
      "25%      159.000000    105.000000        0.000000      0.000000      0.000000   \n",
      "50%      318.000000    203.000000        0.000000      0.000000      0.000000   \n",
      "75%      486.000000    293.000000        1.000000      0.000000      2.500000   \n",
      "max      778.000000    380.000000        9.000000      4.000000     32.800000   \n",
      "\n",
      "       ...  team_a_score  team_h_score        threat  total_points  \\\n",
      "count  ...  96169.000000  96169.000000  96169.000000  96169.000000   \n",
      "mean   ...      1.265158      1.516393      5.287598      1.379270   \n",
      "std    ...      1.229086      1.349184     13.368420      2.542535   \n",
      "min    ...      0.000000      0.000000      0.000000     -7.000000   \n",
      "25%    ...      0.000000      1.000000      0.000000      0.000000   \n",
      "50%    ...      1.000000      1.000000      0.000000      0.000000   \n",
      "75%    ...      2.000000      2.000000      2.000000      2.000000   \n",
      "max    ...      7.000000      9.000000    186.000000     29.000000   \n",
      "\n",
      "       transfers_balance  transfers_in  transfers_out         value  \\\n",
      "count       9.616900e+04  9.616900e+04   9.616900e+04  96169.000000   \n",
      "mean        1.677100e+03  1.454716e+04   1.286945e+04     51.352390   \n",
      "std         6.581628e+04  5.725343e+04   4.840128e+04     12.667432   \n",
      "min        -2.180978e+06  0.000000e+00   0.000000e+00     37.000000   \n",
      "25%        -1.374000e+03  4.600000e+01   1.280000e+02     44.000000   \n",
      "50%        -5.800000e+01  4.380000e+02   1.104000e+03     48.000000   \n",
      "75%         7.900000e+01  5.042000e+03   7.562000e+03     54.000000   \n",
      "max         1.983733e+06  2.104464e+06   2.233619e+06    133.000000   \n",
      "\n",
      "       yellow_cards            GW  \n",
      "count  96169.000000  96169.000000  \n",
      "mean       0.053167     20.772099  \n",
      "std        0.224367     10.941742  \n",
      "min        0.000000      1.000000  \n",
      "25%        0.000000     11.000000  \n",
      "50%        0.000000     22.000000  \n",
      "75%        0.000000     30.000000  \n",
      "max        1.000000     38.000000  \n",
      "\n",
      "[8 rows x 30 columns]\n"
     ]
    }
   ]
  },
  {
   "cell_type": "code",
   "source": [
    "# valeurs manquantes\n",
    "data = data.dropna(subset=['team_x'])\n",
    "\n",
    "# Normalise\n",
    "features_to_normalize = [\"creativity\", \"ict_index\", \"influence\", \"threat\"]\n",
    "data[features_to_normalize] = data[features_to_normalize].apply(lambda x: (x - x.min()) / (x.max() - x.min()))\n",
    "\n",
    "# Encode\n",
    "data_encoded = pd.get_dummies(data, columns=[\"season_x\", \"position\", \"team_x\", \"kickoff_time\", \"opp_team_name\"], drop_first=True)\n",
    "\n",
    "# data type int\n",
    "data_encoded['was_home'] = data_encoded['was_home'].astype(int)\n",
    "\n",
    "# Retirer la colonne \"name\"\n",
    "player_names = data_encoded['name'].reset_index(drop=True)\n",
    "data_encoded = data_encoded.drop('name', axis=1)"
   ],
   "metadata": {
    "colab": {
     "base_uri": "https://localhost:8080/"
    },
    "id": "NAzkM0-XjHDN",
    "outputId": "46560b19-cc4b-4bfa-a4b3-4fb7c48a9828"
   },
   "execution_count": 15,
   "outputs": [
    {
     "output_type": "stream",
     "name": "stderr",
     "text": [
      "<ipython-input-15-d8dac73b6c8b>:6: SettingWithCopyWarning: \n",
      "A value is trying to be set on a copy of a slice from a DataFrame.\n",
      "Try using .loc[row_indexer,col_indexer] = value instead\n",
      "\n",
      "See the caveats in the documentation: https://pandas.pydata.org/pandas-docs/stable/user_guide/indexing.html#returning-a-view-versus-a-copy\n",
      "  data[features_to_normalize] = data[features_to_normalize].apply(lambda x: (x - x.min()) / (x.max() - x.min()))\n"
     ]
    }
   ]
  },
  {
   "cell_type": "code",
   "source": [
    "print(player_names)"
   ],
   "metadata": {
    "id": "2P0IG_ipqRvi",
    "outputId": "7f8c9638-23ad-45e8-f2bd-02a293bb3d8e",
    "colab": {
     "base_uri": "https://localhost:8080/"
    }
   },
   "execution_count": 16,
   "outputs": [
    {
     "output_type": "stream",
     "name": "stdout",
     "text": [
      "0                  Aaron Connolly\n",
      "1                 Aaron Cresswell\n",
      "2                      Aaron Mooy\n",
      "3                  Aaron Ramsdale\n",
      "4              Abdoulaye Doucouré\n",
      "                   ...           \n",
      "76312                Oliver Skipp\n",
      "76313              Ryan Sessegnon\n",
      "76314                Ashley Young\n",
      "76315    Jeremy Sarmiento Morante\n",
      "76316              Philip Billing\n",
      "Name: name, Length: 76317, dtype: object\n"
     ]
    }
   ]
  },
  {
   "cell_type": "code",
   "source": [
    "print(data_encoded.head())"
   ],
   "metadata": {
    "id": "qFlKJCm3jV_q",
    "outputId": "cbdccb98-244f-4985-e9b2-6516ce94668c",
    "colab": {
     "base_uri": "https://localhost:8080/"
    }
   },
   "execution_count": 17,
   "outputs": [
    {
     "output_type": "stream",
     "name": "stdout",
     "text": [
      "       assists  bonus  bps  clean_sheets  creativity  element  fixture  \\\n",
      "19852        0      0   -3             0    0.002203       78        7   \n",
      "19853        0      0   11             0    0.082232      435        6   \n",
      "19854        0      0    0             0    0.000000       60        7   \n",
      "19855        0      0   12             0    0.000000      483        8   \n",
      "19856        0      0   20             1    0.327460      512        4   \n",
      "\n",
      "       goals_conceded  goals_scored  ict_index  ...  opp_team_name_Newcastle  \\\n",
      "19852               2             0   0.103659  ...                        0   \n",
      "19853               2             0   0.067073  ...                        1   \n",
      "19854               0             0   0.000000  ...                        0   \n",
      "19855               2             0   0.054878  ...                        0   \n",
      "19856               0             0   0.210366  ...                        0   \n",
      "\n",
      "       opp_team_name_Norwich  opp_team_name_Nott'm Forest  \\\n",
      "19852                      0                            0   \n",
      "19853                      0                            0   \n",
      "19854                      0                            0   \n",
      "19855                      0                            0   \n",
      "19856                      0                            0   \n",
      "\n",
      "       opp_team_name_Sheffield Utd  opp_team_name_Southampton  \\\n",
      "19852                            0                          0   \n",
      "19853                            0                          0   \n",
      "19854                            0                          0   \n",
      "19855                            0                          0   \n",
      "19856                            0                          0   \n",
      "\n",
      "       opp_team_name_Spurs  opp_team_name_Watford  opp_team_name_West Brom  \\\n",
      "19852                    0                      0                        0   \n",
      "19853                    0                      0                        0   \n",
      "19854                    0                      0                        0   \n",
      "19855                    0                      0                        0   \n",
      "19856                    1                      0                        0   \n",
      "\n",
      "       opp_team_name_West Ham  opp_team_name_Wolves  \n",
      "19852                       0                     0  \n",
      "19853                       0                     0  \n",
      "19854                       0                     0  \n",
      "19855                       0                     1  \n",
      "19856                       0                     0  \n",
      "\n",
      "[5 rows x 882 columns]\n"
     ]
    }
   ]
  },
  {
   "cell_type": "code",
   "source": [
    "print(data_encoded.info())"
   ],
   "metadata": {
    "id": "4SwAHjzUj_Zc",
    "outputId": "8402bdfa-fbb3-4c14-f75e-5afd24905be3",
    "colab": {
     "base_uri": "https://localhost:8080/"
    }
   },
   "execution_count": 18,
   "outputs": [
    {
     "output_type": "stream",
     "name": "stdout",
     "text": [
      "<class 'pandas.core.frame.DataFrame'>\n",
      "Int64Index: 76317 entries, 19852 to 96168\n",
      "Columns: 882 entries, assists to opp_team_name_Wolves\n",
      "dtypes: float64(6), int64(25), uint8(851)\n",
      "memory usage: 80.6 MB\n",
      "None\n"
     ]
    }
   ]
  },
  {
   "cell_type": "code",
   "source": [
    "print(data_encoded.describe())"
   ],
   "metadata": {
    "id": "R70JhoSdkKNl",
    "outputId": "d6b8ba7c-145a-4e2f-c5cb-38372cf1a041",
    "colab": {
     "base_uri": "https://localhost:8080/"
    }
   },
   "execution_count": 19,
   "outputs": [
    {
     "output_type": "stream",
     "name": "stdout",
     "text": [
      "            assists         bonus           bps  clean_sheets    creativity  \\\n",
      "count  76317.000000  76317.000000  76317.000000  76317.000000  76317.000000   \n",
      "mean       0.036178      0.096099      5.387790      0.094553      0.030708   \n",
      "std        0.202554      0.464405      9.317563      0.292598      0.073637   \n",
      "min        0.000000      0.000000    -21.000000      0.000000      0.000000   \n",
      "25%        0.000000      0.000000      0.000000      0.000000      0.000000   \n",
      "50%        0.000000      0.000000      0.000000      0.000000      0.000000   \n",
      "75%        0.000000      0.000000      9.000000      0.000000      0.011747   \n",
      "max        4.000000      3.000000    128.000000      1.000000      1.000000   \n",
      "\n",
      "            element       fixture  goals_conceded  goals_scored     ict_index  \\\n",
      "count  76317.000000  76317.000000    76317.000000  76317.000000  76317.000000   \n",
      "mean     337.943787    199.107381        0.458207      0.040109      0.046101   \n",
      "std      197.865813    108.770140        0.948956      0.218702      0.087038   \n",
      "min        1.000000      1.000000        0.000000      0.000000      0.000000   \n",
      "25%      168.000000    106.000000        0.000000      0.000000      0.000000   \n",
      "50%      335.000000    204.000000        0.000000      0.000000      0.000000   \n",
      "75%      503.000000    293.000000        1.000000      0.000000      0.064024   \n",
      "max      778.000000    380.000000        9.000000      4.000000      1.000000   \n",
      "\n",
      "       ...  opp_team_name_Newcastle  opp_team_name_Norwich  \\\n",
      "count  ...             76317.000000           76317.000000   \n",
      "mean   ...                 0.050199               0.016536   \n",
      "std    ...                 0.218356               0.127527   \n",
      "min    ...                 0.000000               0.000000   \n",
      "25%    ...                 0.000000               0.000000   \n",
      "50%    ...                 0.000000               0.000000   \n",
      "75%    ...                 0.000000               0.000000   \n",
      "max    ...                 1.000000               1.000000   \n",
      "\n",
      "       opp_team_name_Nott'm Forest  opp_team_name_Sheffield Utd  \\\n",
      "count                 76317.000000                 76317.000000   \n",
      "mean                      0.017100                     0.015999   \n",
      "std                       0.129644                     0.125472   \n",
      "min                       0.000000                     0.000000   \n",
      "25%                       0.000000                     0.000000   \n",
      "50%                       0.000000                     0.000000   \n",
      "75%                       0.000000                     0.000000   \n",
      "max                       1.000000                     1.000000   \n",
      "\n",
      "       opp_team_name_Southampton  opp_team_name_Spurs  opp_team_name_Watford  \\\n",
      "count               76317.000000         76317.000000           76317.000000   \n",
      "mean                    0.050094             0.050225               0.016209   \n",
      "std                     0.218140             0.218410               0.126278   \n",
      "min                     0.000000             0.000000               0.000000   \n",
      "25%                     0.000000             0.000000               0.000000   \n",
      "50%                     0.000000             0.000000               0.000000   \n",
      "75%                     0.000000             0.000000               0.000000   \n",
      "max                     1.000000             1.000000               1.000000   \n",
      "\n",
      "       opp_team_name_West Brom  opp_team_name_West Ham  opp_team_name_Wolves  \n",
      "count             76317.000000            76317.000000          76317.000000  \n",
      "mean                  0.016065                0.050212              0.050081  \n",
      "std                   0.125725                0.218383              0.218113  \n",
      "min                   0.000000                0.000000              0.000000  \n",
      "25%                   0.000000                0.000000              0.000000  \n",
      "50%                   0.000000                0.000000              0.000000  \n",
      "75%                   0.000000                0.000000              0.000000  \n",
      "max                   1.000000                1.000000              1.000000  \n",
      "\n",
      "[8 rows x 882 columns]\n"
     ]
    }
   ]
  },
  {
   "cell_type": "code",
   "source": [
    "# features (X) et cible (y)\n",
    "X = data_encoded.copy()\n",
    "\n",
    "# Ajouter les colonnes 'team_x' et 'position' à X\n",
    "columns_to_add = ['team_x', 'position']\n",
    "if all(col in data_encoded.columns for col in columns_to_add):\n",
    "    X[columns_to_add] = data_encoded[columns_to_add]\n",
    "\n",
    "# Supprimer la colonne 'total_points' de X\n",
    "X = X.drop('total_points', axis=1)\n",
    "\n",
    "# Cible (y)\n",
    "y = data_encoded['total_points']\n"
   ],
   "metadata": {
    "id": "AlZYYw_xlWkQ"
   },
   "execution_count": 20,
   "outputs": []
  },
  {
   "cell_type": "code",
   "source": [
    "# Train-test split\n",
    "X_train, X_test, y_train, y_test, player_names_train, player_names_test = train_test_split(X, y, player_names, test_size=0.2, random_state=42)"
   ],
   "metadata": {
    "id": "QY7yOKTElWf4"
   },
   "execution_count": 21,
   "outputs": []
  },
  {
   "cell_type": "code",
   "source": [
    "print(X_test.columns)"
   ],
   "metadata": {
    "colab": {
     "base_uri": "https://localhost:8080/"
    },
    "id": "QPvkcraHNpCJ",
    "outputId": "da5c19dc-909f-4b2b-e196-aeb33e115446"
   },
   "execution_count": 22,
   "outputs": [
    {
     "output_type": "stream",
     "name": "stdout",
     "text": [
      "Index(['assists', 'bonus', 'bps', 'clean_sheets', 'creativity', 'element',\n",
      "       'fixture', 'goals_conceded', 'goals_scored', 'ict_index',\n",
      "       ...\n",
      "       'opp_team_name_Newcastle', 'opp_team_name_Norwich',\n",
      "       'opp_team_name_Nott'm Forest', 'opp_team_name_Sheffield Utd',\n",
      "       'opp_team_name_Southampton', 'opp_team_name_Spurs',\n",
      "       'opp_team_name_Watford', 'opp_team_name_West Brom',\n",
      "       'opp_team_name_West Ham', 'opp_team_name_Wolves'],\n",
      "      dtype='object', length=881)\n"
     ]
    }
   ]
  },
  {
   "cell_type": "code",
   "source": [
    "# Random Forest\n",
    "random_forest_model = RandomForestRegressor(n_estimators=100, random_state=42)"
   ],
   "metadata": {
    "id": "LXY-S2FzlWcv"
   },
   "execution_count": 23,
   "outputs": []
  },
  {
   "cell_type": "code",
   "source": [
    "# Train\n",
    "random_forest_model.fit(X_train, y_train)"
   ],
   "metadata": {
    "colab": {
     "base_uri": "https://localhost:8080/",
     "height": 75
    },
    "id": "0MNXrNHSlWUF",
    "outputId": "a8c3fb0a-614a-4ec4-c9f2-60abe029caf7"
   },
   "execution_count": 24,
   "outputs": [
    {
     "output_type": "execute_result",
     "data": {
      "text/plain": [
       "RandomForestRegressor(random_state=42)"
      ],
      "text/html": [
       "<style>#sk-container-id-1 {color: black;background-color: white;}#sk-container-id-1 pre{padding: 0;}#sk-container-id-1 div.sk-toggleable {background-color: white;}#sk-container-id-1 label.sk-toggleable__label {cursor: pointer;display: block;width: 100%;margin-bottom: 0;padding: 0.3em;box-sizing: border-box;text-align: center;}#sk-container-id-1 label.sk-toggleable__label-arrow:before {content: \"▸\";float: left;margin-right: 0.25em;color: #696969;}#sk-container-id-1 label.sk-toggleable__label-arrow:hover:before {color: black;}#sk-container-id-1 div.sk-estimator:hover label.sk-toggleable__label-arrow:before {color: black;}#sk-container-id-1 div.sk-toggleable__content {max-height: 0;max-width: 0;overflow: hidden;text-align: left;background-color: #f0f8ff;}#sk-container-id-1 div.sk-toggleable__content pre {margin: 0.2em;color: black;border-radius: 0.25em;background-color: #f0f8ff;}#sk-container-id-1 input.sk-toggleable__control:checked~div.sk-toggleable__content {max-height: 200px;max-width: 100%;overflow: auto;}#sk-container-id-1 input.sk-toggleable__control:checked~label.sk-toggleable__label-arrow:before {content: \"▾\";}#sk-container-id-1 div.sk-estimator input.sk-toggleable__control:checked~label.sk-toggleable__label {background-color: #d4ebff;}#sk-container-id-1 div.sk-label input.sk-toggleable__control:checked~label.sk-toggleable__label {background-color: #d4ebff;}#sk-container-id-1 input.sk-hidden--visually {border: 0;clip: rect(1px 1px 1px 1px);clip: rect(1px, 1px, 1px, 1px);height: 1px;margin: -1px;overflow: hidden;padding: 0;position: absolute;width: 1px;}#sk-container-id-1 div.sk-estimator {font-family: monospace;background-color: #f0f8ff;border: 1px dotted black;border-radius: 0.25em;box-sizing: border-box;margin-bottom: 0.5em;}#sk-container-id-1 div.sk-estimator:hover {background-color: #d4ebff;}#sk-container-id-1 div.sk-parallel-item::after {content: \"\";width: 100%;border-bottom: 1px solid gray;flex-grow: 1;}#sk-container-id-1 div.sk-label:hover label.sk-toggleable__label {background-color: #d4ebff;}#sk-container-id-1 div.sk-serial::before {content: \"\";position: absolute;border-left: 1px solid gray;box-sizing: border-box;top: 0;bottom: 0;left: 50%;z-index: 0;}#sk-container-id-1 div.sk-serial {display: flex;flex-direction: column;align-items: center;background-color: white;padding-right: 0.2em;padding-left: 0.2em;position: relative;}#sk-container-id-1 div.sk-item {position: relative;z-index: 1;}#sk-container-id-1 div.sk-parallel {display: flex;align-items: stretch;justify-content: center;background-color: white;position: relative;}#sk-container-id-1 div.sk-item::before, #sk-container-id-1 div.sk-parallel-item::before {content: \"\";position: absolute;border-left: 1px solid gray;box-sizing: border-box;top: 0;bottom: 0;left: 50%;z-index: -1;}#sk-container-id-1 div.sk-parallel-item {display: flex;flex-direction: column;z-index: 1;position: relative;background-color: white;}#sk-container-id-1 div.sk-parallel-item:first-child::after {align-self: flex-end;width: 50%;}#sk-container-id-1 div.sk-parallel-item:last-child::after {align-self: flex-start;width: 50%;}#sk-container-id-1 div.sk-parallel-item:only-child::after {width: 0;}#sk-container-id-1 div.sk-dashed-wrapped {border: 1px dashed gray;margin: 0 0.4em 0.5em 0.4em;box-sizing: border-box;padding-bottom: 0.4em;background-color: white;}#sk-container-id-1 div.sk-label label {font-family: monospace;font-weight: bold;display: inline-block;line-height: 1.2em;}#sk-container-id-1 div.sk-label-container {text-align: center;}#sk-container-id-1 div.sk-container {/* jupyter's `normalize.less` sets `[hidden] { display: none; }` but bootstrap.min.css set `[hidden] { display: none !important; }` so we also need the `!important` here to be able to override the default hidden behavior on the sphinx rendered scikit-learn.org. See: https://github.com/scikit-learn/scikit-learn/issues/21755 */display: inline-block !important;position: relative;}#sk-container-id-1 div.sk-text-repr-fallback {display: none;}</style><div id=\"sk-container-id-1\" class=\"sk-top-container\"><div class=\"sk-text-repr-fallback\"><pre>RandomForestRegressor(random_state=42)</pre><b>In a Jupyter environment, please rerun this cell to show the HTML representation or trust the notebook. <br />On GitHub, the HTML representation is unable to render, please try loading this page with nbviewer.org.</b></div><div class=\"sk-container\" hidden><div class=\"sk-item\"><div class=\"sk-estimator sk-toggleable\"><input class=\"sk-toggleable__control sk-hidden--visually\" id=\"sk-estimator-id-1\" type=\"checkbox\" checked><label for=\"sk-estimator-id-1\" class=\"sk-toggleable__label sk-toggleable__label-arrow\">RandomForestRegressor</label><div class=\"sk-toggleable__content\"><pre>RandomForestRegressor(random_state=42)</pre></div></div></div></div></div>"
      ]
     },
     "metadata": {},
     "execution_count": 24
    }
   ]
  },
  {
   "cell_type": "code",
   "source": [
    "# Prédictions sur l'ensemble de test\n",
    "predictions = random_forest_model.predict(X_test)"
   ],
   "metadata": {
    "id": "OuL95TfzldoT"
   },
   "execution_count": 25,
   "outputs": []
  },
  {
   "cell_type": "code",
   "source": [
    "\n",
    "print(predictions)\n"
   ],
   "metadata": {
    "colab": {
     "base_uri": "https://localhost:8080/"
    },
    "id": "VLf-wDnhovh1",
    "outputId": "d91914bf-3a4b-40bd-ace2-ad3c37586183"
   },
   "execution_count": 26,
   "outputs": [
    {
     "output_type": "stream",
     "name": "stdout",
     "text": [
      "[1. 2. 0. ... 0. 0. 5.]\n"
     ]
    }
   ]
  },
  {
   "cell_type": "code",
   "source": [
    "player_names_test = player_names_test.reset_index(drop=True)"
   ],
   "metadata": {
    "id": "gxrPP7-CVHiy"
   },
   "execution_count": 27,
   "outputs": []
  },
  {
   "cell_type": "code",
   "source": [
    "results_df = pd.DataFrame({'Name': player_names_test, 'Predicted_Total_Points': predictions})\n",
    "\n",
    "print(results_df)\n"
   ],
   "metadata": {
    "colab": {
     "base_uri": "https://localhost:8080/"
    },
    "id": "w3Mk8zu0nqjy",
    "outputId": "74f26a4d-3e0f-427e-8b8c-a643b7d115d5"
   },
   "execution_count": 28,
   "outputs": [
    {
     "output_type": "stream",
     "name": "stdout",
     "text": [
      "                    Name  Predicted_Total_Points\n",
      "0           Daniel James                     1.0\n",
      "1           Nicolas Pépé                     2.0\n",
      "2             Sam Waller                     0.0\n",
      "3             Bernd Leno                     0.0\n",
      "4       Ezri Konsa Ngoyo                     6.0\n",
      "...                  ...                     ...\n",
      "15259  Aaron Wan-Bissaka                     0.0\n",
      "15260       Divock Origi                     0.0\n",
      "15261   Joseph Whitworth                     0.0\n",
      "15262       Alex Mighten                     0.0\n",
      "15263  Christian Pulisic                     5.0\n",
      "\n",
      "[15264 rows x 2 columns]\n"
     ]
    }
   ]
  },
  {
   "cell_type": "code",
   "source": [
    "# performances\n",
    "mae = mean_absolute_error(y_test, predictions)\n",
    "r2 = r2_score(y_test, predictions)\n",
    "\n",
    "print(f'Mean Absolute Error (MAE) on Test Set: {mae}')\n",
    "print(f'R-squared on Test Set: {r2}')"
   ],
   "metadata": {
    "colab": {
     "base_uri": "https://localhost:8080/"
    },
    "id": "wim91-Z2ldmK",
    "outputId": "f285fa14-3ea1-47b1-f373-8ab341e2db27"
   },
   "execution_count": 29,
   "outputs": [
    {
     "output_type": "stream",
     "name": "stdout",
     "text": [
      "Mean Absolute Error (MAE) on Test Set: 0.031267033542976934\n",
      "R-squared on Test Set: 0.9921837594764341\n"
     ]
    }
   ]
  },
  {
   "cell_type": "markdown",
   "source": [
    "Mean Absolute Error (MAE): Une valeur de MAE aussi basse (0.031) indique que les prédictions du modèle sont en moyenne très proches des valeurs réelles.\n",
    "\n",
    "R-squared (R2): Une valeur de R-squared aussi élevée (0.992) suggère que votre modèle explique très bien la variance des données de test. En d'autres termes, environ 99.2% de la variance de la variable dépendante (total_points) est expliquée par votre modèle."
   ],
   "metadata": {
    "id": "WLWC-OmqDkel"
   }
  },
  {
   "cell_type": "code",
   "source": [
    "from sklearn.model_selection import cross_val_score\n",
    "\n",
    "# Effectuer la validation croisée\n",
    "cross_val_scores = cross_val_score(random_forest_model, X, y, cv=5, scoring='neg_mean_absolute_error')\n",
    "\n",
    "# Calculer la moyenne des scores\n",
    "average_mae = -cross_val_scores.mean()\n",
    "\n",
    "# Afficher les résultats\n",
    "print(f'Average Cross-Validated Mean Absolute Error: {average_mae}')"
   ],
   "metadata": {
    "colab": {
     "base_uri": "https://localhost:8080/"
    },
    "id": "0cKW2FUhDlUZ",
    "outputId": "95f2c4f2-126d-4ffb-8cdf-00eeccec1c88"
   },
   "execution_count": 30,
   "outputs": [
    {
     "output_type": "stream",
     "name": "stdout",
     "text": [
      "Average Cross-Validated Mean Absolute Error: 0.027796799839391817\n"
     ]
    }
   ]
  },
  {
   "cell_type": "code",
   "source": [
    "import matplotlib.pyplot as plt\n",
    "import seaborn as sns\n",
    "from sklearn.metrics import mean_absolute_error\n",
    "from sklearn.model_selection import cross_val_predict\n",
    "\n",
    "# Prédictions sur l'ensemble de test\n",
    "y_pred = random_forest_model.predict(X_test)\n",
    "\n",
    "# Scatter plot des valeurs réelles par rapport aux valeurs prédites\n",
    "plt.figure(figsize=(10, 6))\n",
    "plt.scatter(y_test, y_pred)\n",
    "plt.title('Scatter Plot des Valeurs Réelles vs. Prédites')\n",
    "plt.xlabel('Valeurs Réelles')\n",
    "plt.ylabel('Valeurs Prédites')\n",
    "plt.show()\n",
    "\n",
    "# Plot des résidus\n",
    "residuals = y_test - y_pred\n",
    "plt.figure(figsize=(10, 6))\n",
    "sns.histplot(residuals, kde=True)\n",
    "plt.title('Courbe de Densité des Résidus')\n",
    "plt.xlabel('Résidus')\n",
    "plt.ylabel('Densité')\n",
    "plt.show()\n",
    "\n",
    "# Graphique pour cross_val_scores\n",
    "plt.figure(figsize=(8, 6))\n",
    "sns.barplot(x=list(range(1, 6)), y=cross_val_scores)\n",
    "plt.title('Scores de Validation Croisée')\n",
    "plt.xlabel('Fold')\n",
    "plt.ylabel('Negative Mean Absolute Error')\n",
    "plt.show()\n",
    "\n",
    "# Graphique pour average_mae\n",
    "plt.figure(figsize=(8, 6))\n",
    "sns.barplot(x=['Average MAE'], y=[average_mae])\n",
    "plt.title('Average Cross-Validated MAE')\n",
    "plt.ylabel('Negative Mean Absolute Error')\n",
    "plt.show()\n"
   ],
   "metadata": {
    "id": "fYjgfS0tKkP2",
    "outputId": "04cc1502-f158-4fe3-d85e-2bf94861ae92",
    "colab": {
     "base_uri": "https://localhost:8080/",
     "height": 1000
    }
   },
   "execution_count": 35,
   "outputs": [
    {
     "output_type": "display_data",
     "data": {
      "text/plain": [
       "<Figure size 1000x600 with 1 Axes>"
      ],
      "image/png": "[encoded data removed]"
     },
     "metadata": {}
    },
    {
     "output_type": "display_data",
     "data": {
      "text/plain": [
       "<Figure size 1000x600 with 1 Axes>"
      ],
      "image/png": "[encoded data removed]"
     },
     "metadata": {}
    },
    {
     "output_type": "display_data",
     "data": {
      "text/plain": [
       "<Figure size 800x600 with 1 Axes>"
      ],
      "image/png": "[encoded data removed]"
     },
     "metadata": {}
    },
    {
     "output_type": "display_data",
     "data": {
      "text/plain": [
       "<Figure size 800x600 with 1 Axes>"
      ],
      "image/png": "[encoded data removed]"
     },
     "metadata": {}
    }
   ]
  },
  {
   "cell_type": "markdown",
   "source": [
    "L'obtention d'un \"Average Cross-Validated Mean Absolute Error\" aussi bas (0.0278) confirme la robustesse de votre modèle, même après avoir été évalué sur plusieurs plis de validation croisée. Une valeur de MAE aussi basse indique que votre modèle est capable de faire des prédictions précises et cohérentes sur des données non vues.\n",
    "\n",
    "Vous avez donc un modèle qui semble bien généraliser et maintenir sa performance sur différentes portions des données d'entraînement. Cela renforce la confiance dans la capacité du modèle à être efficace lorsqu'il est déployé sur de nouvelles données."
   ],
   "metadata": {
    "id": "loMs5FpiG3dD"
   }
  }
 ]
}
