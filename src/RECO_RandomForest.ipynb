{
  "nbformat": 4,
  "nbformat_minor": 0,
  "metadata": {
    "colab": {
      "provenance": []
    },
    "kernelspec": {
      "name": "python3",
      "display_name": "Python 3"
    },
    "language_info": {
      "name": "python"
    }
  },
  "cells": [
    {
      "cell_type": "markdown",
      "source": [
        "Random Forest by Mélusine"
      ],
      "metadata": {
        "id": "Rnn08MZdd9l4"
      }
    },
    {
      "cell_type": "code",
      "source": [
        "# Import\n",
        "import pandas as pd\n",
        "from sklearn.model_selection import train_test_split\n",
        "from sklearn.ensemble import RandomForestRegressor\n",
        "from sklearn.metrics import mean_squared_error\n",
        "from sklearn.metrics import r2_score\n",
        "from sklearn.model_selection import cross_val_score\n",
        "from sklearn.metrics import mean_absolute_error"
      ],
      "metadata": {
        "id": "t_guzZn4eF3K"
      },
      "execution_count": 215,
      "outputs": []
    },
    {
      "cell_type": "code",
      "source": [
        "# Load datas\n",
        "data = pd.read_csv(\"/content/cleaned_merged_seasons.csv\", sep=\",\")"
      ],
      "metadata": {
        "colab": {
          "base_uri": "https://localhost:8080/"
        },
        "id": "DasIX92DeFxf",
        "outputId": "def31eb4-b784-4fc3-f518-e962183a5a5a"
      },
      "execution_count": 241,
      "outputs": [
        {
          "output_type": "stream",
          "name": "stderr",
          "text": [
            "<ipython-input-241-03453092df57>:2: DtypeWarning: Columns (3) have mixed types. Specify dtype option on import or set low_memory=False.\n",
            "  data = pd.read_csv(\"/content/cleaned_merged_seasons.csv\", sep=\",\")\n"
          ]
        }
      ]
    },
    {
      "cell_type": "code",
      "source": [
        "print(data.head())"
      ],
      "metadata": {
        "colab": {
          "base_uri": "https://localhost:8080/"
        },
        "id": "WE1xS-oteFpe",
        "outputId": "1f05e077-23d5-4e47-cae7-130d873cbf30"
      },
      "execution_count": 242,
      "outputs": [
        {
          "output_type": "stream",
          "name": "stdout",
          "text": [
            "  season_x                name position team_x  assists  bonus  bps  \\\n",
            "0  2016-17     Aaron Cresswell      DEF    NaN        0      0    0   \n",
            "1  2016-17        Aaron Lennon      MID    NaN        0      0    6   \n",
            "2  2016-17        Aaron Ramsey      MID    NaN        0      0    5   \n",
            "3  2016-17  Abdoulaye Doucouré      MID    NaN        0      0    0   \n",
            "4  2016-17        Adam Forshaw      MID    NaN        0      0    3   \n",
            "\n",
            "   clean_sheets  creativity  element  ...  team_h_score  threat  total_points  \\\n",
            "0             0         0.0      454  ...           2.0     0.0             0   \n",
            "1             0         0.3      142  ...           1.0     0.0             1   \n",
            "2             0         4.9       16  ...           3.0    23.0             2   \n",
            "3             0         0.0      482  ...           1.0     0.0             0   \n",
            "4             0         1.3      286  ...           1.0     0.0             1   \n",
            "\n",
            "   transfers_balance  transfers_in transfers_out  value  was_home  \\\n",
            "0                  0             0             0     55     False   \n",
            "1                  0             0             0     60      True   \n",
            "2                  0             0             0     80      True   \n",
            "3                  0             0             0     50     False   \n",
            "4                  0             0             0     45      True   \n",
            "\n",
            "  yellow_cards  GW  \n",
            "0            0   1  \n",
            "1            0   1  \n",
            "2            0   1  \n",
            "3            0   1  \n",
            "4            1   1  \n",
            "\n",
            "[5 rows x 37 columns]\n"
          ]
        }
      ]
    },
    {
      "cell_type": "code",
      "source": [
        "print(data.info())"
      ],
      "metadata": {
        "id": "aeDroIFjiSyd"
      },
      "execution_count": null,
      "outputs": []
    },
    {
      "cell_type": "code",
      "source": [
        "print(data.describe())"
      ],
      "metadata": {
        "id": "akt4ltT9iXjX"
      },
      "execution_count": null,
      "outputs": []
    },
    {
      "cell_type": "code",
      "source": [
        "# valeurs manquantes\n",
        "data = data.dropna(subset=['team_x'])\n",
        "\n",
        "# Normalise\n",
        "features_to_normalize = [\"creativity\", \"ict_index\", \"influence\", \"threat\"]\n",
        "data[features_to_normalize] = data[features_to_normalize].apply(lambda x: (x - x.min()) / (x.max() - x.min()))\n",
        "\n",
        "# Encode\n",
        "data_encoded = pd.get_dummies(data, columns=[\"season_x\", \"position\", \"team_x\", \"kickoff_time\", \"opp_team_name\"], drop_first=True)\n",
        "\n",
        "# data type int\n",
        "data_encoded['was_home'] = data_encoded['was_home'].astype(int)\n",
        "\n",
        "# Retirer la colonne \"name\"\n",
        "player_names = data_encoded['name'].reset_index(drop=True)\n",
        "data_encoded = data_encoded.drop('name', axis=1)"
      ],
      "metadata": {
        "colab": {
          "base_uri": "https://localhost:8080/"
        },
        "id": "NAzkM0-XjHDN",
        "outputId": "dcaab9e3-beac-44fc-ee65-d28eb41fbdc9"
      },
      "execution_count": 229,
      "outputs": [
        {
          "output_type": "stream",
          "name": "stderr",
          "text": [
            "<ipython-input-229-5f571e40d00a>:6: SettingWithCopyWarning: \n",
            "A value is trying to be set on a copy of a slice from a DataFrame.\n",
            "Try using .loc[row_indexer,col_indexer] = value instead\n",
            "\n",
            "See the caveats in the documentation: https://pandas.pydata.org/pandas-docs/stable/user_guide/indexing.html#returning-a-view-versus-a-copy\n",
            "  data[features_to_normalize] = data[features_to_normalize].apply(lambda x: (x - x.min()) / (x.max() - x.min()))\n"
          ]
        }
      ]
    },
    {
      "cell_type": "code",
      "source": [
        "print(player_names)"
      ],
      "metadata": {
        "id": "2P0IG_ipqRvi"
      },
      "execution_count": null,
      "outputs": []
    },
    {
      "cell_type": "code",
      "source": [
        "print(data_encoded.head())"
      ],
      "metadata": {
        "id": "qFlKJCm3jV_q"
      },
      "execution_count": null,
      "outputs": []
    },
    {
      "cell_type": "code",
      "source": [
        "print(data_encoded.info())"
      ],
      "metadata": {
        "id": "4SwAHjzUj_Zc"
      },
      "execution_count": null,
      "outputs": []
    },
    {
      "cell_type": "code",
      "source": [
        "print(data_encoded.describe())"
      ],
      "metadata": {
        "id": "R70JhoSdkKNl"
      },
      "execution_count": null,
      "outputs": []
    },
    {
      "cell_type": "code",
      "source": [
        "# features (X) et cible (y)\n",
        "X = data_encoded.copy()\n",
        "\n",
        "# Ajouter les colonnes 'team_x' et 'position' à X\n",
        "columns_to_add = ['team_x', 'position']\n",
        "if all(col in data_encoded.columns for col in columns_to_add):\n",
        "    X[columns_to_add] = data_encoded[columns_to_add]\n",
        "\n",
        "# Supprimer la colonne 'total_points' de X\n",
        "X = X.drop('total_points', axis=1)\n",
        "\n",
        "# Cible (y)\n",
        "y = data_encoded['total_points']\n"
      ],
      "metadata": {
        "id": "AlZYYw_xlWkQ"
      },
      "execution_count": 231,
      "outputs": []
    },
    {
      "cell_type": "code",
      "source": [
        "# Train-test split\n",
        "X_train, X_test, y_train, y_test, player_names_train, player_names_test = train_test_split(X, y, player_names, test_size=0.2, random_state=42)"
      ],
      "metadata": {
        "id": "QY7yOKTElWf4"
      },
      "execution_count": 232,
      "outputs": []
    },
    {
      "cell_type": "code",
      "source": [
        "print(X_test.columns)"
      ],
      "metadata": {
        "colab": {
          "base_uri": "https://localhost:8080/"
        },
        "id": "QPvkcraHNpCJ",
        "outputId": "35f374c0-c732-4fa6-9d0e-834e9eeedfe0"
      },
      "execution_count": 220,
      "outputs": [
        {
          "output_type": "stream",
          "name": "stdout",
          "text": [
            "Index(['assists', 'bonus', 'bps', 'clean_sheets', 'creativity', 'element',\n",
            "       'fixture', 'goals_conceded', 'goals_scored', 'ict_index',\n",
            "       ...\n",
            "       'opp_team_name_Newcastle', 'opp_team_name_Norwich',\n",
            "       'opp_team_name_Nott'm Forest', 'opp_team_name_Sheffield Utd',\n",
            "       'opp_team_name_Southampton', 'opp_team_name_Spurs',\n",
            "       'opp_team_name_Watford', 'opp_team_name_West Brom',\n",
            "       'opp_team_name_West Ham', 'opp_team_name_Wolves'],\n",
            "      dtype='object', length=881)\n"
          ]
        }
      ]
    },
    {
      "cell_type": "code",
      "source": [
        "# Random Forest\n",
        "random_forest_model = RandomForestRegressor(n_estimators=100, random_state=42)"
      ],
      "metadata": {
        "id": "LXY-S2FzlWcv"
      },
      "execution_count": 233,
      "outputs": []
    },
    {
      "cell_type": "code",
      "source": [
        "# Train\n",
        "random_forest_model.fit(X_train, y_train)"
      ],
      "metadata": {
        "colab": {
          "base_uri": "https://localhost:8080/",
          "height": 75
        },
        "id": "0MNXrNHSlWUF",
        "outputId": "f8457bbd-1860-4f16-ad07-7b7849dca10b"
      },
      "execution_count": 234,
      "outputs": [
        {
          "output_type": "execute_result",
          "data": {
            "text/plain": [
              "RandomForestRegressor(random_state=42)"
            ],
            "text/html": [
              "<style>#sk-container-id-11 {color: black;background-color: white;}#sk-container-id-11 pre{padding: 0;}#sk-container-id-11 div.sk-toggleable {background-color: white;}#sk-container-id-11 label.sk-toggleable__label {cursor: pointer;display: block;width: 100%;margin-bottom: 0;padding: 0.3em;box-sizing: border-box;text-align: center;}#sk-container-id-11 label.sk-toggleable__label-arrow:before {content: \"▸\";float: left;margin-right: 0.25em;color: #696969;}#sk-container-id-11 label.sk-toggleable__label-arrow:hover:before {color: black;}#sk-container-id-11 div.sk-estimator:hover label.sk-toggleable__label-arrow:before {color: black;}#sk-container-id-11 div.sk-toggleable__content {max-height: 0;max-width: 0;overflow: hidden;text-align: left;background-color: #f0f8ff;}#sk-container-id-11 div.sk-toggleable__content pre {margin: 0.2em;color: black;border-radius: 0.25em;background-color: #f0f8ff;}#sk-container-id-11 input.sk-toggleable__control:checked~div.sk-toggleable__content {max-height: 200px;max-width: 100%;overflow: auto;}#sk-container-id-11 input.sk-toggleable__control:checked~label.sk-toggleable__label-arrow:before {content: \"▾\";}#sk-container-id-11 div.sk-estimator input.sk-toggleable__control:checked~label.sk-toggleable__label {background-color: #d4ebff;}#sk-container-id-11 div.sk-label input.sk-toggleable__control:checked~label.sk-toggleable__label {background-color: #d4ebff;}#sk-container-id-11 input.sk-hidden--visually {border: 0;clip: rect(1px 1px 1px 1px);clip: rect(1px, 1px, 1px, 1px);height: 1px;margin: -1px;overflow: hidden;padding: 0;position: absolute;width: 1px;}#sk-container-id-11 div.sk-estimator {font-family: monospace;background-color: #f0f8ff;border: 1px dotted black;border-radius: 0.25em;box-sizing: border-box;margin-bottom: 0.5em;}#sk-container-id-11 div.sk-estimator:hover {background-color: #d4ebff;}#sk-container-id-11 div.sk-parallel-item::after {content: \"\";width: 100%;border-bottom: 1px solid gray;flex-grow: 1;}#sk-container-id-11 div.sk-label:hover label.sk-toggleable__label {background-color: #d4ebff;}#sk-container-id-11 div.sk-serial::before {content: \"\";position: absolute;border-left: 1px solid gray;box-sizing: border-box;top: 0;bottom: 0;left: 50%;z-index: 0;}#sk-container-id-11 div.sk-serial {display: flex;flex-direction: column;align-items: center;background-color: white;padding-right: 0.2em;padding-left: 0.2em;position: relative;}#sk-container-id-11 div.sk-item {position: relative;z-index: 1;}#sk-container-id-11 div.sk-parallel {display: flex;align-items: stretch;justify-content: center;background-color: white;position: relative;}#sk-container-id-11 div.sk-item::before, #sk-container-id-11 div.sk-parallel-item::before {content: \"\";position: absolute;border-left: 1px solid gray;box-sizing: border-box;top: 0;bottom: 0;left: 50%;z-index: -1;}#sk-container-id-11 div.sk-parallel-item {display: flex;flex-direction: column;z-index: 1;position: relative;background-color: white;}#sk-container-id-11 div.sk-parallel-item:first-child::after {align-self: flex-end;width: 50%;}#sk-container-id-11 div.sk-parallel-item:last-child::after {align-self: flex-start;width: 50%;}#sk-container-id-11 div.sk-parallel-item:only-child::after {width: 0;}#sk-container-id-11 div.sk-dashed-wrapped {border: 1px dashed gray;margin: 0 0.4em 0.5em 0.4em;box-sizing: border-box;padding-bottom: 0.4em;background-color: white;}#sk-container-id-11 div.sk-label label {font-family: monospace;font-weight: bold;display: inline-block;line-height: 1.2em;}#sk-container-id-11 div.sk-label-container {text-align: center;}#sk-container-id-11 div.sk-container {/* jupyter's `normalize.less` sets `[hidden] { display: none; }` but bootstrap.min.css set `[hidden] { display: none !important; }` so we also need the `!important` here to be able to override the default hidden behavior on the sphinx rendered scikit-learn.org. See: https://github.com/scikit-learn/scikit-learn/issues/21755 */display: inline-block !important;position: relative;}#sk-container-id-11 div.sk-text-repr-fallback {display: none;}</style><div id=\"sk-container-id-11\" class=\"sk-top-container\"><div class=\"sk-text-repr-fallback\"><pre>RandomForestRegressor(random_state=42)</pre><b>In a Jupyter environment, please rerun this cell to show the HTML representation or trust the notebook. <br />On GitHub, the HTML representation is unable to render, please try loading this page with nbviewer.org.</b></div><div class=\"sk-container\" hidden><div class=\"sk-item\"><div class=\"sk-estimator sk-toggleable\"><input class=\"sk-toggleable__control sk-hidden--visually\" id=\"sk-estimator-id-11\" type=\"checkbox\" checked><label for=\"sk-estimator-id-11\" class=\"sk-toggleable__label sk-toggleable__label-arrow\">RandomForestRegressor</label><div class=\"sk-toggleable__content\"><pre>RandomForestRegressor(random_state=42)</pre></div></div></div></div></div>"
            ]
          },
          "metadata": {},
          "execution_count": 234
        }
      ]
    },
    {
      "cell_type": "code",
      "source": [
        "# Prédictions sur l'ensemble de test\n",
        "predictions = random_forest_model.predict(X_test)"
      ],
      "metadata": {
        "id": "OuL95TfzldoT"
      },
      "execution_count": 235,
      "outputs": []
    },
    {
      "cell_type": "code",
      "source": [
        "\n",
        "print(predictions)\n"
      ],
      "metadata": {
        "colab": {
          "base_uri": "https://localhost:8080/"
        },
        "id": "VLf-wDnhovh1",
        "outputId": "d30405ff-753c-49ec-a1e7-054abdbfed71"
      },
      "execution_count": 236,
      "outputs": [
        {
          "output_type": "stream",
          "name": "stdout",
          "text": [
            "[1. 2. 0. ... 0. 0. 5.]\n"
          ]
        }
      ]
    },
    {
      "cell_type": "code",
      "source": [
        "player_names_test = player_names_test.reset_index(drop=True)"
      ],
      "metadata": {
        "id": "gxrPP7-CVHiy"
      },
      "execution_count": 237,
      "outputs": []
    },
    {
      "cell_type": "code",
      "source": [
        "results_df = pd.DataFrame({'Name': player_names_test, 'Predicted_Total_Points': predictions})\n",
        "\n",
        "print(results_df)\n"
      ],
      "metadata": {
        "colab": {
          "base_uri": "https://localhost:8080/"
        },
        "id": "w3Mk8zu0nqjy",
        "outputId": "e81bc7b6-e72a-468c-bf9b-9a4192ed7f38"
      },
      "execution_count": 238,
      "outputs": [
        {
          "output_type": "stream",
          "name": "stdout",
          "text": [
            "                    Name  Predicted_Total_Points\n",
            "0           Daniel James                     1.0\n",
            "1           Nicolas Pépé                     2.0\n",
            "2             Sam Waller                     0.0\n",
            "3             Bernd Leno                     0.0\n",
            "4       Ezri Konsa Ngoyo                     6.0\n",
            "...                  ...                     ...\n",
            "15259  Aaron Wan-Bissaka                     0.0\n",
            "15260       Divock Origi                     0.0\n",
            "15261   Joseph Whitworth                     0.0\n",
            "15262       Alex Mighten                     0.0\n",
            "15263  Christian Pulisic                     5.0\n",
            "\n",
            "[15264 rows x 2 columns]\n"
          ]
        }
      ]
    },
    {
      "cell_type": "code",
      "source": [
        "# performances\n",
        "mae = mean_absolute_error(y_test, predictions)\n",
        "r2 = r2_score(y_test, predictions)\n",
        "\n",
        "print(f'Mean Absolute Error (MAE) on Test Set: {mae}')\n",
        "print(f'R-squared on Test Set: {r2}')"
      ],
      "metadata": {
        "colab": {
          "base_uri": "https://localhost:8080/"
        },
        "id": "wim91-Z2ldmK",
        "outputId": "9a4133bb-1296-4541-a4a4-896114e79b0c"
      },
      "execution_count": 239,
      "outputs": [
        {
          "output_type": "stream",
          "name": "stdout",
          "text": [
            "Mean Absolute Error (MAE) on Test Set: 0.031267033542976934\n",
            "R-squared on Test Set: 0.9921837594764341\n"
          ]
        }
      ]
    },
    {
      "cell_type": "markdown",
      "source": [
        "Mean Absolute Error (MAE): Une valeur de MAE aussi basse (0.031) indique que les prédictions du modèle sont en moyenne très proches des valeurs réelles.\n",
        "\n",
        "R-squared (R2): Une valeur de R-squared aussi élevée (0.992) suggère que votre modèle explique très bien la variance des données de test. En d'autres termes, environ 99.2% de la variance de la variable dépendante (total_points) est expliquée par votre modèle."
      ],
      "metadata": {
        "id": "WLWC-OmqDkel"
      }
    },
    {
      "cell_type": "code",
      "source": [
        "from sklearn.model_selection import cross_val_score\n",
        "\n",
        "# Effectuer la validation croisée\n",
        "cross_val_scores = cross_val_score(random_forest_model, X, y, cv=5, scoring='neg_mean_absolute_error')\n",
        "\n",
        "# Calculer la moyenne des scores\n",
        "average_mae = -cross_val_scores.mean()\n",
        "\n",
        "# Afficher les résultats\n",
        "print(f'Average Cross-Validated Mean Absolute Error: {average_mae}')"
      ],
      "metadata": {
        "colab": {
          "base_uri": "https://localhost:8080/"
        },
        "id": "0cKW2FUhDlUZ",
        "outputId": "55910d54-c74a-4897-a179-d025384b6ea2"
      },
      "execution_count": 243,
      "outputs": [
        {
          "output_type": "stream",
          "name": "stdout",
          "text": [
            "Average Cross-Validated Mean Absolute Error: 0.027796799839391817\n"
          ]
        }
      ]
    },
    {
      "cell_type": "markdown",
      "source": [
        "L'obtention d'un \"Average Cross-Validated Mean Absolute Error\" aussi bas (0.0278) confirme la robustesse de votre modèle, même après avoir été évalué sur plusieurs plis de validation croisée. Une valeur de MAE aussi basse indique que votre modèle est capable de faire des prédictions précises et cohérentes sur des données non vues.\n",
        "\n",
        "Vous avez donc un modèle qui semble bien généraliser et maintenir sa performance sur différentes portions des données d'entraînement. Cela renforce la confiance dans la capacité du modèle à être efficace lorsqu'il est déployé sur de nouvelles données."
      ],
      "metadata": {
        "id": "loMs5FpiG3dD"
      }
    }
  ]
}