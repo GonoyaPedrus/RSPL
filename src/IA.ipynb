{
 "cells": [
  {
   "cell_type": "code",
   "execution_count": 1,
   "outputs": [],
   "source": [
    "import pandas as pd"
   ],
   "metadata": {
    "collapsed": false,
    "ExecuteTime": {
     "end_time": "2024-02-26T12:49:26.367800Z",
     "start_time": "2024-02-26T12:48:48.969555Z"
    }
   },
   "id": "2d20bbde605a1263"
  },
  {
   "cell_type": "markdown",
   "source": [
    "Chargement et prétraitement des données"
   ],
   "metadata": {
    "collapsed": false
   },
   "id": "f4f51bbbf094888b"
  },
  {
   "cell_type": "code",
   "execution_count": 46,
   "outputs": [],
   "source": [
    "# Chemin vers le fichier CSV\n",
    "file_path = \"/Users/melusinecaillard/RSPL/data/cleaned_merged_seasons.csv\""
   ],
   "metadata": {
    "collapsed": false,
    "ExecuteTime": {
     "end_time": "2024-02-26T13:31:14.198521Z",
     "start_time": "2024-02-26T13:31:14.141617Z"
    }
   },
   "id": "edc082f1b65515aa"
  },
  {
   "cell_type": "code",
   "execution_count": 52,
   "id": "initial_id",
   "metadata": {
    "collapsed": true,
    "ExecuteTime": {
     "end_time": "2024-02-26T13:34:57.889742Z",
     "start_time": "2024-02-26T13:34:57.836073Z"
    }
   },
   "outputs": [],
   "source": [
    "import pandas as pd\n",
    "\n",
    "def load_and_preprocess_data(file_path):\n",
    "    # Chargement du jeu de données\n",
    "    original_data = pd.read_csv(file_path, low_memory=False)\n",
    "\n",
    "    # Créer une copie exacte du DataFrame\n",
    "    data = original_data.copy()\n",
    "\n",
    "    # Suppression des doublons et des valeurs manquantes\n",
    "    data.drop_duplicates(inplace=True)\n",
    "    data.dropna(inplace=True)\n",
    "\n",
    "    return data\n"
   ]
  },
  {
   "cell_type": "code",
   "execution_count": 53,
   "outputs": [
    {
     "name": "stdout",
     "output_type": "stream",
     "text": [
      "<bound method NDFrame.head of                            name position         team_x  goals_scored  \\\n",
      "19852            Aaron Connolly      FWD       Brighton             0   \n",
      "19853           Aaron Cresswell      DEF       West Ham             0   \n",
      "19854                Aaron Mooy      MID       Brighton             0   \n",
      "19855            Aaron Ramsdale       GK  Sheffield Utd             0   \n",
      "19856        Abdoulaye Doucouré      MID        Everton             0   \n",
      "...                         ...      ...            ...           ...   \n",
      "96164              Oliver Skipp      MID          Spurs             0   \n",
      "96165            Ryan Sessegnon      DEF          Spurs             0   \n",
      "96166              Ashley Young      DEF    Aston Villa             0   \n",
      "96167  Jeremy Sarmiento Morante      MID       Brighton             0   \n",
      "96168            Philip Billing      MID    Bournemouth             0   \n",
      "\n",
      "       assists  clean_sheets  yellow_cards  red_cards  \n",
      "19852        0             0             0          0  \n",
      "19853        0             0             0          0  \n",
      "19854        0             0             0          0  \n",
      "19855        0             0             0          0  \n",
      "19856        0             1             0          0  \n",
      "...        ...           ...           ...        ...  \n",
      "96164        0             0             0          0  \n",
      "96165        0             0             0          0  \n",
      "96166        0             0             0          0  \n",
      "96167        0             0             0          0  \n",
      "96168        0             0             0          0  \n",
      "\n",
      "[76317 rows x 8 columns]>\n"
     ]
    }
   ],
   "source": [
    "print(data.head)"
   ],
   "metadata": {
    "collapsed": false,
    "ExecuteTime": {
     "end_time": "2024-02-26T13:35:00.025947Z",
     "start_time": "2024-02-26T13:34:59.972165Z"
    }
   },
   "id": "bec2b5f723ea2b1e"
  },
  {
   "cell_type": "markdown",
   "source": [
    "Ingénierie des caractéristiques"
   ],
   "metadata": {
    "collapsed": false
   },
   "id": "b946f3e7dd61d65b"
  },
  {
   "cell_type": "code",
   "execution_count": 63,
   "outputs": [],
   "source": [
    "def feature_engineering(data):\n",
    "    # Sélection des caractéristiques pertinentes\n",
    "    selected_features = ['name', 'position', 'team_x', 'goals_scored', 'assists', 'clean_sheets', 'yellow_cards', 'red_cards']\n",
    "    \n",
    "    # Filtrage des caractéristiques sélectionnées\n",
    "    data = data[selected_features].copy()  # Crée une copie explicite du DataFrame\n",
    "\n",
    "    # Ajout de nouvelles caractéristiques si nécessaire (par exemple, la forme récente du joueur)\n",
    "    # Ici, nous allons ajouter une caractéristique pour le total des cartons\n",
    "    data['total_cards'] = data['yellow_cards'] + data['red_cards']\n",
    "\n",
    "    return data\n",
    "\n",
    "# Chemin vers le fichier CSV\n",
    "file_path = \"/Users/melusinecaillard/RSPL/data/cleaned_merged_seasons.csv\"\n",
    "\n",
    "# Chargement et prétraitement des données\n",
    "data = load_and_preprocess_data(file_path)\n",
    "\n",
    "# Ingénierie des caractéristiques\n",
    "data = feature_engineering(data)"
   ],
   "metadata": {
    "collapsed": false,
    "ExecuteTime": {
     "end_time": "2024-02-26T13:38:50.805026Z",
     "start_time": "2024-02-26T13:38:48.827712Z"
    }
   },
   "id": "820d9bb96929e8a9"
  },
  {
   "cell_type": "code",
   "execution_count": 64,
   "outputs": [
    {
     "name": "stdout",
     "output_type": "stream",
     "text": [
      "                     name position         team_x  goals_scored  assists  \\\n",
      "19852      Aaron Connolly      FWD       Brighton             0        0   \n",
      "19853     Aaron Cresswell      DEF       West Ham             0        0   \n",
      "19854          Aaron Mooy      MID       Brighton             0        0   \n",
      "19855      Aaron Ramsdale       GK  Sheffield Utd             0        0   \n",
      "19856  Abdoulaye Doucouré      MID        Everton             0        0   \n",
      "\n",
      "       clean_sheets  yellow_cards  red_cards  total_cards  \n",
      "19852             0             0          0            0  \n",
      "19853             0             0          0            0  \n",
      "19854             0             0          0            0  \n",
      "19855             0             0          0            0  \n",
      "19856             1             0          0            0  \n"
     ]
    }
   ],
   "source": [
    "# Affichage des premières lignes du jeu de données après prétraitement et ingénierie des caractéristiques\n",
    "print(data.head())"
   ],
   "metadata": {
    "collapsed": false,
    "ExecuteTime": {
     "end_time": "2024-02-26T13:38:53.017130Z",
     "start_time": "2024-02-26T13:38:52.971749Z"
    }
   },
   "id": "d78fe1304ce1ecef"
  },
  {
   "cell_type": "markdown",
   "source": [
    "Modélisation et contraintes budget et compo"
   ],
   "metadata": {
    "collapsed": false
   },
   "id": "a391bbc316cfdc9"
  },
  {
   "cell_type": "code",
   "execution_count": 65,
   "outputs": [],
   "source": [
    "from sklearn.model_selection import train_test_split\n",
    "from sklearn.linear_model import LinearRegression\n",
    "from sklearn.metrics import mean_squared_error\n",
    "import numpy as np"
   ],
   "metadata": {
    "collapsed": false,
    "ExecuteTime": {
     "end_time": "2024-02-26T13:39:04.906567Z",
     "start_time": "2024-02-26T13:39:04.881370Z"
    }
   },
   "id": "e76fafd545b68c75"
  },
  {
   "cell_type": "code",
   "execution_count": 71,
   "outputs": [],
   "source": [
    "# Fonction pour diviser les données en ensembles d'entraînement et de test\n",
    "def split_data(data):\n",
    "    X = data.drop(columns=['goals_scored', 'assists'])  # Caractéristiques sans les performances\n",
    "    y = data[['goals_scored', 'assists']]  # Performances à prédire\n",
    "\n",
    "    \n",
    "    # Encoder les variables catégorielles\n",
    "    X_encoded = pd.get_dummies(X)\n",
    "\n",
    "    # Diviser les données en ensembles d'entraînement et de test\n",
    "    X_train, X_test, y_train, y_test = train_test_split(X_encoded, y, test_size=0.2, random_state=42)\n",
    "    return X_train, X_test, y_train, y_test\n"
   ],
   "metadata": {
    "collapsed": false,
    "ExecuteTime": {
     "end_time": "2024-02-26T13:43:29.274844Z",
     "start_time": "2024-02-26T13:43:28.909858Z"
    }
   },
   "id": "e1f3ffc9515c656e"
  },
  {
   "cell_type": "code",
   "execution_count": 72,
   "outputs": [],
   "source": [
    "# Fonction pour entraîner un modèle de régression linéaire\n",
    "def train_linear_regression_model(X_train, y_train):\n",
    "    model = LinearRegression()\n",
    "    model.fit(X_train, y_train)\n",
    "    return model"
   ],
   "metadata": {
    "collapsed": false,
    "ExecuteTime": {
     "end_time": "2024-02-26T13:43:43.014470Z",
     "start_time": "2024-02-26T13:43:42.963809Z"
    }
   },
   "id": "c1a18f2abbcf8d49"
  },
  {
   "cell_type": "code",
   "execution_count": 73,
   "outputs": [],
   "source": [
    "# Fonction pour prédire les performances des joueurs avec contraintes de budget et de composition d'équipe\n",
    "def predict_player_performance(model, player_features, budget):\n",
    "    # Prédiction des performances du joueur\n",
    "    predicted_performance = model.predict(player_features)\n",
    "\n",
    "    # Vérifier si le joueur respecte les contraintes de budget\n",
    "    total_cost = np.sum(player_features['cost'])\n",
    "    if total_cost > budget:\n",
    "        return \"Le joueur sélectionné dépasse le budget.\"\n",
    "    else:\n",
    "        return predicted_performance"
   ],
   "metadata": {
    "collapsed": false,
    "ExecuteTime": {
     "end_time": "2024-02-26T13:43:47.346270Z",
     "start_time": "2024-02-26T13:43:47.322082Z"
    }
   },
   "id": "3658f94279e21704"
  },
  {
   "cell_type": "code",
   "execution_count": 74,
   "outputs": [],
   "source": [
    "# Chargement du jeu de données prétraité et ingénierie des caractéristiques\n",
    "data = load_and_preprocess_data(\"/Users/melusinecaillard/RSPL/data/cleaned_merged_seasons.csv\")\n",
    "data = feature_engineering(data)\n",
    "\n",
    "# Division des données en ensembles d'entraînement et de test\n",
    "X_train, X_test, y_train, y_test = split_data(data)"
   ],
   "metadata": {
    "collapsed": false,
    "ExecuteTime": {
     "end_time": "2024-02-26T13:43:52.236546Z",
     "start_time": "2024-02-26T13:43:49.178562Z"
    }
   },
   "id": "bd0e33ed461e89c0"
  },
  {
   "cell_type": "code",
   "execution_count": 75,
   "outputs": [],
   "source": [
    "# Entraînement du modèle de régression linéaire\n",
    "linear_regression_model = train_linear_regression_model(X_train, y_train)"
   ],
   "metadata": {
    "collapsed": false,
    "ExecuteTime": {
     "end_time": "2024-02-26T13:44:17.716057Z",
     "start_time": "2024-02-26T13:43:54.875809Z"
    }
   },
   "id": "f8a3370efbe2422"
  },
  {
   "cell_type": "code",
   "execution_count": 76,
   "outputs": [],
   "source": [
    "# Prédiction des performances des joueurs pour l'ensemble de test\n",
    "y_pred = linear_regression_model.predict(X_test)"
   ],
   "metadata": {
    "collapsed": false,
    "ExecuteTime": {
     "end_time": "2024-02-26T13:45:04.725542Z",
     "start_time": "2024-02-26T13:45:03.509965Z"
    }
   },
   "id": "9ffe1c1888f01482"
  },
  {
   "cell_type": "code",
   "execution_count": 77,
   "outputs": [
    {
     "name": "stdout",
     "output_type": "stream",
     "text": [
      "Mean Squared Error: 826738119213.1672\n"
     ]
    }
   ],
   "source": [
    "# Évaluation de la performance du modèle\n",
    "mse = mean_squared_error(y_test, y_pred)\n",
    "print(\"Mean Squared Error:\", mse)"
   ],
   "metadata": {
    "collapsed": false,
    "ExecuteTime": {
     "end_time": "2024-02-26T13:45:07.107025Z",
     "start_time": "2024-02-26T13:45:07.030198Z"
    }
   },
   "id": "9f56096ee836f190"
  },
  {
   "cell_type": "code",
   "execution_count": 78,
   "outputs": [
    {
     "ename": "ValueError",
     "evalue": "1361 columns passed, passed data had 1 columns",
     "output_type": "error",
     "traceback": [
      "\u001B[0;31m---------------------------------------------------------------------------\u001B[0m",
      "\u001B[0;31mAssertionError\u001B[0m                            Traceback (most recent call last)",
      "File \u001B[0;32m~/RSPL/venv/lib/python3.11/site-packages/pandas/core/internals/construction.py:939\u001B[0m, in \u001B[0;36m_finalize_columns_and_data\u001B[0;34m(content, columns, dtype)\u001B[0m\n\u001B[1;32m    938\u001B[0m \u001B[38;5;28;01mtry\u001B[39;00m:\n\u001B[0;32m--> 939\u001B[0m     columns \u001B[38;5;241m=\u001B[39m \u001B[43m_validate_or_indexify_columns\u001B[49m\u001B[43m(\u001B[49m\u001B[43mcontents\u001B[49m\u001B[43m,\u001B[49m\u001B[43m \u001B[49m\u001B[43mcolumns\u001B[49m\u001B[43m)\u001B[49m\n\u001B[1;32m    940\u001B[0m \u001B[38;5;28;01mexcept\u001B[39;00m \u001B[38;5;167;01mAssertionError\u001B[39;00m \u001B[38;5;28;01mas\u001B[39;00m err:\n\u001B[1;32m    941\u001B[0m     \u001B[38;5;66;03m# GH#26429 do not raise user-facing AssertionError\u001B[39;00m\n",
      "File \u001B[0;32m~/RSPL/venv/lib/python3.11/site-packages/pandas/core/internals/construction.py:986\u001B[0m, in \u001B[0;36m_validate_or_indexify_columns\u001B[0;34m(content, columns)\u001B[0m\n\u001B[1;32m    984\u001B[0m \u001B[38;5;28;01mif\u001B[39;00m \u001B[38;5;129;01mnot\u001B[39;00m is_mi_list \u001B[38;5;129;01mand\u001B[39;00m \u001B[38;5;28mlen\u001B[39m(columns) \u001B[38;5;241m!=\u001B[39m \u001B[38;5;28mlen\u001B[39m(content):  \u001B[38;5;66;03m# pragma: no cover\u001B[39;00m\n\u001B[1;32m    985\u001B[0m     \u001B[38;5;66;03m# caller's responsibility to check for this...\u001B[39;00m\n\u001B[0;32m--> 986\u001B[0m     \u001B[38;5;28;01mraise\u001B[39;00m \u001B[38;5;167;01mAssertionError\u001B[39;00m(\n\u001B[1;32m    987\u001B[0m         \u001B[38;5;124mf\u001B[39m\u001B[38;5;124m\"\u001B[39m\u001B[38;5;132;01m{\u001B[39;00m\u001B[38;5;28mlen\u001B[39m(columns)\u001B[38;5;132;01m}\u001B[39;00m\u001B[38;5;124m columns passed, passed data had \u001B[39m\u001B[38;5;124m\"\u001B[39m\n\u001B[1;32m    988\u001B[0m         \u001B[38;5;124mf\u001B[39m\u001B[38;5;124m\"\u001B[39m\u001B[38;5;132;01m{\u001B[39;00m\u001B[38;5;28mlen\u001B[39m(content)\u001B[38;5;132;01m}\u001B[39;00m\u001B[38;5;124m columns\u001B[39m\u001B[38;5;124m\"\u001B[39m\n\u001B[1;32m    989\u001B[0m     )\n\u001B[1;32m    990\u001B[0m \u001B[38;5;28;01mif\u001B[39;00m is_mi_list:\n\u001B[1;32m    991\u001B[0m     \u001B[38;5;66;03m# check if nested list column, length of each sub-list should be equal\u001B[39;00m\n",
      "\u001B[0;31mAssertionError\u001B[0m: 1361 columns passed, passed data had 1 columns",
      "\nThe above exception was the direct cause of the following exception:\n",
      "\u001B[0;31mValueError\u001B[0m                                Traceback (most recent call last)",
      "Cell \u001B[0;32mIn[78], line 2\u001B[0m\n\u001B[1;32m      1\u001B[0m \u001B[38;5;66;03m# Exemple de prédiction pour un joueur avec un budget donné\u001B[39;00m\n\u001B[0;32m----> 2\u001B[0m player_features_example \u001B[38;5;241m=\u001B[39m \u001B[43mpd\u001B[49m\u001B[38;5;241;43m.\u001B[39;49m\u001B[43mDataFrame\u001B[49m\u001B[43m(\u001B[49m\u001B[43m[\u001B[49m\u001B[43m[\u001B[49m\u001B[38;5;241;43m.\u001B[39;49m\u001B[38;5;241;43m.\u001B[39;49m\u001B[38;5;241;43m.\u001B[39;49m\u001B[43m]\u001B[49m\u001B[43m]\u001B[49m\u001B[43m,\u001B[49m\u001B[43m \u001B[49m\u001B[43mcolumns\u001B[49m\u001B[38;5;241;43m=\u001B[39;49m\u001B[43mX_train\u001B[49m\u001B[38;5;241;43m.\u001B[39;49m\u001B[43mcolumns\u001B[49m\u001B[43m)\u001B[49m  \u001B[38;5;66;03m# Remplacez ... par les caractéristiques du joueur\u001B[39;00m\n\u001B[1;32m      3\u001B[0m budget_example \u001B[38;5;241m=\u001B[39m \u001B[38;5;241m100\u001B[39m  \u001B[38;5;66;03m# Exemple de budget\u001B[39;00m\n\u001B[1;32m      4\u001B[0m predicted_performance_example \u001B[38;5;241m=\u001B[39m predict_player_performance(linear_regression_model, player_features_example, budget_example)\n",
      "File \u001B[0;32m~/RSPL/venv/lib/python3.11/site-packages/pandas/core/frame.py:806\u001B[0m, in \u001B[0;36mDataFrame.__init__\u001B[0;34m(self, data, index, columns, dtype, copy)\u001B[0m\n\u001B[1;32m    804\u001B[0m     \u001B[38;5;28;01mif\u001B[39;00m columns \u001B[38;5;129;01mis\u001B[39;00m \u001B[38;5;129;01mnot\u001B[39;00m \u001B[38;5;28;01mNone\u001B[39;00m:\n\u001B[1;32m    805\u001B[0m         columns \u001B[38;5;241m=\u001B[39m ensure_index(columns)\n\u001B[0;32m--> 806\u001B[0m     arrays, columns, index \u001B[38;5;241m=\u001B[39m \u001B[43mnested_data_to_arrays\u001B[49m\u001B[43m(\u001B[49m\n\u001B[1;32m    807\u001B[0m \u001B[43m        \u001B[49m\u001B[38;5;66;43;03m# error: Argument 3 to \"nested_data_to_arrays\" has incompatible\u001B[39;49;00m\n\u001B[1;32m    808\u001B[0m \u001B[43m        \u001B[49m\u001B[38;5;66;43;03m# type \"Optional[Collection[Any]]\"; expected \"Optional[Index]\"\u001B[39;49;00m\n\u001B[1;32m    809\u001B[0m \u001B[43m        \u001B[49m\u001B[43mdata\u001B[49m\u001B[43m,\u001B[49m\n\u001B[1;32m    810\u001B[0m \u001B[43m        \u001B[49m\u001B[43mcolumns\u001B[49m\u001B[43m,\u001B[49m\n\u001B[1;32m    811\u001B[0m \u001B[43m        \u001B[49m\u001B[43mindex\u001B[49m\u001B[43m,\u001B[49m\u001B[43m  \u001B[49m\u001B[38;5;66;43;03m# type: ignore[arg-type]\u001B[39;49;00m\n\u001B[1;32m    812\u001B[0m \u001B[43m        \u001B[49m\u001B[43mdtype\u001B[49m\u001B[43m,\u001B[49m\n\u001B[1;32m    813\u001B[0m \u001B[43m    \u001B[49m\u001B[43m)\u001B[49m\n\u001B[1;32m    814\u001B[0m     mgr \u001B[38;5;241m=\u001B[39m arrays_to_mgr(\n\u001B[1;32m    815\u001B[0m         arrays,\n\u001B[1;32m    816\u001B[0m         columns,\n\u001B[0;32m   (...)\u001B[0m\n\u001B[1;32m    819\u001B[0m         typ\u001B[38;5;241m=\u001B[39mmanager,\n\u001B[1;32m    820\u001B[0m     )\n\u001B[1;32m    821\u001B[0m \u001B[38;5;28;01melse\u001B[39;00m:\n",
      "File \u001B[0;32m~/RSPL/venv/lib/python3.11/site-packages/pandas/core/internals/construction.py:520\u001B[0m, in \u001B[0;36mnested_data_to_arrays\u001B[0;34m(data, columns, index, dtype)\u001B[0m\n\u001B[1;32m    517\u001B[0m \u001B[38;5;28;01mif\u001B[39;00m is_named_tuple(data[\u001B[38;5;241m0\u001B[39m]) \u001B[38;5;129;01mand\u001B[39;00m columns \u001B[38;5;129;01mis\u001B[39;00m \u001B[38;5;28;01mNone\u001B[39;00m:\n\u001B[1;32m    518\u001B[0m     columns \u001B[38;5;241m=\u001B[39m ensure_index(data[\u001B[38;5;241m0\u001B[39m]\u001B[38;5;241m.\u001B[39m_fields)\n\u001B[0;32m--> 520\u001B[0m arrays, columns \u001B[38;5;241m=\u001B[39m \u001B[43mto_arrays\u001B[49m\u001B[43m(\u001B[49m\u001B[43mdata\u001B[49m\u001B[43m,\u001B[49m\u001B[43m \u001B[49m\u001B[43mcolumns\u001B[49m\u001B[43m,\u001B[49m\u001B[43m \u001B[49m\u001B[43mdtype\u001B[49m\u001B[38;5;241;43m=\u001B[39;49m\u001B[43mdtype\u001B[49m\u001B[43m)\u001B[49m\n\u001B[1;32m    521\u001B[0m columns \u001B[38;5;241m=\u001B[39m ensure_index(columns)\n\u001B[1;32m    523\u001B[0m \u001B[38;5;28;01mif\u001B[39;00m index \u001B[38;5;129;01mis\u001B[39;00m \u001B[38;5;28;01mNone\u001B[39;00m:\n",
      "File \u001B[0;32m~/RSPL/venv/lib/python3.11/site-packages/pandas/core/internals/construction.py:845\u001B[0m, in \u001B[0;36mto_arrays\u001B[0;34m(data, columns, dtype)\u001B[0m\n\u001B[1;32m    842\u001B[0m     data \u001B[38;5;241m=\u001B[39m [\u001B[38;5;28mtuple\u001B[39m(x) \u001B[38;5;28;01mfor\u001B[39;00m x \u001B[38;5;129;01min\u001B[39;00m data]\n\u001B[1;32m    843\u001B[0m     arr \u001B[38;5;241m=\u001B[39m _list_to_arrays(data)\n\u001B[0;32m--> 845\u001B[0m content, columns \u001B[38;5;241m=\u001B[39m \u001B[43m_finalize_columns_and_data\u001B[49m\u001B[43m(\u001B[49m\u001B[43marr\u001B[49m\u001B[43m,\u001B[49m\u001B[43m \u001B[49m\u001B[43mcolumns\u001B[49m\u001B[43m,\u001B[49m\u001B[43m \u001B[49m\u001B[43mdtype\u001B[49m\u001B[43m)\u001B[49m\n\u001B[1;32m    846\u001B[0m \u001B[38;5;28;01mreturn\u001B[39;00m content, columns\n",
      "File \u001B[0;32m~/RSPL/venv/lib/python3.11/site-packages/pandas/core/internals/construction.py:942\u001B[0m, in \u001B[0;36m_finalize_columns_and_data\u001B[0;34m(content, columns, dtype)\u001B[0m\n\u001B[1;32m    939\u001B[0m     columns \u001B[38;5;241m=\u001B[39m _validate_or_indexify_columns(contents, columns)\n\u001B[1;32m    940\u001B[0m \u001B[38;5;28;01mexcept\u001B[39;00m \u001B[38;5;167;01mAssertionError\u001B[39;00m \u001B[38;5;28;01mas\u001B[39;00m err:\n\u001B[1;32m    941\u001B[0m     \u001B[38;5;66;03m# GH#26429 do not raise user-facing AssertionError\u001B[39;00m\n\u001B[0;32m--> 942\u001B[0m     \u001B[38;5;28;01mraise\u001B[39;00m \u001B[38;5;167;01mValueError\u001B[39;00m(err) \u001B[38;5;28;01mfrom\u001B[39;00m \u001B[38;5;21;01merr\u001B[39;00m\n\u001B[1;32m    944\u001B[0m \u001B[38;5;28;01mif\u001B[39;00m \u001B[38;5;28mlen\u001B[39m(contents) \u001B[38;5;129;01mand\u001B[39;00m contents[\u001B[38;5;241m0\u001B[39m]\u001B[38;5;241m.\u001B[39mdtype \u001B[38;5;241m==\u001B[39m np\u001B[38;5;241m.\u001B[39mobject_:\n\u001B[1;32m    945\u001B[0m     contents \u001B[38;5;241m=\u001B[39m convert_object_array(contents, dtype\u001B[38;5;241m=\u001B[39mdtype)\n",
      "\u001B[0;31mValueError\u001B[0m: 1361 columns passed, passed data had 1 columns"
     ]
    }
   ],
   "source": [
    "# Exemple de prédiction pour un joueur avec un budget donné\n",
    "player_features_example = pd.DataFrame([[...]], columns=X_train.columns)  # Remplacez ... par les caractéristiques du joueur\n",
    "budget_example = 100  # Exemple de budget\n",
    "predicted_performance_example = predict_player_performance(linear_regression_model, player_features_example, budget_example)\n",
    "print(\"Prédiction de performances du joueur:\", predicted_performance_example)"
   ],
   "metadata": {
    "collapsed": false,
    "ExecuteTime": {
     "end_time": "2024-02-26T13:45:13.178474Z",
     "start_time": "2024-02-26T13:45:13.032079Z"
    }
   },
   "id": "adb6106c5d3da531"
  },
  {
   "cell_type": "markdown",
   "source": [
    "Recommandations players, captain & vice-capt"
   ],
   "metadata": {
    "collapsed": false
   },
   "id": "9edca0c4d723b815"
  },
  {
   "cell_type": "code",
   "execution_count": null,
   "outputs": [],
   "source": [
    "# Fonction pour recommander les meilleurs joueurs disponibles en respectant les contraintes\n",
    "def recommend_players(model, data, budget, team_constraints, captain=True):\n",
    "    # Filtrer les joueurs disponibles en fonction du budget et des contraintes d'équipe\n",
    "    available_players = data[(data['cost'] <= budget) & (data.groupby('team')['player_name'].transform('count') <= team_constraints)]\n",
    "\n",
    "    # Prédiction des performances des joueurs disponibles\n",
    "    predicted_performances = model.predict(available_players.drop(columns=['goals_scored', 'assists']))\n",
    "\n",
    "    # Sélection des meilleurs joueurs en fonction des performances prédites\n",
    "    available_players['predicted_goals'] = predicted_performances[:, 0]\n",
    "    available_players['predicted_assists'] = predicted_performances[:, 1]\n",
    "    available_players['total_predicted_points'] = 2 * available_players['predicted_goals'] + available_players['predicted_assists']\n",
    "\n",
    "    # Trier les joueurs par performances prédites\n",
    "    sorted_players = available_players.sort_values(by='total_predicted_points', ascending=False)\n",
    "\n",
    "    # Sélectionner le capitaine et le vice-capitaine\n",
    "    captain_player = sorted_players.iloc[0]  # Capitaine est le meilleur joueur\n",
    "    vice_captain_player = sorted_players.iloc[1]  # Vice-capitaine est le deuxième meilleur joueur\n",
    "\n",
    "    # Retourner les recommandations de joueurs et les informations sur le capitaine et le vice-capitaine\n",
    "    return sorted_players, captain_player, vice_captain_player"
   ],
   "metadata": {
    "collapsed": false
   },
   "id": "f5585f7710a9cf3f"
  },
  {
   "cell_type": "code",
   "execution_count": null,
   "outputs": [],
   "source": [
    "# Budget et contraintes d'équipe\n",
    "budget = 100  # Exemple de budget\n",
    "team_constraints = 3  # Maximum de joueurs de la même équipe\n",
    "\n",
    "# Recommander les joueurs en respectant les contraintes\n",
    "recommended_players, captain_player, vice_captain_player = recommend_players(linear_regression_model, data, budget, team_constraints)"
   ],
   "metadata": {
    "collapsed": false
   },
   "id": "d2fb1677d6d1f62"
  },
  {
   "cell_type": "code",
   "execution_count": null,
   "outputs": [],
   "source": [
    "# Afficher les recommandations de joueurs\n",
    "print(\"Recommandations de joueurs:\")\n",
    "print(recommended_players.head())"
   ],
   "metadata": {
    "collapsed": false
   },
   "id": "36d1bbee8c5bf2cc"
  },
  {
   "cell_type": "code",
   "execution_count": null,
   "outputs": [],
   "source": [
    "# Afficher les informations sur le capitaine et le vice-capitaine\n",
    "print(\"\\nCapitaine recommandé:\")\n",
    "print(captain_player)\n",
    "print(\"\\nVice-capitaine recommandé:\")\n",
    "print(vice_captain_player)"
   ],
   "metadata": {
    "collapsed": false
   },
   "id": "7ce4a5d2af5d9472"
  },
  {
   "cell_type": "markdown",
   "source": [
    "Gestion des transferts"
   ],
   "metadata": {
    "collapsed": false
   },
   "id": "5ae3a688d5b6878"
  },
  {
   "cell_type": "code",
   "execution_count": null,
   "outputs": [],
   "source": [
    "# Fonction pour effectuer un transfert tout en respectant les contraintes\n",
    "def make_transfer(current_team, new_player, budget, team_constraints):\n",
    "    # Vérifier si le joueur transféré respecte les contraintes de budget et d'équipe\n",
    "    if new_player['cost'] <= budget and current_team.groupby('team')['player_name'].transform('count').max() < team_constraints:\n",
    "        # Ajouter le nouveau joueur à l'équipe\n",
    "        updated_team = current_team.append(new_player)\n",
    "        # Mettre à jour le budget restant\n",
    "        updated_budget = budget - new_player['cost']\n",
    "        return updated_team, updated_budget\n",
    "    else:\n",
    "        return current_team, budget  # Aucun changement dans l'équipe et le budget"
   ],
   "metadata": {
    "collapsed": false
   },
   "id": "d1488d7fee7105dd"
  },
  {
   "cell_type": "code",
   "execution_count": null,
   "outputs": [],
   "source": [
    "# Exemple de fonction pour effectuer des transferts hebdomadaires\n",
    "def weekly_transfers(current_team, budget, team_constraints, transfer_player, new_player):\n",
    "    # Effectuer le transfert\n",
    "    updated_team, updated_budget = make_transfer(current_team, new_player, budget, team_constraints)\n",
    "    \n",
    "    # Mettre à jour les recommandations en fonction des transferts effectués\n",
    "    recommended_players, _, _ = recommend_players(linear_regression_model, data, updated_budget, team_constraints)\n",
    "\n",
    "    return updated_team, updated_budget, recommended_players"
   ],
   "metadata": {
    "collapsed": false
   },
   "id": "4d48b20c81cd7d2f"
  },
  {
   "cell_type": "code",
   "execution_count": null,
   "outputs": [],
   "source": [
    "# Exemple de jeu d'équipe actuel\n",
    "current_team = pd.DataFrame([[\"Player1\", \"Team1\", 10]], columns=['player_name', 'team', 'cost'])\n",
    "# Exemple de joueur à transférer\n",
    "transfer_player = {\"player_name\": \"Player1\", \"team\": \"Team1\", \"cost\": 10}\n",
    "# Exemple de nouveau joueur à ajouter\n",
    "new_player = {\"player_name\": \"Player2\", \"team\": \"Team2\", \"cost\": 8}"
   ],
   "metadata": {
    "collapsed": false
   },
   "id": "92cd3020aff7d984"
  },
  {
   "cell_type": "code",
   "execution_count": null,
   "outputs": [],
   "source": [
    "# Exemple d'exécution des transferts hebdomadaires\n",
    "updated_team, updated_budget, updated_recommendations = weekly_transfers(current_team, budget, team_constraints, transfer_player, new_player)"
   ],
   "metadata": {
    "collapsed": false
   },
   "id": "8670dfd43fb97bcc"
  },
  {
   "cell_type": "code",
   "execution_count": null,
   "outputs": [],
   "source": [
    "# Afficher l'équipe mise à jour\n",
    "print(\"Équipe mise à jour après les transferts:\")\n",
    "print(updated_team)"
   ],
   "metadata": {
    "collapsed": false
   },
   "id": "47162f83b3ea991d"
  },
  {
   "cell_type": "code",
   "execution_count": null,
   "outputs": [],
   "source": [
    "# Afficher le budget restant après les transferts\n",
    "print(\"\\nBudget restant après les transferts:\", updated_budget)"
   ],
   "metadata": {
    "collapsed": false
   },
   "id": "2e0fb64a578b3acb"
  },
  {
   "cell_type": "code",
   "execution_count": null,
   "outputs": [],
   "source": [
    "# Afficher les recommandations de joueurs mises à jour après les transferts\n",
    "print(\"\\nRecommandations de joueurs mises à jour:\")\n",
    "print(updated_recommendations.head())"
   ],
   "metadata": {
    "collapsed": false
   },
   "id": "cc64eae95ba5142c"
  },
  {
   "cell_type": "markdown",
   "source": [
    "Évaluation et ajustement"
   ],
   "metadata": {
    "collapsed": false
   },
   "id": "546f2401318b9141"
  },
  {
   "cell_type": "code",
   "execution_count": null,
   "outputs": [],
   "source": [
    "# Fonction pour évaluer l'algorithme en utilisant des métriques\n",
    "def evaluate_algorithm(predictions, actual):\n",
    "    # Calculer les métriques d'évaluation (par exemple, précision, rappel, score F1)\n",
    "    # Ici, nous calculons simplement la précision pour illustrer l'exemple\n",
    "    correct_predictions = predictions == actual\n",
    "    accuracy = correct_predictions.mean()\n",
    "    return accuracy\n",
    "\n",
    "# Générer des prédictions pour l'ensemble de test\n",
    "predictions = model.predict(X_test)"
   ],
   "metadata": {
    "collapsed": false
   },
   "id": "d8203376a2a760f4"
  },
  {
   "cell_type": "code",
   "execution_count": null,
   "outputs": [],
   "source": [
    "# Évaluer l'algorithme\n",
    "accuracy = evaluate_algorithm(predictions, y_test)\n",
    "print(\"Précision de l'algorithme:\", accuracy)"
   ],
   "metadata": {
    "collapsed": false
   },
   "id": "247a13020294589e"
  }
 ],
 "metadata": {
  "kernelspec": {
   "display_name": "Python 3",
   "language": "python",
   "name": "python3"
  },
  "language_info": {
   "codemirror_mode": {
    "name": "ipython",
    "version": 2
   },
   "file_extension": ".py",
   "mimetype": "text/x-python",
   "name": "python",
   "nbconvert_exporter": "python",
   "pygments_lexer": "ipython2",
   "version": "2.7.6"
  }
 },
 "nbformat": 4,
 "nbformat_minor": 5
}
