{
 "cells": [
  {
   "cell_type": "code",
   "execution_count": 1,
   "id": "initial_id",
   "metadata": {
    "collapsed": true,
    "ExecuteTime": {
     "end_time": "2024-02-29T13:50:35.579368Z",
     "start_time": "2024-02-29T13:50:33.250481Z"
    }
   },
   "outputs": [],
   "source": [
    "import pandas as pd\n",
    "from sklearn.model_selection import train_test_split, cross_val_score\n",
    "from sklearn.ensemble import GradientBoostingRegressor\n",
    "from sklearn.metrics import mean_squared_error, r2_score, mean_absolute_error"
   ]
  },
  {
   "cell_type": "code",
   "execution_count": 2,
   "outputs": [],
   "source": [
    "# Chargement et prétraitement des données\n",
    "def load_and_preprocess_data(file_path):\n",
    "    original_data = pd.read_csv(file_path, low_memory=False)\n",
    "    data = original_data.copy()\n",
    "    data.drop_duplicates(inplace=True)\n",
    "    data.dropna(inplace=True)\n",
    "    return data"
   ],
   "metadata": {
    "collapsed": false,
    "ExecuteTime": {
     "end_time": "2024-02-29T13:50:37.323268Z",
     "start_time": "2024-02-29T13:50:37.289538Z"
    }
   },
   "id": "77a2b30e2ff3a756"
  },
  {
   "cell_type": "code",
   "execution_count": 3,
   "outputs": [],
   "source": [
    "# Ingénierie des caractéristiques\n",
    "def feature_engineering(data):\n",
    "    selected_features = ['name', 'position', 'team_x', 'value', 'goals_scored', 'assists', 'clean_sheets','total_points', 'yellow_cards', 'red_cards']\n",
    "    data = data[selected_features].copy()\n",
    "    data['total_cards'] = data['yellow_cards'] + data['red_cards']\n",
    "    return data"
   ],
   "metadata": {
    "collapsed": false,
    "ExecuteTime": {
     "end_time": "2024-02-29T13:50:38.529477Z",
     "start_time": "2024-02-29T13:50:38.493572Z"
    }
   },
   "id": "a46af94084e5bf9d"
  },
  {
   "cell_type": "code",
   "execution_count": 4,
   "outputs": [],
   "source": [
    "# Division des données en ensembles d'entraînement et de test\n",
    "def split_data(data):\n",
    "    X = data.drop(columns=['goals_scored', 'assists', 'total_points'])\n",
    "    y = data['total_points']\n",
    "    X_encoded = pd.get_dummies(X)\n",
    "    X_train, X_test, y_train, y_test = train_test_split(X_encoded, y, test_size=0.2, random_state=42)\n",
    "    return X_train, X_test, y_train, y_test"
   ],
   "metadata": {
    "collapsed": false,
    "ExecuteTime": {
     "end_time": "2024-02-29T13:50:39.933382Z",
     "start_time": "2024-02-29T13:50:39.912667Z"
    }
   },
   "id": "92a5d3b1f08aae2a"
  },
  {
   "cell_type": "code",
   "execution_count": 5,
   "outputs": [],
   "source": [
    "# Entraînement du modèle de gradient boosting\n",
    "def train_gradient_boosting(X_train, y_train):\n",
    "    model = GradientBoostingRegressor()\n",
    "    model.fit(X_train, y_train)\n",
    "    return model"
   ],
   "metadata": {
    "collapsed": false,
    "ExecuteTime": {
     "end_time": "2024-02-29T13:50:41.708217Z",
     "start_time": "2024-02-29T13:50:41.673162Z"
    }
   },
   "id": "e858147621523897"
  },
  {
   "cell_type": "code",
   "execution_count": 6,
   "outputs": [],
   "source": [
    "# Évaluation du modèle\n",
    "def evaluate_model(model, X_test, y_test):\n",
    "    y_pred = model.predict(X_test)\n",
    "    mse = mean_squared_error(y_test, y_pred)\n",
    "    r2 = r2_score(y_test, y_pred)\n",
    "    mae = mean_absolute_error(y_test, y_pred)\n",
    "    return mse, r2, mae"
   ],
   "metadata": {
    "collapsed": false,
    "ExecuteTime": {
     "end_time": "2024-02-29T13:50:43.094530Z",
     "start_time": "2024-02-29T13:50:43.075229Z"
    }
   },
   "id": "c7e2c539ce2ce579"
  },
  {
   "cell_type": "code",
   "execution_count": 7,
   "outputs": [],
   "source": [
    "# Chargement des données\n",
    "file_path = \"/Users/melusinecaillard/RSPL/data/cleaned_merged_seasons.csv\"\n",
    "data = load_and_preprocess_data(file_path)\n",
    "data = feature_engineering(data)"
   ],
   "metadata": {
    "collapsed": false,
    "ExecuteTime": {
     "end_time": "2024-02-29T13:50:46.021007Z",
     "start_time": "2024-02-29T13:50:44.396715Z"
    }
   },
   "id": "d439ff3c40c057db"
  },
  {
   "cell_type": "code",
   "execution_count": 8,
   "outputs": [],
   "source": [
    "# Division des données en ensembles d'entraînement et de test\n",
    "X_train, X_test, y_train, y_test = split_data(data)"
   ],
   "metadata": {
    "collapsed": false,
    "ExecuteTime": {
     "end_time": "2024-02-29T13:50:48.867924Z",
     "start_time": "2024-02-29T13:50:47.229578Z"
    }
   },
   "id": "5fec48769354c5ea"
  },
  {
   "cell_type": "code",
   "execution_count": 9,
   "outputs": [],
   "source": [
    "# Entraînement du modèle de gradient boosting\n",
    "model = train_gradient_boosting(X_train, y_train)"
   ],
   "metadata": {
    "collapsed": false,
    "ExecuteTime": {
     "end_time": "2024-02-29T13:53:00.873987Z",
     "start_time": "2024-02-29T13:50:49.843071Z"
    }
   },
   "id": "c497c33c90280087"
  },
  {
   "cell_type": "code",
   "execution_count": 10,
   "outputs": [
    {
     "name": "stdout",
     "output_type": "stream",
     "text": [
      "Mean Squared Error: 3.253635747493749\n",
      "R-squared: 0.44884288452112187\n",
      "Mean Absolute Error: 1.0143368820600736\n"
     ]
    }
   ],
   "source": [
    "# Évaluation de la performance du modèle\n",
    "mse, r2, mae = evaluate_model(model, X_test, y_test)\n",
    "print(\"Mean Squared Error:\", mse)\n",
    "print(\"R-squared:\", r2)\n",
    "print(\"Mean Absolute Error:\", mae)"
   ],
   "metadata": {
    "collapsed": false,
    "ExecuteTime": {
     "end_time": "2024-02-29T13:53:09.430698Z",
     "start_time": "2024-02-29T13:53:08.517170Z"
    }
   },
   "id": "3e93cb04c6f2db25"
  },
  {
   "cell_type": "code",
   "execution_count": 11,
   "outputs": [
    {
     "name": "stdout",
     "output_type": "stream",
     "text": [
      "Cross-validated RMSE scores: [1.73793187 1.7648511  1.81582438 1.78462249 1.79012545]\n",
      "Mean RMSE: 1.7786710573305924\n"
     ]
    }
   ],
   "source": [
    "# Validation croisée\n",
    "cv_scores = cross_val_score(model, X_train, y_train, cv=5, scoring='neg_mean_squared_error')\n",
    "rmse_scores = (-cv_scores)**0.5\n",
    "print(\"Cross-validated RMSE scores:\", rmse_scores)\n",
    "print(\"Mean RMSE:\", rmse_scores.mean())"
   ],
   "metadata": {
    "collapsed": false,
    "ExecuteTime": {
     "end_time": "2024-02-29T14:02:58.159933Z",
     "start_time": "2024-02-29T13:54:07.994819Z"
    }
   },
   "id": "5b5b899b8bea7fbb"
  },
  {
   "cell_type": "code",
   "execution_count": null,
   "outputs": [],
   "source": [],
   "metadata": {
    "collapsed": false
   },
   "id": "e88c3f6dae11f6d3"
  }
 ],
 "metadata": {
  "kernelspec": {
   "display_name": "Python 3",
   "language": "python",
   "name": "python3"
  },
  "language_info": {
   "codemirror_mode": {
    "name": "ipython",
    "version": 2
   },
   "file_extension": ".py",
   "mimetype": "text/x-python",
   "name": "python",
   "nbconvert_exporter": "python",
   "pygments_lexer": "ipython2",
   "version": "2.7.6"
  }
 },
 "nbformat": 4,
 "nbformat_minor": 5
}
